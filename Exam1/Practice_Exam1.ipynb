{
 "cells": [
  {
   "cell_type": "markdown",
   "metadata": {
    "collapsed": false
   },
   "source": [
    "## Warm-up 1"
   ]
  },
  {
   "cell_type": "code",
   "execution_count": 17,
   "metadata": {
    "ExecuteTime": {
     "end_time": "2024-02-22T17:45:53.917459300Z",
     "start_time": "2024-02-22T17:45:53.914452500Z"
    },
    "collapsed": false
   },
   "outputs": [],
   "source": [
    "def F(n):\n",
    "    if n == 0:\n",
    "        return 1\n",
    "    else:\n",
    "        return F(n-1) * n\n",
    "    \n",
    "def F_iterative(n):\n",
    "    result = 1\n",
    "    for i in range(1, n+1):\n",
    "        result *= i\n",
    "    return result"
   ]
  },
  {
   "cell_type": "code",
   "execution_count": 18,
   "metadata": {
    "ExecuteTime": {
     "end_time": "2024-02-22T17:45:55.712992700Z",
     "start_time": "2024-02-22T17:45:55.706985200Z"
    },
    "collapsed": false
   },
   "outputs": [
    {
     "name": "stdout",
     "output_type": "stream",
     "text": [
      "120\n"
     ]
    }
   ],
   "source": [
    "print(F(5))"
   ]
  },
  {
   "cell_type": "markdown",
   "metadata": {
    "collapsed": false
   },
   "source": [
    "## Warm up 2"
   ]
  },
  {
   "cell_type": "code",
   "execution_count": 1,
   "metadata": {
    "ExecuteTime": {
     "end_time": "2024-02-22T17:46:58.490592600Z",
     "start_time": "2024-02-22T17:46:58.486074300Z"
    },
    "collapsed": false
   },
   "outputs": [
    {
     "name": "stdout",
     "output_type": "stream",
     "text": [
      "B(10) (iterative): 4\n"
     ]
    }
   ],
   "source": [
    "def B(n):\n",
    "    if n == 1: return 1\n",
    "    else: return B(n//2) + 1 \n",
    "\n",
    "def B_iterative(n):\n",
    "    result = 0\n",
    "    while n >= 1:\n",
    "        result += 1\n",
    "        n //= 2\n",
    "\n",
    "    return result\n",
    "\n",
    "# Test the iterative implementation\n",
    "n_value = 10  # Replace with the desired value\n",
    "result_iterative = B_iterative(n_value)\n",
    "print(f\"B({n_value}) (iterative): {result_iterative}\")"
   ]
  },
  {
   "cell_type": "markdown",
   "metadata": {
    "collapsed": false
   },
   "source": [
    "### Ex 1-1"
   ]
  },
  {
   "cell_type": "markdown",
   "metadata": {
    "collapsed": false
   },
   "source": [
    "### Ex 1-2 (LU Decomposition Inverse Matrix)"
   ]
  },
  {
   "cell_type": "code",
   "execution_count": 13,
   "metadata": {
    "ExecuteTime": {
     "end_time": "2024-02-22T17:35:39.123951800Z",
     "start_time": "2024-02-22T17:35:39.115444400Z"
    },
    "collapsed": false
   },
   "outputs": [],
   "source": [
    "def forwardSubstitution(L, b):\n",
    "    n = len(L)\n",
    "    y = [0 for _ in range(n)]\n",
    "\n",
    "    for i in range(n):\n",
    "        y[i] = b[i]\n",
    "        for j in range(i):\n",
    "            y[i] -= L[i][j] * y[j]\n",
    "        y[i] = y[i] / L[i][i]\n",
    "\n",
    "    return y\n",
    "\n",
    "def backSubstitution(U, y):\n",
    "    \n",
    "    n = len(U)\n",
    "\n",
    "    #Create a list to store the solution\n",
    "    x = [0 for i in range(n)]\n",
    "\n",
    "    #Calculate the solution\n",
    "    for i in range(n-1, -1, -1):\n",
    "        x[i] = y[i] / U[i][i]\n",
    "        for j in range(i-1, -1, -1):\n",
    "            y[j] -= U[j][i] * x[i]\n",
    "\n",
    "    return x\n",
    "\n",
    "def LU_Decomposition(A):\n",
    "    n = len(A)\n",
    "    L = [[0 for _ in range(n)] for _ in range(n)]\n",
    "    U = [[0 for _ in range(n)] for _ in range(n)]\n",
    "\n",
    "    for i in range(n):\n",
    "        L[i][i] = 1\n",
    "\n",
    "    for i in range(n):\n",
    "        for j in range(i, n):\n",
    "            s1 = sum(L[i][k] * U[k][j] for k in range(i))\n",
    "            U[i][j] = A[i][j] - s1\n",
    "\n",
    "        for j in range(i, n):\n",
    "            s2 = sum(L[j][k] * U[k][i] for k in range(i))\n",
    "            L[j][i] = (A[j][i] - s2) / U[i][i]\n",
    "\n",
    "    return L, U\n",
    "\n",
    "def LU_PseudoInverse(A):\n",
    "\n",
    "    # A = LU\n",
    "    L, U = LU_Decomposition(A)\n",
    "\n",
    "    # I is the identity matrix\n",
    "\n",
    "    n = len(A)\n",
    "    identity_matrix = []\n",
    "    for row in range(n):\n",
    "        identity_matrix.append([0] * n)\n",
    "        identity_matrix[row][row] = 1\n",
    "\n",
    "    # LUx = I\n",
    "\n",
    "    # Forward Substitution\n",
    "    # find y from Ly = I\n",
    "    y = []\n",
    "    for j in range(n):\n",
    "        y.append(forwardSubstitution(L, identity_matrix[j]))\n",
    "\n",
    "    # find x from Ux = y\n",
    "    # Backward Substitution\n",
    "    x = []\n",
    "    for j in range(n):\n",
    "        x.append(backSubstitution(U, y[j]))\n",
    "\n",
    "    return x"
   ]
  },
  {
   "cell_type": "code",
   "execution_count": 12,
   "metadata": {
    "ExecuteTime": {
     "end_time": "2024-02-22T17:35:37.161800400Z",
     "start_time": "2024-02-22T17:35:36.971912500Z"
    },
    "collapsed": false
   },
   "outputs": [
    {
     "name": "stdout",
     "output_type": "stream",
     "text": [
      "The Inverse of A is :\n",
      "[[ 0.8 -0.2]\n",
      " [-0.6  0.4]]\n"
     ]
    }
   ],
   "source": [
    "# Test Case 1 - LU Pseudo Inverse\n",
    "\n",
    "import numpy as np\n",
    "\n",
    "A = [[2,3], [1,4] ]\n",
    "\n",
    "Inverse_A = LU_PseudoInverse(A)\n",
    "Inverse_A = np.array(Inverse_A)\n",
    "print(\"The Inverse of A is :\")\n",
    "print(Inverse_A)"
   ]
  },
  {
   "cell_type": "markdown",
   "metadata": {},
   "source": [
    "### Fast Food (Ex 1-3)"
   ]
  },
  {
   "cell_type": "code",
   "execution_count": 39,
   "metadata": {},
   "outputs": [],
   "source": [
    "def knapsack(sex, budget):\n",
    "    \n",
    "    ## Knapsack problem\n",
    "    from itertools import permutations\n",
    "\n",
    "    # Initialize the variables\n",
    "    food = [\"Burger\", \"Pizza\", \"Pasta\", \"Noodles\", \"Sandwich\"]\n",
    "    calories = [3000, 1000, 4000, 2000, 500]\n",
    "    price = [5000, 100, 80, 60, 40]\n",
    "\n",
    "    if sex == \"m\":\n",
    "        need_calories = 2000\n",
    "    elif sex == \"f\":\n",
    "        need_calories = 1500\n",
    "    else: # Exception\n",
    "        raise ValueError(\"Sex can only be 'm' or 'f'\")  \n",
    "\n",
    "\n",
    "    # Choose 3 meals that are within the budget\n",
    "\n",
    "    indexes = list(permutations(range(5), 3))\n",
    "    \n",
    "    ans = [] \n",
    "\n",
    "    for epoch in indexes:\n",
    "\n",
    "        total_calories = 0\n",
    "        total_price = 0\n",
    "\n",
    "        for number in epoch:\n",
    "            total_calories += calories[number]\n",
    "            total_price += price[number]\n",
    "\n",
    "        if total_price <= budget and total_calories >= need_calories:\n",
    "\n",
    "                \n",
    "            print(\"Total Calories : \", total_calories)\n",
    "            print(\"Total Price : \", total_price)\n",
    "            ans.append([epoch, total_calories, total_price])\n",
    "\n",
    "\n",
    "    # Find the best combination\n",
    "    max_val = 0\n",
    "    print(ans)\n",
    "\n",
    "    best_comb = []\n",
    "    for i in ans:\n",
    "        value = i[1] * i[2]\n",
    "        print(value)\n",
    "        \n",
    "        if value >= max_val:\n",
    "            max_val = value\n",
    "            best_comb = i[0]\n",
    "\n",
    "    best_food = [food[i] for i in best_comb]\n",
    "    return best_food"
   ]
  },
  {
   "cell_type": "code",
   "execution_count": 9,
   "metadata": {
    "ExecuteTime": {
     "end_time": "2024-02-22T17:33:17.426371200Z",
     "start_time": "2024-02-22T17:33:14.221195700Z"
    },
    "collapsed": false
   },
   "outputs": [
    {
     "ename": "ValueError",
     "evalue": "invalid literal for int() with base 10: ''",
     "output_type": "error",
     "traceback": [
      "\u001b[1;31m---------------------------------------------------------------------------\u001b[0m",
      "\u001b[1;31mValueError\u001b[0m                                Traceback (most recent call last)",
      "Cell \u001b[1;32mIn[9], line 3\u001b[0m\n\u001b[0;32m      1\u001b[0m \u001b[38;5;66;03m## Input\u001b[39;00m\n\u001b[0;32m      2\u001b[0m sex \u001b[38;5;241m=\u001b[39m \u001b[38;5;28minput\u001b[39m(\u001b[38;5;124m\"\u001b[39m\u001b[38;5;124mEnter your sex (m/f): \u001b[39m\u001b[38;5;124m\"\u001b[39m)\n\u001b[1;32m----> 3\u001b[0m budget \u001b[38;5;241m=\u001b[39m \u001b[38;5;28mint\u001b[39m(\u001b[38;5;28minput\u001b[39m(\u001b[38;5;124m\"\u001b[39m\u001b[38;5;124mEnter your budget : \u001b[39m\u001b[38;5;124m\"\u001b[39m))\n\u001b[0;32m      5\u001b[0m best_combo \u001b[38;5;241m=\u001b[39m knapsack(sex, budget)\n\u001b[0;32m      7\u001b[0m meal_time \u001b[38;5;241m=\u001b[39m {\u001b[38;5;241m0\u001b[39m:\u001b[38;5;124m\"\u001b[39m\u001b[38;5;124mMorning\u001b[39m\u001b[38;5;124m\"\u001b[39m, \u001b[38;5;241m1\u001b[39m:\u001b[38;5;124m\"\u001b[39m\u001b[38;5;124mAfternoon\u001b[39m\u001b[38;5;124m\"\u001b[39m, \u001b[38;5;241m2\u001b[39m:\u001b[38;5;124m\"\u001b[39m\u001b[38;5;124mEvening\u001b[39m\u001b[38;5;124m\"\u001b[39m}\n",
      "\u001b[1;31mValueError\u001b[0m: invalid literal for int() with base 10: ''"
     ]
    }
   ],
   "source": [
    "## Input\n",
    "sex = input(\"Enter your sex (m/f): \")\n",
    "budget = int(input(\"Enter your budget : \"))\n",
    "\n",
    "best_combo = knapsack(sex, budget)\n",
    "\n",
    "meal_time = {0:\"Morning\", 1:\"Afternoon\", 2:\"Evening\"}\n",
    "\n",
    "print(best_combo)\n",
    "\n",
    "for food in best_combo:\n",
    "\n",
    "    print(\"You should eat\", food, \"in the\", meal_time[best_combo.index(food)], \"time\")"
   ]
  },
  {
   "cell_type": "markdown",
   "metadata": {},
   "source": [
    "## School Bus Travel (Ex 1-4)"
   ]
  },
  {
   "cell_type": "code",
   "execution_count": 8,
   "metadata": {
    "ExecuteTime": {
     "end_time": "2024-02-22T17:32:52.400426900Z",
     "start_time": "2024-02-22T17:32:52.393912700Z"
    }
   },
   "outputs": [
    {
     "name": "stdout",
     "output_type": "stream",
     "text": [
      "Optimal Route :  (0, 1, 2, 3)\n",
      "Total Time :  24\n"
     ]
    }
   ],
   "source": [
    "from itertools import permutations\n",
    "\n",
    "# Place A to Place D\n",
    "# 4 students\n",
    "routes = [\n",
    "    [3, 4, 5, 6],\n",
    "    [4, 5, 6, 7],\n",
    "    [5, 6, 7, 8],\n",
    "    [6, 7, 8, 9]\n",
    "]\n",
    "\n",
    "places = [\"A\", \"B\", \"C\", \"D\"]\n",
    "speed = 40\n",
    "\n",
    "student_indices = range(0, len(routes))\n",
    "all_permutations = permutations(student_indices)\n",
    "\n",
    "min_total_time = float('inf')\n",
    "optimal_route = None\n",
    "\n",
    "for perms in all_permutations:\n",
    "    total_time = 0\n",
    "\n",
    "    # perms = (0,1,3,2)\n",
    "    for index, route in enumerate(perms):\n",
    "        total_time += routes[route][index]\n",
    "        \n",
    "    if total_time < min_total_time:\n",
    "        min_total_time = total_time\n",
    "        optimal_route = perms\n",
    "        \n",
    "        \n",
    "print(\"Optimal Route : \", optimal_route)\n",
    "print(\"Total Time : \", min_total_time)"
   ]
  },
  {
   "cell_type": "markdown",
   "metadata": {},
   "source": [
    "### DNA Sequence (Ex 1-5)"
   ]
  },
  {
   "cell_type": "code",
   "execution_count": 7,
   "metadata": {
    "ExecuteTime": {
     "end_time": "2024-02-22T17:32:32.023584Z",
     "start_time": "2024-02-22T17:32:32.020069500Z"
    }
   },
   "outputs": [
    {
     "name": "stdout",
     "output_type": "stream",
     "text": [
      "Percent :  0.5555555555555556\n"
     ]
    }
   ],
   "source": [
    "def DNA_comparison(real_DNA, DNA):\n",
    "    score = 0\n",
    "    for i in range(len(real_DNA)):\n",
    "        if real_DNA[i] == DNA[i]:\n",
    "            score += 1\n",
    "    return score/ len(real_DNA)\n",
    "\n",
    "real_DNA = \"ACTCGTACG\"\n",
    "print(\"Percent : \" ,DNA_comparison(real_DNA, \"ACCCCCCCG\"))"
   ]
  },
  {
   "cell_type": "code",
   "execution_count": null,
   "metadata": {},
   "outputs": [],
   "source": []
  }
 ],
 "metadata": {
  "kernelspec": {
   "display_name": "Python 3",
   "language": "python",
   "name": "python3"
  },
  "language_info": {
   "codemirror_mode": {
    "name": "ipython",
    "version": 3
   },
   "file_extension": ".py",
   "mimetype": "text/x-python",
   "name": "python",
   "nbconvert_exporter": "python",
   "pygments_lexer": "ipython3",
   "version": "3.11.4"
  }
 },
 "nbformat": 4,
 "nbformat_minor": 2
}
