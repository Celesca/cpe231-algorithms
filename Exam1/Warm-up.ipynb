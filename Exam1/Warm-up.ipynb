{
 "cells": [
  {
   "cell_type": "code",
   "execution_count": 9,
   "metadata": {},
   "outputs": [],
   "source": [
    "# Recursive Algorithm\n",
    "\n",
    "def Q(n):\n",
    "    if n <= 1:\n",
    "        return 1\n",
    "    else:\n",
    "        return Q(n-1) + n/(n*n)"
   ]
  },
  {
   "cell_type": "code",
   "execution_count": 11,
   "metadata": {},
   "outputs": [],
   "source": [
    "# Iterative Algorithm\n",
    "\n",
    "def Q_iterative(n):\n",
    "    total = 0\n",
    "    while n > 1:\n",
    "        total += n / (n*n)\n",
    "        n -= 1\n",
    "    total += 1\n",
    "    return total"
   ]
  },
  {
   "cell_type": "code",
   "execution_count": 12,
   "metadata": {},
   "outputs": [
    {
     "name": "stdout",
     "output_type": "stream",
     "text": [
      "1\n",
      "1\n",
      "1\n",
      "1\n",
      "1.5\n",
      "1.5\n",
      "1.8333333333333333\n",
      "1.8333333333333333\n",
      "2.083333333333333\n",
      "2.083333333333333\n",
      "2.283333333333333\n",
      "2.283333333333333\n",
      "2.4499999999999997\n",
      "2.45\n",
      "2.5928571428571425\n",
      "2.5928571428571425\n",
      "2.7178571428571425\n",
      "2.7178571428571425\n",
      "2.8289682539682537\n",
      "2.828968253968254\n"
     ]
    }
   ],
   "source": [
    "num_list = [i for i in range(10)]\n",
    "\n",
    "for number in num_list:\n",
    "    print(Q(number))\n",
    "    print(Q_iterative(number))"
   ]
  },
  {
   "cell_type": "code",
   "execution_count": null,
   "metadata": {},
   "outputs": [],
   "source": []
  }
 ],
 "metadata": {
  "kernelspec": {
   "display_name": "Python 3",
   "language": "python",
   "name": "python3"
  },
  "language_info": {
   "codemirror_mode": {
    "name": "ipython",
    "version": 3
   },
   "file_extension": ".py",
   "mimetype": "text/x-python",
   "name": "python",
   "nbconvert_exporter": "python",
   "pygments_lexer": "ipython3",
   "version": "3.11.4"
  }
 },
 "nbformat": 4,
 "nbformat_minor": 2
}
