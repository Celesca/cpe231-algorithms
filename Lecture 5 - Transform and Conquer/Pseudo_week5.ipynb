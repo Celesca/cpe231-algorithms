{
 "cells": [
  {
   "cell_type": "markdown",
   "metadata": {},
   "source": [
    "# Instance Simplication"
   ]
  },
  {
   "cell_type": "code",
   "execution_count": 114,
   "metadata": {},
   "outputs": [],
   "source": [
    "def UniqueElement(my_list):\n",
    "    n = len(my_list)\n",
    "    for i in range(n):\n",
    "        for j in range(i+1, n):\n",
    "            if my_list[i] == my_list[j]:\n",
    "                return False\n",
    "    return True"
   ]
  },
  {
   "cell_type": "code",
   "execution_count": 115,
   "metadata": {},
   "outputs": [
    {
     "name": "stdout",
     "output_type": "stream",
     "text": [
      "All elements are distinct : False\n"
     ]
    }
   ],
   "source": [
    "# Test case : All element are not distinct\n",
    "my_list = [12, 38, 42, 64, 53, 43, 55, 34, 45, 64, 90, 82]\n",
    "check = UniqueElement(my_list)\n",
    "print('All elements are distinct :',check)"
   ]
  },
  {
   "cell_type": "code",
   "execution_count": 116,
   "metadata": {},
   "outputs": [
    {
     "name": "stdout",
     "output_type": "stream",
     "text": [
      "All elements are distinct : True\n"
     ]
    }
   ],
   "source": [
    "# Test case : All element are distinct\n",
    "my_list = [5, 12, 38, 40, 64, 55, 43, 56, 34, 45, 91, 54]\n",
    "check = UniqueElement(my_list)\n",
    "print('All elements are distinct :',check)"
   ]
  },
  {
   "cell_type": "markdown",
   "metadata": {},
   "source": [
    "# Presorting"
   ]
  },
  {
   "cell_type": "code",
   "execution_count": 117,
   "metadata": {},
   "outputs": [],
   "source": [
    "def BubbleSort(my_list):\n",
    "    n = len(my_list)\n",
    "    for i in range(n-1):\n",
    "        for j in range(0, n-i-1):\n",
    "            if my_list[j] > my_list[j+1]:\n",
    "                my_list[j], my_list[j+1] = my_list[j+1], my_list[j]\n",
    "\n",
    "def PresortUniqueElements(my_list):\n",
    "    BubbleSort(my_list)\n",
    "    print(\"My_list after sorted :\",my_list)\n",
    "    n = len(my_list)\n",
    "    for i in range(n-1):\n",
    "        if my_list[i] == my_list[i+1]:\n",
    "            return False\n",
    "    return True"
   ]
  },
  {
   "cell_type": "code",
   "execution_count": 118,
   "metadata": {},
   "outputs": [
    {
     "name": "stdout",
     "output_type": "stream",
     "text": [
      "My_list after sorted : [12, 34, 38, 42, 43, 45, 53, 55, 64, 64, 82, 90]\n",
      "All elements are distinct : False\n"
     ]
    }
   ],
   "source": [
    "# Test case : all element are not distinct\n",
    "my_list = [12, 38, 42, 64, 53, 43, 55, 34, 45, 64, 90, 82]\n",
    "check = PresortUniqueElements(my_list)\n",
    "print('All elements are distinct :',check)"
   ]
  },
  {
   "cell_type": "code",
   "execution_count": 119,
   "metadata": {},
   "outputs": [
    {
     "name": "stdout",
     "output_type": "stream",
     "text": [
      "My_list after sorted : [5, 12, 34, 38, 40, 43, 45, 54, 55, 56, 64, 91]\n",
      "All elements are distinct : True\n"
     ]
    }
   ],
   "source": [
    "# Test case : all element are distinct\n",
    "my_list = [5, 12, 38, 40, 64, 55, 43, 56, 34, 45, 91, 54]\n",
    "check = PresortUniqueElements(my_list)\n",
    "print('All elements are distinct :',check)"
   ]
  },
  {
   "cell_type": "markdown",
   "metadata": {},
   "source": [
    "# Presorting Mode"
   ]
  },
  {
   "cell_type": "code",
   "execution_count": 36,
   "metadata": {},
   "outputs": [],
   "source": [
    "def PresortMode(my_list):\n",
    "    BubbleSort(my_list)\n",
    "    n = len(my_list)\n",
    "    i = 0\n",
    "    mode_freq = 0\n",
    "    while i <= n-1:\n",
    "        run_len = 1\n",
    "        run_value = my_list[i]\n",
    "        while i+run_len <= n-1 and my_list[i+run_len] == run_value:\n",
    "            run_len += 1\n",
    "        if run_len > mode_freq:\n",
    "            mode_freq = run_len\n",
    "            mode_value = run_value\n",
    "        i += run_len\n",
    "    return mode_value"
   ]
  },
  {
   "cell_type": "code",
   "execution_count": 38,
   "metadata": {},
   "outputs": [
    {
     "name": "stdout",
     "output_type": "stream",
     "text": [
      "The array's mode is 3\n"
     ]
    }
   ],
   "source": [
    "# Test case\n",
    "my_list = [6,3,2,9,1,3,6,6,2,3,1,3,2,6,9,3,2,1,3]\n",
    "check = PresortMode(my_list)\n",
    "print(\"The array's mode is\", check)"
   ]
  },
  {
   "cell_type": "markdown",
   "metadata": {},
   "source": [
    "# Gaussian Elimination"
   ]
  },
  {
   "cell_type": "markdown",
   "metadata": {},
   "source": [
    "#### Forward Elimination"
   ]
  },
  {
   "cell_type": "code",
   "execution_count": 100,
   "metadata": {},
   "outputs": [],
   "source": [
    "def ForwardElimination(A,B):\n",
    "    n = len(A)\n",
    "    for i in range(n):\n",
    "        A[i,-1] = B[i]\n",
    "    for i in range(n-1):\n",
    "        for j in range(i+1 ,n):\n",
    "            for k in range(n+1):\n",
    "                if k < A.shape[1]: \n",
    "                    A[j,k] = A[j,k] - (A[j,i] / A[i,i]) * A[i,k]"
   ]
  },
  {
   "cell_type": "code",
   "execution_count": 101,
   "metadata": {},
   "outputs": [
    {
     "name": "stdout",
     "output_type": "stream",
     "text": [
      "Matrix 'A' after Forward Elimination:\n",
      " [[  3   1   4]\n",
      " [  0   2   5]\n",
      " [  0   0 -10]]\n"
     ]
    }
   ],
   "source": [
    "# Test case\n",
    "import numpy as np\n",
    "A = np.array([[3,  1, 1],\n",
    "              [-1, 2, 0],\n",
    "              [4, 5, -2]], dtype=int)\n",
    "\n",
    "B = np.array([4, 5, -10], dtype=int)\n",
    "\n",
    "ForwardElimination(A, B)\n",
    "print(\"Matrix 'A' after Forward Elimination:\" + \"\\n\", A)"
   ]
  },
  {
   "cell_type": "markdown",
   "metadata": {},
   "source": [
    "#### Better Forward Elimination"
   ]
  },
  {
   "cell_type": "code",
   "execution_count": 112,
   "metadata": {},
   "outputs": [],
   "source": [
    "def BetterForwardElimination(A,B):\n",
    "    n = len(A)\n",
    "    for i in range(n):\n",
    "        A[i,-1] = B[i]\n",
    "    for i in range(n-1):\n",
    "        pivotrow = i\n",
    "        for j in range(i+1, n):\n",
    "            if abs(A[j,i]) > abs(A[pivotrow,i]):\n",
    "                pivotrow = j\n",
    "        for k in range(i, n+1):\n",
    "            if k < A.shape[1]: \n",
    "                A[i,k], A[pivotrow,k] = A[pivotrow,k], A[i,k]\n",
    "        for j in range(i+1, n):\n",
    "            temp = A[j,i] / A[i,i]\n",
    "            for k in range(n+1):\n",
    "                if k < A.shape[1]: \n",
    "                    A[j,k] = A[j,k] - (temp * A[i,k])"
   ]
  },
  {
   "cell_type": "code",
   "execution_count": 113,
   "metadata": {},
   "outputs": [
    {
     "name": "stdout",
     "output_type": "stream",
     "text": [
      "Matrix 'A' after Forward Elimination:\n",
      " [[  4   5 -10]\n",
      " [  0   3   2]\n",
      " [  0   0  12]]\n"
     ]
    }
   ],
   "source": [
    "# Test case\n",
    "A = np.array([[3,  1, 1],\n",
    "              [-1, 2, 0],\n",
    "              [4, 5, -2]], dtype=int)\n",
    "\n",
    "B = np.array([4, 5, -10], dtype=int)\n",
    "\n",
    "BetterForwardElimination(A, B)\n",
    "print(\"Matrix 'A' after Forward Elimination:\" + \"\\n\", A)"
   ]
  }
 ],
 "metadata": {
  "kernelspec": {
   "display_name": "Python 3",
   "language": "python",
   "name": "python3"
  },
  "language_info": {
   "codemirror_mode": {
    "name": "ipython",
    "version": 3
   },
   "file_extension": ".py",
   "mimetype": "text/x-python",
   "name": "python",
   "nbconvert_exporter": "python",
   "pygments_lexer": "ipython3",
   "version": "3.11.8"
  }
 },
 "nbformat": 4,
 "nbformat_minor": 2
}
