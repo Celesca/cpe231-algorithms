{
 "cells": [
  {
   "cell_type": "markdown",
   "source": [
    "# Problem Reduction"
   ],
   "metadata": {
    "collapsed": false
   },
   "id": "9b60c67ec469226e"
  },
  {
   "cell_type": "markdown",
   "source": [
    "### Least Common Mutliple (LCM) Time Experimental"
   ],
   "metadata": {
    "collapsed": false
   },
   "id": "a557d63333d9c77"
  },
  {
   "cell_type": "code",
   "outputs": [],
   "source": [
    "# Normal Least common multiple\n",
    "\n",
    "def prime_factorization(number):\n",
    "    factors = []\n",
    "    for i in range(2, number):\n",
    "        while number % i == 0:\n",
    "            factors.append(i)\n",
    "            number = number / i\n",
    "    return factors\n",
    "\n",
    "def lcm(a, b):\n",
    "    \n",
    "    a_list = prime_factorization(a)\n",
    "    b_list = prime_factorization(b)\n",
    "    \n",
    "    common = []\n",
    "    for value in a_list:\n",
    "        if value in b_list:\n",
    "            common.append(value)\n",
    "            b_list.remove(value)\n",
    "        else:\n",
    "            common.append(value)\n",
    "            \n",
    "    common.extend(b_list)\n",
    "    \n",
    "    total = 1\n",
    "    for value in common:\n",
    "        total *= value\n",
    "        \n",
    "    return total"
   ],
   "metadata": {
    "collapsed": false,
    "ExecuteTime": {
     "end_time": "2024-02-17T16:39:18.880383100Z",
     "start_time": "2024-02-17T16:39:18.878863700Z"
    }
   },
   "id": "141335111ef32e97",
   "execution_count": 32
  },
  {
   "cell_type": "code",
   "outputs": [
    {
     "name": "stdout",
     "output_type": "stream",
     "text": [
      "40\n"
     ]
    }
   ],
   "source": [
    "# Test Case 1 - Normal LCM\n",
    "print(lcm(20, 40)) # 5"
   ],
   "metadata": {
    "collapsed": false,
    "ExecuteTime": {
     "end_time": "2024-02-17T16:39:19.890079400Z",
     "start_time": "2024-02-17T16:39:19.882086500Z"
    }
   },
   "id": "38222d5506457e1f",
   "execution_count": 33
  },
  {
   "cell_type": "code",
   "outputs": [
    {
     "name": "stdout",
     "output_type": "stream",
     "text": [
      "15000\n"
     ]
    }
   ],
   "source": [
    "# Test Case 2 - Normal LCM\n",
    "print(lcm(3750, 15000)) # 60"
   ],
   "metadata": {
    "collapsed": false,
    "ExecuteTime": {
     "end_time": "2024-02-17T16:39:50.601434500Z",
     "start_time": "2024-02-17T16:39:50.594437400Z"
    }
   },
   "id": "f18ec695f64a6320",
   "execution_count": 40
  },
  {
   "cell_type": "code",
   "outputs": [],
   "source": [
    "# Least Common Multiple using problem reduction by GCD\n",
    "def gcd(m, n):\n",
    "    while m % n != 0:\n",
    "        old_m = m\n",
    "        old_n = n\n",
    "        \n",
    "        m = old_n\n",
    "        n = old_m % old_n\n",
    "    return n\n",
    "\n",
    "def lcm(a,b):\n",
    "    return a * b // gcd(a,b)"
   ],
   "metadata": {
    "collapsed": false,
    "ExecuteTime": {
     "end_time": "2024-02-17T16:39:51.161756300Z",
     "start_time": "2024-02-17T16:39:51.156764300Z"
    }
   },
   "id": "6c7aa65319a16961",
   "execution_count": 41
  },
  {
   "cell_type": "code",
   "outputs": [
    {
     "name": "stdout",
     "output_type": "stream",
     "text": [
      "40\n"
     ]
    }
   ],
   "source": [
    "# Test Case 1 - LCM using GCD\n",
    "print(lcm(20, 40)) # 40"
   ],
   "metadata": {
    "collapsed": false,
    "ExecuteTime": {
     "end_time": "2024-02-17T16:39:51.610965300Z",
     "start_time": "2024-02-17T16:39:51.606967600Z"
    }
   },
   "id": "308a328ca7f6b712",
   "execution_count": 42
  },
  {
   "cell_type": "code",
   "outputs": [
    {
     "name": "stdout",
     "output_type": "stream",
     "text": [
      "1785000\n"
     ]
    }
   ],
   "source": [
    "# Test Case 2 - LCM using GCD\n",
    "print(lcm(3570, 15000)) # 60"
   ],
   "metadata": {
    "collapsed": false,
    "ExecuteTime": {
     "end_time": "2024-02-17T16:39:52.002012100Z",
     "start_time": "2024-02-17T16:39:51.997015300Z"
    }
   },
   "id": "e5c2894fafee80f",
   "execution_count": 43
  },
  {
   "cell_type": "code",
   "outputs": [],
   "source": [],
   "metadata": {
    "collapsed": false
   },
   "id": "7e87e68ec7c1c4b5"
  }
 ],
 "metadata": {
  "kernelspec": {
   "display_name": "Python 3",
   "language": "python",
   "name": "python3"
  },
  "language_info": {
   "codemirror_mode": {
    "name": "ipython",
    "version": 2
   },
   "file_extension": ".py",
   "mimetype": "text/x-python",
   "name": "python",
   "nbconvert_exporter": "python",
   "pygments_lexer": "ipython2",
   "version": "2.7.6"
  }
 },
 "nbformat": 4,
 "nbformat_minor": 5
}
