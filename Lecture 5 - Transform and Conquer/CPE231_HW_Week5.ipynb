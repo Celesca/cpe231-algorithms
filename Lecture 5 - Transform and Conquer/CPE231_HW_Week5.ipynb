{
 "cells": [
  {
   "cell_type": "markdown",
   "id": "a238943d",
   "metadata": {},
   "source": [
    "# Week 5 - Transform and Conquer \n",
    "(สรุปสิ่งที่ได้เรียนรู้ในสัปดาห์นี้)\n",
    "\n",
    "* Transform and Conquer คือ อัลกอริทึมที่มีการเปลี่ยนแปลงรูปแบบของปัญหาหรือสิ่งต่างๆ ก่อนที่จะทำการแก้ปัญหา เนื่องจากปัญหาเดิมสามารถแก้ได้ยาก ทำให้เราต้องปรับเปลี่ยนรูปแบบก่อนที่จะแก้\n",
    "- Transformation stage (ขั้นตอนในการเปลี่ยนแปลงรูปแบบปัญหา) มีทั้งหมด 3 รูปแบบ ได้แก่\n",
    "  1. Instance simplification - Simplify หรือเปลี่ยนแปลง Problem Instance ให้ง่ายขึ้น\n",
    "  2. Representation change - เปลี่ยนรูปแบบ Data Structures หรือ Database ที่เก็บ\n",
    "  3. Problem reduction - เปลี่ยนเป็นปัญหาอื่นที่รู้วิธีแก้ไขแล้วค่อยย้อนกลับมาแก้ปัญหาต้นฉบับ\n",
    "\n",
    "- Solution stage ขั้นตอนในการแก้ปัญหาเสร็จแล้ว\n",
    "\n",
    "* Instance Simplification ได้แก่\n",
    "  - Presorting คือ การเรียงลำดับก่อนที่จะแก้ไขปัญหา\n",
    "  - Gaussian Elimination คือ การแก้ไขปัญหาสมการเชิงเส้น (Linear Equation) ด้วยการมองเป็นเมทริกซ์ Ax = B <br> โดยประกอบด้วย Forward Elimination, Better Forward Elimination และ LU Decomposition\n",
    "  - Forward Elimination คือการทำเมทริกซ์แต่งเติมให้กลายเป็น Upper-triangle matrix\n",
    "  - Better Forward Elimination เกิดขึ้นเนื่องจากปัญหา การหารด้วย 0 และ Round-off error (ค่าสูงมากๆ) <br> โดยที่ Better Forward Elimination ใช้หลักการ Partial Pivoting เพื่อหาใน row ว่าตัว A[i,i] จะสูง\n",
    "  - LU Decomposition คือเทคนิคที่ทำให้กระบวนการ Gaussian Elimination ง่ายขึ้น โดยการแปลงเป็น Upper-triangle <br> กับ Lower-triangle Matrix เพื่อให้ง่ายขึ้นต่อการคำนวณ\n",
    "  - AVL trees, Red-black trees, splay trees\n",
    "\n",
    "* Representation Change (การเปลี่ยนหน้าตา Database) ได้แก่\n",
    "  - 2-3 trees, 2-3-4 trees <br>\n",
    "  เนื่องจากการทำ BST (Balanced Search Tree) ทำให้มันแตกกิ่งซ้ายขวาให้เท่ากัน เพื่อที่จะหาข้อมูลได้ไวขึ้น เป็น O(logn) <br>\n",
    "  แต่ว่าปัญหา BST ที่มันไม่ Balanced ก็จะแตกกิ่งเรื่อยๆ BST ไม่ช่วยอะไร O(n) เหมือนเดิม <br>\n",
    "  โดยหลักการของ 2-3 trees คือการที่ โหนดจะมีลูกทางด้านซ้าย คือค่าน้อยกว่า ค่าน้อยที่สุดในโหนดแม่ โหนดลูกทางขวา <br> มีค่ามากกว่า ค่ามากที่สุดในโหนดแม่ ส่วนโหนดลูกตรงกลางคือค่าที่อยู่ระหว่างค่าสองค่าจากโหนดแม่\n",
    "  - Algorithms ของการทำ 2-3 Trees คือ เพิ่ม Element ไปที่ Leaf Node จากนั้นจัดตามเงื่อนไขด้านบนเพื่อให้ได้ 2-3 trees\n",
    "  - B-trees\n",
    "\n",
    "\n",
    "* Problem Reduction (เปลี่ยนรูปแบบไปปัญหาอื่นๆ ที่รู้คำตอบอยู่แล้ว แล้วค่อยแปลงกลับมา)\n",
    "  - LCM (Least common multiple) - การหาครน. โดยเราสามารถไปหา หรม. (gcd) ซึ่งเราเขียนอัลกอริทึมไว้อยู่แล้ว จากนั้นเข้าสมการดังนี้\n"
   ]
  },
  {
   "cell_type": "markdown",
   "id": "3ade37a1",
   "metadata": {},
   "source": [
    "<div style=\"text-align : center;\">\n",
    "<img src=\"https://lh3.googleusercontent.com/Xb8a1tjxAi8cGidjwKLRJ5Ehar0YZ1fzYmpyeU23d3-tHCXr-qjSDN0t1FBvNuNf_JgTF17PPtRq5S6126FOFurzz0NEkYNrViPwwZ7Ad3ettDdPOsfr--V9duT_uSbGHvi1N61M\">\n",
    "</div>"
   ]
  },
  {
   "cell_type": "markdown",
   "id": "ad98caa8",
   "metadata": {},
   "source": [
    "   - Counting a Path in a Graph (การหาเส้นทางที่ผ่านจากจุด เช่นผ่าน Vertrices ทั้งหมดกี่ครั้ง)\n",
    "เราสามารถเปลี่ยนแปลงให้อยู่ในรูปของปัญหา Matrix ได้แทนโดยการทำ Adjacency Matrix และทำการยกกำลัง Matrix ด้วยค่าที่ต้องการจะรู้ว่าใช้กี่ Vertrices (Paths of lengths)\n",
    "- การทำ Optimization Problems ยกตัวอย่างเช่น การแก้ปัญหา Maximization ด้วยการหา Minimization หรือในทางกลับกันก็สามารถทำได้\n",
    "\n",
    "---"
   ]
  },
  {
   "cell_type": "markdown",
   "id": "232b0038",
   "metadata": {},
   "source": [
    "### Instance Simplification\n",
    "\n",
    "การทำให้ Instance ของปัญหาง่ายลงในการแก้ไข"
   ]
  },
  {
   "cell_type": "markdown",
   "id": "7c76d790",
   "metadata": {},
   "source": [
    "### Unique Element"
   ]
  },
  {
   "cell_type": "code",
   "execution_count": 1,
   "id": "3eca0d3d",
   "metadata": {},
   "outputs": [],
   "source": [
    "def UniqueElement(my_list):\n",
    "    n = len(my_list)\n",
    "    for i in range(n):\n",
    "        for j in range(i+1, n):\n",
    "            if my_list[i] == my_list[j]:\n",
    "                return False\n",
    "    return True"
   ]
  },
  {
   "cell_type": "code",
   "execution_count": 2,
   "id": "bde94f30",
   "metadata": {},
   "outputs": [
    {
     "name": "stdout",
     "output_type": "stream",
     "text": [
      "All elements are distinct : False\n"
     ]
    }
   ],
   "source": [
    "# Test case 1 : Unique Element All element are not distinct\n",
    "\n",
    "my_list = [12, 38, 42, 64, 53, 43, 55, 34, 45, 64, 90, 82]\n",
    "check = UniqueElement(my_list)\n",
    "print('All elements are distinct :',check)"
   ]
  },
  {
   "cell_type": "code",
   "execution_count": 3,
   "id": "1958d5b6",
   "metadata": {},
   "outputs": [
    {
     "name": "stdout",
     "output_type": "stream",
     "text": [
      "All elements are distinct : True\n"
     ]
    }
   ],
   "source": [
    "# Test case 2 : Unique Element All element are distinct\n",
    "\n",
    "my_list = [5, 12, 38, 40, 64, 55, 43, 56, 34, 45, 91, 54]\n",
    "check = UniqueElement(my_list)\n",
    "print('All elements are distinct :',check)"
   ]
  },
  {
   "cell_type": "markdown",
   "id": "db4aaaae",
   "metadata": {},
   "source": [
    "---"
   ]
  },
  {
   "cell_type": "markdown",
   "id": "7a1801d4",
   "metadata": {},
   "source": [
    "### Presorting Unique Element"
   ]
  },
  {
   "cell_type": "code",
   "execution_count": 4,
   "id": "387a1063",
   "metadata": {},
   "outputs": [],
   "source": [
    "def BubbleSort(my_list):\n",
    "    n = len(my_list)\n",
    "    for i in range(n-1):\n",
    "        for j in range(0, n-i-1):\n",
    "            if my_list[j] > my_list[j+1]:\n",
    "                my_list[j], my_list[j+1] = my_list[j+1], my_list[j]\n",
    "                \n",
    "\n",
    "def PresortUniqueElements(my_list):\n",
    "    BubbleSort(my_list)\n",
    "    print(\"My_list after sorted :\",my_list)\n",
    "    n = len(my_list)\n",
    "    for i in range(n-1):\n",
    "        if my_list[i] == my_list[i+1]:\n",
    "            return False\n",
    "    return True"
   ]
  },
  {
   "cell_type": "code",
   "execution_count": 5,
   "id": "f72a6ba4",
   "metadata": {},
   "outputs": [
    {
     "name": "stdout",
     "output_type": "stream",
     "text": [
      "My_list after sorted : [12, 34, 38, 42, 43, 45, 53, 55, 64, 64, 82, 90]\n",
      "All elements are distinct : False\n"
     ]
    }
   ],
   "source": [
    "# Test case 1 : all element are not distinct\n",
    "\n",
    "my_list = [12, 38, 42, 64, 53, 43, 55, 34, 45, 64, 90, 82]\n",
    "check = PresortUniqueElements(my_list)\n",
    "print('All elements are distinct :',check)"
   ]
  },
  {
   "cell_type": "code",
   "execution_count": 6,
   "id": "40b77366",
   "metadata": {},
   "outputs": [
    {
     "name": "stdout",
     "output_type": "stream",
     "text": [
      "My_list after sorted : [5, 12, 34, 38, 40, 43, 45, 54, 55, 56, 64, 91]\n",
      "All elements are distinct : True\n"
     ]
    }
   ],
   "source": [
    "# Test case 2 : all element are distinct\n",
    "\n",
    "my_list = [5, 12, 38, 40, 64, 55, 43, 56, 34, 45, 91, 54]\n",
    "check = PresortUniqueElements(my_list)\n",
    "print('All elements are distinct :',check)"
   ]
  },
  {
   "cell_type": "markdown",
   "id": "f16519bb",
   "metadata": {},
   "source": [
    "---"
   ]
  },
  {
   "cell_type": "markdown",
   "id": "cc783656",
   "metadata": {},
   "source": [
    "### Brute Force Mode"
   ]
  },
  {
   "cell_type": "code",
   "execution_count": 26,
   "id": "c996d6a0",
   "metadata": {},
   "outputs": [],
   "source": [
    "def BruteForceMode(my_list):\n",
    "    freq = {}\n",
    "    for number in my_list:\n",
    "        if number not in freq:\n",
    "            freq[number] = 1\n",
    "        else:\n",
    "            freq[number] += 1\n",
    "\n",
    "    # กรณีมี Mode หลายค่า\n",
    "    mode_key = []\n",
    "    mode = max(freq.values())\n",
    "\n",
    "    # ถ้าหากค่าน้อยกว่า 1 แสดงว่าตามทฤษฏีมันไม่มีค่า Mode\n",
    "    if mode <= 1:\n",
    "        return None\n",
    "\n",
    "    for key, value in freq.items():\n",
    "        if value == mode:\n",
    "            mode_key.append(key)\n",
    "\n",
    "    return mode_key"
   ]
  },
  {
   "cell_type": "code",
   "execution_count": 30,
   "id": "a8115be4",
   "metadata": {},
   "outputs": [
    {
     "name": "stdout",
     "output_type": "stream",
     "text": [
      "Mode : [1]\n"
     ]
    }
   ],
   "source": [
    "# Test Case 1 - Brute Force Mode\n",
    "\n",
    "my_list = [1, 1, 1, 1, 1, 2, 2, 3, 4, 5, 6, 7, 1]\n",
    "all_keys = BruteForceMode(my_list)\n",
    "print('Mode :',all_keys)"
   ]
  },
  {
   "cell_type": "code",
   "execution_count": 27,
   "id": "5d4f01b8",
   "metadata": {},
   "outputs": [
    {
     "name": "stdout",
     "output_type": "stream",
     "text": [
      "Mode is : [1, 3]\n"
     ]
    }
   ],
   "source": [
    "# Test Case 2 - Brute Force Mode\n",
    "\n",
    "my_list = [1, 2, 3, 3, 4, 5, 6, 7, 8, 9, 10, 1, 1, 2, 3, 4, 5, 6, 7, 8, 9, 10]\n",
    "all_keys = BruteForceMode(my_list)\n",
    "print(\"Mode is :\", all_keys)"
   ]
  },
  {
   "cell_type": "code",
   "execution_count": 28,
   "id": "39e2103d",
   "metadata": {},
   "outputs": [
    {
     "name": "stdout",
     "output_type": "stream",
     "text": [
      "Mode is : None\n"
     ]
    }
   ],
   "source": [
    "# Test Case 3 - Brute Force Mode\n",
    "\n",
    "my_list = [1, 2, 3, 4, 5, 6, 7, 8, 9, 10]\n",
    "all_keys = BruteForceMode(my_list)\n",
    "print(\"Mode is :\", all_keys)"
   ]
  },
  {
   "cell_type": "markdown",
   "id": "082ffe95",
   "metadata": {},
   "source": [
    "---"
   ]
  },
  {
   "cell_type": "markdown",
   "id": "e6408835",
   "metadata": {},
   "source": [
    "### Presorting Mode"
   ]
  },
  {
   "cell_type": "code",
   "execution_count": 31,
   "id": "9c8570a6",
   "metadata": {},
   "outputs": [],
   "source": [
    "def BubbleSort(my_list):\n",
    "    n = len(my_list)\n",
    "    for i in range(n-1):\n",
    "        for j in range(0, n-i-1):\n",
    "            if my_list[j] > my_list[j+1]:\n",
    "                my_list[j], my_list[j+1] = my_list[j+1], my_list[j]\n",
    "\n",
    "def PresortMode(my_list):\n",
    "    BubbleSort(my_list)\n",
    "    n = len(my_list)\n",
    "    i = 0 # current run begins at position i\n",
    "    mode_freq = 0 # highest frequency seen so far\n",
    "    while i <= n-1:\n",
    "\n",
    "        run_len = 1\n",
    "        run_value = my_list[i]\n",
    "\n",
    "        while i+run_len <= n-1 and my_list[i+run_len] == run_value:\n",
    "            run_len += 1\n",
    "            \n",
    "        if run_len > mode_freq:\n",
    "            mode_freq = run_len\n",
    "            mode_value = run_value\n",
    "        i += run_len\n",
    "    return mode_value , mode_freq"
   ]
  },
  {
   "cell_type": "code",
   "execution_count": 32,
   "id": "8f461716",
   "metadata": {},
   "outputs": [
    {
     "name": "stdout",
     "output_type": "stream",
     "text": [
      "The array's mode is 3\n",
      "With frequency 6\n"
     ]
    }
   ],
   "source": [
    "# Test case 1 : Presorting Mode\n",
    "\n",
    "my_list = [6,3,2,9,1,3,6,6,2,3,1,3,2,6,9,3,2,1,3]\n",
    "result = PresortMode(my_list)\n",
    "value , freq = result[0] , result[1]\n",
    "print(\"The array's mode is\" , value)\n",
    "print(\"With frequency\" , freq)"
   ]
  },
  {
   "cell_type": "code",
   "execution_count": 35,
   "id": "71f3aadb",
   "metadata": {},
   "outputs": [
    {
     "name": "stdout",
     "output_type": "stream",
     "text": [
      "The array's mode is 1\n",
      "With frequency 8\n"
     ]
    }
   ],
   "source": [
    "# Test Case 2 : Presorting Mode\n",
    "\n",
    "my_list = [1, 2, 3, 3, 4, 5, 6, 7, 8, 9, 10, 1, 1, 1, 2, 3, 4, 5, 6, 7, 8, 9, 10, 1, 1, 1, 1]\n",
    "result = PresortMode(my_list)\n",
    "value , freq = result[0] , result[1]\n",
    "print(\"The array's mode is\" , value)\n",
    "print(\"With frequency\" , freq)"
   ]
  },
  {
   "cell_type": "markdown",
   "id": "0a3a1ce7",
   "metadata": {},
   "source": [
    "---"
   ]
  },
  {
   "cell_type": "markdown",
   "id": "6e9eed22",
   "metadata": {},
   "source": [
    "### Gaussian Elimination"
   ]
  },
  {
   "cell_type": "code",
   "execution_count": 17,
   "id": "488c7bf7",
   "metadata": {},
   "outputs": [],
   "source": [
    "def ForwardElimination(A,B):\n",
    "\n",
    "    # A - Matrix[1..n , 1..n]\n",
    "    # B - column vector b[1..n]\n",
    "\n",
    "    # Increase the column in every row เพื่อที่จะใส่เมทริกซ์ B แปะเข้าไปด้วย\n",
    "    A = A.copy()\n",
    "    for row in A:\n",
    "        row.append(0)\n",
    "         \n",
    "    n = len(A)\n",
    "\n",
    "    for i in range(n):\n",
    "        A[i][n] = B[i]\n",
    "\n",
    "    for i in range(n-1):\n",
    "        for j in range(i+1 ,n):\n",
    "            for k in range(i,n+1):\n",
    "                    A[j][k] = int( A[j][k] - A[i][k] * (A[j][i] / A[i][i]) )\n",
    "\n",
    "    return A"
   ]
  },
  {
   "cell_type": "code",
   "execution_count": 19,
   "id": "a5b74631",
   "metadata": {},
   "outputs": [
    {
     "name": "stdout",
     "output_type": "stream",
     "text": [
      "Augmented Matrix after Forward Elimination :\n",
      "[[  2   1  -1   8]\n",
      " [  0  -1   2 -11]\n",
      " [  0   0   2  -3]]\n",
      "\n",
      " Matrix A : \n",
      "[[ 2  1 -1]\n",
      " [ 0 -1  2]\n",
      " [ 0  0  2]]\n",
      "\n",
      " Matrix B : \n",
      "[  8 -11  -3]\n"
     ]
    }
   ],
   "source": [
    "# Test Case 1 - Forward Elimination\n",
    "\n",
    "import numpy as np # for data visualization\n",
    "A = [[2, 1, -1], [-3, -1, 2], [-2, 1, 2]]\n",
    "B = [8, -11, -3]\n",
    "M = ForwardElimination(A,B)\n",
    "M = np.array(M)\n",
    "\n",
    "print(\"Augmented Matrix after Forward Elimination :\")\n",
    "print(M)\n",
    "\n",
    "print(\"\\n Matrix A : \")\n",
    "print(M[:,:3]) # เอาทุกแถว แต่เอาแค่ หลักจนถึง 3\n",
    "\n",
    "print(\"\\n Matrix B : \")\n",
    "print(M[:,3]) # เอาทุกแถว แต่เอาแค่ หลักที่ 4\n",
    "\n",
    "# เมทริกซ์ 3 คอลัมน์แรก คือ เมทริกซ์ A แต่คอลัมน์ที่ 4 คือ B ที่มาติดด้วยเวลาทำ Row Operation"
   ]
  },
  {
   "cell_type": "code",
   "execution_count": 20,
   "id": "4c9cc252",
   "metadata": {},
   "outputs": [
    {
     "name": "stdout",
     "output_type": "stream",
     "text": [
      "Augmented Matrix after Forward Elimination :\n",
      "[[ 1  2  3 10]\n",
      " [ 0  5  6 11]\n",
      " [ 0  0  9 12]]\n",
      "\n",
      " Matrix A : \n",
      "[[1 2 3]\n",
      " [0 5 6]\n",
      " [0 0 9]]\n",
      "\n",
      " Matrix B : \n",
      "[10 11 12]\n"
     ]
    }
   ],
   "source": [
    "# Test Case 2 - Forward Elimination\n",
    "\n",
    "A = [[1, 2, 3], [4, 5, 6], [7, 8, 9]]\n",
    "B = [10, 11, 12]\n",
    "M = ForwardElimination(A,B)\n",
    "M = np.array(M)\n",
    "\n",
    "print(\"Augmented Matrix after Forward Elimination :\")\n",
    "print(M)\n",
    "\n",
    "print(\"\\n Matrix A : \")\n",
    "print(M[:,:3])\n",
    "\n",
    "print(\"\\n Matrix B : \")\n",
    "print(M[:,3])"
   ]
  },
  {
   "cell_type": "markdown",
   "id": "0bc594eb",
   "metadata": {},
   "source": [
    "---"
   ]
  },
  {
   "cell_type": "markdown",
   "id": "499c275f",
   "metadata": {},
   "source": [
    "### Better Forward Elimination"
   ]
  },
  {
   "cell_type": "code",
   "execution_count": 29,
   "id": "429c70f8",
   "metadata": {},
   "outputs": [],
   "source": [
    "def BetterForwardElimination(A,B):\n",
    "\n",
    "    # แปะเมทริกซ์ B ในแต่ละแถว เพิ่มเป็น 0\n",
    "    A = A.copy()\n",
    "    for row in A:\n",
    "        row.append(0)\n",
    "        \n",
    "    n = len(A)\n",
    "\n",
    "    for i in range(n):\n",
    "        A[i][n] = B[i]\n",
    "\n",
    "    for i in range(n-1):\n",
    "\n",
    "        pivotrow = i\n",
    "        for j in range(i+1, n):\n",
    "            if abs(A[j][i]) > abs(A[pivotrow][i]):\n",
    "                pivotrow = j\n",
    "        for k in range(i, n+1):\n",
    "            A[i][k], A[pivotrow][k] = A[pivotrow][k], A[i][k]\n",
    "\n",
    "        for j in range(i+1, n):\n",
    "            \n",
    "            temp = A[j][i] / A[i][i]\n",
    "            for k in range(i,n+1):\n",
    "                A[j][k] = int( A[j][k] - (temp * A[i][k]) )\n",
    "                \n",
    "    return A"
   ]
  },
  {
   "cell_type": "code",
   "execution_count": 30,
   "id": "cbe424d3",
   "metadata": {},
   "outputs": [
    {
     "name": "stdout",
     "output_type": "stream",
     "text": [
      "Augmented Matrix after Better Forward Elimination :\n",
      " [[ -3  -1   2 -11]\n",
      " [  0   1   0   4]\n",
      " [  0   0   0   0]]\n",
      "\n",
      " Matrix A : \n",
      "[[-3 -1  2]\n",
      " [ 0  1  0]\n",
      " [ 0  0  0]]\n",
      "\n",
      " Matrix B : \n",
      "[-11   4   0]\n"
     ]
    }
   ],
   "source": [
    "# Test case 1 - Better Forward Elimination\n",
    "import numpy as np # for data visualization\n",
    "\n",
    "A = [[2, 1, -1], [-3, -1, 2], [-2, 1, 2]]\n",
    "B = [8, -11, -3]\n",
    "M = BetterForwardElimination(A,B)\n",
    "M = np.array(M)\n",
    "\n",
    "print(\"Augmented Matrix after Better Forward Elimination :\" + \"\\n\", M)\n",
    "\n",
    "print(\"\\n Matrix A : \")\n",
    "print(M[:,:3])\n",
    "\n",
    "print(\"\\n Matrix B : \")\n",
    "print(M[:,3])"
   ]
  },
  {
   "cell_type": "code",
   "execution_count": 34,
   "id": "f6baaf07",
   "metadata": {},
   "outputs": [
    {
     "name": "stdout",
     "output_type": "stream",
     "text": [
      "Augmented Matrix after Better Forward Elimination :\n",
      " [[ 7  8  9 12]\n",
      " [ 0  3  4  9]\n",
      " [ 0  0  0  9]]\n",
      "\n",
      " Matrix A : \n",
      "[[7 8 9]\n",
      " [0 3 4]\n",
      " [0 0 0]]\n",
      "\n",
      " Matrix B : \n",
      "[12  9  9]\n"
     ]
    }
   ],
   "source": [
    "# Test case 2 - Better Forward Elimination\n",
    "\n",
    "A = [[4, 2, 3], [1, 5, 6], [7, 8, 9]]\n",
    "B = [10, 11, 12]\n",
    "\n",
    "M = BetterForwardElimination(A,B)\n",
    "M = np.array(M)\n",
    "\n",
    "print(\"Augmented Matrix after Better Forward Elimination :\" + \"\\n\", M)\n",
    "\n",
    "print(\"\\n Matrix A : \")\n",
    "print(M[:,:3])\n",
    "\n",
    "print(\"\\n Matrix B : \")\n",
    "print(M[:,3])\n"
   ]
  },
  {
   "cell_type": "markdown",
   "id": "47542d33",
   "metadata": {},
   "source": [
    "---"
   ]
  },
  {
   "cell_type": "markdown",
   "metadata": {},
   "source": [
    "### Assignment 2 - LU Decomposition เพื่อหา Matrix Inverse (Pseudo Inverse)"
   ]
  },
  {
   "cell_type": "markdown",
   "id": "0166eb1d",
   "metadata": {},
   "source": [
    "Reference 1 : https://ristohinno.medium.com/lu-decomposition-41a3cb0d1ba <br>\n",
    "Reference 2 : https://www.youtube.com/watch?v=5eBmb8ir-uA <br>\n",
    "Reference 3 : https://newtonexcelbach.com/2023/05/26/lu-decomposition-with-python-and-scipy/"
   ]
  },
  {
   "cell_type": "markdown",
   "id": "8d29e465",
   "metadata": {},
   "source": [
    "* ต้องเกริ่นก่อนว่า AA^-1 = I หมายถึง Matrix คูณกับ Inverse Matrix จะได้ เมทริกซ์เอกลักษณ์ (Identity Matrix)\n",
    "* จากรูปสมการ Ax = b เราจะได้ว่า เราต้องหา x โดยกำหนดให้ b เป็น Identity Matrix<br>\n",
    "* แต่เนื่องจาก A = LU (LU Decomposition) เราก็สามารถเขียนให้อยู่ในรูป LUx = b ได้<br>\n",
    "\n",
    "ต่อมาถึงขั้นตอนการแก้สมการ\n",
    "1. หา y โดยกำหนดให้ Ly = e(j) ใช้วิธีการ forward subsititution โดยที่ e(j) คือทุกๆคอลัมน์ของ Identity Matrix\n",
    "2. หลังจากที่เราได้ y มาแล้วตั้งสมการ Ux = y เพื่อหา x ซึ่งคือ Inverse Matrix ของเรา ใช้วิธีการ backward subsititution\n"
   ]
  },
  {
   "cell_type": "code",
   "execution_count": 3,
   "id": "f4a6c044",
   "metadata": {},
   "outputs": [],
   "source": [
    "def forwardSubstitution(L, b):\n",
    "    n = len(L)\n",
    "    y = [0 for _ in range(n)]\n",
    "\n",
    "    for i in range(n):\n",
    "        y[i] = b[i]\n",
    "        for j in range(i):\n",
    "            y[i] -= L[i][j] * y[j]\n",
    "        y[i] = y[i] / L[i][i]\n",
    "\n",
    "    return y\n",
    "\n",
    "def backSubstitution(U, y):\n",
    "    \n",
    "    n = len(U)\n",
    "\n",
    "    #Create a list to store the solution\n",
    "    x = [0 for i in range(n)]\n",
    "\n",
    "    #Calculate the solution\n",
    "    for i in range(n-1, -1, -1):\n",
    "        x[i] = y[i] / U[i][i]\n",
    "        for j in range(i-1, -1, -1):\n",
    "            y[j] -= U[j][i] * x[i]\n",
    "\n",
    "    return x\n",
    "\n",
    "def LU_Decomposition(A):\n",
    "    n = len(A)\n",
    "    L = [[0 for _ in range(n)] for _ in range(n)]\n",
    "    U = [[0 for _ in range(n)] for _ in range(n)]\n",
    "\n",
    "    for i in range(n):\n",
    "        L[i][i] = 1\n",
    "\n",
    "    for i in range(n):\n",
    "        for j in range(i, n):\n",
    "            s1 = sum(L[i][k] * U[k][j] for k in range(i))\n",
    "            U[i][j] = A[i][j] - s1\n",
    "\n",
    "        for j in range(i, n):\n",
    "            s2 = sum(L[j][k] * U[k][i] for k in range(i))\n",
    "            L[j][i] = (A[j][i] - s2) / U[i][i]\n",
    "\n",
    "    return L, U\n",
    "\n",
    "def LU_PseudoInverse(A):\n",
    "\n",
    "    # A = LU\n",
    "    L, U = LU_Decomposition(A)\n",
    "    print(\"L :\" , L)\n",
    "    print(\"----\")\n",
    "    print(\"U :\" , U)\n",
    "\n",
    "    # I is the identity matrix\n",
    "\n",
    "    n = len(A)\n",
    "    identity_matrix = []\n",
    "    for row in range(n):\n",
    "        identity_matrix.append([0] * n)\n",
    "        identity_matrix[row][row] = 1\n",
    "\n",
    "    # LUx = I\n",
    "\n",
    "    # Forward Substitution\n",
    "    # find y from Ly = I\n",
    "    y = []\n",
    "    for j in range(n):\n",
    "        y.append(forwardSubstitution(L, identity_matrix[j]))\n",
    "\n",
    "    # find x from Ux = y\n",
    "    # Backward Substitution\n",
    "    x = []\n",
    "    for j in range(n):\n",
    "        x.append(backSubstitution(U, y[j]))\n",
    "\n",
    "    return x"
   ]
  },
  {
   "cell_type": "code",
   "execution_count": 4,
   "id": "3a52acae",
   "metadata": {},
   "outputs": [
    {
     "name": "stdout",
     "output_type": "stream",
     "text": [
      "L : [[1.0, 0], [0.5, 1.0]]\n",
      "----\n",
      "U : [[2, 3], [0, 2.5]]\n",
      "The Inverse of A is :\n",
      "[[ 0.8 -0.2]\n",
      " [-0.6  0.4]]\n"
     ]
    }
   ],
   "source": [
    "# Test Case 1 - LU Pseudo Inverse\n",
    "\n",
    "import numpy as np\n",
    "\n",
    "A = [[2,3], [1,4] ]\n",
    "\n",
    "Inverse_A = LU_PseudoInverse(A)\n",
    "Inverse_A = np.array(Inverse_A)\n",
    "print(\"The Inverse of A is :\")\n",
    "print(Inverse_A)"
   ]
  },
  {
   "cell_type": "code",
   "execution_count": 5,
   "id": "d36d17fe",
   "metadata": {},
   "outputs": [
    {
     "name": "stdout",
     "output_type": "stream",
     "text": [
      "L : [[1.0, 0, 0], [-0.6666666666666666, 1.0, 0], [0.3333333333333333, 1.0, 1.0]]\n",
      "----\n",
      "U : [[3, -3, 2], [0, -1.0, 2.333333333333333], [0, 0, -6.0]]\n",
      "The Inverse of A is :\n",
      "[[-0.05555556 -0.27777778  0.16666667]\n",
      " [-0.72222222 -0.61111111  0.16666667]\n",
      " [-0.27777778 -0.38888889 -0.16666667]]\n"
     ]
    }
   ],
   "source": [
    "# Test Case 3 - Quiz 3\n",
    "import numpy as np\n",
    "\n",
    "A = [[3,-3,2], [-2,1,1], [1,-2,-3]]\n",
    "\n",
    "Inverse_A = LU_PseudoInverse(A)\n",
    "Inverse_A = np.array(Inverse_A)\n",
    "print(\"The Inverse of A is :\")\n",
    "print(Inverse_A)"
   ]
  },
  {
   "cell_type": "code",
   "execution_count": 117,
   "id": "10b36d1f",
   "metadata": {},
   "outputs": [
    {
     "name": "stdout",
     "output_type": "stream",
     "text": [
      "The Inverse of A is :\n",
      "[[ 0.   1.  -2. ]\n",
      " [-0.2 -0.2  1. ]\n",
      " [ 0.4 -0.6  1. ]]\n"
     ]
    }
   ],
   "source": [
    "# Test Case 2 - LU Pseudo Inverse\n",
    "\n",
    "A = [ [2,3,1], [1,4,2], [3,2,1]]\n",
    "\n",
    "Inverse_A = LU_PseudoInverse(A)\n",
    "Inverse_A = np.array(Inverse_A)\n",
    "print(\"The Inverse of A is :\")\n",
    "print(Inverse_A)"
   ]
  },
  {
   "cell_type": "markdown",
   "id": "3dd1219d",
   "metadata": {},
   "source": [
    "---"
   ]
  },
  {
   "cell_type": "markdown",
   "id": "9b60c67ec469226e",
   "metadata": {
    "collapsed": false
   },
   "source": [
    "# Problem Reduction"
   ]
  },
  {
   "cell_type": "markdown",
   "id": "a557d63333d9c77",
   "metadata": {
    "collapsed": false
   },
   "source": [
    "### Least Common Mutliple (LCM) Time Experimental"
   ]
  },
  {
   "cell_type": "code",
   "execution_count": 7,
   "id": "141335111ef32e97",
   "metadata": {
    "ExecuteTime": {
     "end_time": "2024-02-17T17:32:50.878712600Z",
     "start_time": "2024-02-17T17:32:50.870805Z"
    },
    "collapsed": false
   },
   "outputs": [],
   "source": [
    "# Normal Least common multiple\n",
    "\n",
    "def prime_factorization(number):\n",
    "    factors = []\n",
    "    for i in range(2, number):\n",
    "        while number % i == 0:\n",
    "            factors.append(i)\n",
    "            number = number / i\n",
    "    return factors\n",
    "\n",
    "def lcm(a, b):\n",
    "    \n",
    "    a_list = prime_factorization(a)\n",
    "    b_list = prime_factorization(b)\n",
    "    \n",
    "    common = []\n",
    "    for value in a_list:\n",
    "        if value in b_list:\n",
    "            common.append(value)\n",
    "            b_list.remove(value)\n",
    "        else:\n",
    "            common.append(value)\n",
    "            \n",
    "    common.extend(b_list)\n",
    "    \n",
    "    total = 1\n",
    "    for value in common:\n",
    "        total *= value\n",
    "        \n",
    "    return total"
   ]
  },
  {
   "cell_type": "code",
   "execution_count": 8,
   "id": "38222d5506457e1f",
   "metadata": {
    "ExecuteTime": {
     "end_time": "2024-02-17T17:32:50.904299500Z",
     "start_time": "2024-02-17T17:32:50.880713Z"
    },
    "collapsed": false
   },
   "outputs": [
    {
     "name": "stdout",
     "output_type": "stream",
     "text": [
      "40\n"
     ]
    }
   ],
   "source": [
    "# Test Case 1 - Normal LCM\n",
    "\n",
    "print(lcm(20, 40)) # 5"
   ]
  },
  {
   "cell_type": "code",
   "execution_count": 13,
   "id": "f18ec695f64a6320",
   "metadata": {
    "ExecuteTime": {
     "end_time": "2024-02-17T17:32:50.926299600Z",
     "start_time": "2024-02-17T17:32:50.889837300Z"
    },
    "collapsed": false
   },
   "outputs": [
    {
     "name": "stdout",
     "output_type": "stream",
     "text": [
      "1500\n"
     ]
    }
   ],
   "source": [
    "# Test Case 2 - Normal LCM\n",
    "\n",
    "print(lcm(375, 1500)) # 60"
   ]
  },
  {
   "cell_type": "markdown",
   "id": "c15cb8ec",
   "metadata": {},
   "source": [
    "### LCM using problem reduction by GCD"
   ]
  },
  {
   "cell_type": "code",
   "execution_count": 10,
   "id": "6c7aa65319a16961",
   "metadata": {
    "ExecuteTime": {
     "end_time": "2024-02-17T16:39:51.161756300Z",
     "start_time": "2024-02-17T16:39:51.156764300Z"
    },
    "collapsed": false
   },
   "outputs": [],
   "source": [
    "# Least Common Multiple using problem reduction by GCD\n",
    "def gcd(m, n):\n",
    "    \n",
    "    while m % n != 0:\n",
    "        old_m = m\n",
    "        old_n = n\n",
    "        \n",
    "        m = old_n\n",
    "        n = old_m % old_n\n",
    "    return n\n",
    "\n",
    "def lcm_from_gcd(a,b):\n",
    "    return a * b // gcd(a,b)"
   ]
  },
  {
   "cell_type": "code",
   "execution_count": 11,
   "id": "308a328ca7f6b712",
   "metadata": {
    "ExecuteTime": {
     "end_time": "2024-02-17T16:39:51.610965300Z",
     "start_time": "2024-02-17T16:39:51.606967600Z"
    },
    "collapsed": false
   },
   "outputs": [
    {
     "name": "stdout",
     "output_type": "stream",
     "text": [
      "40\n"
     ]
    }
   ],
   "source": [
    "# Test Case 1 - LCM using GCD\n",
    "\n",
    "print(lcm_from_gcd(20, 40)) # 40"
   ]
  },
  {
   "cell_type": "code",
   "execution_count": 14,
   "id": "e5c2894fafee80f",
   "metadata": {
    "ExecuteTime": {
     "end_time": "2024-02-17T16:39:52.002012100Z",
     "start_time": "2024-02-17T16:39:51.997015300Z"
    },
    "collapsed": false
   },
   "outputs": [
    {
     "name": "stdout",
     "output_type": "stream",
     "text": [
      "1500\n"
     ]
    }
   ],
   "source": [
    "# Test Case 2 - LCM using GCD\n",
    "\n",
    "print(lcm_from_gcd(375,1500)) # 60"
   ]
  },
  {
   "cell_type": "markdown",
   "id": "8825e281",
   "metadata": {},
   "source": [
    "Now Let's consider the time between this two algorithms."
   ]
  },
  {
   "cell_type": "code",
   "execution_count": 35,
   "id": "7e87e68ec7c1c4b5",
   "metadata": {
    "collapsed": false
   },
   "outputs": [],
   "source": [
    "import time\n",
    "from random import randint\n",
    "\n",
    "\n",
    "x = [randint(1,100000) for _ in range(1000)]\n",
    "y = [randint(1,100000) for _ in range(1000)]\n",
    "\n",
    "# Normal LCM\n",
    "\n",
    "normal_lcm_time = []\n",
    "\n",
    "for i in range(len(x)):\n",
    "    start = time.time_ns()\n",
    "    lcm(x[i],y[i])\n",
    "    end = time.time_ns()\n",
    "    normal_lcm_time.append(end - start)\n",
    "\n",
    "# LCM from GCD\n",
    "\n",
    "gcd_lcm_time = []\n",
    "\n",
    "for i in range(len(x)):\n",
    "    start = time.time_ns()\n",
    "    lcm_from_gcd(x[i],y[i])\n",
    "    end = time.time_ns()\n",
    "    gcd_lcm_time.append(end - start)"
   ]
  },
  {
   "cell_type": "code",
   "execution_count": 36,
   "id": "ddb2989b",
   "metadata": {},
   "outputs": [
    {
     "data": {
      "text/plain": [
       "<matplotlib.legend.Legend at 0x1ad293f4750>"
      ]
     },
     "execution_count": 36,
     "metadata": {},
     "output_type": "execute_result"
    },
    {
     "data": {
      "image/png": "[encoded data removed]",
      "text/plain": [
       "<Figure size 640x480 with 1 Axes>"
      ]
     },
     "metadata": {},
     "output_type": "display_data"
    }
   ],
   "source": [
    "import matplotlib.pyplot as plt\n",
    "\n",
    "plt.plot(normal_lcm_time, label = \"Normal LCM\")\n",
    "plt.plot(gcd_lcm_time, label = \"LCM from GCD\")\n",
    "plt.legend()"
   ]
  },
  {
   "cell_type": "markdown",
   "id": "9d70600d",
   "metadata": {},
   "source": [
    "#### Discussion\n",
    "\n",
    "* จากกราฟจะสังเกตเห็นได้ชัดเลยว่า ความเร็วของอัลกอริทึม LCM ซึ่งหาจากวิธีการ Prime Factorization ใช้เวลานานกว่า <br>\n",
    "ความเร็วของอัลกอริทึม LCM เมื่อใช้หลักการ Transform and Conquer คือหามาจาก GCD ก่อนแล้วใส่สูตร"
   ]
  },
  {
   "cell_type": "markdown",
   "id": "9f04e46a",
   "metadata": {},
   "source": [
    "<hr><br>\n",
    "<div style=\"text-align:center;\">\n",
    "    <b>เป็นคนไม่เอาถ่านบ้านมีเตาแก๊ส</b>\n",
    "    <p style=\"color: greenyellow;\">ศวิษฐ์ โกสียอัมพร 65070506026</p>\n",
    "    <p style=\"color: orange\">ธวัลรัตน์ โรจน์อมรรัตน์ 65070506037</p>\n",
    "    <p style=\"color: hotpink;\">ปุญชญา จันทร์เจริญ 65070506039</p>\n",
    "</div>"
   ]
  }
 ],
 "metadata": {
  "kernelspec": {
   "display_name": "Python 3",
   "language": "python",
   "name": "python3"
  },
  "language_info": {
   "codemirror_mode": {
    "name": "ipython",
    "version": 3
   },
   "file_extension": ".py",
   "mimetype": "text/x-python",
   "name": "python",
   "nbconvert_exporter": "python",
   "pygments_lexer": "ipython3",
   "version": "3.11.4"
  }
 },
 "nbformat": 4,
 "nbformat_minor": 5
}
