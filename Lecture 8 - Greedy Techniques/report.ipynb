{
 "cells": [
  {
   "cell_type": "markdown",
   "metadata": {},
   "source": [
    "## Greedy algorithm"
   ]
  },
  {
   "cell_type": "markdown",
   "metadata": {},
   "source": [
    "เป็นขั้นตอนการแก้ปัญหาที่ตรงไฟตรงมา โดยจะพิจารณาจากข้อมูลที่มีอยู่ในขณะนัั้นว่ามีทางเลือกไหนที่จะให้ผลลัพธืได้ดีหรือว่าคุ้มค่าที่สุด \\\n",
    "ซึ่งจะหาทางเลือกที่ดีที่สุดในขณะนั้นเท่านั้น โดยคำนึงถึง\n",
    "- Feasicle คือ satisfy the constraints\n",
    "- Locally optimal คือ ควรเป็นทางเลือกที่ง่ายที่สุดในบรรดาทางเลือกทั้งหมดที่เป้นไปได้\n",
    "- irrevocable คือ ไม่สามารถเปลี่ยนแปลงได้เมื่อได้ผลลัพธ์แล้ว\n",
    "- Greedy คือ ให้เลือกทางเลือกที่คุ้มค่าที่จะเลือกมากที่สุด"
   ]
  },
  {
   "cell_type": "markdown",
   "metadata": {},
   "source": [
    "ตัวอย่างเทคนิค :\n",
    "- Minimum spanning Tree : Prim's and Krukal's algorithms\n",
    "- Single-source shortest path : Dijkstra's algorithm\n",
    "- Huffman code (data compression) : Huffman tree"
   ]
  },
  {
   "cell_type": "markdown",
   "metadata": {},
   "source": [
    "#### Minimum spanning Tree"
   ]
  },
  {
   "cell_type": "markdown",
   "metadata": {},
   "source": [
    "- Prim's algorithm \\\n",
    "จากกราฟ G จะเพิ่ม edge เข้าไปใน T ทีละ edge เพื่อสร้าง tree เพียงต้นเดียว การทำงานจะเริ่ม จากการกำหนด vertex r เป็น root แล้วขยาย tree ไปเรื่อยๆ จน span\\\n",
    "ทุก vertices V ในแต่ละขั้นตอน light edge ที่เชื่อมระหว่าง vertex ใน T และ vertex ใน V-T จะถูกเพิ่มเข้าไปใน tree\n",
    "- Kruskal's algorithm \\\n",
    "         การหาเส้นเชือมระหว่างจุดที่มีค่าระยะทางที่น้อยที่สุด และไม่ทำให้เกิดลูปขึ้นในกราฟ"
   ]
  },
  {
   "cell_type": "markdown",
   "metadata": {},
   "source": [
    "#### SIngle-source shortest path"
   ]
  },
  {
   "cell_type": "markdown",
   "metadata": {},
   "source": [
    "- Dijkstra's algorithm \\\n",
    "ทำงานคล้าย Prim's algorithm แต่ Dijkstra's algorithm จะเปรียบเทียบที่ path lengths แล้วค่อย add edge weights แต่ Prim's algorithm ดูแค่ที่ edge weight"
   ]
  },
  {
   "cell_type": "markdown",
   "metadata": {},
   "source": [
    "#### Data Compression Problem"
   ]
  },
  {
   "cell_type": "markdown",
   "metadata": {},
   "source": [
    "ADCII ย่อมาจาก American Standard Code for Infromation Intercharge ซึ่ง ASCII code เป็นตัวเลขที่ใช้เพื่อเป็นตัวแทนของ character โดย\n",
    "- ASCII character ใช้ fixed length code คือ 8 bits หรือก็คือ 256 characters สำหรับ text file ที่มี 1000 characters ขนาดของ file ก็จะเป็น 8 x 1000 bits นั่นเอง\n",
    "- สมมติว่าในกรณีที่ file ของเรามีแค่ A ถึง G (7 uniquecharacters) ถ้าอยากจะเก็บไฟล์โดยที่เก็บให้หน่อยกว่าหลัก ASCII จะต้องเก็บ 3 bits ก็สามารถ represent (000-111) \\\n",
    "ซึ่งจากการคำนวณ ((1000x8)-(1000x3))/(1000x8) = 0.625 หรือ 62.5 % 0t save พื้นที่กว่า 62.5 %"
   ]
  },
  {
   "cell_type": "markdown",
   "metadata": {},
   "source": [
    "#### Huffman's algorithm"
   ]
  },
  {
   "cell_type": "markdown",
   "metadata": {},
   "source": [
    "Huffman ทำการสร้าง Tree ขึ้นมา โดยใช้เทคนิคของ Greedy เรียกเป็น Huffman Tree โดย Tree จะเป็นตัว represent code เรียก Huffman code โดย code ที่ได้จะสั้นลง \\\n",
    "step 1. เก็บข้อมูลแล้วนำมาข้อมูลมาสร้าง Tree และเริ่มจับคู่โดยเอา frequency จับคู่กับ symbols of alphabet ได้เป็นแต่ละ node \\\n",
    "step 2. หา 2 tree จาก tree ที่เป็น one-node ที่มี smallest weight โดยใช้เทคนิค Greedy ก็คือการหา weight ที่มาค่าน้อยที่สุด 2 อันมาประกบกันให้กลายเป็น \\\n",
    "left และ right subtree ของ tree ตัวใหม่ แล้วทำการ record sum ของ weight ที่ root ของ tree ตัวใหม่"
   ]
  }
 ],
 "metadata": {
  "language_info": {
   "name": "python"
  }
 },
 "nbformat": 4,
 "nbformat_minor": 2
}
