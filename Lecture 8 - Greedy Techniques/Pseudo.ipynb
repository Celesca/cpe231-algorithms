{
 "cells": [
  {
   "cell_type": "markdown",
   "metadata": {},
   "source": [
    "### Prim's Algorithm"
   ]
  },
  {
   "cell_type": "markdown",
   "metadata": {},
   "source": [
    "Reference 1 : https://www.geeksforgeeks.org/prims-minimum-spanning-tree-mst-greedy-algo-5/"
   ]
  },
  {
   "cell_type": "code",
   "execution_count": 63,
   "metadata": {},
   "outputs": [],
   "source": [
    "# ฟังก์ชัน MinKey เอาไว้หาว่าตัวถัดไปที่ติดกับ Vertices ก่อนหน้าคือตัวไหนและยังไม่ถูกเลือก\n",
    "def findMinWeightIndex(key, VT):\n",
    "    minValue = float('inf')\n",
    "    min_index = None\n",
    "    for v in range(len(key)):\n",
    "        if key[v] < minValue and VT[v] == False:\n",
    "            minValue = key[v]\n",
    "            min_index = v\n",
    "\n",
    "    if min_index == None:\n",
    "        return\n",
    "    else:\n",
    "        return min_index\n",
    "\n",
    "def findTotalWeight(graph, parent):\n",
    "    totalWeight = 0\n",
    "    for i in range(1, len(graph)):\n",
    "        if parent[i] is not None:\n",
    "            totalWeight += graph[i][parent[i]]\n",
    "\n",
    "    return totalWeight\n",
    "\n",
    "def displayMST(parent, graph, vertices_name):\n",
    "    print(\"Edge \\tWeight\")\n",
    "    for i in range(1, len(graph)):\n",
    "        if parent[i] is not None:\n",
    "            print(vertices_name[parent[i]], \"-\", vertices_name[i], \"\\t\", graph[i][parent[i]])\n",
    "    print(\"Total Weight :\", findTotalWeight(graph, parent))\n",
    "\n",
    "\n",
    "def PrimAlgorithm(inputGraph,vertices_name):\n",
    "\n",
    "    graph = inputGraph.copy()\n",
    "\n",
    "    n = len(graph)\n",
    "\n",
    "    key = [float('inf')] * n\n",
    "    parent = [None] * n\n",
    "    key[0] = 0 # เริ่มที่ตัวแรก\n",
    "    VT = [False] * n # เอาไว้นับว่าเราเลือกตัวไหนแล้วบ้าง\n",
    "\n",
    "    parent[0] = -1\n",
    "\n",
    "    for _ in range(n):\n",
    "\n",
    "        u = findMinWeightIndex(key, VT)\n",
    "\n",
    "        if u == None:\n",
    "            break\n",
    "        VT[u] = True\n",
    "\n",
    "        for v in range(n):\n",
    "            if graph[u][v] > 0 and VT[v] == False and key[v] > graph[u][v]:\n",
    "                key[v] = graph[u][v]\n",
    "                parent[v] = u        \n",
    "\n",
    "    displayMST(parent, graph, vertices_name)"
   ]
  },
  {
   "cell_type": "code",
   "execution_count": 64,
   "metadata": {},
   "outputs": [
    {
     "name": "stdout",
     "output_type": "stream",
     "text": [
      "Edge \tWeight\n",
      "A - B \t 2\n",
      "B - C \t 3\n",
      "A - D \t 6\n",
      "B - E \t 5\n",
      "Total Weight : 16\n"
     ]
    }
   ],
   "source": [
    "\n",
    "# Test Case 1 - Prim's Algorithm\n",
    "\n",
    "vertices = [\"A\", \"B\", \"C\", \"D\", \"E\"]\n",
    "graph = [   [0, 2, 0, 6, 0],\n",
    "            [2, 0, 3, 8, 5],\n",
    "            [0, 3, 0, 0, 7],\n",
    "            [6, 8, 0, 0, 9],\n",
    "            [0, 5, 7, 9, 0] ]\n",
    "\n",
    "PrimAlgorithm(graph, vertices)"
   ]
  },
  {
   "cell_type": "code",
   "execution_count": 66,
   "metadata": {},
   "outputs": [
    {
     "name": "stdout",
     "output_type": "stream",
     "text": [
      "Edge \tWeight\n",
      "A - B \t 1\n",
      "A - C \t 2\n",
      "A - D \t 3\n",
      "A - E \t 5\n",
      "E - F \t 8\n",
      "A - G \t 1\n",
      "Total Weight : 20\n"
     ]
    }
   ],
   "source": [
    "# Test Case 2 - Prim's Algorithm\n",
    "\n",
    "vertices = [\"A\", \"B\", \"C\", \"D\", \"E\", \"F\", \"G\"]\n",
    "graph = [   [0, 1, 2, 3, 5, 0, 1],\n",
    "            [1, 0, 4, 0, 0, 0, 0],\n",
    "            [2, 4, 0, 6, 0, 0, 0],\n",
    "            [3, 0, 6, 0, 7, 0, 0],\n",
    "            [5, 0, 0, 7, 0, 8, 0],\n",
    "            [0, 0, 0, 0, 8, 0, 9],\n",
    "            [1, 0, 0, 0, 0, 9, 0] ]\n",
    "\n",
    "PrimAlgorithm(graph, vertices)"
   ]
  },
  {
   "cell_type": "markdown",
   "metadata": {},
   "source": [
    "---"
   ]
  },
  {
   "cell_type": "markdown",
   "metadata": {},
   "source": [
    "## Kruskal's Algorithm"
   ]
  },
  {
   "cell_type": "markdown",
   "metadata": {},
   "source": [
    "Reference 1 : CPE112 - Data Structure Lecture 10 (Graph Implementation) \\\n",
    "Reference 2 : https://www.geeksforgeeks.org/kruskals-minimum-spanning-tree-algorithm-greedy-algo-2/ (Reference For Instance and data transformation)"
   ]
  },
  {
   "cell_type": "code",
   "execution_count": 8,
   "metadata": {},
   "outputs": [],
   "source": [
    "class UnionFind:\n",
    "# Python Implementation of Union_find class using union-by-size and path compression\n",
    "    class Position:\n",
    "        __slots__ = '_container' , '_element' , '_size' , '_parent'\n",
    "        def __init__(self, container, e):\n",
    "            self._container = container # reference to UnionFind instance\n",
    "            self._element = e\n",
    "            self._size = 1\n",
    "            self._parent = self # convention for a group leader\n",
    "        def element(self):\n",
    "            return self._element\n",
    "#------------------------- Union-find -------------------------\n",
    "    def make_group(self, e):\n",
    "        return self.Position(self, e)\n",
    "    \n",
    "    def find(self, p):\n",
    "        # Enter code here\n",
    "        if p._parent != p:\n",
    "            p._parent = self.find(p._parent)\n",
    "        return p._parent\n",
    "        \n",
    "    def union(self, p, q):\n",
    "        # Enter code here\n",
    "        a = self.find(p)\n",
    "        b = self.find(q)\n",
    "        if a is not b:\n",
    "            if a._size >= b._size:\n",
    "                b._parent = a\n",
    "                a._size += b._size\n",
    "            else:\n",
    "                a._parent = b\n",
    "                b._size += a._size"
   ]
  },
  {
   "cell_type": "code",
   "execution_count": 18,
   "metadata": {},
   "outputs": [],
   "source": [
    "class KruskalGraph():\n",
    "    def __init__(self, input_graph, vertices):\n",
    "        self.vertices = vertices\n",
    "        self.graph = []\n",
    "        self.transformGraph(input_graph)\n",
    "\n",
    "    def addEdge(self, u, v, w):\n",
    "        self.graph.append([u, v, w])\n",
    "\n",
    "    def transformGraph(self, input_graph):\n",
    "\n",
    "        n = len(input_graph)\n",
    "        for u in range(n):\n",
    "            for v in range(u+1, n):\n",
    "                if input_graph[u][v] > 0:\n",
    "                    self.addEdge(u, v, w=input_graph[u][v])\n",
    "\n",
    "    def findTotalWeightKruskal(self,ET):\n",
    "        totalWeight = 0\n",
    "        for value in ET:\n",
    "            totalWeight += value[2]\n",
    "        return totalWeight\n",
    "\n",
    "    def displayKruskalResult(self, ET):\n",
    "        print(\"Edge \\tWeight\")\n",
    "        for u, v, w in ET:\n",
    "            print(self.vertices[u], \"-\", self.vertices[v], \"\\t\", w)\n",
    "        print(\"Total Weight :\", self.findTotalWeightKruskal(ET))\n",
    "\n",
    "\n",
    "    def Kruskal(self):\n",
    "        ET = [] # Edge Tree เอาไว้เก็บ edge ที่เราเลือกไป\n",
    "        forest = UnionFind()\n",
    "        parent = {}\n",
    "\n",
    "        for v in range(len(self.graph)):\n",
    "            parent[v] = forest.make_group(v)\n",
    "\n",
    "        ecounter = 0\n",
    "        n = len(self.graph)-1\n",
    "        while ecounter < n and self.graph != []:\n",
    "            self.graph.sort(key=lambda x: x[2])\n",
    "            u, v, w = self.graph.pop(0)\n",
    "            a = forest.find(parent[u])\n",
    "            b = forest.find(parent[v])\n",
    "            if a is not b:\n",
    "                ET.append((u, v, w))\n",
    "                forest.union(a, b)\n",
    "                ecounter += 1\n",
    "                \n",
    "        self.displayKruskalResult(ET)"
   ]
  },
  {
   "cell_type": "code",
   "execution_count": 19,
   "metadata": {},
   "outputs": [
    {
     "name": "stdout",
     "output_type": "stream",
     "text": [
      "Edge \tWeight\n",
      "A - B \t 2\n",
      "B - C \t 3\n",
      "B - E \t 5\n",
      "A - D \t 6\n",
      "Total Weight : 16\n"
     ]
    }
   ],
   "source": [
    "# Test Case 1 - Kruskal's Algorithm\n",
    "vertices = [\"A\", \"B\", \"C\", \"D\", \"E\"]\n",
    "graph = [   [0, 2, 0, 6, 0],\n",
    "            [2, 0, 3, 8, 5],\n",
    "            [0, 3, 0, 0, 7],\n",
    "            [6, 8, 0, 0, 9],\n",
    "            [0, 5, 7, 9, 0] ]\n",
    "\n",
    "G = KruskalGraph(graph, vertices)\n",
    "G.Kruskal()"
   ]
  },
  {
   "cell_type": "code",
   "execution_count": 20,
   "metadata": {},
   "outputs": [
    {
     "name": "stdout",
     "output_type": "stream",
     "text": [
      "Edge \tWeight\n",
      "A - B \t 1\n",
      "A - G \t 1\n",
      "A - C \t 2\n",
      "A - D \t 3\n",
      "A - E \t 5\n",
      "E - F \t 8\n",
      "Total Weight : 20\n"
     ]
    }
   ],
   "source": [
    "# Test Case 2 - Kruskal's Algorithm\n",
    "vertices = [\"A\", \"B\", \"C\", \"D\", \"E\", \"F\", \"G\"]\n",
    "graph = [   [0, 1, 2, 3, 5, 0, 1],\n",
    "            [1, 0, 4, 0, 0, 0, 0],\n",
    "            [2, 4, 0, 6, 0, 0, 0],\n",
    "            [3, 0, 6, 0, 7, 0, 0],\n",
    "            [5, 0, 0, 7, 0, 8, 0],\n",
    "            [0, 0, 0, 0, 8, 0, 9],\n",
    "            [1, 0, 0, 0, 0, 9, 0] ]\n",
    "\n",
    "G = KruskalGraph(graph, vertices)\n",
    "G.Kruskal()"
   ]
  },
  {
   "cell_type": "markdown",
   "metadata": {},
   "source": [
    "---"
   ]
  },
  {
   "cell_type": "markdown",
   "metadata": {},
   "source": [
    "## Dijkstra's Algorithm"
   ]
  },
  {
   "cell_type": "code",
   "execution_count": 28,
   "metadata": {},
   "outputs": [],
   "source": [
    "class DijkstraGreedy():\n",
    "    def __init__(self, input_graph, s):\n",
    "        self.vertices = s\n",
    "        self.graph = input_graph\n",
    "\n",
    "    # Initialize Q Priority Queue\n",
    "    def initializeQ(self):\n",
    "        Q = []\n",
    "        for _ in graph:\n",
    "            distance = float('inf')\n",
    "            self.Insert(Q, self.vertices, distance)\n",
    "        return Q\n",
    "    \n",
    "    def Insert(self, Q, v, distance):\n",
    "        Q.append((v, distance))\n",
    "    \n",
    "    def Decrease(self, Q, v, distance):\n",
    "        for i in range(len(Q)):\n",
    "            if Q[i][0] == v:\n",
    "                Q[i] = (v, distance)\n",
    "                break\n",
    "\n",
    "    # Delete the minimum priority element\n",
    "    def DeleteMin(self, Q):\n",
    "        minValue = float('inf')\n",
    "        min_index = None\n",
    "        for i in range(len(Q)):\n",
    "            if Q[i][1] < minValue:\n",
    "                minValue = Q[i][1]\n",
    "                min_index = i\n",
    "        return Q.pop(min_index)\n",
    "    \n",
    "    def displayDijkstraResult(self, parent, ds):\n",
    "        print(\"Vertex \\tDistance from Source\")\n",
    "        for v in range(len(self.graph)):\n",
    "            print(self.vertices, \"-\", self.vertices[v], \"\\t\", ds)\n",
    "        print(\"Parent List: \", parent)\n",
    "        \n",
    "    def Dijkstra(self):\n",
    "        # Initialize Q Priority Queue\n",
    "        Q = self.initializeQ()\n",
    "        ds = 0\n",
    "        self.Decrease(Q, self.vertices, ds) # update priority of s with ds\n",
    "        Vt = [] # Empty set to store vertices that have been visited\n",
    "        parent = {}\n",
    "\n",
    "        n = len(self.graph)\n",
    "\n",
    "        for i in range(n-1) :\n",
    "            # Delete the minimum priority element\n",
    "            u, ds = self.DeleteMin(Q)\n",
    "            Vt.append(u)\n",
    "            for v in range(n):\n",
    "                if self.graph[u][v] > 0 and v not in Vt:\n",
    "                    if ds + self.graph[u][v] < Q[v][1]:\n",
    "                        ds = ds + self.graph[u][v]\n",
    "                        self.Decrease(Q, v, ds)\n",
    "                        parent[v] = u\n",
    "\n",
    "        self.displayDijkstraResult(parent, ds)\n",
    "\n"
   ]
  },
  {
   "cell_type": "code",
   "execution_count": 29,
   "metadata": {},
   "outputs": [
    {
     "ename": "TypeError",
     "evalue": "list indices must be integers or slices, not str",
     "output_type": "error",
     "traceback": [
      "\u001b[1;31m---------------------------------------------------------------------------\u001b[0m",
      "\u001b[1;31mTypeError\u001b[0m                                 Traceback (most recent call last)",
      "Cell \u001b[1;32mIn[29], line 10\u001b[0m\n\u001b[0;32m      3\u001b[0m graph \u001b[38;5;241m=\u001b[39m [   [\u001b[38;5;241m0\u001b[39m, \u001b[38;5;241m2\u001b[39m, \u001b[38;5;241m0\u001b[39m, \u001b[38;5;241m6\u001b[39m, \u001b[38;5;241m0\u001b[39m],\n\u001b[0;32m      4\u001b[0m             [\u001b[38;5;241m2\u001b[39m, \u001b[38;5;241m0\u001b[39m, \u001b[38;5;241m3\u001b[39m, \u001b[38;5;241m8\u001b[39m, \u001b[38;5;241m5\u001b[39m],\n\u001b[0;32m      5\u001b[0m             [\u001b[38;5;241m0\u001b[39m, \u001b[38;5;241m3\u001b[39m, \u001b[38;5;241m0\u001b[39m, \u001b[38;5;241m0\u001b[39m, \u001b[38;5;241m7\u001b[39m],\n\u001b[0;32m      6\u001b[0m             [\u001b[38;5;241m6\u001b[39m, \u001b[38;5;241m8\u001b[39m, \u001b[38;5;241m0\u001b[39m, \u001b[38;5;241m0\u001b[39m, \u001b[38;5;241m9\u001b[39m],\n\u001b[0;32m      7\u001b[0m             [\u001b[38;5;241m0\u001b[39m, \u001b[38;5;241m5\u001b[39m, \u001b[38;5;241m7\u001b[39m, \u001b[38;5;241m9\u001b[39m, \u001b[38;5;241m0\u001b[39m] ]\n\u001b[0;32m      9\u001b[0m Dijkstra \u001b[38;5;241m=\u001b[39m DijkstraGreedy(graph, vertices[\u001b[38;5;241m0\u001b[39m])\n\u001b[1;32m---> 10\u001b[0m \u001b[43mDijkstra\u001b[49m\u001b[38;5;241;43m.\u001b[39;49m\u001b[43mDijkstra\u001b[49m\u001b[43m(\u001b[49m\u001b[43m)\u001b[49m\n",
      "Cell \u001b[1;32mIn[28], line 54\u001b[0m, in \u001b[0;36mDijkstraGreedy.Dijkstra\u001b[1;34m(self)\u001b[0m\n\u001b[0;32m     52\u001b[0m Vt\u001b[38;5;241m.\u001b[39mappend(u)\n\u001b[0;32m     53\u001b[0m \u001b[38;5;28;01mfor\u001b[39;00m v \u001b[38;5;129;01min\u001b[39;00m \u001b[38;5;28mrange\u001b[39m(n):\n\u001b[1;32m---> 54\u001b[0m     \u001b[38;5;28;01mif\u001b[39;00m \u001b[38;5;28;43mself\u001b[39;49m\u001b[38;5;241;43m.\u001b[39;49m\u001b[43mgraph\u001b[49m\u001b[43m[\u001b[49m\u001b[43mu\u001b[49m\u001b[43m]\u001b[49m[v] \u001b[38;5;241m>\u001b[39m \u001b[38;5;241m0\u001b[39m \u001b[38;5;129;01mand\u001b[39;00m v \u001b[38;5;129;01mnot\u001b[39;00m \u001b[38;5;129;01min\u001b[39;00m Vt:\n\u001b[0;32m     55\u001b[0m         \u001b[38;5;28;01mif\u001b[39;00m ds \u001b[38;5;241m+\u001b[39m \u001b[38;5;28mself\u001b[39m\u001b[38;5;241m.\u001b[39mgraph[u][v] \u001b[38;5;241m<\u001b[39m Q[v][\u001b[38;5;241m1\u001b[39m]:\n\u001b[0;32m     56\u001b[0m             ds \u001b[38;5;241m=\u001b[39m ds \u001b[38;5;241m+\u001b[39m \u001b[38;5;28mself\u001b[39m\u001b[38;5;241m.\u001b[39mgraph[u][v]\n",
      "\u001b[1;31mTypeError\u001b[0m: list indices must be integers or slices, not str"
     ]
    }
   ],
   "source": [
    "# Test Case 1 - Dijkstra's Algorithm\n",
    "vertices = [\"A\", \"B\", \"C\", \"D\", \"E\"]\n",
    "graph = [   [0, 2, 0, 6, 0],\n",
    "            [2, 0, 3, 8, 5],\n",
    "            [0, 3, 0, 0, 7],\n",
    "            [6, 8, 0, 0, 9],\n",
    "            [0, 5, 7, 9, 0] ]\n",
    "\n",
    "Dijkstra = DijkstraGreedy(graph, vertices[0])\n",
    "Dijkstra.Dijkstra()"
   ]
  },
  {
   "cell_type": "code",
   "execution_count": null,
   "metadata": {},
   "outputs": [],
   "source": []
  }
 ],
 "metadata": {
  "kernelspec": {
   "display_name": "Python 3",
   "language": "python",
   "name": "python3"
  },
  "language_info": {
   "codemirror_mode": {
    "name": "ipython",
    "version": 3
   },
   "file_extension": ".py",
   "mimetype": "text/x-python",
   "name": "python",
   "nbconvert_exporter": "python",
   "pygments_lexer": "ipython3",
   "version": "3.11.4"
  }
 },
 "nbformat": 4,
 "nbformat_minor": 2
}
