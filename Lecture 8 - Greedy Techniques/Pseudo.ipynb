{
 "cells": [
  {
   "cell_type": "markdown",
   "metadata": {},
   "source": [
    "### Prim's Algorithm"
   ]
  },
  {
   "cell_type": "markdown",
   "metadata": {},
   "source": [
    "Reference 1 : https://www.geeksforgeeks.org/prims-minimum-spanning-tree-mst-greedy-algo-5/"
   ]
  },
  {
   "cell_type": "code",
   "execution_count": 10,
   "metadata": {},
   "outputs": [],
   "source": [
    "# ฟังก์ชัน MinKey เอาไว้หาว่าตัวถัดไปที่ติดกับ Vertices ก่อนหน้าคือตัวไหนและยังไม่ถูกเลือก\n",
    "def findMinWeightIndex(key, VT):\n",
    "    min = float('inf')\n",
    "    for v in range(len(key)):\n",
    "        if key[v] < min and VT[v] == False:\n",
    "            min = key[v]\n",
    "            min_index = v\n",
    "\n",
    "    return min_index\n",
    "\n",
    "def findTotalWeight(graph, parent):\n",
    "    totalWeight = 0\n",
    "    for i in range(1, len(graph)):\n",
    "        totalWeight += graph[i][parent[i]]\n",
    "\n",
    "    return totalWeight\n",
    "\n",
    "def displayMST(parent, graph):\n",
    "    print(\"Edge \\tWeight\")\n",
    "    for i in range(1, len(graph)):\n",
    "        print(parent[i], \"-\", i, \"\\t\", graph[i][parent[i]])\n",
    "    print(\"Total Weight :\" , findTotalWeight(graph, parent))\n",
    "\n",
    "\n",
    "def PrimAlgorithm(inputGraph):\n",
    "\n",
    "    graph = inputGraph.copy()\n",
    "\n",
    "    n = len(graph)\n",
    "\n",
    "    key = [float('inf')] * n\n",
    "    parent = [None] * n\n",
    "    key[0] = 0 # เริ่มที่ตัวแรก\n",
    "    VT = [False] * n # เอาไว้นับว่าเราเลือกตัวไหนแล้วบ้าง\n",
    "\n",
    "    parent[0] = -1\n",
    "\n",
    "    for i in range(n):\n",
    "\n",
    "        u = findMinWeightIndex(key, VT)\n",
    "\n",
    "        VT[u] = True\n",
    "\n",
    "        for v in range(n):\n",
    "            if graph[u][v] > 0 and VT[v] == False and key[v] > graph[u][v]:\n",
    "                key[v] = graph[u][v]\n",
    "                parent[v] = u        \n",
    "\n",
    "    displayMST(parent, graph)"
   ]
  },
  {
   "cell_type": "code",
   "execution_count": 11,
   "metadata": {},
   "outputs": [
    {
     "name": "stdout",
     "output_type": "stream",
     "text": [
      "Edge \tWeight\n",
      "0 - 1 \t 2\n",
      "1 - 2 \t 3\n",
      "0 - 3 \t 6\n",
      "1 - 4 \t 5\n",
      "Total Weight : 16\n"
     ]
    }
   ],
   "source": [
    "graph = [   [0, 2, 0, 6, 0],\n",
    "            [2, 0, 3, 8, 5],\n",
    "            [0, 3, 0, 0, 7],\n",
    "            [6, 8, 0, 0, 9],\n",
    "            [0, 5, 7, 9, 0] ]\n",
    "\n",
    "PrimAlgorithm(graph)"
   ]
  },
  {
   "cell_type": "markdown",
   "metadata": {},
   "source": [
    "---"
   ]
  },
  {
   "cell_type": "markdown",
   "metadata": {},
   "source": [
    "## Kruskal's Algorithm"
   ]
  },
  {
   "cell_type": "code",
   "execution_count": 11,
   "metadata": {},
   "outputs": [],
   "source": [
    "class KruskalGraph():\n",
    "    def __init__(self, input_graph):\n",
    "        self.graph = []\n",
    "        self.transformGraph(input_graph)\n",
    "\n",
    "    def addEdge(self, u, v, w):\n",
    "        self.graph.append([u, v, w])\n",
    "\n",
    "    def transformGraph(self, input_graph):\n",
    "\n",
    "        n = len(input_graph)\n",
    "        for u in range(n):\n",
    "            for v in range(u+1, n):\n",
    "                if input_graph[u][v] > 0:\n",
    "                    self.addEdge(u, v, w=input_graph[u][v])"
   ]
  },
  {
   "cell_type": "code",
   "execution_count": 12,
   "metadata": {},
   "outputs": [
    {
     "data": {
      "text/plain": [
       "[[0, 1, 2], [0, 3, 6], [1, 2, 3], [1, 3, 8], [1, 4, 5], [2, 4, 7], [3, 4, 9]]"
      ]
     },
     "execution_count": 12,
     "metadata": {},
     "output_type": "execute_result"
    }
   ],
   "source": [
    "graph = [[0, 2, 0, 6, 0],\n",
    "         [2, 0, 3, 8, 5],\n",
    "         [0, 3, 0, 0, 7],\n",
    "         [6, 8, 0, 0, 9],\n",
    "         [0, 5, 7, 9, 0]]\n",
    "\n",
    "G = KruskalGraph(graph)\n",
    "\n",
    "G.graph"
   ]
  },
  {
   "cell_type": "code",
   "execution_count": 1,
   "metadata": {},
   "outputs": [
    {
     "ename": "SyntaxError",
     "evalue": "'(' was never closed (74062182.py, line 4)",
     "output_type": "error",
     "traceback": [
      "\u001b[1;36m  Cell \u001b[1;32mIn[1], line 4\u001b[1;36m\u001b[0m\n\u001b[1;33m    return find(parent[u], parent\u001b[0m\n\u001b[1;37m               ^\u001b[0m\n\u001b[1;31mSyntaxError\u001b[0m\u001b[1;31m:\u001b[0m '(' was never closed\n"
     ]
    }
   ],
   "source": [
    "def find(u, parent):\n",
    "    if parent[u] == u:\n",
    "        return u\n",
    "    return find(parent[u], parent\n",
    "                \n",
    "def union(u, v, parent):\n",
    "    u = find(u, parent)\n",
    "    v = find(v, parent)\n",
    "    parent[u] = v\n",
    "\n",
    "def Kruskal(graph):\n",
    "    ET = []\n",
    "    ecounter = 0\n",
    "    k = 0\n",
    "    while ecounter < len(graph)-1:\n",
    "        k += 1\n",
    "        if ET union graph[k] has no cycles:\n",
    "            ET = ET union graph[k]\n",
    "            ecounter += 1\n",
    "\n",
    "    return ET\n"
   ]
  },
  {
   "cell_type": "code",
   "execution_count": 4,
   "metadata": {},
   "outputs": [
    {
     "ename": "AttributeError",
     "evalue": "'Graph' object has no attribute 'add_edge'",
     "output_type": "error",
     "traceback": [
      "\u001b[1;31m---------------------------------------------------------------------------\u001b[0m",
      "\u001b[1;31mAttributeError\u001b[0m                            Traceback (most recent call last)",
      "Cell \u001b[1;32mIn[4], line 20\u001b[0m\n\u001b[0;32m      1\u001b[0m \u001b[38;5;66;03m# import networkx as nx\u001b[39;00m\n\u001b[0;32m      2\u001b[0m \n\u001b[0;32m      3\u001b[0m \u001b[38;5;66;03m# def Kruskal(graph):\u001b[39;00m\n\u001b[1;32m   (...)\u001b[0m\n\u001b[0;32m     12\u001b[0m \n\u001b[0;32m     13\u001b[0m \u001b[38;5;66;03m# Example usage\u001b[39;00m\n\u001b[0;32m     14\u001b[0m graph \u001b[38;5;241m=\u001b[39m [[\u001b[38;5;241m0\u001b[39m, \u001b[38;5;241m2\u001b[39m, \u001b[38;5;241m0\u001b[39m, \u001b[38;5;241m6\u001b[39m, \u001b[38;5;241m0\u001b[39m],\n\u001b[0;32m     15\u001b[0m          [\u001b[38;5;241m2\u001b[39m, \u001b[38;5;241m0\u001b[39m, \u001b[38;5;241m3\u001b[39m, \u001b[38;5;241m8\u001b[39m, \u001b[38;5;241m5\u001b[39m],\n\u001b[0;32m     16\u001b[0m          [\u001b[38;5;241m0\u001b[39m, \u001b[38;5;241m3\u001b[39m, \u001b[38;5;241m0\u001b[39m, \u001b[38;5;241m0\u001b[39m, \u001b[38;5;241m7\u001b[39m],\n\u001b[0;32m     17\u001b[0m          [\u001b[38;5;241m6\u001b[39m, \u001b[38;5;241m8\u001b[39m, \u001b[38;5;241m0\u001b[39m, \u001b[38;5;241m0\u001b[39m, \u001b[38;5;241m9\u001b[39m],\n\u001b[0;32m     18\u001b[0m          [\u001b[38;5;241m0\u001b[39m, \u001b[38;5;241m5\u001b[39m, \u001b[38;5;241m7\u001b[39m, \u001b[38;5;241m9\u001b[39m, \u001b[38;5;241m0\u001b[39m]]\n\u001b[1;32m---> 20\u001b[0m G \u001b[38;5;241m=\u001b[39m \u001b[43mGraph\u001b[49m\u001b[43m(\u001b[49m\u001b[43mgraph\u001b[49m\u001b[43m)\u001b[49m\n\u001b[0;32m     22\u001b[0m \u001b[38;5;66;03m# MST_edges = Kruskal(graph)\u001b[39;00m\n\u001b[0;32m     23\u001b[0m \u001b[38;5;66;03m# print(\"Minimum Spanning Tree Edges:\")\u001b[39;00m\n\u001b[0;32m     24\u001b[0m \u001b[38;5;66;03m# for u, v in MST_edges:\u001b[39;00m\n\u001b[0;32m     25\u001b[0m \u001b[38;5;66;03m#     print(u, \"-\", v)\u001b[39;00m\n",
      "Cell \u001b[1;32mIn[3], line 4\u001b[0m, in \u001b[0;36mGraph.__init__\u001b[1;34m(self, input_graph)\u001b[0m\n\u001b[0;32m      2\u001b[0m \u001b[38;5;28;01mdef\u001b[39;00m \u001b[38;5;21m__init__\u001b[39m(\u001b[38;5;28mself\u001b[39m, input_graph):\n\u001b[0;32m      3\u001b[0m     \u001b[38;5;28mself\u001b[39m\u001b[38;5;241m.\u001b[39mgraph \u001b[38;5;241m=\u001b[39m []\n\u001b[1;32m----> 4\u001b[0m     \u001b[38;5;28;43mself\u001b[39;49m\u001b[38;5;241;43m.\u001b[39;49m\u001b[43mtransformGraph\u001b[49m\u001b[43m(\u001b[49m\u001b[43minput_graph\u001b[49m\u001b[43m)\u001b[49m\n",
      "Cell \u001b[1;32mIn[3], line 15\u001b[0m, in \u001b[0;36mGraph.transformGraph\u001b[1;34m(self, input_graph)\u001b[0m\n\u001b[0;32m     13\u001b[0m \u001b[38;5;28;01mfor\u001b[39;00m v \u001b[38;5;129;01min\u001b[39;00m \u001b[38;5;28mrange\u001b[39m(u\u001b[38;5;241m+\u001b[39m\u001b[38;5;241m1\u001b[39m, n):\n\u001b[0;32m     14\u001b[0m     \u001b[38;5;28;01mif\u001b[39;00m graph[u][v] \u001b[38;5;241m>\u001b[39m \u001b[38;5;241m0\u001b[39m:\n\u001b[1;32m---> 15\u001b[0m         \u001b[38;5;28;43mself\u001b[39;49m\u001b[38;5;241;43m.\u001b[39;49m\u001b[43madd_edge\u001b[49m(u, v, weight\u001b[38;5;241m=\u001b[39mgraph[u][v])\n",
      "\u001b[1;31mAttributeError\u001b[0m: 'Graph' object has no attribute 'add_edge'"
     ]
    }
   ],
   "source": [
    "# import networkx as nx\n",
    "\n",
    "# def Kruskal(graph):\n",
    "#     G = nx.Graph()\n",
    "#     for u in range(len(graph)):\n",
    "#         for v in range(u+1, len(graph)):\n",
    "#             if graph[u][v] > 0:\n",
    "#                 G.add_edge(u, v, weight=graph[u][v])\n",
    "\n",
    "#     MST = nx.minimum_spanning_tree(G)\n",
    "#     return MST.edges()\n",
    "\n",
    "# Example usage\n",
    "graph = [[0, 2, 0, 6, 0],\n",
    "         [2, 0, 3, 8, 5],\n",
    "         [0, 3, 0, 0, 7],\n",
    "         [6, 8, 0, 0, 9],\n",
    "         [0, 5, 7, 9, 0]]\n",
    "\n",
    "G = Graph(graph)\n",
    "\n",
    "# MST_edges = Kruskal(graph)\n",
    "# print(\"Minimum Spanning Tree Edges:\")\n",
    "# for u, v in MST_edges:\n",
    "#     print(u, \"-\", v)\n"
   ]
  },
  {
   "cell_type": "code",
   "execution_count": null,
   "metadata": {},
   "outputs": [],
   "source": []
  }
 ],
 "metadata": {
  "kernelspec": {
   "display_name": "Python 3",
   "language": "python",
   "name": "python3"
  },
  "language_info": {
   "codemirror_mode": {
    "name": "ipython",
    "version": 3
   },
   "file_extension": ".py",
   "mimetype": "text/x-python",
   "name": "python",
   "nbconvert_exporter": "python",
   "pygments_lexer": "ipython3",
   "version": "3.11.4"
  }
 },
 "nbformat": 4,
 "nbformat_minor": 2
}
