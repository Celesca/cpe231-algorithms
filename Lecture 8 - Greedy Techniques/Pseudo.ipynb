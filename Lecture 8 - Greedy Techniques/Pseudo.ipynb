{
 "cells": [
  {
   "cell_type": "markdown",
   "metadata": {},
   "source": [
    "### Prim's Algorithm"
   ]
  },
  {
   "cell_type": "markdown",
   "metadata": {},
   "source": [
    "Reference 1 : https://www.geeksforgeeks.org/prims-minimum-spanning-tree-mst-greedy-algo-5/"
   ]
  },
  {
   "cell_type": "code",
   "execution_count": 10,
   "metadata": {},
   "outputs": [],
   "source": [
    "# ฟังก์ชัน MinKey เอาไว้หาว่าตัวถัดไปที่ติดกับ Vertices ก่อนหน้าคือตัวไหนและยังไม่ถูกเลือก\n",
    "def findMinWeightIndex(key, VT):\n",
    "    min = float('inf')\n",
    "    for v in range(len(key)):\n",
    "        if key[v] < min and VT[v] == False:\n",
    "            min = key[v]\n",
    "            min_index = v\n",
    "\n",
    "    return min_index\n",
    "\n",
    "def findTotalWeight(graph, parent):\n",
    "    totalWeight = 0\n",
    "    for i in range(1, len(graph)):\n",
    "        totalWeight += graph[i][parent[i]]\n",
    "\n",
    "    return totalWeight\n",
    "\n",
    "def displayMST(parent, graph):\n",
    "    print(\"Edge \\tWeight\")\n",
    "    for i in range(1, len(graph)):\n",
    "        print(parent[i], \"-\", i, \"\\t\", graph[i][parent[i]])\n",
    "    print(\"Total Weight :\" , findTotalWeight(graph, parent))\n",
    "\n",
    "\n",
    "def PrimAlgorithm(inputGraph):\n",
    "\n",
    "    graph = inputGraph.copy()\n",
    "\n",
    "    n = len(graph)\n",
    "\n",
    "    key = [float('inf')] * n\n",
    "    parent = [None] * n\n",
    "    key[0] = 0 # เริ่มที่ตัวแรก\n",
    "    VT = [False] * n # เอาไว้นับว่าเราเลือกตัวไหนแล้วบ้าง\n",
    "\n",
    "    parent[0] = -1\n",
    "\n",
    "    for i in range(n):\n",
    "\n",
    "        u = findMinWeightIndex(key, VT)\n",
    "\n",
    "        VT[u] = True\n",
    "\n",
    "        for v in range(n):\n",
    "            if graph[u][v] > 0 and VT[v] == False and key[v] > graph[u][v]:\n",
    "                key[v] = graph[u][v]\n",
    "                parent[v] = u        \n",
    "\n",
    "    displayMST(parent, graph)"
   ]
  },
  {
   "cell_type": "code",
   "execution_count": 11,
   "metadata": {},
   "outputs": [
    {
     "name": "stdout",
     "output_type": "stream",
     "text": [
      "Edge \tWeight\n",
      "0 - 1 \t 2\n",
      "1 - 2 \t 3\n",
      "0 - 3 \t 6\n",
      "1 - 4 \t 5\n",
      "Total Weight : 16\n"
     ]
    }
   ],
   "source": [
    "graph = [   [0, 2, 0, 6, 0],\n",
    "            [2, 0, 3, 8, 5],\n",
    "            [0, 3, 0, 0, 7],\n",
    "            [6, 8, 0, 0, 9],\n",
    "            [0, 5, 7, 9, 0] ]\n",
    "\n",
    "PrimAlgorithm(graph)"
   ]
  },
  {
   "cell_type": "markdown",
   "metadata": {},
   "source": [
    "---"
   ]
  },
  {
   "cell_type": "markdown",
   "metadata": {},
   "source": [
    "## Kruskal's Algorithm"
   ]
  },
  {
   "cell_type": "markdown",
   "metadata": {},
   "source": []
  }
 ],
 "metadata": {
  "kernelspec": {
   "display_name": "Python 3",
   "language": "python",
   "name": "python3"
  },
  "language_info": {
   "codemirror_mode": {
    "name": "ipython",
    "version": 3
   },
   "file_extension": ".py",
   "mimetype": "text/x-python",
   "name": "python",
   "nbconvert_exporter": "python",
   "pygments_lexer": "ipython3",
   "version": "3.11.4"
  }
 },
 "nbformat": 4,
 "nbformat_minor": 2
}
