{
 "cells": [
  {
   "cell_type": "markdown",
   "metadata": {},
   "source": [
    "### Prim's Algorithm"
   ]
  },
  {
   "cell_type": "markdown",
   "metadata": {},
   "source": [
    "Reference 1 : https://www.geeksforgeeks.org/prims-minimum-spanning-tree-mst-greedy-algo-5/"
   ]
  },
  {
   "cell_type": "code",
   "execution_count": 63,
   "metadata": {},
   "outputs": [],
   "source": [
    "# ฟังก์ชัน MinKey เอาไว้หาว่าตัวถัดไปที่ติดกับ Vertices ก่อนหน้าคือตัวไหนและยังไม่ถูกเลือก\n",
    "def findMinWeightIndex(key, VT):\n",
    "    minValue = float('inf')\n",
    "    min_index = None\n",
    "    for v in range(len(key)):\n",
    "        if key[v] < minValue and VT[v] == False:\n",
    "            minValue = key[v]\n",
    "            min_index = v\n",
    "\n",
    "    if min_index == None:\n",
    "        return\n",
    "    else:\n",
    "        return min_index\n",
    "\n",
    "def findTotalWeight(graph, parent):\n",
    "    totalWeight = 0\n",
    "    for i in range(1, len(graph)):\n",
    "        if parent[i] is not None:\n",
    "            totalWeight += graph[i][parent[i]]\n",
    "\n",
    "    return totalWeight\n",
    "\n",
    "def displayMST(parent, graph, vertices_name):\n",
    "    print(\"Edge \\tWeight\")\n",
    "    for i in range(1, len(graph)):\n",
    "        if parent[i] is not None:\n",
    "            print(vertices_name[parent[i]], \"-\", vertices_name[i], \"\\t\", graph[i][parent[i]])\n",
    "    print(\"Total Weight :\", findTotalWeight(graph, parent))\n",
    "\n",
    "\n",
    "def PrimAlgorithm(inputGraph,vertices_name):\n",
    "\n",
    "    graph = inputGraph.copy()\n",
    "\n",
    "    n = len(graph)\n",
    "\n",
    "    key = [float('inf')] * n\n",
    "    parent = [None] * n\n",
    "    key[0] = 0 # เริ่มที่ตัวแรก\n",
    "    VT = [False] * n # เอาไว้นับว่าเราเลือกตัวไหนแล้วบ้าง\n",
    "\n",
    "    parent[0] = -1\n",
    "\n",
    "    for _ in range(n):\n",
    "\n",
    "        u = findMinWeightIndex(key, VT)\n",
    "\n",
    "        if u == None:\n",
    "            break\n",
    "        VT[u] = True\n",
    "\n",
    "        for v in range(n):\n",
    "            if graph[u][v] > 0 and VT[v] == False and key[v] > graph[u][v]:\n",
    "                key[v] = graph[u][v]\n",
    "                parent[v] = u        \n",
    "\n",
    "    displayMST(parent, graph, vertices_name)"
   ]
  },
  {
   "cell_type": "code",
   "execution_count": 64,
   "metadata": {},
   "outputs": [
    {
     "name": "stdout",
     "output_type": "stream",
     "text": [
      "Edge \tWeight\n",
      "A - B \t 2\n",
      "B - C \t 3\n",
      "A - D \t 6\n",
      "B - E \t 5\n",
      "Total Weight : 16\n"
     ]
    }
   ],
   "source": [
    "\n",
    "# Test Case 1 - Prim's Algorithm\n",
    "\n",
    "vertices = [\"A\", \"B\", \"C\", \"D\", \"E\"]\n",
    "graph = [   [0, 2, 0, 6, 0],\n",
    "            [2, 0, 3, 8, 5],\n",
    "            [0, 3, 0, 0, 7],\n",
    "            [6, 8, 0, 0, 9],\n",
    "            [0, 5, 7, 9, 0] ]\n",
    "\n",
    "PrimAlgorithm(graph, vertices)"
   ]
  },
  {
   "cell_type": "code",
   "execution_count": 66,
   "metadata": {},
   "outputs": [
    {
     "name": "stdout",
     "output_type": "stream",
     "text": [
      "Edge \tWeight\n",
      "A - B \t 1\n",
      "A - C \t 2\n",
      "A - D \t 3\n",
      "A - E \t 5\n",
      "E - F \t 8\n",
      "A - G \t 1\n",
      "Total Weight : 20\n"
     ]
    }
   ],
   "source": [
    "# Test Case 2 - Prim's Algorithm\n",
    "\n",
    "vertices = [\"A\", \"B\", \"C\", \"D\", \"E\", \"F\", \"G\"]\n",
    "graph = [   [0, 1, 2, 3, 5, 0, 1],\n",
    "            [1, 0, 4, 0, 0, 0, 0],\n",
    "            [2, 4, 0, 6, 0, 0, 0],\n",
    "            [3, 0, 6, 0, 7, 0, 0],\n",
    "            [5, 0, 0, 7, 0, 8, 0],\n",
    "            [0, 0, 0, 0, 8, 0, 9],\n",
    "            [1, 0, 0, 0, 0, 9, 0] ]\n",
    "\n",
    "PrimAlgorithm(graph, vertices)"
   ]
  },
  {
   "cell_type": "markdown",
   "metadata": {},
   "source": [
    "---"
   ]
  },
  {
   "cell_type": "markdown",
   "metadata": {},
   "source": [
    "## Kruskal's Algorithm"
   ]
  },
  {
   "cell_type": "markdown",
   "metadata": {},
   "source": [
    "Reference 1 : CPE112 - Data Structure Lecture 10 (Graph Implementation) \\\n",
    "Reference 2 : https://www.geeksforgeeks.org/kruskals-minimum-spanning-tree-algorithm-greedy-algo-2/ (Reference For Instance and data transformation)"
   ]
  },
  {
   "cell_type": "code",
   "execution_count": 8,
   "metadata": {},
   "outputs": [],
   "source": [
    "class UnionFind:\n",
    "# Python Implementation of Union_find class using union-by-size and path compression\n",
    "    class Position:\n",
    "        __slots__ = '_container' , '_element' , '_size' , '_parent'\n",
    "        def __init__(self, container, e):\n",
    "            self._container = container # reference to UnionFind instance\n",
    "            self._element = e\n",
    "            self._size = 1\n",
    "            self._parent = self # convention for a group leader\n",
    "        def element(self):\n",
    "            return self._element\n",
    "#------------------------- Union-find -------------------------\n",
    "    def make_group(self, e):\n",
    "        return self.Position(self, e)\n",
    "    \n",
    "    def find(self, p):\n",
    "        # Enter code here\n",
    "        if p._parent != p:\n",
    "            p._parent = self.find(p._parent)\n",
    "        return p._parent\n",
    "        \n",
    "    def union(self, p, q):\n",
    "        # Enter code here\n",
    "        a = self.find(p)\n",
    "        b = self.find(q)\n",
    "        if a is not b:\n",
    "            if a._size >= b._size:\n",
    "                b._parent = a\n",
    "                a._size += b._size\n",
    "            else:\n",
    "                a._parent = b\n",
    "                b._size += a._size"
   ]
  },
  {
   "cell_type": "code",
   "execution_count": 18,
   "metadata": {},
   "outputs": [],
   "source": [
    "class KruskalGraph():\n",
    "    def __init__(self, input_graph, vertices):\n",
    "        self.vertices = vertices\n",
    "        self.graph = []\n",
    "        self.transformGraph(input_graph)\n",
    "\n",
    "    def addEdge(self, u, v, w):\n",
    "        self.graph.append([u, v, w])\n",
    "\n",
    "    def transformGraph(self, input_graph):\n",
    "\n",
    "        n = len(input_graph)\n",
    "        for u in range(n):\n",
    "            for v in range(u+1, n):\n",
    "                if input_graph[u][v] > 0:\n",
    "                    self.addEdge(u, v, w=input_graph[u][v])\n",
    "\n",
    "    def findTotalWeightKruskal(self,ET):\n",
    "        totalWeight = 0\n",
    "        for value in ET:\n",
    "            totalWeight += value[2]\n",
    "        return totalWeight\n",
    "\n",
    "    def displayKruskalResult(self, ET):\n",
    "        print(\"Edge \\tWeight\")\n",
    "        for u, v, w in ET:\n",
    "            print(self.vertices[u], \"-\", self.vertices[v], \"\\t\", w)\n",
    "        print(\"Total Weight :\", self.findTotalWeightKruskal(ET))\n",
    "\n",
    "\n",
    "    def Kruskal(self):\n",
    "        ET = [] # Edge Tree เอาไว้เก็บ edge ที่เราเลือกไป\n",
    "        forest = UnionFind()\n",
    "        parent = {}\n",
    "\n",
    "        for v in range(len(self.graph)):\n",
    "            parent[v] = forest.make_group(v)\n",
    "\n",
    "        ecounter = 0\n",
    "        n = len(self.graph)-1\n",
    "        while ecounter < n and self.graph != []:\n",
    "            self.graph.sort(key=lambda x: x[2])\n",
    "            u, v, w = self.graph.pop(0)\n",
    "            a = forest.find(parent[u])\n",
    "            b = forest.find(parent[v])\n",
    "            if a is not b:\n",
    "                ET.append((u, v, w))\n",
    "                forest.union(a, b)\n",
    "                ecounter += 1\n",
    "                \n",
    "        self.displayKruskalResult(ET)"
   ]
  },
  {
   "cell_type": "code",
   "execution_count": 19,
   "metadata": {},
   "outputs": [
    {
     "name": "stdout",
     "output_type": "stream",
     "text": [
      "Edge \tWeight\n",
      "A - B \t 2\n",
      "B - C \t 3\n",
      "B - E \t 5\n",
      "A - D \t 6\n",
      "Total Weight : 16\n"
     ]
    }
   ],
   "source": [
    "# Test Case 1 - Kruskal's Algorithm\n",
    "vertices = [\"A\", \"B\", \"C\", \"D\", \"E\"]\n",
    "graph = [   [0, 2, 0, 6, 0],\n",
    "            [2, 0, 3, 8, 5],\n",
    "            [0, 3, 0, 0, 7],\n",
    "            [6, 8, 0, 0, 9],\n",
    "            [0, 5, 7, 9, 0] ]\n",
    "\n",
    "G = KruskalGraph(graph, vertices)\n",
    "G.Kruskal()"
   ]
  },
  {
   "cell_type": "code",
   "execution_count": 20,
   "metadata": {},
   "outputs": [
    {
     "name": "stdout",
     "output_type": "stream",
     "text": [
      "Edge \tWeight\n",
      "A - B \t 1\n",
      "A - G \t 1\n",
      "A - C \t 2\n",
      "A - D \t 3\n",
      "A - E \t 5\n",
      "E - F \t 8\n",
      "Total Weight : 20\n"
     ]
    }
   ],
   "source": [
    "# Test Case 2 - Kruskal's Algorithm\n",
    "vertices = [\"A\", \"B\", \"C\", \"D\", \"E\", \"F\", \"G\"]\n",
    "graph = [   [0, 1, 2, 3, 5, 0, 1],\n",
    "            [1, 0, 4, 0, 0, 0, 0],\n",
    "            [2, 4, 0, 6, 0, 0, 0],\n",
    "            [3, 0, 6, 0, 7, 0, 0],\n",
    "            [5, 0, 0, 7, 0, 8, 0],\n",
    "            [0, 0, 0, 0, 8, 0, 9],\n",
    "            [1, 0, 0, 0, 0, 9, 0] ]\n",
    "\n",
    "G = KruskalGraph(graph, vertices)\n",
    "G.Kruskal()"
   ]
  },
  {
   "cell_type": "markdown",
   "metadata": {},
   "source": [
    "---"
   ]
  },
  {
   "cell_type": "markdown",
   "metadata": {},
   "source": [
    "## Dijkstra's Algorithm"
   ]
  }
 ],
 "metadata": {
  "kernelspec": {
   "display_name": "Python 3",
   "language": "python",
   "name": "python3"
  },
  "language_info": {
   "codemirror_mode": {
    "name": "ipython",
    "version": 3
   },
   "file_extension": ".py",
   "mimetype": "text/x-python",
   "name": "python",
   "nbconvert_exporter": "python",
   "pygments_lexer": "ipython3",
   "version": "3.11.4"
  }
 },
 "nbformat": 4,
 "nbformat_minor": 2
}
