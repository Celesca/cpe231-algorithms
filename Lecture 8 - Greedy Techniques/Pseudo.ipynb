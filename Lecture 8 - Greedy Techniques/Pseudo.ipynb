{
 "cells": [
  {
   "cell_type": "markdown",
   "metadata": {},
   "source": [
    "### Prim's Algorithm"
   ]
  },
  {
   "cell_type": "code",
   "execution_count": 2,
   "metadata": {},
   "outputs": [],
   "source": [
    "class Graph:\n",
    "    def __init__(self, vertices):\n",
    "        self.V = vertices\n",
    "        self.graph = [[0 for column in range(vertices)] for row in range(vertices)]\n",
    "\n",
    "    def printMST(self, parent):\n",
    "        print(\"Edge \\tWeight\")\n",
    "        for i in range(1, self.V):\n",
    "            print(parent[i], \"-\", i, \"\\t\", self.graph[i][parent[i]])\n",
    "    def minKey(self, key, mstSet):\n",
    "        min = float('inf')\n",
    "        for v in range(self.V):\n",
    "            if key[v] < min and mstSet[v] == False:\n",
    "                min = key[v]\n",
    "                min_index = v\n",
    "        return min_index\n",
    "    def primMST(self):\n",
    "        key = [float('inf')] * self.V\n",
    "        parent = [None] * self.V\n",
    "        key[0] = 0\n",
    "        mstSet = [False] * self.V\n",
    "        parent[0] = -1\n",
    "        for cout in range(self.V):\n",
    "            u = self.minKey(key, mstSet)\n",
    "            mstSet[u] = True\n",
    "            for v in range(self.V):\n",
    "                if self.graph[u][v] > 0 and mstSet[v] == False and key[v] > self.graph[u][v]:\n",
    "                    key[v] = self.graph[u][v]\n",
    "                    parent[v] = u\n",
    "        self.printMST(parent)\n"
   ]
  },
  {
   "cell_type": "code",
   "execution_count": 5,
   "metadata": {},
   "outputs": [
    {
     "ename": "TypeError",
     "evalue": "Graph.printMST() missing 1 required positional argument: 'parent'",
     "output_type": "error",
     "traceback": [
      "\u001b[1;31m---------------------------------------------------------------------------\u001b[0m",
      "\u001b[1;31mTypeError\u001b[0m                                 Traceback (most recent call last)",
      "Cell \u001b[1;32mIn[5], line 8\u001b[0m\n\u001b[0;32m      1\u001b[0m g \u001b[38;5;241m=\u001b[39m Graph(\u001b[38;5;241m5\u001b[39m)\n\u001b[0;32m      2\u001b[0m g\u001b[38;5;241m.\u001b[39mgraph \u001b[38;5;241m=\u001b[39m [[\u001b[38;5;241m0\u001b[39m, \u001b[38;5;241m2\u001b[39m, \u001b[38;5;241m0\u001b[39m, \u001b[38;5;241m6\u001b[39m, \u001b[38;5;241m0\u001b[39m],\n\u001b[0;32m      3\u001b[0m            [\u001b[38;5;241m2\u001b[39m, \u001b[38;5;241m0\u001b[39m, \u001b[38;5;241m3\u001b[39m, \u001b[38;5;241m8\u001b[39m, \u001b[38;5;241m5\u001b[39m],\n\u001b[0;32m      4\u001b[0m            [\u001b[38;5;241m0\u001b[39m, \u001b[38;5;241m3\u001b[39m, \u001b[38;5;241m0\u001b[39m, \u001b[38;5;241m0\u001b[39m, \u001b[38;5;241m7\u001b[39m],\n\u001b[0;32m      5\u001b[0m            [\u001b[38;5;241m6\u001b[39m, \u001b[38;5;241m8\u001b[39m, \u001b[38;5;241m0\u001b[39m, \u001b[38;5;241m0\u001b[39m, \u001b[38;5;241m9\u001b[39m],\n\u001b[0;32m      6\u001b[0m            [\u001b[38;5;241m0\u001b[39m, \u001b[38;5;241m5\u001b[39m, \u001b[38;5;241m7\u001b[39m, \u001b[38;5;241m9\u001b[39m, \u001b[38;5;241m0\u001b[39m]]\n\u001b[1;32m----> 8\u001b[0m \u001b[43mg\u001b[49m\u001b[38;5;241;43m.\u001b[39;49m\u001b[43mprintMST\u001b[49m\u001b[43m(\u001b[49m\u001b[43m)\u001b[49m\n\u001b[0;32m      9\u001b[0m g\u001b[38;5;241m.\u001b[39mprimMST()\n",
      "\u001b[1;31mTypeError\u001b[0m: Graph.printMST() missing 1 required positional argument: 'parent'"
     ]
    }
   ],
   "source": [
    "g = Graph(5)\n",
    "g.graph = [[0, 2, 0, 6, 0],\n",
    "           [2, 0, 3, 8, 5],\n",
    "           [0, 3, 0, 0, 7],\n",
    "           [6, 8, 0, 0, 9],\n",
    "           [0, 5, 7, 9, 0]]\n",
    "\n",
    "g.printMST()\n",
    "g.primMST()"
   ]
  },
  {
   "cell_type": "markdown",
   "metadata": {},
   "source": [
    "Reference 1 : https://www.geeksforgeeks.org/prims-minimum-spanning-tree-mst-greedy-algo-5/"
   ]
  },
  {
   "cell_type": "code",
   "execution_count": null,
   "metadata": {},
   "outputs": [],
   "source": [
    "def findMinWeightEdge(graph, VT, ET):\n",
    "    minWeight = float('inf')\n",
    "    minEdge = None\n",
    "    for v in\n",
    "    return minEdge\n",
    "\n",
    "def PrimAlgorithm(graph):\n",
    "    n = len(graph)\n",
    "\n",
    "    VT = {} # VT คือ set ของ vertices ที่เราเคยเข้าไปแล้ว\n",
    "    ET = set() # ET คือ set ของ edges ที่เราเคยเข้าไปแล้ว\n",
    "\n",
    "    for i in range(n):\n",
    "        # Find a min-weight edge (v, u) such that v is in VT and u is not in VT\n",
    "        minWeight = float('inf')\n",
    "        minEdge = None\n",
    "        # for vertice in graph:\n",
    "        #     for edge in graph[vertice]:\n",
    "\n",
    "        VT.add(v)"
   ]
  },
  {
   "cell_type": "code",
   "execution_count": null,
   "metadata": {},
   "outputs": [],
   "source": [
    "graph = [   [0, 2, 0, 6, 0],\n",
    "            [2, 0, 3, 8, 5],\n",
    "            [0, 3, 0, 0, 7],\n",
    "            [6, 8, 0, 0, 9],\n",
    "            [0, 5, 7, 9, 0] ]"
   ]
  }
 ],
 "metadata": {
  "kernelspec": {
   "display_name": "Python 3",
   "language": "python",
   "name": "python3"
  },
  "language_info": {
   "codemirror_mode": {
    "name": "ipython",
    "version": 3
   },
   "file_extension": ".py",
   "mimetype": "text/x-python",
   "name": "python",
   "nbconvert_exporter": "python",
   "pygments_lexer": "ipython3",
   "version": "3.11.4"
  }
 },
 "nbformat": 4,
 "nbformat_minor": 2
}
