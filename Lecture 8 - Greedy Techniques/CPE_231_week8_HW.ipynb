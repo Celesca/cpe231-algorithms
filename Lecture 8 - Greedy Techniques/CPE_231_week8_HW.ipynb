{
 "cells": [
  {
   "cell_type": "markdown",
   "metadata": {},
   "source": [
    "# Summary of Greedy algorithm\n",
    "------"
   ]
  },
  {
   "cell_type": "markdown",
   "metadata": {},
   "source": [
    "เป็นขั้นตอนการแก้ปัญหาที่ตรงไฟตรงมา โดยจะพิจารณาจากข้อมูลที่มีอยู่ในขณะนัั้นว่ามีทางเลือกไหนที่จะให้ผลลัพธืได้ดีหรือว่าคุ้มค่าที่สุด \\\n",
    "ซึ่งจะหาทางเลือกที่ดีที่สุดในขณะนั้นเท่านั้น โดยคำนึงถึง\n",
    "- Feasicle คือ satisfy the constraints\n",
    "- Locally optimal คือ ควรเป็นทางเลือกที่ง่ายที่สุดในบรรดาทางเลือกทั้งหมดที่เป้นไปได้\n",
    "- irrevocable คือ ไม่สามารถเปลี่ยนแปลงได้เมื่อได้ผลลัพธ์แล้ว\n",
    "- Greedy คือ ให้เลือกทางเลือกที่คุ้มค่าที่จะเลือกมากที่สุด"
   ]
  },
  {
   "cell_type": "markdown",
   "metadata": {},
   "source": [
    "ตัวอย่างเทคนิค :\n",
    "- Minimum spanning Tree : Prim's and Krukal's algorithms\n",
    "- Single-source shortest path : Dijkstra's algorithm\n",
    "- Huffman code (data compression) : Huffman tree"
   ]
  },
  {
   "cell_type": "markdown",
   "metadata": {},
   "source": [
    "#### Minimum spanning Tree"
   ]
  },
  {
   "cell_type": "markdown",
   "metadata": {},
   "source": [
    "- Prim's algorithm \\\n",
    "จากกราฟ G จะเพิ่ม edge เข้าไปใน T ทีละ edge เพื่อสร้าง tree เพียงต้นเดียว การทำงานจะเริ่ม จากการกำหนด vertex r เป็น root แล้วขยาย tree ไปเรื่อยๆ จน span\\\n",
    "ทุก vertices V ในแต่ละขั้นตอน light edge ที่เชื่อมระหว่าง vertex ใน T และ vertex ใน V-T จะถูกเพิ่มเข้าไปใน tree\n",
    "- Kruskal's algorithm \\\n",
    "         การหาเส้นเชือมระหว่างจุดที่มีค่าระยะทางที่น้อยที่สุด และไม่ทำให้เกิดลูปขึ้นในกราฟ"
   ]
  },
  {
   "cell_type": "markdown",
   "metadata": {},
   "source": [
    "#### SIngle-source shortest path"
   ]
  },
  {
   "cell_type": "markdown",
   "metadata": {},
   "source": [
    "- Dijkstra's algorithm \\\n",
    "ทำงานคล้าย Prim's algorithm แต่ Dijkstra's algorithm จะเปรียบเทียบที่ path lengths แล้วค่อย add edge weights แต่ Prim's algorithm ดูแค่ที่ edge weight"
   ]
  },
  {
   "cell_type": "markdown",
   "metadata": {},
   "source": [
    "#### Data Compression Problem"
   ]
  },
  {
   "cell_type": "markdown",
   "metadata": {},
   "source": [
    "ADCII ย่อมาจาก American Standard Code for Infromation Intercharge ซึ่ง ASCII code เป็นตัวเลขที่ใช้เพื่อเป็นตัวแทนของ character โดย\n",
    "- ASCII character ใช้ fixed length code คือ 8 bits หรือก็คือ 256 characters สำหรับ text file ที่มี 1000 characters ขนาดของ file ก็จะเป็น 8 x 1000 bits นั่นเอง\n",
    "- สมมติว่าในกรณีที่ file ของเรามีแค่ A ถึง G (7 uniquecharacters) ถ้าอยากจะเก็บไฟล์โดยที่เก็บให้หน่อยกว่าหลัก ASCII จะต้องเก็บ 3 bits ก็สามารถ represent (000-111) \\\n",
    "ซึ่งจากการคำนวณ ((1000x8)-(1000x3))/(1000x8) = 0.625 หรือ 62.5 % 0t save พื้นที่กว่า 62.5 %"
   ]
  },
  {
   "cell_type": "markdown",
   "metadata": {},
   "source": [
    "#### Huffman's algorithm"
   ]
  },
  {
   "cell_type": "markdown",
   "metadata": {},
   "source": [
    "Huffman ทำการสร้าง Tree ขึ้นมา โดยใช้เทคนิคของ Greedy เรียกเป็น Huffman Tree โดย Tree จะเป็นตัว represent code เรียก Huffman code โดย code ที่ได้จะสั้นลง \\\n",
    "step 1. เก็บข้อมูลแล้วนำมาข้อมูลมาสร้าง Tree และเริ่มจับคู่โดยเอา frequency จับคู่กับ symbols of alphabet ได้เป็นแต่ละ node \\\n",
    "step 2. หา 2 tree จาก tree ที่เป็น one-node ที่มี smallest weight โดยใช้เทคนิค Greedy ก็คือการหา weight ที่มาค่าน้อยที่สุด 2 อันมาประกบกันให้กลายเป็น \\\n",
    "left และ right subtree ของ tree ตัวใหม่ แล้วทำการ record sum ของ weight ที่ root ของ tree ตัวใหม่"
   ]
  },
  {
   "cell_type": "markdown",
   "metadata": {},
   "source": [
    "-----"
   ]
  },
  {
   "cell_type": "markdown",
   "metadata": {},
   "source": [
    "## Pseudo code"
   ]
  },
  {
   "cell_type": "markdown",
   "metadata": {},
   "source": [
    "### Prim's Algorithm"
   ]
  },
  {
   "cell_type": "markdown",
   "metadata": {},
   "source": [
    "Reference 1 : https://www.geeksforgeeks.org/prims-minimum-spanning-tree-mst-greedy-algo-5/"
   ]
  },
  {
   "cell_type": "code",
   "execution_count": 8,
   "metadata": {},
   "outputs": [],
   "source": [
    "# ฟังก์ชัน MinKey เอาไว้หาว่าตัวถัดไปที่ติดกับ Vertices ก่อนหน้าคือตัวไหนและยังไม่ถูกเลือก\n",
    "def findMinWeightIndex(key, VT):\n",
    "    minValue = float('inf')\n",
    "    min_index = None\n",
    "    for v in range(len(key)):\n",
    "        if key[v] < minValue and VT[v] == False:\n",
    "            minValue = key[v]\n",
    "            min_index = v\n",
    "\n",
    "    if min_index == None:\n",
    "        return\n",
    "    else:\n",
    "        return min_index\n",
    "\n",
    "def findTotalWeight(graph, parent):\n",
    "    totalWeight = 0\n",
    "    for i in range(1, len(graph)):\n",
    "        if parent[i] is not None:\n",
    "            totalWeight += graph[i][parent[i]]\n",
    "\n",
    "    return totalWeight\n",
    "\n",
    "def displayMST(parent, graph, vertices_name):\n",
    "    print(\"Edge \\tWeight\")\n",
    "    for i in range(1, len(graph)):\n",
    "        if parent[i] is not None:\n",
    "            print(vertices_name[parent[i]], \"-\", vertices_name[i], \"\\t\", graph[i][parent[i]])\n",
    "    print(\"Total Weight :\", findTotalWeight(graph, parent))\n",
    "\n",
    "\n",
    "def PrimAlgorithm(inputGraph,vertices_name):\n",
    "\n",
    "    graph = inputGraph.copy()\n",
    "\n",
    "    n = len(graph)\n",
    "\n",
    "    key = [float('inf')] * n\n",
    "    parent = [None] * n\n",
    "    key[0] = 0 # เริ่มที่ตัวแรก\n",
    "    VT = [False] * n # เอาไว้นับว่าเราเลือกตัวไหนแล้วบ้าง\n",
    "\n",
    "    parent[0] = -1\n",
    "\n",
    "    for _ in range(n):\n",
    "\n",
    "        u = findMinWeightIndex(key, VT)\n",
    "\n",
    "        if u == None:\n",
    "            break\n",
    "        VT[u] = True\n",
    "\n",
    "        for v in range(n):\n",
    "            if graph[u][v] > 0 and VT[v] == False and key[v] > graph[u][v]:\n",
    "                key[v] = graph[u][v]\n",
    "                parent[v] = u        \n",
    "\n",
    "    displayMST(parent, graph, vertices_name)"
   ]
  },
  {
   "cell_type": "code",
   "execution_count": 9,
   "metadata": {},
   "outputs": [
    {
     "name": "stdout",
     "output_type": "stream",
     "text": [
      "Edge \tWeight\n",
      "A - B \t 2\n",
      "B - C \t 3\n",
      "A - D \t 6\n",
      "B - E \t 5\n",
      "Total Weight : 16\n"
     ]
    }
   ],
   "source": [
    "\n",
    "# Test Case 1 - Prim's Algorithm\n",
    "\n",
    "vertices = [\"A\", \"B\", \"C\", \"D\", \"E\"]\n",
    "graph = [   [0, 2, 0, 6, 0],\n",
    "            [2, 0, 3, 8, 5],\n",
    "            [0, 3, 0, 0, 7],\n",
    "            [6, 8, 0, 0, 9],\n",
    "            [0, 5, 7, 9, 0] ]\n",
    "\n",
    "PrimAlgorithm(graph, vertices)"
   ]
  },
  {
   "cell_type": "code",
   "execution_count": 10,
   "metadata": {},
   "outputs": [
    {
     "name": "stdout",
     "output_type": "stream",
     "text": [
      "Edge \tWeight\n",
      "A - B \t 1\n",
      "A - C \t 2\n",
      "A - D \t 3\n",
      "A - E \t 5\n",
      "E - F \t 8\n",
      "A - G \t 1\n",
      "Total Weight : 20\n"
     ]
    }
   ],
   "source": [
    "# Test Case 2 - Prim's Algorithm\n",
    "\n",
    "vertices = [\"A\", \"B\", \"C\", \"D\", \"E\", \"F\", \"G\"]\n",
    "graph = [   [0, 1, 2, 3, 5, 0, 1],\n",
    "            [1, 0, 4, 0, 0, 0, 0],\n",
    "            [2, 4, 0, 6, 0, 0, 0],\n",
    "            [3, 0, 6, 0, 7, 0, 0],\n",
    "            [5, 0, 0, 7, 0, 8, 0],\n",
    "            [0, 0, 0, 0, 8, 0, 9],\n",
    "            [1, 0, 0, 0, 0, 9, 0] ]\n",
    "\n",
    "PrimAlgorithm(graph, vertices)"
   ]
  },
  {
   "cell_type": "markdown",
   "metadata": {},
   "source": [
    "---"
   ]
  },
  {
   "cell_type": "markdown",
   "metadata": {},
   "source": [
    "## Kruskal's Algorithm"
   ]
  },
  {
   "cell_type": "markdown",
   "metadata": {},
   "source": [
    "Reference 1 : CPE112 - Data Structure Lecture 10 (Graph Implementation) \\\n",
    "Reference 2 : https://www.geeksforgeeks.org/kruskals-minimum-spanning-tree-algorithm-greedy-algo-2/ (Reference For Instance and data transformation)"
   ]
  },
  {
   "cell_type": "code",
   "execution_count": 11,
   "metadata": {},
   "outputs": [],
   "source": [
    "class UnionFind:\n",
    "# Python Implementation of Union_find class using union-by-size and path compression\n",
    "    class Position:\n",
    "        __slots__ = '_container' , '_element' , '_size' , '_parent'\n",
    "        def __init__(self, container, e):\n",
    "            self._container = container # reference to UnionFind instance\n",
    "            self._element = e\n",
    "            self._size = 1\n",
    "            self._parent = self # convention for a group leader\n",
    "        def element(self):\n",
    "            return self._element\n",
    "#------------------------- Union-find -------------------------\n",
    "    def make_group(self, e):\n",
    "        return self.Position(self, e)\n",
    "    \n",
    "    def find(self, p):\n",
    "        # Enter code here\n",
    "        if p._parent != p:\n",
    "            p._parent = self.find(p._parent)\n",
    "        return p._parent\n",
    "        \n",
    "    def union(self, p, q):\n",
    "        # Enter code here\n",
    "        a = self.find(p)\n",
    "        b = self.find(q)\n",
    "        if a is not b:\n",
    "            if a._size >= b._size:\n",
    "                b._parent = a\n",
    "                a._size += b._size\n",
    "            else:\n",
    "                a._parent = b\n",
    "                b._size += a._size"
   ]
  },
  {
   "cell_type": "code",
   "execution_count": 12,
   "metadata": {},
   "outputs": [],
   "source": [
    "class KruskalGraph():\n",
    "    def __init__(self, input_graph, vertices):\n",
    "        self.vertices = vertices\n",
    "        self.graph = []\n",
    "        self.transformGraph(input_graph)\n",
    "\n",
    "    def addEdge(self, u, v, w):\n",
    "        self.graph.append([u, v, w])\n",
    "\n",
    "    def transformGraph(self, input_graph):\n",
    "\n",
    "        n = len(input_graph)\n",
    "        for u in range(n):\n",
    "            for v in range(u+1, n):\n",
    "                if input_graph[u][v] > 0:\n",
    "                    self.addEdge(u, v, w=input_graph[u][v])\n",
    "\n",
    "    def findTotalWeightKruskal(self,ET):\n",
    "        totalWeight = 0\n",
    "        for value in ET:\n",
    "            totalWeight += value[2]\n",
    "        return totalWeight\n",
    "\n",
    "    def displayKruskalResult(self, ET):\n",
    "        print(\"Edge \\tWeight\")\n",
    "        for u, v, w in ET:\n",
    "            print(self.vertices[u], \"-\", self.vertices[v], \"\\t\", w)\n",
    "        print(\"Total Weight :\", self.findTotalWeightKruskal(ET))\n",
    "\n",
    "\n",
    "    def Kruskal(self):\n",
    "        ET = [] # Edge Tree เอาไว้เก็บ edge ที่เราเลือกไป\n",
    "        forest = UnionFind()\n",
    "        parent = {}\n",
    "\n",
    "        for v in range(len(self.graph)):\n",
    "            parent[v] = forest.make_group(v)\n",
    "\n",
    "        ecounter = 0\n",
    "        n = len(self.graph)-1\n",
    "        while ecounter < n and self.graph != []:\n",
    "            self.graph.sort(key=lambda x: x[2])\n",
    "            u, v, w = self.graph.pop(0)\n",
    "            a = forest.find(parent[u])\n",
    "            b = forest.find(parent[v])\n",
    "            if a is not b:\n",
    "                ET.append((u, v, w))\n",
    "                forest.union(a, b)\n",
    "                ecounter += 1\n",
    "                \n",
    "        self.displayKruskalResult(ET)"
   ]
  },
  {
   "cell_type": "code",
   "execution_count": 13,
   "metadata": {},
   "outputs": [
    {
     "name": "stdout",
     "output_type": "stream",
     "text": [
      "Edge \tWeight\n",
      "A - B \t 2\n",
      "B - C \t 3\n",
      "B - E \t 5\n",
      "A - D \t 6\n",
      "Total Weight : 16\n"
     ]
    }
   ],
   "source": [
    "# Test Case 1 - Kruskal's Algorithm\n",
    "vertices = [\"A\", \"B\", \"C\", \"D\", \"E\"]\n",
    "graph = [   [0, 2, 0, 6, 0],\n",
    "            [2, 0, 3, 8, 5],\n",
    "            [0, 3, 0, 0, 7],\n",
    "            [6, 8, 0, 0, 9],\n",
    "            [0, 5, 7, 9, 0] ]\n",
    "\n",
    "G = KruskalGraph(graph, vertices)\n",
    "G.Kruskal()"
   ]
  },
  {
   "cell_type": "code",
   "execution_count": 14,
   "metadata": {},
   "outputs": [
    {
     "name": "stdout",
     "output_type": "stream",
     "text": [
      "Edge \tWeight\n",
      "A - B \t 1\n",
      "A - G \t 1\n",
      "A - C \t 2\n",
      "A - D \t 3\n",
      "A - E \t 5\n",
      "E - F \t 8\n",
      "Total Weight : 20\n"
     ]
    }
   ],
   "source": [
    "# Test Case 2 - Kruskal's Algorithm\n",
    "vertices = [\"A\", \"B\", \"C\", \"D\", \"E\", \"F\", \"G\"]\n",
    "graph = [   [0, 1, 2, 3, 5, 0, 1],\n",
    "            [1, 0, 4, 0, 0, 0, 0],\n",
    "            [2, 4, 0, 6, 0, 0, 0],\n",
    "            [3, 0, 6, 0, 7, 0, 0],\n",
    "            [5, 0, 0, 7, 0, 8, 0],\n",
    "            [0, 0, 0, 0, 8, 0, 9],\n",
    "            [1, 0, 0, 0, 0, 9, 0] ]\n",
    "\n",
    "G = KruskalGraph(graph, vertices)\n",
    "G.Kruskal()"
   ]
  },
  {
   "cell_type": "markdown",
   "metadata": {},
   "source": [
    "---"
   ]
  },
  {
   "cell_type": "markdown",
   "metadata": {},
   "source": [
    "## Dijkstra's Algorithm"
   ]
  },
  {
   "cell_type": "markdown",
   "metadata": {},
   "source": [
    "Reference : https://builtin.com/software-engineering-perspectives/dijkstras-algorithm"
   ]
  },
  {
   "cell_type": "code",
   "execution_count": 15,
   "metadata": {},
   "outputs": [],
   "source": [
    "import heapq\n",
    "\n",
    "class Node:\n",
    "    def __init__(self):\n",
    "        self.d = float('inf')       # current distance from source node\n",
    "        self.parent = None          # node ต้นทาง\n",
    "        self.finished = False       # node สุดท้าย\n",
    "        \n",
    "def dijkstra(graph, source):\n",
    "    nodes = {}                      # สร้าง list มาเก็บค่า node\n",
    "    for node in graph:              \n",
    "        nodes[node] = Node()        # สร้าง node ทุก node จากกราฟ แล้วเก็บไว้ใน Nodes\n",
    "    nodes[source].d = 0             # เก็บค่าระยะทางของ start node เป็น 0\n",
    "    queue = [(0, source)]           # queue เก็บค่าคู่จุดของระยะจาก node ต้นทางคือ 0 มายัง node ถัดไป\n",
    "    while queue:\n",
    "        d, node = heapq.heappop(queue)  # เช็คว่าจาก node ต้นทาง และ node ถัดมา ระยะทางไหนน้อยที่สุด แล้วทำการดึงคู่ที่มีระยะทางน้อยที่สุดออกจาก queue \n",
    "        if nodes[node].finished:        # ตรวจสอบ node แรกเสร็จแล้ว ก็ให้ข้ามไปทำ node ถัดไป\n",
    "            continue\n",
    "        nodes[node].finished = True     # ทำเครื่องหมายว่าโหนดแรกนั้นตรวจสอบเสร็จสิ้นแล้ว\n",
    "        for neighbor, weight in graph[node].items(): # เช็คว่ามี node อื่นๆที่ใกล้เคียงกับ node ต้นทางอีกหรือไม่ ถ้ามีก็ทำงานเช็คระยะทาง\n",
    "            if nodes[neighbor].finished:             # ตรวจสอบ node อื่นๆแล้ว ก็ให้ข้ามไปทำ node ถัดไป\n",
    "                continue\n",
    "            new_d = d + weight                       # คำนวณระยะทางใหม่ คือระยะทางจาก node ต้นทาง มายัง node ใกล้เคียงกันอีกตัว\n",
    "            if new_d < nodes[neighbor].d:            # ถ้าเกิดว่า node ใกล้เคียงมีระยะทางที่สั้นกว่า\n",
    "                nodes[neighbor].d = new_d            # ก็จะเอาตำแหน่งของ node ใกลเคียงนี้มาใช้แทน\n",
    "                nodes[neighbor].parent = node        \n",
    "                heapq.heappush(queue, (new_d, neighbor))  # โดยใส่แทนที่ของ tuple เก่าใน queue\n",
    "    return nodes"
   ]
  },
  {
   "cell_type": "code",
   "execution_count": 16,
   "metadata": {},
   "outputs": [
    {
     "name": "stdout",
     "output_type": "stream",
     "text": [
      "Shortest Paths from A\n",
      "from A to A: A of length 0\n",
      "from A to B: A - B of length 3\n",
      "from A to C: A - B - C of length 7\n",
      "from A to D: A - B - D of length 5\n",
      "from A to E: A - B - D - E of length 10\n"
     ]
    }
   ],
   "source": [
    "# Test case 1\n",
    "G = {\n",
    "    'A': {'B': 3, 'D': 7},\n",
    "    'B': {'C': 4, 'D': 2},\n",
    "    'C': {},\n",
    "    'D': {'B': 3, 'E': 5},\n",
    "    'E': {}\n",
    "}\n",
    "\n",
    "# Test source node\n",
    "source_node = 'A'\n",
    "\n",
    "# Run Dijkstra's algorithm\n",
    "result = dijkstra(G, source_node)\n",
    "\n",
    "# Output the shortest paths\n",
    "print(\"Shortest Paths from\", source_node)\n",
    "for node, data in result.items():\n",
    "    path = []\n",
    "    current_node = node\n",
    "    while current_node is not None:\n",
    "        path.insert(0, current_node)\n",
    "        current_node = data.parent\n",
    "        if current_node is not None:                # Avoid accessing parent when it's None\n",
    "            data = result[current_node]             # Retrieve the data of the parent node\n",
    "    print(f\"from {source_node} to {node}: {' - '.join(path)} of length {result[node].d}\")"
   ]
  },
  {
   "cell_type": "code",
   "execution_count": 7,
   "metadata": {},
   "outputs": [
    {
     "name": "stdout",
     "output_type": "stream",
     "text": [
      "Shortest Paths from A\n",
      "from A to A: A of length 0\n",
      "from A to B: A - B of length 1\n",
      "from A to C: A - B - C of length 7\n",
      "from A to D: A - B - D of length 4\n",
      "from A to E: A - B - D - E of length 9\n",
      "from A to F: A - B - D - E - F of length 12\n"
     ]
    }
   ],
   "source": [
    "# Test case 2\n",
    "G = {\n",
    "    'A': {'B': 1, 'D': 5},\n",
    "    'B': {'C': 6, 'D': 3},\n",
    "    'C': {},\n",
    "    'D': {'B': 2, 'E': 5},\n",
    "    'E': {'F': 3},\n",
    "    'F': {}\n",
    "}\n",
    "\n",
    "source_node = 'A'\n",
    "result = dijkstra(G, source_node)\n",
    "\n",
    "print(\"Shortest Paths from\", source_node)\n",
    "for node, data in result.items():\n",
    "    path = []\n",
    "    current_node = node\n",
    "    while current_node is not None:\n",
    "        path.insert(0, current_node)\n",
    "        current_node = data.parent\n",
    "        if current_node is not None:                \n",
    "            data = result[current_node]             \n",
    "    print(f\"from {source_node} to {node}: {' - '.join(path)} of length {result[node].d}\")\n"
   ]
  },
  {
   "cell_type": "markdown",
   "metadata": {},
   "source": [
    "------"
   ]
  },
  {
   "cell_type": "markdown",
   "metadata": {},
   "source": [
    "## Practice I : Knapsack Problem with Greedy Technique"
   ]
  },
  {
   "cell_type": "markdown",
   "metadata": {},
   "source": [
    "Reference : https://www.geeksforgeeks.org/fractional-knapsack-problem/"
   ]
  },
  {
   "cell_type": "code",
   "execution_count": 2,
   "metadata": {},
   "outputs": [],
   "source": [
    "class Item:\n",
    "    def __init__(self, values, weight):         # กำหนดค่าให้ object คือ Item ซึ่ง 1 Item มีค่า 'มูลค่า' กับ 'น้ำหนัก'\n",
    "        self.values = values\n",
    "        self.weight = weight\n",
    "    \n",
    "    def fractionalKnapsack(store_weight, list_item ):\n",
    "        list_item.sort(key=lambda x: (x.values/x.weight), reverse=True)  # เรียงลำดับ item จากมากไปน้อยด้วยอัตราส่วนของ 'มูลค่า' หาร 'น้ำหนัก'\n",
    "        final_value = 0.0                                                # กำหนดค่าเริ่มต้นของน้ำหนักสุทธิของกระเป๋าเป็น 0.0 และจะเพิ่มขึ้นเมื่อเติมของไปเรื่อยๆ\n",
    "\n",
    "        for item in list_item:                  # หา item แต่ละอันที่จะจับใส่\n",
    "            if item.weight <= store_weight:     # น้ำหนักของ item ที่น้อยกว่าหรือเท่ากับน้ำหนักที่กระเป๋าสามารถจุได้ จะจับใส่กระเป๋า แล้วลบกับค่าความจุกระเป๋า\n",
    "                store_weight -= item.weight\n",
    "                final_value += item.values      # บวกเพิ่มน้ำหนักของ item ที่ถูกจับใส่กระเป๋า เข้าไปในน้ำหนักสุทธิของกระเป๋า\n",
    "            else:\n",
    "                final_value += item.values * store_weight / item.weight  # ถ้าน้ำหนักของ current item มากกว่าความจุของกระเป๋า ให้เพิ่มส่วนหนึ่งของ item เข้าไปแทนเพื่อให้เต็มกระเป๋า\n",
    "                break                           # เมื่อกระเป๋าเต็มแล้วก็หยุดใส่ของ\n",
    "\n",
    "        return final_value                      # ค่าค่าน้ำหนักของกระเป๋าสุทธิ"
   ]
  },
  {
   "cell_type": "code",
   "execution_count": 3,
   "metadata": {},
   "outputs": [
    {
     "name": "stdout",
     "output_type": "stream",
     "text": [
      "The final value that can obtain is 240.0\n"
     ]
    }
   ],
   "source": [
    "# Test Case 1 - Fractional Knapsack\n",
    "store_weight = 50\n",
    "list_item = [Item(60, 10), Item(100, 20), Item(120, 30)]\n",
    "max_vals = Item.fractionalKnapsack(store_weight,list_item)\n",
    "print('The final value that can obtain is',max_vals)"
   ]
  },
  {
   "cell_type": "code",
   "execution_count": 4,
   "metadata": {},
   "outputs": [
    {
     "name": "stdout",
     "output_type": "stream",
     "text": [
      "The final value that can obtain is 135.0\n"
     ]
    }
   ],
   "source": [
    "# Test Case 2 - Fractional Knapsack\n",
    "store_weight = 25\n",
    "list_item = [Item(60, 10), Item(100, 20), Item(120, 30)]\n",
    "max_vals = Item.fractionalKnapsack(store_weight,list_item)\n",
    "print('The final value that can obtain is',max_vals)"
   ]
  },
  {
   "cell_type": "markdown",
   "metadata": {},
   "source": [
    "---"
   ]
  },
  {
   "cell_type": "markdown",
   "metadata": {},
   "source": [
    "## Data Compression Problem\n",
    "\n",
    "Data Compression คือ การบีบอัดข้อมูลให้เล็กลง ยกตัวอย่างเช่น ในกรณีที่เราต้องการเก็บข้อมูลประเภท String ที่ประกอบด้วยตัวอักษรต่างๆ <br>\n",
    "เราสามารถกำหนดขนาดของข้อมูลได้ทั้งหมด 2 รูปแบบ ได้แก่\n",
    "1. <span style=\"font-weight: bold;\">ใช้ ASCII Table</span>\n",
    "หมายความว่า ทุกๆ ตัวอักษรจะใช้ขนาด 8 bits เสมอในการเก็บ ทำให้ปัญหาคือ <span style=\"color: yellow;\">ข้อมูลที่เก็บมีขนาดที่ใหญ่ แม้ตัวอักษรจะน้อยก็ตาม</span>\n",
    "\n",
    "<img src=\"https://www.sciencebuddies.org/cdn/references/ascii-table.png\" style=\"width:600px;\">\n",
    "\n",
    "\n",
    "2. <span style=\"font-weight: bold;\">การกำหนดขนาดขึ้นมาเอง (Own fixed-length size codes)</span>>\n",
    "หมายความว่า เราดูตัวอักษรที่อยู่ใน String ที่เราจะเก็บก่อน แล้วดู Unique items  <br> จากนั้นเรากำหนดรหัสแทนแต่ละตัวอักษรขึ้นมาเอง เช่น ถ้าหากมี A-G\n",
    "เราก็จะกำหนดเป็น 3 bits (แทน A = 000 จนถึง G = 110)\n",
    "\n",
    "<span style=\"color: yellow;\">แต่ปัญหาคือ</span> ถ้าหากเรามีตัวอักษรที่เพิ่มมาอีกไม่กี่ตัว แล้วมันทำให้ทุกตัวเพิ่มรหัสเป็น 4-bit แทน\n",
    "มันจะเปลืองเนื้อที่มาก \n",
    "\n",
    "3. <span style=\"font-weight: bold;\">Variable-length encoding</span>\n",
    "\n",
    "คือการแปลงให้เป็นรหัสที่มีขนาดไม่เท่ากัน โดยอาศัยการแปลงจากอักษรเป็นโค้ด และเข้าถึงการแปลโดย Binary Tree <br> \n",
    "ที่มีหลักการคือโหนดลูกซ้ายเป็น 0 โหนดลูกขวาเป็น 1 \n",
    "อีกหลักการคือต้องเป็น Prefix Free code ซึ่งหมายถึง ห้ามมีเลขที่ตัวหน้าซ้ำกัน ยกตัวอย่างเช่น หากมี 01 เป็น A แล้ว <br>\n",
    "จะไม่สามารถมี 011 ได้ เพราะมันจะถูกแปลเป็น A ดังนั้น Prefix ตัวก่อนหน้านั้นห้ามซ้ำกันเลย\n",
    "\n",
    "ต่อมา Samuel Morse ได้เสนอให้แนวคิดดังกล่าว มีการหาความถี่ของตัวที่ใช้บ่อยก่อน (หา Frquency ของ Unique items) <br>\n",
    "ถ้าเราใช้บ่อยจะทำให้ขนาดข้อมูลของรหัสเราสั้นในการแทนรหัส <br>\n",
    "\n",
    "Fun fact : รหัส Morse ที่คิดค้นขึ้นก็ใช้หลักการความถี่ตัวอักษรที่ใช้บ่อย เช่น สระ AEIOU จะเป็นรหัสที่สั้นกว่า\n",
    "\n",
    "จากแนวคิดทั้งหมดของ Variable-length encoding เราจะเรียกว่า <span style=\"color: orange; font-weight:bold;\">Huffman's algorithm</span>"
   ]
  },
  {
   "cell_type": "markdown",
   "metadata": {},
   "source": [
    "### Data Compression Problem with Own fixed-length size codes"
   ]
  },
  {
   "cell_type": "code",
   "execution_count": 17,
   "metadata": {},
   "outputs": [],
   "source": [
    "import math\n",
    "\n",
    "def UniqueChars(string):\n",
    "    # Create a dictionary to store unique characters\n",
    "    codewords = dict()\n",
    "    for char in string:\n",
    "        if char not in codewords:\n",
    "            codewords[char] = 0\n",
    "\n",
    "    # Check len of unique characters to calculate bits for every codewords\n",
    "    # len(string) = 2^n\n",
    "    # n = log2(len(string))\n",
    "    bits = math.ceil(math.log2(len(codewords)))\n",
    "\n",
    "    code = 0\n",
    "    for char in codewords:\n",
    "        codewords[char] = bin(code)[2:].zfill(bits)\n",
    "        code += 1\n",
    "\n",
    "    return codewords\n",
    "\n",
    "def encodedString(string, codewords):\n",
    "    encoded = \"\"\n",
    "    for char in string:\n",
    "        encoded += codewords[char]\n",
    "    return encoded\n",
    "\n",
    "def decodedString(encoded, codewords):\n",
    "    decoded = \"\"\n",
    "    i = 0\n",
    "    while i < len(encoded):\n",
    "        for char in codewords:\n",
    "            if encoded[i:i+len(codewords[char])] == codewords[char]:\n",
    "                decoded += char\n",
    "                i += len(codewords[char])\n",
    "                break\n",
    "    return decoded\n",
    "\n",
    "def CompressionRation(string, encoded):\n",
    "    original = len(string) * 8\n",
    "    compressed = len(encoded)\n",
    "    ratio = ((original - compressed) / original) * 100\n",
    "    return ratio\n",
    "   \n",
    "def fixed_length_compression(string):\n",
    "    codewords = UniqueChars(string)\n",
    "    print(\"\\n-- Codewords for each character --\")\n",
    "    for value in codewords:\n",
    "        print(value, \":\", codewords[value])\n",
    "\n",
    "    encoded = encodedString(string, codewords)\n",
    "    print(\"\\n-- Encoded string --\")\n",
    "    print(encoded)\n",
    "\n",
    "    ratio = CompressionRation(string, encoded)\n",
    "    print(\"\\n-- Compression ratio --\")\n",
    "    print(ratio ,\"%\")\n",
    "\n",
    "    decoded = decodedString(encoded, codewords)\n",
    "    print(\"\\n-- Decoded string --\")\n",
    "    print(decoded)"
   ]
  },
  {
   "cell_type": "code",
   "execution_count": 18,
   "metadata": {},
   "outputs": [
    {
     "name": "stdout",
     "output_type": "stream",
     "text": [
      "\n",
      "-- Codewords for each character --\n",
      "a : 000\n",
      "b : 001\n",
      "r : 010\n",
      "c : 011\n",
      "d : 100\n",
      "\n",
      "-- Encoded string --\n",
      "000001010000011000100000001010000\n",
      "\n",
      "-- Compression ratio --\n",
      "62.5 %\n",
      "\n",
      "-- Decoded string --\n",
      "abracadabra\n"
     ]
    }
   ],
   "source": [
    "## Test Case 1 ##\n",
    "string = \"abracadabra\"\n",
    "fixed_length_compression(string)"
   ]
  },
  {
   "cell_type": "code",
   "execution_count": 19,
   "metadata": {},
   "outputs": [
    {
     "name": "stdout",
     "output_type": "stream",
     "text": [
      "\n",
      "-- Codewords for each character --\n",
      "b : 0000\n",
      "l : 0001\n",
      "i : 0010\n",
      "n : 0011\n",
      "g : 0100\n",
      "  : 0101\n",
      "a : 0110\n",
      "o : 0111\n",
      "r : 1000\n",
      "\n",
      "-- Encoded string --\n",
      "00000001001000110100010100000110001101000101000001100011010001010000011110000011\n",
      "\n",
      "-- Compression ratio --\n",
      "50.0 %\n",
      "\n",
      "-- Decoded string --\n",
      "bling bang bang born\n"
     ]
    }
   ],
   "source": [
    "## Test Case 2 ##\n",
    "string = \"bling bang bang born\"\n",
    "fixed_length_compression(string)"
   ]
  },
  {
   "cell_type": "markdown",
   "metadata": {},
   "source": [
    "-----"
   ]
  },
  {
   "cell_type": "markdown",
   "metadata": {},
   "source": [
    "-----"
   ]
  },
  {
   "cell_type": "markdown",
   "metadata": {},
   "source": [
    "## Practice II : Huffman's Algorithm"
   ]
  },
  {
   "cell_type": "markdown",
   "metadata": {},
   "source": [
    "### หลักการการทำ Huffman's Algorithm\n",
    "\n",
    "ในอัลกอริทึมนี้จะมีต้นไม้เพื่อเข้าถึงรหัส ซึ่งเรียกว่า <span style=\"color: hotpink;\">\"Huffman tree\"</span> ส่วนตัวโค้ดจะเรียกว่า <span style=\"color:lime\">\"Huffman code\"</span>\n",
    "\n",
    "Step 1 : หาความถี่ของแต่ละตัวอักษร จากนั้นสร้าง Tree ที่มีโหนดเดี่ยวจำนวน n ต้น โดยให้กำหนดค่าความถี่ของโหนดและ\n",
    "ทำสัญลักษณ์ว่าตัวอักษรอะไร\n",
    "\n",
    "Step 2 : ทำการวนซ้ำ จับ 2 trees ที่มี weight น้อยที่สุดในแต่ละรอบมาประกอบเป็น Tree ใหม่ โดยสร้างเป็น <br>\n",
    "Tree ที่มีโหนดลูกซ้ายขวาเป็นตัวที่เราจับมา และนำค่า Weight มารวมกันเป็นโหนดพ่อแม่ จากนั้นมันจะนับเป็น Tree ตัวใหม่\n",
    "จากนั้นวนซ้ำทำไปเรื่อยๆ จนกว่าจะไม่เหลือต้นไม้ให้จับคู่กัน"
   ]
  },
  {
   "cell_type": "markdown",
   "metadata": {},
   "source": [
    "<img src=\"https://cgi.luddy.indiana.edu/~yye/c343-2019/images/Huffman-tree-Fig5.24.png\">"
   ]
  },
  {
   "cell_type": "code",
   "execution_count": 21,
   "metadata": {},
   "outputs": [],
   "source": [
    "# Huffman's Tree\n",
    "\n",
    "# สร้าง class สำหรับเก็บข้อมูลของ node แต่ละตัว\n",
    "class NodeTree():\n",
    "    def __init__(self, freq, char, left=None, right=None):\n",
    "        self.left = left\n",
    "        self.right = right\n",
    "        self.freq = freq\n",
    "        self.char = char\n",
    "        self.code = \"\"\n",
    "\n",
    "    def setCode(self, dir):\n",
    "        self.code = dir\n",
    "    \n",
    "    def __str__(self):\n",
    "        return '%s_%s_%s' % (self.char, self.freq, self.code)\n",
    "\n",
    "# เอาไว้หาความถี่จากตัวอักษรใน string\n",
    "def CalculateFrequency(string):\n",
    "    freq_list = {}\n",
    "    for char in string:\n",
    "        if char not in freq_list:\n",
    "            freq_list[char] = 1\n",
    "        else:\n",
    "            freq_list[char] += 1\n",
    "    return freq_list\n",
    "\n",
    "# หา code ของแต่ละตัวอักษร\n",
    "def EncodeCharacter(node, codewords, value=\"\"):\n",
    "\n",
    "    newValue = value + str(node.code)\n",
    "\n",
    "    if (node.left):\n",
    "        EncodeCharacter(node.left, codewords, newValue)\n",
    "    if (node.right):\n",
    "        EncodeCharacter(node.right, codewords, newValue)\n",
    "\n",
    "    if (not node.left and not node.right):\n",
    "        codewords[node.char] = newValue\n",
    "    \n",
    "    return codewords\n",
    "\n",
    "# ทำการ encode ข้อความทั้งหมด ให้กลายเป็นข้อความที่เข้ารหัสแล้ว\n",
    "def EncodeString(string, codewords):\n",
    "    encodedString = \"\"\n",
    "    for char in string:\n",
    "        encodedString += codewords[char]\n",
    "    return encodedString\n",
    "\n",
    "# หาขนาดที่ลดลงหลังจากที่ทำการ encode ด้วย Huffman's Tree แล้ว\n",
    "def CompressionRatio(string, codewords):\n",
    "    totalBits = len(string) * 8\n",
    "    compressedBits = 0\n",
    "    \n",
    "    for char in string:\n",
    "        compressedBits += len(codewords[char])\n",
    "\n",
    "    return (totalBits - compressedBits) / totalBits * 100\n",
    "\n",
    "# ทำการ decode ข้อความที่เข้ารหัสแล้ว ให้กลายเป็นข้อความปกติ\n",
    "def HuffmanDecoding(encodedString, codewords):\n",
    "    decodedString = \"\"\n",
    "    code = \"\"\n",
    "    for char in encodedString:\n",
    "        # ทำการ Brute Force เพื่อหาว่ามันกลายเป็น code ที่มีในตารางแล้วหรือไม่\n",
    "        code += char\n",
    "        for key in codewords:\n",
    "            if codewords[key] == code:\n",
    "                decodedString += key\n",
    "                code = \"\"\n",
    "                break\n",
    "    return decodedString\n",
    "\n",
    "def HuffmanEncoding(string):\n",
    "    # 1. หาความถี่ของตัวอักษรใน string\n",
    "    freq_list = CalculateFrequency(string)  \n",
    "    characters, freqs = freq_list.keys() , freq_list.values()\n",
    "    print(\"Characters : \", characters)\n",
    "    print(\"Frequencies : \", freqs)\n",
    "      \n",
    "    nodes = []\n",
    "      \n",
    "    # สร้าง node จากความถี่ของตัวอักษร แล้วเก็บไว้เพื่อจับคู่\n",
    "    for char in characters:  \n",
    "        currNode = NodeTree(freq_list[char], char)\n",
    "        nodes.append(currNode)\n",
    "      \n",
    "    while len(nodes) > 1:  \n",
    "        \n",
    "        # ทำการเรียงความถี่จากน้อยไปมาก\n",
    "        sorted_nodes = sorted(nodes, key = lambda x: x.freq)  \n",
    "\n",
    "        # จับคู่ 2 ตัวที่น้อยที่สุด\n",
    "        right = sorted_nodes[0]\n",
    "        left = sorted_nodes[1]\n",
    "      \n",
    "        # กำหนด code ให้ node ที่มากกว่า\n",
    "        left.setCode(0)\n",
    "        right.setCode(1)\n",
    "      \n",
    "        # สร้าง node ใหม่ โดยให้ความถี่เท่ากับผลรวมของ node ทั้ง 2 ตัวที่น้อยที่สุด \n",
    "        newNode = NodeTree(left.freq + right.freq , left.char + right.char , left, right) \n",
    "      \n",
    "        # ลบ node ที่เก่าออก แล้วใส่โหนดใหม่เข้าไปแทน เพื่อจับคู่ต่อไป\n",
    "        nodes.remove(left)\n",
    "        nodes.remove(right)\n",
    "        nodes.append(newNode)\n",
    "\n",
    "    # หา code ของแต่ละตัวอักษร\n",
    "    codewords = dict()\n",
    "    codewords = EncodeCharacter(nodes[0],codewords)\n",
    "\n",
    "    print('\\n-- Code for each characters --')\n",
    "    for char in codewords:\n",
    "        print(char, \":\", codewords[char])\n",
    "\n",
    "    # ทำการ encode ข้อความทั้งหมด ให้กลายเป็นข้อความที่เข้ารหัสแล้ว\n",
    "    encodedString = EncodeString(string, codewords)\n",
    "    print('\\n-- Encoded String --')\n",
    "    print(encodedString)\n",
    "\n",
    "    # หาขนาดที่ลดลงหลังจากที่ทำการ encode ด้วย Huffman's Tree แล้ว\n",
    "    print('\\n-- Compression Ratio --')\n",
    "    print(CompressionRatio(string, codewords), \"%\")\n",
    "    \n",
    "    # ทดสอบการ Decode ว่าถูกต้องหรือไม่\n",
    "    print('\\n-- Decoded String --')\n",
    "    print(HuffmanDecoding(encodedString, codewords))"
   ]
  },
  {
   "cell_type": "code",
   "execution_count": 22,
   "metadata": {},
   "outputs": [
    {
     "name": "stdout",
     "output_type": "stream",
     "text": [
      "Characters :  dict_keys(['a', ' ', 'g', 'r', 'e', 'd', 'y', 'l', 'o', 'i', 't', 'h', 'm', 's', 'p', 'n', 'u', 'v', 'z', 'b'])\n",
      "Frequencies :  dict_values([7, 14, 3, 4, 6, 3, 1, 4, 5, 12, 8, 3, 5, 5, 3, 4, 2, 1, 1, 1])\n",
      "\n",
      "-- Code for each characters --\n",
      "t : 0000\n",
      "r : 00010\n",
      "p : 00011\n",
      "  : 001\n",
      "a : 0100\n",
      "h : 01010\n",
      "d : 01011\n",
      "i : 011\n",
      "e : 1000\n",
      "g : 10010\n",
      "b : 100110\n",
      "z : 100111\n",
      "s : 1010\n",
      "m : 1011\n",
      "o : 1100\n",
      "v : 110100\n",
      "y : 110101\n",
      "u : 11011\n",
      "n : 1110\n",
      "l : 1111\n",
      "\n",
      "-- Encoded String --\n",
      "01000011001000010100010000101111010100101001111100101100000100110000010101011001011101000101000011010011101100011111110000010100111001011001011111000001101101100000111101001000001010011111001011000001001100000101010110010000010100100000000101110100011101110101000010110010111110001110000011000001110110111001110100000001111001110001000110001011001001101111100010111010\n",
      "\n",
      "-- Compression Ratio --\n",
      "50.0 %\n",
      "\n",
      "-- Decoded String --\n",
      "a greedy algorithm is a simple and intuitive algorithm that is used in optimization problems\n"
     ]
    }
   ],
   "source": [
    "## Test-case 1 ##\n",
    "\n",
    "text_string = \"a greedy algorithm is a simple and intuitive algorithm that is used in optimization problems\"\n",
    "HuffmanEncoding(text_string)"
   ]
  },
  {
   "cell_type": "code",
   "execution_count": 23,
   "metadata": {},
   "outputs": [
    {
     "name": "stdout",
     "output_type": "stream",
     "text": [
      "Characters :  dict_keys(['a', 'b', 'r', 'c', 'd'])\n",
      "Frequencies :  dict_values([5, 2, 2, 1, 1])\n",
      "\n",
      "-- Code for each characters --\n",
      "r : 000\n",
      "b : 001\n",
      "d : 010\n",
      "c : 011\n",
      "a : 1\n",
      "\n",
      "-- Encoded String --\n",
      "10010001011101010010001\n",
      "\n",
      "-- Compression Ratio --\n",
      "73.86363636363636 %\n",
      "\n",
      "-- Decoded String --\n",
      "abracadabra\n"
     ]
    }
   ],
   "source": [
    "## Test Case 2 ##\n",
    "text_string = \"abracadabra\"\n",
    "HuffmanEncoding(text_string)"
   ]
  },
  {
   "cell_type": "markdown",
   "metadata": {},
   "source": [
    "<hr><br>\n",
    "<div style=\"text-align:center;\">\n",
    "    <b>เป็นคนไม่เอาถ่านบ้านมีเตาแก๊ส</b>\n",
    "    <p style=\"color: greenyellow;\">ศวิษฐ์ โกสียอัมพร 65070506026</p>\n",
    "    <p style=\"color: orange\">ธวัลรัตน์ โรจน์อมรรัตน์ 65070506037</p>\n",
    "    <p style=\"color: hotpink;\">ปุญชญา จันทร์เจริญ 65070506039</p>\n",
    "</div>"
   ]
  }
 ],
 "metadata": {
  "kernelspec": {
   "display_name": "Python 3",
   "language": "python",
   "name": "python3"
  },
  "language_info": {
   "codemirror_mode": {
    "name": "ipython",
    "version": 3
   },
   "file_extension": ".py",
   "mimetype": "text/x-python",
   "name": "python",
   "nbconvert_exporter": "python",
   "pygments_lexer": "ipython3",
   "version": "3.11.4"
  }
 },
 "nbformat": 4,
 "nbformat_minor": 2
}
