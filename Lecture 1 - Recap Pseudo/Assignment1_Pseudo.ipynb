{
 "cells": [
  {
   "cell_type": "markdown",
   "metadata": {},
   "source": [
    "## MaxValue Element"
   ]
  },
  {
   "cell_type": "code",
   "execution_count": 1,
   "metadata": {},
   "outputs": [
    {
     "name": "stdout",
     "output_type": "stream",
     "text": [
      "90\n"
     ]
    }
   ],
   "source": [
    "seq = input().split()\n",
    "\n",
    "max_val = seq[0]\n",
    "\n",
    "for i in seq:\n",
    "    if i > max_val:\n",
    "        max_val = i\n",
    "\n",
    "print(max_val)"
   ]
  },
  {
   "cell_type": "code",
   "execution_count": null,
   "metadata": {},
   "outputs": [],
   "source": [
    "# Middle-school procedure to GCD(m, n)\n",
    "\n",
    "def prime_factorical:\n",
    "\n",
    "def prime_number:"
   ]
  },
  {
   "cell_type": "code",
   "execution_count": null,
   "metadata": {},
   "outputs": [],
   "source": [
    "# Brute force algorithm\n",
    "\n",
    "m = int(input())\n",
    "n = int(input())\n",
    "\n",
    "assert m > 0 and n > 0 , \"You need to input\"\n",
    "\n",
    "t = min(m,n)"
   ]
  },
  {
   "cell_type": "code",
   "execution_count": 2,
   "metadata": {},
   "outputs": [
    {
     "name": "stdout",
     "output_type": "stream",
     "text": [
      "4\n"
     ]
    }
   ],
   "source": [
    "# Euclid's algorithm\n",
    "\n",
    "m = int(input())\n",
    "n = int(input())\n",
    "\n",
    "assert m > 0 and n > 0 , \"You need to input positive numbers\"\n",
    "\n",
    "while n != 0:\n",
    "    r = m % n\n",
    "    m = n\n",
    "    n = r\n",
    "\n",
    "print(m)"
   ]
  },
  {
   "cell_type": "code",
   "execution_count": null,
   "metadata": {},
   "outputs": [],
   "source": []
  }
 ],
 "metadata": {
  "kernelspec": {
   "display_name": "Python 3",
   "language": "python",
   "name": "python3"
  },
  "language_info": {
   "codemirror_mode": {
    "name": "ipython",
    "version": 3
   },
   "file_extension": ".py",
   "mimetype": "text/x-python",
   "name": "python",
   "nbconvert_exporter": "python",
   "pygments_lexer": "ipython3",
   "version": "3.11.4"
  }
 },
 "nbformat": 4,
 "nbformat_minor": 2
}
