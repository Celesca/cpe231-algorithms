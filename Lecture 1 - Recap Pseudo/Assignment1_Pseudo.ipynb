{
 "cells": [
  {
   "cell_type": "markdown",
   "metadata": {},
   "source": [
    "## MaxValue Element"
   ]
  },
  {
   "cell_type": "code",
   "execution_count": 3,
   "metadata": {},
   "outputs": [
    {
     "data": {
      "text/plain": [
       "325"
      ]
     },
     "execution_count": 3,
     "metadata": {},
     "output_type": "execute_result"
    }
   ],
   "source": [
    "def MaxElement(seq):\n",
    "\n",
    "    max_val = seq[0]\n",
    "\n",
    "    for i in range(1,len(seq)):\n",
    "        if max_val < seq[i]:\n",
    "            max_val = seq[i]\n",
    "\n",
    "    return max_val\n",
    "\n",
    "# Input format : 20 30 40 50 60 110\n",
    "\n",
    "seq = [ int(num) for num in input().split() ]\n",
    "\n",
    "MaxElement(seq)"
   ]
  },
  {
   "cell_type": "code",
   "execution_count": 3,
   "metadata": {},
   "outputs": [
    {
     "data": {
      "text/plain": [
       "60"
      ]
     },
     "execution_count": 3,
     "metadata": {},
     "output_type": "execute_result"
    }
   ],
   "source": [
    "# Middle-school procedure to GCD(m, n)\n",
    "def GCD(m, n):\n",
    "\n",
    "    while n != 0:\n",
    "        r = m % n\n",
    "        m = n\n",
    "        n = r\n",
    "\n",
    "    return m\n",
    "\n",
    "m = int(input())\n",
    "n = int(input())\n",
    "GCD(m,n)"
   ]
  },
  {
   "cell_type": "code",
   "execution_count": null,
   "metadata": {},
   "outputs": [],
   "source": [
    "# Brute force algorithm\n",
    "\n",
    "m = int(input())\n",
    "n = int(input())\n",
    "\n",
    "assert m > 0 and n > 0 , \"You need to input\"\n",
    "\n",
    "t = min(m,n)"
   ]
  },
  {
   "cell_type": "code",
   "execution_count": 2,
   "metadata": {},
   "outputs": [
    {
     "name": "stdout",
     "output_type": "stream",
     "text": [
      "4\n"
     ]
    }
   ],
   "source": [
    "# Euclid's algorithm\n",
    "\n",
    "def euclid_gcd(m,n):\n",
    "\n",
    "    assert m > 0 and n > 0 , \"You need to input positive numbers\"\n",
    "\n",
    "    while n != 0:\n",
    "        r = m % n\n",
    "        m = n\n",
    "        n = r\n",
    "\n",
    "    return m\n",
    "\n",
    "m = int(input())\n",
    "n = int(input())\n",
    "euclid_gcd(m,n)"
   ]
  },
  {
   "cell_type": "code",
   "execution_count": null,
   "metadata": {},
   "outputs": [],
   "source": [
    "def fibonaaci_sequence(n):\n",
    "    if n == 0:\n",
    "        return 0\n",
    "    elif n == 1:\n",
    "        return 1\n",
    "    else:\n",
    "        return fibonaaci_sequence(n-1) + fibonaaci_sequence(n-2)"
   ]
  },
  {
   "cell_type": "code",
   "execution_count": null,
   "metadata": {},
   "outputs": [],
   "source": [
    "def nonRecursive_fibonacci_sequence(n):\n",
    "    a = 0\n",
    "    b = 1\n",
    "    if n == 0:\n",
    "        return 0\n",
    "    elif n == 1:\n",
    "        return 1\n",
    "    else:\n",
    "        for i in range(2,n+1):\n",
    "            c = a + b\n",
    "            a = b\n",
    "            b = c\n",
    "        return b"
   ]
  }
 ],
 "metadata": {
  "kernelspec": {
   "display_name": "Python 3",
   "language": "python",
   "name": "python3"
  },
  "language_info": {
   "codemirror_mode": {
    "name": "ipython",
    "version": 3
   },
   "file_extension": ".py",
   "mimetype": "text/x-python",
   "name": "python",
   "nbconvert_exporter": "python",
   "pygments_lexer": "ipython3",
   "version": "3.11.4"
  }
 },
 "nbformat": 4,
 "nbformat_minor": 2
}
