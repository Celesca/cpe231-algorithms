{
 "cells": [
  {
   "cell_type": "markdown",
   "metadata": {},
   "source": [
    "## สรุปสิ่งที่เรียนในคาบนี้\n",
    "\n",
    "- Algorithm : อัลกอริทึม คือ ลำดับของคำสั่งที่ \"ไม่กำกวม\" เพื่อจะแก้ปัญหาที่ระบุชัดเจน เช่น การกำหนดเวลา\n",
    "\n",
    "#### ความแตกต่างของ Problem (ปัญหา) และ Instance Problem (ตัวแปรของปัญหา)\n",
    " - Problem ยกตัวอย่างเช่น Input คือ ลำดับที่ยังไม่ได้เรียง n ตัว Output คือ ลำดับที่เรียงแล้ว\n",
    " - Instance Problem ยกตัวอย่างเช่น Input คือ List ที่ประกอบด้วยตัวเลข [111,32,54] <br> Output คือ List ของตัวเลขที่เรียงแล้ว [32,54,111]\n",
    "\n",
    "#### Expressing Algorithm - การเขียนอธิบาย Algorithm \n",
    "1. Natural Language (ภาษาธรรมชาติคล้ายมนุษย์)\n",
    "\n",
    "2. High-level Unambiguous language (Mixes of natural language and Programming language)\n",
    "<br>Pseudo Code จะใช้เป็น High-level Unambiguous language เพราะอ่านง่ายและ Implement ได้สะดวก\n",
    "\n",
    "3. Programming language\n",
    "\n",
    "#### Important Problem Types (ประเภทโจทย์ที่สำคัญ)\n",
    "* Sorting (การเรียงลำดับ)\n",
    "* Searching (การค้นหา)\n",
    "* String processing (การจัดการกับ String) เช่น String Matching, DNA sequence\n",
    "* Graph problems (ปัญหากราฟ) เช่น Robot Tour Optimization การเคลื่อนที่แขนกลในการบัดกรีแผงวงจร\n",
    "* Combinatorial problems เช่น การทำ Optimization, Bin-packing problem\n",
    "* Geometric problems เช่น Closet pair problem หรือ การหาจุด Scatter ที่ใกล้ที่สุด\n",
    "* Numerical problems เช่น Sudoku Solver, RSA Algorithm\n",
    "\n",
    "#### Algorithm Design Strategies (ยุทธวิธีอัลกอริทึม)\n",
    "* Brute Force\n",
    "* Greedy Approach\n",
    "* Divide/Decrease/Transform and Conqueor \n",
    "* Dynamic Programming\n",
    "* Backtracking and branch-and-bound\n",
    "\n",
    "#### The Analysis Framework\n",
    "* Time efficiency -> Time complexity หมายถึงความเร็วของอัลกอริทึมในการรันโจทย์นั้น\n",
    "* Space efficiency -> Space Complexity หมายถึง จำนวนพื้นที่ที่ใช้ในอัลกอริทึมในโจทย์นั้น<br>\n",
    "แต่ปัจจุบัน เราไม่ Concern space แล้ว เพราะว่าปัจจุบัน RAM มีพื้นที่เยอะ\n",
    "\n",
    "#### Measuring Running Time (การวัดเวลารัน)\n",
    "* โดยปกติแล้ว ปัจจัยที่ขึ้นกับความเร็วคือ CPU, ความเร็วการ Read/Write ของ Disk, สถาปัตยกรรม 32-bit หรือ 64-bit\n",
    "* ดังนั้นในปัจจุบันเราจะใช้ RAM model of Computation เพื่อคำนวณแทน\n",
    "* RAM model (Random Access Machine) คือการคำนวณมือ โดยข้อกำหนดดังนี้\n",
    "\n",
    "  - Simple Operation (+,*,-,=,if, call) จะนับเป็น 1 Time step\n",
    "  - Loops คือ หากโปรแกรมนั้นอยู่ภายใต้การทำงานลูป จะถือว่าการทำงานนั้นทำงานเป็น n Time step หรือตามจำนวนลูปที่วนรอบคำสั่งนั้นๆ \n",
    "  - การเข้าถึง Memory access นับเป็น 1 Time step และเราสมมติว่าเรามี Memory ที่เพียงพอ โดยไม่สนว่า Memory จะอยู่ใน Cache หรือ Disk\n",
    "  - สรุปว่า Run time ของอัลกอริทึม = จำนวน Time step ที่ใช้ที่เรานับมือ\n",
    "\n",
    "#### Asymptotic Notation\n",
    "* Big-Oh Notation(O) - Upper Bound เป็นเวลาที่ใช้ในกรณีที่แย่ที่สุดหรือเป็นขอบบนของเวลา\n",
    "* Big-Omega Notation(Ω) - Lower Bound เป็นเวลาที่ใช้ในกรณีที่ดีที่สุด เป็นขอบล่างเวลา\n",
    "* Big-Theta Notation(Θ) - Average Bound เป็นเวลาที่ใช้เฉลี่ยของอัลกอริทึม\n"
   ]
  },
  {
   "cell_type": "markdown",
   "metadata": {},
   "source": [
    "<h1>Transform Pseudo Code to Algorithms</h1>\n",
    "<p>1. Maximum</p>"
   ]
  },
  {
   "cell_type": "code",
   "execution_count": 45,
   "metadata": {},
   "outputs": [],
   "source": [
    "def Maximum(A):\n",
    "    maxval = A[0]\n",
    "    for i in range(1, len(A)):\n",
    "        if maxval < A[i]:\n",
    "            maxval = A[i]\n",
    "\n",
    "    return maxval"
   ]
  },
  {
   "cell_type": "code",
   "execution_count": 46,
   "metadata": {},
   "outputs": [
    {
     "name": "stdout",
     "output_type": "stream",
     "text": [
      "Test Case 1: Maximum value in [3, 1, 4, 1, 5, 9, 2, 6, 5, 3, 5] is 9\n"
     ]
    }
   ],
   "source": [
    "# Test Case 1\n",
    "list1 = [3, 1, 4, 1, 5, 9, 2, 6, 5, 3, 5]\n",
    "result1 = Maximum(list1)\n",
    "print(f\"Test Case 1: Maximum value in {list1} is {result1}\")"
   ]
  },
  {
   "cell_type": "code",
   "execution_count": 47,
   "metadata": {},
   "outputs": [
    {
     "name": "stdout",
     "output_type": "stream",
     "text": [
      "Test Case 2: Maximum value in [45, 39, 26, 35, 72, 95, 34, 53, 56, 12, 23] is 95\n"
     ]
    }
   ],
   "source": [
    "# Test Case 2\n",
    "list2 = [45, 39, 26, 35, 72, 95, 34, 53, 56, 12, 23]\n",
    "result2 = Maximum(list2)\n",
    "print(f\"Test Case 2: Maximum value in {list2} is {result2}\")"
   ]
  },
  {
   "cell_type": "code",
   "execution_count": 48,
   "metadata": {},
   "outputs": [
    {
     "name": "stdout",
     "output_type": "stream",
     "text": [
      "Test Case 3: Maximum value in [6, 3, 5, 23, 12, 24, 15, 8, 1, 4, 17] is 24\n"
     ]
    }
   ],
   "source": [
    "# Test Case 3\n",
    "list3 = [6, 3, 5, 23, 12, 24, 15, 8, 1, 4, 17]\n",
    "result3 = Maximum(list3)\n",
    "print(f\"Test Case 3: Maximum value in {list3} is {result3}\")"
   ]
  },
  {
   "cell_type": "markdown",
   "metadata": {},
   "source": [
    "<p>2. Middle-school GCD</p>"
   ]
  },
  {
   "cell_type": "code",
   "execution_count": 6,
   "metadata": {},
   "outputs": [],
   "source": [
    "def prime_factorization(number):\n",
    "    factors = []\n",
    "    if number == 1:\n",
    "        return factors\n",
    "    else:\n",
    "        for i in range(2, int(number ** 0.5) + 1):\n",
    "            if number % i == 0:\n",
    "                factors.append(i)\n",
    "                return factors + prime_factorization(number // i)\n",
    "        factors.append(number)\n",
    "        return factors\n",
    "\n",
    "def GCD_MiddleSchool(m, n):\n",
    "    if m==0 or n==0:\n",
    "        if m >= 0:\n",
    "            return m\n",
    "        elif n >= 0:\n",
    "            return n\n",
    "    else:\n",
    "        m_factors = prime_factorization(m)\n",
    "        n_factors = prime_factorization(n)\n",
    "        common_factors = []\n",
    "        total = 1\n",
    "        for i in m_factors:\n",
    "            if i in n_factors:\n",
    "                total *= i\n",
    "                n_factors.remove(i)\n",
    "    \n",
    "    return total\n",
    "\n",
    "    "
   ]
  },
  {
   "cell_type": "code",
   "execution_count": 7,
   "metadata": {},
   "outputs": [
    {
     "name": "stdout",
     "output_type": "stream",
     "text": [
      "GCD of 60 and 24 is 12\n"
     ]
    }
   ],
   "source": [
    "# Test Case 1\n",
    "m, n = 60, 24\n",
    "result = GCD_MiddleSchool(m, n)\n",
    "print(f\"GCD of {m} and {n} is {result}\")"
   ]
  },
  {
   "cell_type": "code",
   "execution_count": 8,
   "metadata": {},
   "outputs": [
    {
     "name": "stdout",
     "output_type": "stream",
     "text": [
      "GCD of 60 and 0 is 60\n"
     ]
    }
   ],
   "source": [
    "# Test Case 2\n",
    "m, n = 60, 0\n",
    "result = GCD_MiddleSchool(m, n)\n",
    "print(f\"GCD of {m} and {n} is {result}\")"
   ]
  },
  {
   "cell_type": "code",
   "execution_count": 9,
   "metadata": {},
   "outputs": [
    {
     "name": "stdout",
     "output_type": "stream",
     "text": [
      "GCD of 45 and 30 is 15\n"
     ]
    }
   ],
   "source": [
    "# Test Case 3\n",
    "m, n = 45, 30\n",
    "result = GCD_MiddleSchool(m, n)\n",
    "print(f\"GCD of {m} and {n} is {result}\")"
   ]
  },
  {
   "cell_type": "markdown",
   "metadata": {},
   "source": [
    "<p>3. Brute Force GCD</p>"
   ]
  },
  {
   "cell_type": "code",
   "execution_count": 18,
   "metadata": {},
   "outputs": [],
   "source": [
    "def GCD_BruteForce(m,n):\n",
    "    assert(m > 0 or n > 0),\"m and n must more than zero\"\n",
    "    t = min(m, n)\n",
    "    if m == 0:\n",
    "        return n\n",
    "    if n == 0:\n",
    "        return m\n",
    "    while t > 0:\n",
    "        if m % t == 0:\n",
    "            if n % t == 0:\n",
    "                return t\n",
    "            else:\n",
    "                t -= 1  \n",
    "        else:\n",
    "            t -= 1"
   ]
  },
  {
   "cell_type": "code",
   "execution_count": 19,
   "metadata": {},
   "outputs": [
    {
     "name": "stdout",
     "output_type": "stream",
     "text": [
      "GCD of 60 and 24 is 12\n"
     ]
    }
   ],
   "source": [
    "# Test Case 1\n",
    "m, n = 60, 24\n",
    "result = GCD_BruteForce(m, n)\n",
    "print(f\"GCD of {m} and {n} is {result}\")"
   ]
  },
  {
   "cell_type": "code",
   "execution_count": 20,
   "metadata": {},
   "outputs": [
    {
     "name": "stdout",
     "output_type": "stream",
     "text": [
      "GCD of 60 and 0 is 60\n"
     ]
    }
   ],
   "source": [
    "# Test Case 2 - Failed Test\n",
    "m, n = 60, 0\n",
    "result = GCD_BruteForce(m, n)\n",
    "print(f\"GCD of {m} and {n} is {result}\")"
   ]
  },
  {
   "cell_type": "markdown",
   "metadata": {},
   "source": [
    "4. Euclid"
   ]
  },
  {
   "cell_type": "code",
   "execution_count": 32,
   "metadata": {},
   "outputs": [],
   "source": [
    "# Euclid Algorithm\n",
    "def euclid(m,n):\n",
    "    \n",
    "    assert(m > 0 and n > 0), \"ArithmeticError: m > 0 and n > 0\"\n",
    "    while n != 0:\n",
    "        r = m % n\n",
    "        m = n\n",
    "        n = r\n",
    "        return m"
   ]
  },
  {
   "cell_type": "code",
   "execution_count": 34,
   "metadata": {},
   "outputs": [
    {
     "name": "stdout",
     "output_type": "stream",
     "text": [
      "24\n"
     ]
    }
   ],
   "source": [
    "# Test Case 1\n",
    "m, n = 60, 24\n",
    "result = euclid(m, n)\n",
    "print(f\"GCD of {m} and {n} is {result}\")"
   ]
  },
  {
   "cell_type": "code",
   "execution_count": 35,
   "metadata": {},
   "outputs": [
    {
     "ename": "AssertionError",
     "evalue": "ArithmeticError: m > 0 and n > 0",
     "output_type": "error",
     "traceback": [
      "\u001b[1;31m---------------------------------------------------------------------------\u001b[0m",
      "\u001b[1;31mAssertionError\u001b[0m                            Traceback (most recent call last)",
      "Cell \u001b[1;32mIn[35], line 3\u001b[0m\n\u001b[0;32m      1\u001b[0m \u001b[38;5;66;03m# Test Case 2 - Euclid\u001b[39;00m\n\u001b[1;32m----> 3\u001b[0m \u001b[38;5;28mprint\u001b[39m(\u001b[43meuclid\u001b[49m\u001b[43m(\u001b[49m\u001b[38;5;241;43m60\u001b[39;49m\u001b[43m,\u001b[49m\u001b[38;5;241;43m0\u001b[39;49m\u001b[43m)\u001b[49m)\n",
      "Cell \u001b[1;32mIn[32], line 3\u001b[0m, in \u001b[0;36meuclid\u001b[1;34m(m, n)\u001b[0m\n\u001b[0;32m      2\u001b[0m \u001b[38;5;28;01mdef\u001b[39;00m \u001b[38;5;21meuclid\u001b[39m(m,n):\n\u001b[1;32m----> 3\u001b[0m     \u001b[38;5;28;01massert\u001b[39;00m(m \u001b[38;5;241m>\u001b[39m \u001b[38;5;241m0\u001b[39m \u001b[38;5;129;01mand\u001b[39;00m n \u001b[38;5;241m>\u001b[39m \u001b[38;5;241m0\u001b[39m), \u001b[38;5;124m\"\u001b[39m\u001b[38;5;124mArithmeticError: m > 0 and n > 0\u001b[39m\u001b[38;5;124m\"\u001b[39m\n\u001b[0;32m      4\u001b[0m     \u001b[38;5;28;01mwhile\u001b[39;00m n \u001b[38;5;241m!=\u001b[39m \u001b[38;5;241m0\u001b[39m:\n\u001b[0;32m      5\u001b[0m         r \u001b[38;5;241m=\u001b[39m m \u001b[38;5;241m%\u001b[39m n\n",
      "\u001b[1;31mAssertionError\u001b[0m: ArithmeticError: m > 0 and n > 0"
     ]
    }
   ],
   "source": [
    "# Test Case 2\n",
    "m, n = 60, 30\n",
    "result = euclid(m, n)\n",
    "print(f\"GCD of {m} and {n} is {result}\")"
   ]
  },
  {
   "cell_type": "code",
   "execution_count": null,
   "metadata": {},
   "outputs": [],
   "source": [
    "# Test Case 3\n",
    "m, n = 45, 30\n",
    "result = euclid(m, n)\n",
    "print(f\"GCD of {m} and {n} is {result}\")"
   ]
  },
  {
   "cell_type": "markdown",
   "metadata": {},
   "source": [
    "5. Sieve of Eratosthenes"
   ]
  },
  {
   "cell_type": "code",
   "execution_count": 38,
   "metadata": {},
   "outputs": [],
   "source": [
    "#Sieve of Eratosthenes\n",
    "def sieve_of_eratosthenes(n):\n",
    "    assert(n >= 2), \"ArithmeticError: n >= 2\"\n",
    "    A = [0,1]\n",
    "    for i in range(2,n+1):\n",
    "        A.append(i)\n",
    "    for i in range(2,int(n**0.5)):\n",
    "        if A[i] != 0:\n",
    "            j = i*i\n",
    "        while j <= n:\n",
    "            A[j] = 0\n",
    "            j += i\n",
    "    return [i for i in A if i != 0 and i != 1]"
   ]
  },
  {
   "cell_type": "code",
   "execution_count": 39,
   "metadata": {},
   "outputs": [
    {
     "name": "stdout",
     "output_type": "stream",
     "text": [
      "Eratosthenes of 60 is [2, 3, 5, 7, 11, 13, 17, 19, 23, 29, 31, 37, 41, 43, 47, 49, 53, 59]\n"
     ]
    }
   ],
   "source": [
    "# Test Case 1 - Sieve of Eratosthenes\n",
    "\n",
    "n = 60\n",
    "result = sieve_of_eratosthenes(n)\n",
    "print(f\"Eratosthenes of {n} is {result}\")"
   ]
  },
  {
   "cell_type": "code",
   "execution_count": 40,
   "metadata": {},
   "outputs": [
    {
     "name": "stdout",
     "output_type": "stream",
     "text": [
      "Eratosthenes of 30 is [2, 3, 5, 7, 11, 13, 17, 19, 23, 25, 29]\n"
     ]
    }
   ],
   "source": [
    "# Test Case 2 - Sieve of Eratosthenes\n",
    "\n",
    "n = 30\n",
    "result = sieve_of_eratosthenes(n)\n",
    "print(f\"Eratosthenes of {n} is {result}\")"
   ]
  },
  {
   "cell_type": "markdown",
   "metadata": {},
   "source": [
    "6. Sum of all elements"
   ]
  },
  {
   "cell_type": "code",
   "execution_count": 41,
   "metadata": {},
   "outputs": [],
   "source": [
    "def Sum_all_Element(A):\n",
    "    sum = 0\n",
    "    for i in range(len(A)):\n",
    "        sum += A[i]\n",
    "    return sum"
   ]
  },
  {
   "cell_type": "code",
   "execution_count": 42,
   "metadata": {},
   "outputs": [
    {
     "name": "stdout",
     "output_type": "stream",
     "text": [
      "Sum all element of [1, 2, 3, 4, 5] is 15.\n"
     ]
    }
   ],
   "source": [
    "# Test Case 1\n",
    "listA = [1,2,3,4,5]\n",
    "result = Sum_all_Element(listA)\n",
    "print(f\"Sum all element of {listA} is {result}.\")"
   ]
  },
  {
   "cell_type": "code",
   "execution_count": 43,
   "metadata": {},
   "outputs": [
    {
     "name": "stdout",
     "output_type": "stream",
     "text": [
      "Sum all element of [12, 6, 7] is 25.\n"
     ]
    }
   ],
   "source": [
    "# Test Case 2\n",
    "listA = [12,6,7]\n",
    "result = Sum_all_Element(listA)\n",
    "print(f\"Sum all element of {listA} is {result}.\")"
   ]
  },
  {
   "cell_type": "markdown",
   "metadata": {},
   "source": [
    "7. Unique Element"
   ]
  },
  {
   "cell_type": "code",
   "execution_count": 28,
   "metadata": {},
   "outputs": [],
   "source": [
    "# UniqueElement\n",
    "\n",
    "def UniqueElement(A):\n",
    "    for i in range(1,len(A)-1):\n",
    "        for j in range(i+1,len(A)):\n",
    "            if A[i] == A[j]:\n",
    "                return False\n",
    "    return True"
   ]
  },
  {
   "cell_type": "code",
   "execution_count": 44,
   "metadata": {},
   "outputs": [
    {
     "name": "stdout",
     "output_type": "stream",
     "text": [
      "Unique element of [1, 2, 3, 4, 5] is True.\n"
     ]
    }
   ],
   "source": [
    "# Test Case 1 - Unique Element\n",
    "\n",
    "listA = [1,2,3,4,5]\n",
    "result = UniqueElement(listA)\n",
    "print(f\"Unique element of {listA} is {result}.\")"
   ]
  },
  {
   "cell_type": "code",
   "execution_count": 45,
   "metadata": {},
   "outputs": [
    {
     "name": "stdout",
     "output_type": "stream",
     "text": [
      "Unique element of [1, 2, 3, 3, 5] is False.\n"
     ]
    }
   ],
   "source": [
    "# Test Case 2 - Unique Element\n",
    "\n",
    "listA = [1,2,3,3,5]\n",
    "result = UniqueElement(listA)\n",
    "print(f\"Unique element of {listA} is {result}.\")"
   ]
  },
  {
   "cell_type": "markdown",
   "metadata": {},
   "source": [
    "---"
   ]
  },
  {
   "cell_type": "markdown",
   "metadata": {},
   "source": [
    "### เป็นคนไม่เอาถ่านบ้านมีเตาแก๊ส\n",
    "<p style=\"color: greenyellow;\">ศวิษฐ์ โกสียอัมพร 65070506026</p>\n",
    "<p style=\"color: orange\">ธวัลรัตน์ โรจน์อมรรัตน์ 65070506037</p>\n",
    "<p style=\"color: hotpink;\">ปุญชญา จันทร์เจริญ</p>"
   ]
  }
 ],
 "metadata": {
  "kernelspec": {
   "display_name": "Python 3",
   "language": "python",
   "name": "python3"
  },
  "language_info": {
   "codemirror_mode": {
    "name": "ipython",
    "version": 3
   },
   "file_extension": ".py",
   "mimetype": "text/x-python",
   "name": "python",
   "nbconvert_exporter": "python",
   "pygments_lexer": "ipython3",
   "version": "3.11.4"
  }
 },
 "nbformat": 4,
 "nbformat_minor": 2
}
