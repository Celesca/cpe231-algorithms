{
 "cells": [
  {
   "cell_type": "markdown",
   "metadata": {},
   "source": [
    "<h1>Express Alogorithm</h1>\n",
    "<p>1.</p>"
   ]
  },
  {
   "cell_type": "code",
   "execution_count": 45,
   "metadata": {},
   "outputs": [],
   "source": [
    "def Maximum(A):\n",
    "    maxval = A[0]\n",
    "    for i in range(1, len(A)):\n",
    "        if maxval < A[i]:\n",
    "            maxval = A[i]\n",
    "\n",
    "    return maxval"
   ]
  },
  {
   "cell_type": "code",
   "execution_count": 46,
   "metadata": {},
   "outputs": [
    {
     "name": "stdout",
     "output_type": "stream",
     "text": [
      "Test Case 1: Maximum value in [3, 1, 4, 1, 5, 9, 2, 6, 5, 3, 5] is 9\n"
     ]
    }
   ],
   "source": [
    "# Test Case 1\n",
    "list1 = [3, 1, 4, 1, 5, 9, 2, 6, 5, 3, 5]\n",
    "result1 = Maximum(list1)\n",
    "print(f\"Test Case 1: Maximum value in {list1} is {result1}\")"
   ]
  },
  {
   "cell_type": "code",
   "execution_count": 47,
   "metadata": {},
   "outputs": [
    {
     "name": "stdout",
     "output_type": "stream",
     "text": [
      "Test Case 2: Maximum value in [45, 39, 26, 35, 72, 95, 34, 53, 56, 12, 23] is 95\n"
     ]
    }
   ],
   "source": [
    "# Test Case 2\n",
    "list2 = [45, 39, 26, 35, 72, 95, 34, 53, 56, 12, 23]\n",
    "result2 = Maximum(list2)\n",
    "print(f\"Test Case 2: Maximum value in {list2} is {result2}\")"
   ]
  },
  {
   "cell_type": "code",
   "execution_count": 48,
   "metadata": {},
   "outputs": [
    {
     "name": "stdout",
     "output_type": "stream",
     "text": [
      "Test Case 3: Maximum value in [6, 3, 5, 23, 12, 24, 15, 8, 1, 4, 17] is 24\n"
     ]
    }
   ],
   "source": [
    "# Test Case 3\n",
    "list3 = [6, 3, 5, 23, 12, 24, 15, 8, 1, 4, 17]\n",
    "result3 = Maximum(list3)\n",
    "print(f\"Test Case 3: Maximum value in {list3} is {result3}\")"
   ]
  },
  {
   "cell_type": "markdown",
   "metadata": {},
   "source": [
    "<p>2.</p>"
   ]
  },
  {
   "cell_type": "code",
   "execution_count": 56,
   "metadata": {},
   "outputs": [],
   "source": [
    "def prime_factorization(number):\n",
    "    factors = []\n",
    "    if number == 1:\n",
    "        return factors\n",
    "    else:\n",
    "        for i in range(2, int(number ** 0.5) + 1):\n",
    "            if number % i == 0:\n",
    "                factors.append(i)\n",
    "                return factors + prime_factorization(number // i)\n",
    "        factors.append(number)\n",
    "        return factors\n",
    "\n",
    "def GCD_MiddleSchool(m, n):\n",
    "    if m==0 or n==0:\n",
    "        if m >= 0:\n",
    "            return m\n",
    "        elif n >= 0:\n",
    "            return n\n",
    "    else:\n",
    "        m_factors = prime_factorization(m)\n",
    "        n_factors = prime_factorization(n)\n",
    "        common_factors = []\n",
    "        total = 1\n",
    "        for i in m_factors:\n",
    "            if i in n_factors:\n",
    "                total *= i\n",
    "                n_factors.remove(i)\n",
    "    \n",
    "    return total\n",
    "\n",
    "    "
   ]
  },
  {
   "cell_type": "code",
   "execution_count": 57,
   "metadata": {},
   "outputs": [
    {
     "name": "stdout",
     "output_type": "stream",
     "text": [
      "GCD of 60 and 24 is 12\n"
     ]
    }
   ],
   "source": [
    "# Test Case 1\n",
    "m, n = 60, 24\n",
    "result = GCD_MiddleSchool(m, n)\n",
    "print(f\"GCD of {m} and {n} is {result}\")"
   ]
  },
  {
   "cell_type": "code",
   "execution_count": 58,
   "metadata": {},
   "outputs": [
    {
     "name": "stdout",
     "output_type": "stream",
     "text": [
      "GCD of 60 and 0 is 60\n"
     ]
    }
   ],
   "source": [
    "# Test Case 2\n",
    "m, n = 60, 0\n",
    "result = GCD_MiddleSchool(m, n)\n",
    "print(f\"GCD of {m} and {n} is {result}\")"
   ]
  },
  {
   "cell_type": "code",
   "execution_count": 59,
   "metadata": {},
   "outputs": [
    {
     "name": "stdout",
     "output_type": "stream",
     "text": [
      "GCD of 45 and 30 is 15\n"
     ]
    }
   ],
   "source": [
    "# Test Case 3\n",
    "m, n = 45, 30\n",
    "result = GCD_MiddleSchool(m, n)\n",
    "print(f\"GCD of {m} and {n} is {result}\")"
   ]
  },
  {
   "cell_type": "markdown",
   "metadata": {},
   "source": [
    "<p>3.</p>"
   ]
  },
  {
   "cell_type": "code",
   "execution_count": 72,
   "metadata": {},
   "outputs": [],
   "source": [
    "def GCD_BruteForce(m,n):\n",
    "    assert(m > 0 and n > 0),\"m and n must more than zero\"\n",
    "    t = min(m, n)\n",
    "    while 1:\n",
    "        if m % t == 0:\n",
    "            if n % t == 0:\n",
    "                return t\n",
    "            else:\n",
    "                t -= 1  \n",
    "        else:\n",
    "            t -= 1"
   ]
  },
  {
   "cell_type": "code",
   "execution_count": 73,
   "metadata": {},
   "outputs": [
    {
     "name": "stdout",
     "output_type": "stream",
     "text": [
      "GCD of 60 and 24 is 12\n"
     ]
    }
   ],
   "source": [
    "# Test Case 1\n",
    "m, n = 60, 24\n",
    "result = GCD_BruteForce(m, n)\n",
    "print(f\"GCD of {m} and {n} is {result}\")"
   ]
  },
  {
   "cell_type": "code",
   "execution_count": 74,
   "metadata": {},
   "outputs": [
    {
     "name": "stdout",
     "output_type": "stream",
     "text": [
      "GCD of 60 and 0 is 60\n"
     ]
    }
   ],
   "source": [
    "# Test Case 2\n",
    "m, n = 60, 0\n",
    "result = GCD_MiddleSchool(m, n)\n",
    "print(f\"GCD of {m} and {n} is {result}\")"
   ]
  },
  {
   "cell_type": "code",
   "execution_count": null,
   "metadata": {},
   "outputs": [],
   "source": []
  }
 ],
 "metadata": {
  "kernelspec": {
   "display_name": "Python 3",
   "language": "python",
   "name": "python3"
  },
  "language_info": {
   "codemirror_mode": {
    "name": "ipython",
    "version": 3
   },
   "file_extension": ".py",
   "mimetype": "text/x-python",
   "name": "python",
   "nbconvert_exporter": "python",
   "pygments_lexer": "ipython3",
   "version": "3.11.7"
  }
 },
 "nbformat": 4,
 "nbformat_minor": 2
}
