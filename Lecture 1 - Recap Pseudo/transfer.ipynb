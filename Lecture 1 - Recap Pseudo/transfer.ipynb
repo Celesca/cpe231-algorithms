{
 "cells": [
  {
   "cell_type": "markdown",
   "metadata": {},
   "source": [
    "<h1>Express Alogorithm</h1>\n",
    "<p>1.</p>"
   ]
  },
  {
   "cell_type": "code",
   "execution_count": 1,
   "metadata": {},
   "outputs": [],
   "source": [
    "def Maximum(A):\n",
    "    maxval = A[0]\n",
    "    for i in range(1, len(A)):\n",
    "        if maxval < A[i]:\n",
    "            maxval = A[i]\n",
    "\n",
    "    return maxval"
   ]
  },
  {
   "cell_type": "code",
   "execution_count": 2,
   "metadata": {},
   "outputs": [
    {
     "name": "stdout",
     "output_type": "stream",
     "text": [
      "Test Case 1: Maximum value in [3, 1, 4, 1, 5, 9, 2, 6, 5, 3, 5] is 9\n"
     ]
    }
   ],
   "source": [
    "# Test Case 1\n",
    "list1 = [3, 1, 4, 1, 5, 9, 2, 6, 5, 3, 5]\n",
    "result1 = Maximum(list1)\n",
    "print(f\"Test Case 1: Maximum value in {list1} is {result1}\")"
   ]
  },
  {
   "cell_type": "code",
   "execution_count": 3,
   "metadata": {},
   "outputs": [
    {
     "name": "stdout",
     "output_type": "stream",
     "text": [
      "Test Case 2: Maximum value in [45, 39, 26, 35, 72, 95, 34, 53, 56, 12, 23] is 95\n"
     ]
    }
   ],
   "source": [
    "# Test Case 2\n",
    "list2 = [45, 39, 26, 35, 72, 95, 34, 53, 56, 12, 23]\n",
    "result2 = Maximum(list2)\n",
    "print(f\"Test Case 2: Maximum value in {list2} is {result2}\")"
   ]
  },
  {
   "cell_type": "code",
   "execution_count": 4,
   "metadata": {},
   "outputs": [
    {
     "name": "stdout",
     "output_type": "stream",
     "text": [
      "Test Case 3: Maximum value in [6, 3, 5, 23, 12, 24, 15, 8, 1, 4, 17] is 24\n"
     ]
    }
   ],
   "source": [
    "# Test Case 3\n",
    "list3 = [6, 3, 5, 23, 12, 24, 15, 8, 1, 4, 17]\n",
    "result3 = Maximum(list3)\n",
    "print(f\"Test Case 3: Maximum value in {list3} is {result3}\")"
   ]
  },
  {
   "cell_type": "markdown",
   "metadata": {},
   "source": [
    "<p>2.</p>"
   ]
  },
  {
   "cell_type": "code",
   "execution_count": 5,
   "metadata": {},
   "outputs": [],
   "source": [
    "def prime_factorization(number):\n",
    "    factors = []\n",
    "    if number == 1:\n",
    "        return factors\n",
    "    else:\n",
    "        for i in range(2, int(number ** 0.5) + 1):\n",
    "            if number % i == 0:\n",
    "                factors.append(i)\n",
    "                return factors + prime_factorization(number // i)\n",
    "        factors.append(number)\n",
    "        return factors\n",
    "\n",
    "def GCD_MiddleSchool(m, n):\n",
    "    if m==0 or n==0:\n",
    "        if m >= 0:\n",
    "            return m\n",
    "        elif n >= 0:\n",
    "            return n\n",
    "    else:\n",
    "        m_factors = prime_factorization(m)\n",
    "        n_factors = prime_factorization(n)\n",
    "        common_factors = []\n",
    "        total = 1\n",
    "        for i in m_factors:\n",
    "            if i in n_factors:\n",
    "                total *= i\n",
    "                n_factors.remove(i)\n",
    "    \n",
    "    return total\n",
    "\n",
    "    "
   ]
  },
  {
   "cell_type": "code",
   "execution_count": 6,
   "metadata": {},
   "outputs": [
    {
     "name": "stdout",
     "output_type": "stream",
     "text": [
      "GCD of 60 and 24 is 12\n"
     ]
    }
   ],
   "source": [
    "# Test Case 1\n",
    "m, n = 60, 24\n",
    "result = GCD_MiddleSchool(m, n)\n",
    "print(f\"GCD of {m} and {n} is {result}\")"
   ]
  },
  {
   "cell_type": "code",
   "execution_count": 7,
   "metadata": {},
   "outputs": [
    {
     "name": "stdout",
     "output_type": "stream",
     "text": [
      "GCD of 60 and 0 is 60\n"
     ]
    }
   ],
   "source": [
    "# Test Case 2\n",
    "m, n = 60, 0\n",
    "result = GCD_MiddleSchool(m, n)\n",
    "print(f\"GCD of {m} and {n} is {result}\")"
   ]
  },
  {
   "cell_type": "code",
   "execution_count": 8,
   "metadata": {},
   "outputs": [
    {
     "name": "stdout",
     "output_type": "stream",
     "text": [
      "GCD of 45 and 30 is 15\n"
     ]
    }
   ],
   "source": [
    "# Test Case 3\n",
    "m, n = 45, 30\n",
    "result = GCD_MiddleSchool(m, n)\n",
    "print(f\"GCD of {m} and {n} is {result}\")"
   ]
  },
  {
   "cell_type": "markdown",
   "metadata": {},
   "source": [
    "<p>3.</p>"
   ]
  },
  {
   "cell_type": "code",
   "execution_count": 9,
   "metadata": {},
   "outputs": [],
   "source": [
    "def GCD_BruteForce(m,n):\n",
    "    assert m > 0 and n > 0,\"m and n must more than zero\"\n",
    "    t = min(m, n)\n",
    "    while 1:\n",
    "        if m % t == 0:\n",
    "            if n % t == 0:\n",
    "                return t\n",
    "            else:\n",
    "                t -= 1  \n",
    "        else:\n",
    "            t -= 1"
   ]
  },
  {
   "cell_type": "code",
   "execution_count": 10,
   "metadata": {},
   "outputs": [
    {
     "name": "stdout",
     "output_type": "stream",
     "text": [
      "GCD of 60 and 24 is 12\n"
     ]
    }
   ],
   "source": [
    "# Test Case 1\n",
    "m, n = 60, 24\n",
    "result = GCD_BruteForce(m, n)\n",
    "print(f\"GCD of {m} and {n} is {result}\")"
   ]
  },
  {
   "cell_type": "code",
   "execution_count": 11,
   "metadata": {},
   "outputs": [
    {
     "name": "stdout",
     "output_type": "stream",
     "text": [
      "GCD of 60 and 30 is 30\n"
     ]
    }
   ],
   "source": [
    "# Test Case 2\n",
    "m, n = 60, 30\n",
    "result = GCD_BruteForce(m, n)\n",
    "print(f\"GCD of {m} and {n} is {result}\")"
   ]
  },
  {
   "cell_type": "code",
   "execution_count": 12,
   "metadata": {},
   "outputs": [
    {
     "name": "stdout",
     "output_type": "stream",
     "text": [
      "GCD of 45 and 30 is 15\n"
     ]
    }
   ],
   "source": [
    "# Test Case 3\n",
    "m, n = 45, 30\n",
    "result = GCD_BruteForce(m, n)\n",
    "print(f\"GCD of {m} and {n} is {result}\")"
   ]
  },
  {
   "cell_type": "markdown",
   "metadata": {},
   "source": [
    "<p>4.</p>"
   ]
  },
  {
   "cell_type": "code",
   "execution_count": 13,
   "metadata": {},
   "outputs": [],
   "source": [
    "def GCD_Euclid(m, n):\n",
    "    assert m > 0 and n > 0, \"m and n must be more than zero\"\n",
    "\n",
    "    while n != 0:\n",
    "        r = m % n\n",
    "        m = n\n",
    "        n = r\n",
    "\n",
    "    return m"
   ]
  },
  {
   "cell_type": "code",
   "execution_count": 14,
   "metadata": {},
   "outputs": [
    {
     "name": "stdout",
     "output_type": "stream",
     "text": [
      "GCD of 60 and 24 is 12\n"
     ]
    }
   ],
   "source": [
    "# Test Case 1\n",
    "m, n = 60, 24\n",
    "result = GCD_Euclid(m, n)\n",
    "print(f\"GCD of {m} and {n} is {result}\")"
   ]
  },
  {
   "cell_type": "code",
   "execution_count": 15,
   "metadata": {},
   "outputs": [
    {
     "name": "stdout",
     "output_type": "stream",
     "text": [
      "GCD of 60 and 30 is 30\n"
     ]
    }
   ],
   "source": [
    "# Test Case 2\n",
    "m, n = 60, 30\n",
    "result = GCD_Euclid(m, n)\n",
    "print(f\"GCD of {m} and {n} is {result}\")"
   ]
  },
  {
   "cell_type": "code",
   "execution_count": 16,
   "metadata": {},
   "outputs": [
    {
     "name": "stdout",
     "output_type": "stream",
     "text": [
      "GCD of 45 and 30 is 15\n"
     ]
    }
   ],
   "source": [
    "# Test Case 3\n",
    "m, n = 45, 30\n",
    "result = GCD_Euclid(m, n)\n",
    "print(f\"GCD of {m} and {n} is {result}\")"
   ]
  },
  {
   "cell_type": "markdown",
   "metadata": {},
   "source": [
    "<p>5.</p>"
   ]
  },
  {
   "cell_type": "code",
   "execution_count": 17,
   "metadata": {},
   "outputs": [],
   "source": [
    "def Eratosthenes(n):\n",
    "    assert n > 0, \"n must be more than zero\"\n",
    "\n",
    "    A = list(range(2, n + 1))\n",
    "\n",
    "    for i in range(2, int(n**0.5) + 1):\n",
    "        if A[i] != 0:  \n",
    "            j = i**2\n",
    "            while j <= n:\n",
    "                A[j - 2] = 0  \n",
    "                j += i\n",
    "\n",
    "    primes = [x for x in A if x != 0]\n",
    "\n",
    "    return primes\n"
   ]
  },
  {
   "cell_type": "code",
   "execution_count": 18,
   "metadata": {},
   "outputs": [
    {
     "name": "stdout",
     "output_type": "stream",
     "text": [
      "Eratosthenes of 60 is [2, 3, 5, 7, 11, 13, 17, 19, 23, 29, 31, 37, 41, 43, 47, 49, 53, 59]\n"
     ]
    }
   ],
   "source": [
    "# Test Case 1\n",
    "n = 60\n",
    "result = Eratosthenes(n)\n",
    "print(f\"Eratosthenes of {n} is {result}\")"
   ]
  },
  {
   "cell_type": "code",
   "execution_count": 19,
   "metadata": {},
   "outputs": [
    {
     "name": "stdout",
     "output_type": "stream",
     "text": [
      "Eratosthenes of 30 is [2, 3, 5, 7, 11, 13, 17, 19, 23, 29]\n"
     ]
    }
   ],
   "source": [
    "# Test Case 2\n",
    "n = 30\n",
    "result = Eratosthenes(n)\n",
    "print(f\"Eratosthenes of {n} is {result}\")"
   ]
  },
  {
   "cell_type": "markdown",
   "metadata": {},
   "source": [
    "<p>6.</p>"
   ]
  },
  {
   "cell_type": "code",
   "execution_count": 20,
   "metadata": {},
   "outputs": [],
   "source": [
    "def Sum_all_Element(A):\n",
    "    sum = 0\n",
    "    for i in range(len(A)):\n",
    "        sum += A[i]\n",
    "    return sum"
   ]
  },
  {
   "cell_type": "code",
   "execution_count": 21,
   "metadata": {},
   "outputs": [
    {
     "name": "stdout",
     "output_type": "stream",
     "text": [
      "Sum all element of [1, 2, 3, 4, 5] is 15.\n"
     ]
    }
   ],
   "source": [
    "# Test Case 1\n",
    "listA = [1,2,3,4,5]\n",
    "result = Sum_all_Element(listA)\n",
    "print(f\"Sum all element of {listA} is {result}.\")"
   ]
  },
  {
   "cell_type": "code",
   "execution_count": 22,
   "metadata": {},
   "outputs": [
    {
     "name": "stdout",
     "output_type": "stream",
     "text": [
      "Sum all element of [12, 6, 7] is 25.\n"
     ]
    }
   ],
   "source": [
    "# Test Case 2\n",
    "listA = [12,6,7]\n",
    "result = Sum_all_Element(listA)\n",
    "print(f\"Sum all element of {listA} is {result}.\")"
   ]
  },
  {
   "cell_type": "markdown",
   "metadata": {},
   "source": [
    "<p>7.</p>"
   ]
  },
  {
   "cell_type": "code",
   "execution_count": 23,
   "metadata": {},
   "outputs": [],
   "source": [
    "def UniqueElement(A):\n",
    "    n = len(A)\n",
    "    for i in range(n-1):\n",
    "        for j in range(i+1,n):\n",
    "            if A[i] == A[j]:\n",
    "                return False\n",
    "    return True"
   ]
  },
  {
   "cell_type": "code",
   "execution_count": 24,
   "metadata": {},
   "outputs": [
    {
     "name": "stdout",
     "output_type": "stream",
     "text": [
      "Unique element of [1, 2, 3, 4, 5] is True.\n"
     ]
    }
   ],
   "source": [
    "# Test Case 1\n",
    "listA = [1,2,3,4,5]\n",
    "result = UniqueElement(listA)\n",
    "print(f\"Unique element of {listA} is {result}.\")"
   ]
  },
  {
   "cell_type": "code",
   "execution_count": 25,
   "metadata": {},
   "outputs": [
    {
     "name": "stdout",
     "output_type": "stream",
     "text": [
      "Unique element of [1, 2, 3, 3, 5] is False.\n"
     ]
    }
   ],
   "source": [
    "# Test Case 2\n",
    "listA = [1,2,3,3,5]\n",
    "result = UniqueElement(listA)\n",
    "print(f\"Unique element of {listA} is {result}.\")"
   ]
  },
  {
   "cell_type": "markdown",
   "metadata": {},
   "source": [
    "<p>8.</p>"
   ]
  },
  {
   "cell_type": "code",
   "execution_count": 26,
   "metadata": {},
   "outputs": [],
   "source": [
    "def Factorial(n):\n",
    "    if n == 0 :\n",
    "        return 1\n",
    "    else :\n",
    "        return n * Factorial(n-1)"
   ]
  },
  {
   "cell_type": "code",
   "execution_count": 27,
   "metadata": {},
   "outputs": [
    {
     "name": "stdout",
     "output_type": "stream",
     "text": [
      "Factorial of 5 is 120.\n"
     ]
    }
   ],
   "source": [
    "# Test Case 1\n",
    "n = 5\n",
    "result = Factorial(n)\n",
    "print(f\"Factorial of {n} is {result}.\")"
   ]
  },
  {
   "cell_type": "code",
   "execution_count": 28,
   "metadata": {},
   "outputs": [
    {
     "name": "stdout",
     "output_type": "stream",
     "text": [
      "Factorial of 3 is 6.\n"
     ]
    }
   ],
   "source": [
    "# Test Case 2\n",
    "n = 3\n",
    "result = Factorial(n)\n",
    "print(f\"Factorial of {n} is {result}.\")"
   ]
  },
  {
   "cell_type": "markdown",
   "metadata": {},
   "source": [
    "<p>9.</p>"
   ]
  },
  {
   "cell_type": "code",
   "execution_count": 29,
   "metadata": {},
   "outputs": [],
   "source": [
    "def Fibonacci(n):\n",
    "    if n <= 1:\n",
    "        return n\n",
    "    else :\n",
    "        return Fibonacci(n-1) + Fibonacci(n-2)"
   ]
  },
  {
   "cell_type": "code",
   "execution_count": 30,
   "metadata": {},
   "outputs": [
    {
     "name": "stdout",
     "output_type": "stream",
     "text": [
      "Fibonacci of 5 is 5.\n"
     ]
    }
   ],
   "source": [
    "# Test Case 1\n",
    "n = 5\n",
    "result = Fibonacci(n)\n",
    "print(f\"Fibonacci of {n} is {result}.\")"
   ]
  },
  {
   "cell_type": "code",
   "execution_count": 31,
   "metadata": {},
   "outputs": [
    {
     "name": "stdout",
     "output_type": "stream",
     "text": [
      "Fibonacci of 4 is 3.\n"
     ]
    }
   ],
   "source": [
    "# Test Case 2\n",
    "n = 4\n",
    "result = Fibonacci(n)\n",
    "print(f\"Fibonacci of {n} is {result}.\")"
   ]
  }
 ],
 "metadata": {
  "kernelspec": {
   "display_name": "Python 3",
   "language": "python",
   "name": "python3"
  },
  "language_info": {
   "codemirror_mode": {
    "name": "ipython",
    "version": 3
   },
   "file_extension": ".py",
   "mimetype": "text/x-python",
   "name": "python",
   "nbconvert_exporter": "python",
   "pygments_lexer": "ipython3",
   "version": "3.11.0"
  }
 },
 "nbformat": 4,
 "nbformat_minor": 2
}
