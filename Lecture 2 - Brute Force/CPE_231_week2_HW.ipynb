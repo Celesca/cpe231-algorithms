{
 "cells": [
  {
   "cell_type": "markdown",
   "metadata": {},
   "source": [
    "#### Brute-Force คือ การแก้ปัญหาแบบที่ง่ายที่สุดแต่โดยรวมแล้วมีประสิทธิภาพต่ำ มักใช้ในกรณีที่เราคิดอัลกอริทึมอื่นยังไม่ออก ซึ่งมีหลักการแก้ปัญหาโดยการสั่งให้ทำงานวนไปเรื่อย ๆ จนกว่าจะได้คำตอบ (เป็นการเช็คทุกตัว n ตัว) แต่ไม่เหมาะกับกับข้อมูลที่มีจำนวนมากเพราะจะใช้เวลานาน โดยปัญหาที่สามารถแก้ไขได้ด้วย Brute-Force ได้แก่\n",
    "1. Bubble Sort คือ จะทำการเปรียบเทียบข้อมูลที่อยู่ติดกันและจะทำการสลับตัวที่น้อยกว่าว่าไว้ด้านหน้า ทำซ้ำจนกว่าทุกตัวจะครบ\n",
    "2. Selection Sort คือ จะทำการเลือกค่าที่น้อยที่สุดในแต่ละรอบ และดึงออกมาเก็บเรียงไว้\n",
    "3. String matching คือ การนำคำที่ต้องการหา ไปหาใน String อีกตัวหนึ่ง\n",
    "4. Closest-pair คือ การหาระยะทางที่สั้นที่สุดระหว่างคู่จุด โดยยังสามารถหาได้จากการใช้ Euclidean นั่นคือ sqrt ของ \n",
    "   ((x[i]-x[j])**2) + ((y[i]-y[j]**2)) ซึ่งต้องยกกำลัง 2 เนื่องจากจุดแต่ละจุดอยู่กันคนละระนาบ\n",
    "5. Convex-Hull Problem คือ รูปนูนหลายเหลี่ยมที่เล็กที่สุดที่ถูก enclose สำหรับ set S of n points ซึ่งแบ่วออกเป็น\n",
    "   - 5.1 Convex hull คือรูปที่มีมุมป้านทุกมุม\n",
    "   - 5.2 Concave hull คือรูปมีได้ทั้งมุมป้านและมุมแหลมในทุกมุม\n",
    "\n",
    "#### Exhaustive Search คือ การค้นหาแบบทั้งหมด โดยสามารถหา solution ได้ 3 steps ได้แก่\n",
    "1. Generate ทุก ๆ element ของปัญหา\n",
    "2. เลือกสิ่งที่เราต้องการ ต่อ constraints หรือตัวแปรทั้งหมด\n",
    "3. หาวิธีการแก้ปัญหาที่เหมาะสม\n",
    "\n",
    "#### ตัวอย่างปัญหาที่ใช้ Brute-Force\n",
    "1. Traveling Salesman Problems : ปัญหาการเดินไปให้ครบทุกเมือง โดยห้ามเดินซ้ำและระยะทางสั้นที่สุด สามารถหาจาก Halmiltonian circuit ที่มี length ที่สั้นที่สุดได้ (ไม่เหมือนกับ minimum Spanning Tree เพราะมีการวนกลับมาที่จุดเริ่มต้น)\n",
    "2. Knapsack Problems : ปัญหาการเลือกตัวเลือกในเงื่อนไขที่จำกัด เพื่อให้ได้ค่าที่เราต้องการให้คุ้มค่าที่สุด\n",
    "   - 2.1 Generate subset ทั้งหมดที่เป็นไปได้ของ item\n",
    "   - 2.2 คำนวณน้ำหนักทั้งหมดของ subset ใน knapsack\n",
    "   - 2.3 หา Subset ที่มี Value มากที่สุด\n",
    "3. Assignment Problems : ปัญหาการมอบหมายงานที่ว่า How to put the right man on the right job คือต้องการให้เกิดการจัดงานที่ดีที่สุด  \n",
    "   โดยอาจทำให้เกิดต้นทุนในการดำเนินการที่ต่ำที่สุด หรือทำให้เวลาในการทำงานโดยรวมน้อยที่สุด\n",
    "\n",
    "#### สรุป Brute-Force และ Exhaustive search เหมาะกับการใช้งานตอนไหน\n",
    "1. Brute Force สามารถใช้ได้กับปัญหาที่หลากหลาย โดยง่ายต่อการออกแบบและบางครั้งเป็นเพียงวิธีเดียวที่จะสามารถใช้แก้ปัญหาที่ยากได้\n",
    "2. โจทย์ที่ไม่คุ้มค่ากับเวลาในการที่จะนำมาออกแบบ Efficient algorithm (อัลกอริทึมที่มีประสิทธิภาพที่สุดสำหรับปัญหานั้น) โดยสามารถแก้ปัญหาได้เพียงไม่กี่ปัญหาและมีข้อจำกัดในเรื่องของเวลา\n",
    "   เนื่องจากบางปัญหาอาจใช้เวลาในการ solve นานเกินไป\n",
    "3. เหมาะกับปัญหาเล็ก ๆ ที่มี n ไม่มาก ซึ่งเป็นวิธีที่ได้รับการยอมรับว่ามีประสิทธิภาพ\n",
    "4. เอาไว้ใช้เป็น Benchmark ให้กับ Efficient algorithm อื่น กล่าวคือ เอาไว้เป็นมาตรฐานที่เอาไว้วัดว่าอัลกอริทึมที่เราคิดขึ้นมาดีหรือไม่จากการเทียบว่าเร็วกว่า Time Complexity ที่ Brute-Force ใช้หรือไม่"
   ]
  },
  {
   "cell_type": "markdown",
   "metadata": {},
   "source": [
    "### Bubble Sort Algorithm"
   ]
  },
  {
   "cell_type": "code",
   "execution_count": 3,
   "metadata": {},
   "outputs": [],
   "source": [
    "def BubbleSort(receive_list):\n",
    "    my_list = receive_list\n",
    "    n = len(my_list)\n",
    "    for i in range(n-1):\n",
    "        for j in range(0, n-i-1):\n",
    "            if my_list[j] > my_list[j+1]:\n",
    "                my_list[j], my_list[j+1] = my_list[j+1], my_list[j]\n",
    "\n",
    "    return my_list"
   ]
  },
  {
   "cell_type": "code",
   "execution_count": 4,
   "metadata": {},
   "outputs": [
    {
     "name": "stdout",
     "output_type": "stream",
     "text": [
      "Sort my_list: [9, 12, 15, 19, 21]\n"
     ]
    }
   ],
   "source": [
    "#Test case 1 - Bubble Sort\n",
    "new_list = [12, 15, 9, 21, 19]\n",
    "sorted_list = BubbleSort(new_list)\n",
    "print('Sort my_list:', sorted_list)"
   ]
  },
  {
   "cell_type": "code",
   "execution_count": 5,
   "metadata": {},
   "outputs": [
    {
     "name": "stdout",
     "output_type": "stream",
     "text": [
      "Sort test_list: [1, 2, 3, 4, 7, 8, 9, 12, 13, 19, 25, 35]\n"
     ]
    }
   ],
   "source": [
    "#Test case 2 - Bubble Sort\n",
    "test_list = [35,25,19,4,13,8,9,12,7,1,3,2]\n",
    "sorted_list = BubbleSort(test_list)\n",
    "print('Sort test_list:', sorted_list)\n"
   ]
  },
  {
   "cell_type": "markdown",
   "metadata": {},
   "source": [
    "### Selection Sort Algorithm"
   ]
  },
  {
   "cell_type": "code",
   "execution_count": 10,
   "metadata": {},
   "outputs": [],
   "source": [
    "def SelectionSort(receive_list):\n",
    "    my_list = receive_list\n",
    "    n = len(my_list)\n",
    "    for i in range(n-1):\n",
    "        min_number = i\n",
    "        for j in range(i+1, n):\n",
    "            if my_list[j] < my_list[min_number]:\n",
    "                min_number = j\n",
    "        my_list[i], my_list[min_number] = my_list[min_number], my_list[i]\n",
    "\n",
    "    return my_list"
   ]
  },
  {
   "cell_type": "code",
   "execution_count": 11,
   "metadata": {},
   "outputs": [
    {
     "name": "stdout",
     "output_type": "stream",
     "text": [
      "Sort my_list: [9, 12, 15, 19, 21]\n"
     ]
    }
   ],
   "source": [
    "#Test case 1 - Selection Sort\n",
    "new_list = [12, 15, 9, 21, 19]\n",
    "sorted_list = SelectionSort(new_list)\n",
    "print('Sort my_list:', sorted_list)"
   ]
  },
  {
   "cell_type": "code",
   "execution_count": 12,
   "metadata": {},
   "outputs": [
    {
     "name": "stdout",
     "output_type": "stream",
     "text": [
      "Sort my_list: [1, 2, 3, 4, 5, 6, 7, 8, 9, 10, 11, 12, 13, 14, 15, 25, 35, 147, 999]\n"
     ]
    }
   ],
   "source": [
    "#Test case 2 - Selection Sort\n",
    "new_list = [999,25,35,147,2,1,3,4,5,6,7,8,9,10,11,12,13,14,15]\n",
    "sorted_list = SelectionSort(new_list)\n",
    "print('Sort my_list:', sorted_list)"
   ]
  },
  {
   "cell_type": "markdown",
   "metadata": {},
   "source": [
    "### String Matching (Brute-Force Algorithm)"
   ]
  },
  {
   "cell_type": "code",
   "execution_count": 13,
   "metadata": {},
   "outputs": [],
   "source": [
    "def brute_stringmatch(T,P):\n",
    "    n = len(T)\n",
    "    m = len(P)\n",
    "    for i in range(0,n-m):\n",
    "        j = 0\n",
    "        while (j < m) and P[j] == T[i+j]:\n",
    "            j += 1\n",
    "        if j == m:\n",
    "            return i\n",
    "    return -1"
   ]
  },
  {
   "cell_type": "code",
   "execution_count": 14,
   "metadata": {},
   "outputs": [
    {
     "name": "stdout",
     "output_type": "stream",
     "text": [
      "String match index: 5\n"
     ]
    }
   ],
   "source": [
    "#Test Case 1 - String Matching\n",
    "T = \"abracadabra\"\n",
    "P = \"ada\"\n",
    "print(\"String match index:\",brute_stringmatch(T,P))"
   ]
  },
  {
   "cell_type": "code",
   "execution_count": 15,
   "metadata": {},
   "outputs": [
    {
     "name": "stdout",
     "output_type": "stream",
     "text": [
      "String match index: -1\n"
     ]
    }
   ],
   "source": [
    "#Test Case 2 - String Matching\n",
    "T = \"welcome to the jungle\"\n",
    "P = \"minecraft\"\n",
    "print(\"String match index:\",brute_stringmatch(T,P))"
   ]
  },
  {
   "cell_type": "markdown",
   "metadata": {},
   "source": [
    "### Brute Force Closet Pair Algorithm"
   ]
  },
  {
   "cell_type": "code",
   "execution_count": 46,
   "metadata": {},
   "outputs": [],
   "source": [
    "import math\n",
    "def BruteForceClosetPair(x,y):\n",
    "    n = len(x)\n",
    "    d = math.inf\n",
    "    for i in range(n):\n",
    "        for j in range(i+1,n):\n",
    "            d = min(d, math.sqrt(((x[i]-x[j])**2) + ((y[i]-y[j])**2)))\n",
    "    return d"
   ]
  },
  {
   "cell_type": "code",
   "execution_count": 47,
   "metadata": {},
   "outputs": [
    {
     "name": "stdout",
     "output_type": "stream",
     "text": [
      "Distance: 1.4142135623730951\n"
     ]
    }
   ],
   "source": [
    "#Test case 1 - Closet Pair\n",
    "x = [1,2,3]\n",
    "y = [4,5,6]\n",
    "print(\"Distance:\",BruteForceClosetPair(x,y))"
   ]
  },
  {
   "cell_type": "code",
   "execution_count": 48,
   "metadata": {},
   "outputs": [
    {
     "name": "stdout",
     "output_type": "stream",
     "text": [
      "Distance: 1.0\n"
     ]
    }
   ],
   "source": [
    "#Test case 2 - Closet Pair\n",
    "x = [1,1,1,2,2,2,3,3,3]\n",
    "y = [1,2,3,1,2,3,1,2,3]\n",
    "\n",
    "print(\"Distance:\",BruteForceClosetPair(x,y))"
   ]
  },
  {
   "cell_type": "markdown",
   "metadata": {},
   "source": [
    "### Convex-Hull Problem"
   ]
  },
  {
   "cell_type": "code",
   "execution_count": null,
   "metadata": {},
   "outputs": [],
   "source": []
  },
  {
   "cell_type": "markdown",
   "metadata": {},
   "source": [
    "### Minimum Total Cost (The Assigment Problem)"
   ]
  },
  {
   "cell_type": "markdown",
   "metadata": {},
   "source": []
  },
  {
   "cell_type": "code",
   "execution_count": 24,
   "metadata": {},
   "outputs": [
    {
     "name": "stdout",
     "output_type": "stream",
     "text": [
      "<9 + 4 + 1 + 4> = 18\n",
      "<9 + 4 + 9 + 8> = 30\n",
      "<9 + 8 + 3 + 4> = 24\n",
      "<9 + 8 + 9 + 7> = 33\n",
      "<9 + 6 + 3 + 8> = 26\n",
      "<9 + 6 + 1 + 7> = 23\n",
      "<6 + 2 + 1 + 4> = 13\n",
      "<6 + 2 + 9 + 8> = 25\n",
      "<6 + 8 + 7 + 4> = 25\n",
      "<6 + 8 + 9 + 8> = 31\n",
      "<6 + 6 + 7 + 8> = 27\n",
      "<6 + 6 + 1 + 8> = 21\n",
      "<5 + 2 + 3 + 4> = 14\n",
      "<5 + 2 + 9 + 7> = 23\n",
      "<5 + 4 + 7 + 4> = 20\n",
      "<5 + 4 + 9 + 8> = 26\n",
      "<5 + 6 + 7 + 7> = 25\n",
      "<5 + 6 + 3 + 8> = 22\n",
      "<7 + 2 + 3 + 8> = 20\n",
      "<7 + 2 + 1 + 7> = 17\n",
      "<7 + 4 + 7 + 8> = 26\n",
      "<7 + 4 + 1 + 8> = 20\n",
      "<7 + 8 + 7 + 7> = 29\n",
      "<7 + 8 + 3 + 8> = 26\n",
      "0.0009982585906982422\n",
      "The minimum of hours spent in best solution is 13 hours\n",
      "Task 0 : Design algorithm - Janasporn\n",
      "Task 1 : Write/debug code - Kanokwan\n",
      "Task 2 : Analyze complexity - Napat\n",
      "Task 3 : Do report & presentation - Thanaporn\n"
     ]
    }
   ],
   "source": [
    "from itertools import permutations\n",
    "import time\n",
    "\n",
    "persons = [\"Kanokwan\", \"Janasporn\" , \"Napat\", \"Thanaporn\"]\n",
    "tasks = [\"Design algorithm\", \"Write/debug code\", \"Analyze complexity\", \"Do report & presentation\"]\n",
    "\n",
    "cost_matrix = [\n",
    "    [9, 2, 7, 8],\n",
    "    [6, 4, 3, 7],\n",
    "    [5, 8, 1, 8],\n",
    "    [7, 6, 9, 4]\n",
    "]\n",
    "\n",
    "start = time.time()\n",
    "\n",
    "indexes = list(permutations([0, 1, 2, 3]))\n",
    "\n",
    "total_list = []\n",
    "solution_list = []\n",
    "\n",
    "for times in indexes:\n",
    "    total = 0\n",
    "\n",
    "    solution = []\n",
    "\n",
    "    print(\"<\", end=\"\")\n",
    "    for number in range(len(times)):\n",
    "        if number < 3:\n",
    "            print(cost_matrix[times[number]][number], end=\" + \")\n",
    "        else:\n",
    "            print(cost_matrix[times[number]][number], end=\"\")\n",
    "        total += cost_matrix[times[number]][number]\n",
    "\n",
    "        solution.append(times[number])\n",
    "        \n",
    "    print(\"> =\", total)\n",
    "    total_list.append(total)\n",
    "    solution_list.append(solution)\n",
    "\n",
    "end = time.time()\n",
    "\n",
    "print(end-start)\n",
    "\n",
    "print(\"The minimum of hours spent in best solution is\", min(total_list), \"hours\")\n",
    "\n",
    "min_index = total_list.index(min(total_list))\n",
    "task_list = solution_list[min_index] \n",
    "\n",
    "for task_number, i in enumerate(task_list):\n",
    "    print(\"Task\", task_number, \":\" , tasks[task_number] , \"-\" , persons[i] )"
   ]
  },
  {
   "cell_type": "markdown",
   "metadata": {},
   "source": [
    "#### The assignment problem - Hungarian Method"
   ]
  },
  {
   "cell_type": "markdown",
   "metadata": {},
   "source": [
    "Ref 1 : https://www.youtube.com/watch?v=m23AgUeAJZY\n",
    "Ref 2 : https://www.youtube.com/watch?v=ezSx8OyBZVc\n",
    "Ref 3 : https://testbook.com/maths/hungarian-method#:~:text=The%20Hungarian%20method%2C%20also%20known,by%20Harold%20Kuhn%20in%201955.\n",
    "Ref 4 : https://python.plainenglish.io/hungarian-algorithm-introduction-python-implementation-93e7c0890e15"
   ]
  },
  {
   "cell_type": "code",
   "execution_count": 28,
   "metadata": {},
   "outputs": [],
   "source": [
    "# The assignment problem - Hungarian Method\n",
    "import numpy as np # Import for visualization\n",
    "import time \n",
    "\n",
    "\n",
    "\n",
    "def hungarian_method(matrix):\n",
    "\n",
    "    cost_matrix = np.array(matrix)\n",
    "    # Step 1 : Find the lowest element for each row\n",
    "    # Subtract that element from each element in the row\n",
    "\n",
    "    for row in cost_matrix:\n",
    "        lowest = min(row)\n",
    "        for index, element in enumerate(row):\n",
    "            row[index] = element - lowest\n",
    "\n",
    "    print(\"Step 1 - Cost Matrix :\")\n",
    "    print(cost_matrix)\n",
    "\n",
    "    # Step 2 : Find the lowest element for each column\n",
    "    # Subtract that element from each element in the column\n",
    "            \n",
    "    for column in range(len(cost_matrix)):\n",
    "\n",
    "        # Find the lowest for that column\n",
    "        lowest = cost_matrix[0][column]\n",
    "\n",
    "        for row in range(len(cost_matrix)):\n",
    "            if cost_matrix[row][column] < lowest:\n",
    "                lowest = cost_matrix[row][column]\n",
    "\n",
    "        for row in range(len(cost_matrix)):\n",
    "            cost_matrix[row][column] -= lowest\n",
    "\n",
    "\n",
    "    print(\"Step 2 - Cost Matrix :\")\n",
    "    print(cost_matrix)\n",
    "\n",
    "    \n",
    "    # Step 3: Examine the rows successively until a row with exactly one unmarked zero is found\n",
    "    # Mark this zero with a circle as an assignment will be made there and cross all other zeros in the column\n",
    "\n",
    "    # Create a mark_matrix to mark the circle in zeros\n",
    "    mark_matrix = []\n",
    "    for row in range(len(cost_matrix)):\n",
    "        row = []\n",
    "        for column in range(len(cost_matrix[0])):\n",
    "            row.append(0)\n",
    "        mark_matrix.append(row)\n",
    "\n",
    "    # Iterate through each row\n",
    "    for row in range(len(cost_matrix)):\n",
    "        zero_count = 0\n",
    "        zero_column = -1\n",
    "\n",
    "        # Count the number of unmarked zeros in the row\n",
    "        for column in range(len(cost_matrix[0])):\n",
    "            if cost_matrix[row][column] == 0 and mark_matrix[row][column] == 0:\n",
    "                zero_count += 1\n",
    "                zero_column = column\n",
    "\n",
    "        # If there is exactly one unmarked zero in the row, mark it with a circle\n",
    "        if zero_count == 1:\n",
    "            mark_matrix[row][zero_column] = 1\n",
    "\n",
    "            # Cross all other zeros in the column\n",
    "            for r in range(len(cost_matrix)):\n",
    "                if r != row and cost_matrix[r][zero_column] == 0:\n",
    "                    mark_matrix[r][zero_column] = -1\n",
    "\n",
    "    #อธิบายเพิ่มเติม Mark Matrix เอาไว้ตรวจสอบว่าเราเลือก 0 ตัวไหนและตัด 0 ตัวไหนออกไป\n",
    "                #0  : ไม่มีการเลือก\n",
    "                #1  : เลือก 0 ที่ช่องนี้\n",
    "                #-1 : ตัด 0 ที่ช่องนี้ออกไป\n",
    "\n",
    "\n",
    "    # Step 4: Examine the columns successively until a column with exactly one unmarked zero is found\n",
    "    # Mark this zero with a circle as an assignment will be made there and cross all other zeros in this row\n",
    "\n",
    "        # Iterate through each column\n",
    "    for column in range(len(cost_matrix[0])):\n",
    "        zero_count = 0\n",
    "        zero_row = -1\n",
    "\n",
    "            # Count the number of unmarked zeros in the column\n",
    "        for row in range(len(cost_matrix)):\n",
    "            if cost_matrix[row][column] == 0 and mark_matrix[row][column] == 0:\n",
    "                zero_count += 1\n",
    "                zero_row = row\n",
    "\n",
    "        # If there is exactly one unmarked zero in the column, mark it with a circle\n",
    "        if zero_count == 1:\n",
    "            mark_matrix[zero_row][column] = 1\n",
    "\n",
    "            # Cross all other zeros in this row\n",
    "            for c in range(len(cost_matrix[0])):\n",
    "                if c != column and cost_matrix[zero_row][c] == 0:\n",
    "                    mark_matrix[zero_row][c] = -1\n",
    "\n",
    "    # Print the updated mark_matrix\n",
    "    print(\"Updated Mark Matrix:\")\n",
    "    for row in mark_matrix:\n",
    "        print(row)\n",
    "\n",
    "    # Step 5 : Check if some row does not have an assignment or marked zero in it\n",
    "    # The optimal solution has not yet been reached.\n",
    "\n",
    "    # optimal_solution = True\n",
    "    # # Iterate through each row\n",
    "    # for row in range(len(cost_matrix)):\n",
    "    #     zero_count = 0\n",
    "\n",
    "    #     # Count the number of marked zeros in the row\n",
    "    #     for column in range(len(cost_matrix[0])):\n",
    "    #         if mark_matrix[row][column] == 1:\n",
    "    #             zero_count += 1\n",
    "    #     else:\n",
    "    #         if zero_count == 0:\n",
    "    #             optimal_solution = False\n",
    "    #             break\n",
    "\n",
    "    # Step 6 : If the optimal solution has not been reached, go to step 3\n",
    "    # Draw minimum number of horizontal and vertical lines to cover zeros of the matrix        \n",
    "    # if not optimal_solution:\n",
    "\n",
    "\n",
    "    optimal_matrix = []\n",
    "    for row in range(len(cost_matrix)):\n",
    "        row = []\n",
    "        for column in range(len(cost_matrix[0])):\n",
    "            row.append(0)\n",
    "        optimal_matrix.append(row)\n",
    "\n",
    "    print(draw_line(cost_matrix))\n",
    "\n",
    "\n",
    "    # Step 7: Find the rows and columns with the most zeros\n",
    "    row_zeros = []\n",
    "    col_zeros = []\n",
    "\n",
    "    # Count the number of zeros in each row\n",
    "    for row in range(len(cost_matrix)):\n",
    "        zero_count = 0\n",
    "        for column in range(len(cost_matrix[0])):\n",
    "            if cost_matrix[row][column] == 0:\n",
    "                zero_count += 1\n",
    "        row_zeros.append(zero_count)\n",
    "\n",
    "    # Count the number of zeros in each column\n",
    "    for column in range(len(cost_matrix[0])):\n",
    "        zero_count = 0\n",
    "        for row in range(len(cost_matrix)):\n",
    "            if cost_matrix[row][column] == 0:\n",
    "                zero_count += 1\n",
    "        col_zeros.append(zero_count)\n",
    "\n",
    "    print(row_zeros)\n",
    "    print(col_zeros)\n",
    "\n",
    "    # print(row_zeros)\n",
    "    # # Find the row with the most zeros\n",
    "    # max_row_zeros = max(row_zeros)\n",
    "    # max_row_index = row_zeros.index(max_row_zeros)\n",
    "\n",
    "    # # Find the column with the most zeros\n",
    "    # max_col_zeros = max(col_zeros)\n",
    "    # max_col_index = col_zeros.index(max_col_zeros)\n",
    "\n",
    "    # print(\"Row with the most zeros:\", max_row_index)\n",
    "    # print(\"Column with the most zeros:\", max_col_index)\n",
    "\n",
    "def draw_line(matrix):\n",
    "    n = len(matrix)\n",
    "    \n",
    "    row_covered = [False] * n\n",
    "    col_covered = [False] * n\n",
    "\n",
    "    # Find the minimum of number of lines needed to cover all zeros in the matrix\n",
    "    \n",
    "    for i in range(n):\n",
    "        for j in range(n):\n",
    "            if matrix[i][j] == 0 and not row_covered[i] and not col_covered[i]:\n",
    "                row_covered[i] = True\n",
    "                col_covered[j] = True\n",
    "\n",
    "    # Identify uncovered rows and columns\n",
    "    uncovered_rows = [i for i in range(n) if not row_covered[i]]\n",
    "    uncovered_cols = [i for i in range(n) if not col_covered[i]]\n",
    "\n",
    "    return uncovered_rows, uncovered_cols\n",
    "    \n",
    "\n",
    "    \n",
    "    "
   ]
  },
  {
   "cell_type": "code",
   "execution_count": 29,
   "metadata": {},
   "outputs": [
    {
     "name": "stdout",
     "output_type": "stream",
     "text": [
      "Step 1 - Cost Matrix :\n",
      "[[7 0 5 6]\n",
      " [3 1 0 4]\n",
      " [4 7 0 7]\n",
      " [3 2 5 0]]\n",
      "Step 2 - Cost Matrix :\n",
      "[[4 0 5 6]\n",
      " [0 1 0 4]\n",
      " [1 7 0 7]\n",
      " [0 2 5 0]]\n",
      "Updated Mark Matrix:\n",
      "[0, 1, 0, 0]\n",
      "[0, 0, -1, 0]\n",
      "[0, 0, 1, 0]\n",
      "[-1, 0, 0, 1]\n",
      "([1], [3])\n",
      "[1, 2, 1, 2]\n",
      "[2, 1, 2, 1]\n",
      "0.0010042190551757812\n"
     ]
    }
   ],
   "source": [
    "# Version 1\n",
    "\n",
    "new_cost_matrix = [\n",
    "    [9, 2, 7, 8],\n",
    "    [6, 4, 3, 7],\n",
    "    [5, 8, 1, 8],\n",
    "    [7, 6, 9, 4]\n",
    "]\n",
    "\n",
    "start = time.time()\n",
    "hungarian_method(new_cost_matrix)\n",
    "end = time.time()\n",
    "\n",
    "print(end-start)"
   ]
  },
  {
   "cell_type": "code",
   "execution_count": 67,
   "metadata": {},
   "outputs": [],
   "source": [
    "# The assignment problem - Hungarian Method\n",
    "import numpy as np # Import for visualization\n",
    "import time \n",
    "\n",
    "def hungarian_method(matrix):\n",
    "\n",
    "    cost_matrix = np.array(matrix)\n",
    "    # Step 1 : Find the lowest element for each row\n",
    "    # Subtract that element from each element in the row\n",
    "\n",
    "    for row in cost_matrix:\n",
    "        lowest = min(row)\n",
    "        for index, element in enumerate(row):\n",
    "            row[index] = element - lowest\n",
    "\n",
    "    print(\"Step 1 - Cost Matrix :\")\n",
    "    print(cost_matrix)\n",
    "\n",
    "    # Step 2 : Find the lowest element for each column\n",
    "    # Subtract that element from each element in the column\n",
    "            \n",
    "    for column in range(len(cost_matrix)):\n",
    "\n",
    "        # Find the lowest for that column\n",
    "        lowest = cost_matrix[0][column]\n",
    "\n",
    "        for row in range(len(cost_matrix)):\n",
    "            if cost_matrix[row][column] < lowest:\n",
    "                lowest = cost_matrix[row][column]\n",
    "\n",
    "        for row in range(len(cost_matrix)):\n",
    "            cost_matrix[row][column] -= lowest\n",
    "\n",
    "\n",
    "    print(\"Step 2 - Cost Matrix :\")\n",
    "    print(cost_matrix)\n",
    "    print(draw_line(cost_matrix))\n",
    "\n",
    "    # Step 3 : Draw the minimum number of lines to cover all zeros in the matrix\n",
    "def draw_line(costMatrix):\n",
    "    \n",
    "    curr_matrix = np.array(costMatrix)\n",
    "    n = len(curr_matrix)"
   ]
  },
  {
   "cell_type": "code",
   "execution_count": 68,
   "metadata": {},
   "outputs": [
    {
     "name": "stdout",
     "output_type": "stream",
     "text": [
      "Step 1 - Cost Matrix :\n",
      "[[7 0 5 6]\n",
      " [3 1 0 4]\n",
      " [4 7 0 7]\n",
      " [3 2 5 0]]\n",
      "Step 2 - Cost Matrix :\n",
      "[[4 0 5 6]\n",
      " [0 1 0 4]\n",
      " [1 7 0 7]\n",
      " [0 2 5 0]]\n"
     ]
    },
    {
     "ename": "KeyboardInterrupt",
     "evalue": "",
     "output_type": "error",
     "traceback": [
      "\u001b[1;31m---------------------------------------------------------------------------\u001b[0m",
      "\u001b[1;31mKeyboardInterrupt\u001b[0m                         Traceback (most recent call last)",
      "Cell \u001b[1;32mIn[68], line 9\u001b[0m\n\u001b[0;32m      1\u001b[0m new_cost_matrix \u001b[38;5;241m=\u001b[39m np\u001b[38;5;241m.\u001b[39marray([\n\u001b[0;32m      2\u001b[0m     [\u001b[38;5;241m9\u001b[39m, \u001b[38;5;241m2\u001b[39m, \u001b[38;5;241m7\u001b[39m, \u001b[38;5;241m8\u001b[39m],\n\u001b[0;32m      3\u001b[0m     [\u001b[38;5;241m6\u001b[39m, \u001b[38;5;241m4\u001b[39m, \u001b[38;5;241m3\u001b[39m, \u001b[38;5;241m7\u001b[39m],\n\u001b[0;32m      4\u001b[0m     [\u001b[38;5;241m5\u001b[39m, \u001b[38;5;241m8\u001b[39m, \u001b[38;5;241m1\u001b[39m, \u001b[38;5;241m8\u001b[39m],\n\u001b[0;32m      5\u001b[0m     [\u001b[38;5;241m7\u001b[39m, \u001b[38;5;241m6\u001b[39m, \u001b[38;5;241m9\u001b[39m, \u001b[38;5;241m4\u001b[39m]\n\u001b[0;32m      6\u001b[0m ])\n\u001b[0;32m      8\u001b[0m start \u001b[38;5;241m=\u001b[39m time\u001b[38;5;241m.\u001b[39mtime()\n\u001b[1;32m----> 9\u001b[0m \u001b[43mhungarian_method\u001b[49m\u001b[43m(\u001b[49m\u001b[43mnew_cost_matrix\u001b[49m\u001b[43m)\u001b[49m\n\u001b[0;32m     10\u001b[0m end \u001b[38;5;241m=\u001b[39m time\u001b[38;5;241m.\u001b[39mtime()\n\u001b[0;32m     12\u001b[0m \u001b[38;5;28mprint\u001b[39m(end\u001b[38;5;241m-\u001b[39mstart)\n",
      "Cell \u001b[1;32mIn[67], line 37\u001b[0m, in \u001b[0;36mhungarian_method\u001b[1;34m(matrix)\u001b[0m\n\u001b[0;32m     35\u001b[0m \u001b[38;5;28mprint\u001b[39m(\u001b[38;5;124m\"\u001b[39m\u001b[38;5;124mStep 2 - Cost Matrix :\u001b[39m\u001b[38;5;124m\"\u001b[39m)\n\u001b[0;32m     36\u001b[0m \u001b[38;5;28mprint\u001b[39m(cost_matrix)\n\u001b[1;32m---> 37\u001b[0m \u001b[38;5;28mprint\u001b[39m(\u001b[43mdraw_line\u001b[49m\u001b[43m(\u001b[49m\u001b[43mcost_matrix\u001b[49m\u001b[43m)\u001b[49m)\n",
      "Cell \u001b[1;32mIn[67], line 60\u001b[0m, in \u001b[0;36mdraw_line\u001b[1;34m(costMatrix)\u001b[0m\n\u001b[0;32m     58\u001b[0m \u001b[38;5;66;03m# Find the index of the row or column with the maximum zeros and fewest moves\u001b[39;00m\n\u001b[0;32m     59\u001b[0m max_zero_row \u001b[38;5;241m=\u001b[39m np\u001b[38;5;241m.\u001b[39margmax(zero_count_row)\n\u001b[1;32m---> 60\u001b[0m max_zero_col \u001b[38;5;241m=\u001b[39m \u001b[43mnp\u001b[49m\u001b[38;5;241;43m.\u001b[39;49m\u001b[43margmax\u001b[49m\u001b[43m(\u001b[49m\u001b[43mzero_count_col\u001b[49m\u001b[43m)\u001b[49m\n\u001b[0;32m     62\u001b[0m \u001b[38;5;28;01mif\u001b[39;00m zero_count_row[max_zero_row] \u001b[38;5;241m>\u001b[39m\u001b[38;5;241m=\u001b[39m zero_count_col[max_zero_col]:\n\u001b[0;32m     63\u001b[0m     row_lines\u001b[38;5;241m.\u001b[39mappend(max_zero_row)\n",
      "File \u001b[1;32mc:\\Users\\folks\\AppData\\Local\\Programs\\Python\\Python311\\Lib\\site-packages\\numpy\\core\\fromnumeric.py:1229\u001b[0m, in \u001b[0;36margmax\u001b[1;34m(a, axis, out, keepdims)\u001b[0m\n\u001b[0;32m   1142\u001b[0m \u001b[38;5;250m\u001b[39m\u001b[38;5;124;03m\"\"\"\u001b[39;00m\n\u001b[0;32m   1143\u001b[0m \u001b[38;5;124;03mReturns the indices of the maximum values along an axis.\u001b[39;00m\n\u001b[0;32m   1144\u001b[0m \n\u001b[1;32m   (...)\u001b[0m\n\u001b[0;32m   1226\u001b[0m \u001b[38;5;124;03m(2, 1, 4)\u001b[39;00m\n\u001b[0;32m   1227\u001b[0m \u001b[38;5;124;03m\"\"\"\u001b[39;00m\n\u001b[0;32m   1228\u001b[0m kwds \u001b[38;5;241m=\u001b[39m {\u001b[38;5;124m'\u001b[39m\u001b[38;5;124mkeepdims\u001b[39m\u001b[38;5;124m'\u001b[39m: keepdims} \u001b[38;5;28;01mif\u001b[39;00m keepdims \u001b[38;5;129;01mis\u001b[39;00m \u001b[38;5;129;01mnot\u001b[39;00m np\u001b[38;5;241m.\u001b[39m_NoValue \u001b[38;5;28;01melse\u001b[39;00m {}\n\u001b[1;32m-> 1229\u001b[0m \u001b[38;5;28;01mreturn\u001b[39;00m \u001b[43m_wrapfunc\u001b[49m\u001b[43m(\u001b[49m\u001b[43ma\u001b[49m\u001b[43m,\u001b[49m\u001b[43m \u001b[49m\u001b[38;5;124;43m'\u001b[39;49m\u001b[38;5;124;43margmax\u001b[39;49m\u001b[38;5;124;43m'\u001b[39;49m\u001b[43m,\u001b[49m\u001b[43m \u001b[49m\u001b[43maxis\u001b[49m\u001b[38;5;241;43m=\u001b[39;49m\u001b[43maxis\u001b[49m\u001b[43m,\u001b[49m\u001b[43m \u001b[49m\u001b[43mout\u001b[49m\u001b[38;5;241;43m=\u001b[39;49m\u001b[43mout\u001b[49m\u001b[43m,\u001b[49m\u001b[43m \u001b[49m\u001b[38;5;241;43m*\u001b[39;49m\u001b[38;5;241;43m*\u001b[39;49m\u001b[43mkwds\u001b[49m\u001b[43m)\u001b[49m\n",
      "File \u001b[1;32mc:\\Users\\folks\\AppData\\Local\\Programs\\Python\\Python311\\Lib\\site-packages\\numpy\\core\\fromnumeric.py:56\u001b[0m, in \u001b[0;36m_wrapfunc\u001b[1;34m(obj, method, *args, **kwds)\u001b[0m\n\u001b[0;32m     54\u001b[0m bound \u001b[38;5;241m=\u001b[39m \u001b[38;5;28mgetattr\u001b[39m(obj, method, \u001b[38;5;28;01mNone\u001b[39;00m)\n\u001b[0;32m     55\u001b[0m \u001b[38;5;28;01mif\u001b[39;00m bound \u001b[38;5;129;01mis\u001b[39;00m \u001b[38;5;28;01mNone\u001b[39;00m:\n\u001b[1;32m---> 56\u001b[0m     \u001b[38;5;28;01mreturn\u001b[39;00m \u001b[43m_wrapit\u001b[49m\u001b[43m(\u001b[49m\u001b[43mobj\u001b[49m\u001b[43m,\u001b[49m\u001b[43m \u001b[49m\u001b[43mmethod\u001b[49m\u001b[43m,\u001b[49m\u001b[43m \u001b[49m\u001b[38;5;241;43m*\u001b[39;49m\u001b[43margs\u001b[49m\u001b[43m,\u001b[49m\u001b[43m \u001b[49m\u001b[38;5;241;43m*\u001b[39;49m\u001b[38;5;241;43m*\u001b[39;49m\u001b[43mkwds\u001b[49m\u001b[43m)\u001b[49m\n\u001b[0;32m     58\u001b[0m \u001b[38;5;28;01mtry\u001b[39;00m:\n\u001b[0;32m     59\u001b[0m     \u001b[38;5;28;01mreturn\u001b[39;00m bound(\u001b[38;5;241m*\u001b[39margs, \u001b[38;5;241m*\u001b[39m\u001b[38;5;241m*\u001b[39mkwds)\n",
      "File \u001b[1;32mc:\\Users\\folks\\AppData\\Local\\Programs\\Python\\Python311\\Lib\\site-packages\\numpy\\core\\fromnumeric.py:45\u001b[0m, in \u001b[0;36m_wrapit\u001b[1;34m(obj, method, *args, **kwds)\u001b[0m\n\u001b[0;32m     43\u001b[0m \u001b[38;5;28;01mexcept\u001b[39;00m \u001b[38;5;167;01mAttributeError\u001b[39;00m:\n\u001b[0;32m     44\u001b[0m     wrap \u001b[38;5;241m=\u001b[39m \u001b[38;5;28;01mNone\u001b[39;00m\n\u001b[1;32m---> 45\u001b[0m result \u001b[38;5;241m=\u001b[39m \u001b[38;5;28;43mgetattr\u001b[39;49m\u001b[43m(\u001b[49m\u001b[43masarray\u001b[49m\u001b[43m(\u001b[49m\u001b[43mobj\u001b[49m\u001b[43m)\u001b[49m\u001b[43m,\u001b[49m\u001b[43m \u001b[49m\u001b[43mmethod\u001b[49m\u001b[43m)\u001b[49m\u001b[43m(\u001b[49m\u001b[38;5;241;43m*\u001b[39;49m\u001b[43margs\u001b[49m\u001b[43m,\u001b[49m\u001b[43m \u001b[49m\u001b[38;5;241;43m*\u001b[39;49m\u001b[38;5;241;43m*\u001b[39;49m\u001b[43mkwds\u001b[49m\u001b[43m)\u001b[49m\n\u001b[0;32m     46\u001b[0m \u001b[38;5;28;01mif\u001b[39;00m wrap:\n\u001b[0;32m     47\u001b[0m     \u001b[38;5;28;01mif\u001b[39;00m \u001b[38;5;129;01mnot\u001b[39;00m \u001b[38;5;28misinstance\u001b[39m(result, mu\u001b[38;5;241m.\u001b[39mndarray):\n",
      "\u001b[1;31mKeyboardInterrupt\u001b[0m: "
     ]
    }
   ],
   "source": [
    "new_cost_matrix = np.array([\n",
    "    [9, 2, 7, 8],\n",
    "    [6, 4, 3, 7],\n",
    "    [5, 8, 1, 8],\n",
    "    [7, 6, 9, 4]\n",
    "])\n",
    "\n",
    "start = time.time()\n",
    "hungarian_method(new_cost_matrix)\n",
    "end = time.time()\n",
    "\n",
    "print(end-start)"
   ]
  },
  {
   "cell_type": "code",
   "execution_count": null,
   "metadata": {},
   "outputs": [],
   "source": []
  }
 ],
 "metadata": {
  "kernelspec": {
   "display_name": "Python 3",
   "language": "python",
   "name": "python3"
  },
  "language_info": {
   "codemirror_mode": {
    "name": "ipython",
    "version": 3
   },
   "file_extension": ".py",
   "mimetype": "text/x-python",
   "name": "python",
   "nbconvert_exporter": "python",
   "pygments_lexer": "ipython3",
   "version": "3.11.4"
  }
 },
 "nbformat": 4,
 "nbformat_minor": 2
}
