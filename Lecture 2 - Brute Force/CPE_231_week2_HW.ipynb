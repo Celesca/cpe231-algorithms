{
 "cells": [
  {
   "cell_type": "markdown",
   "metadata": {},
   "source": [
    "# สรุปสิ่งที่ได้เรียนในคาบนี้"
   ]
  },
  {
   "cell_type": "markdown",
   "metadata": {},
   "source": [
    "#### Brute-Force คือ อัลกอริทึมที่ใช้การแก้ปัญหาแบบง่าย แต่บางครั้งอาจจะมีประสิทธิภาพการทำงานที่ต่ำกว่าอัลกอริทึมอื่น มักใช้ในกรณีที่เราคิดอัลกอริทึมอื่นยังไม่ออก ซึ่งมีหลักการแก้ปัญหาโดยการสั่งให้ทำงานวนไปเรื่อย ๆ จนกว่าจะได้คำตอบ (เป็นการเช็คทุก n ตัว) แต่ไม่เหมาะกับกับข้อมูลที่มีจำนวนมากเพราะจะใช้เวลานาน โดยปัญหาที่สามารถแก้ไขได้ด้วย Brute-Force ได้แก่\n",
    "1. Bubble Sort คือ จะทำการเปรียบเทียบข้อมูลที่อยู่ติดกันและจะทำการสลับตัวที่น้อยกว่าว่าไว้ด้านหน้า ทำซ้ำจนกว่าทุกตัวจะครบ\n",
    "2. Selection Sort คือ จะทำการเลือกค่าที่น้อยที่สุดในแต่ละรอบ และดึงออกมาเก็บเรียงไว้\n",
    "3. String matching คือ การนำคำที่ต้องการหา ไปหาใน String อีกตัวหนึ่ง\n",
    "4. Closest-pair คือ การหาระยะทางที่สั้นที่สุดระหว่างคู่จุด โดยยังสามารถหาได้จากการใช้ Euclidean นั่นคือ sqrt ของ \n",
    "   ((x[i]-x[j])**2) + ((y[i]-y[j]**2)) ซึ่งต้องยกกำลัง 2 เนื่องจากจุดแต่ละจุดอยู่กันคนละระนาบ\n",
    "5. Convex-Hull Problem คือ รูปนูนหลายเหลี่ยมที่เล็กที่สุดที่ถูก enclose สำหรับ set S of n points ซึ่งแบ่วออกเป็น\n",
    "   - 5.1 Convex hull คือรูปที่มีมุมป้านทุกมุม\n",
    "   - 5.2 Concave hull คือรูปมีได้ทั้งมุมป้านและมุมแหลมในทุกมุม\n",
    "\n",
    "#### Exhaustive Search คือ การค้นหาแบบทั้งหมด โดยสามารถหา solution ได้ 3 steps ได้แก่\n",
    "1. Generate ทุก ๆ element ของปัญหา\n",
    "2. เลือกสิ่งที่เราต้องการ ต่อ constraints หรือตัวแปรทั้งหมด\n",
    "3. หาวิธีการแก้ปัญหาที่เหมาะสม\n",
    "\n",
    "#### ตัวอย่างปัญหาที่ใช้ Brute-Force\n",
    "1. Traveling Salesman Problems : ปัญหาการเดินไปให้ครบทุกเมือง โดยห้ามเดินซ้ำและระยะทางสั้นที่สุด สามารถหาจาก Halmiltonian circuit ที่มี length ที่สั้นที่สุดได้ (ไม่เหมือนกับ minimum Spanning Tree เพราะมีการวนกลับมาที่จุดเริ่มต้น)\n",
    "2. Knapsack Problems : ปัญหาการเลือกตัวเลือกในเงื่อนไขที่จำกัด เพื่อให้ได้ค่าที่เราต้องการให้คุ้มค่าที่สุด\n",
    "   - 2.1 Generate subset ทั้งหมดที่เป็นไปได้ของ item\n",
    "   - 2.2 คำนวณน้ำหนักทั้งหมดของ subset ใน knapsack\n",
    "   - 2.3 หา Subset ที่มี Value มากที่สุด\n",
    "3. Assignment Problems : ปัญหาการมอบหมายงานที่ว่า How to put the right man on the right job คือต้องการให้เกิดการจัดงานที่ดีที่สุด  \n",
    "   โดยอาจทำให้เกิดต้นทุนในการดำเนินการที่ต่ำที่สุด หรือทำให้เวลาในการทำงานโดยรวมน้อยที่สุด\n",
    "\n",
    "#### สรุป Brute-Force และ Exhaustive search เหมาะกับการใช้งานตอนไหน\n",
    "1. Brute Force สามารถใช้ได้กับปัญหาที่หลากหลาย โดยง่ายต่อการออกแบบและบางครั้งเป็นเพียงวิธีเดียวที่จะสามารถใช้แก้ปัญหาที่ยากได้\n",
    "2. โจทย์ที่ไม่คุ้มค่ากับเวลาในการที่จะนำมาออกแบบ Efficient algorithm (อัลกอริทึมที่มีประสิทธิภาพที่สุดสำหรับปัญหานั้น) โดยสามารถแก้ปัญหาได้เพียงไม่กี่ปัญหาและมีข้อจำกัดในเรื่องของเวลา\n",
    "   เนื่องจากบางปัญหาอาจใช้เวลาในการ solve นานเกินไป\n",
    "3. เหมาะกับปัญหาเล็ก ๆ ที่มี n ไม่มาก ซึ่งเป็นวิธีที่ได้รับการยอมรับว่ามีประสิทธิภาพ\n",
    "4. เอาไว้ใช้เป็น Benchmark ให้กับ Efficient algorithm อื่น กล่าวคือ เอาไว้เป็นมาตรฐานที่เอาไว้วัดว่าอัลกอริทึมที่เราคิดขึ้นมาดีหรือไม่จากการเทียบว่าเร็วกว่า Time Complexity ที่ Brute-Force ใช้หรือไม่"
   ]
  },
  {
   "cell_type": "markdown",
   "metadata": {},
   "source": [
    "### Bubble Sort Algorithm"
   ]
  },
  {
   "cell_type": "code",
   "execution_count": 153,
   "metadata": {},
   "outputs": [],
   "source": [
    "def BubbleSort(receive_list):\n",
    "    my_list = receive_list\n",
    "    n = len(my_list)\n",
    "    for i in range(n-1):\n",
    "        for j in range(0, n-i-1):\n",
    "            if my_list[j] > my_list[j+1]:\n",
    "                my_list[j], my_list[j+1] = my_list[j+1], my_list[j]\n",
    "\n",
    "    return my_list"
   ]
  },
  {
   "cell_type": "code",
   "execution_count": 154,
   "metadata": {},
   "outputs": [
    {
     "name": "stdout",
     "output_type": "stream",
     "text": [
      "Sort my_list: [9, 12, 15, 19, 21]\n"
     ]
    }
   ],
   "source": [
    "#Test case 1 - Bubble Sort\n",
    "new_list = [12, 15, 9, 21, 19]\n",
    "sorted_list = BubbleSort(new_list)\n",
    "print('Sort my_list:', sorted_list)"
   ]
  },
  {
   "cell_type": "code",
   "execution_count": 155,
   "metadata": {},
   "outputs": [
    {
     "name": "stdout",
     "output_type": "stream",
     "text": [
      "Sort test_list: [1, 2, 3, 4, 7, 8, 9, 12, 13, 19, 25, 35]\n"
     ]
    }
   ],
   "source": [
    "#Test case 2 - Bubble Sort\n",
    "test_list = [35,25,19,4,13,8,9,12,7,1,3,2]\n",
    "sorted_list = BubbleSort(test_list)\n",
    "print('Sort test_list:', sorted_list)\n"
   ]
  },
  {
   "cell_type": "markdown",
   "metadata": {},
   "source": [
    "### Selection Sort Algorithm"
   ]
  },
  {
   "cell_type": "code",
   "execution_count": 156,
   "metadata": {},
   "outputs": [],
   "source": [
    "def SelectionSort(receive_list):\n",
    "    my_list = receive_list\n",
    "    n = len(my_list)\n",
    "    for i in range(n-1):\n",
    "        min_number = i\n",
    "        for j in range(i+1, n):\n",
    "            if my_list[j] < my_list[min_number]:\n",
    "                min_number = j\n",
    "        my_list[i], my_list[min_number] = my_list[min_number], my_list[i]\n",
    "\n",
    "    return my_list"
   ]
  },
  {
   "cell_type": "code",
   "execution_count": 157,
   "metadata": {},
   "outputs": [
    {
     "name": "stdout",
     "output_type": "stream",
     "text": [
      "Sort my_list: [9, 12, 15, 19, 21]\n"
     ]
    }
   ],
   "source": [
    "#Test case 1 - Selection Sort\n",
    "new_list = [12, 15, 9, 21, 19]\n",
    "sorted_list = SelectionSort(new_list)\n",
    "print('Sort my_list:', sorted_list)"
   ]
  },
  {
   "cell_type": "code",
   "execution_count": 158,
   "metadata": {},
   "outputs": [
    {
     "name": "stdout",
     "output_type": "stream",
     "text": [
      "Sort my_list: [1, 2, 3, 4, 5, 6, 7, 8, 9, 10, 11, 12, 13, 14, 15, 25, 35, 147, 999]\n"
     ]
    }
   ],
   "source": [
    "#Test case 2 - Selection Sort\n",
    "new_list = [999,25,35,147,2,1,3,4,5,6,7,8,9,10,11,12,13,14,15]\n",
    "sorted_list = SelectionSort(new_list)\n",
    "print('Sort my_list:', sorted_list)"
   ]
  },
  {
   "cell_type": "markdown",
   "metadata": {},
   "source": [
    "### String Matching (Brute-Force Algorithm)"
   ]
  },
  {
   "cell_type": "code",
   "execution_count": 159,
   "metadata": {},
   "outputs": [],
   "source": [
    "def brute_stringmatch(T,P):\n",
    "    n = len(T)\n",
    "    m = len(P)\n",
    "    for i in range(0,n-m):\n",
    "        j = 0\n",
    "        while (j < m) and P[j] == T[i+j]:\n",
    "            j += 1\n",
    "        if j == m:\n",
    "            return i\n",
    "    return -1"
   ]
  },
  {
   "cell_type": "code",
   "execution_count": 160,
   "metadata": {},
   "outputs": [
    {
     "name": "stdout",
     "output_type": "stream",
     "text": [
      "String match index: 5\n"
     ]
    }
   ],
   "source": [
    "#Test Case 1 - String Matching\n",
    "T = \"abracadabra\"\n",
    "P = \"ada\"\n",
    "print(\"String match index:\",brute_stringmatch(T,P))"
   ]
  },
  {
   "cell_type": "code",
   "execution_count": 161,
   "metadata": {},
   "outputs": [
    {
     "name": "stdout",
     "output_type": "stream",
     "text": [
      "String match index: -1\n"
     ]
    }
   ],
   "source": [
    "#Test Case 2 - String Matching\n",
    "T = \"welcome to the jungle\"\n",
    "P = \"minecraft\"\n",
    "print(\"String match index:\",brute_stringmatch(T,P))"
   ]
  },
  {
   "cell_type": "markdown",
   "metadata": {},
   "source": [
    "### Brute Force Closet Pair Algorithm"
   ]
  },
  {
   "cell_type": "code",
   "execution_count": 162,
   "metadata": {},
   "outputs": [],
   "source": [
    "import math\n",
    "def BruteForceClosetPair(x,y):\n",
    "    n = len(x)\n",
    "    d = math.inf\n",
    "    for i in range(n):\n",
    "        for j in range(i+1,n):\n",
    "            d = min(d, math.sqrt(((x[i]-x[j])**2) + ((y[i]-y[j])**2)))\n",
    "    return d"
   ]
  },
  {
   "cell_type": "code",
   "execution_count": 163,
   "metadata": {},
   "outputs": [
    {
     "name": "stdout",
     "output_type": "stream",
     "text": [
      "Distance: 1.4142135623730951\n"
     ]
    }
   ],
   "source": [
    "#Test case 1 - Closet Pair\n",
    "x = [1,2,3]\n",
    "y = [4,5,6]\n",
    "print(\"Distance:\",BruteForceClosetPair(x,y))"
   ]
  },
  {
   "cell_type": "code",
   "execution_count": 164,
   "metadata": {},
   "outputs": [
    {
     "name": "stdout",
     "output_type": "stream",
     "text": [
      "Distance: 1.0\n"
     ]
    }
   ],
   "source": [
    "#Test case 2 - Closet Pair\n",
    "x = [1,1,1,2,2,2,3,3,3]\n",
    "y = [1,2,3,1,2,3,1,2,3]\n",
    "\n",
    "print(\"Distance:\",BruteForceClosetPair(x,y))"
   ]
  },
  {
   "cell_type": "markdown",
   "metadata": {},
   "source": [
    "### Convex-Hull Problem"
   ]
  },
  {
   "cell_type": "markdown",
   "metadata": {},
   "source": [
    "#### Convex hull problem สามารถใช้ brute force algorithm ในการแก้ปัญหาได้โดยจะทำการพิจารณาคู่จุดที่เป็นไปได้ทั้งหมดและเช็คว่าคู่จุดไหนที่สามารถนำมาสร้าง edge เพื่อเป็นขอบเขตได้ (Gift Wrapping/ Jarvis March Algorithm) โดยมีขั้นตอนการทำงานคร่าว ๆ ดังนี้\n",
    "1. สร้างคู่จุดที่เป็นไปเป็นทั้งหมด\n",
    "2. พิจารณาว่าแต่ละคู่จุดสามารถเป็น edge ของ convex hull ได้มั้ยโดยเริ่มจากหาจุดที่อยู่ฝั่งซ้ายสุดก่อนแล้ววนตามเข็มนาฬิกา\n",
    "3. สำหรับแต่ละ edge ที่ดูมีความเป็นไปได้ ให้เช็คเพิ่มเติมกับจุดที่เหลืออยู่ด้วย เพื่อเช็คมุมองศาว่าจุดไหนได้มุมองศามากที่สุด เมื่อตรวจสอบแล้วไม่พบ จะถือว่า edge นี้เป็น part ของ convex hull ทันที\n",
    "4. ทำการเช็คข้อ 1-3 ซ้ำ กับคู่จุดที่เหลืออยู่ทั้งหมดจนกว่าจะวนกลับมาเจอจุดที่อยู่ฝั่งซ้ายสุดอีกครั้งจึงหยุด\n",
    "5. set ของ edge ทั้งหมด ที่เช็คแล้วว่าเป็น part ของ convex hull จะทำให้ได้ convex hull"
   ]
  },
  {
   "cell_type": "code",
   "execution_count": 165,
   "metadata": {},
   "outputs": [],
   "source": [
    "def gift_wrapping(points):\n",
    "    n = len(points)\n",
    "    \n",
    "    # ถ้าจำนวนจุดมีน้อยกว่า 3 จุด จะไม่สามารถหา convex hull ได้ เพราะมันจะพล็อตเป็นรูปร่างไม่ได้\n",
    "    if n < 3:\n",
    "        print(\"Convex hull not possible with less than 3 points.\")\n",
    "        return\n",
    "    \n",
    "    # หาจุดที่มีค่า y ต่ำที่สุด และมีค่า x ที่มีค่าน้อยที่สุด ในกรณีที่มีจุดมากกว่า 1 จุด\n",
    "    start_point = min(points, key=lambda p: (p[1], p[0]))\n",
    "    convex_hull = [start_point]\n",
    "    \n",
    "    while True:\n",
    "\n",
    "        # เลือกมา 1 จุด\n",
    "\n",
    "        candidate = points[0]\n",
    "\n",
    "        # เราจะทำการวนลูปจุดที่เหลือทั้งหมด และเช็คว่าจุดนั้นอยู่ด้านซ้ายของเส้นที่เราวาดไว้หรือไม่ (Clockwise or Counter Clockwise)\n",
    "        \n",
    "        for point in points[1:]:\n",
    "\n",
    "            # เช็คว่าจุดปัจจุบันอยู่ด้านซ้ายของเส้นที่เราวาดไว้หรือไม่ โดยใช้ สูตร Orientation\n",
    "            # Orientation คือการเช็ค่าจุดปัจจุบันอยู่ด้านซ้ายของเส้นที่เราวาดไว้หรือไม่\n",
    "            orientation = (candidate[1] - convex_hull[-1][1]) * (point[0] - convex_hull[-1][0]) - \\\n",
    "                          (candidate[0] - convex_hull[-1][0]) * (point[1] - convex_hull[-1][1])\n",
    "            \n",
    "            if orientation < 0:    # ถ้าจุดปัจจุบันอยู่ด้านซ้ายของเส้นที่เราวาดไว้ จะทำการเปลี่ยนจุดปัจจุบันเป็น จุดนั้นที่เช็คอยู่\n",
    "                candidate = point\n",
    "        \n",
    "        if candidate == start_point: # ถ้าจุดปัจจุบันเป็นจุดเริ่มต้น แสดงว่าเราวาด convex hull เสร็จแล้ว\n",
    "            break\n",
    "        else:\n",
    "            convex_hull.append(candidate)\n",
    "            points.remove(candidate)\n",
    "    \n",
    "    return convex_hull"
   ]
  },
  {
   "cell_type": "code",
   "execution_count": 166,
   "metadata": {},
   "outputs": [],
   "source": [
    "import matplotlib.pyplot as plt\n",
    "\n",
    "def plot_convex_hull(points, convex_hull):\n",
    "    # ทำการแยก x และ y ออกมาจาก points และ convex_hull\n",
    "    x_points = [point[0] for point in points]\n",
    "    y_points = [point[1] for point in points]\n",
    "    x_hull = [point[0] for point in convex_hull]\n",
    "    y_hull = [point[1] for point in convex_hull]\n",
    "\n",
    "    # พล็อตจุดและ convex hull\n",
    "    plt.scatter(x_points, y_points, color='blue', label='Points')\n",
    "    plt.plot(x_hull + [x_hull[0]], y_hull + [y_hull[0]], color='red', label='Convex Hull')\n",
    "    \n",
    "    # ตั้งค่ากราฟ\n",
    "    plt.title('Convex Hull')\n",
    "    plt.xlabel('X')\n",
    "    plt.ylabel('Y')\n",
    "    \n",
    "    plt.legend()\n",
    "    plt.show()"
   ]
  },
  {
   "cell_type": "code",
   "execution_count": 167,
   "metadata": {},
   "outputs": [
    {
     "data": {
      "image/png": "[encoded data removed]",
      "text/plain": [
       "<Figure size 640x480 with 1 Axes>"
      ]
     },
     "metadata": {},
     "output_type": "display_data"
    }
   ],
   "source": [
    "# Test case - Convex Hull - Gift Wrapping\n",
    "import random\n",
    "\n",
    "points = []\n",
    "for i in range(100):\n",
    "    x = random.randint(-100, 100)\n",
    "    y = random.randint(-100, 100)\n",
    "    points.append((x, y))\n",
    "\n",
    "result = gift_wrapping(points)\n",
    "plot_convex_hull(points, result)"
   ]
  },
  {
   "cell_type": "markdown",
   "metadata": {},
   "source": [
    "### Minimum Total Cost (The Assigment Problem)"
   ]
  },
  {
   "cell_type": "markdown",
   "metadata": {},
   "source": [
    "Implement with Normal Brute-Force Algorithm"
   ]
  },
  {
   "cell_type": "code",
   "execution_count": 168,
   "metadata": {},
   "outputs": [
    {
     "name": "stdout",
     "output_type": "stream",
     "text": [
      "<9 + 4 + 1 + 4> = 18\n",
      "<9 + 4 + 9 + 8> = 30\n",
      "<9 + 8 + 3 + 4> = 24\n",
      "<9 + 8 + 9 + 7> = 33\n",
      "<9 + 6 + 3 + 8> = 26\n",
      "<9 + 6 + 1 + 7> = 23\n",
      "<6 + 2 + 1 + 4> = 13\n",
      "<6 + 2 + 9 + 8> = 25\n",
      "<6 + 8 + 7 + 4> = 25\n",
      "<6 + 8 + 9 + 8> = 31\n",
      "<6 + 6 + 7 + 8> = 27\n",
      "<6 + 6 + 1 + 8> = 21\n",
      "<5 + 2 + 3 + 4> = 14\n",
      "<5 + 2 + 9 + 7> = 23\n",
      "<5 + 4 + 7 + 4> = 20\n",
      "<5 + 4 + 9 + 8> = 26\n",
      "<5 + 6 + 7 + 7> = 25\n",
      "<5 + 6 + 3 + 8> = 22\n",
      "<7 + 2 + 3 + 8> = 20\n",
      "<7 + 2 + 1 + 7> = 17\n",
      "<7 + 4 + 7 + 8> = 26\n",
      "<7 + 4 + 1 + 8> = 20\n",
      "<7 + 8 + 7 + 7> = 29\n",
      "<7 + 8 + 3 + 8> = 26\n",
      "0.0010187625885009766\n",
      "The minimum of hours spent in best solution is 13 hours\n",
      "Task 0 : Design algorithm - Janasporn\n",
      "Task 1 : Write/debug code - Kanokwan\n",
      "Task 2 : Analyze complexity - Napat\n",
      "Task 3 : Do report & presentation - Thanaporn\n"
     ]
    }
   ],
   "source": [
    "from itertools import permutations\n",
    "import time\n",
    "\n",
    "persons = [\"Kanokwan\", \"Janasporn\" , \"Napat\", \"Thanaporn\"]\n",
    "tasks = [\"Design algorithm\", \"Write/debug code\", \"Analyze complexity\", \"Do report & presentation\"]\n",
    "\n",
    "cost_matrix = [\n",
    "    [9, 2, 7, 8],\n",
    "    [6, 4, 3, 7],\n",
    "    [5, 8, 1, 8],\n",
    "    [7, 6, 9, 4]\n",
    "]\n",
    "\n",
    "start = time.time()\n",
    "\n",
    "indexes = list(permutations([0, 1, 2, 3]))\n",
    "\n",
    "total_list = []\n",
    "solution_list = []\n",
    "\n",
    "for times in indexes:\n",
    "    total = 0\n",
    "\n",
    "    solution = []\n",
    "\n",
    "    print(\"<\", end=\"\")\n",
    "    for number in range(len(times)):\n",
    "        if number < 3:\n",
    "            print(cost_matrix[times[number]][number], end=\" + \")\n",
    "        else:\n",
    "            print(cost_matrix[times[number]][number], end=\"\")\n",
    "        total += cost_matrix[times[number]][number]\n",
    "\n",
    "        solution.append(times[number])\n",
    "        \n",
    "    print(\"> =\", total)\n",
    "    total_list.append(total)\n",
    "    solution_list.append(solution)\n",
    "\n",
    "end = time.time()\n",
    "\n",
    "brute_force_time = end - start\n",
    "print(brute_force_time)\n",
    "\n",
    "print(\"The minimum of hours spent in best solution is\", min(total_list), \"hours\")\n",
    "\n",
    "min_index = total_list.index(min(total_list))\n",
    "task_list = solution_list[min_index] \n",
    "\n",
    "for task_number, i in enumerate(task_list):\n",
    "    print(\"Task\", task_number, \":\" , tasks[task_number] , \"-\" , persons[i] )"
   ]
  },
  {
   "cell_type": "markdown",
   "metadata": {},
   "source": [
    "#### The assignment problem - Hungarian Method"
   ]
  },
  {
   "cell_type": "markdown",
   "metadata": {},
   "source": [
    "* Ref 1 : https://www.youtube.com/watch?v=m23AgUeAJZY\n",
    "* Ref 2 : https://www.youtube.com/watch?v=ezSx8OyBZVc\n",
    "* Ref 3 : https://testbook.com/maths/hungarian-method#:~:text=The%20Hungarian%20method%2C%20also%20known,by%20Harold%20Kuhn%20in%201955.\n",
    "* Ref 4 : https://python.plainenglish.io/hungarian-algorithm-introduction-python-implementation-93e7c0890e15"
   ]
  },
  {
   "cell_type": "markdown",
   "metadata": {},
   "source": [
    "ขออนุญาตใช้ Library Numpy ในการ Implement เพื่อให้ได้อัลกอริทึมที่เร็วกว่าการเขียนด้วย Python ธรรมดาครับ"
   ]
  },
  {
   "cell_type": "code",
   "execution_count": 169,
   "metadata": {},
   "outputs": [],
   "source": [
    "import numpy as np\n",
    "\n",
    "\n",
    "''' -- Update Matrix Method --\n",
    "ในส่วนของ Update Matrix นั้น หลักการง่ายๆของมันคือ ถ้าหากเส้นที่เราลากเพื่อผ่าน 0 ทั้งแนวตั้งและแนวนอน\n",
    "แล้วจำนวนมันน้อยกว่า จำนวนมิติที่เราหา ดังนั้นเราจะต้องทำการหาจุดที่ซ่อนอยู่ โดยหลักการคือ\n",
    "เรามองเมทริกซ์ที่ไม่โดนเส้นทับนั้น เอาค่าที่น้อยที่สุดแล้วลบ เมทริกซ์ที่ไม่โดนทับ\n",
    "จากนั้นเอาเลขนั้นไปบวกที่ ช่องที่เส้น Intersect กัน\n",
    "จากนั้น เราก็จะได้เลข 0 ที่ซ่อนอยู่แล้ว ก็นำไปทำกระบวนการเหมือนเดิม\n",
    "'''\n",
    "\n",
    "def update_matrix(mat, cover_rows, cover_cols):\n",
    "    cur_mat = mat\n",
    "    non_zero_element = []\n",
    "    \n",
    "    #Step 4-1\n",
    "    for row in range(len(cur_mat)):\n",
    "        if row not in cover_rows:\n",
    "            for i in range(len(cur_mat[row])):\n",
    "                if i not in cover_cols:\n",
    "                    non_zero_element.append(cur_mat[row][i])\n",
    "    \n",
    "    min_num = min(non_zero_element)\n",
    "\n",
    "    #Step 4-2\n",
    "    for row in range(len(cur_mat)):\n",
    "        if row not in cover_rows:\n",
    "            for i in range(len(cur_mat[row])):\n",
    "                if i not in cover_cols:\n",
    "                    cur_mat[row, i] = cur_mat[row, i] - min_num\n",
    "    #Step 4-3\n",
    "    for row in range(len(cover_rows)):  \n",
    "        for col in range(len(cover_cols)):\n",
    "            cur_mat[cover_rows[row], cover_cols[col]] = cur_mat[cover_rows[row], cover_cols[col]] + min_num\n",
    "\n",
    "    return cur_mat\n",
    "\n",
    "def mark_matrix(matrix):\n",
    "\n",
    "    ''' --- Mark Matrix Method ---\n",
    "    \n",
    "    ขั้นตอนข้างล่างนี้ คือขั้นตอนในการตีเส้นและเลือกเส้นที่ครอบคลุมจำนวน 0 มากที่สุดใน Matrix\n",
    "    โดยหลักการคือ เลือกให้ครอบคลุมและต้องเป็นการเลือกที่ดีที่สุด (กล่าวคือมันไม่ได้เลือก 4 แถวหมดเลย)\n",
    "    ก็คือทำยังไงก็ได้ให้เรามีเส้นที่เราสนใจและมีประสิทธิภาพมากที่สุด\n",
    "    จากนั้นถ้าหากเราได้เมทริกซ์ Cost Matrix ที่เหมาะสมแล้ว มันจะทำการคำนวณและก็บอกว่าเราเลือก 0 ที่จุดใดไปบ้าง\n",
    "    \n",
    "Step 2-1 Mark rows that do not contain marked 0 elements and store row indexes in the non_marked_row\n",
    "2-2 Search non_marked_row element, and find out if there are any unmarked 0 elements in the corresponding column\n",
    "2-3 Store the column indexes in the marked_cols\n",
    "2-4 Compare the column indexes stored in marked_zero and marked_cols\n",
    "2-5 If a matching column index exists, the corresponding row_index is saved to non_marked_rows\n",
    "Next, the row indexes that are not in non_marked_row are stored in marked_rows\n",
    "    '''\n",
    "\n",
    "    curr_matrix = matrix\n",
    "    boolean_matrix = (curr_matrix == 0)\n",
    "    boolean_matrix_copy = boolean_matrix.copy()\n",
    "\n",
    "    # เราจะเอา ค่า 0 ที่น้อยที่สุดในแถวนั้นลงใน  list ที่ชื่อว่า zero_marked\n",
    "    zero_marked = []\n",
    "    while (True in boolean_matrix_copy):\n",
    "        min_zero_row(boolean_matrix_copy, zero_marked)\n",
    "\n",
    "    marked_zero_row = []\n",
    "    marked_zero_col = []\n",
    "\n",
    "    for row, col in zero_marked:\n",
    "        marked_zero_row.append(row)\n",
    "        marked_zero_col.append(col)\n",
    "\n",
    "    # Step 2-1\n",
    "    non_marked_row = list(set(range(curr_matrix.shape[0])) - set(marked_zero_row))\n",
    "\n",
    "    marked_cols = []\n",
    "    check_flag = True\n",
    "\n",
    "    while check_flag:\n",
    "        check_flag = False\n",
    "        for i in range(len(non_marked_row)):\n",
    "            row_array = boolean_matrix[non_marked_row[i], :]\n",
    "\n",
    "            for j in range(curr_matrix.shape[1]):\n",
    "                # Step 2-2\n",
    "                if row_array[j] == True and j not in marked_cols:\n",
    "                    # Step 2-3\n",
    "                    marked_cols.append(col)\n",
    "                    check_flag = True\n",
    "\n",
    "        for row_num, col_num in zero_marked:\n",
    "            # Step 2-4\n",
    "            if row_num not in non_marked_row and col_num in marked_cols:\n",
    "                # Step 2-5\n",
    "                non_marked_row.append(row_num)\n",
    "                check_flag = True\n",
    "    # Step 2-6\n",
    "    marked_rows = list(set(range(curr_matrix.shape[0])) - set(non_marked_row))\n",
    "\n",
    "    return (zero_marked, marked_rows, marked_cols)\n",
    "\n",
    "def min_zero_row(zero_matrix, zero_marked):\n",
    "\n",
    "    ''' --- Min Zero Row Method ---\n",
    "    คือขั้นตอนในการทำ Zero Boolean Matrix ซึ่งคือเมทริกซ์ที่เก็บค่า 0 และ 1 โดย\n",
    "    ถ้าหากเจอ 0 แปลว่าเป็น True แต่ถ้าไม่เจอ 0 แปลว่าเป็น False แล้วทำการบันทึกลงไป\n",
    "\n",
    "    # ขั้นตอนนี้คือการที่เราเลือกแถวที่มี 0 จำนวนน้อยที่สุด และทำการเลือกจุดนั้น\n",
    "    # ถ้าเราเลือกจุดนั้นแล้ว ให้ทำการกำหนดให้ Zero_matrix เป็น False ทั้งแถวและหลักที่ 0 นั้นอยู่\n",
    "\n",
    "     '''\n",
    "    # min_row = [ fewest zeros , row ]\n",
    "    min_row = [9999, -1]\n",
    "    \n",
    "    for row in range(zero_matrix.shape[0]):\n",
    "        if np.sum(zero_matrix[row] == True) > 0 and min_row[0] > np.sum(zero_matrix[row] == True):\n",
    "            min_row[0] = np.sum(zero_matrix[row] == True)\n",
    "            min_row[1] = row\n",
    "\n",
    "    # ทำให้เป็น False ทั้งแถวและหลักที่ 0 นั้นอยู่\n",
    "    index = np.where(zero_matrix[min_row[1]] == True)[0][0]\n",
    "    zero_marked.append((min_row[1], index))\n",
    "    zero_matrix[min_row[1]] = False\n",
    "    zero_matrix[:, index] = False\n",
    "    \n",
    "\n",
    "def hungarian_method(matrix):\n",
    "    # --------------------- Step 1 --------------------------\n",
    "    # ทำการ Reduction ลดจำนวนที่เราจะพิจารณาโดยการเลือกค่าที่น้อยที่สุดของทั้งแถวและลบออกจากทุกๆ ค่าในแถวนั้นๆ\n",
    "    # ทำนองเดียวกันกับหลักก็เช่นกัน\n",
    "    cost_matrix = np.array(matrix)\n",
    "    dim = cost_matrix.shape[0]\n",
    "\n",
    "    # Step 1 : Find the lowest element for each row (หาค่าที่น้อยที่สุดในแถวนั้นๆ)\n",
    "    # Subtract that element from each element in the row\n",
    "    # เอาค่านั้นมาลบออกจากทุกๆ ค่าในแถวนั้นๆ\n",
    "\n",
    "    for row in cost_matrix:\n",
    "        lowest = min(row)\n",
    "        for index, element in enumerate(row):\n",
    "            row[index] = element - lowest\n",
    "\n",
    "    print(\"Step 1-1 Cost Matrix :\")\n",
    "    print(cost_matrix)\n",
    "\n",
    "    # Step 2 : Find the lowest element for each column (หาค่าที่น้อยที่สุดในหลักนั้นๆ)\n",
    "    # Subtract that element from each element in the column\n",
    "    # เอาค่านั้นมาลบออกจากทุกๆ ค่าในหลักนั้นๆ\n",
    "            \n",
    "    for column in range(len(cost_matrix)):\n",
    "\n",
    "        # หาค่าต่ำสุดในหลัก \n",
    "        lowest = cost_matrix[0][column]\n",
    "\n",
    "        for row in range(len(cost_matrix)):\n",
    "            if cost_matrix[row][column] < lowest:\n",
    "                lowest = cost_matrix[row][column]\n",
    "\n",
    "        for row in range(len(cost_matrix)):\n",
    "            cost_matrix[row][column] -= lowest\n",
    "\n",
    "    print(\"Step 1-2 Cost Matrix :\")\n",
    "    print(cost_matrix)\n",
    "\n",
    "    # ---------------------------------------------------\n",
    "    # \n",
    "    \n",
    "    zero_count = 0 # Zero_count หมายถึง เส้นที่เราเลือกทั้งแนวตั้งและแนวนอนรวมกัน\n",
    "    while zero_count < dim:\n",
    "        #Step 2 & 3\n",
    "        ans_pos, marked_rows, marked_cols = mark_matrix(cost_matrix)\n",
    "        zero_count = len(marked_rows) + len(marked_cols)\n",
    "\n",
    "        # ถ้า zero_count ยังน้อยกว่า dim แสดงว่ามันยังมีตัวที่ซ่อนอยู่อีก ให้เรียกใช้ update_matrix เพื่อหาตัวที่ซ่อนอยู่\n",
    "\n",
    "        if zero_count < dim:\n",
    "            cost_matrix = update_matrix(cost_matrix, marked_rows, marked_cols)\n",
    "\n",
    "        return ans_pos\n",
    "    "
   ]
  },
  {
   "cell_type": "code",
   "execution_count": 170,
   "metadata": {},
   "outputs": [
    {
     "name": "stdout",
     "output_type": "stream",
     "text": [
      "Step 1-1 Cost Matrix :\n",
      "[[7 0 5 6]\n",
      " [3 1 0 4]\n",
      " [4 7 0 7]\n",
      " [3 2 5 0]]\n",
      "Step 1-2 Cost Matrix :\n",
      "[[4 0 5 6]\n",
      " [0 1 0 4]\n",
      " [1 7 0 7]\n",
      " [0 2 5 0]]\n",
      "Task 1 : Write/debug code - Kanokwan\n",
      "Task 2 : Analyze complexity - Napat\n",
      "Task 0 : Design algorithm - Janasporn\n",
      "Task 3 : Do report & presentation - Thanaporn\n",
      "Minimum Hours : 13\n",
      "Time used in Hungarian Method :  0.0009720325469970703 s\n"
     ]
    }
   ],
   "source": [
    "# Hungarian Method\n",
    "\n",
    "import time\n",
    "\n",
    "persons = [\"Kanokwan\", \"Janasporn\" , \"Napat\", \"Thanaporn\"]\n",
    "tasks = [\"Design algorithm\", \"Write/debug code\", \"Analyze complexity\", \"Do report & presentation\"]\n",
    "\n",
    "\n",
    "new_cost_matrix = [\n",
    "    [9, 2, 7, 8],\n",
    "    [6, 4, 3, 7],\n",
    "    [5, 8, 1, 8],\n",
    "    [7, 6, 9, 4]\n",
    "]\n",
    "\n",
    "# ลองจับเวลาโดยใช้ Hungarian Method\n",
    "\n",
    "start = time.time()\n",
    "result = hungarian_method(new_cost_matrix)\n",
    "end = time.time()\n",
    "\n",
    "hungarian_time = end - start\n",
    "\n",
    "for job in result:\n",
    "    print(\"Task\", job[1], \":\" , tasks[job[1]] , \"-\" , persons[job[0]] )\n",
    "\n",
    "print(\"Minimum Hours :\", sum([new_cost_matrix[job[0]][job[1]] for job in result]))\n",
    "\n",
    "print(\"Time used in Hungarian Method : \", end-start, \"s\")"
   ]
  },
  {
   "cell_type": "markdown",
   "metadata": {},
   "source": [
    "### Discussion - The Assignment Problem"
   ]
  },
  {
   "cell_type": "code",
   "execution_count": 171,
   "metadata": {},
   "outputs": [
    {
     "name": "stdout",
     "output_type": "stream",
     "text": [
      "Brute Force Time :  0.0010187625885009766 s\n",
      "Hungarian Method Time :  0.0009720325469970703 s\n"
     ]
    }
   ],
   "source": [
    "print(\"Brute Force Time : \", brute_force_time, \"s\")\n",
    "print(\"Hungarian Method Time : \", hungarian_time, \"s\")"
   ]
  },
  {
   "cell_type": "markdown",
   "metadata": {},
   "source": [
    "* สิ่งที่เห็นได้ชัดคือ Hungarian Method จะใช้เวลาในการ Implement และจำนวนบรรทัดในการโค้ดเยอะกว่า Brute Force แบบธรรมดามาก ในขณะที่ Brute Force Algorithm ใช้เวลาในการ Implement ไม่เกิน 10 นาที\n",
    "* สังเกตได้ว่า Hungarian กับ Brute Force มีเวลาในการรันใกล้เคียงกัน ใน Input Size ขนาดเมทริกซ์ 4x4\n",
    "* แต่ถ้าหากพิจารณาจำนวนข้อมูลที่รับเข้ามา ถ้าหากในอนาคตมี Input Size ที่มากขึ้น การทำ Hungarian Method ก็ถือเป็นเรื่องที่ดี เพราะอาจเร็วกว่า Brute Force แต่ในกรณีนี้ เรามี Input Size เพียงเมทริกซ์ 4x4 ฉะนั้น Brute Force ธรรมดาก็ถือว่าเร็ว และได้เปรียบกว่าการเสียเวลาในการ Implement Hungarian ที่นานเช่นกัน"
   ]
  },
  {
   "cell_type": "markdown",
   "metadata": {},
   "source": [
    "---"
   ]
  },
  {
   "cell_type": "markdown",
   "metadata": {},
   "source": [
    "### เป็นคนไม่เอาถ่านบ้านมีเตาแก๊ส\n",
    "<p style=\"color: greenyellow;\">ศวิษฐ์ โกสียอัมพร 65070506026</p>\n",
    "<p style=\"color: orange\">ธวัลรัตน์ โรจน์อมรรัตน์ 65070506037</p>\n",
    "<p style=\"color: hotpink;\">ปุญชญา จันทร์เจริญ</p>"
   ]
  }
 ],
 "metadata": {
  "kernelspec": {
   "display_name": "Python 3",
   "language": "python",
   "name": "python3"
  },
  "language_info": {
   "codemirror_mode": {
    "name": "ipython",
    "version": 3
   },
   "file_extension": ".py",
   "mimetype": "text/x-python",
   "name": "python",
   "nbconvert_exporter": "python",
   "pygments_lexer": "ipython3",
   "version": "3.11.4"
  }
 },
 "nbformat": 4,
 "nbformat_minor": 2
}
