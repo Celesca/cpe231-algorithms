{
 "cells": [
  {
   "cell_type": "markdown",
   "metadata": {},
   "source": [
    "#### Brute-Force คือ การแก้ปัญหาแบบที่ง่ายที่สุดแต่โดยรวมแล้วมีประสิทธิภาพต่ำ มักใช้ในกรณีที่เราคิดอัลกอริทึมอื่นยังไม่ออก ซึ่งมีหลักการแก้ปัญหาโดยการสั่งให้ทำงานวนไปเรื่อย ๆ จนกว่าจะได้คำตอบ (เป็นการเช็คทุกตัว n ตัว) แต่ไม่เหมาะกับกับข้อมูลที่มีจำนวนมากเพราะจะใช้เวลานาน โดยปัญหาที่สามารถแก้ไขได้ด้วย Brute-Force ได้แก่\n",
    "1. Bubble Sort คือ จะทำการเปรียบเทียบข้อมูลที่อยู่ติดกันและจะทำการสลับตัวที่น้อยกว่าว่าไว้ด้านหน้า ทำซ้ำจนกว่าทุกตัวจะครบ\n",
    "2. Selection Sort คือ จะทำการเลือกค่าที่น้อยที่สุดในแต่ละรอบ และดึงออกมาเก็บเรียงไว้\n",
    "3. String matching คือ การนำคำที่ต้องการหา ไปหาใน String อีกตัวหนึ่ง\n",
    "4. Closest-pair คือ การหาระยะทางที่สั้นที่สุดระหว่างคู่จุด โดยยังสามารถหาได้จากการใช้ Euclidean นั่นคือ sqrt ของ \n",
    "   ((x[i]-x[j])**2) + ((y[i]-y[j]**2)) ซึ่งต้องยกกำลัง 2 เนื่องจากจุดแต่ละจุดอยู่กันคนละระนาบ\n",
    "5. Convex-Hull Problem คือ รูปนูนหลายเหลี่ยมที่เล็กที่สุดที่ถูก enclose สำหรับ set S of n points ซึ่งแบ่วออกเป็น\n",
    "   - 5.1 Convex hull คือรูปที่มีมุมป้านทุกมุม\n",
    "   - 5.2 Concave hull คือรูปมีได้ทั้งมุมป้านและมุมแหลมในทุกมุม\n",
    "\n",
    "#### Exhaustive Search คือ การค้นหาแบบทั้งหมด โดยสามารถหา solution ได้ 3 steps ได้แก่\n",
    "1. Generate ทุก ๆ element ของปัญหา\n",
    "2. เลือกสิ่งที่เราต้องการ ต่อ constraints หรือตัวแปรทั้งหมด\n",
    "3. หาวิธีการแก้ปัญหาที่เหมาะสม\n",
    "\n",
    "#### ตัวอย่างปัญหาที่ใช้ Brute-Force\n",
    "1. Traveling Salesman Problems : ปัญหาการเดินไปให้ครบทุกเมือง โดยห้ามเดินซ้ำและระยะทางสั้นที่สุด สามารถหาจาก Halmiltonian circuit ที่มี length ที่สั้นที่สุดได้ (ไม่เหมือนกับ minimum Spanning Tree เพราะมีการวนกลับมาที่จุดเริ่มต้น)\n",
    "2. Knapsack Problems : ปัญหาการเลือกตัวเลือกในเงื่อนไขที่จำกัด เพื่อให้ได้ค่าที่เราต้องการให้คุ้มค่าที่สุด\n",
    "   - 2.1 Generate subset ทั้งหมดที่เป็นไปได้ของ item\n",
    "   - 2.2 คำนวณน้ำหนักทั้งหมดของ subset ใน knapsack\n",
    "   - 2.3 หา Subset ที่มี Value มากที่สุด\n",
    "3. Assignment Problems : ปัญหาการมอบหมายงานที่ว่า How to put the right man on the right job คือต้องการให้เกิดการจัดงานที่ดีที่สุด  \n",
    "   โดยอาจทำให้เกิดต้นทุนในการดำเนินการที่ต่ำที่สุด หรือทำให้เวลาในการทำงานโดยรวมน้อยที่สุด\n",
    "\n",
    "#### สรุป Brute-Force และ Exhaustive search เหมาะกับการใช้งานตอนไหน\n",
    "1. Brute Force สามารถใช้ได้กับปัญหาที่หลากหลาย โดยง่ายต่อการออกแบบและบางครั้งเป็นเพียงวิธีเดียวที่จะสามารถใช้แก้ปัญหาที่ยากได้\n",
    "2. โจทย์ที่ไม่คุ้มค่ากับเวลาในการที่จะนำมาออกแบบ Efficient algorithm (อัลกอริทึมที่มีประสิทธิภาพที่สุดสำหรับปัญหานั้น) โดยสามารถแก้ปัญหาได้เพียงไม่กี่ปัญหาและมีข้อจำกัดในเรื่องของเวลา\n",
    "   เนื่องจากบางปัญหาอาจใช้เวลาในการ solve นานเกินไป\n",
    "3. เหมาะกับปัญหาเล็ก ๆ ที่มี n ไม่มาก ซึ่งเป็นวิธีที่ได้รับการยอมรับว่ามีประสิทธิภาพ\n",
    "4. เอาไว้ใช้เป็น Benchmark ให้กับ Efficient algorithm อื่น กล่าวคือ เอาไว้เป็นมาตรฐานที่เอาไว้วัดว่าอัลกอริทึมที่เราคิดขึ้นมาดีหรือไม่จากการเทียบว่าเร็วกว่า Time Complexity ที่ Brute-Force ใช้หรือไม่"
   ]
  },
  {
   "cell_type": "markdown",
   "metadata": {},
   "source": [
    "### Bubble Sort Algorithm"
   ]
  },
  {
   "cell_type": "code",
   "execution_count": 3,
   "metadata": {},
   "outputs": [],
   "source": [
    "def BubbleSort(receive_list):\n",
    "    my_list = receive_list\n",
    "    n = len(my_list)\n",
    "    for i in range(n-1):\n",
    "        for j in range(0, n-i-1):\n",
    "            if my_list[j] > my_list[j+1]:\n",
    "                my_list[j], my_list[j+1] = my_list[j+1], my_list[j]\n",
    "\n",
    "    return my_list"
   ]
  },
  {
   "cell_type": "code",
   "execution_count": 4,
   "metadata": {},
   "outputs": [
    {
     "name": "stdout",
     "output_type": "stream",
     "text": [
      "Sort my_list: [9, 12, 15, 19, 21]\n"
     ]
    }
   ],
   "source": [
    "#Test case 1 - Bubble Sort\n",
    "new_list = [12, 15, 9, 21, 19]\n",
    "sorted_list = BubbleSort(new_list)\n",
    "print('Sort my_list:', sorted_list)"
   ]
  },
  {
   "cell_type": "code",
   "execution_count": 5,
   "metadata": {},
   "outputs": [
    {
     "name": "stdout",
     "output_type": "stream",
     "text": [
      "Sort test_list: [1, 2, 3, 4, 7, 8, 9, 12, 13, 19, 25, 35]\n"
     ]
    }
   ],
   "source": [
    "#Test case 2 - Bubble Sort\n",
    "test_list = [35,25,19,4,13,8,9,12,7,1,3,2]\n",
    "sorted_list = BubbleSort(test_list)\n",
    "print('Sort test_list:', sorted_list)\n"
   ]
  },
  {
   "cell_type": "markdown",
   "metadata": {},
   "source": [
    "### Selection Sort Algorithm"
   ]
  },
  {
   "cell_type": "code",
   "execution_count": 10,
   "metadata": {},
   "outputs": [],
   "source": [
    "def SelectionSort(receive_list):\n",
    "    my_list = receive_list\n",
    "    n = len(my_list)\n",
    "    for i in range(n-1):\n",
    "        min_number = i\n",
    "        for j in range(i+1, n):\n",
    "            if my_list[j] < my_list[min_number]:\n",
    "                min_number = j\n",
    "        my_list[i], my_list[min_number] = my_list[min_number], my_list[i]\n",
    "\n",
    "    return my_list"
   ]
  },
  {
   "cell_type": "code",
   "execution_count": 11,
   "metadata": {},
   "outputs": [
    {
     "name": "stdout",
     "output_type": "stream",
     "text": [
      "Sort my_list: [9, 12, 15, 19, 21]\n"
     ]
    }
   ],
   "source": [
    "#Test case 1 - Selection Sort\n",
    "new_list = [12, 15, 9, 21, 19]\n",
    "sorted_list = SelectionSort(new_list)\n",
    "print('Sort my_list:', sorted_list)"
   ]
  },
  {
   "cell_type": "code",
   "execution_count": 12,
   "metadata": {},
   "outputs": [
    {
     "name": "stdout",
     "output_type": "stream",
     "text": [
      "Sort my_list: [1, 2, 3, 4, 5, 6, 7, 8, 9, 10, 11, 12, 13, 14, 15, 25, 35, 147, 999]\n"
     ]
    }
   ],
   "source": [
    "#Test case 2 - Selection Sort\n",
    "new_list = [999,25,35,147,2,1,3,4,5,6,7,8,9,10,11,12,13,14,15]\n",
    "sorted_list = SelectionSort(new_list)\n",
    "print('Sort my_list:', sorted_list)"
   ]
  },
  {
   "cell_type": "markdown",
   "metadata": {},
   "source": [
    "### String Matching (Brute-Force Algorithm)"
   ]
  },
  {
   "cell_type": "code",
   "execution_count": 13,
   "metadata": {},
   "outputs": [],
   "source": [
    "def brute_stringmatch(T,P):\n",
    "    n = len(T)\n",
    "    m = len(P)\n",
    "    for i in range(0,n-m):\n",
    "        j = 0\n",
    "        while (j < m) and P[j] == T[i+j]:\n",
    "            j += 1\n",
    "        if j == m:\n",
    "            return i\n",
    "    return -1"
   ]
  },
  {
   "cell_type": "code",
   "execution_count": 14,
   "metadata": {},
   "outputs": [
    {
     "name": "stdout",
     "output_type": "stream",
     "text": [
      "String match index: 5\n"
     ]
    }
   ],
   "source": [
    "#Test Case 1 - String Matching\n",
    "T = \"abracadabra\"\n",
    "P = \"ada\"\n",
    "print(\"String match index:\",brute_stringmatch(T,P))"
   ]
  },
  {
   "cell_type": "code",
   "execution_count": 15,
   "metadata": {},
   "outputs": [
    {
     "name": "stdout",
     "output_type": "stream",
     "text": [
      "String match index: -1\n"
     ]
    }
   ],
   "source": [
    "#Test Case 2 - String Matching\n",
    "T = \"welcome to the jungle\"\n",
    "P = \"minecraft\"\n",
    "print(\"String match index:\",brute_stringmatch(T,P))"
   ]
  },
  {
   "cell_type": "markdown",
   "metadata": {},
   "source": [
    "### Brute Force Closet Pair Algorithm"
   ]
  },
  {
   "cell_type": "code",
   "execution_count": 46,
   "metadata": {},
   "outputs": [],
   "source": [
    "import math\n",
    "def BruteForceClosetPair(x,y):\n",
    "    n = len(x)\n",
    "    d = math.inf\n",
    "    for i in range(n):\n",
    "        for j in range(i+1,n):\n",
    "            d = min(d, math.sqrt(((x[i]-x[j])**2) + ((y[i]-y[j])**2)))\n",
    "    return d"
   ]
  },
  {
   "cell_type": "code",
   "execution_count": 47,
   "metadata": {},
   "outputs": [
    {
     "name": "stdout",
     "output_type": "stream",
     "text": [
      "Distance: 1.4142135623730951\n"
     ]
    }
   ],
   "source": [
    "#Test case 1 - Closet Pair\n",
    "x = [1,2,3]\n",
    "y = [4,5,6]\n",
    "print(\"Distance:\",BruteForceClosetPair(x,y))"
   ]
  },
  {
   "cell_type": "code",
   "execution_count": 48,
   "metadata": {},
   "outputs": [
    {
     "name": "stdout",
     "output_type": "stream",
     "text": [
      "Distance: 1.0\n"
     ]
    }
   ],
   "source": [
    "#Test case 2 - Closet Pair\n",
    "x = [1,1,1,2,2,2,3,3,3]\n",
    "y = [1,2,3,1,2,3,1,2,3]\n",
    "\n",
    "print(\"Distance:\",BruteForceClosetPair(x,y))"
   ]
  },
  {
   "cell_type": "markdown",
   "metadata": {},
   "source": [
    "### Convex-Hull Problem"
   ]
  },
  {
   "cell_type": "code",
   "execution_count": null,
   "metadata": {},
   "outputs": [],
   "source": []
  },
  {
   "cell_type": "markdown",
   "metadata": {},
   "source": [
    "### Minimum Total Cost (The Assigment Problem)"
   ]
  },
  {
   "cell_type": "markdown",
   "metadata": {},
   "source": []
  },
  {
   "cell_type": "code",
   "execution_count": 24,
   "metadata": {},
   "outputs": [
    {
     "name": "stdout",
     "output_type": "stream",
     "text": [
      "<9 + 4 + 1 + 4> = 18\n",
      "<9 + 4 + 9 + 8> = 30\n",
      "<9 + 8 + 3 + 4> = 24\n",
      "<9 + 8 + 9 + 7> = 33\n",
      "<9 + 6 + 3 + 8> = 26\n",
      "<9 + 6 + 1 + 7> = 23\n",
      "<6 + 2 + 1 + 4> = 13\n",
      "<6 + 2 + 9 + 8> = 25\n",
      "<6 + 8 + 7 + 4> = 25\n",
      "<6 + 8 + 9 + 8> = 31\n",
      "<6 + 6 + 7 + 8> = 27\n",
      "<6 + 6 + 1 + 8> = 21\n",
      "<5 + 2 + 3 + 4> = 14\n",
      "<5 + 2 + 9 + 7> = 23\n",
      "<5 + 4 + 7 + 4> = 20\n",
      "<5 + 4 + 9 + 8> = 26\n",
      "<5 + 6 + 7 + 7> = 25\n",
      "<5 + 6 + 3 + 8> = 22\n",
      "<7 + 2 + 3 + 8> = 20\n",
      "<7 + 2 + 1 + 7> = 17\n",
      "<7 + 4 + 7 + 8> = 26\n",
      "<7 + 4 + 1 + 8> = 20\n",
      "<7 + 8 + 7 + 7> = 29\n",
      "<7 + 8 + 3 + 8> = 26\n",
      "0.0009982585906982422\n",
      "The minimum of hours spent in best solution is 13 hours\n",
      "Task 0 : Design algorithm - Janasporn\n",
      "Task 1 : Write/debug code - Kanokwan\n",
      "Task 2 : Analyze complexity - Napat\n",
      "Task 3 : Do report & presentation - Thanaporn\n"
     ]
    }
   ],
   "source": [
    "from itertools import permutations\n",
    "import time\n",
    "\n",
    "persons = [\"Kanokwan\", \"Janasporn\" , \"Napat\", \"Thanaporn\"]\n",
    "tasks = [\"Design algorithm\", \"Write/debug code\", \"Analyze complexity\", \"Do report & presentation\"]\n",
    "\n",
    "cost_matrix = [\n",
    "    [9, 2, 7, 8],\n",
    "    [6, 4, 3, 7],\n",
    "    [5, 8, 1, 8],\n",
    "    [7, 6, 9, 4]\n",
    "]\n",
    "\n",
    "start = time.time()\n",
    "\n",
    "indexes = list(permutations([0, 1, 2, 3]))\n",
    "\n",
    "total_list = []\n",
    "solution_list = []\n",
    "\n",
    "for times in indexes:\n",
    "    total = 0\n",
    "\n",
    "    solution = []\n",
    "\n",
    "    print(\"<\", end=\"\")\n",
    "    for number in range(len(times)):\n",
    "        if number < 3:\n",
    "            print(cost_matrix[times[number]][number], end=\" + \")\n",
    "        else:\n",
    "            print(cost_matrix[times[number]][number], end=\"\")\n",
    "        total += cost_matrix[times[number]][number]\n",
    "\n",
    "        solution.append(times[number])\n",
    "        \n",
    "    print(\"> =\", total)\n",
    "    total_list.append(total)\n",
    "    solution_list.append(solution)\n",
    "\n",
    "end = time.time()\n",
    "\n",
    "print(end-start)\n",
    "\n",
    "print(\"The minimum of hours spent in best solution is\", min(total_list), \"hours\")\n",
    "\n",
    "min_index = total_list.index(min(total_list))\n",
    "task_list = solution_list[min_index] \n",
    "\n",
    "for task_number, i in enumerate(task_list):\n",
    "    print(\"Task\", task_number, \":\" , tasks[task_number] , \"-\" , persons[i] )"
   ]
  },
  {
   "cell_type": "markdown",
   "metadata": {},
   "source": [
    "#### The assignment problem - Hungarian Method"
   ]
  },
  {
   "cell_type": "markdown",
   "metadata": {},
   "source": [
    "Ref 1 : https://www.youtube.com/watch?v=m23AgUeAJZY\n",
    "Ref 2 : https://testbook.com/maths/hungarian-method#:~:text=The%20Hungarian%20method%2C%20also%20known,by%20Harold%20Kuhn%20in%201955.\n",
    "Ref 3 : https://python.plainenglish.io/hungarian-algorithm-introduction-python-implementation-93e7c0890e15"
   ]
  },
  {
   "cell_type": "code",
   "execution_count": 5,
   "metadata": {},
   "outputs": [],
   "source": [
    "# The assignment problem - Hungarian Method\n",
    "import numpy as np # Import for visualization\n",
    "import time \n",
    "\n",
    "def hungarian_method(matrix):\n",
    "\n",
    "    cost_matrix = np.array(matrix)\n",
    "    # Step 1 : Find the lowest element for each row\n",
    "    # Subtract that element from each element in the row\n",
    "\n",
    "    for row in cost_matrix:\n",
    "        lowest = min(row)\n",
    "        for index, element in enumerate(row):\n",
    "            row[index] = element - lowest\n",
    "\n",
    "    print(\"Step 1 - Cost Matrix :\")\n",
    "    print(cost_matrix)\n",
    "\n",
    "    # Step 2 : Find the lowest element for each column\n",
    "    # Subtract that element from each element in the column\n",
    "            \n",
    "    for column in range(len(cost_matrix)):\n",
    "\n",
    "        # Find the lowest for that column\n",
    "        lowest = cost_matrix[0][column]\n",
    "\n",
    "        for row in range(len(cost_matrix)):\n",
    "            if cost_matrix[row][column] < lowest:\n",
    "                lowest = cost_matrix[row][column]\n",
    "\n",
    "        for row in range(len(cost_matrix)):\n",
    "            cost_matrix[row][column] -= lowest\n",
    "\n",
    "\n",
    "    print(\"Step 2 - Cost Matrix :\")\n",
    "    print(cost_matrix)\n",
    "\n",
    "    # Step 3: Draw lines through the rows and columns that have zeros\n",
    "    ''' Examine the rows successively until a row with exactly one unmarked zero is found.\n",
    "        mark this zero with a circle as an assignment will be made there and cross all other zeros in the column.\n",
    "    '''\n",
    "\n",
    "    # Step 3: Examine the rows successively until a row with exactly one unmarked zero is found\n",
    "    # Mark this zero with a circle as an assignment will be made there and cross all other zeros in the column\n",
    "\n",
    "    # Create a mark_matrix to mark the circle in zeros\n",
    "    mark_matrix = []\n",
    "    for row in range(len(cost_matrix)):\n",
    "        row = []\n",
    "        for column in range(len(cost_matrix[0])):\n",
    "            row.append(0)\n",
    "        mark_matrix.append(row)\n",
    "\n",
    "    # Iterate through each row\n",
    "    for row in range(len(cost_matrix)):\n",
    "        zero_count = 0\n",
    "        zero_column = -1\n",
    "\n",
    "        # Count the number of unmarked zeros in the row\n",
    "        for column in range(len(cost_matrix[0])):\n",
    "            if cost_matrix[row][column] == 0 and mark_matrix[row][column] == 0:\n",
    "                zero_count += 1\n",
    "                zero_column = column\n",
    "\n",
    "        # If there is exactly one unmarked zero in the row, mark it with a circle\n",
    "        if zero_count == 1:\n",
    "            mark_matrix[row][zero_column] = 1\n",
    "\n",
    "            # Cross all other zeros in the column\n",
    "            for r in range(len(cost_matrix)):\n",
    "                if r != row and cost_matrix[r][zero_column] == 0:\n",
    "                    mark_matrix[r][zero_column] = -1\n",
    "\n",
    "    '''\n",
    "    อธิบายเพิ่มเติม Mark Matrix เอาไว้ตรวจสอบว่าเราเลือก 0 ตัวไหนและตัด 0 ตัวไหนออกไป\n",
    "                0  : ไม่มีการเลือก\n",
    "                1  : เลือก 0 ที่ช่องนี้\n",
    "                -1 : ตัด 0 ที่ช่องนี้ออกไป\n",
    "    '''\n",
    "\n",
    "    # Step 4: Examine the columns successively until a column with exactly one unmarked zero is found\n",
    "    # Mark this zero with a circle as an assignment will be made there and cross all other zeros in this row\n",
    "\n",
    "        # Iterate through each column\n",
    "    for column in range(len(cost_matrix[0])):\n",
    "        zero_count = 0\n",
    "        zero_row = -1\n",
    "\n",
    "            # Count the number of unmarked zeros in the column\n",
    "        for row in range(len(cost_matrix)):\n",
    "            if cost_matrix[row][column] == 0 and mark_matrix[row][column] == 0:\n",
    "                zero_count += 1\n",
    "                zero_row = row\n",
    "\n",
    "        # If there is exactly one unmarked zero in the column, mark it with a circle\n",
    "        if zero_count == 1:\n",
    "            mark_matrix[zero_row][column] = 1\n",
    "\n",
    "            # Cross all other zeros in this row\n",
    "            for c in range(len(cost_matrix[0])):\n",
    "                if c != column and cost_matrix[zero_row][c] == 0:\n",
    "                    mark_matrix[zero_row][c] = -1\n",
    "\n",
    "    # Print the updated mark_matrix\n",
    "    print(\"Updated Mark Matrix:\")\n",
    "    for row in mark_matrix:\n",
    "        print(row)\n",
    "\n",
    "    # Step 5 : Check if some row does not have an assignment or marked zero in it\n",
    "    # The optimal solution has not yet been reached.\n",
    "        \n",
    "    optimal_solution = True\n",
    "    # Iterate through each row\n",
    "    for row in range(len(cost_matrix)):\n",
    "        zero_count = 0\n",
    "\n",
    "        # Count the number of marked zeros in the row\n",
    "        for column in range(len(cost_matrix[0])):\n",
    "            if mark_matrix[row][column] == 1:\n",
    "                zero_count += 1\n",
    "        else:\n",
    "            if zero_count == 0:\n",
    "                optimal_solution = False\n",
    "                break\n",
    "\n",
    "    # Step 6 : If the optimal solution has not been reached, go to step 3\n",
    "    # Draw minimum number of horizontal and vertical lines to cover zeros of the matrix        \n",
    "    # if not optimal_solution:\n",
    "\n",
    "\n",
    "    optimal_matrix = []\n",
    "    for row in range(len(cost_matrix)):\n",
    "        row = []\n",
    "        for column in range(len(cost_matrix[0])):\n",
    "            row.append(0)\n",
    "        optimal_matrix.append(row)\n",
    "\n",
    "\n",
    "    # Step 7: Find the rows and columns with the most zeros\n",
    "    row_zeros = []\n",
    "    col_zeros = []\n",
    "\n",
    "    # Count the number of zeros in each row\n",
    "    for row in range(len(cost_matrix)):\n",
    "        zero_count = 0\n",
    "        for column in range(len(cost_matrix[0])):\n",
    "            if cost_matrix[row][column] == 0:\n",
    "                zero_count += 1\n",
    "        row_zeros.append(zero_count)\n",
    "\n",
    "    # Count the number of zeros in each column\n",
    "    for column in range(len(cost_matrix[0])):\n",
    "        zero_count = 0\n",
    "        for row in range(len(cost_matrix)):\n",
    "            if cost_matrix[row][column] == 0:\n",
    "                zero_count += 1\n",
    "        col_zeros.append(zero_count)\n",
    "\n",
    "    # print(row_zeros)\n",
    "    # # Find the row with the most zeros\n",
    "    # max_row_zeros = max(row_zeros)\n",
    "    # max_row_index = row_zeros.index(max_row_zeros)\n",
    "\n",
    "    # # Find the column with the most zeros\n",
    "    # max_col_zeros = max(col_zeros)\n",
    "    # max_col_index = col_zeros.index(max_col_zeros)\n",
    "\n",
    "    # print(\"Row with the most zeros:\", max_row_index)\n",
    "    # print(\"Column with the most zeros:\", max_col_index)\n",
    "\n",
    "    \n",
    "    "
   ]
  },
  {
   "cell_type": "code",
   "execution_count": 6,
   "metadata": {},
   "outputs": [
    {
     "name": "stdout",
     "output_type": "stream",
     "text": [
      "Step 1 - Cost Matrix :\n",
      "[[7 0 5 6]\n",
      " [3 1 0 4]\n",
      " [4 7 0 7]\n",
      " [3 2 5 0]]\n",
      "Step 2 - Cost Matrix :\n",
      "[[4 0 5 6]\n",
      " [0 1 0 4]\n",
      " [1 7 0 7]\n",
      " [0 2 5 0]]\n",
      "Updated Mark Matrix:\n",
      "[0, 1, 0, 0]\n",
      "[0, 0, -1, 0]\n",
      "[0, 0, 1, 0]\n",
      "[-1, 0, 0, 1]\n",
      "0.0\n"
     ]
    }
   ],
   "source": [
    "new_cost_matrix = [\n",
    "    [9, 2, 7, 8],\n",
    "    [6, 4, 3, 7],\n",
    "    [5, 8, 1, 8],\n",
    "    [7, 6, 9, 4]\n",
    "]\n",
    "\n",
    "start = time.time()\n",
    "hungarian_method(new_cost_matrix)\n",
    "end = time.time()\n",
    "\n",
    "print(end-start)"
   ]
  },
  {
   "cell_type": "code",
   "execution_count": 7,
   "metadata": {},
   "outputs": [
    {
     "name": "stdout",
     "output_type": "stream",
     "text": [
      "Linear Assignment problem result: 13\n",
      "[[0. 2. 0. 0.]\n",
      " [6. 0. 0. 0.]\n",
      " [0. 0. 1. 0.]\n",
      " [0. 0. 0. 4.]]\n"
     ]
    }
   ],
   "source": [
    "import numpy as np\n",
    "\n",
    "def min_zero_row(zero_mat, mark_zero):\n",
    "\t\n",
    "\t'''\n",
    "\tThe function can be splitted into two steps:\n",
    "\t#1 The function is used to find the row which containing the fewest 0.\n",
    "\t#2 Select the zero number on the row, and then marked the element corresponding row and column as False\n",
    "\t'''\n",
    "\n",
    "\t#Find the row\n",
    "\tmin_row = [99999, -1]\n",
    "\n",
    "\tfor row_num in range(zero_mat.shape[0]): \n",
    "\t\tif np.sum(zero_mat[row_num] == True) > 0 and min_row[0] > np.sum(zero_mat[row_num] == True):\n",
    "\t\t\tmin_row = [np.sum(zero_mat[row_num] == True), row_num]\n",
    "\n",
    "\t# Marked the specific row and column as False\n",
    "\tzero_index = np.where(zero_mat[min_row[1]] == True)[0][0]\n",
    "\tmark_zero.append((min_row[1], zero_index))\n",
    "\tzero_mat[min_row[1], :] = False\n",
    "\tzero_mat[:, zero_index] = False\n",
    "\n",
    "def mark_matrix(mat):\n",
    "\n",
    "\t'''\n",
    "\tFinding the returning possible solutions for LAP problem.\n",
    "\t'''\n",
    "\n",
    "\t#Transform the matrix to boolean matrix(0 = True, others = False)\n",
    "\tcur_mat = mat\n",
    "\tzero_bool_mat = (cur_mat == 0)\n",
    "\tzero_bool_mat_copy = zero_bool_mat.copy()\n",
    "\n",
    "\t#Recording possible answer positions by marked_zero\n",
    "\tmarked_zero = []\n",
    "\twhile (True in zero_bool_mat_copy):\n",
    "\t\tmin_zero_row(zero_bool_mat_copy, marked_zero)\n",
    "\t\n",
    "\t#Recording the row and column positions seperately.\n",
    "\tmarked_zero_row = []\n",
    "\tmarked_zero_col = []\n",
    "\tfor i in range(len(marked_zero)):\n",
    "\t\tmarked_zero_row.append(marked_zero[i][0])\n",
    "\t\tmarked_zero_col.append(marked_zero[i][1])\n",
    "\n",
    "\t#Step 2-2-1\n",
    "\tnon_marked_row = list(set(range(cur_mat.shape[0])) - set(marked_zero_row))\n",
    "\t\n",
    "\tmarked_cols = []\n",
    "\tcheck_switch = True\n",
    "\twhile check_switch:\n",
    "\t\tcheck_switch = False\n",
    "\t\tfor i in range(len(non_marked_row)):\n",
    "\t\t\trow_array = zero_bool_mat[non_marked_row[i], :]\n",
    "\t\t\tfor j in range(row_array.shape[0]):\n",
    "\t\t\t\t#Step 2-2-2\n",
    "\t\t\t\tif row_array[j] == True and j not in marked_cols:\n",
    "\t\t\t\t\t#Step 2-2-3\n",
    "\t\t\t\t\tmarked_cols.append(j)\n",
    "\t\t\t\t\tcheck_switch = True\n",
    "\n",
    "\t\tfor row_num, col_num in marked_zero:\n",
    "\t\t\t#Step 2-2-4\n",
    "\t\t\tif row_num not in non_marked_row and col_num in marked_cols:\n",
    "\t\t\t\t#Step 2-2-5\n",
    "\t\t\t\tnon_marked_row.append(row_num)\n",
    "\t\t\t\tcheck_switch = True\n",
    "\t#Step 2-2-6\n",
    "\tmarked_rows = list(set(range(mat.shape[0])) - set(non_marked_row))\n",
    "\n",
    "\treturn(marked_zero, marked_rows, marked_cols)\n",
    "\n",
    "def adjust_matrix(mat, cover_rows, cover_cols):\n",
    "\tcur_mat = mat\n",
    "\tnon_zero_element = []\n",
    "\n",
    "\t#Step 4-1\n",
    "\tfor row in range(len(cur_mat)):\n",
    "\t\tif row not in cover_rows:\n",
    "\t\t\tfor i in range(len(cur_mat[row])):\n",
    "\t\t\t\tif i not in cover_cols:\n",
    "\t\t\t\t\tnon_zero_element.append(cur_mat[row][i])\n",
    "\tmin_num = min(non_zero_element)\n",
    "\n",
    "\t#Step 4-2\n",
    "\tfor row in range(len(cur_mat)):\n",
    "\t\tif row not in cover_rows:\n",
    "\t\t\tfor i in range(len(cur_mat[row])):\n",
    "\t\t\t\tif i not in cover_cols:\n",
    "\t\t\t\t\tcur_mat[row, i] = cur_mat[row, i] - min_num\n",
    "\t#Step 4-3\n",
    "\tfor row in range(len(cover_rows)):  \n",
    "\t\tfor col in range(len(cover_cols)):\n",
    "\t\t\tcur_mat[cover_rows[row], cover_cols[col]] = cur_mat[cover_rows[row], cover_cols[col]] + min_num\n",
    "\treturn cur_mat\n",
    "\n",
    "def hungarian_algorithm(mat): \n",
    "\tdim = mat.shape[0]\n",
    "\tcur_mat = mat\n",
    "\n",
    "\t#Step 1 - Every column and every row subtract its internal minimum\n",
    "\tfor row_num in range(mat.shape[0]): \n",
    "\t\tcur_mat[row_num] = cur_mat[row_num] - np.min(cur_mat[row_num])\n",
    "\t\n",
    "\tfor col_num in range(mat.shape[1]): \n",
    "\t\tcur_mat[:,col_num] = cur_mat[:,col_num] - np.min(cur_mat[:,col_num])\n",
    "\tzero_count = 0\n",
    "\twhile zero_count < dim:\n",
    "\t\t#Step 2 & 3\n",
    "\t\tans_pos, marked_rows, marked_cols = mark_matrix(cur_mat)\n",
    "\t\tzero_count = len(marked_rows) + len(marked_cols)\n",
    "\n",
    "\t\tif zero_count < dim:\n",
    "\t\t\tcur_mat = adjust_matrix(cur_mat, marked_rows, marked_cols)\n",
    "\n",
    "\treturn ans_pos\n",
    "\n",
    "def ans_calculation(mat, pos):\n",
    "\ttotal = 0\n",
    "\tans_mat = np.zeros((mat.shape[0], mat.shape[1]))\n",
    "\tfor i in range(len(pos)):\n",
    "\t\ttotal += mat[pos[i][0], pos[i][1]]\n",
    "\t\tans_mat[pos[i][0], pos[i][1]] = mat[pos[i][0], pos[i][1]]\n",
    "\treturn total, ans_mat\n",
    "\n",
    "def main():\n",
    "\n",
    "\t'''Hungarian Algorithm: \n",
    "\tFinding the minimum value in linear assignment problem.\n",
    "\tTherefore, we can find the minimum value set in net matrix \n",
    "\tby using Hungarian Algorithm. In other words, the maximum value\n",
    "\tand elements set in cost matrix are available.'''\n",
    "\n",
    "\t#The matrix who you want to find the minimum sum\n",
    "\tcost_matrix = np.array([\n",
    "    [9, 2, 7, 8],\n",
    "    [6, 4, 3, 7],\n",
    "    [5, 8, 1, 8],\n",
    "    [7, 6, 9, 4]\n",
    "])\n",
    "\t\n",
    "\tans_pos = hungarian_algorithm(cost_matrix.copy())#Get the element position.\n",
    "\tans, ans_mat = ans_calculation(cost_matrix, ans_pos) #Get the minimum or maximum value and corresponding matrix.\n",
    "\n",
    "\t#Show the result\n",
    "\tprint(f\"Linear Assignment problem result: {ans:.0f}\\n{ans_mat}\")\n",
    "\n",
    "if __name__ == '__main__':\n",
    "\tmain()"
   ]
  },
  {
   "cell_type": "code",
   "execution_count": null,
   "metadata": {},
   "outputs": [],
   "source": []
  }
 ],
 "metadata": {
  "kernelspec": {
   "display_name": "Python 3",
   "language": "python",
   "name": "python3"
  },
  "language_info": {
   "codemirror_mode": {
    "name": "ipython",
    "version": 3
   },
   "file_extension": ".py",
   "mimetype": "text/x-python",
   "name": "python",
   "nbconvert_exporter": "python",
   "pygments_lexer": "ipython3",
   "version": "3.11.4"
  }
 },
 "nbformat": 4,
 "nbformat_minor": 2
}
