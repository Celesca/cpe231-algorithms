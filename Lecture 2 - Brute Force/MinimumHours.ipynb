{
 "cells": [
  {
   "cell_type": "code",
   "execution_count": 42,
   "metadata": {},
   "outputs": [
    {
     "name": "stdout",
     "output_type": "stream",
     "text": [
      "<9 + 4 + 1 + 4> = 18\n",
      "<9 + 4 + 9 + 8> = 30\n",
      "<9 + 8 + 3 + 4> = 24\n",
      "<9 + 8 + 9 + 7> = 33\n",
      "<9 + 6 + 3 + 8> = 26\n",
      "<9 + 6 + 1 + 7> = 23\n",
      "<6 + 2 + 1 + 4> = 13\n",
      "<6 + 2 + 9 + 8> = 25\n",
      "<6 + 8 + 7 + 4> = 25\n",
      "<6 + 8 + 9 + 8> = 31\n",
      "<6 + 6 + 7 + 8> = 27\n",
      "<6 + 6 + 1 + 8> = 21\n",
      "<5 + 2 + 3 + 4> = 14\n",
      "<5 + 2 + 9 + 7> = 23\n",
      "<5 + 4 + 7 + 4> = 20\n",
      "<5 + 4 + 9 + 8> = 26\n",
      "<5 + 6 + 7 + 7> = 25\n",
      "<5 + 6 + 3 + 8> = 22\n",
      "<7 + 2 + 3 + 8> = 20\n",
      "<7 + 2 + 1 + 7> = 17\n",
      "<7 + 4 + 7 + 8> = 26\n",
      "<7 + 4 + 1 + 8> = 20\n",
      "<7 + 8 + 7 + 7> = 29\n",
      "<7 + 8 + 3 + 8> = 26\n",
      "The minimum of hours spent by each group is 13 hours\n"
     ]
    }
   ],
   "source": [
    "from itertools import permutations\n",
    "\n",
    "\n",
    "\n",
    "table = [\n",
    "    [9, 2, 7, 8],\n",
    "    [6, 4, 3, 7],\n",
    "    [5, 8, 1, 8],\n",
    "    [7, 6, 9, 4]\n",
    "]\n",
    "\n",
    "indexes = list(permutations([0, 1, 2, 3]))\n",
    "\n",
    "total_list = []\n",
    "for times in indexes:\n",
    "    total = 0\n",
    "\n",
    "    print(\"<\", end=\"\")\n",
    "    for number in range(len(times)):\n",
    "        if number < 3:\n",
    "            print(table[times[number]][number], end=\" + \")\n",
    "        else:\n",
    "            print(table[times[number]][number], end=\"\")\n",
    "        total += table[times[number]][number]\n",
    "    print(\"> =\", total)\n",
    "    total_list.append(total)\n",
    "\n",
    "print(\"The minimum of hours spent by each group is\", min(total_list), \"hours\")\n",
    "print(\"\")\n"
   ]
  }
 ],
 "metadata": {
  "kernelspec": {
   "display_name": "Python 3",
   "language": "python",
   "name": "python3"
  },
  "language_info": {
   "codemirror_mode": {
    "name": "ipython",
    "version": 3
   },
   "file_extension": ".py",
   "mimetype": "text/x-python",
   "name": "python",
   "nbconvert_exporter": "python",
   "pygments_lexer": "ipython3",
   "version": "3.11.7"
  }
 },
 "nbformat": 4,
 "nbformat_minor": 2
}
