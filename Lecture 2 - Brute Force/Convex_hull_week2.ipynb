{
 "cells": [
  {
   "cell_type": "code",
   "execution_count": 1,
   "metadata": {},
   "outputs": [],
   "source": [
    "def gift_wrapping(points):\n",
    "    n = len(points)\n",
    "    \n",
    "    if n < 3:\n",
    "        print(\"Convex hull not possible with less than 3 points.\")\n",
    "        return\n",
    "    \n",
    "    # Find the point with the lowest y-coordinate and leftmost x-coordinate in case of ties.\n",
    "    start_point = min(points, key=lambda p: (p[1], p[0]))\n",
    "    convex_hull = [start_point]\n",
    "    \n",
    "    while True:\n",
    "        candidate = points[0]\n",
    "        \n",
    "        for point in points[1:]:\n",
    "            # Check if the current point is to the left of the line formed by the last two points in the convex hull\n",
    "            # Orientation check helps determine if the current point is to the left or right of the line.\n",
    "            orientation = (candidate[1] - convex_hull[-1][1]) * (point[0] - convex_hull[-1][0]) - \\\n",
    "                          (candidate[0] - convex_hull[-1][0]) * (point[1] - convex_hull[-1][1])\n",
    "            \n",
    "            if orientation < 0:     # The points are in a clockwise direction\n",
    "                candidate = point\n",
    "        \n",
    "        if candidate == start_point:   # The candidate is equal to the initial point, it means the convex hull is complete(already wrapped).\n",
    "            break\n",
    "        else:\n",
    "            convex_hull.append(candidate)\n",
    "            points.remove(candidate)\n",
    "    \n",
    "    return convex_hull"
   ]
  },
  {
   "cell_type": "code",
   "execution_count": 3,
   "metadata": {},
   "outputs": [
    {
     "name": "stdout",
     "output_type": "stream",
     "text": [
      "Convex Hull : [(0, 0), (0, 3), (3, 3), (3, 0)]\n"
     ]
    }
   ],
   "source": [
    "# Test case\n",
    "points = [(0, 3), (2, 2), (1, 1), (2, 1), (3, 0), (0, 0), (3, 3)]\n",
    "result = gift_wrapping(points)\n",
    "print(\"Convex Hull :\", result)"
   ]
  }
 ],
 "metadata": {
  "kernelspec": {
   "display_name": "Python 3",
   "language": "python",
   "name": "python3"
  },
  "language_info": {
   "codemirror_mode": {
    "name": "ipython",
    "version": 3
   },
   "file_extension": ".py",
   "mimetype": "text/x-python",
   "name": "python",
   "nbconvert_exporter": "python",
   "pygments_lexer": "ipython3",
   "version": "3.11.7"
  }
 },
 "nbformat": 4,
 "nbformat_minor": 2
}
