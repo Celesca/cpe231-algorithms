{
 "cells": [
  {
   "cell_type": "markdown",
   "metadata": {},
   "source": [
    "### 1. Insertion Sort"
   ]
  },
  {
   "cell_type": "code",
   "execution_count": 100,
   "metadata": {},
   "outputs": [],
   "source": [
    "def insertionSort(a):\n",
    "    n = len(a)\n",
    "    for i in range(1,n):\n",
    "        v = a[i]\n",
    "        j = i - 1\n",
    "        while j >= 0 and a[j] > v:\n",
    "            a[j+1] = a[j]\n",
    "            j -= 1\n",
    "        a[j+1] = v"
   ]
  },
  {
   "cell_type": "code",
   "execution_count": 101,
   "metadata": {},
   "outputs": [
    {
     "name": "stdout",
     "output_type": "stream",
     "text": [
      "Sort my num_list: [1, 2, 3, 4, 5]\n"
     ]
    }
   ],
   "source": [
    "#Test case 1 - Insertion Sort\n",
    "a = [2,1,4,3,5]\n",
    "insertionSort(a)\n",
    "print('Sort my num_list:',a)"
   ]
  },
  {
   "cell_type": "code",
   "execution_count": 102,
   "metadata": {},
   "outputs": [
    {
     "name": "stdout",
     "output_type": "stream",
     "text": [
      "Random num_list: [50, 40, 7, 97, 28, 22, 44, 94, 54, 47]\n",
      "Sort my num_list: [7, 22, 28, 40, 44, 47, 50, 54, 94, 97]\n"
     ]
    }
   ],
   "source": [
    "#Test case 2 - Insertion Sort\n",
    "from random import randint\n",
    "b = [randint(1,100) for i in range(10)]\n",
    "print('Random num_list:',b)\n",
    "\n",
    "insertionSort(b)\n",
    "print('Sort my num_list:',b)"
   ]
  },
  {
   "cell_type": "markdown",
   "metadata": {},
   "source": [
    "### 2. Topological sorting"
   ]
  },
  {
   "cell_type": "code",
   "execution_count": 111,
   "metadata": {},
   "outputs": [],
   "source": [
    "myGraph = {\n",
    "    'A' : ['B','C'],\n",
    "    'B' : ['A','D','E'],\n",
    "    'C' : ['A','F'],\n",
    "    'D' : ['B'],\n",
    "    'E' : ['B','F'],\n",
    "    'F' : ['C','E']\n",
    "}"
   ]
  },
  {
   "cell_type": "code",
   "execution_count": 126,
   "metadata": {},
   "outputs": [
    {
     "name": "stdout",
     "output_type": "stream",
     "text": [
      "Visited: A\n"
     ]
    },
    {
     "name": "stderr",
     "output_type": "stream",
     "text": [
      "\n",
      "KeyboardInterrupt\n",
      "\n"
     ]
    }
   ],
   "source": [
    "# Input graph G = <V, E>\n",
    "\n",
    "\n",
    "\n",
    "def DFS(vertex_key, count_local):\n",
    "    # Mark v with count\n",
    "    count_local += 1\n",
    "    visited[count] = count_local\n",
    "    for w in myGraph[vertex_key]:\n",
    "        DFS(w,count_local)\n",
    "\n",
    "    # for each vertex w in V adjacent to V\n",
    "\n",
    "# mark all vertices with 0 (being unvisited)\n",
    "visited = [0] * len(myGraph)\n",
    "count = 0\n",
    "\n",
    "for vertex_key in myGraph:\n",
    "    # vertex is key\n",
    "    vertex_adj = myGraph[vertex_key]\n",
    "    if visited[count] == 0:\n",
    "        print('Visited:', vertex_key)\n",
    "        DFS(vertex_key,count) \n",
    "\n",
    "\n",
    "    \n"
   ]
  },
  {
   "cell_type": "code",
   "execution_count": 140,
   "metadata": {},
   "outputs": [
    {
     "name": "stdout",
     "output_type": "stream",
     "text": [
      "{'A': 0, 'B': 0, 'C': 0, 'D': 0, 'E': 0, 'F': 0}\n",
      "Visited: A\n",
      "{'A': 1, 'B': 0, 'C': 0, 'D': 0, 'E': 0, 'F': 0}\n",
      "Visited: B\n",
      "{'A': 1, 'B': 2, 'C': 0, 'D': 0, 'E': 0, 'F': 0}\n",
      "Visited: C\n",
      "{'A': 1, 'B': 2, 'C': 3, 'D': 0, 'E': 0, 'F': 0}\n",
      "Visited: D\n",
      "{'A': 1, 'B': 2, 'C': 3, 'D': 4, 'E': 0, 'F': 0}\n",
      "Visited: E\n",
      "{'A': 1, 'B': 2, 'C': 3, 'D': 4, 'E': 5, 'F': 0}\n",
      "Visited: F\n",
      "{'A': 1, 'B': 2, 'C': 3, 'D': 4, 'E': 5, 'F': 6}\n"
     ]
    }
   ],
   "source": [
    "# Input graph G = <V, E>\n",
    "# Output graph G with its vertices marked with consecutive integers\n",
    "# in the order they are first visited.\n",
    "\n",
    "def DFSTraversal(myGraph):\n",
    "    # mark all vertices with 0 (being unvisited)\n",
    "    visited = { vertex_key : 0 for vertex_key in myGraph }\n",
    "    count = [0]\n",
    "\n",
    "    for vertex_key in myGraph:\n",
    "        if visited[vertex_key] == 0:\n",
    "            print('Visited:', vertex_key)\n",
    "            DFS(vertex_key,count,visited)\n",
    "\n",
    "def DFS(vertex_key, count, visited):\n",
    "    # Mark v with count\n",
    "    count[0] += 1\n",
    "    visited[vertex_key] = count[0]\n",
    "    # for each vertex w in V adjacent to V\n",
    "    # so the myGraph[vertex_key] is the vertex adjacent to V\n",
    "    for w in myGraph[vertex_key]:\n",
    "        if visited[vertex_key] == 0:\n",
    "            DFS(w, count, visited)\n"
   ]
  },
  {
   "cell_type": "code",
   "execution_count": null,
   "metadata": {},
   "outputs": [],
   "source": []
  },
  {
   "cell_type": "markdown",
   "metadata": {},
   "source": [
    "### 3. Johnson Trotter Algorithm"
   ]
  },
  {
   "cell_type": "code",
   "execution_count": 53,
   "metadata": {},
   "outputs": [],
   "source": [
    "def find_mobile(mobile_numlist, direction_list):\n",
    "\n",
    "    curr_list = mobile_numlist\n",
    "    curr_dir = direction_list\n",
    "\n",
    "    # Find the largest mobile number index\n",
    "    largest_mobile_index = 999\n",
    "    largest_mobile_value = float('-inf')  # Initialize\n",
    "\n",
    "\n",
    "    for i in range(len(curr_list)):\n",
    "\n",
    "        if i == 0:\n",
    "            if curr_dir[i] == 'right' and curr_list[i] > largest_mobile_value:\n",
    "                if curr_list[i] > curr_list[i+1]:\n",
    "                    largest_mobile_index = i\n",
    "                    largest_mobile_value = curr_list[i]  \n",
    "            else:\n",
    "                continue\n",
    "\n",
    "        elif i == len(curr_list)-1:\n",
    "            if curr_dir[i] == 'left' and curr_list[i] > largest_mobile_value:\n",
    "                largest_mobile_index = i\n",
    "                largest_mobile_value = curr_list[i]  \n",
    "            else:\n",
    "                continue\n",
    "\n",
    "        else:\n",
    "            if curr_dir[i] == 'right' and curr_list[i] > curr_list[i+1] and curr_list[i] > largest_mobile_value:\n",
    "                largest_mobile_index = i\n",
    "                largest_mobile_value = curr_list[i]  \n",
    "\n",
    "            elif curr_dir[i] == 'left' and curr_list[i] > curr_list[i-1] and curr_list[i] > largest_mobile_value:\n",
    "                largest_mobile_index = i\n",
    "                largest_mobile_value = curr_list[i] \n",
    "\n",
    "    if largest_mobile_index == 999:\n",
    "        return 999\n",
    "    else:\n",
    "        return largest_mobile_index\n",
    "\n",
    "def johnsonTrotter(number):\n",
    "\n",
    "    perms = []\n",
    "    \n",
    "    # First initialize the list\n",
    "    num_list = [int(i) for i in range(1,number+1)]\n",
    "\n",
    "    # Initialize the direction list\n",
    "    direction = ['left' for i in range(number)]\n",
    "\n",
    "    while True:\n",
    "\n",
    "        perms.append(num_list.copy())  # Use copy to avoid reference issues\n",
    "        \n",
    "        k = find_mobile(num_list, direction)\n",
    "\n",
    "\n",
    "        if k == 999:\n",
    "            break\n",
    "        \n",
    "        # Swap k with element that the arrow of k points to\n",
    "        if direction[k] == 'right':\n",
    "            num_list[k], num_list[k+1] = num_list[k+1], num_list[k]\n",
    "            direction[k], direction[k+1] = direction[k+1], direction[k]\n",
    "            update_index = k + 1\n",
    "\n",
    "        else:\n",
    "            num_list[k], num_list[k-1] = num_list[k-1], num_list[k]\n",
    "            direction[k], direction[k-1] = direction[k-1], direction[k]\n",
    "            update_index = k - 1\n",
    "\n",
    "        # Reverse the direction of all the elements greater than k\n",
    "        for i in range(number):\n",
    "            if num_list[i] > num_list[update_index]:\n",
    "                if direction[i] == 'left':\n",
    "                    direction[i] = 'right'\n",
    "                else:\n",
    "                    direction[i] = 'left'\n",
    "                    \n",
    "    return perms"
   ]
  },
  {
   "cell_type": "code",
   "execution_count": 54,
   "metadata": {},
   "outputs": [
    {
     "name": "stdout",
     "output_type": "stream",
     "text": [
      "[1, 2, 3, 4]\n",
      "[1, 2, 4, 3]\n",
      "[1, 4, 2, 3]\n",
      "[4, 1, 2, 3]\n",
      "[4, 1, 3, 2]\n",
      "[1, 4, 3, 2]\n",
      "[1, 3, 4, 2]\n",
      "[1, 3, 2, 4]\n",
      "[3, 1, 2, 4]\n",
      "[3, 1, 4, 2]\n",
      "[3, 4, 1, 2]\n",
      "[4, 3, 1, 2]\n",
      "[4, 3, 2, 1]\n",
      "[3, 4, 2, 1]\n",
      "[3, 2, 4, 1]\n",
      "[3, 2, 1, 4]\n",
      "[2, 3, 1, 4]\n",
      "[2, 3, 4, 1]\n",
      "[2, 4, 3, 1]\n",
      "[4, 2, 3, 1]\n",
      "[4, 2, 1, 3]\n",
      "[2, 4, 1, 3]\n",
      "[2, 1, 4, 3]\n",
      "[2, 1, 3, 4]\n",
      "Total permutations : 24\n",
      "Checked Answer :  24\n"
     ]
    }
   ],
   "source": [
    "#Test case - Johnson Trotter Case 1\n",
    "import math\n",
    "\n",
    "perms = johnsonTrotter(4)\n",
    "for perm in perms:\n",
    "    print(perm)\n",
    "\n",
    "print(f'Total permutations : {len(perms)}')\n",
    "\n",
    "# Checked the answer with mathematics equation\n",
    "# perms = n! = 4! = 24\n",
    "checked = math.factorial(4)\n",
    "\n",
    "print(\"Checked Answer : \" , checked)"
   ]
  },
  {
   "cell_type": "code",
   "execution_count": 55,
   "metadata": {},
   "outputs": [
    {
     "name": "stdout",
     "output_type": "stream",
     "text": [
      "[1, 2, 3, 4, 5]\n",
      "[1, 2, 3, 5, 4]\n",
      "[1, 2, 5, 3, 4]\n",
      "[1, 5, 2, 3, 4]\n",
      "[5, 1, 2, 3, 4]\n",
      "[5, 1, 2, 4, 3]\n",
      "[1, 5, 2, 4, 3]\n",
      "[1, 2, 5, 4, 3]\n",
      "[1, 2, 4, 5, 3]\n",
      "[1, 2, 4, 3, 5]\n",
      "[1, 4, 2, 3, 5]\n",
      "[1, 4, 2, 5, 3]\n",
      "[1, 4, 5, 2, 3]\n",
      "[1, 5, 4, 2, 3]\n",
      "[5, 1, 4, 2, 3]\n",
      "[5, 4, 1, 2, 3]\n",
      "[4, 5, 1, 2, 3]\n",
      "[4, 1, 5, 2, 3]\n",
      "[4, 1, 2, 5, 3]\n",
      "[4, 1, 2, 3, 5]\n",
      "[4, 1, 3, 2, 5]\n",
      "[4, 1, 3, 5, 2]\n",
      "[4, 1, 5, 3, 2]\n",
      "[4, 5, 1, 3, 2]\n",
      "[5, 4, 1, 3, 2]\n",
      "[5, 1, 4, 3, 2]\n",
      "[1, 5, 4, 3, 2]\n",
      "[1, 4, 5, 3, 2]\n",
      "[1, 4, 3, 5, 2]\n",
      "[1, 4, 3, 2, 5]\n",
      "[1, 3, 4, 2, 5]\n",
      "[1, 3, 4, 5, 2]\n",
      "[1, 3, 5, 4, 2]\n",
      "[1, 5, 3, 4, 2]\n",
      "[5, 1, 3, 4, 2]\n",
      "[5, 1, 3, 2, 4]\n",
      "[1, 5, 3, 2, 4]\n",
      "[1, 3, 5, 2, 4]\n",
      "[1, 3, 2, 5, 4]\n",
      "[1, 3, 2, 4, 5]\n",
      "[3, 1, 2, 4, 5]\n",
      "[3, 1, 2, 5, 4]\n",
      "[3, 1, 5, 2, 4]\n",
      "[3, 5, 1, 2, 4]\n",
      "[5, 3, 1, 2, 4]\n",
      "[5, 3, 1, 4, 2]\n",
      "[3, 5, 1, 4, 2]\n",
      "[3, 1, 5, 4, 2]\n",
      "[3, 1, 4, 5, 2]\n",
      "[3, 1, 4, 2, 5]\n",
      "[3, 4, 1, 2, 5]\n",
      "[3, 4, 1, 5, 2]\n",
      "[3, 4, 5, 1, 2]\n",
      "[3, 5, 4, 1, 2]\n",
      "[5, 3, 4, 1, 2]\n",
      "[5, 4, 3, 1, 2]\n",
      "[4, 5, 3, 1, 2]\n",
      "[4, 3, 5, 1, 2]\n",
      "[4, 3, 1, 5, 2]\n",
      "[4, 3, 1, 2, 5]\n",
      "[4, 3, 2, 1, 5]\n",
      "[4, 3, 2, 5, 1]\n",
      "[4, 3, 5, 2, 1]\n",
      "[4, 5, 3, 2, 1]\n",
      "[5, 4, 3, 2, 1]\n",
      "[5, 3, 4, 2, 1]\n",
      "[3, 5, 4, 2, 1]\n",
      "[3, 4, 5, 2, 1]\n",
      "[3, 4, 2, 5, 1]\n",
      "[3, 4, 2, 1, 5]\n",
      "[3, 2, 4, 1, 5]\n",
      "[3, 2, 4, 5, 1]\n",
      "[3, 2, 5, 4, 1]\n",
      "[3, 5, 2, 4, 1]\n",
      "[5, 3, 2, 4, 1]\n",
      "[5, 3, 2, 1, 4]\n",
      "[3, 5, 2, 1, 4]\n",
      "[3, 2, 5, 1, 4]\n",
      "[3, 2, 1, 5, 4]\n",
      "[3, 2, 1, 4, 5]\n",
      "[2, 3, 1, 4, 5]\n",
      "[2, 3, 1, 5, 4]\n",
      "[2, 3, 5, 1, 4]\n",
      "[2, 5, 3, 1, 4]\n",
      "[5, 2, 3, 1, 4]\n",
      "[5, 2, 3, 4, 1]\n",
      "[2, 5, 3, 4, 1]\n",
      "[2, 3, 5, 4, 1]\n",
      "[2, 3, 4, 5, 1]\n",
      "[2, 3, 4, 1, 5]\n",
      "[2, 4, 3, 1, 5]\n",
      "[2, 4, 3, 5, 1]\n",
      "[2, 4, 5, 3, 1]\n",
      "[2, 5, 4, 3, 1]\n",
      "[5, 2, 4, 3, 1]\n",
      "[5, 4, 2, 3, 1]\n",
      "[4, 5, 2, 3, 1]\n",
      "[4, 2, 5, 3, 1]\n",
      "[4, 2, 3, 5, 1]\n",
      "[4, 2, 3, 1, 5]\n",
      "[4, 2, 1, 3, 5]\n",
      "[4, 2, 1, 5, 3]\n",
      "[4, 2, 5, 1, 3]\n",
      "[4, 5, 2, 1, 3]\n",
      "[5, 4, 2, 1, 3]\n",
      "[5, 2, 4, 1, 3]\n",
      "[2, 5, 4, 1, 3]\n",
      "[2, 4, 5, 1, 3]\n",
      "[2, 4, 1, 5, 3]\n",
      "[2, 4, 1, 3, 5]\n",
      "[2, 1, 4, 3, 5]\n",
      "[2, 1, 4, 5, 3]\n",
      "[2, 1, 5, 4, 3]\n",
      "[2, 5, 1, 4, 3]\n",
      "[5, 2, 1, 4, 3]\n",
      "[5, 2, 1, 3, 4]\n",
      "[2, 5, 1, 3, 4]\n",
      "[2, 1, 5, 3, 4]\n",
      "[2, 1, 3, 5, 4]\n",
      "[2, 1, 3, 4, 5]\n",
      "Total permutations : 120\n",
      "Checked Answer :  120\n"
     ]
    }
   ],
   "source": [
    "perms = johnsonTrotter(5)\n",
    "for perm in perms:\n",
    "    print(perm)\n",
    "\n",
    "print(f'Total permutations : {len(perms)}')\n",
    "\n",
    "# Checked answer with mathematics equation\n",
    "# perms = n! = 5! = 120\n",
    "\n",
    "checked = math.factorial(5)\n",
    "\n",
    "print(\"Checked Answer : \" , checked)"
   ]
  },
  {
   "cell_type": "markdown",
   "metadata": {},
   "source": [
    "### 4. Binary Search"
   ]
  },
  {
   "cell_type": "code",
   "execution_count": 97,
   "metadata": {},
   "outputs": [],
   "source": [
    "def BinarySearch(A,K):\n",
    "    n = len(A)\n",
    "    l = 0\n",
    "    r = n - 1\n",
    "    while l <= r:\n",
    "        mid = (l + r) // 2\n",
    "        if A[mid] == K:\n",
    "            return mid\n",
    "        elif A[mid] > K:\n",
    "            r = mid - 1\n",
    "        else:\n",
    "            l = mid + 1\n",
    "    return -1"
   ]
  },
  {
   "cell_type": "code",
   "execution_count": 98,
   "metadata": {},
   "outputs": [
    {
     "name": "stdout",
     "output_type": "stream",
     "text": [
      "The index of element : 3 is in sequence number : 2\n"
     ]
    }
   ],
   "source": [
    "#Test case 1 - Binary Search\n",
    "A = [1,2,3,4,5]\n",
    "K = 3\n",
    "result = BinarySearch(A,K)\n",
    "print('The index of element :', K, 'is in sequence number :', result)"
   ]
  },
  {
   "cell_type": "code",
   "execution_count": 99,
   "metadata": {},
   "outputs": [
    {
     "name": "stdout",
     "output_type": "stream",
     "text": [
      "The index of element : 7 is in sequence number : 6\n"
     ]
    }
   ],
   "source": [
    "#Test case 2 - Binary Search\n",
    "B = [1,2,3,4,5,6,7,8,9,10]\n",
    "K = 7\n",
    "result = BinarySearch(B,K)\n",
    "print('The index of element :', K, 'is in sequence number :', result)"
   ]
  },
  {
   "cell_type": "markdown",
   "metadata": {},
   "source": [
    "### 5. Lomuto Partitioning"
   ]
  },
  {
   "cell_type": "code",
   "execution_count": 92,
   "metadata": {},
   "outputs": [],
   "source": [
    "def LomutoPartition(A,l,r):\n",
    "    p = A[l]\n",
    "    s = l\n",
    "    for i in range(l+1,r+1):\n",
    "        if A[i] < p:\n",
    "            s += 1\n",
    "            A[s], A[i] = A[i], A[s]\n",
    "    A[l], A[s] = A[s], A[l]\n",
    "    return s"
   ]
  },
  {
   "cell_type": "code",
   "execution_count": 93,
   "metadata": {},
   "outputs": [
    {
     "name": "stdout",
     "output_type": "stream",
     "text": [
      "The new pivot position : 1\n"
     ]
    }
   ],
   "source": [
    "#Test case 1 - Lomuto Partition\n",
    "A = [2,1,4,3,5]\n",
    "l = 0\n",
    "r = len(A) - 1\n",
    "result = LomutoPartition(A,l,r)\n",
    "print('The new pivot position :', result)"
   ]
  },
  {
   "cell_type": "code",
   "execution_count": 94,
   "metadata": {},
   "outputs": [
    {
     "name": "stdout",
     "output_type": "stream",
     "text": [
      "The new pivot position : 3\n"
     ]
    }
   ],
   "source": [
    "#Test case 2 - Lomuto Partition\n",
    "B = [4,3,2,1,5]\n",
    "l = 0\n",
    "r = len(B) - 1\n",
    "result = LomutoPartition(B,l,r)\n",
    "print('The new pivot position :', result)"
   ]
  },
  {
   "cell_type": "markdown",
   "metadata": {},
   "source": [
    "### 6. Quick Select (ภาคต่อ Lomuto Partition)"
   ]
  },
  {
   "cell_type": "code",
   "execution_count": 95,
   "metadata": {},
   "outputs": [],
   "source": [
    "def Quickselect(A,l,r,k):\n",
    "    s = LomutoPartition(A,l,r)\n",
    "    if s == k-1:\n",
    "        return A[s]\n",
    "    elif s > k-1:\n",
    "        return Quickselect(A,l,s-1,k)\n",
    "    else:\n",
    "        return Quickselect(A,s+1,r,k)"
   ]
  },
  {
   "cell_type": "code",
   "execution_count": 96,
   "metadata": {},
   "outputs": [
    {
     "name": "stdout",
     "output_type": "stream",
     "text": [
      "The 3-th smallest element is : 3\n"
     ]
    }
   ],
   "source": [
    "#Test case 1 - Quick Select\n",
    "A = [2,2,4,3,5,7,9]\n",
    "l = 0 # Pivot Position\n",
    "r = len(A) - 1\n",
    "k = 3\n",
    "result = Quickselect(A,l,r,k)\n",
    "print(f\"The {k}-th smallest element is : {result}\")"
   ]
  },
  {
   "cell_type": "code",
   "execution_count": 86,
   "metadata": {},
   "outputs": [
    {
     "name": "stdout",
     "output_type": "stream",
     "text": [
      "The List : [49, 8, 42, 71, 38, 55, 57, 51, 14, 12]\n",
      "[12, 8, 42, 38, 14, 49, 57, 51, 71, 55]\n",
      "[8, 12, 42, 38, 14, 49, 57, 51, 71, 55]\n",
      "[8, 12, 14, 38, 42, 49, 57, 51, 71, 55]\n",
      "[8, 12, 14, 38, 42, 49, 57, 51, 71, 55]\n",
      "[8, 12, 14, 38, 42, 49, 57, 51, 71, 55]\n",
      "The 4-th smallest element is : 38\n"
     ]
    }
   ],
   "source": [
    "#Test case 2 - Quick Select\n",
    "from random import randint\n",
    "B = [randint(1,100) for i in range(10)]\n",
    "print(\"The List :\" , B)\n",
    "\n",
    "l = 0 # Pivot Position\n",
    "r = len(B) - 1\n",
    "k = 4\n",
    "result = Quickselect(B,l,r,k)\n",
    "print(f\"The {k}-th smallest element is : {result}\")\n",
    "\n"
   ]
  },
  {
   "cell_type": "markdown",
   "metadata": {},
   "source": [
    "### Assignment 1 : Russian Peasant Multiplication\n",
    "\n",
    "Idea and concept reference : https://youtu.be/xrUCL7tGKaI?si=lQKscyxDJunXIv_7"
   ]
  },
  {
   "cell_type": "code",
   "execution_count": 64,
   "metadata": {},
   "outputs": [],
   "source": [
    "# Russian Peasant Multiplication\n",
    "def russian_peasant_multiplication(half, double):\n",
    "    total = 0\n",
    "    while half >= 1:\n",
    "        if half % 2 != 0:\n",
    "            total += double\n",
    "        half //= 2\n",
    "        double *= 2\n",
    "    return total"
   ]
  },
  {
   "cell_type": "code",
   "execution_count": 65,
   "metadata": {},
   "outputs": [
    {
     "name": "stdout",
     "output_type": "stream",
     "text": [
      "140\n"
     ]
    }
   ],
   "source": [
    "# Test Case 1 - Russian Peasant Multiplication\n",
    "print(russian_peasant_multiplication(20, 7)) # 140"
   ]
  },
  {
   "cell_type": "code",
   "execution_count": 66,
   "metadata": {},
   "outputs": [
    {
     "name": "stdout",
     "output_type": "stream",
     "text": [
      "384\n"
     ]
    }
   ],
   "source": [
    "# Test Case 2 - Russian Peasant Multiplication\n",
    "print(russian_peasant_multiplication(24, 16)) # 384"
   ]
  },
  {
   "cell_type": "markdown",
   "metadata": {},
   "source": [
    "### Assignment 2 : Interpolation Search\n",
    "\n",
    "Reference : https://www.youtube.com/watch?v=YSVS5GG1JuI&t=314s"
   ]
  },
  {
   "cell_type": "code",
   "execution_count": 67,
   "metadata": {},
   "outputs": [],
   "source": [
    "def interpolation_search(number_list, element):\n",
    "    low = 0\n",
    "    high = len(number_list) - 1\n",
    "    \n",
    "    while element >= number_list[low] and element <= number_list[high] and low <= high:\n",
    "        \n",
    "        probe = low + (high - low) * (element - number_list[low]) / (number_list[high] - number_list[low])\n",
    "        probe = int(probe)\n",
    "\n",
    "        if (number_list[probe] == element):\n",
    "            return probe\n",
    "        \n",
    "        elif (number_list[probe] < element):\n",
    "            low = probe + 1\n",
    "\n",
    "        else:\n",
    "            high = probe - 1\n",
    "\n",
    "    return -1"
   ]
  },
  {
   "cell_type": "code",
   "execution_count": 68,
   "metadata": {},
   "outputs": [
    {
     "name": "stdout",
     "output_type": "stream",
     "text": [
      "Element found at index : 7\n"
     ]
    }
   ],
   "source": [
    "# Test Case 1 - Interpolation Search\n",
    "number_list = [2, 4, 6, 8, 10, 12, 14, 16, 18, 20]\n",
    "element = 16\n",
    "\n",
    "index = interpolation_search(number_list, element)\n",
    "\n",
    "if (index != -1):\n",
    "    print(f\"Element found at index : {index}\")\n",
    "else:\n",
    "    print(\"Element not found\")"
   ]
  },
  {
   "cell_type": "code",
   "execution_count": 69,
   "metadata": {},
   "outputs": [
    {
     "name": "stdout",
     "output_type": "stream",
     "text": [
      "Element found at index : 8\n"
     ]
    }
   ],
   "source": [
    "# Test Case 2 - Interpolation Search\n",
    "number_list = [1, 2, 3, 4, 5, 6, 7, 8, 9, 10]\n",
    "element = 9\n",
    "\n",
    "index = interpolation_search(number_list, element)\n",
    "\n",
    "if (index != -1):\n",
    "    print(f\"Element found at index : {index}\")\n",
    "else:\n",
    "    print(\"Element not found\")"
   ]
  },
  {
   "cell_type": "code",
   "execution_count": 70,
   "metadata": {},
   "outputs": [
    {
     "name": "stdout",
     "output_type": "stream",
     "text": [
      "Element not found\n"
     ]
    }
   ],
   "source": [
    "# Test Case 3 - Interpolation Search\n",
    "number_list = [1, 3, 5, 7, 9, 11, 13, 15, 17, 19]\n",
    "element = 20\n",
    "\n",
    "index = interpolation_search(number_list, element)\n",
    "\n",
    "if (index != -1):\n",
    "    print(f\"Element found at index : {index}\")\n",
    "else:\n",
    "    print(\"Element not found\")\n",
    "    "
   ]
  },
  {
   "cell_type": "markdown",
   "metadata": {},
   "source": [
    "---"
   ]
  },
  {
   "cell_type": "markdown",
   "metadata": {},
   "source": []
  }
 ],
 "metadata": {
  "kernelspec": {
   "display_name": "Python 3",
   "language": "python",
   "name": "python3"
  },
  "language_info": {
   "codemirror_mode": {
    "name": "ipython",
    "version": 3
   },
   "file_extension": ".py",
   "mimetype": "text/x-python",
   "name": "python",
   "nbconvert_exporter": "python",
   "pygments_lexer": "ipython3",
   "version": "3.11.4"
  }
 },
 "nbformat": 4,
 "nbformat_minor": 2
}
