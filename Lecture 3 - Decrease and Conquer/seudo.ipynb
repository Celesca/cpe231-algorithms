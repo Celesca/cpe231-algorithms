{
 "cells": [
  {
   "cell_type": "markdown",
   "metadata": {},
   "source": [
    "1. Insertion Sort"
   ]
  },
  {
   "cell_type": "code",
   "execution_count": 27,
   "metadata": {},
   "outputs": [],
   "source": [
    "def insertionSort(a):\n",
    "    n = len(a)\n",
    "    for i in range(1,n):\n",
    "        v = a[i]\n",
    "        j = i - 1\n",
    "        while j >= 0 and a[j] > v:\n",
    "            a[j+1] = a[j]\n",
    "            j -= 1\n",
    "        a[j+1] = v"
   ]
  },
  {
   "cell_type": "code",
   "execution_count": 28,
   "metadata": {},
   "outputs": [
    {
     "name": "stdout",
     "output_type": "stream",
     "text": [
      "Sort my array: [1, 2, 3, 4, 5]\n"
     ]
    }
   ],
   "source": [
    "#Test case\n",
    "a = [2,1,4,3,5]\n",
    "insertionSort(a)\n",
    "print('Sort my array:',a)"
   ]
  },
  {
   "cell_type": "markdown",
   "metadata": {},
   "source": [
    "2. Topological sorting"
   ]
  },
  {
   "cell_type": "code",
   "execution_count": null,
   "metadata": {},
   "outputs": [],
   "source": [
    "\n",
    "class Graph:\n",
    "    def __init__(self,maxVertices,directed=False):\n",
    "        self._Vertices = list()\n",
    "        self._MATRIX = Matrix(maxVertices,maxVertices)\n",
    "        self._MATRIX.clear(None)\n",
    "        self._directed = directed\n",
    "#------------------------- Vertex class -----------------------\n",
    "    class Vertex:\n",
    "        __slots__ = '_element'\n",
    "\n",
    "        def __init__(self, x):\n",
    "            self._element = x\n",
    "\n",
    "        def element(self):\n",
    "            return self._element\n",
    "        \n",
    "        def __repr__(self):\n",
    "            return str(self._element)\n",
    "#------------------------- Edge class -------------------------\n",
    "    class Edge:\n",
    "        __slots__ = '_origin' , '_destination', '_element'\n",
    "\n",
    "        def __init__(self, u, v, w):\n",
    "            self._origin = u\n",
    "            self._destination = v #ปลายทาง\n",
    "            self._element = w\n",
    "\n",
    "        def endpoints(self):\n",
    "            return (self._origin, self._destination)\n",
    "\n",
    "        def opposite(self, v):\n",
    "            return self._destination if v is self._origin else self._origin\n",
    "\n",
    "        def element(self):\n",
    "            return self._element\n",
    "        \n",
    "        def __repr__(self):\n",
    "            return str(self._element)"
   ]
  },
  {
   "cell_type": "code",
   "execution_count": 29,
   "metadata": {},
   "outputs": [
    {
     "ename": "SyntaxError",
     "evalue": "incomplete input (850834306.py, line 2)",
     "output_type": "error",
     "traceback": [
      "\u001b[1;36m  Cell \u001b[1;32mIn[29], line 2\u001b[1;36m\u001b[0m\n\u001b[1;33m    \u001b[0m\n\u001b[1;37m    ^\u001b[0m\n\u001b[1;31mSyntaxError\u001b[0m\u001b[1;31m:\u001b[0m incomplete input\n"
     ]
    }
   ],
   "source": [
    "from graph import Graph\n",
    "my_graph = Graph(5)\n",
    "def DFSTraversal():\n",
    "\n",
    "     \n",
    "    "
   ]
  },
  {
   "cell_type": "code",
   "execution_count": null,
   "metadata": {},
   "outputs": [],
   "source": [
    "#Test case"
   ]
  },
  {
   "cell_type": "markdown",
   "metadata": {},
   "source": [
    "3. Johnson Trotter Algorithm"
   ]
  },
  {
   "cell_type": "code",
   "execution_count": null,
   "metadata": {},
   "outputs": [],
   "source": [
    "def JohnsonTrotter():"
   ]
  },
  {
   "cell_type": "code",
   "execution_count": null,
   "metadata": {},
   "outputs": [],
   "source": [
    "#Test case"
   ]
  },
  {
   "cell_type": "markdown",
   "metadata": {},
   "source": [
    "4. Binary Search"
   ]
  },
  {
   "cell_type": "code",
   "execution_count": 30,
   "metadata": {},
   "outputs": [],
   "source": [
    "def BinarySearch(A,K):\n",
    "    n = len(A)\n",
    "    l = 0\n",
    "    r = n - 1\n",
    "    while l <= r:\n",
    "        mid = (l + r) // 2\n",
    "        if A[mid] == K:\n",
    "            return mid\n",
    "        elif A[mid] > K:\n",
    "            r = mid - 1\n",
    "        else:\n",
    "            l = mid + 1\n",
    "    return -1"
   ]
  },
  {
   "cell_type": "code",
   "execution_count": 31,
   "metadata": {},
   "outputs": [
    {
     "name": "stdout",
     "output_type": "stream",
     "text": [
      "The index of element : 3 is in sequence number : 2\n"
     ]
    }
   ],
   "source": [
    "#Test case\n",
    "A = [1,2,3,4,5]\n",
    "K = 3\n",
    "result = BinarySearch(A,K)\n",
    "print('The index of element :', K, 'is in sequence number :', result)"
   ]
  },
  {
   "cell_type": "markdown",
   "metadata": {},
   "source": [
    "5. Lomuto Partitioning"
   ]
  },
  {
   "cell_type": "code",
   "execution_count": 32,
   "metadata": {},
   "outputs": [],
   "source": [
    "def LomutoPatition(A,l,r):\n",
    "    p = A[l]\n",
    "    s = l\n",
    "    for i in range(l+1,r+1):\n",
    "        if A[i] < p:\n",
    "            s += 1\n",
    "            A[s], A[i] = A[i], A[s]\n",
    "    A[l], A[s] = A[s], A[l]\n",
    "    return s\n",
    "            "
   ]
  },
  {
   "cell_type": "code",
   "execution_count": 33,
   "metadata": {},
   "outputs": [
    {
     "name": "stdout",
     "output_type": "stream",
     "text": [
      "The new pivot position : 3\n"
     ]
    }
   ],
   "source": [
    "#Test case\n",
    "A = [2,1,4,3,5]\n",
    "l = 3\n",
    "r = 1\n",
    "result = LomutoPatition(A,l,r)\n",
    "print('The new pivot position :', result)\n"
   ]
  },
  {
   "cell_type": "markdown",
   "metadata": {},
   "source": [
    "6. Quick Selection"
   ]
  },
  {
   "cell_type": "code",
   "execution_count": 58,
   "metadata": {},
   "outputs": [],
   "source": [
    "def Quickselect(A,l,r,k):\n",
    "    s = LomutoPatition(A,l,r)\n",
    "    if s == k-1:\n",
    "        return A[s]\n",
    "    elif s > k-1:\n",
    "        return Quickselect(A,l,s-1,k)\n",
    "    else:\n",
    "        return Quickselect(A,s+1,r,k)"
   ]
  },
  {
   "cell_type": "code",
   "execution_count": 74,
   "metadata": {},
   "outputs": [
    {
     "name": "stdout",
     "output_type": "stream",
     "text": [
      "The 3-th smallest element is : 3\n"
     ]
    }
   ],
   "source": [
    "#Test case\n",
    "A = [2,2,4,3,5,7,9]\n",
    "l = 2\n",
    "r = len(A) - 1\n",
    "k = 3\n",
    "result = Quickselect(A,l,r,k)\n",
    "print(f\"The {k}-th smallest element is : {result}\")"
   ]
  }
 ],
 "metadata": {
  "kernelspec": {
   "display_name": "Python 3",
   "language": "python",
   "name": "python3"
  },
  "language_info": {
   "codemirror_mode": {
    "name": "ipython",
    "version": 3
   },
   "file_extension": ".py",
   "mimetype": "text/x-python",
   "name": "python",
   "nbconvert_exporter": "python",
   "pygments_lexer": "ipython3",
   "version": "3.11.7"
  }
 },
 "nbformat": 4,
 "nbformat_minor": 2
}
