{
 "cells": [
  {
   "cell_type": "code",
   "execution_count": 89,
   "metadata": {},
   "outputs": [],
   "source": [
    "def find_mobile(mobile_numlist, direction_list):\n",
    "    curr_list = mobile_numlist\n",
    "    curr_dir = direction_list\n",
    "\n",
    "    # [4, 1, 2, 3]\n",
    "    # ['left', 'left', 'left', 'left']\n",
    "\n",
    "    # Find the largest mobile number index\n",
    "    largest_mobile_index = 999\n",
    "    largest_mobile_value = float('-inf')  # Initialize\n",
    "\n",
    "\n",
    "    for i in range(len(curr_list)):\n",
    "\n",
    "        # Check if it's the leftmost or rightmost element\n",
    "        if i == 0:\n",
    "            if curr_dir[i] == 'right' and curr_list[i] > largest_mobile_value:\n",
    "                if curr_list[i] > curr_list[i+1]:\n",
    "                    largest_mobile_index = i\n",
    "                    largest_mobile_value = curr_list[i]  # Update the largest mobile value\n",
    "            else:\n",
    "                continue\n",
    "\n",
    "        elif i == len(curr_list)-1:\n",
    "            if curr_dir[i] == 'left' and curr_list[i] > largest_mobile_value:\n",
    "                largest_mobile_index = i\n",
    "                largest_mobile_value = curr_list[i]  # Update the largest mobile value\n",
    "            else:\n",
    "                continue\n",
    "\n",
    "        else:\n",
    "            if curr_dir[i] == 'right' and curr_list[i] > curr_list[i+1] and curr_list[i] > largest_mobile_value:\n",
    "                largest_mobile_index = i\n",
    "                largest_mobile_value = curr_list[i]  # Update the largest mobile value\n",
    "\n",
    "            elif curr_dir[i] == 'left' and curr_list[i] > curr_list[i-1] and curr_list[i] > largest_mobile_value:\n",
    "                largest_mobile_index = i\n",
    "                largest_mobile_value = curr_list[i]  # Update the largest mobile value\n",
    "\n",
    "    if largest_mobile_index == 999:\n",
    "        return 999\n",
    "    else:\n",
    "        return largest_mobile_index\n",
    "\n",
    "def johnsonTrotter(number):\n",
    "\n",
    "    perms = []\n",
    "    \n",
    "    # First initialize the array\n",
    "    num_list = [int(i) for i in range(1,number+1)]\n",
    "\n",
    "    # Initialize the direction array\n",
    "    direction = ['left' for i in range(number)]\n",
    "\n",
    "    while True:\n",
    "\n",
    "        perms.append(num_list.copy())  # Use copy to avoid reference issues\n",
    "        \n",
    "        k = find_mobile(num_list, direction)\n",
    "\n",
    "\n",
    "        if k == 999:\n",
    "            break\n",
    "        \n",
    "        # Swap k with element that the arrow of k points to\n",
    "        if direction[k] == 'right':\n",
    "            num_list[k], num_list[k+1] = num_list[k+1], num_list[k]\n",
    "            direction[k], direction[k+1] = direction[k+1], direction[k]\n",
    "            update_index = k + 1\n",
    "\n",
    "        else:\n",
    "            num_list[k], num_list[k-1] = num_list[k-1], num_list[k]\n",
    "            direction[k], direction[k-1] = direction[k-1], direction[k]\n",
    "            update_index = k - 1\n",
    "\n",
    "        # Reverse the direction of all the elements greater than k\n",
    "        for i in range(number):\n",
    "            if num_list[i] > num_list[update_index]:\n",
    "                if direction[i] == 'left':\n",
    "                    direction[i] = 'right'\n",
    "                else:\n",
    "                    direction[i] = 'left'\n",
    "                    \n",
    "    return perms"
   ]
  },
  {
   "cell_type": "code",
   "execution_count": 92,
   "metadata": {},
   "outputs": [
    {
     "name": "stdout",
     "output_type": "stream",
     "text": [
      "[[1, 2, 3, 4, 5], [1, 2, 3, 5, 4], [1, 2, 5, 3, 4], [1, 5, 2, 3, 4], [5, 1, 2, 3, 4], [5, 1, 2, 4, 3], [1, 5, 2, 4, 3], [1, 2, 5, 4, 3], [1, 2, 4, 5, 3], [1, 2, 4, 3, 5], [1, 4, 2, 3, 5], [1, 4, 2, 5, 3], [1, 4, 5, 2, 3], [1, 5, 4, 2, 3], [5, 1, 4, 2, 3], [5, 4, 1, 2, 3], [4, 5, 1, 2, 3], [4, 1, 5, 2, 3], [4, 1, 2, 5, 3], [4, 1, 2, 3, 5], [4, 1, 3, 2, 5], [4, 1, 3, 5, 2], [4, 1, 5, 3, 2], [4, 5, 1, 3, 2], [5, 4, 1, 3, 2], [5, 1, 4, 3, 2], [1, 5, 4, 3, 2], [1, 4, 5, 3, 2], [1, 4, 3, 5, 2], [1, 4, 3, 2, 5], [1, 3, 4, 2, 5], [1, 3, 4, 5, 2], [1, 3, 5, 4, 2], [1, 5, 3, 4, 2], [5, 1, 3, 4, 2], [5, 1, 3, 2, 4], [1, 5, 3, 2, 4], [1, 3, 5, 2, 4], [1, 3, 2, 5, 4], [1, 3, 2, 4, 5], [3, 1, 2, 4, 5], [3, 1, 2, 5, 4], [3, 1, 5, 2, 4], [3, 5, 1, 2, 4], [5, 3, 1, 2, 4], [5, 3, 1, 4, 2], [3, 5, 1, 4, 2], [3, 1, 5, 4, 2], [3, 1, 4, 5, 2], [3, 1, 4, 2, 5], [3, 4, 1, 2, 5], [3, 4, 1, 5, 2], [3, 4, 5, 1, 2], [3, 5, 4, 1, 2], [5, 3, 4, 1, 2], [5, 4, 3, 1, 2], [4, 5, 3, 1, 2], [4, 3, 5, 1, 2], [4, 3, 1, 5, 2], [4, 3, 1, 2, 5], [4, 3, 2, 1, 5], [4, 3, 2, 5, 1], [4, 3, 5, 2, 1], [4, 5, 3, 2, 1], [5, 4, 3, 2, 1], [5, 3, 4, 2, 1], [3, 5, 4, 2, 1], [3, 4, 5, 2, 1], [3, 4, 2, 5, 1], [3, 4, 2, 1, 5], [3, 2, 4, 1, 5], [3, 2, 4, 5, 1], [3, 2, 5, 4, 1], [3, 5, 2, 4, 1], [5, 3, 2, 4, 1], [5, 3, 2, 1, 4], [3, 5, 2, 1, 4], [3, 2, 5, 1, 4], [3, 2, 1, 5, 4], [3, 2, 1, 4, 5], [2, 3, 1, 4, 5], [2, 3, 1, 5, 4], [2, 3, 5, 1, 4], [2, 5, 3, 1, 4], [5, 2, 3, 1, 4], [5, 2, 3, 4, 1], [2, 5, 3, 4, 1], [2, 3, 5, 4, 1], [2, 3, 4, 5, 1], [2, 3, 4, 1, 5], [2, 4, 3, 1, 5], [2, 4, 3, 5, 1], [2, 4, 5, 3, 1], [2, 5, 4, 3, 1], [5, 2, 4, 3, 1], [5, 4, 2, 3, 1], [4, 5, 2, 3, 1], [4, 2, 5, 3, 1], [4, 2, 3, 5, 1], [4, 2, 3, 1, 5], [4, 2, 1, 3, 5], [4, 2, 1, 5, 3], [4, 2, 5, 1, 3], [4, 5, 2, 1, 3], [5, 4, 2, 1, 3], [5, 2, 4, 1, 3], [2, 5, 4, 1, 3], [2, 4, 5, 1, 3], [2, 4, 1, 5, 3], [2, 4, 1, 3, 5], [2, 1, 4, 3, 5], [2, 1, 4, 5, 3], [2, 1, 5, 4, 3], [2, 5, 1, 4, 3], [5, 2, 1, 4, 3], [5, 2, 1, 3, 4], [2, 5, 1, 3, 4], [2, 1, 5, 3, 4], [2, 1, 3, 5, 4], [2, 1, 3, 4, 5]]\n"
     ]
    }
   ],
   "source": [
    "perms = johnsonTrotter(5)\n",
    "print(perms)\n"
   ]
  },
  {
   "cell_type": "code",
   "execution_count": null,
   "metadata": {},
   "outputs": [],
   "source": []
  },
  {
   "cell_type": "code",
   "execution_count": null,
   "metadata": {},
   "outputs": [],
   "source": []
  },
  {
   "cell_type": "code",
   "execution_count": null,
   "metadata": {},
   "outputs": [],
   "source": []
  },
  {
   "cell_type": "code",
   "execution_count": null,
   "metadata": {},
   "outputs": [],
   "source": []
  }
 ],
 "metadata": {
  "kernelspec": {
   "display_name": "Python 3",
   "language": "python",
   "name": "python3"
  },
  "language_info": {
   "codemirror_mode": {
    "name": "ipython",
    "version": 3
   },
   "file_extension": ".py",
   "mimetype": "text/x-python",
   "name": "python",
   "nbconvert_exporter": "python",
   "pygments_lexer": "ipython3",
   "version": "3.11.4"
  }
 },
 "nbformat": 4,
 "nbformat_minor": 2
}
