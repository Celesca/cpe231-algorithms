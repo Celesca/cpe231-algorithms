{
 "cells": [
  {
   "cell_type": "markdown",
   "metadata": {},
   "source": [
    "<h1 style=\"background-color:pink;color:black;\">Summary Decrease and Conquer</h1>"
   ]
  },
  {
   "cell_type": "markdown",
   "metadata": {},
   "source": [
    "#### Decrease and Conquer คือ การแก้ปัญหา โดยการลดขนาดของปัญหาที่ใหญ่ เป็นปัญหาเล็กลง แล้วจึงค่อยดำเนินการแก้ปัญหา\n",
    "โดยสามารถแบ่งออกได้เป็น 3 ประเภท\n"
   ]
  },
  {
   "cell_type": "markdown",
   "metadata": {},
   "source": [
    "1. Decrease by a constant คือ การลดลงเป็นค่าคงที่ (เช่น ทีละ 1, 2) โดยมีตัวอย่างอัลกอริทึมดังนี้\n",
    "- Insertion sort\n",
    "    วิธีการเรียงลำดับที่มีประสิทธิภาพสูงสำหรับการเรียงลำดับข้อมูล\n",
    "    โดยการหาตำแหน่งลำดับที่ถูกต้องของแต่ละข้อมูล แล้วแทรกข้อมูลลงไป\n",
    "    ในตำแหน่งที่เหมาะสมใน List หรือ Array\n",
    "    \n",
    "- Graph search algorithm for DFS and BFS\n",
    "    วิธีการที่ใช้ในการสำรวจโครงสร้างข้อมูลในกราฟ เพื่อค้นหาโหนดหรือเส้นทางที่ต้องการ\n",
    "\n",
    "- Topological sorting (Top Sort)\n",
    "    อัลกอริทึมที่ใช้ในการเรียงลำดับโหนดในกราฟแบบ DAG (Directed Acyclic Graph) เช่น การหา DFS Tree หรือหาลำดับของโหนดในกราฟ\n",
    "    ตัวอย่างการประยุกต์ใช้งานของ (Application of Top Sort) ได้แก่\n",
    "    1. School class prerequisites (จัดการตารางเรียนว่าควรลงทะเบียนวิชาไหนก่อน)\n",
    "    2. Program dependencies (การตรวจสอบ Module ต่างๆว่า Dependency กันหรือไม่ อัพเดทแล้วกระทบกันหรือไม่)\n",
    "    3. Event scheduling\n",
    "    4. Assembly instruction (การทำงานขั้นตอนต่อไปในภาษา Assembly)\n",
    "\n",
    "    Solution ของ Top Sort มีทั้งหมดสองวิธีคือ \n",
    "    1. เช็คว่าการทำ DFS Traversal จะสร้าง DAG\n",
    "    2. Source Removal Algorithm\n",
    "\n",
    "- Algorithm for generating combinatorial objects\n",
    "    - Permutations คือการสร้างการเรียงลำดับที่แตกต่างกันขององค์ประกอบที่ให้มาในเซตที่กำหนด\n",
    "    - Combinations คือการสร้างการเลือกขององค์ประกอบที่กำหนดขึ้นจากเซตที่กำหนด\n",
    "    - Subsets คือการสร้างเซตย่อยขององค์ประกอบที่เป็นไปได้จากเซตที่กำหนด\n",
    "\n",
    "- Generating Permutations using Decrease-by-One \n",
    "วิธีการที่ใช้การลดลงของข้อมูลเริ่มต้นเพื่อสร้าง permutations โดยที่ข้อมูลเริ่มต้นคือลำดับที่ถูกเรียงลำดับแล้วหรือเซตของข้อมูลที่ไม่ได้ถูกเรียงลำดับ เราจะลดลงข้อมูลในเซตของข้อมูลนั้นออกไปตามลำดับ และสร้าง permutations จากเซตข้อมูลที่เหลืออยู่\n",
    "\n",
    "- Johnson Trotter Algorithm วิธีการในการสร้าง permutations (การเรียงลำดับ) โดยที่แต่ละ permutation ที่สร้างขึ้นจะไม่มีสมาชิกใดที่ซ้ำกัน และเป็นการเรียงลำดับที่ไม่มีการเปลี่ยนแปลงคู่ลำดับของสมาชิก (คือ ไม่มีการสลับสมาชิกที่อยู่ติดกันในลำดับ) \n",
    "- หลักการ Johnson Trotter คือเรากำหนดลูกศรให้กับทุกสมาชิก และในทุกรอบจะหา สมาชิกที่ Mobile ที่มีค่ามากที่สุด (Mobile หมายถึง การที่สมาชิกตัวนั้น มีลูกศรชี้ไปหาอีกสมาชิกที่มีค่าน้อยกว่า จะเรียกว่า Mobile) <br>\n",
    "จากนั้นให้สลับตัว Mobile ที่มีค่ามากที่สุด กับตัวที่ลูกศรมันชี้ไป และปรับทิศลูกศรให้กับตัวที่มีค่ามากกว่า Mobile ที่พึ่งสลับไป ทำแบบนี้จนครบรอบก็จะได้ Permutations ทั้งหมด\n",
    "\n",
    "2. Decrease by a constant factor คือ การลดลงเป็นครึ่งหนึ่งของทั้งหมด\n",
    "    - Binary Search อัลกอริทึมในการค้นหาข้อมูลในลำดับที่เรียงลำดับแล้ว โดยการแบ่งข้อมูลในลำดับเป็นสองส่วน และทำการค้นหาในส่วนที่เป็นไปได้ที่มีโอกาสพบข้อมูลตามที่ต้องการ มี Big-O เป็น O(log n)\n",
    "\n",
    "    - Fake coin problem \n",
    "    วิธีการแก้ปัญหา Fake coin มักจะใช้วิธีการแบ่งและเอาส่วนประกอบ (Divide and Conquer) โดยการแบ่งกองเหรียญออกเป็นสองส่วนเท่าๆ กันแล้วทดสอบว่าน้ำหนักของสองส่วนนั้นเท่ากันหรือไม่ จากนั้นใช้การแบ่งและเอาส่วนประกอบเพื่อค้นหาเหรียญปลอมในส่วนที่น้ำหนักไม่เท่ากัน กระบวนการนี้จะทำซ้ำจนกว่าจะเหลือเหรียญปลอมเพียงหนึ่งเหรียญ แล้วใช้การชั่งน้ำหนักเพื่อหาเหรียญปลอม\n",
    "\n",
    "3. Variable size decrease คือ การกำหนดขนาดตัวแปรให้น้อยลง\n",
    "    - The Selection Problem\n",
    "        - ปัญหานี้เกี่ยวข้องกับการค้นหาค่าที่ตำแหน่งที่ k ในลำดับข้อมูลที่กำหนด โดยที่ตำแหน่งนี้จะอิงตามลำดับเรียงลำดับข้อมูล โดยทั่วไปแล้ว ลำดับข้อมูลนั้นจะเป็นลำดับของตัวเลข หรือวัตถุใดๆ ที่สามารถนำมาเปรียบเทียบได้\n",
    "        - วิธีการแก้ปัญหาการเลือกมักจะเรียกว่าวิธีการเลือกหรือวิธีการหาค่าที่ตำแหน่งที่ k ในลำดับข้อมูล โดยมักจะมีวิธีการแก้ไขหลักๆ 2 วิธี คือ \"การเรียงลำดับและค้นหา\" (Sort and Search) และ \"การแบ่งและเอาส่วนประกอบ\" (Divide and Conquer)\n",
    "\n",
    "    - Lomuto Partitioning (หาค่า โดยไม่ Sort ข้อมูลก่อน)\n",
    "    วิธีการแบ่งข้อมูลในอาร์เรย์เพื่อทำให้ข้อมูลที่มีค่าน้อยกว่าหรือเท่ากับค่าของ pivot อยู่ด้านซ้ายของ pivot และข้อมูลที่มีค่ามากกว่าค่าของ pivot อยู่ด้านขวาของ pivot ซึ่งมักถูกใช้ในอัลกอริทึม QuickSort ซึ่งเป็นวิธีการเรียงลำดับแบบแบ่งและเอาส่วนประกอบ\n",
    "    Lomuto Partitioning จะทำให้ค่าของ pivot อยู่ในตำแหน่งที่ถูกต้องหลังจากการแบ่งข้อมูล และทำให้ข้อมูลที่มีค่าน้อยกว่าหรือเท่ากับ pivot อยู่ด้านซ้ายของ pivot และข้อมูลที่มีค่ามากกว่า pivot อยู่ด้านขวาของ pivot ซึ่งเป็นการแบ่งข้อมูลที่มีประสิทธิภาพในการทำ QuickSort\n",
    "\n",
    "    - Quick Select (ใช้งานร่วมกับ Lomuto Partitioning)\n",
    "    เป็นวิธีการที่ใช้ในการค้นหาค่าที่ตำแหน่งที่ k ในลำดับข้อมูล โดยมีประสิทธิภาพในกรณีที่เราต้องการค้นหาค่าที่ตำแหน่งที่ k ในลำดับข้อมูลที่มีขนาดใหญ่โดยไม่ต้องเรียงลำดับทั้งหมด ซึ่ง Quick Select ใช้หลักการของ QuickSort ในการทำงาน\n",
    "    - Quick Select มีประสิทธิภาพในการค้นหาค่าที่ตำแหน่งที่ k ในลำดับข้อมูลที่มีขนาดใหญ่ โดยมีเวลาทำงานเฉลี่ยเป็น O(n) โดยที่ n คือขนาดของลำดับข้อมูล ซึ่งทำให้ Quick Selectเป็นวิธีการที่ดีในการแก้ปัญหาการเลือกค่าที่ตำแหน่งที่ k ในลำดับข้อมูลที่มีขนาดใหญ่"
   ]
  },
  {
   "cell_type": "markdown",
   "metadata": {},
   "source": [
    "---"
   ]
  },
  {
   "cell_type": "markdown",
   "metadata": {},
   "source": [
    "## -- Pseudo Code Implementation --"
   ]
  },
  {
   "cell_type": "markdown",
   "metadata": {},
   "source": [
    "### 1. Insertion Sort"
   ]
  },
  {
   "cell_type": "code",
   "execution_count": 100,
   "metadata": {},
   "outputs": [],
   "source": [
    "def insertionSort(a):\n",
    "    n = len(a)\n",
    "    for i in range(1,n):\n",
    "        v = a[i]\n",
    "        j = i - 1\n",
    "        while j >= 0 and a[j] > v:\n",
    "            a[j+1] = a[j]\n",
    "            j -= 1\n",
    "        a[j+1] = v"
   ]
  },
  {
   "cell_type": "code",
   "execution_count": 101,
   "metadata": {},
   "outputs": [
    {
     "name": "stdout",
     "output_type": "stream",
     "text": [
      "Sort my num_list: [1, 2, 3, 4, 5]\n"
     ]
    }
   ],
   "source": [
    "#Test case 1 - Insertion Sort\n",
    "a = [2,1,4,3,5]\n",
    "insertionSort(a)\n",
    "print('Sort my num_list:',a)"
   ]
  },
  {
   "cell_type": "code",
   "execution_count": 102,
   "metadata": {},
   "outputs": [
    {
     "name": "stdout",
     "output_type": "stream",
     "text": [
      "Random num_list: [50, 40, 7, 97, 28, 22, 44, 94, 54, 47]\n",
      "Sort my num_list: [7, 22, 28, 40, 44, 47, 50, 54, 94, 97]\n"
     ]
    }
   ],
   "source": [
    "#Test case 2 - Insertion Sort\n",
    "from random import randint\n",
    "b = [randint(1,100) for i in range(10)]\n",
    "print('Random num_list:',b)\n",
    "\n",
    "insertionSort(b)\n",
    "print('Sort my num_list:',b)"
   ]
  },
  {
   "cell_type": "markdown",
   "metadata": {},
   "source": [
    "### 2. Topological sorting (DFS Traversal)"
   ]
  },
  {
   "cell_type": "markdown",
   "metadata": {},
   "source": [
    "ข้อสังเกตของการ Implement DFS Traversal คือการออกแบบ Function ทั้งสอง เนื่องจากใน Algorithm นี้ อาศัยการอัพเดทข้อมูลภายใน Function และส่งกลับมา <br>\n",
    "แต่เนื่องจาก Python มีคอนเซปที่เรียกว่า <span style=\"color: yellow;\">Pass By Reference</span> อยู่ ซึ่งอธิบายก็คือ การที่เราส่ง Arguments เข้าไปใน Function ถ้าหากเราส่งเป็น List เข้าไป <br>\n",
    "เมื่อมีการอัพเดทภายในฟังก์ชันก็จะทำให้ค่าเปลี่ยนแปลงออกมาที่นอกฟังก์ชันด้วย ดังนั้นในการ Implement จึงส่งค่า count ให้เป็น List เข้าไปเพื่ออัพเดทแทน Global Variable ที่ไม่สามารถอัพเดทได้ด้วยตัวเอง"
   ]
  },
  {
   "cell_type": "code",
   "execution_count": 20,
   "metadata": {},
   "outputs": [],
   "source": [
    "# Input graph G = <V, E>\n",
    "# Output graph G with its vertices marked with consecutive integers\n",
    "# in the order they are first visited.\n",
    "\n",
    "def DFSTraversal(myGraph):\n",
    "    # mark all vertices with 0 (being unvisited)\n",
    "    visited = { vertex_key : 0 for vertex_key in myGraph }\n",
    "    count = [0] # count need to be a list because we want to use pass by reference function in Python\n",
    "\n",
    "    for vertex_key in myGraph:\n",
    "        if visited[vertex_key] == 0:\n",
    "            DFS(vertex_key,count,visited, myGraph)\n",
    "\n",
    "    return visited\n",
    "\n",
    "def DFS(vertex_key, count, visited, myGraph):\n",
    "    # Mark v with count\n",
    "    count[0] += 1\n",
    "    visited[vertex_key] = count[0]\n",
    "    # for each vertex w in V adjacent to V\n",
    "    # so the myGraph[vertex_key] is the vertex adjacent to V\n",
    "    for w in myGraph[vertex_key]:\n",
    "        if visited[w] == 0:\n",
    "            DFS(w, count, visited, myGraph)"
   ]
  },
  {
   "cell_type": "code",
   "execution_count": 25,
   "metadata": {},
   "outputs": [
    {
     "name": "stdout",
     "output_type": "stream",
     "text": [
      "Visited order of vertex A is 1\n",
      "Visited order of vertex D is 2\n",
      "Visited order of vertex E is 4\n",
      "Visited order of vertex B is 3\n",
      "Visited order of vertex C is 6\n",
      "Visited order of vertex F is 5\n"
     ]
    }
   ],
   "source": [
    "# Test Case 1 - DFS Traversal\n",
    "\n",
    "Graph_A = {\n",
    "    'A' : ['D','B'],\n",
    "    'D' : ['B'],\n",
    "    'E' : ['B','F'],\n",
    "    'B' : ['A','D','E'],\n",
    "    'C' : ['A','F'],\n",
    "    'F' : ['C','E']\n",
    "}\n",
    "\n",
    "visited_list = DFSTraversal(Graph_A)\n",
    "\n",
    "for vertex_key in visited_list:\n",
    "    print('Visited order of vertex', vertex_key, 'is', visited_list[vertex_key])"
   ]
  },
  {
   "cell_type": "code",
   "execution_count": 26,
   "metadata": {},
   "outputs": [
    {
     "name": "stdout",
     "output_type": "stream",
     "text": [
      "Visited order of vertex A is 1\n",
      "Visited order of vertex B is 4\n",
      "Visited order of vertex C is 6\n",
      "Visited order of vertex D is 5\n",
      "Visited order of vertex E is 8\n",
      "Visited order of vertex F is 7\n",
      "Visited order of vertex G is 3\n",
      "Visited order of vertex H is 2\n"
     ]
    }
   ],
   "source": [
    "# Test Case 2 - DFS Traversal\n",
    "\n",
    "Graph_B = {\n",
    "    'A' : ['H','B','G'],\n",
    "    'B' : ['D'],\n",
    "    'C' : ['F'],\n",
    "    'D' : ['B'],\n",
    "    'E' : ['F'],\n",
    "    'F' : ['E'],\n",
    "    'G' : ['A'],\n",
    "    'H' : ['G']\n",
    "}\n",
    "\n",
    "visited_list = DFSTraversal(Graph_B)\n",
    "\n",
    "for vertex_key in visited_list:\n",
    "    print('Visited order of vertex', vertex_key, 'is', visited_list[vertex_key])"
   ]
  },
  {
   "cell_type": "markdown",
   "metadata": {},
   "source": [
    "### 3. Johnson Trotter Algorithm"
   ]
  },
  {
   "cell_type": "markdown",
   "metadata": {},
   "source": [
    "ข้อสังเกตของการเขียนอัลกอริทึมข้อนี้คือ การที่เราจะต้องเขียนเงื่อนไขตัวแรกและตัวสุดท้าย เพื่อที่จะไม่ให้ Index out of range <br>\n",
    "กล่าวคือไม่ให้ตัวแรกเช็คตัวที่ i-1 ไม่งั้นจะไม่เจอ และ ตัวสุดท้ายไม่เช็คตัวที่ i+1 เช่นกัน"
   ]
  },
  {
   "cell_type": "code",
   "execution_count": 27,
   "metadata": {},
   "outputs": [],
   "source": [
    "def find_mobile(mobile_numlist, direction_list):\n",
    "\n",
    "    curr_list = mobile_numlist\n",
    "    curr_dir = direction_list\n",
    "\n",
    "    # Find the largest mobile number index\n",
    "    largest_mobile_index = 999\n",
    "    largest_mobile_value = float('-inf')  # Initialize\n",
    "\n",
    "\n",
    "    for i in range(len(curr_list)):\n",
    "\n",
    "        if i == 0:\n",
    "            if curr_dir[i] == 'right' and curr_list[i] > largest_mobile_value:\n",
    "                if curr_list[i] > curr_list[i+1]:\n",
    "                    largest_mobile_index = i\n",
    "                    largest_mobile_value = curr_list[i]  \n",
    "            else:\n",
    "                continue\n",
    "\n",
    "        elif i == len(curr_list)-1:\n",
    "            if curr_dir[i] == 'left' and curr_list[i] > largest_mobile_value:\n",
    "                largest_mobile_index = i\n",
    "                largest_mobile_value = curr_list[i]  \n",
    "            else:\n",
    "                continue\n",
    "\n",
    "        else:\n",
    "            if curr_dir[i] == 'right' and curr_list[i] > curr_list[i+1] and curr_list[i] > largest_mobile_value:\n",
    "                largest_mobile_index = i\n",
    "                largest_mobile_value = curr_list[i]  \n",
    "\n",
    "            elif curr_dir[i] == 'left' and curr_list[i] > curr_list[i-1] and curr_list[i] > largest_mobile_value:\n",
    "                largest_mobile_index = i\n",
    "                largest_mobile_value = curr_list[i] \n",
    "\n",
    "    if largest_mobile_index == 999:\n",
    "        return 999\n",
    "    else:\n",
    "        return largest_mobile_index\n",
    "\n",
    "def johnsonTrotter(number):\n",
    "\n",
    "    perms = []\n",
    "    \n",
    "    # First initialize the list\n",
    "    num_list = [int(i) for i in range(1,number+1)]\n",
    "\n",
    "    # Initialize the direction list\n",
    "    direction = ['left' for i in range(number)]\n",
    "\n",
    "    while True:\n",
    "\n",
    "        perms.append(num_list.copy())  # Use copy to avoid reference issues\n",
    "        \n",
    "        k = find_mobile(num_list, direction)\n",
    "\n",
    "\n",
    "        if k == 999:\n",
    "            break\n",
    "        \n",
    "        # Swap k with element that the arrow of k points to\n",
    "        if direction[k] == 'right':\n",
    "            num_list[k], num_list[k+1] = num_list[k+1], num_list[k]\n",
    "            direction[k], direction[k+1] = direction[k+1], direction[k]\n",
    "            update_index = k + 1\n",
    "\n",
    "        else:\n",
    "            num_list[k], num_list[k-1] = num_list[k-1], num_list[k]\n",
    "            direction[k], direction[k-1] = direction[k-1], direction[k]\n",
    "            update_index = k - 1\n",
    "\n",
    "        # Reverse the direction of all the elements greater than k\n",
    "        for i in range(number):\n",
    "            if num_list[i] > num_list[update_index]:\n",
    "                if direction[i] == 'left':\n",
    "                    direction[i] = 'right'\n",
    "                else:\n",
    "                    direction[i] = 'left'\n",
    "                    \n",
    "    return perms"
   ]
  },
  {
   "cell_type": "code",
   "execution_count": 28,
   "metadata": {},
   "outputs": [
    {
     "name": "stdout",
     "output_type": "stream",
     "text": [
      "[1, 2, 3, 4]\n",
      "[1, 2, 4, 3]\n",
      "[1, 4, 2, 3]\n",
      "[4, 1, 2, 3]\n",
      "[4, 1, 3, 2]\n",
      "[1, 4, 3, 2]\n",
      "[1, 3, 4, 2]\n",
      "[1, 3, 2, 4]\n",
      "[3, 1, 2, 4]\n",
      "[3, 1, 4, 2]\n",
      "[3, 4, 1, 2]\n",
      "[4, 3, 1, 2]\n",
      "[4, 3, 2, 1]\n",
      "[3, 4, 2, 1]\n",
      "[3, 2, 4, 1]\n",
      "[3, 2, 1, 4]\n",
      "[2, 3, 1, 4]\n",
      "[2, 3, 4, 1]\n",
      "[2, 4, 3, 1]\n",
      "[4, 2, 3, 1]\n",
      "[4, 2, 1, 3]\n",
      "[2, 4, 1, 3]\n",
      "[2, 1, 4, 3]\n",
      "[2, 1, 3, 4]\n",
      "Total permutations : 24\n",
      "Checked Answer :  24\n"
     ]
    }
   ],
   "source": [
    "#Test case - Johnson Trotter Case 1\n",
    "import math\n",
    "\n",
    "perms = johnsonTrotter(4)\n",
    "for perm in perms:\n",
    "    print(perm)\n",
    "\n",
    "print(f'Total permutations : {len(perms)}')\n",
    "\n",
    "# Checked the answer with mathematics equation\n",
    "# perms = n! = 4! = 24\n",
    "checked = math.factorial(4)\n",
    "\n",
    "print(\"Checked Answer : \" , checked)"
   ]
  },
  {
   "cell_type": "code",
   "execution_count": 55,
   "metadata": {},
   "outputs": [
    {
     "name": "stdout",
     "output_type": "stream",
     "text": [
      "[1, 2, 3, 4, 5]\n",
      "[1, 2, 3, 5, 4]\n",
      "[1, 2, 5, 3, 4]\n",
      "[1, 5, 2, 3, 4]\n",
      "[5, 1, 2, 3, 4]\n",
      "[5, 1, 2, 4, 3]\n",
      "[1, 5, 2, 4, 3]\n",
      "[1, 2, 5, 4, 3]\n",
      "[1, 2, 4, 5, 3]\n",
      "[1, 2, 4, 3, 5]\n",
      "[1, 4, 2, 3, 5]\n",
      "[1, 4, 2, 5, 3]\n",
      "[1, 4, 5, 2, 3]\n",
      "[1, 5, 4, 2, 3]\n",
      "[5, 1, 4, 2, 3]\n",
      "[5, 4, 1, 2, 3]\n",
      "[4, 5, 1, 2, 3]\n",
      "[4, 1, 5, 2, 3]\n",
      "[4, 1, 2, 5, 3]\n",
      "[4, 1, 2, 3, 5]\n",
      "[4, 1, 3, 2, 5]\n",
      "[4, 1, 3, 5, 2]\n",
      "[4, 1, 5, 3, 2]\n",
      "[4, 5, 1, 3, 2]\n",
      "[5, 4, 1, 3, 2]\n",
      "[5, 1, 4, 3, 2]\n",
      "[1, 5, 4, 3, 2]\n",
      "[1, 4, 5, 3, 2]\n",
      "[1, 4, 3, 5, 2]\n",
      "[1, 4, 3, 2, 5]\n",
      "[1, 3, 4, 2, 5]\n",
      "[1, 3, 4, 5, 2]\n",
      "[1, 3, 5, 4, 2]\n",
      "[1, 5, 3, 4, 2]\n",
      "[5, 1, 3, 4, 2]\n",
      "[5, 1, 3, 2, 4]\n",
      "[1, 5, 3, 2, 4]\n",
      "[1, 3, 5, 2, 4]\n",
      "[1, 3, 2, 5, 4]\n",
      "[1, 3, 2, 4, 5]\n",
      "[3, 1, 2, 4, 5]\n",
      "[3, 1, 2, 5, 4]\n",
      "[3, 1, 5, 2, 4]\n",
      "[3, 5, 1, 2, 4]\n",
      "[5, 3, 1, 2, 4]\n",
      "[5, 3, 1, 4, 2]\n",
      "[3, 5, 1, 4, 2]\n",
      "[3, 1, 5, 4, 2]\n",
      "[3, 1, 4, 5, 2]\n",
      "[3, 1, 4, 2, 5]\n",
      "[3, 4, 1, 2, 5]\n",
      "[3, 4, 1, 5, 2]\n",
      "[3, 4, 5, 1, 2]\n",
      "[3, 5, 4, 1, 2]\n",
      "[5, 3, 4, 1, 2]\n",
      "[5, 4, 3, 1, 2]\n",
      "[4, 5, 3, 1, 2]\n",
      "[4, 3, 5, 1, 2]\n",
      "[4, 3, 1, 5, 2]\n",
      "[4, 3, 1, 2, 5]\n",
      "[4, 3, 2, 1, 5]\n",
      "[4, 3, 2, 5, 1]\n",
      "[4, 3, 5, 2, 1]\n",
      "[4, 5, 3, 2, 1]\n",
      "[5, 4, 3, 2, 1]\n",
      "[5, 3, 4, 2, 1]\n",
      "[3, 5, 4, 2, 1]\n",
      "[3, 4, 5, 2, 1]\n",
      "[3, 4, 2, 5, 1]\n",
      "[3, 4, 2, 1, 5]\n",
      "[3, 2, 4, 1, 5]\n",
      "[3, 2, 4, 5, 1]\n",
      "[3, 2, 5, 4, 1]\n",
      "[3, 5, 2, 4, 1]\n",
      "[5, 3, 2, 4, 1]\n",
      "[5, 3, 2, 1, 4]\n",
      "[3, 5, 2, 1, 4]\n",
      "[3, 2, 5, 1, 4]\n",
      "[3, 2, 1, 5, 4]\n",
      "[3, 2, 1, 4, 5]\n",
      "[2, 3, 1, 4, 5]\n",
      "[2, 3, 1, 5, 4]\n",
      "[2, 3, 5, 1, 4]\n",
      "[2, 5, 3, 1, 4]\n",
      "[5, 2, 3, 1, 4]\n",
      "[5, 2, 3, 4, 1]\n",
      "[2, 5, 3, 4, 1]\n",
      "[2, 3, 5, 4, 1]\n",
      "[2, 3, 4, 5, 1]\n",
      "[2, 3, 4, 1, 5]\n",
      "[2, 4, 3, 1, 5]\n",
      "[2, 4, 3, 5, 1]\n",
      "[2, 4, 5, 3, 1]\n",
      "[2, 5, 4, 3, 1]\n",
      "[5, 2, 4, 3, 1]\n",
      "[5, 4, 2, 3, 1]\n",
      "[4, 5, 2, 3, 1]\n",
      "[4, 2, 5, 3, 1]\n",
      "[4, 2, 3, 5, 1]\n",
      "[4, 2, 3, 1, 5]\n",
      "[4, 2, 1, 3, 5]\n",
      "[4, 2, 1, 5, 3]\n",
      "[4, 2, 5, 1, 3]\n",
      "[4, 5, 2, 1, 3]\n",
      "[5, 4, 2, 1, 3]\n",
      "[5, 2, 4, 1, 3]\n",
      "[2, 5, 4, 1, 3]\n",
      "[2, 4, 5, 1, 3]\n",
      "[2, 4, 1, 5, 3]\n",
      "[2, 4, 1, 3, 5]\n",
      "[2, 1, 4, 3, 5]\n",
      "[2, 1, 4, 5, 3]\n",
      "[2, 1, 5, 4, 3]\n",
      "[2, 5, 1, 4, 3]\n",
      "[5, 2, 1, 4, 3]\n",
      "[5, 2, 1, 3, 4]\n",
      "[2, 5, 1, 3, 4]\n",
      "[2, 1, 5, 3, 4]\n",
      "[2, 1, 3, 5, 4]\n",
      "[2, 1, 3, 4, 5]\n",
      "Total permutations : 120\n",
      "Checked Answer :  120\n"
     ]
    }
   ],
   "source": [
    "perms = johnsonTrotter(5)\n",
    "for perm in perms:\n",
    "    print(perm)\n",
    "\n",
    "print(f'Total permutations : {len(perms)}')\n",
    "\n",
    "# Checked answer with mathematics equation\n",
    "# perms = n! = 5! = 120\n",
    "\n",
    "checked = math.factorial(5)\n",
    "\n",
    "print(\"Checked Answer : \" , checked)"
   ]
  },
  {
   "cell_type": "markdown",
   "metadata": {},
   "source": [
    "### 4. Binary Search"
   ]
  },
  {
   "cell_type": "code",
   "execution_count": 29,
   "metadata": {},
   "outputs": [],
   "source": [
    "def BinarySearch(A,K):\n",
    "    n = len(A)\n",
    "    l = 0\n",
    "    r = n - 1\n",
    "    while l <= r:\n",
    "        mid = (l + r) // 2\n",
    "        if A[mid] == K:\n",
    "            return mid\n",
    "        elif A[mid] > K:\n",
    "            r = mid - 1\n",
    "        else:\n",
    "            l = mid + 1\n",
    "    return -1"
   ]
  },
  {
   "cell_type": "code",
   "execution_count": 30,
   "metadata": {},
   "outputs": [
    {
     "name": "stdout",
     "output_type": "stream",
     "text": [
      "The index of element : 3 is in sequence number : 2\n"
     ]
    }
   ],
   "source": [
    "#Test case 1 - Binary Search\n",
    "A = [1,2,3,4,5]\n",
    "K = 3\n",
    "result = BinarySearch(A,K)\n",
    "print('The index of element :', K, 'is in sequence number :', result)"
   ]
  },
  {
   "cell_type": "code",
   "execution_count": 31,
   "metadata": {},
   "outputs": [
    {
     "name": "stdout",
     "output_type": "stream",
     "text": [
      "The index of element : 7 is in sequence number : 6\n"
     ]
    }
   ],
   "source": [
    "#Test case 2 - Binary Search\n",
    "B = [1,2,3,4,5,6,7,8,9,10]\n",
    "K = 7\n",
    "result = BinarySearch(B,K)\n",
    "print('The index of element :', K, 'is in sequence number :', result)"
   ]
  },
  {
   "cell_type": "markdown",
   "metadata": {},
   "source": [
    "### 5. Lomuto Partitioning"
   ]
  },
  {
   "cell_type": "code",
   "execution_count": 32,
   "metadata": {},
   "outputs": [],
   "source": [
    "def LomutoPartition(A,l,r):\n",
    "    p = A[l]\n",
    "    s = l\n",
    "    for i in range(l+1,r+1):\n",
    "        if A[i] < p:\n",
    "            s += 1\n",
    "            A[s], A[i] = A[i], A[s]\n",
    "    A[l], A[s] = A[s], A[l]\n",
    "    return s"
   ]
  },
  {
   "cell_type": "code",
   "execution_count": 33,
   "metadata": {},
   "outputs": [
    {
     "name": "stdout",
     "output_type": "stream",
     "text": [
      "The new pivot position : 1\n"
     ]
    }
   ],
   "source": [
    "#Test case 1 - Lomuto Partition\n",
    "A = [2,1,4,3,5]\n",
    "l = 0\n",
    "r = len(A) - 1\n",
    "result = LomutoPartition(A,l,r)\n",
    "print('The new pivot position :', result)"
   ]
  },
  {
   "cell_type": "code",
   "execution_count": 34,
   "metadata": {},
   "outputs": [
    {
     "name": "stdout",
     "output_type": "stream",
     "text": [
      "The new pivot position : 3\n"
     ]
    }
   ],
   "source": [
    "#Test case 2 - Lomuto Partition\n",
    "B = [4,3,2,1,5]\n",
    "l = 0\n",
    "r = len(B) - 1\n",
    "result = LomutoPartition(B,l,r)\n",
    "print('The new pivot position :', result)"
   ]
  },
  {
   "cell_type": "markdown",
   "metadata": {},
   "source": [
    "### 6. Quick Select (ภาคต่อ Lomuto Partition)"
   ]
  },
  {
   "cell_type": "code",
   "execution_count": 35,
   "metadata": {},
   "outputs": [],
   "source": [
    "def Quickselect(A,l,r,k):\n",
    "    s = LomutoPartition(A,l,r)\n",
    "    if s == k-1:\n",
    "        return A[s]\n",
    "    elif s > k-1:\n",
    "        return Quickselect(A,l,s-1,k)\n",
    "    else:\n",
    "        return Quickselect(A,s+1,r,k)"
   ]
  },
  {
   "cell_type": "code",
   "execution_count": 36,
   "metadata": {},
   "outputs": [
    {
     "name": "stdout",
     "output_type": "stream",
     "text": [
      "The 3-th smallest element is : 3\n"
     ]
    }
   ],
   "source": [
    "#Test case 1 - Quick Select\n",
    "A = [2,2,4,3,5,7,9]\n",
    "l = 0 # Pivot Position\n",
    "r = len(A) - 1\n",
    "k = 3\n",
    "result = Quickselect(A,l,r,k)\n",
    "print(f\"The {k}-th smallest element is : {result}\")"
   ]
  },
  {
   "cell_type": "code",
   "execution_count": 37,
   "metadata": {},
   "outputs": [
    {
     "name": "stdout",
     "output_type": "stream",
     "text": [
      "The List : [17, 9, 65, 19, 43, 66, 54, 81, 42, 97]\n",
      "The 4-th smallest element is : 42\n"
     ]
    }
   ],
   "source": [
    "#Test case 2 - Quick Select\n",
    "from random import randint\n",
    "B = [randint(1,100) for i in range(10)]\n",
    "print(\"The List :\" , B)\n",
    "\n",
    "l = 0 # Pivot Position\n",
    "r = len(B) - 1\n",
    "k = 4\n",
    "result = Quickselect(B,l,r,k)\n",
    "print(f\"The {k}-th smallest element is : {result}\")\n",
    "\n"
   ]
  },
  {
   "cell_type": "markdown",
   "metadata": {},
   "source": [
    "### Assignment 1 : Russian Peasant Multiplication\n",
    "\n",
    "Idea and concept reference : https://youtu.be/xrUCL7tGKaI?si=lQKscyxDJunXIv_7"
   ]
  },
  {
   "cell_type": "code",
   "execution_count": 38,
   "metadata": {},
   "outputs": [],
   "source": [
    "# Russian Peasant Multiplication\n",
    "def russian_peasant_multiplication(half, double):\n",
    "    total = 0\n",
    "    while half >= 1:\n",
    "        if half % 2 != 0:\n",
    "            total += double\n",
    "        half //= 2\n",
    "        double *= 2\n",
    "    return total"
   ]
  },
  {
   "cell_type": "code",
   "execution_count": 39,
   "metadata": {},
   "outputs": [
    {
     "name": "stdout",
     "output_type": "stream",
     "text": [
      "140\n"
     ]
    }
   ],
   "source": [
    "# Test Case 1 - Russian Peasant Multiplication\n",
    "print(russian_peasant_multiplication(20, 7)) # 140"
   ]
  },
  {
   "cell_type": "code",
   "execution_count": 40,
   "metadata": {},
   "outputs": [
    {
     "name": "stdout",
     "output_type": "stream",
     "text": [
      "384\n"
     ]
    }
   ],
   "source": [
    "# Test Case 2 - Russian Peasant Multiplication\n",
    "print(russian_peasant_multiplication(24, 16)) # 384"
   ]
  },
  {
   "cell_type": "markdown",
   "metadata": {},
   "source": [
    "### Assignment 2 : Interpolation Search\n",
    "\n",
    "Reference : https://www.youtube.com/watch?v=YSVS5GG1JuI&t=314s"
   ]
  },
  {
   "cell_type": "code",
   "execution_count": 41,
   "metadata": {},
   "outputs": [],
   "source": [
    "def interpolation_search(number_list, element):\n",
    "    low = 0\n",
    "    high = len(number_list) - 1\n",
    "    \n",
    "    while element >= number_list[low] and element <= number_list[high] and low <= high:\n",
    "        \n",
    "        probe = low + (high - low) * (element - number_list[low]) / (number_list[high] - number_list[low])\n",
    "        probe = int(probe)\n",
    "\n",
    "        if (number_list[probe] == element):\n",
    "            return probe\n",
    "        \n",
    "        elif (number_list[probe] < element):\n",
    "            low = probe + 1\n",
    "\n",
    "        else:\n",
    "            high = probe - 1\n",
    "\n",
    "    return -1"
   ]
  },
  {
   "cell_type": "code",
   "execution_count": 42,
   "metadata": {},
   "outputs": [
    {
     "name": "stdout",
     "output_type": "stream",
     "text": [
      "Element found at index : 7\n"
     ]
    }
   ],
   "source": [
    "# Test Case 1 - Interpolation Search\n",
    "number_list = [2, 4, 6, 8, 10, 12, 14, 16, 18, 20]\n",
    "element = 16\n",
    "\n",
    "index = interpolation_search(number_list, element)\n",
    "\n",
    "if (index != -1):\n",
    "    print(f\"Element found at index : {index}\")\n",
    "else:\n",
    "    print(\"Element not found\")"
   ]
  },
  {
   "cell_type": "code",
   "execution_count": 43,
   "metadata": {},
   "outputs": [
    {
     "name": "stdout",
     "output_type": "stream",
     "text": [
      "Element found at index : 8\n"
     ]
    }
   ],
   "source": [
    "# Test Case 2 - Interpolation Search\n",
    "number_list = [1, 2, 3, 4, 5, 6, 7, 8, 9, 10]\n",
    "element = 9\n",
    "\n",
    "index = interpolation_search(number_list, element)\n",
    "\n",
    "if (index != -1):\n",
    "    print(f\"Element found at index : {index}\")\n",
    "else:\n",
    "    print(\"Element not found\")"
   ]
  },
  {
   "cell_type": "code",
   "execution_count": 44,
   "metadata": {},
   "outputs": [
    {
     "name": "stdout",
     "output_type": "stream",
     "text": [
      "Element not found\n"
     ]
    }
   ],
   "source": [
    "# Test Case 3 - Interpolation Search\n",
    "number_list = [1, 3, 5, 7, 9, 11, 13, 15, 17, 19]\n",
    "element = 20\n",
    "\n",
    "index = interpolation_search(number_list, element)\n",
    "\n",
    "if (index != -1):\n",
    "    print(f\"Element found at index : {index}\")\n",
    "else:\n",
    "    print(\"Element not found\")"
   ]
  },
  {
   "cell_type": "markdown",
   "metadata": {},
   "source": [
    "<hr><br>\n",
    "<div style=\"text-align:center;\">\n",
    "    <b>เป็นคนไม่เอาถ่านบ้านมีเตาแก๊ส</b>\n",
    "    <p style=\"color: greenyellow;\">ศวิษฐ์ โกสียอัมพร 65070506026</p>\n",
    "    <p style=\"color: orange\">ธวัลรัตน์ โรจน์อมรรัตน์ 65070506037</p>\n",
    "    <p style=\"color: hotpink;\">ปุญชญา จันทร์เจริญ 65070506039</p>\n",
    "</div>"
   ]
  }
 ],
 "metadata": {
  "kernelspec": {
   "display_name": "Python 3",
   "language": "python",
   "name": "python3"
  },
  "language_info": {
   "codemirror_mode": {
    "name": "ipython",
    "version": 3
   },
   "file_extension": ".py",
   "mimetype": "text/x-python",
   "name": "python",
   "nbconvert_exporter": "python",
   "pygments_lexer": "ipython3",
   "version": "3.11.4"
  }
 },
 "nbformat": 4,
 "nbformat_minor": 2
}
