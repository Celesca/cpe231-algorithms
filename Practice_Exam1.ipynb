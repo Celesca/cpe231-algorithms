{
 "cells": [
  {
   "cell_type": "markdown",
   "metadata": {},
   "source": [
    "### Fast Food"
   ]
  },
  {
   "cell_type": "code",
   "execution_count": 21,
   "metadata": {},
   "outputs": [],
   "source": [
    "def knapsack(sex, budget):\n",
    "    \n",
    "    ## Knapsack problem\n",
    "    from itertools import permutations\n",
    "\n",
    "    # Initialize the variables\n",
    "    food = [\"Burger\", \"Pizza\", \"Pasta\", \"Noodles\", \"Sandwich\"]\n",
    "    calories = [300, 500, 400, 200, 250]\n",
    "    price = [50, 100, 80, 60, 40]\n",
    "\n",
    "    if sex == \"m\":\n",
    "        need_calories = 2000\n",
    "    elif sex == \"f\":\n",
    "        need_calories = 1500\n",
    "    else: # Exception\n",
    "        raise ValueError(\"Sex can only be 'm' or 'f'\")  \n",
    "\n",
    "\n",
    "    # Choose 3 meals that are within the budget\n",
    "\n",
    "    indexes = list(permutations(range(5), 3))\n",
    "    \n",
    "    ans = [] \n",
    "\n",
    "    for epoch in indexes:\n",
    "\n",
    "        total_calories = 0\n",
    "        total_price = 0\n",
    "\n",
    "        for number in epoch:\n",
    "            total_calories += calories[number]\n",
    "            total_price += price[number]\n",
    "\n",
    "        if total_price <= budget and total_calories >= need_calories:\n",
    "\n",
    "            \n",
    "            print(\"Total Calories : \", total_calories)\n",
    "            print(\"Total Price : \", total_price)\n",
    "        \n",
    "        \n",
    "        ans.append([epoch, total_calories, total_price])\n",
    "\n",
    "    # Find the best combination\n",
    "    max_val = 0\n",
    "    for i in ans:\n",
    "        value = i[1] * i[2]\n",
    "        \n",
    "        if value >= max_val:\n",
    "            max_val = value\n",
    "            best_comb = i[0]\n",
    "\n",
    "    best_food = [food[i] for i in best_comb]\n",
    "    return best_food"
   ]
  },
  {
   "cell_type": "code",
   "execution_count": 22,
   "metadata": {},
   "outputs": [
    {
     "name": "stdout",
     "output_type": "stream",
     "text": [
      "You should eat Pasta in the Morning time\n",
      "You should eat Pizza in the Afternoon time\n",
      "You should eat Burger in the Evening time\n"
     ]
    }
   ],
   "source": [
    "## Input\n",
    "sex = input(\"Enter your sex (m/f): \")\n",
    "budget = int(input(\"Enter your budget : \"))\n",
    "\n",
    "best_combo = knapsack(sex, budget)\n",
    "\n",
    "meal_time = {0:\"Morning\", 1:\"Afternoon\", 2:\"Evening\"}\n",
    "\n",
    "for food in best_combo:\n",
    "\n",
    "    print(\"You should eat\", food, \"in the\", meal_time[best_combo.index(food)], \"time\")"
   ]
  },
  {
   "cell_type": "markdown",
   "metadata": {},
   "source": [
    "### DNA Sequence"
   ]
  },
  {
   "cell_type": "code",
   "execution_count": 23,
   "metadata": {},
   "outputs": [],
   "source": [
    "def DNA_comparison(real_DNA, DNA):\n",
    "    score = 0\n",
    "    for i in range(len(real_DNA)):\n",
    "        if real_DNA[i] == DNA[i]:\n",
    "            score += 1\n",
    "    return score/ len(real_DNA)"
   ]
  },
  {
   "cell_type": "code",
   "execution_count": 25,
   "metadata": {},
   "outputs": [
    {
     "name": "stdout",
     "output_type": "stream",
     "text": [
      "Percent :  0.5555555555555556\n"
     ]
    }
   ],
   "source": [
    "real_DNA = \"ACTCGTACG\"\n",
    "print(\"Percent : \" ,DNA_comparison(real_DNA, \"ACCCCCCCG\"))"
   ]
  }
 ],
 "metadata": {
  "kernelspec": {
   "display_name": "Python 3",
   "language": "python",
   "name": "python3"
  },
  "language_info": {
   "codemirror_mode": {
    "name": "ipython",
    "version": 3
   },
   "file_extension": ".py",
   "mimetype": "text/x-python",
   "name": "python",
   "nbconvert_exporter": "python",
   "pygments_lexer": "ipython3",
   "version": "3.11.4"
  }
 },
 "nbformat": 4,
 "nbformat_minor": 2
}
