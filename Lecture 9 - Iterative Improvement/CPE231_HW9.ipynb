{
 "cells": [
  {
   "cell_type": "markdown",
   "metadata": {},
   "source": [
    "# Iterative Improvement"
   ]
  },
  {
   "cell_type": "markdown",
   "metadata": {},
   "source": [
    "### Maximum Bipartite Matching"
   ]
  },
  {
   "cell_type": "code",
   "execution_count": 2,
   "metadata": {},
   "outputs": [
    {
     "ename": "AmbiguousSolution",
     "evalue": "Disconnected graph: Ambiguous solution for bipartite sets.",
     "output_type": "error",
     "traceback": [
      "\u001b[1;31m---------------------------------------------------------------------------\u001b[0m",
      "\u001b[1;31mAmbiguousSolution\u001b[0m                         Traceback (most recent call last)",
      "Cell \u001b[1;32mIn[2], line 14\u001b[0m\n\u001b[0;32m     11\u001b[0m G\u001b[38;5;241m.\u001b[39madd_edges_from([(\u001b[38;5;124m'\u001b[39m\u001b[38;5;124mA\u001b[39m\u001b[38;5;124m'\u001b[39m, \u001b[38;5;124m'\u001b[39m\u001b[38;5;124mX\u001b[39m\u001b[38;5;124m'\u001b[39m), (\u001b[38;5;124m'\u001b[39m\u001b[38;5;124mA\u001b[39m\u001b[38;5;124m'\u001b[39m, \u001b[38;5;124m'\u001b[39m\u001b[38;5;124mY\u001b[39m\u001b[38;5;124m'\u001b[39m), (\u001b[38;5;124m'\u001b[39m\u001b[38;5;124mB\u001b[39m\u001b[38;5;124m'\u001b[39m, \u001b[38;5;124m'\u001b[39m\u001b[38;5;124mX\u001b[39m\u001b[38;5;124m'\u001b[39m), (\u001b[38;5;124m'\u001b[39m\u001b[38;5;124mC\u001b[39m\u001b[38;5;124m'\u001b[39m, \u001b[38;5;124m'\u001b[39m\u001b[38;5;124mY\u001b[39m\u001b[38;5;124m'\u001b[39m), (\u001b[38;5;124m'\u001b[39m\u001b[38;5;124mD\u001b[39m\u001b[38;5;124m'\u001b[39m, \u001b[38;5;124m'\u001b[39m\u001b[38;5;124mZ\u001b[39m\u001b[38;5;124m'\u001b[39m)])\n\u001b[0;32m     13\u001b[0m \u001b[38;5;66;03m# Find the maximum bipartite matching\u001b[39;00m\n\u001b[1;32m---> 14\u001b[0m matching \u001b[38;5;241m=\u001b[39m \u001b[43mnx\u001b[49m\u001b[38;5;241;43m.\u001b[39;49m\u001b[43mbipartite\u001b[49m\u001b[38;5;241;43m.\u001b[39;49m\u001b[43mmaximum_matching\u001b[49m\u001b[43m(\u001b[49m\u001b[43mG\u001b[49m\u001b[43m)\u001b[49m\n\u001b[0;32m     16\u001b[0m \u001b[38;5;66;03m# Print the matching pairs\u001b[39;00m\n\u001b[0;32m     17\u001b[0m \u001b[38;5;28;01mfor\u001b[39;00m node1, node2 \u001b[38;5;129;01min\u001b[39;00m matching\u001b[38;5;241m.\u001b[39mitems():\n",
      "File \u001b[1;32mc:\\Users\\folks\\AppData\\Local\\Programs\\Python\\Python311\\Lib\\site-packages\\networkx\\algorithms\\bipartite\\matching.py:155\u001b[0m, in \u001b[0;36mhopcroft_karp_matching\u001b[1;34m(G, top_nodes)\u001b[0m\n\u001b[0;32m    152\u001b[0m     \u001b[38;5;28;01mreturn\u001b[39;00m \u001b[38;5;28;01mTrue\u001b[39;00m\n\u001b[0;32m    154\u001b[0m \u001b[38;5;66;03m# Initialize the \"global\" variables that maintain state during the search.\u001b[39;00m\n\u001b[1;32m--> 155\u001b[0m left, right \u001b[38;5;241m=\u001b[39m \u001b[43mbipartite_sets\u001b[49m\u001b[43m(\u001b[49m\u001b[43mG\u001b[49m\u001b[43m,\u001b[49m\u001b[43m \u001b[49m\u001b[43mtop_nodes\u001b[49m\u001b[43m)\u001b[49m\n\u001b[0;32m    156\u001b[0m leftmatches \u001b[38;5;241m=\u001b[39m {v: \u001b[38;5;28;01mNone\u001b[39;00m \u001b[38;5;28;01mfor\u001b[39;00m v \u001b[38;5;129;01min\u001b[39;00m left}\n\u001b[0;32m    157\u001b[0m rightmatches \u001b[38;5;241m=\u001b[39m {v: \u001b[38;5;28;01mNone\u001b[39;00m \u001b[38;5;28;01mfor\u001b[39;00m v \u001b[38;5;129;01min\u001b[39;00m right}\n",
      "File \u001b[1;32mc:\\Users\\folks\\AppData\\Local\\Programs\\Python\\Python311\\Lib\\site-packages\\networkx\\algorithms\\bipartite\\basic.py:214\u001b[0m, in \u001b[0;36msets\u001b[1;34m(G, top_nodes)\u001b[0m\n\u001b[0;32m    212\u001b[0m \u001b[38;5;28;01mif\u001b[39;00m \u001b[38;5;129;01mnot\u001b[39;00m is_connected(G):\n\u001b[0;32m    213\u001b[0m     msg \u001b[38;5;241m=\u001b[39m \u001b[38;5;124m\"\u001b[39m\u001b[38;5;124mDisconnected graph: Ambiguous solution for bipartite sets.\u001b[39m\u001b[38;5;124m\"\u001b[39m\n\u001b[1;32m--> 214\u001b[0m     \u001b[38;5;28;01mraise\u001b[39;00m nx\u001b[38;5;241m.\u001b[39mAmbiguousSolution(msg)\n\u001b[0;32m    215\u001b[0m c \u001b[38;5;241m=\u001b[39m color(G)\n\u001b[0;32m    216\u001b[0m X \u001b[38;5;241m=\u001b[39m {n \u001b[38;5;28;01mfor\u001b[39;00m n, is_top \u001b[38;5;129;01min\u001b[39;00m c\u001b[38;5;241m.\u001b[39mitems() \u001b[38;5;28;01mif\u001b[39;00m is_top}\n",
      "\u001b[1;31mAmbiguousSolution\u001b[0m: Disconnected graph: Ambiguous solution for bipartite sets."
     ]
    }
   ],
   "source": [
    "class MaximumBipartiteMatching():\n",
    "    def __init__(self,graph):\n",
    "        self.graph = graph\n",
    "        self.U = len(graph)\n",
    "        self.V = len(graph[0])\n",
    "\n",
    "        self.M = [-1] * self.V\n",
    "        self.Mc = [False] * self.V\n",
    "\n",
    "\n",
    "# bipartite Graph จะมี สอง set ของ vertex ที่ไม่มีเส้นเชื่อมกันใน set เดียวกัน\n",
    "# แนวตั้งคือ set 1 แนวนอนคือ set 2 ถ้าหากมี 1 แสดงว่า มีเส้นเชื่อมระหว่าง set 1 และ set 2\n",
    "\n",
    "\n",
    "bipartiteGraph = [\n",
    "    [0, 1, 1, 0, 0, 0],\n",
    "    [1, 0, 0, 1, 0, 0],\n",
    "    [0, 0, 1, 0, 0, 0],\n",
    "    [0, 0, 1, 1, 0, 0],\n",
    "    [0, 0, 0, 0, 0, 0],\n",
    "    [0, 0, 0, 0, 0, 1]\n",
    "]\n",
    "myGraph = MaximumBipartiteMatching(bipartiteGraph)\n",
    "\n",
    " "
   ]
  },
  {
   "cell_type": "code",
   "execution_count": null,
   "metadata": {},
   "outputs": [],
   "source": []
  }
 ],
 "metadata": {
  "kernelspec": {
   "display_name": "Python 3",
   "language": "python",
   "name": "python3"
  },
  "language_info": {
   "codemirror_mode": {
    "name": "ipython",
    "version": 3
   },
   "file_extension": ".py",
   "mimetype": "text/x-python",
   "name": "python",
   "nbconvert_exporter": "python",
   "pygments_lexer": "ipython3",
   "version": "3.11.4"
  }
 },
 "nbformat": 4,
 "nbformat_minor": 2
}
