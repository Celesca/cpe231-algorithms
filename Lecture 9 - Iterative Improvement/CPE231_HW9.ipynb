{
 "cells": [
  {
   "cell_type": "markdown",
   "metadata": {},
   "source": [
    "# Iterative Improvement"
   ]
  },
  {
   "cell_type": "markdown",
   "metadata": {},
   "source": [
    "Iterative Improvement หรือ Iterative Refinement คือ อัลกอริทึมที่มีไว้เพื่อแก้ปัญหา Optimization <br>\n",
    "กล่าวคือหาคำตอบที่ Optimal ที่ยอมรับได้ที่ดีที่สุดภายใต้เงื่อนไขต่างๆของโจทย์ โดยมีขั้นตอนดังนี้\n",
    "\n",
    "1. เริ่มที่ปัญหาที่มี feasible solution ให้มาอยู่แล้ว\n",
    "2. ทำการวนซ้ำเพื่อ Improve ค่าของคำตอบที่เราต้องการทีละเล็กน้อย จนกว่าจะไม่สามารถเปลี่ยนค่าให้ดีขึ้นกว่านี้ได้อีก\n",
    "3. ได้คำตอบ Optimal solution\n",
    "\n",
    "ฉะนั้น Keyword ของ Iterative Improvement คือ \n",
    "<p style=\"color:yellow;\">การเพิ่มประสิทธิภาพของคำตอบทีละเล็กน้อย จนไม่สามารถ Improve ได้อีก ก็จะได้เป็น Optimal Solution</p>\n",
    "\n",
    "ตัวอย่างปัญหาที่ใช้ Iterative Improvement ได้แก่\n",
    "\n",
    "##  1. Maximum Matching in Bipartite graphs problem\n",
    "\n",
    "Bipartite graphs คือกราฟของเซ็ต V และ U ที่มี edge เชื่อมต่อไปยังอีกเซ็ตทุกตัว \\\n",
    "Graph จะเป็น Bipartite ก็ต่อเมื่อมันไม่มีวงปิด (cycle) ขนาดคี่ตัว \\\n",
    "อีกข้อที่สังเกตได้คือ สมมติให้กราฟสองเซ็ตมี 2 สี เมื่อเราวาดกราฟแล้ว กราฟสีเดียวกันจะไม่มี edge โยงถึงกัน\n",
    "\n",
    "<img src=\"bipartite_color.PNG\" style=\"height:300px;\">\n",
    "\n",
    "* นิยามของ Matching คือ ซับเซ็ตของ edges ที่ไม่ได้มี 2 edge ต่อมาจาก vertex เดียวกัน <br> พูดง่ายๆก็คือ เวลา matching ห้ามจับ vertex ซ้ำกัน\n",
    "<br> ยกตัวอย่า่งเช่น { (1,6) , (1,7)} ถือว่าไม่ใช่การ matching เนื่องจากมี edge ที่จับโหนด 1 ซ้ำกันสองตัว\n",
    "\n",
    "* ในอัลกอริทึมนี้จะกำหนดให้ เซ็ตของ M คือ edges ที่ถูก Matching แล้ว ส่วน เซ็ตของ Mc คือ edges ที่ยังไม่ถูกเลือก\n",
    "\n",
    "  - Vertex จะ unmatched เมื่อไม่มี edge มาต่อกับมันใน เซ็ตของ edges ที่ Match (เซ็ต M)\n",
    "  - Maximum matching คือ การ matching ที่มีจำนวน edges มากที่สุด และทุก ๆ Vertex ถูก Match\n",
    "  - Maximum matching โดยปกติจะมีใน Bipartite graph อยู่แล้ว แต่มันไม่ unique กล่าวคือมีได้หลายแบบ\n",
    "  - ถ้าหากยังมี Vertex ที่ยังไม่ Matched เซ็ตของ M ก็ยังสามารถหาคำตอบได้อีก\n",
    "\n",
    "* หลักการ Augmenting path คือเลือก matching ที่อยู่ในเซ็ต M ขึ้นมา 1 ตัว จากนั้น เลือกคู่ของ edges ที่ <br>\n",
    "เชื่อมต่อประกบ Matching ของตัวนั้น คือมันเชื่อมถึงกันได้นั่นเอง ยกตัวอย่างเช่น\n",
    "ถ้าหากเลือก (1,6) จาก matching เราสามารถหาคู่ที่มาสร้างเป็น <br> Augmentation along path ได้ตัวอย่างเช่น\n",
    "Augmentation along path { (2,6) , (6,1) , (1,7) } <br> หากสังเกตง่ายๆ คือคู่ที่เลือกมา จะมี Vertex ที่ต่อกับตัว Matching ที่เราเลือกมา\n",
    "จากนั้นเราเพิ่มคู่ที่เลือกมาใหม่เข้าไปใน M <br> และตัดตัวที่เลือกจาก Matching มาในตอนแรกออกจาก M ทำจน Vertex ทุกตัวถูกเลือก\n"
   ]
  },
  {
   "cell_type": "code",
   "execution_count": 1,
   "metadata": {},
   "outputs": [
    {
     "name": "stdout",
     "output_type": "stream",
     "text": [
      "Matching: [(4, 8), (2, 6), (1, 7), (4, 9)]\n",
      "Remaining candidates: [(3, 6), (3, 8), (4, 10), (5, 10)]\n",
      "No more augmenting\n"
     ]
    }
   ],
   "source": [
    "def checkMaximumMatching(M, vertices):\n",
    "    check = set()\n",
    "    for edge in M:\n",
    "        check.add(edge[0])\n",
    "        check.add(edge[1])\n",
    "    return check == vertices\n",
    "\n",
    "def AugmentingPath(M, MC):\n",
    "    for edge in M:\n",
    "        consider_edge = edge\n",
    "        \n",
    "        selected_first_edge = \"\"\n",
    "        for first_edge in MC:\n",
    "            if consider_edge[0] == first_edge[1]:\n",
    "                selected_first_edge = first_edge\n",
    "                break\n",
    "            elif consider_edge[1] == first_edge[1]:\n",
    "                selected_first_edge = first_edge\n",
    "                consider_edge = edge[::-1]\n",
    "                break\n",
    "\n",
    "        selected_second_edge = \"\"\n",
    "        for second_edge in MC:\n",
    "            if second_edge == selected_first_edge:\n",
    "                break\n",
    "            if consider_edge[1] == second_edge[0] and second_edge[1] != consider_edge[0]:\n",
    "                selected_second_edge = second_edge\n",
    "                break\n",
    "            elif consider_edge[1] == second_edge[1] and second_edge[::-1] != consider_edge[0]:\n",
    "                selected_second_edge = second_edge[::-1]\n",
    "                break\n",
    "\n",
    "        selected_third_edge = \"\"\n",
    "        for pickup_second_edge in M:\n",
    "            if pickup_second_edge == consider_edge:\n",
    "                break\n",
    "\n",
    "            for third_edge in MC:\n",
    "                if third_edge == selected_first_edge or third_edge == selected_second_edge:\n",
    "                    continue\n",
    "                if pickup_second_edge[1] == third_edge[0] and third_edge[1] != pickup_second_edge[0]:\n",
    "                    selected_third_edge = third_edge\n",
    "                    break\n",
    "                elif pickup_second_edge[1] == third_edge[1] and third_edge[::-1] != pickup_second_edge[0]:\n",
    "                    selected_third_edge = third_edge\n",
    "                    break\n",
    "\n",
    "        if selected_first_edge and selected_second_edge:\n",
    "            if selected_third_edge:  # If third edge found\n",
    "                MC.remove(selected_first_edge)\n",
    "                MC.remove(selected_second_edge)\n",
    "                MC.remove(selected_third_edge)\n",
    "                M.append(selected_first_edge)\n",
    "                M.append(selected_second_edge)\n",
    "                M.append(selected_third_edge)\n",
    "                try:\n",
    "                    M.remove(consider_edge)\n",
    "                except:\n",
    "                    M.remove(consider_edge[::-1])\n",
    "                M.remove(pickup_second_edge)\n",
    "            else:  # If no third edge found\n",
    "                MC.remove(selected_first_edge)\n",
    "                MC.remove(selected_second_edge)\n",
    "                M.append(selected_first_edge)\n",
    "                M.append(selected_second_edge)\n",
    "                try:\n",
    "                    M.remove(consider_edge)\n",
    "                except:\n",
    "                    M.remove(consider_edge[::-1])\n",
    "                M.remove(pickup_second_edge)\n",
    "                \n",
    "            return True\n",
    "        \n",
    "    return False\n",
    "\n",
    "V = {1, 2, 3, 4, 5}\n",
    "U = {6, 7, 8, 9, 10}\n",
    "vertices = V.union(U)\n",
    "\n",
    "M = [(1, 6), (4, 8), (5, 9)]  # Edges represented as tuples\n",
    "MC = [(1, 7), (2, 6), (3, 6), (3, 8), (4, 9), (4, 10), (5, 10)]\n",
    "\n",
    "while not checkMaximumMatching(M, vertices):\n",
    "    augmenting = AugmentingPath(M, MC)\n",
    "    if not augmenting:\n",
    "        print(\"No more augmenting\")\n",
    "        break\n",
    "    print(\"Matching:\", M)\n",
    "    print(\"Remaining candidates:\", MC)\n"
   ]
  },
  {
   "cell_type": "markdown",
   "metadata": {},
   "source": [
    "---"
   ]
  },
  {
   "cell_type": "markdown",
   "metadata": {},
   "source": [
    "\n",
    "## 2. Stable marriage problem"
   ]
  },
  {
   "cell_type": "markdown",
   "metadata": {},
   "source": [
    "เพราะความรักมักซับซ้อน ทุกคนจะต้องมีคู่แต่อาจจะไม่ใช่คู่ที่หวังไว้เป็นอันกับ 1 ในใจ แต่ก็ถือว่ายังพึงพอใจกับคู่ที่ได้แต่งงานกัน\\\n",
    "หลักการคือ ผู้ชาย และ ผู้หญิง จะมีคนในใจอยู่แล้วโดยจะไล่ลำดับไว้ โดยเราจะนำมาจับคู่เพื่อหาคู่ที่ Stable ที่สุด โดย"
   ]
  },
  {
   "cell_type": "markdown",
   "metadata": {},
   "source": [
    "<img src=\"marriage_1.PNG\" style=\"height: 300px;\">\n",
    "<img src=\"marriage_2.PNG\" style=\"height: 300px;\">"
   ]
  },
  {
   "cell_type": "markdown",
   "metadata": {},
   "source": [
    "- เริ่มพิจารณาจากการเช็คว่าผู้ชายและผู้หญิงทุกคนในตอนแรกนั้น 'โสด'\n",
    "- พิจารณาที่ Bob โดย Bob ให้ Lea เป็นอันดับ 1 ในใจ เลยขอ Lea หมั้นและ Lea ก็ตอบตกลงเพราะ Lea ให้ Bob เป็นอันดับ 2 ในใจ\n",
    "- ต่อมาพิจารณาที่ Jim โดยที่ Jim ก็ให้ Lea เป็น อันดับ 1 ในใจเหมือนกัน แต่เมื่อลองขอ Lea หมั้น กลับถูกปฏิเสธเพราะ Lea ให้ Jim\\\n",
    "เป็นอันดับ 3 ก็คือชอบ Bob มากกว่า Jim\n",
    "- ทำให้ Jim ขยับมาขอหมั้น Sue สาวที่ Jim ชอบเป็นอันดับ 2 แทน และ Sue ก้ได้ตอบตกลงเพราะชอบ Jim เป็นอับดับ 1 ในใจอยู่แล้ว\n",
    "- ต่อมาพิจารณาที่ Tom ซึ่ง Tom ไม่สามารถขอ Sue ที่ตัวเองชอบเป็นที่ 1 ในใจได้เพราะ Sue ชอบ Jim ที่สุด ทำให้ Tom มาขอหมั้น Lea\\\n",
    "ที่ชอบเป็นอับดับ 2 โดยที่ Lea นั้นก็ชอบ Tom เป็นอันดับ 1 ในใจของเธอ ทำให้ขอถอนหมั้นกับ Bob แล้วมาหมั้นกับ Tom แทน\n",
    "- สุดท้ายแล้ว Bob จึงมาขอหมั้นกับ Ann และได้คู่แต่งกงานที่ Perfect ที่สุด"
   ]
  },
  {
   "cell_type": "code",
   "execution_count": null,
   "metadata": {},
   "outputs": [
    {
     "name": "stdout",
     "output_type": "stream",
     "text": [
      "Stable Matching (Man marriage Woman):\n",
      "Bob marriage Ann\n",
      "Jim marriage Sue\n",
      "Tom marriage Lea\n"
     ]
    }
   ],
   "source": [
    "def stable_marriage_women_proposing(men_pref, women_pref):\n",
    "    n = len(men_pref)\n",
    "    men_status = {man: None for man in men_pref}\n",
    "    women_status = {woman: None for woman in women_pref}\n",
    "    free_men = list(men_pref.keys())\n",
    "\n",
    "    while free_men:\n",
    "        man = free_men.pop(0)\n",
    "        woman = men_pref[man].pop(0)\n",
    "\n",
    "        if women_status.get(woman) is None:\n",
    "            women_status[woman] = man\n",
    "            men_status[man] = woman\n",
    "        else:\n",
    "            current_man = women_status[woman]\n",
    "            if women_pref[woman].index(man) < women_pref[woman].index(current_man):\n",
    "                men_status[current_man] = None\n",
    "                free_men.append(current_man)\n",
    "                women_status[woman] = man\n",
    "                men_status[man] = woman\n",
    "            else:\n",
    "                free_men.append(man)\n",
    "\n",
    "    return men_status\n",
    "\n",
    "# Example preferences\n",
    "men_preferences = {\n",
    "    'Bob': ['Lea', 'Ann', 'Sue'],\n",
    "    'Jim': ['Lea', 'Sue', 'Ann'],\n",
    "    'Tom': ['Sue', 'Lea', 'Ann']\n",
    "}\n",
    "\n",
    "women_preferences = {\n",
    "    'Ann': ['Jim', 'Tom', 'Bob'],\n",
    "    'Lea': ['Tom', 'Bob', 'Jim'],\n",
    "    'Sue': ['Jim', 'Tom', 'Bob']\n",
    "}\n",
    "\n",
    "# Finding stable matching\n",
    "stable_matching = stable_marriage_women_proposing(men_preferences, women_preferences)\n",
    "print(\"Stable Matching (Man marriage Woman):\")\n",
    "for man, woman in stable_matching.items():\n",
    "    print(f\"{man} marriage {woman}\")"
   ]
  }
 ],
 "metadata": {
  "kernelspec": {
   "display_name": "Python 3",
   "language": "python",
   "name": "python3"
  },
  "language_info": {
   "codemirror_mode": {
    "name": "ipython",
    "version": 3
   },
   "file_extension": ".py",
   "mimetype": "text/x-python",
   "name": "python",
   "nbconvert_exporter": "python",
   "pygments_lexer": "ipython3",
   "version": "3.11.4"
  }
 },
 "nbformat": 4,
 "nbformat_minor": 2
}
