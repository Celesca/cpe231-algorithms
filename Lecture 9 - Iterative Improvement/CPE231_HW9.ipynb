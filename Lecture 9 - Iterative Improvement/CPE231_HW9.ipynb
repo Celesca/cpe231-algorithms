{
 "cells": [
  {
   "cell_type": "markdown",
   "metadata": {},
   "source": [
    "# Iterative Improvement"
   ]
  },
  {
   "cell_type": "markdown",
   "metadata": {},
   "source": [
    "### Maximum Bipartite Matching"
   ]
  },
  {
   "cell_type": "code",
   "execution_count": 2,
   "metadata": {},
   "outputs": [
    {
     "ename": "AmbiguousSolution",
     "evalue": "Disconnected graph: Ambiguous solution for bipartite sets.",
     "output_type": "error",
     "traceback": [
      "\u001b[1;31m---------------------------------------------------------------------------\u001b[0m",
      "\u001b[1;31mAmbiguousSolution\u001b[0m                         Traceback (most recent call last)",
      "Cell \u001b[1;32mIn[2], line 14\u001b[0m\n\u001b[0;32m     11\u001b[0m G\u001b[38;5;241m.\u001b[39madd_edges_from([(\u001b[38;5;124m'\u001b[39m\u001b[38;5;124mA\u001b[39m\u001b[38;5;124m'\u001b[39m, \u001b[38;5;124m'\u001b[39m\u001b[38;5;124mX\u001b[39m\u001b[38;5;124m'\u001b[39m), (\u001b[38;5;124m'\u001b[39m\u001b[38;5;124mA\u001b[39m\u001b[38;5;124m'\u001b[39m, \u001b[38;5;124m'\u001b[39m\u001b[38;5;124mY\u001b[39m\u001b[38;5;124m'\u001b[39m), (\u001b[38;5;124m'\u001b[39m\u001b[38;5;124mB\u001b[39m\u001b[38;5;124m'\u001b[39m, \u001b[38;5;124m'\u001b[39m\u001b[38;5;124mX\u001b[39m\u001b[38;5;124m'\u001b[39m), (\u001b[38;5;124m'\u001b[39m\u001b[38;5;124mC\u001b[39m\u001b[38;5;124m'\u001b[39m, \u001b[38;5;124m'\u001b[39m\u001b[38;5;124mY\u001b[39m\u001b[38;5;124m'\u001b[39m), (\u001b[38;5;124m'\u001b[39m\u001b[38;5;124mD\u001b[39m\u001b[38;5;124m'\u001b[39m, \u001b[38;5;124m'\u001b[39m\u001b[38;5;124mZ\u001b[39m\u001b[38;5;124m'\u001b[39m)])\n\u001b[0;32m     13\u001b[0m \u001b[38;5;66;03m# Find the maximum bipartite matching\u001b[39;00m\n\u001b[1;32m---> 14\u001b[0m matching \u001b[38;5;241m=\u001b[39m \u001b[43mnx\u001b[49m\u001b[38;5;241;43m.\u001b[39;49m\u001b[43mbipartite\u001b[49m\u001b[38;5;241;43m.\u001b[39;49m\u001b[43mmaximum_matching\u001b[49m\u001b[43m(\u001b[49m\u001b[43mG\u001b[49m\u001b[43m)\u001b[49m\n\u001b[0;32m     16\u001b[0m \u001b[38;5;66;03m# Print the matching pairs\u001b[39;00m\n\u001b[0;32m     17\u001b[0m \u001b[38;5;28;01mfor\u001b[39;00m node1, node2 \u001b[38;5;129;01min\u001b[39;00m matching\u001b[38;5;241m.\u001b[39mitems():\n",
      "File \u001b[1;32mc:\\Users\\folks\\AppData\\Local\\Programs\\Python\\Python311\\Lib\\site-packages\\networkx\\algorithms\\bipartite\\matching.py:155\u001b[0m, in \u001b[0;36mhopcroft_karp_matching\u001b[1;34m(G, top_nodes)\u001b[0m\n\u001b[0;32m    152\u001b[0m     \u001b[38;5;28;01mreturn\u001b[39;00m \u001b[38;5;28;01mTrue\u001b[39;00m\n\u001b[0;32m    154\u001b[0m \u001b[38;5;66;03m# Initialize the \"global\" variables that maintain state during the search.\u001b[39;00m\n\u001b[1;32m--> 155\u001b[0m left, right \u001b[38;5;241m=\u001b[39m \u001b[43mbipartite_sets\u001b[49m\u001b[43m(\u001b[49m\u001b[43mG\u001b[49m\u001b[43m,\u001b[49m\u001b[43m \u001b[49m\u001b[43mtop_nodes\u001b[49m\u001b[43m)\u001b[49m\n\u001b[0;32m    156\u001b[0m leftmatches \u001b[38;5;241m=\u001b[39m {v: \u001b[38;5;28;01mNone\u001b[39;00m \u001b[38;5;28;01mfor\u001b[39;00m v \u001b[38;5;129;01min\u001b[39;00m left}\n\u001b[0;32m    157\u001b[0m rightmatches \u001b[38;5;241m=\u001b[39m {v: \u001b[38;5;28;01mNone\u001b[39;00m \u001b[38;5;28;01mfor\u001b[39;00m v \u001b[38;5;129;01min\u001b[39;00m right}\n",
      "File \u001b[1;32mc:\\Users\\folks\\AppData\\Local\\Programs\\Python\\Python311\\Lib\\site-packages\\networkx\\algorithms\\bipartite\\basic.py:214\u001b[0m, in \u001b[0;36msets\u001b[1;34m(G, top_nodes)\u001b[0m\n\u001b[0;32m    212\u001b[0m \u001b[38;5;28;01mif\u001b[39;00m \u001b[38;5;129;01mnot\u001b[39;00m is_connected(G):\n\u001b[0;32m    213\u001b[0m     msg \u001b[38;5;241m=\u001b[39m \u001b[38;5;124m\"\u001b[39m\u001b[38;5;124mDisconnected graph: Ambiguous solution for bipartite sets.\u001b[39m\u001b[38;5;124m\"\u001b[39m\n\u001b[1;32m--> 214\u001b[0m     \u001b[38;5;28;01mraise\u001b[39;00m nx\u001b[38;5;241m.\u001b[39mAmbiguousSolution(msg)\n\u001b[0;32m    215\u001b[0m c \u001b[38;5;241m=\u001b[39m color(G)\n\u001b[0;32m    216\u001b[0m X \u001b[38;5;241m=\u001b[39m {n \u001b[38;5;28;01mfor\u001b[39;00m n, is_top \u001b[38;5;129;01min\u001b[39;00m c\u001b[38;5;241m.\u001b[39mitems() \u001b[38;5;28;01mif\u001b[39;00m is_top}\n",
      "\u001b[1;31mAmbiguousSolution\u001b[0m: Disconnected graph: Ambiguous solution for bipartite sets."
     ]
    }
   ],
   "source": [
    "class MaximumBipartiteMatching():\n",
    "    def __init__(self,graph):\n",
    "        self.graph = graph\n",
    "        self.U = len(graph)\n",
    "        self.V = len(graph[0])\n",
    "\n",
    "        self.M = [-1] * self.V\n",
    "        self.Mc = [False] * self.V\n",
    "\n",
    "\n",
    "# bipartite Graph จะมี สอง set ของ vertex ที่ไม่มีเส้นเชื่อมกันใน set เดียวกัน\n",
    "# แนวตั้งคือ set 1 แนวนอนคือ set 2 ถ้าหากมี 1 แสดงว่า มีเส้นเชื่อมระหว่าง set 1 และ set 2\n",
    "\n",
    "\n",
    "bipartiteGraph = [\n",
    "    [0, 1, 1, 0, 0, 0],\n",
    "    [1, 0, 0, 1, 0, 0],\n",
    "    [0, 0, 1, 0, 0, 0],\n",
    "    [0, 0, 1, 1, 0, 0],\n",
    "    [0, 0, 0, 0, 0, 0],\n",
    "    [0, 0, 0, 0, 0, 1]\n",
    "]\n",
    "myGraph = MaximumBipartiteMatching(bipartiteGraph)\n",
    "\n",
    " "
   ]
  },
  {
   "cell_type": "code",
   "execution_count": null,
   "metadata": {},
   "outputs": [],
   "source": [
    "V = [1,2,3,4,5]\n",
    "U = [6,7,8,9,10]\n",
    "\n",
    "M = [(1,6), (4,8) , (5,9)]\n",
    "\n",
    "MC = [(1,7), (2, 6), (3, 6), (3, 8), (4, 9), (4, 10), (5,10)]\n",
    "\n",
    "def AugmentingPath( U, V, M, MC):\n",
    "    return False\n",
    "\n",
    "def MaximumBipartiteMatching(graph, U, V, M, MC):\n",
    "    while AugmentingPath(graph, U, V, M, MC):\n",
    "        pass\n",
    "    return M\n"
   ]
  },
  {
   "cell_type": "code",
   "execution_count": 3,
   "metadata": {},
   "outputs": [
    {
     "name": "stdout",
     "output_type": "stream",
     "text": [
      "Maximum Bipartite Matching: [(1, 6), (4, 8), (5, 9), (4, 10), (1, 7)]\n"
     ]
    }
   ],
   "source": [
    "def iterative_improvement(V, U, M, MC):\n",
    "    unmatched_U = set(U) - set([pair[1] for pair in M])\n",
    "    while unmatched_U:\n",
    "        u = unmatched_U.pop()\n",
    "        matched = False\n",
    "        for edge in MC:\n",
    "            if edge[1] == u:\n",
    "                M.append(edge)\n",
    "                matched = True\n",
    "                break\n",
    "        if not matched:\n",
    "            raise ValueError(\"No matching edge found for vertex {} in U.\".format(u))\n",
    "        unmatched_U -= {u}\n",
    "    return M\n",
    "\n",
    "V = [1, 2, 3, 4, 5]\n",
    "U = [6, 7, 8, 9, 10]\n",
    "M = [(1, 6), (4, 8), (5, 9)]\n",
    "MC = [(1, 7), (2, 6), (3, 6), (3, 8), (4, 9), (4, 10), (5, 10)]\n",
    "\n",
    "try:\n",
    "    max_matching = iterative_improvement(V, U, M, MC)\n",
    "    print(\"Maximum Bipartite Matching:\", max_matching)\n",
    "except ValueError as e:\n",
    "    print(\"Error:\", e)"
   ]
  },
  {
   "cell_type": "code",
   "execution_count": 4,
   "metadata": {},
   "outputs": [
    {
     "name": "stdout",
     "output_type": "stream",
     "text": [
      "Maximum Bipartite Matching: [(1, 6), (4, 8), (5, 9), (2, 10), (3, 7)]\n"
     ]
    }
   ],
   "source": [
    "def iterative_improvement(V, U, M, MC):\n",
    "    unmatched_V = set(V) - set([pair[0] for pair in M])\n",
    "    unmatched_U = set(U) - set([pair[1] for pair in M])\n",
    "    while unmatched_V and unmatched_U:\n",
    "        v = unmatched_V.pop()\n",
    "        u = unmatched_U.pop()\n",
    "        M.append((v, u))\n",
    "    return M\n",
    "\n",
    "V = [1, 2, 3, 4, 5]\n",
    "U = [6, 7, 8, 9, 10]\n",
    "M = [(1, 6), (4, 8), (5, 9)]\n",
    "MC = [(1, 7), (2, 6), (3, 6), (3, 8), (4, 9), (4, 10), (5, 10)]\n",
    "\n",
    "max_matching = iterative_improvement(V, U, M, MC)\n",
    "print(\"Maximum Bipartite Matching:\", max_matching)"
   ]
  },
  {
   "cell_type": "code",
   "execution_count": 6,
   "metadata": {},
   "outputs": [
    {
     "ename": "KeyboardInterrupt",
     "evalue": "",
     "output_type": "error",
     "traceback": [
      "\u001b[1;31m---------------------------------------------------------------------------\u001b[0m",
      "\u001b[1;31mKeyboardInterrupt\u001b[0m                         Traceback (most recent call last)",
      "Cell \u001b[1;32mIn[6], line 32\u001b[0m\n\u001b[0;32m     29\u001b[0m M \u001b[38;5;241m=\u001b[39m [(\u001b[38;5;241m1\u001b[39m, \u001b[38;5;241m6\u001b[39m), (\u001b[38;5;241m4\u001b[39m, \u001b[38;5;241m8\u001b[39m), (\u001b[38;5;241m5\u001b[39m, \u001b[38;5;241m9\u001b[39m)]\n\u001b[0;32m     30\u001b[0m MC \u001b[38;5;241m=\u001b[39m [(\u001b[38;5;241m1\u001b[39m, \u001b[38;5;241m7\u001b[39m), (\u001b[38;5;241m2\u001b[39m, \u001b[38;5;241m6\u001b[39m), (\u001b[38;5;241m3\u001b[39m, \u001b[38;5;241m6\u001b[39m), (\u001b[38;5;241m3\u001b[39m, \u001b[38;5;241m8\u001b[39m), (\u001b[38;5;241m4\u001b[39m, \u001b[38;5;241m9\u001b[39m), (\u001b[38;5;241m4\u001b[39m, \u001b[38;5;241m10\u001b[39m), (\u001b[38;5;241m5\u001b[39m, \u001b[38;5;241m10\u001b[39m)]\n\u001b[1;32m---> 32\u001b[0m max_matching \u001b[38;5;241m=\u001b[39m \u001b[43miterative_improvement\u001b[49m\u001b[43m(\u001b[49m\u001b[43mV\u001b[49m\u001b[43m,\u001b[49m\u001b[43m \u001b[49m\u001b[43mU\u001b[49m\u001b[43m,\u001b[49m\u001b[43m \u001b[49m\u001b[43mM\u001b[49m\u001b[43m,\u001b[49m\u001b[43m \u001b[49m\u001b[43mMC\u001b[49m\u001b[43m)\u001b[49m\n\u001b[0;32m     33\u001b[0m \u001b[38;5;28mprint\u001b[39m(\u001b[38;5;124m\"\u001b[39m\u001b[38;5;124mMaximum Bipartite Matching:\u001b[39m\u001b[38;5;124m\"\u001b[39m, max_matching)\n",
      "Cell \u001b[1;32mIn[6], line 19\u001b[0m, in \u001b[0;36miterative_improvement\u001b[1;34m(V, U, M, MC)\u001b[0m\n\u001b[0;32m     17\u001b[0m improved \u001b[38;5;241m=\u001b[39m \u001b[38;5;28;01mFalse\u001b[39;00m\n\u001b[0;32m     18\u001b[0m \u001b[38;5;28;01mfor\u001b[39;00m v \u001b[38;5;129;01min\u001b[39;00m V:\n\u001b[1;32m---> 19\u001b[0m     augmenting_path \u001b[38;5;241m=\u001b[39m \u001b[43mfind_augmenting_path\u001b[49m\u001b[43m(\u001b[49m\u001b[43mv\u001b[49m\u001b[43m,\u001b[49m\u001b[43m \u001b[49m\u001b[43mM\u001b[49m\u001b[43m,\u001b[49m\u001b[43m \u001b[49m\u001b[43mMC\u001b[49m\u001b[43m,\u001b[49m\u001b[43m \u001b[49m\u001b[38;5;28;43mset\u001b[39;49m\u001b[43m(\u001b[49m\u001b[43m)\u001b[49m\u001b[43m)\u001b[49m\n\u001b[0;32m     20\u001b[0m     \u001b[38;5;28;01mif\u001b[39;00m augmenting_path \u001b[38;5;129;01mis\u001b[39;00m \u001b[38;5;129;01mnot\u001b[39;00m \u001b[38;5;28;01mNone\u001b[39;00m:\n\u001b[0;32m     21\u001b[0m         \u001b[38;5;28;01mfor\u001b[39;00m i \u001b[38;5;129;01min\u001b[39;00m \u001b[38;5;28mrange\u001b[39m(\u001b[38;5;241m1\u001b[39m, \u001b[38;5;28mlen\u001b[39m(augmenting_path), \u001b[38;5;241m2\u001b[39m):\n",
      "Cell \u001b[1;32mIn[6], line 5\u001b[0m, in \u001b[0;36mfind_augmenting_path\u001b[1;34m(start_vertex, M, MC, visited)\u001b[0m\n\u001b[0;32m      3\u001b[0m     \u001b[38;5;28;01mreturn\u001b[39;00m \u001b[38;5;28;01mNone\u001b[39;00m\n\u001b[0;32m      4\u001b[0m visited\u001b[38;5;241m.\u001b[39madd(start_vertex)\n\u001b[1;32m----> 5\u001b[0m \u001b[38;5;28;01mif\u001b[39;00m start_vertex \u001b[38;5;129;01mnot\u001b[39;00m \u001b[38;5;129;01min\u001b[39;00m \u001b[43m[\u001b[49m\u001b[43mpair\u001b[49m\u001b[43m[\u001b[49m\u001b[38;5;241;43m0\u001b[39;49m\u001b[43m]\u001b[49m\u001b[43m \u001b[49m\u001b[38;5;28;43;01mfor\u001b[39;49;00m\u001b[43m \u001b[49m\u001b[43mpair\u001b[49m\u001b[43m \u001b[49m\u001b[38;5;129;43;01min\u001b[39;49;00m\u001b[43m \u001b[49m\u001b[43mM\u001b[49m\u001b[43m]\u001b[49m:\n\u001b[0;32m      6\u001b[0m     \u001b[38;5;28;01mreturn\u001b[39;00m [start_vertex]\n\u001b[0;32m      7\u001b[0m \u001b[38;5;28;01mfor\u001b[39;00m edge \u001b[38;5;129;01min\u001b[39;00m MC:\n",
      "Cell \u001b[1;32mIn[6], line 5\u001b[0m, in \u001b[0;36m<listcomp>\u001b[1;34m(.0)\u001b[0m\n\u001b[0;32m      3\u001b[0m     \u001b[38;5;28;01mreturn\u001b[39;00m \u001b[38;5;28;01mNone\u001b[39;00m\n\u001b[0;32m      4\u001b[0m visited\u001b[38;5;241m.\u001b[39madd(start_vertex)\n\u001b[1;32m----> 5\u001b[0m \u001b[38;5;28;01mif\u001b[39;00m start_vertex \u001b[38;5;129;01mnot\u001b[39;00m \u001b[38;5;129;01min\u001b[39;00m [pair[\u001b[38;5;241m0\u001b[39m] \u001b[38;5;28;01mfor\u001b[39;00m pair \u001b[38;5;129;01min\u001b[39;00m M]:\n\u001b[0;32m      6\u001b[0m     \u001b[38;5;28;01mreturn\u001b[39;00m [start_vertex]\n\u001b[0;32m      7\u001b[0m \u001b[38;5;28;01mfor\u001b[39;00m edge \u001b[38;5;129;01min\u001b[39;00m MC:\n",
      "\u001b[1;31mKeyboardInterrupt\u001b[0m: "
     ]
    }
   ],
   "source": [
    "def find_augmenting_path(start_vertex, M, MC, visited):\n",
    "    if start_vertex in visited:\n",
    "        return None\n",
    "    visited.add(start_vertex)\n",
    "    if start_vertex not in [pair[0] for pair in M]:\n",
    "        return [start_vertex]\n",
    "    for edge in MC:\n",
    "        if edge[0] == start_vertex:\n",
    "            path = find_augmenting_path(edge[1], M, MC, visited.copy())\n",
    "            if path is not None:\n",
    "                return [start_vertex] + path\n",
    "    return None\n",
    "\n",
    "def iterative_improvement(V, U, M, MC):\n",
    "    improved = True\n",
    "    while improved:\n",
    "        improved = False\n",
    "        for v in V:\n",
    "            augmenting_path = find_augmenting_path(v, M, MC, set())\n",
    "            if augmenting_path is not None:\n",
    "                for i in range(1, len(augmenting_path), 2):\n",
    "                    M.append((augmenting_path[i - 1], augmenting_path[i]))\n",
    "                improved = True\n",
    "                break\n",
    "    return M\n",
    "\n",
    "V = [1, 2, 3, 4, 5]\n",
    "U = [6, 7, 8, 9, 10]\n",
    "M = [(1, 6), (4, 8), (5, 9)]\n",
    "MC = [(1, 7), (2, 6), (3, 6), (3, 8), (4, 9), (4, 10), (5, 10)]\n",
    "\n",
    "max_matching = iterative_improvement(V, U, M, MC)\n",
    "print(\"Maximum Bipartite Matching:\", max_matching)"
   ]
  },
  {
   "cell_type": "code",
   "execution_count": null,
   "metadata": {},
   "outputs": [],
   "source": []
  }
 ],
 "metadata": {
  "kernelspec": {
   "display_name": "Python 3",
   "language": "python",
   "name": "python3"
  },
  "language_info": {
   "codemirror_mode": {
    "name": "ipython",
    "version": 3
   },
   "file_extension": ".py",
   "mimetype": "text/x-python",
   "name": "python",
   "nbconvert_exporter": "python",
   "pygments_lexer": "ipython3",
   "version": "3.11.4"
  }
 },
 "nbformat": 4,
 "nbformat_minor": 2
}
