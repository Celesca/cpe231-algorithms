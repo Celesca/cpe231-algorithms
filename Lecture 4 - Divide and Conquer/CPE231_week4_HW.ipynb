{
 "cells": [
  {
   "cell_type": "markdown",
   "metadata": {
    "collapsed": false
   },
   "source": [
    "# Divide and Conquer Conclusion \n",
    "----"
   ]
  },
  {
   "cell_type": "markdown",
   "metadata": {
    "collapsed": false
   },
   "source": [
    "\n",
    "### Divide and Conquer\n",
    "\n",
    "คือการแก้ปัญหาโดยแบ่งออกเป็น 2 subproblem แล้วแยกกันแก้ปัญหา ซึ่งสุดท้ายแล้วต้องนำ answer ของแต่ละตัวมารวมกัน โดยจะต่างกับแบบ Decrease and Conquer ที่สามารถแก้ปัญยหาในตัวเองได้เลย\n",
    "\n",
    "โดยสามารถใช้ได้กับ\n",
    "1. Merge Sort\n",
    "2. Quick Sort\n",
    "3. Multiplication of Large intergers\n",
    "4. Strassen's Matrix Multiplication\n",
    "5. Cloest-Pair Problem by Divide and Conquer\n",
    "6. Convex-Hull Problem by Divide and Conquer\n",
    "---\n",
    "#### Merge Sort \n",
    "ใช้สำหรับเรียงลำดับ จะเป็นการแบ่งครึ่งข้อมูลโดยพิจารณาจุดกึ่งกลาง  แล้วทำการ sort ไปในตัว โดยจะแบ่งครึ่งแล้ว sort ไปเรื่อยๆ จนกว่าจะแบ่งครึ่งข้อมูลไม่ได้อีก จากนั้นจะทำการผสานข้อมูลที่ถูกเรียงแล้วเข้าด้วยกัน โดยวางข้อมูลในลำดับที่ถูกต้อง\n",
    "\n",
    "<br>\n",
    "\n",
    "---"
   ]
  },
  {
   "cell_type": "markdown",
   "metadata": {
    "collapsed": false
   },
   "source": [
    "#### Quick Sort\n",
    "ใช้สำหรับเรียงลำดับเช่นเดียวกัน แต่จะทำงานโดย\n",
    "\n",
    "1. การเลือก Pivot ซึ่ง อาจเลือกจากตัวแรก ตัวเกือบๆตรงกลาง ตัวกลาง หรือ ตัวสุดท้ายก็ได้ \n",
    "2. ทำการ Partitioning คือการแบ่งข้อมูลโดยจัดเรียงข้อมูลทั้งหมดให้มีค่าน้อยกว่าหรือเท่ากับ Pivot อยู่ทางซ้ายของ Pivot และค่ามากกว่า Pivot   อยู่ทางขวาของ Pivot\n",
    "3. ตั้วชี้ i เป็นตัวชี้ฝั่งซ้าย และ j เป็นตัวชี้ฝั่งขวา หลังจากนั้นจะเลื่อนตัวชี้ i ไปทางขวา และตัวชี้ j ไปทางซ้าย จนกว่า i และ j จนกว่าจะเจอกัน เมื่อเจอกันแล้วให้สลับตำแหน่งข้อมูลที่ i กับ j\n",
    "4. Recursively หรือทำซ้ำไปเรื่อย ๆ จนกว่าข้อมูลจะมีขนาดเล้กพอที่จะถูกจัดเรียง\n",
    "##### มีการใช้ Lumoto Partitioning\n",
    "คือ การเลือก Pivot ซึ่งสามารถเลือก pivot เป็นตัวแรก ตัวเกือบกลาง ตัวกลาง หรือตัวสุดท้ายก็ได้ ทำงานโดย\n",
    "1. ปัก p ที่ตัวแรก s เป็นตัวชี้ p และขยับ i จากซ้ายไปขวาเพื่อเช็คค่า โดยจะขยับ i ไปเรื่อยจนกว่าจะเจอตัวที่มีค่ามากกว่า p\n",
    "2. สร้างตัวชี้ที่เรียกว่า i และเริ่มต้นจากตำแหน่งแรกของข้อมูล. จากนั้น, ส่งตัวชี้ตามข้อมูล ทำการวนลูปผ่านข้อมูลทั้งหมด:\n",
    "ถ้า ค่าข้อมูลที่ตำแหน่ง j น้อยกว่าหรือเท่ากับ Pivot จะทำการสลับตำแหน่งข้อมูลที่ i และ j แล้ว เพิ่มค่าของ i และ j ทั้งคู่ แต่ถ้าหากค่าข้อมูลที่ตำแหน่ง j มีค่ามากกว่า Pivot ไม่ต้องทำการสลับตำแหน่ง\n",
    "3. สลับ Pivot เมื่อลูปเสร็จสิ้น โดยทำการสลับตำแหน่งข้อมูลที่ i(x) กับ Pivot\n",
    "\n",
    "##### มีการใช้ Hoare Partitioning\n",
    "ทำงานโดย\n",
    "1. ปัก pivot ที่ตำแหน่งแรกของข้อมูล\n",
    "2. สร้างตัวชี้ i  เพื่อไล่ข้อมูลจากซ้ายไปขวา และสร้างตะวชี้ j เพื่อไล่ข้อมูลจากขวาไปซ้าย จนกว่าจะเจอกันโดย\n",
    "    * Case 1 : i < j คือ i >= p และ j <=p จะทำการสลับ i กับ j และลูปไปเรื่อยๆ\n",
    "    * Case 2 : i > j จะทำการย้าย p มาไว้ตรงกลางที่ s(ตัวชี้ p) = j\n",
    "    * Case 3 : i = j จะย้าย p มาไว้ตรงกลางที่ s = i = j เลย\n",
    "\n",
    "แต่การเลือกปัก Pivot นั้นมีผลกับ efficiency โดย\n",
    "1. Best case คือ pivot ปักอยู่ตรงกลางพอดี\n",
    "2. Worst case คือ pivot ปักอยู่ไม่ตัวแรกก็ตัวสุดท้าย\n",
    "3. Average case คือ pivot ปักอยู่เกือบๆตรงกลาง\n",
    "\n",
    "---\n",
    "\n"
   ]
  },
  {
   "cell_type": "markdown",
   "metadata": {
    "collapsed": false
   },
   "source": [
    "#### Multiplication of Large intergers\n",
    "\n",
    "คือ กระบวนการทางคณิตศาสตร์ที่เกี่ยวข้องกับการคูณของตัวเลขที่มีจำนวนหลาย ๆ หลัก ซึ่งอาจทำให้เกิดจำนวนที่มีหลายหลักด้วยกัน \n",
    "\n",
    "โดยมีสูตรคือ\n",
    "\n",
    "#### c = a * b = c2(10^n) + c1(10^(n/2)) + c0\n",
    "\n",
    "โดยกำหนดให้\n",
    "* c2 = a1 * b1 \n",
    "* c0 = a0 * b0\n",
    "* c1 = (a1 + a0) * (b1 + b0) - (c2 + c0)\n",
    "-----\n"
   ]
  },
  {
   "cell_type": "markdown",
   "metadata": {
    "collapsed": false
   },
   "source": [
    "#### Strassen's Matrix Multiplication\n",
    "คือ การคูณเมทริกซ์แบบทั่วไปมีความซับซ้อนเป็น O(n^3) ในกรณีของเมทริกซ์ขนาด n×n ซึ่งมีความทำงานที่มีทั้งหมด n^2 จำนวนสมาชิก แต่ Strassen's Matrix Multiplication ลดความซับซ้อนนี้ได้\n",
    "\n",
    "โดยมีสูตรคือ\n",
    "\n",
    "<img src=\"strassen.png\"/>\n",
    "\n",
    "\n",
    "\n",
    "---\n"
   ]
  },
  {
   "cell_type": "markdown",
   "metadata": {},
   "source": [
    "#### Cloest-Pair Problem by Divide and Conquer\n",
    "ทำงานโดย\n",
    "1. แบ่ง point เป็น 2 sunsets \n",
    "2. ลองเส้นแบ่งกึ่งกลาง\n",
    "3. หาระยะทางที่สั้นที่สุด ดูว่า d1 และ d2 อะไรระยะทางสั้นกว่า\n",
    "4. check 2 จุดใดๆ ว่าอยู่ในกล่อง 2d-width หรือไม่ ถ้าอยู่ก็ให้เลือกจุดในกล่อง  ถ้าไม่ก็เลือกจุดที่มีระยะทางสั้นที่สุด\n",
    "\n",
    "<img src=\"closet_pair.png\"/>\n",
    "\n",
    "----"
   ]
  },
  {
   "cell_type": "markdown",
   "metadata": {},
   "source": [
    "### Merge Sort Implementation"
   ]
  },
  {
   "cell_type": "code",
   "execution_count": 2,
   "metadata": {
    "ExecuteTime": {
     "end_time": "2024-02-12T07:08:58.076459800Z",
     "start_time": "2024-02-12T07:08:58.068411300Z"
    }
   },
   "outputs": [],
   "source": [
    "def Merge(left,right,seq):\n",
    "    i = j = 0\n",
    "    while i + j < len(seq):\n",
    "        if j == len(right) or (i < len(left) and left[i] < right[j]):\n",
    "            seq[i+j] = left[i]\n",
    "            i += 1\n",
    "        else:\n",
    "\n",
    "            seq[i+j] = right[j]\n",
    "            j += 1\n",
    "\n",
    "    return seq\n",
    "\n",
    "\n",
    "def MergeSort(input_array):\n",
    "\n",
    "    n = len(input_array)\n",
    "\n",
    "    if n < 2:\n",
    "        return # list is already sorted\n",
    "    mid = len(input_array) // 2\n",
    "    L = input_array[:mid]\n",
    "    R = input_array[mid:n]\n",
    "    MergeSort(L)\n",
    "    \n",
    "    MergeSort(R)\n",
    "    \n",
    "    result = Merge(L,R,input_array)\n",
    "    return result"
   ]
  },
  {
   "cell_type": "code",
   "execution_count": 3,
   "metadata": {
    "ExecuteTime": {
     "end_time": "2024-02-12T07:08:59.153797Z",
     "start_time": "2024-02-12T07:08:59.122897500Z"
    }
   },
   "outputs": [
    {
     "name": "stdout",
     "output_type": "stream",
     "text": [
      "[5, 6, 7, 11, 12, 13]\n"
     ]
    }
   ],
   "source": [
    "# Test Case 1 - Merge Sort\n",
    "input_array = [12, 11, 13, 5, 6, 7]\n",
    "result = MergeSort(input_array)\n",
    "\n",
    "print(result)"
   ]
  },
  {
   "cell_type": "code",
   "execution_count": 4,
   "metadata": {
    "ExecuteTime": {
     "end_time": "2024-02-12T06:51:33.339561400Z",
     "start_time": "2024-02-12T06:51:33.307013200Z"
    }
   },
   "outputs": [
    {
     "name": "stdout",
     "output_type": "stream",
     "text": [
      "Before sorted: [46, 50, 10, 3, 31, 83, 32, 11, 62, 71]\n",
      "After sorted: [3, 10, 11, 31, 32, 46, 50, 62, 71, 83]\n"
     ]
    }
   ],
   "source": [
    "# Test Case 2 - Merge Sort\n",
    "from random import randint\n",
    "\n",
    "input_array = [randint(0, 100) for i in range(10)]\n",
    "print(\"Before sorted:\" , input_array)\n",
    "result = MergeSort(input_array)\n",
    "print(\"After sorted:\", result)"
   ]
  },
  {
   "cell_type": "markdown",
   "metadata": {},
   "source": [
    "### Quick Sort by using Lomuto Partition first."
   ]
  },
  {
   "cell_type": "code",
   "execution_count": 5,
   "metadata": {
    "ExecuteTime": {
     "end_time": "2024-02-12T06:51:37.169854500Z",
     "start_time": "2024-02-12T06:51:37.159843900Z"
    }
   },
   "outputs": [],
   "source": [
    "def LomutoPartition(A,l,r):\n",
    "    p = A[l]\n",
    "    s = l\n",
    "\n",
    "    for i in range(l+1,r+1):\n",
    "        if A[i] < p:\n",
    "            s += 1\n",
    "            A[s], A[i] = A[i], A[s]\n",
    "\n",
    "    A[l], A[s] = A[s], A[l]\n",
    "    return s"
   ]
  },
  {
   "cell_type": "code",
   "execution_count": 6,
   "metadata": {
    "ExecuteTime": {
     "end_time": "2024-02-12T06:51:37.792001500Z",
     "start_time": "2024-02-12T06:51:37.781976700Z"
    }
   },
   "outputs": [],
   "source": [
    "def QuickSort(A,l,r):\n",
    "    if l < r:\n",
    "        s = LomutoPartition(A,l,r)\n",
    "        QuickSort(A,l,s-1)\n",
    "        QuickSort(A,s+1,r)"
   ]
  },
  {
   "cell_type": "code",
   "execution_count": 6,
   "metadata": {
    "ExecuteTime": {
     "end_time": "2024-02-10T17:50:53.787761700Z",
     "start_time": "2024-02-10T17:50:53.775420Z"
    }
   },
   "outputs": [
    {
     "name": "stdout",
     "output_type": "stream",
     "text": [
      "Before sorted : [12, 11, 13, 5, 6, 7]\n",
      "After sorted : [5, 6, 7, 11, 12, 13]\n"
     ]
    }
   ],
   "source": [
    "# Test Case 1 - Quick Sort with Lumoto Partition\n",
    "test_array = [12, 11, 13, 5, 6, 7]\n",
    "\n",
    "print(\"Before sorted :\",test_array)\n",
    "QuickSort(test_array,0,len(test_array)-1)\n",
    "print(\"After sorted :\",test_array)"
   ]
  },
  {
   "cell_type": "code",
   "execution_count": 7,
   "metadata": {
    "ExecuteTime": {
     "end_time": "2024-02-12T06:51:39.762501200Z",
     "start_time": "2024-02-12T06:51:39.749967800Z"
    }
   },
   "outputs": [
    {
     "name": "stdout",
     "output_type": "stream",
     "text": [
      "Before sorted : [50, 34, 30, 79, 13, 71, 45, 65, 95, 25, 15, 8, 19, 65, 58, 94, 97, 31, 70, 34]\n",
      "After sorted : [8, 13, 15, 19, 25, 30, 31, 34, 34, 45, 50, 58, 65, 65, 70, 71, 79, 94, 95, 97]\n"
     ]
    }
   ],
   "source": [
    "# Test Case 2 - Quick Sort with Lumoto Partition\n",
    "from random import randint\n",
    "test_array = [randint(0, 100) for _ in range(20)]\n",
    "\n",
    "print(\"Before sorted :\", test_array)\n",
    "\n",
    "QuickSort(test_array,0,len(test_array)-1)\n",
    "print(\"After sorted :\", test_array)"
   ]
  },
  {
   "cell_type": "markdown",
   "metadata": {},
   "source": [
    "### Practice II : Quick Sort with Hoare Partition"
   ]
  },
  {
   "cell_type": "code",
   "execution_count": 8,
   "metadata": {
    "ExecuteTime": {
     "end_time": "2024-02-12T06:51:45.517323Z",
     "start_time": "2024-02-12T06:51:45.510960200Z"
    }
   },
   "outputs": [],
   "source": [
    "def HoarePartition(A, l, r):\n",
    "    pivot = A[l]\n",
    "    i = l - 1\n",
    "    j = r + 1\n",
    "    while True:\n",
    "        i = i + 1\n",
    "        while A[i] < pivot:\n",
    "            i = i + 1\n",
    "        j = j - 1\n",
    "        while A[j] > pivot:\n",
    "            j = j - 1\n",
    "        if i >= j:\n",
    "            return j # ตัวสุดท้าย\n",
    "        A[i], A[j] = A[j], A[i]"
   ]
  },
  {
   "cell_type": "code",
   "execution_count": 9,
   "metadata": {
    "ExecuteTime": {
     "end_time": "2024-02-12T06:51:46.660034Z",
     "start_time": "2024-02-12T06:51:46.651340700Z"
    }
   },
   "outputs": [],
   "source": [
    "def QuickSort(A,l,r):\n",
    "    if l < r:\n",
    "        s = HoarePartition(A,l,r)\n",
    "        QuickSort(A,l,s-1)\n",
    "        QuickSort(A,s+1,r)"
   ]
  },
  {
   "cell_type": "code",
   "execution_count": 10,
   "metadata": {
    "ExecuteTime": {
     "end_time": "2024-02-12T06:51:47.257595500Z",
     "start_time": "2024-02-12T06:51:47.246581800Z"
    }
   },
   "outputs": [
    {
     "name": "stdout",
     "output_type": "stream",
     "text": [
      "Before sorted : [5, 3, 1, 4, 2, 8, 9, 7]\n",
      "After sorted : [1, 2, 3, 4, 5, 7, 8, 9]\n"
     ]
    }
   ],
   "source": [
    "# Test Case 1 - Quick Sort with Hoare Partition\n",
    "list_1 = [5,3,1,4,2,8,9,7]\n",
    "\n",
    "print(\"Before sorted :\", list_1)\n",
    "\n",
    "QuickSort(list_1, 0, len(list_1) - 1)\n",
    "\n",
    "print(\"After sorted :\", list_1)"
   ]
  },
  {
   "cell_type": "code",
   "execution_count": 11,
   "metadata": {
    "ExecuteTime": {
     "end_time": "2024-02-10T17:51:06.779955600Z",
     "start_time": "2024-02-10T17:51:06.769552200Z"
    }
   },
   "outputs": [
    {
     "name": "stdout",
     "output_type": "stream",
     "text": [
      "Before sorted : [23, 93, 39, 25, 24, 70, 16, 33, 71, 59, 53, 78, 95, 7, 84, 61, 25, 23, 39, 80]\n",
      "After sorted : [7, 23, 16, 23, 24, 25, 33, 39, 25, 39, 53, 59, 70, 71, 61, 80, 78, 84, 93, 95]\n"
     ]
    }
   ],
   "source": [
    "# Test Case 2 - Quick Sort with Hoare Partition\n",
    "from random import randint\n",
    "list_2 = [randint(0, 100) for _ in range(20)]\n",
    "\n",
    "print(\"Before sorted :\", list_2)\n",
    "\n",
    "QuickSort(list_2, 0, len(list_2) - 1)\n",
    "\n",
    "print(\"After sorted :\", list_2)"
   ]
  },
  {
   "cell_type": "markdown",
   "metadata": {},
   "source": [
    "### Multiplication of Large Integers Implementation"
   ]
  },
  {
   "cell_type": "code",
   "execution_count": 1,
   "metadata": {
    "ExecuteTime": {
     "end_time": "2024-02-12T14:09:34.361675700Z",
     "start_time": "2024-02-12T14:09:34.344737100Z"
    }
   },
   "outputs": [],
   "source": [
    "def multiplicationOfLargeInteger(a,b):\n",
    "    a = [int(i) for i in a[::-1]]\n",
    "    b = [int(i) for i in b[::-1]]\n",
    "    c0 = a[0] * b[0]\n",
    "    c2 = a[1] * b[1]\n",
    "    c1 = ((a[1]+a[0]) * (b[1]+b[0]) - (c2+c0))\n",
    "    c = c0 + (c1 * (10**(len(a)/2))) + (c2 * (10**(len(a))))\n",
    "    return int(c)"
   ]
  },
  {
   "cell_type": "code",
   "execution_count": 2,
   "metadata": {
    "ExecuteTime": {
     "end_time": "2024-02-12T14:09:45.724503300Z",
     "start_time": "2024-02-12T14:09:45.699491200Z"
    }
   },
   "outputs": [
    {
     "name": "stdout",
     "output_type": "stream",
     "text": [
      "The sum of the large integer is 300\n"
     ]
    }
   ],
   "source": [
    "# Test case 1 - Multiplication of Large Integers\n",
    "a = 12\n",
    "b = 25\n",
    "result = multiplicationOfLargeInteger(str(a), str(b))\n",
    "print('The sum of the large integer is', result)"
   ]
  },
  {
   "cell_type": "code",
   "execution_count": 3,
   "metadata": {
    "ExecuteTime": {
     "end_time": "2024-02-12T14:10:12.641438800Z",
     "start_time": "2024-02-12T14:10:12.632925Z"
    },
    "collapsed": false
   },
   "outputs": [
    {
     "name": "stdout",
     "output_type": "stream",
     "text": [
      "The sum of the large integer is 322\n"
     ]
    }
   ],
   "source": [
    "# Test case 2 - Multiplication of Large Integers\n",
    "a = 23\n",
    "b = 14\n",
    "result = multiplicationOfLargeInteger(str(a),str(b))\n",
    "print('The sum of the large integer is',result)"
   ]
  },
  {
   "cell_type": "markdown",
   "metadata": {
    "collapsed": false
   },
   "source": [
    "### Strassen's Matrix Multiplication Implementation"
   ]
  },
  {
   "cell_type": "code",
   "execution_count": 8,
   "metadata": {
    "ExecuteTime": {
     "end_time": "2024-02-12T14:11:45.414063900Z",
     "start_time": "2024-02-12T14:11:45.403486100Z"
    },
    "collapsed": false
   },
   "outputs": [],
   "source": [
    "# Strassen's Matrix Multiplication\n",
    "def StrassenMatrixMultiplication(matrix_A, matrix_B):\n",
    "    n = len(matrix_A)\n",
    "    if n == 1:\n",
    "        return [[matrix_A[0][0] * matrix_B[0][0]]]\n",
    "    \n",
    "    else:\n",
    "        m1 = (matrix_A[0][0] + matrix_A[1][1]) * (matrix_B[0][0] + matrix_B[1][1])\n",
    "        m2 = (matrix_A[0][0] + matrix_A[1][1]) * matrix_B[0][0]\n",
    "        m3 = matrix_A[0][0] * (matrix_B[0][1] - matrix_B[1][1])\n",
    "        m4 = matrix_A[1][1] * (matrix_B[1][0] - matrix_B[0][0])\n",
    "        m5 = (matrix_A[0][0] + matrix_A[0][1]) * matrix_B[1][1]\n",
    "        m6 = (matrix_A[1][0] - matrix_A[0][0]) * (matrix_B[0][0] + matrix_B[0][1])\n",
    "        m7 = (matrix_A[0][1] - matrix_A[1][1]) * (matrix_B[1][0] + matrix_B[1][1])\n",
    "        \n",
    "        c00 = m1 + m4 - m5 + m7\n",
    "        c01 = m3 + m5\n",
    "        c10 = m2 + m4\n",
    "        c11 = m1 - m2 + m3 + m6\n",
    "        \n",
    "        result_matrix = [[c00, c01] , [c10, c11]]\n",
    "        return result_matrix"
   ]
  },
  {
   "cell_type": "code",
   "execution_count": 9,
   "metadata": {
    "ExecuteTime": {
     "end_time": "2024-02-12T14:11:46.064906300Z",
     "start_time": "2024-02-12T14:11:46.052717600Z"
    },
    "collapsed": false
   },
   "outputs": [
    {
     "name": "stdout",
     "output_type": "stream",
     "text": [
      "[[18, 14], [26, 102]]\n"
     ]
    }
   ],
   "source": [
    "# Test Case 1 - Strassen's Matrix Multiplication\n",
    "matrix_A = [[1, 3], \n",
    "            [7, 5]]\n",
    "matrix_B = [[6, 8], \n",
    "            [4, 2]]\n",
    "\n",
    "result = StrassenMatrixMultiplication(matrix_A, matrix_B)\n",
    "print(result)"
   ]
  },
  {
   "cell_type": "code",
   "execution_count": 10,
   "metadata": {
    "ExecuteTime": {
     "end_time": "2024-02-12T14:11:46.898390700Z",
     "start_time": "2024-02-12T14:11:46.893391800Z"
    },
    "collapsed": false
   },
   "outputs": [
    {
     "name": "stdout",
     "output_type": "stream",
     "text": [
      "[[55, 58], [93, 168]]\n"
     ]
    }
   ],
   "source": [
    "# Test Case 2 - Strassen's Matrix Multiplication\n",
    "matrix_A = [[1, 2],\n",
    "            [3, 4]]\n",
    "matrix_B = [[17, 18],\n",
    "            [19, 20]]\n",
    "\n",
    "result = StrassenMatrixMultiplication(matrix_A, matrix_B)\n",
    "print(result)"
   ]
  },
  {
   "cell_type": "markdown",
   "metadata": {},
   "source": [
    "### Closet-Pair Problem by Divide and Conquer\n",
    "\n",
    "Reference 1 : https://www.geeksforgeeks.org/closest-pair-of-points-using-divide-and-conquer-algorithm/ <br>\n",
    "Reference 2 : https://www.youtube.com/watch?v=6u_hWxbOc7E\n",
    "\n",
    "Time Complexity : O(n log n)\n",
    "\n",
    "Input : Array of point P <br>\n",
    "Output : The smallest distance between 2 points in the Array\n",
    "\n",
    "Distance ระหว่างจุดจะใช้สูตรตามนี้\n",
    "\n",
    "<img src=\"https://media.hswstatic.com/eyJidWNrZXQiOiJjb250ZW50Lmhzd3N0YXRpYy5jb20iLCJrZXkiOiJnaWZcL2Rpc3RhbmNlLWZvcm11bGEuanBnIiwiZWRpdHMiOnsicmVzaXplIjp7IndpZHRoIjo4Mjh9fX0=\"/>"
   ]
  },
  {
   "cell_type": "markdown",
   "metadata": {},
   "source": [
    "As a pre-processing step, the input array is sorted according to x coordinates.\n",
    "1) Find the middle point in the sorted array, we can take P[n/2] as middle point. \n",
    "2) Divide the given array in two halves. The first subarray contains points from P[0] to P[n/2]. The second subarray contains points from P[n/2+1] to P[n-1].\n",
    "3) Recursively find the smallest distances in both subarrays. Let the distances be dl and dr. Find the minimum of dl and dr. Let the minimum be d"
   ]
  },
  {
   "cell_type": "code",
   "execution_count": 12,
   "metadata": {
    "ExecuteTime": {
     "end_time": "2024-02-10T17:52:54.944324Z",
     "start_time": "2024-02-10T17:52:54.812946900Z"
    }
   },
   "outputs": [],
   "source": [
    "def dist(x, y):\n",
    "    return (x[0] - y[0])**2 + (x[1] - y[1])**2\n",
    "    \n",
    "\n",
    "def closet():\n",
    "    pass\n",
    "\n",
    "def closetPair(array, n):\n",
    "    P = array.copy()\n",
    "    P = sorted(P, key=lambda x: x[0]) # เรียงโดยอ้างอิงจาก x coordinate\n",
    "    return closet(P, n)\n",
    "\n",
    "\n",
    "\n",
    "    # 1. Find the middle point in the sorted array"
   ]
  },
  {
   "cell_type": "code",
   "execution_count": null,
   "metadata": {},
   "outputs": [],
   "source": [
    "point_list = [(1, 2), (3, 4), (5, 6), (7, 8), (9, 10)]\n",
    "n = len(point_list)\n",
    "print(\"The smallest distance is\", closetPair(point_list, n))"
   ]
  },
  {
   "cell_type": "markdown",
   "metadata": {},
   "source": [
    "### Convex-Hull Problem by Divide and Conquer"
   ]
  },
  {
   "cell_type": "code",
   "execution_count": null,
   "metadata": {},
   "outputs": [],
   "source": []
  }
 ],
 "metadata": {
  "kernelspec": {
   "display_name": "Python 3",
   "language": "python",
   "name": "python3"
  },
  "language_info": {
   "codemirror_mode": {
    "name": "ipython",
    "version": 3
   },
   "file_extension": ".py",
   "mimetype": "text/x-python",
   "name": "python",
   "nbconvert_exporter": "python",
   "pygments_lexer": "ipython3",
   "version": "3.11.4"
  }
 },
 "nbformat": 4,
 "nbformat_minor": 2
}
