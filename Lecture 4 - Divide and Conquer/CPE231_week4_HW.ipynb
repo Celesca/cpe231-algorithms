{
 "cells": [
  {
   "cell_type": "markdown",
   "metadata": {},
   "source": [
    "### Merge Sort"
   ]
  },
  {
   "cell_type": "code",
   "execution_count": 11,
   "metadata": {},
   "outputs": [],
   "source": [
    "def Merge(left,right,seq):\n",
    "    i = j = 0\n",
    "    while i + j < len(seq):\n",
    "        if j == len(right) or (i < len(left) and left[i] < right[j]):\n",
    "            seq[i+j] = left[i]\n",
    "            i += 1\n",
    "        else:\n",
    "\n",
    "            seq[i+j] = right[j]\n",
    "            j += 1\n",
    "\n",
    "    return seq\n",
    "\n",
    "\n",
    "def MergeSort(input_array):\n",
    "\n",
    "    n = len(input_array)\n",
    "\n",
    "    if n < 2:\n",
    "        return # list is already sorted\n",
    "    mid = len(input_array) // 2\n",
    "    L = input_array[:mid]\n",
    "    R = input_array[mid:n]\n",
    "    MergeSort(L)\n",
    "    \n",
    "    MergeSort(R)\n",
    "    \n",
    "    result = Merge(L,R,input_array)\n",
    "    return result"
   ]
  },
  {
   "cell_type": "code",
   "execution_count": 12,
   "metadata": {},
   "outputs": [
    {
     "name": "stdout",
     "output_type": "stream",
     "text": [
      "[5, 6, 7, 11, 12, 13]\n"
     ]
    }
   ],
   "source": [
    "# Test Case 1 - Merge Sort\n",
    "input_array = [12, 11, 13, 5, 6, 7]\n",
    "result = MergeSort(input_array)\n",
    "\n",
    "print(result)"
   ]
  },
  {
   "cell_type": "code",
   "execution_count": 13,
   "metadata": {},
   "outputs": [
    {
     "name": "stdout",
     "output_type": "stream",
     "text": [
      "Before sorted: [88, 2, 13, 74, 16, 0, 59, 5, 71, 4]\n",
      "After sorted: [0, 2, 4, 5, 13, 16, 59, 71, 74, 88]\n"
     ]
    }
   ],
   "source": [
    "# Test Case 2 - Merge Sort\n",
    "from random import randint\n",
    "\n",
    "input_array = [randint(0, 100) for i in range(10)]\n",
    "print(\"Before sorted:\" , input_array)\n",
    "result = MergeSort(input_array)\n",
    "print(\"After sorted:\", result)"
   ]
  },
  {
   "cell_type": "markdown",
   "metadata": {},
   "source": [
    "### Quick Sort by using Lomuto Partition first."
   ]
  },
  {
   "cell_type": "code",
   "execution_count": null,
   "metadata": {},
   "outputs": [],
   "source": [
    "def LomutoPartition()"
   ]
  },
  {
   "cell_type": "code",
   "execution_count": 14,
   "metadata": {},
   "outputs": [],
   "source": [
    "def swap(A, i, j):\n",
    "    A[i], A[j] = A[j], A[i]\n",
    "\n",
    "def HoarePartition(input_list):\n",
    "    A = input_list.copy()\n",
    "    p = A[0]\n",
    "    i = 0\n",
    "    j = len(A) - 1\n",
    "\n",
    "    while i < j:\n",
    "        while A[i] <= p:\n",
    "            i += 1\n",
    "        while A[j] > p:\n",
    "            j -= 1\n",
    "        swap(A, i, j)\n",
    "\n",
    "    swap(A, i, j)\n",
    "    if i < j:\n",
    "        swap(A, l, j)\n",
    "\n",
    "    return j"
   ]
  },
  {
   "cell_type": "code",
   "execution_count": 15,
   "metadata": {},
   "outputs": [
    {
     "name": "stdout",
     "output_type": "stream",
     "text": [
      "4\n"
     ]
    }
   ],
   "source": [
    "list_1 = [5,3,1,4,2,8,9,7]\n",
    "\n",
    "print(HoarePartition(list_1))"
   ]
  },
  {
   "cell_type": "code",
   "execution_count": 19,
   "metadata": {},
   "outputs": [],
   "source": [
    "def QuickSort(Array,l,r):\n",
    "    A = Array\n",
    "\n",
    "    if l < r :\n",
    "        s = HoarePartition(A)\n",
    "        QuickSort(A, l, s)\n",
    "        QuickSort(A, s+1, r)\n",
    "\n",
    "    return A"
   ]
  },
  {
   "cell_type": "code",
   "execution_count": 20,
   "metadata": {},
   "outputs": [
    {
     "ename": "RecursionError",
     "evalue": "maximum recursion depth exceeded while calling a Python object",
     "output_type": "error",
     "traceback": [
      "\u001b[1;31m---------------------------------------------------------------------------\u001b[0m",
      "\u001b[1;31mRecursionError\u001b[0m                            Traceback (most recent call last)",
      "Cell \u001b[1;32mIn[20], line 6\u001b[0m\n\u001b[0;32m      3\u001b[0m l \u001b[38;5;241m=\u001b[39m \u001b[38;5;241m0\u001b[39m\n\u001b[0;32m      4\u001b[0m r \u001b[38;5;241m=\u001b[39m \u001b[38;5;28mlen\u001b[39m(list_2) \u001b[38;5;241m-\u001b[39m \u001b[38;5;241m1\u001b[39m\n\u001b[1;32m----> 6\u001b[0m \u001b[38;5;28mprint\u001b[39m(\u001b[43mQuickSort\u001b[49m\u001b[43m(\u001b[49m\u001b[43mlist_2\u001b[49m\u001b[43m,\u001b[49m\u001b[43m \u001b[49m\u001b[43ml\u001b[49m\u001b[43m,\u001b[49m\u001b[43m \u001b[49m\u001b[43mr\u001b[49m\u001b[43m)\u001b[49m)\n",
      "Cell \u001b[1;32mIn[19], line 6\u001b[0m, in \u001b[0;36mQuickSort\u001b[1;34m(Array, l, r)\u001b[0m\n\u001b[0;32m      4\u001b[0m \u001b[38;5;28;01mif\u001b[39;00m l \u001b[38;5;241m<\u001b[39m r :\n\u001b[0;32m      5\u001b[0m     s \u001b[38;5;241m=\u001b[39m HoarePartition(A)\n\u001b[1;32m----> 6\u001b[0m     \u001b[43mQuickSort\u001b[49m\u001b[43m(\u001b[49m\u001b[43mA\u001b[49m\u001b[43m,\u001b[49m\u001b[43m \u001b[49m\u001b[43ml\u001b[49m\u001b[43m,\u001b[49m\u001b[43m \u001b[49m\u001b[43ms\u001b[49m\u001b[43m)\u001b[49m\n\u001b[0;32m      7\u001b[0m     QuickSort(A, s\u001b[38;5;241m+\u001b[39m\u001b[38;5;241m1\u001b[39m, r)\n\u001b[0;32m      9\u001b[0m \u001b[38;5;28;01mreturn\u001b[39;00m A\n",
      "Cell \u001b[1;32mIn[19], line 6\u001b[0m, in \u001b[0;36mQuickSort\u001b[1;34m(Array, l, r)\u001b[0m\n\u001b[0;32m      4\u001b[0m \u001b[38;5;28;01mif\u001b[39;00m l \u001b[38;5;241m<\u001b[39m r :\n\u001b[0;32m      5\u001b[0m     s \u001b[38;5;241m=\u001b[39m HoarePartition(A)\n\u001b[1;32m----> 6\u001b[0m     \u001b[43mQuickSort\u001b[49m\u001b[43m(\u001b[49m\u001b[43mA\u001b[49m\u001b[43m,\u001b[49m\u001b[43m \u001b[49m\u001b[43ml\u001b[49m\u001b[43m,\u001b[49m\u001b[43m \u001b[49m\u001b[43ms\u001b[49m\u001b[43m)\u001b[49m\n\u001b[0;32m      7\u001b[0m     QuickSort(A, s\u001b[38;5;241m+\u001b[39m\u001b[38;5;241m1\u001b[39m, r)\n\u001b[0;32m      9\u001b[0m \u001b[38;5;28;01mreturn\u001b[39;00m A\n",
      "    \u001b[1;31m[... skipping similar frames: QuickSort at line 6 (2969 times)]\u001b[0m\n",
      "Cell \u001b[1;32mIn[19], line 6\u001b[0m, in \u001b[0;36mQuickSort\u001b[1;34m(Array, l, r)\u001b[0m\n\u001b[0;32m      4\u001b[0m \u001b[38;5;28;01mif\u001b[39;00m l \u001b[38;5;241m<\u001b[39m r :\n\u001b[0;32m      5\u001b[0m     s \u001b[38;5;241m=\u001b[39m HoarePartition(A)\n\u001b[1;32m----> 6\u001b[0m     \u001b[43mQuickSort\u001b[49m\u001b[43m(\u001b[49m\u001b[43mA\u001b[49m\u001b[43m,\u001b[49m\u001b[43m \u001b[49m\u001b[43ml\u001b[49m\u001b[43m,\u001b[49m\u001b[43m \u001b[49m\u001b[43ms\u001b[49m\u001b[43m)\u001b[49m\n\u001b[0;32m      7\u001b[0m     QuickSort(A, s\u001b[38;5;241m+\u001b[39m\u001b[38;5;241m1\u001b[39m, r)\n\u001b[0;32m      9\u001b[0m \u001b[38;5;28;01mreturn\u001b[39;00m A\n",
      "Cell \u001b[1;32mIn[19], line 5\u001b[0m, in \u001b[0;36mQuickSort\u001b[1;34m(Array, l, r)\u001b[0m\n\u001b[0;32m      2\u001b[0m A \u001b[38;5;241m=\u001b[39m Array\n\u001b[0;32m      4\u001b[0m \u001b[38;5;28;01mif\u001b[39;00m l \u001b[38;5;241m<\u001b[39m r :\n\u001b[1;32m----> 5\u001b[0m     s \u001b[38;5;241m=\u001b[39m \u001b[43mHoarePartition\u001b[49m\u001b[43m(\u001b[49m\u001b[43mA\u001b[49m\u001b[43m)\u001b[49m\n\u001b[0;32m      6\u001b[0m     QuickSort(A, l, s)\n\u001b[0;32m      7\u001b[0m     QuickSort(A, s\u001b[38;5;241m+\u001b[39m\u001b[38;5;241m1\u001b[39m, r)\n",
      "Cell \u001b[1;32mIn[14], line 5\u001b[0m, in \u001b[0;36mHoarePartition\u001b[1;34m(input_list)\u001b[0m\n\u001b[0;32m      4\u001b[0m \u001b[38;5;28;01mdef\u001b[39;00m \u001b[38;5;21mHoarePartition\u001b[39m(input_list):\n\u001b[1;32m----> 5\u001b[0m     A \u001b[38;5;241m=\u001b[39m input_list\u001b[38;5;241m.\u001b[39mcopy()\n\u001b[0;32m      6\u001b[0m     p \u001b[38;5;241m=\u001b[39m A[\u001b[38;5;241m0\u001b[39m]\n\u001b[0;32m      7\u001b[0m     i \u001b[38;5;241m=\u001b[39m \u001b[38;5;241m0\u001b[39m\n",
      "\u001b[1;31mRecursionError\u001b[0m: maximum recursion depth exceeded while calling a Python object"
     ]
    }
   ],
   "source": [
    "list_2 = [5,3,1,4,2,8,9,7]\n",
    "\n",
    "l = 0\n",
    "r = len(list_2) - 1\n",
    "\n",
    "print(QuickSort(list_2, l, r))"
   ]
  },
  {
   "cell_type": "code",
   "execution_count": 1,
   "metadata": {},
   "outputs": [],
   "source": [
    "def calculate(input_list):\n",
    "    pass\n",
    "\n",
    "list = [2,3,4]\n",
    "calculate(list)"
   ]
  },
  {
   "cell_type": "code",
   "execution_count": null,
   "metadata": {},
   "outputs": [],
   "source": []
  }
 ],
 "metadata": {
  "kernelspec": {
   "display_name": "Python 3",
   "language": "python",
   "name": "python3"
  },
  "language_info": {
   "codemirror_mode": {
    "name": "ipython",
    "version": 3
   },
   "file_extension": ".py",
   "mimetype": "text/x-python",
   "name": "python",
   "nbconvert_exporter": "python",
   "pygments_lexer": "ipython3",
   "version": "3.11.4"
  }
 },
 "nbformat": 4,
 "nbformat_minor": 2
}
