{
 "cells": [
  {
   "cell_type": "markdown",
   "metadata": {
    "collapsed": false
   },
   "source": [
    "# Divide and Conquer Conclusion \n",
    "----"
   ]
  },
  {
   "cell_type": "markdown",
   "metadata": {
    "collapsed": false
   },
   "source": [
    "\n",
    "### Divide and Conquer\n",
    "\n",
    "คือการแก้ปัญหาโดยแบ่งออกเป็น 2 subproblem แล้วแยกกันแก้ปัญหา ซึ่งสุดท้ายแล้วต้องนำ answer ของแต่ละตัวมารวมกัน โดยจะต่างกับแบบ Decrease and Conquer ที่สามารถแก้ปัญยหาในตัวเองได้เลย\n",
    "\n",
    "โดยสามารถใช้ได้กับ\n",
    "1. Merge Sort\n",
    "2. Quick Sort\n",
    "3. Multiplication of Large intergers\n",
    "4. Strassen's Matrix Multiplication\n",
    "5. Cloest-Pair Problem by Divide and Conquer\n",
    "6. Convex-Hull Problem by Divide and Conquer\n",
    "---\n",
    "#### Merge Sort \n",
    "ใช้สำหรับเรียงลำดับ จะเป็นการแบ่งครึ่งข้อมูลโดยพิจารณาจุดกึ่งกลาง  แล้วทำการ sort ไปในตัว โดยจะแบ่งครึ่งแล้ว sort ไปเรื่อยๆ จนกว่าจะแบ่งครึ่งข้อมูลไม่ได้อีก จากนั้นจะทำการผสานข้อมูลที่ถูกเรียงแล้วเข้าด้วยกัน โดยวางข้อมูลในลำดับที่ถูกต้อง\n",
    "\n",
    "<br>\n",
    "\n",
    "---"
   ]
  },
  {
   "cell_type": "markdown",
   "metadata": {
    "collapsed": false
   },
   "source": [
    "#### Quick Sort\n",
    "ใช้สำหรับเรียงลำดับเช่นเดียวกัน แต่จะทำงานโดย\n",
    "\n",
    "1. การเลือก Pivot ซึ่ง อาจเลือกจากตัวแรก ตัวเกือบๆตรงกลาง ตัวกลาง หรือ ตัวสุดท้ายก็ได้ \n",
    "2. ทำการ Partitioning คือการแบ่งข้อมูลโดยจัดเรียงข้อมูลทั้งหมดให้มีค่าน้อยกว่าหรือเท่ากับ Pivot อยู่ทางซ้ายของ Pivot และค่ามากกว่า Pivot   อยู่ทางขวาของ Pivot\n",
    "3. ตั้วชี้ i เป็นตัวชี้ฝั่งซ้าย และ j เป็นตัวชี้ฝั่งขวา หลังจากนั้นจะเลื่อนตัวชี้ i ไปทางขวา และตัวชี้ j ไปทางซ้าย จนกว่า i และ j จนกว่าจะเจอกัน เมื่อเจอกันแล้วให้สลับตำแหน่งข้อมูลที่ i กับ j\n",
    "4. Recursively หรือทำซ้ำไปเรื่อย ๆ จนกว่าข้อมูลจะมีขนาดเล้กพอที่จะถูกจัดเรียง\n",
    "##### มีการใช้ Lumoto Partitioning\n",
    "คือ การเลือก Pivot ซึ่งสามารถเลือก pivot เป็นตัวแรก ตัวเกือบกลาง ตัวกลาง หรือตัวสุดท้ายก็ได้ ทำงานโดย\n",
    "1. ปัก p ที่ตัวแรก s เป็นตัวชี้ p และขยับ i จากซ้ายไปขวาเพื่อเช็คค่า โดยจะขยับ i ไปเรื่อยจนกว่าจะเจอตัวที่มีค่ามากกว่า p\n",
    "2. สร้างตัวชี้ที่เรียกว่า i และเริ่มต้นจากตำแหน่งแรกของข้อมูล. จากนั้น, ส่งตัวชี้ตามข้อมูล ทำการวนลูปผ่านข้อมูลทั้งหมด:\n",
    "ถ้า ค่าข้อมูลที่ตำแหน่ง j น้อยกว่าหรือเท่ากับ Pivot จะทำการสลับตำแหน่งข้อมูลที่ i และ j แล้ว เพิ่มค่าของ i และ j ทั้งคู่ แต่ถ้าหากค่าข้อมูลที่ตำแหน่ง j มีค่ามากกว่า Pivot ไม่ต้องทำการสลับตำแหน่ง\n",
    "3. สลับ Pivot เมื่อลูปเสร็จสิ้น โดยทำการสลับตำแหน่งข้อมูลที่ i(x) กับ Pivot\n",
    "\n",
    "##### มีการใช้ Hoare Partitioning\n",
    "ทำงานโดย\n",
    "1. ปัก pivot ที่ตำแหน่งแรกของข้อมูล\n",
    "2. สร้างตัวชี้ i  เพื่อไล่ข้อมูลจากซ้ายไปขวา และสร้างตะวชี้ j เพื่อไล่ข้อมูลจากขวาไปซ้าย จนกว่าจะเจอกันโดย\n",
    "    * Case 1 : i < j คือ i >= p และ j <=p จะทำการสลับ i กับ j และลูปไปเรื่อยๆ\n",
    "    * Case 2 : i > j จะทำการย้าย p มาไว้ตรงกลางที่ s(ตัวชี้ p) = j\n",
    "    * Case 3 : i = j จะย้าย p มาไว้ตรงกลางที่ s = i = j เลย\n",
    "\n",
    "แต่การเลือกปัก Pivot นั้นมีผลกับ efficiency โดย\n",
    "1. Best case คือ pivot ปักอยู่ตรงกลางพอดี\n",
    "2. Worst case คือ pivot ปักอยู่ไม่ตัวแรกก็ตัวสุดท้าย\n",
    "3. Average case คือ pivot ปักอยู่เกือบๆตรงกลาง\n",
    "\n",
    "---\n",
    "\n"
   ]
  },
  {
   "cell_type": "markdown",
   "metadata": {
    "collapsed": false
   },
   "source": [
    "#### Multiplication of Large intergers\n",
    "\n",
    "คือ กระบวนการทางคณิตศาสตร์ที่เกี่ยวข้องกับการคูณของตัวเลขที่มีจำนวนหลาย ๆ หลัก ซึ่งอาจทำให้เกิดจำนวนที่มีหลายหลักด้วยกัน \n",
    "\n",
    "โดยมีสูตรคือ\n",
    "\n",
    "#### c = a * b = c2(10^n) + c1(10^(n/2)) + c0\n",
    "\n",
    "โดยกำหนดให้\n",
    "* c2 = a1 * b1 \n",
    "* c0 = a0 * b0\n",
    "* c1 = (a1 + a0) * (b1 + b0) - (c2 + c0)\n",
    "-----\n"
   ]
  },
  {
   "cell_type": "markdown",
   "metadata": {
    "collapsed": false
   },
   "source": [
    "#### Strassen's Matrix Multiplication\n",
    "คือ การคูณเมทริกซ์แบบทั่วไปมีความซับซ้อนเป็น O(n^3) ในกรณีของเมทริกซ์ขนาด n×n ซึ่งมีความทำงานที่มีทั้งหมด n^2 จำนวนสมาชิก แต่ Strassen's Matrix Multiplication ลดความซับซ้อนนี้ได้\n",
    "\n",
    "โดยมีสูตรคือ\n",
    "\n",
    "<img src=\"strassen.png\"/>\n",
    "\n",
    "\n",
    "\n",
    "---\n"
   ]
  },
  {
   "cell_type": "markdown",
   "metadata": {},
   "source": [
    "#### Closest-Pair Problem using Divide and Conquer algorithms\n",
    "\n",
    "ทำงานโดย\n",
    "1. แบ่งจุดออกเป็นสองฝั่ง (2 subsets)\n",
    "2. วาดเส้นแบ่งกึ่งกลาง\n",
    "3. หาระยะทางที่สั้นที่สุด ดูว่า d1 และ d2 ว่าฝั่งไหนมีระยะทางที่น้อยที่สุด\n",
    "4. สร้างกล่องที่มีระยะห่างจากจุดศูนย์กลางถึงขอบ ระยะทางเท่ากับ ระยะทางที่สั้นที่สุด ณ ตอนนั้น (d Min) \n",
    "5. เทียบและ check 2 จุดใดๆ ที่อยู่ในกล่อง 2d-width ถ้าอยู่ให้เลือกจุดในกล่องแทน เพราะระยะทางสั้นกว่า ถ้าไม่ก็เลือกจุดที่มีระยะทางสั้นที่สุดที่เคยคำนวณมา\n",
    "\n",
    "<img src=\"closet_pair.png\"/>\n",
    "<br>\n",
    "\n",
    "--- \n",
    "\n",
    "<br>"
   ]
  },
  {
   "cell_type": "markdown",
   "metadata": {
    "collapsed": false
   },
   "source": [
    "#### Quick Hull\n",
    "\n",
    "1. หาจุดซ้ายสุดและขวาสุดในแกน X จากนั้นลากเส้นเชื่อมระหว่างกันเพื่อแบ่งเป็น 2 subsets\n",
    "2. จากนั้นหลังจากแบ่งมาเป็น 2 กลุ่ม เพื่อดำเนินการต่อ\n",
    "3. แต่ละกลุ่ม ให้ทำการหาจุด P ที่มีระยะห่างมากที่สุดจากเส้น L จากนั้นให้ทำการลากเป็นสามเหลี่ยมระหว่างจุด min_x, max_x \n",
    "4. จากนั้นพิจารณาจุดที่อยู่นอกสามเหลี่ยม ว่าไม่มีทางอยู่ในเส้นทาง Convex hull แน่นอน\n",
    "5. หลังจากแก้ไขในแต่ละกลุ่มเรียบร้อย ให้ทำการ Join จุด P, min_x"
   ]
  },
  {
   "cell_type": "markdown",
   "metadata": {},
   "source": [
    "### Merge Sort Implementation"
   ]
  },
  {
   "cell_type": "code",
   "execution_count": null,
   "metadata": {
    "ExecuteTime": {
     "end_time": "2024-02-12T07:08:58.076459800Z",
     "start_time": "2024-02-12T07:08:58.068411300Z"
    }
   },
   "outputs": [],
   "source": [
    "def Merge(left,right,seq):\n",
    "    i = j = 0\n",
    "    while i + j < len(seq):\n",
    "        if j == len(right) or (i < len(left) and left[i] < right[j]):\n",
    "            seq[i+j] = left[i]\n",
    "            i += 1\n",
    "        else:\n",
    "\n",
    "            seq[i+j] = right[j]\n",
    "            j += 1\n",
    "\n",
    "    return seq\n",
    "\n",
    "\n",
    "def MergeSort(input_array):\n",
    "\n",
    "    n = len(input_array)\n",
    "\n",
    "    if n < 2:\n",
    "        return # list is already sorted\n",
    "    mid = len(input_array) // 2\n",
    "    L = input_array[:mid]\n",
    "    R = input_array[mid:n]\n",
    "    MergeSort(L)\n",
    "    \n",
    "    MergeSort(R)\n",
    "    \n",
    "    result = Merge(L,R,input_array)\n",
    "    return result"
   ]
  },
  {
   "cell_type": "code",
   "execution_count": null,
   "metadata": {
    "ExecuteTime": {
     "end_time": "2024-02-12T07:08:59.153797Z",
     "start_time": "2024-02-12T07:08:59.122897500Z"
    }
   },
   "outputs": [],
   "source": [
    "# Test Case 1 - Merge Sort\n",
    "input_array = [12, 11, 13, 5, 6, 7]\n",
    "result = MergeSort(input_array)\n",
    "\n",
    "print(result)"
   ]
  },
  {
   "cell_type": "code",
   "execution_count": null,
   "metadata": {
    "ExecuteTime": {
     "end_time": "2024-02-12T06:51:33.339561400Z",
     "start_time": "2024-02-12T06:51:33.307013200Z"
    }
   },
   "outputs": [],
   "source": [
    "# Test Case 2 - Merge Sort\n",
    "from random import randint\n",
    "\n",
    "input_array = [randint(0, 100) for i in range(10)]\n",
    "print(\"Before sorted:\" , input_array)\n",
    "result = MergeSort(input_array)\n",
    "print(\"After sorted:\", result)"
   ]
  },
  {
   "cell_type": "markdown",
   "metadata": {},
   "source": [
    "### Quick Sort by using Lomuto Partition first."
   ]
  },
  {
   "cell_type": "code",
   "execution_count": null,
   "metadata": {
    "ExecuteTime": {
     "end_time": "2024-02-12T06:51:37.169854500Z",
     "start_time": "2024-02-12T06:51:37.159843900Z"
    }
   },
   "outputs": [],
   "source": [
    "def LomutoPartition(A,l,r):\n",
    "    p = A[l]\n",
    "    s = l\n",
    "\n",
    "    for i in range(l+1,r+1):\n",
    "        if A[i] < p:\n",
    "            s += 1\n",
    "            A[s], A[i] = A[i], A[s]\n",
    "\n",
    "    A[l], A[s] = A[s], A[l]\n",
    "    return s"
   ]
  },
  {
   "cell_type": "code",
   "execution_count": null,
   "metadata": {
    "ExecuteTime": {
     "end_time": "2024-02-12T06:51:37.792001500Z",
     "start_time": "2024-02-12T06:51:37.781976700Z"
    }
   },
   "outputs": [],
   "source": [
    "def QuickSort(A,l,r):\n",
    "    if l < r:\n",
    "        s = LomutoPartition(A,l,r)\n",
    "        QuickSort(A,l,s-1)\n",
    "        QuickSort(A,s+1,r)"
   ]
  },
  {
   "cell_type": "code",
   "execution_count": null,
   "metadata": {
    "ExecuteTime": {
     "end_time": "2024-02-10T17:50:53.787761700Z",
     "start_time": "2024-02-10T17:50:53.775420Z"
    }
   },
   "outputs": [],
   "source": [
    "# Test Case 1 - Quick Sort with Lumoto Partition\n",
    "test_array = [12, 11, 13, 5, 6, 7]\n",
    "\n",
    "print(\"Before sorted :\",test_array)\n",
    "QuickSort(test_array,0,len(test_array)-1)\n",
    "print(\"After sorted :\",test_array)"
   ]
  },
  {
   "cell_type": "code",
   "execution_count": null,
   "metadata": {
    "ExecuteTime": {
     "end_time": "2024-02-12T06:51:39.762501200Z",
     "start_time": "2024-02-12T06:51:39.749967800Z"
    }
   },
   "outputs": [],
   "source": [
    "# Test Case 2 - Quick Sort with Lumoto Partition\n",
    "from random import randint\n",
    "test_array = [randint(0, 100) for _ in range(20)]\n",
    "\n",
    "print(\"Before sorted :\", test_array)\n",
    "\n",
    "QuickSort(test_array,0,len(test_array)-1)\n",
    "print(\"After sorted :\", test_array)"
   ]
  },
  {
   "cell_type": "markdown",
   "metadata": {},
   "source": [
    "### Practice II : Quick Sort with Hoare Partition"
   ]
  },
  {
   "cell_type": "code",
   "execution_count": null,
   "metadata": {
    "ExecuteTime": {
     "end_time": "2024-02-12T06:51:45.517323Z",
     "start_time": "2024-02-12T06:51:45.510960200Z"
    }
   },
   "outputs": [],
   "source": [
    "def HoarePartition(A, l, r):\n",
    "    pivot = A[l]\n",
    "    i = l - 1\n",
    "    j = r + 1\n",
    "    while True:\n",
    "        i = i + 1\n",
    "        while A[i] < pivot:\n",
    "            i = i + 1\n",
    "        j = j - 1\n",
    "        while A[j] > pivot:\n",
    "            j = j - 1\n",
    "        if i >= j:\n",
    "            return j # ตัวสุดท้าย\n",
    "        A[i], A[j] = A[j], A[i]"
   ]
  },
  {
   "cell_type": "code",
   "execution_count": null,
   "metadata": {
    "ExecuteTime": {
     "end_time": "2024-02-12T06:51:46.660034Z",
     "start_time": "2024-02-12T06:51:46.651340700Z"
    }
   },
   "outputs": [],
   "source": [
    "def QuickSort(A,l,r):\n",
    "    if l < r:\n",
    "        s = HoarePartition(A,l,r)\n",
    "        QuickSort(A,l,s-1)\n",
    "        QuickSort(A,s+1,r)"
   ]
  },
  {
   "cell_type": "code",
   "execution_count": null,
   "metadata": {
    "ExecuteTime": {
     "end_time": "2024-02-12T06:51:47.257595500Z",
     "start_time": "2024-02-12T06:51:47.246581800Z"
    }
   },
   "outputs": [],
   "source": [
    "# Test Case 1 - Quick Sort with Hoare Partition\n",
    "list_1 = [5,3,1,4,2,8,9,7]\n",
    "\n",
    "print(\"Before sorted :\", list_1)\n",
    "\n",
    "QuickSort(list_1, 0, len(list_1) - 1)\n",
    "\n",
    "print(\"After sorted :\", list_1)"
   ]
  },
  {
   "cell_type": "code",
   "execution_count": null,
   "metadata": {
    "ExecuteTime": {
     "end_time": "2024-02-10T17:51:06.779955600Z",
     "start_time": "2024-02-10T17:51:06.769552200Z"
    }
   },
   "outputs": [],
   "source": [
    "# Test Case 2 - Quick Sort with Hoare Partition\n",
    "from random import randint\n",
    "list_2 = [randint(0, 100) for _ in range(20)]\n",
    "\n",
    "print(\"Before sorted :\", list_2)\n",
    "\n",
    "QuickSort(list_2, 0, len(list_2) - 1)\n",
    "\n",
    "print(\"After sorted :\", list_2)"
   ]
  },
  {
   "cell_type": "markdown",
   "metadata": {},
   "source": [
    "### Multiplication of Large Integers Implementation"
   ]
  },
  {
   "cell_type": "code",
   "execution_count": null,
   "metadata": {
    "ExecuteTime": {
     "end_time": "2024-02-12T14:09:34.361675700Z",
     "start_time": "2024-02-12T14:09:34.344737100Z"
    }
   },
   "outputs": [],
   "source": [
    "def multiplicationOfLargeInteger(a,b):\n",
    "    a = [int(i) for i in a[::-1]]\n",
    "    b = [int(i) for i in b[::-1]]\n",
    "    c0 = a[0] * b[0]\n",
    "    c2 = a[1] * b[1]\n",
    "    c1 = ((a[1]+a[0]) * (b[1]+b[0]) - (c2+c0))\n",
    "    c = c0 + (c1 * (10**(len(a)/2))) + (c2 * (10**(len(a))))\n",
    "    return int(c)"
   ]
  },
  {
   "cell_type": "code",
   "execution_count": null,
   "metadata": {
    "ExecuteTime": {
     "end_time": "2024-02-12T14:09:45.724503300Z",
     "start_time": "2024-02-12T14:09:45.699491200Z"
    }
   },
   "outputs": [],
   "source": [
    "# Test case 1 - Multiplication of Large Integers\n",
    "a = 12\n",
    "b = 25\n",
    "result = multiplicationOfLargeInteger(str(a), str(b))\n",
    "print('The sum of the large integer is', result)"
   ]
  },
  {
   "cell_type": "code",
   "execution_count": null,
   "metadata": {
    "ExecuteTime": {
     "end_time": "2024-02-12T14:10:12.641438800Z",
     "start_time": "2024-02-12T14:10:12.632925Z"
    },
    "collapsed": false
   },
   "outputs": [],
   "source": [
    "# Test case 2 - Multiplication of Large Integers\n",
    "a = 23\n",
    "b = 14\n",
    "result = multiplicationOfLargeInteger(str(a),str(b))\n",
    "print('The sum of the large integer is',result)"
   ]
  },
  {
   "cell_type": "markdown",
   "metadata": {
    "collapsed": false
   },
   "source": [
    "### Strassen's Matrix Multiplication Implementation"
   ]
  },
  {
   "cell_type": "code",
   "execution_count": null,
   "metadata": {
    "ExecuteTime": {
     "end_time": "2024-02-12T14:11:45.414063900Z",
     "start_time": "2024-02-12T14:11:45.403486100Z"
    },
    "collapsed": false
   },
   "outputs": [],
   "source": [
    "# Strassen's Matrix Multiplication\n",
    "def StrassenMatrixMultiplication(matrix_A, matrix_B):\n",
    "    n = len(matrix_A)\n",
    "    if n == 1:\n",
    "        return [[matrix_A[0][0] * matrix_B[0][0]]]\n",
    "    \n",
    "    else:\n",
    "        m1 = (matrix_A[0][0] + matrix_A[1][1]) * (matrix_B[0][0] + matrix_B[1][1])\n",
    "        m2 = (matrix_A[0][0] + matrix_A[1][1]) * matrix_B[0][0]\n",
    "        m3 = matrix_A[0][0] * (matrix_B[0][1] - matrix_B[1][1])\n",
    "        m4 = matrix_A[1][1] * (matrix_B[1][0] - matrix_B[0][0])\n",
    "        m5 = (matrix_A[0][0] + matrix_A[0][1]) * matrix_B[1][1]\n",
    "        m6 = (matrix_A[1][0] - matrix_A[0][0]) * (matrix_B[0][0] + matrix_B[0][1])\n",
    "        m7 = (matrix_A[0][1] - matrix_A[1][1]) * (matrix_B[1][0] + matrix_B[1][1])\n",
    "        \n",
    "        c00 = m1 + m4 - m5 + m7\n",
    "        c01 = m3 + m5\n",
    "        c10 = m2 + m4\n",
    "        c11 = m1 - m2 + m3 + m6\n",
    "        \n",
    "        result_matrix = [[c00, c01] , [c10, c11]]\n",
    "        return result_matrix"
   ]
  },
  {
   "cell_type": "code",
   "execution_count": null,
   "metadata": {
    "ExecuteTime": {
     "end_time": "2024-02-12T14:11:46.064906300Z",
     "start_time": "2024-02-12T14:11:46.052717600Z"
    },
    "collapsed": false
   },
   "outputs": [],
   "source": [
    "# Test Case 1 - Strassen's Matrix Multiplication\n",
    "matrix_A = [[1, 3], \n",
    "            [7, 5]]\n",
    "matrix_B = [[6, 8], \n",
    "            [4, 2]]\n",
    "\n",
    "result = StrassenMatrixMultiplication(matrix_A, matrix_B)\n",
    "print(result)"
   ]
  },
  {
   "cell_type": "code",
   "execution_count": null,
   "metadata": {
    "ExecuteTime": {
     "end_time": "2024-02-12T14:11:46.898390700Z",
     "start_time": "2024-02-12T14:11:46.893391800Z"
    },
    "collapsed": false
   },
   "outputs": [],
   "source": [
    "# Test Case 2 - Strassen's Matrix Multiplication\n",
    "matrix_A = [[1, 2],\n",
    "            [3, 4]]\n",
    "matrix_B = [[17, 18],\n",
    "            [19, 20]]\n",
    "\n",
    "result = StrassenMatrixMultiplication(matrix_A, matrix_B)\n",
    "print(result)"
   ]
  },
  {
   "cell_type": "markdown",
   "metadata": {},
   "source": [
    "### Closet-Pair Problem by Divide and Conquer\n",
    "\n",
    "Reference 1 : https://www.geeksforgeeks.org/closest-pair-of-points-using-divide-and-conquer-algorithm/ <br>\n",
    "Reference 2 : https://www.youtube.com/watch?v=6u_hWxbOc7E\n",
    "\n",
    "Time Complexity : O(n log n)\n",
    "\n",
    "Input : Array of point P <br>\n",
    "Output : The smallest distance between 2 points in the Array\n",
    "\n",
    "Distance ระหว่างจุดจะใช้สูตรตามนี้\n",
    "\n",
    "<img src=\"https://media.hswstatic.com/eyJidWNrZXQiOiJjb250ZW50Lmhzd3N0YXRpYy5jb20iLCJrZXkiOiJnaWZcL2Rpc3RhbmNlLWZvcm11bGEuanBnIiwiZWRpdHMiOnsicmVzaXplIjp7IndpZHRoIjo4Mjh9fX0=\"/>"
   ]
  },
  {
   "cell_type": "code",
   "execution_count": null,
   "metadata": {
    "ExecuteTime": {
     "end_time": "2024-02-14T10:49:17.580497500Z",
     "start_time": "2024-02-14T10:49:17.545823Z"
    }
   },
   "outputs": [],
   "source": [
    "import math\n",
    "\n",
    "def dist(point_1, point_2):\n",
    "    x0, y0, x1, y1 = point_1[0] , point_1[1] , point_2[0] , point_2[1]\n",
    "    return math.sqrt((x0 - x1)**2 + (y0 - y1)**2 )\n",
    "\n",
    "def stripClosest(strip, size, d):\n",
    "    min_dist = d\n",
    "    strip = sorted(strip, key=lambda point: point[1])\n",
    "    \n",
    "    for i in range(size):\n",
    "        for j in range(i+1, size):\n",
    "            if (strip[j][1] - strip[i][1]) >= min_dist:\n",
    "                break\n",
    "            if dist(strip[i], strip[j]) < min_dist:\n",
    "                min_dist = dist(strip[i], strip[j])\n",
    "    return min_dist\n",
    "\n",
    "def bruteforce(P, n):\n",
    "    min_value = float(\"inf\")\n",
    "    for i in range(n):\n",
    "        for j in range(i+1,n):\n",
    "            curr_distance = dist(P[i], P[j])\n",
    "            if curr_distance < min_value:\n",
    "                min_value = curr_distance\n",
    "                \n",
    "    return min_value\n",
    "                \n",
    "    \n",
    "def closestPairUtil(P, n):\n",
    "    \n",
    "    # if size is lesser than 3 implement brute force algorithms instead.\n",
    "    if n < 3:\n",
    "        return bruteforce(P, n)\n",
    "        \n",
    "        \n",
    "    mid = n // 2 \n",
    "    midPoint = P[mid]\n",
    "    left = closestPairUtil(P, mid)\n",
    "    right = closestPairUtil(P, n - mid)\n",
    "    d = min(left, right)\n",
    "    \n",
    "    # Create the box from min dist and scan if there's a point that closer than the current min dist\n",
    "    strip = []\n",
    "    for i in range(n):\n",
    "        if abs(P[i][0] - midPoint[0]) < d:\n",
    "            strip.append(P[i])\n",
    "    \n",
    "    return min(d, stripClosest(strip, len(strip), d))\n",
    "\n",
    "def closestPair(array, n):\n",
    "    P = array.copy()\n",
    "    P = sorted(P, key=lambda x: x[0]) # เรียงโดยอ้างอิงจาก x coordinate\n",
    "    return closestPairUtil(P, n)"
   ]
  },
  {
   "cell_type": "code",
   "execution_count": null,
   "metadata": {
    "ExecuteTime": {
     "end_time": "2024-02-14T10:49:18.827056700Z",
     "start_time": "2024-02-14T10:49:18.816256Z"
    }
   },
   "outputs": [],
   "source": [
    "# Test Case 1 - Closest Pair Using Divide and Conquer algorithms\n",
    "point_list = [(1, 2), (3, 4), (5, 6), (7, 8), (9, 10), (2, 5)]\n",
    "n = len(point_list)\n",
    "print(\"The smallest distance is\", closestPair(point_list, n))"
   ]
  },
  {
   "cell_type": "code",
   "execution_count": null,
   "metadata": {
    "ExecuteTime": {
     "end_time": "2024-02-14T10:49:52.274950200Z",
     "start_time": "2024-02-14T10:49:52.266998200Z"
    },
    "collapsed": false
   },
   "outputs": [],
   "source": [
    "# Test Case 2 - Closest Pair using Divide and Conquer algorithms\n",
    "point_list = [(1, 2), (3, 4), (5, 6), (7, 8), (9, 10), (2, 5), (3, 3)]\n",
    "n = len(point_list)\n",
    "print(\"The smallest distance is\", closestPair(point_list, n))\n"
   ]
  },
  {
   "cell_type": "markdown",
   "metadata": {},
   "source": [
    "### Convex-Hull Problem by Divide and Conquer (QuickHull)\n",
    "\n",
    "Reference 1 : https://www.geeksforgeeks.org/quickhull-algorithm-convex-hull/ <br>\n",
    "Reference 2 : https://www.youtube.com/watch?v=2EKIZrimeuk"
   ]
  },
  {
   "cell_type": "code",
   "execution_count": 18,
   "metadata": {},
   "outputs": [],
   "source": [
    "hull = set()\n",
    "\n",
    "def findSide(p1, p2, p):\n",
    "    val = (p[1] - p1[1]) * (p2[0] - p1[0]) - (p2[1] - p1[1]) * (p[0] - p1[0])\n",
    " \n",
    "    if val > 0:\n",
    "        return 1\n",
    "    if val < 0:\n",
    "        return -1\n",
    "    return 0\n",
    "\n",
    "# หาค่าระยะทางระหว่างจุด p กับเส้นที่เชื่อมระหว่างจุด p1 และ p2\n",
    "def lineDist(p1, p2, p):\n",
    "    return abs((p[1] - p1[1]) * (p2[0] - p1[0]) -\n",
    "            (p2[1] - p1[1]) * (p[0] - p1[0]))\n",
    " \n",
    "# ทำการหา quick hell\n",
    "def quickHull(a, n, p1, p2, side):\n",
    " \n",
    "    ind = -1\n",
    "    max_dist = 0\n",
    " \n",
    "    # หาจุดที่มีระยะห่างเยอะที่สุด\n",
    "    for i in range(n):\n",
    "        temp = lineDist(p1, p2, a[i])\n",
    "         \n",
    "        if (findSide(p1, p2, a[i]) == side) and (temp > max_dist):\n",
    "            ind = i\n",
    "            max_dist = temp\n",
    " \n",
    "    # ในกรณีที่ไม่เจอระยะห่างระหว่างจุดที่เชื่อมกันเลย\n",
    "    if ind == -1:\n",
    "        hull.add(\"$\".join(map(str, p1)))\n",
    "        hull.add(\"$\".join(map(str, p2)))\n",
    "        return\n",
    "    # ทำซ้ำการ Recursive\n",
    "    quickHull(a, n, a[ind], p1, -findSide(a[ind], p1, p2))\n",
    "    quickHull(a, n, a[ind], p2, -findSide(a[ind], p2, p1))\n",
    " \n",
    "def printHull(a, n):\n",
    "    \n",
    "\n",
    "    if (n < 3):\n",
    "        print(\"Convex hull not possible\")\n",
    "        return\n",
    "    \n",
    "    # ถ้า จำนวนน้อยกว่า 3 ไม่สามารถที่จะวาดเส้นเป็นรูปร่างได้\n",
    " \n",
    "    # หาค่า Min max ที่สุดของ X\n",
    "    min_x = 0\n",
    "    max_x = 0\n",
    "    for i in range(1, n):\n",
    "        if a[i][0] < a[min_x][0]:\n",
    "            min_x = i\n",
    "        if a[i][0] > a[max_x][0]:\n",
    "            max_x = i\n",
    " \n",
    "    # Recursive หา quickHull ในกลุ่มแรกก่อน\n",
    "    quickHull(a, n, a[min_x], a[max_x], 1)\n",
    " \n",
    "    # Recursive อีกกลุ่มนึง กลายเป็นกลุ่มที่สอง\n",
    "    quickHull(a, n, a[min_x], a[max_x], -1)\n",
    " \n",
    "    print(\"The points in Convex Hull are:\")\n",
    "     \n",
    "    result = []\n",
    "    for element in hull:\n",
    "        x = element.split(\"$\")\n",
    "        result.append([int(x[0]), int(x[1])])\n",
    "\n",
    "    return result"
   ]
  },
  {
   "cell_type": "code",
   "execution_count": 26,
   "metadata": {
    "ExecuteTime": {
     "end_time": "2024-02-14T11:14:32.208805900Z",
     "start_time": "2024-02-14T11:14:32.175806300Z"
    },
    "collapsed": false
   },
   "outputs": [
    {
     "name": "stdout",
     "output_type": "stream",
     "text": [
      "The points in Convex Hull are:\n",
      "[[3, 1], [3, 3], [3, 0], [0, 0], [4, 4], [0, 3]]\n"
     ]
    }
   ],
   "source": [
    "# Test Case 1 - Quick Hull\n",
    "\n",
    "# Driver code\n",
    "a = [[0, 3], [1, 1], [2, 2], [4, 4],\n",
    "     [0, 0], [1, 2], [3, 1], [3, 3]]\n",
    "\n",
    "a.sort()\n",
    "n = len(a)\n",
    "result = printHull(a, n)\n",
    "print(result)"
   ]
  },
  {
   "cell_type": "code",
   "execution_count": 27,
   "metadata": {},
   "outputs": [
    {
     "name": "stdout",
     "output_type": "stream",
     "text": [
      "The points in Convex Hull are:\n",
      "[[3, 1], [3, 3], [3, 0], [0, 0], [4, 4], [0, 3]]\n"
     ]
    }
   ],
   "source": [
    "# Test Case 2 - Quick Hull\n",
    "b = [ [0, 3], [2, 2], [1, 1], [2, 1], [3, 0], [0, 0], [3, 3] ]\n",
    "\n",
    "n = len(b)\n",
    "result = printHull(b, n)\n",
    "print(result)"
   ]
  },
  {
   "cell_type": "markdown",
   "metadata": {},
   "source": [
    "### Convex Hull by Divide and Conquer (Alternate Version)\n",
    "\n",
    "Reference 1 : https://www.geeksforgeeks.org/convex-hull-using-divide-and-conquer-algorithm/ <br>\n",
    "Reference 2 : https://www.youtube.com/watch?v=EzeYI7p9MjU&t=3389s\n",
    "\n",
    "หลักการของอีกเวอร์ชั่นหนึ่ง จะใช้เวลา O(nlogn) โดยมีหลักการคร่าวๆ ดังนี้ <br>\n",
    "\n",
    "1. การแบ่ง (Divide): แบ่งชุดจุดออกเป็นสองชุดย่อยๆ ที่มีขนาดเท่าๆ กัน โดยใช้แนวแกนตั้งหรือแนวแกนนอน จนกว่าจะเหลือจุด 1 หรือ 2 จุดในแต่ละชุดย่อย\n",
    "\n",
    "2. การค้นหา Convex Hull ในแต่ละชุดย่อย (Conquer): ทำการค้นหา Convex Hull ในแต่ละชุดย่อยโดยใช้ Divide and Conquer โดยเรียกตัวเองเพื่อค้นหา Convex Hull ในแต่ละชุดย่อย โดยในขั้นตอนนี้จะมีวิธีการคือ\n",
    "   - หาจุดที่สูงที่สุดของทั้งสองฝั่งแล้วลากเส้น เป็น Upper Tangent\n",
    "   - หาจุดที่ต่ำที่สุดของทั้งสองฝั่งแล้วก็ลากเส้นเป็น Lower Tangent\n",
    "   - ลากเส้นระหว่าง 4 จุดให้กลายเป็นกรอบสี่เหลี่ยม\n",
    "   - จุดใดก็ตามที่อยู่ในกล่องสี่เหลี่ยมให้เอาออก ไม่พิจารณา\n",
    "   จากนั้นวนพิจารณาไปเรื่อยๆ\n",
    "\n",
    "3. การผนวก (Merge): ผนวกผลลัพธ์จากการค้นหา Convex Hull ในแต่ละชุดย่อยเพื่อให้ได้ Convex Hull ของชุดจุดเต็ม\n"
   ]
  },
  {
   "cell_type": "code",
   "execution_count": 29,
   "metadata": {},
   "outputs": [],
   "source": [
    "\n",
    "from functools import cmp_to_key\n",
    " \n",
    "mid = [0, 0]\n",
    " \n",
    "def quad(p):\n",
    "    if p[0] >= 0 and p[1] >= 0:\n",
    "        return 1\n",
    "    if p[0] <= 0 and p[1] >= 0:\n",
    "        return 2\n",
    "    if p[0] <= 0 and p[1] <= 0:\n",
    "        return 3\n",
    "    return 4\n",
    " \n",
    "# Checks whether the line is crossing the polygon\n",
    "def orientation(a, b, c):\n",
    "    res = (b[1]-a[1]) * (c[0]-b[0]) - (c[1]-b[1]) * (b[0]-a[0])\n",
    "    if res == 0:\n",
    "        return 0\n",
    "    if res > 0:\n",
    "        return 1\n",
    "    return -1\n",
    " \n",
    "# compare function for sorting\n",
    "def compare(p1, q1):\n",
    "    p = [p1[0]-mid[0], p1[1]-mid[1]]\n",
    "    q = [q1[0]-mid[0], q1[1]-mid[1]]\n",
    "    one = quad(p)\n",
    "    two = quad(q)\n",
    " \n",
    "    if one != two:\n",
    "        if one < two:\n",
    "            return -1\n",
    "        return 1\n",
    "    if p[1]*q[0] < q[1]*p[0]:\n",
    "        return -1\n",
    "    return 1\n",
    " \n",
    "def merger(a, b):\n",
    "\n",
    "    n1, n2 = len(a), len(b)\n",
    "    ia, ib = 0, 0\n",
    " \n",
    "    # iarightmost point of a\n",
    "    for i in range(1, n1):\n",
    "        if a[i][0] > a[ia][0]:\n",
    "            ia = i\n",
    " \n",
    "    # ib leftmost point of b\n",
    "    for i in range(1, n2):\n",
    "        if b[i][0] < b[ib][0]:\n",
    "            ib = i\n",
    "    # Upper tangent\n",
    "    inda, indb = ia, ib\n",
    "    done = 0\n",
    "    while not done:\n",
    "        done = 1\n",
    "        while orientation(b[indb], a[inda], a[(inda+1) % n1]) >= 0:\n",
    "            inda = (inda + 1) % n1\n",
    " \n",
    "        while orientation(a[inda], b[indb], b[(n2+indb-1) % n2]) <= 0:\n",
    "            indb = (indb - 1) % n2\n",
    "            done = 0\n",
    " \n",
    "    uppera, upperb = inda, indb\n",
    "    inda, indb = ia, ib\n",
    "    done = 0\n",
    "    g = 0\n",
    "    while not done:  # Lower tangent\n",
    "        done = 1\n",
    "        while orientation(a[inda], b[indb], b[(indb+1) % n2]) >= 0:\n",
    "            indb = (indb + 1) % n2\n",
    " \n",
    "        while orientation(b[indb], a[inda], a[(n1+inda-1) % n1]) <= 0:\n",
    "            inda = (inda - 1) % n1\n",
    "            done = 0\n",
    " \n",
    "    ret = []\n",
    "    lowera, lowerb = inda, indb\n",
    "\n",
    "    ind = uppera\n",
    "    ret.append(a[uppera])\n",
    "    while ind != lowera:\n",
    "        ind = (ind+1) % n1\n",
    "        ret.append(a[ind])\n",
    " \n",
    "    ind = lowerb\n",
    "    ret.append(b[lowerb])\n",
    "    while ind != upperb:\n",
    "        ind = (ind+1) % n2\n",
    "        ret.append(b[ind])\n",
    "    return ret\n",
    " \n",
    "def bruteHull(a):\n",
    "\n",
    "    global mid\n",
    "    s = set()\n",
    "    for i in range(len(a)):\n",
    "        for j in range(i+1, len(a)):\n",
    "            x1, x2 = a[i][0], a[j][0]\n",
    "            y1, y2 = a[i][1], a[j][1]\n",
    "            a1, b1, c1 = y1-y2, x2-x1, x1*y2-y1*x2\n",
    "            pos, neg = 0, 0\n",
    "            for k in range(len(a)):\n",
    "                if (k == i) or (k == j) or (a1*a[k][0]+b1*a[k][1]+c1 <= 0):\n",
    "                    neg += 1\n",
    "                if (k == i) or (k == j) or (a1*a[k][0]+b1*a[k][1]+c1 >= 0):\n",
    "                    pos += 1\n",
    "            if pos == len(a) or neg == len(a):\n",
    "                s.add(tuple(a[i]))\n",
    "                s.add(tuple(a[j]))\n",
    " \n",
    "    ret = []\n",
    "    for x in s:\n",
    "        ret.append(list(x))\n",
    " \n",
    "    # Sorting points in counter-clockwise\n",
    "    mid = [0, 0]\n",
    "    n = len(ret)\n",
    "    for i in range(n):\n",
    "        mid[0] += ret[i][0]\n",
    "        mid[1] += ret[i][1]\n",
    "        ret[i][0] *= n\n",
    "        ret[i][1] *= n\n",
    "    ret = sorted(ret, key=cmp_to_key(compare))\n",
    "    for i in range(n):\n",
    "        ret[i] = [ret[i][0]/n, ret[i][1]/n]\n",
    "    return ret\n",
    " \n",
    "def divide(a):\n",
    "\n",
    "    if len(a) <= 5:\n",
    "        return bruteHull(a)\n",
    " \n",
    "    # แบ่งเป็น 2 กลุ่ม\n",
    "    left, right = [], []\n",
    "    start = int(len(a)/2)\n",
    "    for i in range(start):\n",
    "        left.append(a[i])\n",
    "    for i in range(start, len(a)):\n",
    "        right.append(a[i])\n",
    " \n",
    "    left_hull = divide(left)\n",
    "    right_hull = divide(right)\n",
    " \n",
    "    # รวมกันในตอนท้าย\n",
    "    return merger(left_hull, right_hull)"
   ]
  },
  {
   "cell_type": "code",
   "execution_count": 37,
   "metadata": {},
   "outputs": [
    {
     "name": "stdout",
     "output_type": "stream",
     "text": [
      "Convex Hull:\n",
      "0 3\n",
      "0 0\n",
      "3 1\n",
      "4 4\n"
     ]
    },
    {
     "data": {
      "image/png": "[encoded data removed]",
      "text/plain": [
       "<Figure size 640x480 with 1 Axes>"
      ]
     },
     "metadata": {},
     "output_type": "display_data"
    }
   ],
   "source": [
    "# Test Case 1 - Convex hull divide and conquer\n",
    "a = [[0, 3], [1, 1], [2, 2], [4, 4], [0, 0], [1, 2], [3, 1], [3, 3]]\n",
    "n = len(a)\n",
    "    # Sort แกน X ก่อน\n",
    "a.sort()\n",
    "ans = divide(a)\n",
    " \n",
    "print('Convex Hull:')\n",
    "for x in ans:\n",
    "    print(int(x[0]), int(x[1]))\n",
    "\n",
    "import matplotlib.pyplot as plt\n",
    "\n",
    "x = [int(x[0]) for x in a]\n",
    "y = [int(x[1]) for x in a]\n",
    "\n",
    "plt.plot(x, y, 'ro')\n",
    "\n",
    "for i in range(len(ans)):\n",
    "    if i == len(ans)-1:\n",
    "        plt.plot([ans[i][0], ans[0][0]], [ans[i][1], ans[0][1]], 'k-')\n",
    "    else:\n",
    "        plt.plot([ans[i][0], ans[i+1][0]], [ans[i][1], ans[i+1][1]], 'k-')"
   ]
  },
  {
   "cell_type": "code",
   "execution_count": 38,
   "metadata": {},
   "outputs": [
    {
     "name": "stdout",
     "output_type": "stream",
     "text": [
      "Convex Hull:\n",
      "1 4\n",
      "1 -5\n",
      "5 2\n",
      "2 7\n"
     ]
    },
    {
     "data": {
      "image/png": "[encoded data removed]",
      "text/plain": [
       "<Figure size 640x480 with 1 Axes>"
      ]
     },
     "metadata": {},
     "output_type": "display_data"
    }
   ],
   "source": [
    "# Test Case 2 - Convex hull divide and conquer\n",
    "b = [[1, -5], [2,7], [1,4] , [2,3] , [4,1], [5,2] ]\n",
    "n = len(b)\n",
    "\n",
    "b.sort()\n",
    "ans = divide(b)\n",
    "\n",
    "print('Convex Hull:')\n",
    "for x in ans:\n",
    "    print(int(x[0]), int(x[1]))\n",
    "\n",
    "x = [int(x[0]) for x in b]\n",
    "y = [int(x[1]) for x in b]\n",
    "\n",
    "plt.plot(x, y, 'ro')\n",
    "\n",
    "for i in range(len(ans)):\n",
    "    if i == len(ans)-1:\n",
    "        plt.plot([ans[i][0], ans[0][0]], [ans[i][1], ans[0][1]], 'k-')\n",
    "    else:\n",
    "        plt.plot([ans[i][0], ans[i+1][0]], [ans[i][1], ans[i+1][1]], 'k-')\n",
    "\n",
    "plt.show()"
   ]
  },
  {
   "cell_type": "markdown",
   "metadata": {},
   "source": [
    "<hr><br>\n",
    "<div style=\"text-align:center;\">\n",
    "    <b>เป็นคนไม่เอาถ่านบ้านมีเตาแก๊ส</b>\n",
    "    <p style=\"color: greenyellow;\">ศวิษฐ์ โกสียอัมพร 65070506026</p>\n",
    "    <p style=\"color: orange\">ธวัลรัตน์ โรจน์อมรรัตน์ 65070506037</p>\n",
    "    <p style=\"color: hotpink;\">ปุญชญา จันทร์เจริญ 65070506039</p>\n",
    "</div>"
   ]
  }
 ],
 "metadata": {
  "kernelspec": {
   "display_name": "Python 3",
   "language": "python",
   "name": "python3"
  },
  "language_info": {
   "codemirror_mode": {
    "name": "ipython",
    "version": 3
   },
   "file_extension": ".py",
   "mimetype": "text/x-python",
   "name": "python",
   "nbconvert_exporter": "python",
   "pygments_lexer": "ipython3",
   "version": "3.11.4"
  }
 },
 "nbformat": 4,
 "nbformat_minor": 2
}
