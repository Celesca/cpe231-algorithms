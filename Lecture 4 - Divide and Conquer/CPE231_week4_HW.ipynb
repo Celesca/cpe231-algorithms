{
 "cells": [
  {
   "cell_type": "markdown",
   "metadata": {},
   "source": [
    "### Merge Sort"
   ]
  },
  {
   "cell_type": "code",
   "execution_count": 2,
   "metadata": {
    "ExecuteTime": {
     "end_time": "2024-02-12T07:08:58.076459800Z",
     "start_time": "2024-02-12T07:08:58.068411300Z"
    }
   },
   "outputs": [],
   "source": [
    "def Merge(left,right,seq):\n",
    "    i = j = 0\n",
    "    while i + j < len(seq):\n",
    "        if j == len(right) or (i < len(left) and left[i] < right[j]):\n",
    "            seq[i+j] = left[i]\n",
    "            i += 1\n",
    "        else:\n",
    "\n",
    "            seq[i+j] = right[j]\n",
    "            j += 1\n",
    "\n",
    "    return seq\n",
    "\n",
    "\n",
    "def MergeSort(input_array):\n",
    "\n",
    "    n = len(input_array)\n",
    "\n",
    "    if n < 2:\n",
    "        return # list is already sorted\n",
    "    mid = len(input_array) // 2\n",
    "    L = input_array[:mid]\n",
    "    R = input_array[mid:n]\n",
    "    MergeSort(L)\n",
    "    \n",
    "    MergeSort(R)\n",
    "    \n",
    "    result = Merge(L,R,input_array)\n",
    "    return result"
   ]
  },
  {
   "cell_type": "code",
   "execution_count": 3,
   "metadata": {
    "ExecuteTime": {
     "end_time": "2024-02-12T07:08:59.153797Z",
     "start_time": "2024-02-12T07:08:59.122897500Z"
    }
   },
   "outputs": [
    {
     "name": "stdout",
     "output_type": "stream",
     "text": [
      "[5, 6, 7, 11, 12, 13]\n"
     ]
    }
   ],
   "source": [
    "# Test Case 1 - Merge Sort\n",
    "input_array = [12, 11, 13, 5, 6, 7]\n",
    "result = MergeSort(input_array)\n",
    "\n",
    "print(result)"
   ]
  },
  {
   "cell_type": "code",
   "execution_count": 4,
   "metadata": {
    "ExecuteTime": {
     "end_time": "2024-02-12T06:51:33.339561400Z",
     "start_time": "2024-02-12T06:51:33.307013200Z"
    }
   },
   "outputs": [
    {
     "name": "stdout",
     "output_type": "stream",
     "text": [
      "Before sorted: [46, 50, 10, 3, 31, 83, 32, 11, 62, 71]\n",
      "After sorted: [3, 10, 11, 31, 32, 46, 50, 62, 71, 83]\n"
     ]
    }
   ],
   "source": [
    "# Test Case 2 - Merge Sort\n",
    "from random import randint\n",
    "\n",
    "input_array = [randint(0, 100) for i in range(10)]\n",
    "print(\"Before sorted:\" , input_array)\n",
    "result = MergeSort(input_array)\n",
    "print(\"After sorted:\", result)"
   ]
  },
  {
   "cell_type": "markdown",
   "metadata": {},
   "source": [
    "### Quick Sort by using Lomuto Partition first."
   ]
  },
  {
   "cell_type": "code",
   "execution_count": 5,
   "metadata": {
    "ExecuteTime": {
     "end_time": "2024-02-12T06:51:37.169854500Z",
     "start_time": "2024-02-12T06:51:37.159843900Z"
    }
   },
   "outputs": [],
   "source": [
    "def LomutoPartition(A,l,r):\n",
    "    p = A[l]\n",
    "    s = l\n",
    "\n",
    "    for i in range(l+1,r+1):\n",
    "        if A[i] < p:\n",
    "            s += 1\n",
    "            A[s], A[i] = A[i], A[s]\n",
    "\n",
    "    A[l], A[s] = A[s], A[l]\n",
    "    return s"
   ]
  },
  {
   "cell_type": "code",
   "execution_count": 6,
   "metadata": {
    "ExecuteTime": {
     "end_time": "2024-02-12T06:51:37.792001500Z",
     "start_time": "2024-02-12T06:51:37.781976700Z"
    }
   },
   "outputs": [],
   "source": [
    "def QuickSort(A,l,r):\n",
    "    if l < r:\n",
    "        s = LomutoPartition(A,l,r)\n",
    "        QuickSort(A,l,s-1)\n",
    "        QuickSort(A,s+1,r)"
   ]
  },
  {
   "cell_type": "code",
   "execution_count": 6,
   "metadata": {
    "ExecuteTime": {
     "end_time": "2024-02-10T17:50:53.787761700Z",
     "start_time": "2024-02-10T17:50:53.775420Z"
    }
   },
   "outputs": [
    {
     "name": "stdout",
     "output_type": "stream",
     "text": [
      "Before sorted : [12, 11, 13, 5, 6, 7]\n",
      "After sorted : [5, 6, 7, 11, 12, 13]\n"
     ]
    }
   ],
   "source": [
    "# Test Case 1 - Quick Sort with Lumoto Partition\n",
    "test_array = [12, 11, 13, 5, 6, 7]\n",
    "\n",
    "print(\"Before sorted :\",test_array)\n",
    "QuickSort(test_array,0,len(test_array)-1)\n",
    "print(\"After sorted :\",test_array)"
   ]
  },
  {
   "cell_type": "code",
   "execution_count": 7,
   "metadata": {
    "ExecuteTime": {
     "end_time": "2024-02-12T06:51:39.762501200Z",
     "start_time": "2024-02-12T06:51:39.749967800Z"
    }
   },
   "outputs": [
    {
     "name": "stdout",
     "output_type": "stream",
     "text": [
      "Before sorted : [50, 34, 30, 79, 13, 71, 45, 65, 95, 25, 15, 8, 19, 65, 58, 94, 97, 31, 70, 34]\n",
      "After sorted : [8, 13, 15, 19, 25, 30, 31, 34, 34, 45, 50, 58, 65, 65, 70, 71, 79, 94, 95, 97]\n"
     ]
    }
   ],
   "source": [
    "# Test Case 2 - Quick Sort with Lumoto Partition\n",
    "from random import randint\n",
    "test_array = [randint(0, 100) for _ in range(20)]\n",
    "\n",
    "print(\"Before sorted :\", test_array)\n",
    "\n",
    "QuickSort(test_array,0,len(test_array)-1)\n",
    "print(\"After sorted :\", test_array)"
   ]
  },
  {
   "cell_type": "markdown",
   "metadata": {},
   "source": [
    "### Practice II : Quick Sort with Hoare Partition"
   ]
  },
  {
   "cell_type": "code",
   "execution_count": 8,
   "metadata": {
    "ExecuteTime": {
     "end_time": "2024-02-12T06:51:45.517323Z",
     "start_time": "2024-02-12T06:51:45.510960200Z"
    }
   },
   "outputs": [],
   "source": [
    "def HoarePartition(A, l, r):\n",
    "    pivot = A[l]\n",
    "    i = l - 1\n",
    "    j = r + 1\n",
    "    while True:\n",
    "        i = i + 1\n",
    "        while A[i] < pivot:\n",
    "            i = i + 1\n",
    "        j = j - 1\n",
    "        while A[j] > pivot:\n",
    "            j = j - 1\n",
    "        if i >= j:\n",
    "            return j # ตัวสุดท้าย\n",
    "        A[i], A[j] = A[j], A[i]"
   ]
  },
  {
   "cell_type": "code",
   "execution_count": 9,
   "metadata": {
    "ExecuteTime": {
     "end_time": "2024-02-12T06:51:46.660034Z",
     "start_time": "2024-02-12T06:51:46.651340700Z"
    }
   },
   "outputs": [],
   "source": [
    "def QuickSort(A,l,r):\n",
    "    if l < r:\n",
    "        s = HoarePartition(A,l,r)\n",
    "        QuickSort(A,l,s-1)\n",
    "        QuickSort(A,s+1,r)"
   ]
  },
  {
   "cell_type": "code",
   "execution_count": 10,
   "metadata": {
    "ExecuteTime": {
     "end_time": "2024-02-12T06:51:47.257595500Z",
     "start_time": "2024-02-12T06:51:47.246581800Z"
    }
   },
   "outputs": [
    {
     "name": "stdout",
     "output_type": "stream",
     "text": [
      "Before sorted : [5, 3, 1, 4, 2, 8, 9, 7]\n",
      "After sorted : [1, 2, 3, 4, 5, 7, 8, 9]\n"
     ]
    }
   ],
   "source": [
    "# Test Case 1 - Quick Sort with Hoare Partition\n",
    "list_1 = [5,3,1,4,2,8,9,7]\n",
    "\n",
    "print(\"Before sorted :\", list_1)\n",
    "\n",
    "QuickSort(list_1, 0, len(list_1) - 1)\n",
    "\n",
    "print(\"After sorted :\", list_1)"
   ]
  },
  {
   "cell_type": "code",
   "execution_count": 11,
   "metadata": {
    "ExecuteTime": {
     "end_time": "2024-02-10T17:51:06.779955600Z",
     "start_time": "2024-02-10T17:51:06.769552200Z"
    }
   },
   "outputs": [
    {
     "name": "stdout",
     "output_type": "stream",
     "text": [
      "Before sorted : [23, 93, 39, 25, 24, 70, 16, 33, 71, 59, 53, 78, 95, 7, 84, 61, 25, 23, 39, 80]\n",
      "After sorted : [7, 23, 16, 23, 24, 25, 33, 39, 25, 39, 53, 59, 70, 71, 61, 80, 78, 84, 93, 95]\n"
     ]
    }
   ],
   "source": [
    "# Test Case 2 - Quick Sort with Hoare Partition\n",
    "from random import randint\n",
    "list_2 = [randint(0, 100) for _ in range(20)]\n",
    "\n",
    "print(\"Before sorted :\", list_2)\n",
    "\n",
    "QuickSort(list_2, 0, len(list_2) - 1)\n",
    "\n",
    "print(\"After sorted :\", list_2)"
   ]
  },
  {
   "cell_type": "markdown",
   "metadata": {},
   "source": [
    "### Multiplication of Large Integers"
   ]
  },
  {
   "cell_type": "code",
   "execution_count": 1,
   "metadata": {},
   "outputs": [],
   "source": [
    "# Multiplication of Large integers\n",
    "def LargeIntegerMultiplication(x,y):\n",
    "    n = len(x)\n",
    "    if n == 1:\n",
    "        return x[0] * y[0]\n",
    "    else:\n",
    "        a = x[:n//2]\n",
    "        b = x[n//2:]\n",
    "        c = y[:n//2]\n",
    "        d = y[n//2:]\n",
    "        ac = LargeIntegerMultiplication(a,c)\n",
    "        bd = LargeIntegerMultiplication(b,d)\n",
    "        ad_bc = LargeIntegerMultiplication(a,b) + LargeIntegerMultiplication(c,d) - ac - bd\n",
    "        return (10 ** n) * ac + (10 ** (n//2)) * ad_bc + bd"
   ]
  },
  {
   "cell_type": "code",
   "execution_count": null,
   "metadata": {},
   "outputs": [],
   "source": [
    "# Test Case 1 - Multiplication of Large Integers\n",
    "a = 24\n",
    "b = 16\n",
    "result = LargeIntegerMultiplication(24,16)"
   ]
  },
  {
   "cell_type": "markdown",
   "source": [
    "### Strassen's Matrix Multiplication"
   ],
   "metadata": {
    "collapsed": false
   }
  },
  {
   "cell_type": "markdown",
   "metadata": {},
   "source": []
  },
  {
   "cell_type": "code",
   "outputs": [],
   "source": [
    "# Strassen's Matrix Multiplication\n",
    "def StrassenMatrixMultiplication(matrix_A, matrix_B):\n",
    "    n = len(matrix_A)\n",
    "    if n == 1:\n",
    "        return [[matrix_A[0][0] * matrix_B[0][0]]]\n",
    "    \n",
    "    else:\n",
    "        m1 = (matrix_A[0][0] + matrix_A[1][1]) * (matrix_B[0][0] + matrix_B[1][1])\n",
    "        m2 = (matrix_A[0][0] + matrix_A[1][1]) * matrix_B[0][0]\n",
    "        m3 = matrix_A[0][0] * (matrix_B[0][1] - matrix_B[1][1])\n",
    "        m4 = matrix_A[1][1] * (matrix_B[1][0] - matrix_B[0][0])\n",
    "        m5 = (matrix_A[0][0] + matrix_A[0][1]) * matrix_B[1][1]\n",
    "        m6 = (matrix_A[1][0] - matrix_A[0][0]) * (matrix_B[0][0] + matrix_B[0][1])\n",
    "        m7 = (matrix_A[0][1] - matrix_A[1][1]) * (matrix_B[1][0] + matrix_B[1][1])\n",
    "        \n",
    "        c00 = m1 + m4 - m5 + m7\n",
    "        c01 = m3 + m5\n",
    "        c10 = m2 + m4\n",
    "        c11 = m1 - m2 + m3 + m6\n",
    "        \n",
    "        result_matrix = [[c00, c01] , [c10, c11]]\n",
    "        return result_matrix"
   ],
   "metadata": {
    "collapsed": false,
    "ExecuteTime": {
     "end_time": "2024-02-12T10:36:30.616081300Z",
     "start_time": "2024-02-12T10:36:30.608237100Z"
    }
   },
   "execution_count": 6
  },
  {
   "cell_type": "code",
   "outputs": [
    {
     "name": "stdout",
     "output_type": "stream",
     "text": [
      "[[18, 14], [26, 102]]\n"
     ]
    }
   ],
   "source": [
    "# Test Case 1 - Strassen's Matrix Multiplication\n",
    "matrix_A = [[1, 3], [7, 5]]\n",
    "matrix_B = [[6, 8], [4, 2]]\n",
    "\n",
    "result = StrassenMatrixMultiplication(matrix_A, matrix_B)\n",
    "print(result)"
   ],
   "metadata": {
    "collapsed": false,
    "ExecuteTime": {
     "end_time": "2024-02-12T10:37:01.665657800Z",
     "start_time": "2024-02-12T10:37:01.641283600Z"
    }
   },
   "execution_count": 7
  },
  {
   "cell_type": "markdown",
   "metadata": {},
   "source": [
    "### Closet-Pair Problem by Divide and Conquer"
   ]
  },
  {
   "cell_type": "code",
   "execution_count": 12,
   "metadata": {
    "ExecuteTime": {
     "end_time": "2024-02-10T17:52:54.944324Z",
     "start_time": "2024-02-10T17:52:54.812946900Z"
    }
   },
   "outputs": [],
   "source": []
  },
  {
   "cell_type": "markdown",
   "metadata": {},
   "source": [
    "### Convex-Hull Problem by Divide and Conquer"
   ]
  },
  {
   "cell_type": "code",
   "execution_count": null,
   "metadata": {},
   "outputs": [],
   "source": []
  }
 ],
 "metadata": {
  "kernelspec": {
   "display_name": "Python 3",
   "language": "python",
   "name": "python3"
  },
  "language_info": {
   "codemirror_mode": {
    "name": "ipython",
    "version": 3
   },
   "file_extension": ".py",
   "mimetype": "text/x-python",
   "name": "python",
   "nbconvert_exporter": "python",
   "pygments_lexer": "ipython3",
   "version": "3.11.4"
  }
 },
 "nbformat": 4,
 "nbformat_minor": 2
}
