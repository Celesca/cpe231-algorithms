{
 "cells": [
  {
   "cell_type": "markdown",
   "metadata": {},
   "source": [
    "### Merge Sort"
   ]
  },
  {
   "cell_type": "code",
   "execution_count": 11,
   "metadata": {},
   "outputs": [],
   "source": [
    "def Merge(left,right,seq):\n",
    "    i = j = 0\n",
    "    while i + j < len(seq):\n",
    "        if j == len(right) or (i < len(left) and left[i] < right[j]):\n",
    "            seq[i+j] = left[i]\n",
    "            i += 1\n",
    "        else:\n",
    "\n",
    "            seq[i+j] = right[j]\n",
    "            j += 1\n",
    "\n",
    "    return seq\n",
    "\n",
    "\n",
    "def MergeSort(input_array):\n",
    "\n",
    "    n = len(input_array)\n",
    "\n",
    "    if n < 2:\n",
    "        return # list is already sorted\n",
    "    mid = len(input_array) // 2\n",
    "    L = input_array[:mid]\n",
    "    R = input_array[mid:n]\n",
    "    MergeSort(L)\n",
    "    \n",
    "    MergeSort(R)\n",
    "    \n",
    "    result = Merge(L,R,input_array)\n",
    "    return result"
   ]
  },
  {
   "cell_type": "code",
   "execution_count": 12,
   "metadata": {},
   "outputs": [
    {
     "name": "stdout",
     "output_type": "stream",
     "text": [
      "[5, 6, 7, 11, 12, 13]\n"
     ]
    }
   ],
   "source": [
    "# Test Case 1 - Merge Sort\n",
    "input_array = [12, 11, 13, 5, 6, 7]\n",
    "result = MergeSort(input_array)\n",
    "\n",
    "print(result)"
   ]
  },
  {
   "cell_type": "code",
   "execution_count": 13,
   "metadata": {},
   "outputs": [
    {
     "name": "stdout",
     "output_type": "stream",
     "text": [
      "Before sorted: [88, 2, 13, 74, 16, 0, 59, 5, 71, 4]\n",
      "After sorted: [0, 2, 4, 5, 13, 16, 59, 71, 74, 88]\n"
     ]
    }
   ],
   "source": [
    "# Test Case 2 - Merge Sort\n",
    "from random import randint\n",
    "\n",
    "input_array = [randint(0, 100) for i in range(10)]\n",
    "print(\"Before sorted:\" , input_array)\n",
    "result = MergeSort(input_array)\n",
    "print(\"After sorted:\", result)"
   ]
  },
  {
   "cell_type": "markdown",
   "metadata": {},
   "source": [
    "### Quick Sort by using Lomuto Partition first."
   ]
  },
  {
   "cell_type": "code",
   "execution_count": 17,
   "metadata": {},
   "outputs": [],
   "source": [
    "def LomutoPartition(A,l,r):\n",
    "    p = A[l]\n",
    "    s = l\n",
    "\n",
    "    for i in range(l+1,r+1):\n",
    "        if A[i] < p:\n",
    "            s += 1\n",
    "            A[s], A[i] = A[i], A[s]\n",
    "\n",
    "    A[l], A[s] = A[s], A[l]\n",
    "    return s"
   ]
  },
  {
   "cell_type": "code",
   "execution_count": 18,
   "metadata": {},
   "outputs": [],
   "source": [
    "def QuickSort(A,l,r):\n",
    "    if l < r:\n",
    "        s = LomutoPartition(A,l,r)\n",
    "        QuickSort(A,l,s-1)\n",
    "        QuickSort(A,s+1,r)"
   ]
  },
  {
   "cell_type": "code",
   "execution_count": 21,
   "metadata": {},
   "outputs": [
    {
     "name": "stdout",
     "output_type": "stream",
     "text": [
      "Before sorted : [12, 11, 13, 5, 6, 7]\n",
      "After sorted : [5, 6, 7, 11, 12, 13]\n"
     ]
    }
   ],
   "source": [
    "# Test Case 1 - Quick Sort with Lumoto Partition\n",
    "test_array = [12, 11, 13, 5, 6, 7]\n",
    "\n",
    "print(\"Before sorted :\",test_array)\n",
    "QuickSort(test_array,0,len(test_array)-1)\n",
    "print(\"After sorted :\",test_array)"
   ]
  },
  {
   "cell_type": "code",
   "execution_count": 23,
   "metadata": {},
   "outputs": [
    {
     "name": "stdout",
     "output_type": "stream",
     "text": [
      "Before sorted : [71, 21, 92, 32, 1, 59, 16, 38, 99, 14, 45, 62, 21, 43, 68, 50, 39, 2, 9, 34]\n",
      "After sorted : [1, 2, 9, 14, 16, 21, 21, 32, 34, 38, 39, 43, 45, 50, 59, 62, 68, 71, 92, 99]\n"
     ]
    }
   ],
   "source": [
    "# Test Case 2 - Quick Sort with Lumoto Partition\n",
    "from random import randint\n",
    "test_array = [randint(0, 100) for _ in range(20)]\n",
    "\n",
    "print(\"Before sorted :\", test_array)\n",
    "\n",
    "QuickSort(test_array,0,len(test_array)-1)\n",
    "print(\"After sorted :\", test_array)"
   ]
  },
  {
   "cell_type": "markdown",
   "metadata": {},
   "source": [
    "### Quick Sort with Hoare Partition"
   ]
  },
  {
   "cell_type": "code",
   "execution_count": 50,
   "metadata": {},
   "outputs": [],
   "source": [
    "def HoarePartition(A, l, r):\n",
    "    pivot = A[l]\n",
    "    i = l - 1\n",
    "    j = r + 1\n",
    "    while True:\n",
    "        i = i + 1\n",
    "        while A[i] < pivot:\n",
    "            i = i + 1\n",
    "        j = j - 1\n",
    "        while A[j] > pivot:\n",
    "            j = j - 1\n",
    "        if i >= j:\n",
    "            return j # ตัวสุดท้าย\n",
    "        A[i], A[j] = A[j], A[i]"
   ]
  },
  {
   "cell_type": "code",
   "execution_count": 52,
   "metadata": {},
   "outputs": [],
   "source": [
    "def QuickSort(A,l,r):\n",
    "    if l < r:\n",
    "        s = HoarePartition(A,l,r)\n",
    "        QuickSort(A,l,s-1)\n",
    "        QuickSort(A,s+1,r)"
   ]
  },
  {
   "cell_type": "code",
   "execution_count": 53,
   "metadata": {},
   "outputs": [
    {
     "name": "stdout",
     "output_type": "stream",
     "text": [
      "Before sorted : [5, 3, 1, 4, 2, 8, 9, 7]\n",
      "After sorted : [1, 2, 3, 4, 5, 7, 8, 9]\n"
     ]
    }
   ],
   "source": [
    "# Test Case 1 - Quick Sort with Hoare Partition\n",
    "list_1 = [5,3,1,4,2,8,9,7]\n",
    "\n",
    "print(\"Before sorted :\", list_1)\n",
    "\n",
    "QuickSort(list_1, 0, len(list_1) - 1)\n",
    "\n",
    "print(\"After sorted :\", list_1)"
   ]
  },
  {
   "cell_type": "code",
   "execution_count": 54,
   "metadata": {},
   "outputs": [
    {
     "name": "stdout",
     "output_type": "stream",
     "text": [
      "Before sorted : [97, 62, 19, 67, 62, 20, 28, 38, 56, 65, 23, 5, 34, 20, 54, 20, 53, 29, 86, 96]\n",
      "After sorted : [5, 20, 19, 20, 20, 23, 28, 29, 34, 38, 56, 54, 62, 62, 65, 67, 53, 96, 86, 97]\n"
     ]
    }
   ],
   "source": [
    "# Test Case 2 - Quick Sort with Hoare Partition\n",
    "from random import randint\n",
    "list_2 = [randint(0, 100) for _ in range(20)]\n",
    "\n",
    "print(\"Before sorted :\", list_2)\n",
    "\n",
    "QuickSort(list_2, 0, len(list_2) - 1)\n",
    "\n",
    "print(\"After sorted :\", list_2)"
   ]
  },
  {
   "cell_type": "markdown",
   "metadata": {},
   "source": [
    "### Multiplication of Large Integers"
   ]
  },
  {
   "cell_type": "code",
   "execution_count": 1,
   "metadata": {},
   "outputs": [],
   "source": []
  },
  {
   "cell_type": "code",
   "execution_count": null,
   "metadata": {},
   "outputs": [],
   "source": []
  },
  {
   "cell_type": "markdown",
   "metadata": {},
   "source": [
    "### Strassen's Matrix Multiplication"
   ]
  },
  {
   "cell_type": "markdown",
   "metadata": {},
   "source": []
  },
  {
   "cell_type": "markdown",
   "metadata": {},
   "source": [
    "### Closet-Pair Problem by Divide and Conquer"
   ]
  },
  {
   "cell_type": "code",
   "execution_count": null,
   "metadata": {},
   "outputs": [],
   "source": []
  },
  {
   "cell_type": "markdown",
   "metadata": {},
   "source": [
    "### Convex-Hull Problem by Divide and Conquer"
   ]
  },
  {
   "cell_type": "code",
   "execution_count": null,
   "metadata": {},
   "outputs": [],
   "source": []
  }
 ],
 "metadata": {
  "kernelspec": {
   "display_name": "Python 3",
   "language": "python",
   "name": "python3"
  },
  "language_info": {
   "codemirror_mode": {
    "name": "ipython",
    "version": 3
   },
   "file_extension": ".py",
   "mimetype": "text/x-python",
   "name": "python",
   "nbconvert_exporter": "python",
   "pygments_lexer": "ipython3",
   "version": "3.11.4"
  }
 },
 "nbformat": 4,
 "nbformat_minor": 2
}
