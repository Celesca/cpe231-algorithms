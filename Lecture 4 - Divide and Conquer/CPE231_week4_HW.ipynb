{
 "cells": [
  {
   "cell_type": "markdown",
   "metadata": {},
   "source": [
    "### Merge Sort"
   ]
  },
  {
   "cell_type": "code",
   "execution_count": 1,
   "metadata": {
    "ExecuteTime": {
     "end_time": "2024-02-10T17:50:39.298319Z",
     "start_time": "2024-02-10T17:50:39.278297100Z"
    }
   },
   "outputs": [],
   "source": [
    "def Merge(left,right,seq):\n",
    "    i = j = 0\n",
    "    while i + j < len(seq):\n",
    "        if j == len(right) or (i < len(left) and left[i] < right[j]):\n",
    "            seq[i+j] = left[i]\n",
    "            i += 1\n",
    "        else:\n",
    "\n",
    "            seq[i+j] = right[j]\n",
    "            j += 1\n",
    "\n",
    "    return seq\n",
    "\n",
    "\n",
    "def MergeSort(input_array):\n",
    "\n",
    "    n = len(input_array)\n",
    "\n",
    "    if n < 2:\n",
    "        return # list is already sorted\n",
    "    mid = len(input_array) // 2\n",
    "    L = input_array[:mid]\n",
    "    R = input_array[mid:n]\n",
    "    MergeSort(L)\n",
    "    \n",
    "    MergeSort(R)\n",
    "    \n",
    "    result = Merge(L,R,input_array)\n",
    "    return result"
   ]
  },
  {
   "cell_type": "code",
   "execution_count": 2,
   "metadata": {
    "ExecuteTime": {
     "end_time": "2024-02-10T17:50:41.874582400Z",
     "start_time": "2024-02-10T17:50:41.851063500Z"
    }
   },
   "outputs": [
    {
     "name": "stdout",
     "output_type": "stream",
     "text": [
      "[5, 6, 7, 11, 12, 13]\n"
     ]
    }
   ],
   "source": [
    "# Test Case 1 - Merge Sort\n",
    "input_array = [12, 11, 13, 5, 6, 7]\n",
    "result = MergeSort(input_array)\n",
    "\n",
    "print(result)"
   ]
  },
  {
   "cell_type": "code",
   "execution_count": 3,
   "metadata": {
    "ExecuteTime": {
     "end_time": "2024-02-10T17:50:44.664633500Z",
     "start_time": "2024-02-10T17:50:44.647782700Z"
    }
   },
   "outputs": [
    {
     "name": "stdout",
     "output_type": "stream",
     "text": [
      "Before sorted: [32, 79, 77, 37, 42, 25, 88, 49, 29, 12]\n",
      "After sorted: [12, 25, 29, 32, 37, 42, 49, 77, 79, 88]\n"
     ]
    }
   ],
   "source": [
    "# Test Case 2 - Merge Sort\n",
    "from random import randint\n",
    "\n",
    "input_array = [randint(0, 100) for i in range(10)]\n",
    "print(\"Before sorted:\" , input_array)\n",
    "result = MergeSort(input_array)\n",
    "print(\"After sorted:\", result)"
   ]
  },
  {
   "cell_type": "markdown",
   "metadata": {},
   "source": [
    "### Quick Sort by using Lomuto Partition first."
   ]
  },
  {
   "cell_type": "code",
   "execution_count": 4,
   "metadata": {
    "ExecuteTime": {
     "end_time": "2024-02-10T17:50:50.044431300Z",
     "start_time": "2024-02-10T17:50:50.034911100Z"
    }
   },
   "outputs": [],
   "source": [
    "def LomutoPartition(A,l,r):\n",
    "    p = A[l]\n",
    "    s = l\n",
    "\n",
    "    for i in range(l+1,r+1):\n",
    "        if A[i] < p:\n",
    "            s += 1\n",
    "            A[s], A[i] = A[i], A[s]\n",
    "\n",
    "    A[l], A[s] = A[s], A[l]\n",
    "    return s"
   ]
  },
  {
   "cell_type": "code",
   "execution_count": 5,
   "metadata": {
    "ExecuteTime": {
     "end_time": "2024-02-10T17:50:52.893641700Z",
     "start_time": "2024-02-10T17:50:52.881119600Z"
    }
   },
   "outputs": [],
   "source": [
    "def QuickSort(A,l,r):\n",
    "    if l < r:\n",
    "        s = LomutoPartition(A,l,r)\n",
    "        QuickSort(A,l,s-1)\n",
    "        QuickSort(A,s+1,r)"
   ]
  },
  {
   "cell_type": "code",
   "execution_count": 6,
   "metadata": {
    "ExecuteTime": {
     "end_time": "2024-02-10T17:50:53.787761700Z",
     "start_time": "2024-02-10T17:50:53.775420Z"
    }
   },
   "outputs": [
    {
     "name": "stdout",
     "output_type": "stream",
     "text": [
      "Before sorted : [12, 11, 13, 5, 6, 7]\n",
      "After sorted : [5, 6, 7, 11, 12, 13]\n"
     ]
    }
   ],
   "source": [
    "# Test Case 1 - Quick Sort with Lumoto Partition\n",
    "test_array = [12, 11, 13, 5, 6, 7]\n",
    "\n",
    "print(\"Before sorted :\",test_array)\n",
    "QuickSort(test_array,0,len(test_array)-1)\n",
    "print(\"After sorted :\",test_array)"
   ]
  },
  {
   "cell_type": "code",
   "execution_count": 7,
   "metadata": {
    "ExecuteTime": {
     "end_time": "2024-02-10T17:50:56.893184400Z",
     "start_time": "2024-02-10T17:50:56.881535Z"
    }
   },
   "outputs": [
    {
     "name": "stdout",
     "output_type": "stream",
     "text": [
      "Before sorted : [22, 48, 42, 85, 94, 90, 36, 87, 28, 100, 76, 76, 100, 7, 86, 42, 18, 57, 92, 67]\n",
      "After sorted : [7, 18, 22, 28, 36, 42, 42, 48, 57, 67, 76, 76, 85, 86, 87, 90, 92, 94, 100, 100]\n"
     ]
    }
   ],
   "source": [
    "# Test Case 2 - Quick Sort with Lumoto Partition\n",
    "from random import randint\n",
    "test_array = [randint(0, 100) for _ in range(20)]\n",
    "\n",
    "print(\"Before sorted :\", test_array)\n",
    "\n",
    "QuickSort(test_array,0,len(test_array)-1)\n",
    "print(\"After sorted :\", test_array)"
   ]
  },
  {
   "cell_type": "markdown",
   "metadata": {},
   "source": [
    "### Quick Sort with Hoare Partition"
   ]
  },
  {
   "cell_type": "code",
   "execution_count": 8,
   "metadata": {
    "ExecuteTime": {
     "end_time": "2024-02-10T17:51:01.139620200Z",
     "start_time": "2024-02-10T17:51:01.130097800Z"
    }
   },
   "outputs": [],
   "source": [
    "def HoarePartition(A, l, r):\n",
    "    pivot = A[l]\n",
    "    i = l - 1\n",
    "    j = r + 1\n",
    "    while True:\n",
    "        i = i + 1\n",
    "        while A[i] < pivot:\n",
    "            i = i + 1\n",
    "        j = j - 1\n",
    "        while A[j] > pivot:\n",
    "            j = j - 1\n",
    "        if i >= j:\n",
    "            return j # ตัวสุดท้าย\n",
    "        A[i], A[j] = A[j], A[i]"
   ]
  },
  {
   "cell_type": "code",
   "execution_count": 9,
   "metadata": {
    "ExecuteTime": {
     "end_time": "2024-02-10T17:51:02.156569800Z",
     "start_time": "2024-02-10T17:51:02.147050Z"
    }
   },
   "outputs": [],
   "source": [
    "def QuickSort(A,l,r):\n",
    "    if l < r:\n",
    "        s = HoarePartition(A,l,r)\n",
    "        QuickSort(A,l,s-1)\n",
    "        QuickSort(A,s+1,r)"
   ]
  },
  {
   "cell_type": "code",
   "execution_count": 10,
   "metadata": {
    "ExecuteTime": {
     "end_time": "2024-02-10T17:51:04.319019200Z",
     "start_time": "2024-02-10T17:51:04.307484500Z"
    }
   },
   "outputs": [
    {
     "name": "stdout",
     "output_type": "stream",
     "text": [
      "Before sorted : [5, 3, 1, 4, 2, 8, 9, 7]\n",
      "After sorted : [1, 2, 3, 4, 5, 7, 8, 9]\n"
     ]
    }
   ],
   "source": [
    "# Test Case 1 - Quick Sort with Hoare Partition\n",
    "list_1 = [5,3,1,4,2,8,9,7]\n",
    "\n",
    "print(\"Before sorted :\", list_1)\n",
    "\n",
    "QuickSort(list_1, 0, len(list_1) - 1)\n",
    "\n",
    "print(\"After sorted :\", list_1)"
   ]
  },
  {
   "cell_type": "code",
   "execution_count": 11,
   "metadata": {
    "ExecuteTime": {
     "end_time": "2024-02-10T17:51:06.779955600Z",
     "start_time": "2024-02-10T17:51:06.769552200Z"
    }
   },
   "outputs": [
    {
     "name": "stdout",
     "output_type": "stream",
     "text": [
      "Before sorted : [23, 93, 39, 25, 24, 70, 16, 33, 71, 59, 53, 78, 95, 7, 84, 61, 25, 23, 39, 80]\n",
      "After sorted : [7, 23, 16, 23, 24, 25, 33, 39, 25, 39, 53, 59, 70, 71, 61, 80, 78, 84, 93, 95]\n"
     ]
    }
   ],
   "source": [
    "# Test Case 2 - Quick Sort with Hoare Partition\n",
    "from random import randint\n",
    "list_2 = [randint(0, 100) for _ in range(20)]\n",
    "\n",
    "print(\"Before sorted :\", list_2)\n",
    "\n",
    "QuickSort(list_2, 0, len(list_2) - 1)\n",
    "\n",
    "print(\"After sorted :\", list_2)"
   ]
  },
  {
   "cell_type": "markdown",
   "metadata": {},
   "source": [
    "### Multiplication of Large Integers"
   ]
  },
  {
   "cell_type": "code",
   "execution_count": 1,
   "metadata": {},
   "outputs": [],
   "source": []
  },
  {
   "cell_type": "code",
   "execution_count": null,
   "metadata": {},
   "outputs": [],
   "source": []
  },
  {
   "cell_type": "markdown",
   "source": [
    "### Strassen's Matrix Multiplication"
   ],
   "metadata": {
    "collapsed": false
   }
  },
  {
   "cell_type": "markdown",
   "metadata": {},
   "source": []
  },
  {
   "cell_type": "code",
   "outputs": [],
   "source": [
    "# Strassen's Matrix Multiplication\n",
    "def StrassenMatrixMultiplication(matrix_A,matrix_B):\n",
    "    col_A = len(matrix_A[0])\n",
    "    row_A = len(matrix_A)\n",
    "    col_B = len(matrix_B[0])\n",
    "    row_B = len(matrix_B)\n",
    "    \n",
    "    if col_A != row_B:\n",
    "        print(\"The number of columns in matrix A must be equal to the number of rows in matrix B\")\n",
    "        return 0\n",
    "    \n",
    "    result_matrix_row = [0] * col_B\n",
    "    result_matrix = [result_matrix_row] * row_A\n",
    "    \n",
    "        "
   ],
   "metadata": {
    "collapsed": false
   }
  },
  {
   "cell_type": "markdown",
   "metadata": {},
   "source": [
    "### Closet-Pair Problem by Divide and Conquer"
   ]
  },
  {
   "cell_type": "code",
   "execution_count": 12,
   "metadata": {
    "ExecuteTime": {
     "end_time": "2024-02-10T17:52:54.944324Z",
     "start_time": "2024-02-10T17:52:54.812946900Z"
    }
   },
   "outputs": [],
   "source": []
  },
  {
   "cell_type": "markdown",
   "metadata": {},
   "source": [
    "### Convex-Hull Problem by Divide and Conquer"
   ]
  },
  {
   "cell_type": "code",
   "execution_count": null,
   "metadata": {},
   "outputs": [],
   "source": []
  }
 ],
 "metadata": {
  "kernelspec": {
   "display_name": "Python 3",
   "language": "python",
   "name": "python3"
  },
  "language_info": {
   "codemirror_mode": {
    "name": "ipython",
    "version": 3
   },
   "file_extension": ".py",
   "mimetype": "text/x-python",
   "name": "python",
   "nbconvert_exporter": "python",
   "pygments_lexer": "ipython3",
   "version": "3.11.4"
  }
 },
 "nbformat": 4,
 "nbformat_minor": 2
}
