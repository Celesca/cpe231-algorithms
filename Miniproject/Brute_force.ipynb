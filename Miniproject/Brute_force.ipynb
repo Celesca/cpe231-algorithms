{
 "cells": [
  {
   "cell_type": "code",
   "execution_count": 2,
   "metadata": {},
   "outputs": [
    {
     "name": "stdout",
     "output_type": "stream",
     "text": [
      "The best case is: ('A', 'B', 'D', 'E', 'F', 'I')\n",
      "And the total cost of the best case is: 334\n"
     ]
    }
   ],
   "source": [
    "from itertools import permutations\n",
    "\n",
    "cities = {\n",
    "    'A': {'day_to_stay': 3, 'total_cost': 80},\n",
    "    'B': {'day_to_stay': 4, 'total_cost': 85},\n",
    "    'C': {'day_to_stay': 5, 'total_cost': 100},\n",
    "    'D': {'day_to_stay': 2, 'total_cost': 45},\n",
    "    'E': {'day_to_stay': 3, 'total_cost': 75},\n",
    "    'F': {'day_to_stay': 1, 'total_cost': 25},\n",
    "    'G': {'day_to_stay': 6, 'total_cost': 148},\n",
    "    'H': {'day_to_stay': 8, 'total_cost': 205},\n",
    "    'I': {'day_to_stay': 1, 'total_cost': 24},\n",
    "    'J': {'day_to_stay': 7, 'total_cost': 200}\n",
    "}\n",
    "\n",
    "all_permutations = []\n",
    "for r in range(1, len(cities) + 1):\n",
    "    all_permutations.extend(permutations(cities.keys(), r))\n",
    "\n",
    "set_of_14 = []\n",
    "for perm in all_permutations:\n",
    "    total_days = sum(cities[city]['day_to_stay'] for city in perm)\n",
    "    if total_days <= 14:\n",
    "        set_of_14.append(perm)\n",
    "\n",
    "max_cities = 0\n",
    "choose_perm = 0\n",
    "min_cost = float('inf')\n",
    "best_case = []\n",
    "total_best_case = []\n",
    "best_case.clear\n",
    "total_best_case.clear\n",
    "for i in range(len(set_of_14)):\n",
    "    if len(set_of_14[i]) > max_cities:\n",
    "        max_cities = len(set_of_14[i])\n",
    "        choose_perm = set_of_14[i]\n",
    "for case in range(len(set_of_14)):\n",
    "    if len(set_of_14[case]) == max_cities:\n",
    "        best_case.append(set_of_14[case])\n",
    "        total_best_case.append(sum(cities[city]['total_cost'] for city in choose_perm))\n",
    "\n",
    "min_index = total_best_case.index(min(total_best_case))\n",
    "\n",
    "print(\"The best case is:\",best_case[min_index])\n",
    "print(\"And the total cost of the best case is:\",total_best_case[min_index])"
   ]
  },
  {
   "cell_type": "code",
   "execution_count": 3,
   "metadata": {},
   "outputs": [
    {
     "name": "stdout",
     "output_type": "stream",
     "text": [
      "The best case is: ('A', 'B', 'D', 'E', 'F', 'I')\n",
      "1. City : A | Day : 3 | cost : 80\n",
      "2. City : B | Day : 4 | cost : 85\n",
      "3. City : D | Day : 2 | cost : 45\n",
      "4. City : E | Day : 3 | cost : 75\n",
      "5. City : F | Day : 1 | cost : 25\n",
      "6. City : I | Day : 1 | cost : 24\n",
      "And the total cost of the best case is: 334\n"
     ]
    }
   ],
   "source": [
    "min_index = total_best_case.index(min(total_best_case))\n",
    "best_cities = best_case[min_index]\n",
    "print(\"The best case is:\", best_cities)\n",
    "for i, city in enumerate(best_cities):\n",
    "    print(f\"{i + 1}. City : {city} | Day : {cities[city]['day_to_stay']} | cost : {cities[city]['total_cost']}\")\n",
    "print(\"And the total cost of the best case is:\",total_best_case[min_index])"
   ]
  },
  {
   "cell_type": "code",
   "execution_count": null,
   "metadata": {},
   "outputs": [],
   "source": []
  }
 ],
 "metadata": {
  "kernelspec": {
   "display_name": "Python 3",
   "language": "python",
   "name": "python3"
  },
  "language_info": {
   "codemirror_mode": {
    "name": "ipython",
    "version": 3
   },
   "file_extension": ".py",
   "mimetype": "text/x-python",
   "name": "python",
   "nbconvert_exporter": "python",
   "pygments_lexer": "ipython3",
   "version": "3.11.4"
  }
 },
 "nbformat": 4,
 "nbformat_minor": 2
}
