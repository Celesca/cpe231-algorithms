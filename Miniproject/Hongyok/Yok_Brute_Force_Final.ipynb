{
 "cells": [
  {
   "cell_type": "code",
   "execution_count": 1,
   "metadata": {},
   "outputs": [
    {
     "name": "stdout",
     "output_type": "stream",
     "text": [
      "Execution Time: 0.001001596450805664\n",
      "Selected Cities: ['A', 'B', 'D', 'E', 'F', 'I']\n",
      "Total Cost: 334\n"
     ]
    }
   ],
   "source": [
    "from time import time\n",
    "from itertools import combinations\n",
    "\n",
    "def brute_force(cities, cost, days, day_limit):\n",
    "    max_cities = []\n",
    "    max_num_cities = 0\n",
    "    min_cost = float('inf')\n",
    "    \n",
    "    # Generate all possible combinations of cities\n",
    "    for r in range(1, len(cities) + 1):\n",
    "        for subset in combinations(range(len(cities)), r):\n",
    "            total_days = sum(days[i] for i in subset)\n",
    "            if total_days <= day_limit:\n",
    "                if len(subset) > max_num_cities:\n",
    "                    max_num_cities = len(subset)\n",
    "                    max_cities = list(subset)\n",
    "                    min_cost = sum(cost[i] for i in subset)\n",
    "                elif len(subset) == max_num_cities and sum(cost[i] for i in subset) < min_cost:\n",
    "                    max_cities = list(subset)\n",
    "                    min_cost = sum(cost[i] for i in subset)\n",
    "\n",
    "    return max_cities, min_cost\n",
    "\n",
    "cities = [\"A\", \"B\", \"C\", \"D\", \"E\",\"F\", \"G\", \"H\", \"I\", \"J\"]\n",
    "cost = [80, 85, 100, 45, 75, 25, 148, 205, 24, 200]\n",
    "days = [3, 4, 5, 2, 3, 1, 6, 8, 1, 7]\n",
    "day_limit = 14\n",
    "\n",
    "start = time()\n",
    "selected_cities, selected_cost = brute_force(cities, cost, days, day_limit)\n",
    "end = time()\n",
    "\n",
    "print(\"Execution Time:\", end - start)\n",
    "\n",
    "print(\"Selected Cities:\", [cities[i] for i in selected_cities])\n",
    "print(\"Total Cost:\", selected_cost)"
   ]
  },
  {
   "cell_type": "code",
   "execution_count": null,
   "metadata": {},
   "outputs": [],
   "source": []
  }
 ],
 "metadata": {
  "kernelspec": {
   "display_name": "Python 3",
   "language": "python",
   "name": "python3"
  },
  "language_info": {
   "codemirror_mode": {
    "name": "ipython",
    "version": 3
   },
   "file_extension": ".py",
   "mimetype": "text/x-python",
   "name": "python",
   "nbconvert_exporter": "python",
   "pygments_lexer": "ipython3",
   "version": "3.11.4"
  }
 },
 "nbformat": 4,
 "nbformat_minor": 2
}
