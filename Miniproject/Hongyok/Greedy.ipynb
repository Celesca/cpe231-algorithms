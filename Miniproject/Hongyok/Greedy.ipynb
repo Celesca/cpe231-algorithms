{
 "cells": [
  {
   "cell_type": "code",
   "execution_count": 1,
   "metadata": {},
   "outputs": [
    {
     "name": "stdout",
     "output_type": "stream",
     "text": [
      "[('I', 24, 1), ('F', 25, 1), ('D', 45, 2), ('E', 75, 3), ('A', 80, 3), ('B', 85, 1), ('C', 100, 5), ('G', 148, 6), ('J', 200, 7), ('H', 205, 8)]\n",
      "Visited cities: ['I', 'F', 'D', 'E', 'A', 'B']\n",
      "Total cost: 334\n"
     ]
    }
   ],
   "source": [
    "def visit_cities(cities, day_limit):\n",
    "    # Sort cities by total cost\n",
    "    sorted_cities = sorted(cities, key=lambda x: x[1])\n",
    "    print(sorted_cities)\n",
    "\n",
    "    total_cost = 0\n",
    "    visited_cities = []\n",
    "    visited_days = 0\n",
    "\n",
    "    # Iterate through sorted cities and choose cities within day limit\n",
    "    for city, cost, days in sorted_cities:\n",
    "        if visited_days + days <= day_limit:\n",
    "            visited_cities.append((city, cost, days))\n",
    "            total_cost += cost\n",
    "            visited_days += days\n",
    "\n",
    "    return visited_cities, total_cost\n",
    "\n",
    "# City data: (name, total cost, days)\n",
    "cities = [\n",
    "    (\"A\", 80, 3),\n",
    "    (\"B\", 85, 1),\n",
    "    (\"C\", 100, 5),\n",
    "    (\"D\", 45, 2),\n",
    "    (\"E\", 75, 3),\n",
    "    (\"F\", 25, 1),\n",
    "    (\"G\", 148, 6),\n",
    "    (\"H\", 205, 8),\n",
    "    (\"I\", 24, 1),\n",
    "    (\"J\", 200, 7)\n",
    "]\n",
    "\n",
    "day_limit = 14\n",
    "visited_cities, total_cost = visit_cities(cities, day_limit)\n",
    "print(\"Visited cities:\", [city[0] for city in visited_cities])\n",
    "print(\"Total cost:\", total_cost)"
   ]
  },
  {
   "cell_type": "code",
   "execution_count": null,
   "metadata": {},
   "outputs": [],
   "source": []
  }
 ],
 "metadata": {
  "kernelspec": {
   "display_name": "Python 3",
   "language": "python",
   "name": "python3"
  },
  "language_info": {
   "codemirror_mode": {
    "name": "ipython",
    "version": 3
   },
   "file_extension": ".py",
   "mimetype": "text/x-python",
   "name": "python",
   "nbconvert_exporter": "python",
   "pygments_lexer": "ipython3",
   "version": "3.11.4"
  }
 },
 "nbformat": 4,
 "nbformat_minor": 2
}
