{
 "cells": [
  {
   "cell_type": "code",
   "execution_count": 33,
   "metadata": {},
   "outputs": [],
   "source": [
    "# Greedy-approach\n",
    "# เนื่องจากเราต้องพิจารณา 2 ตัวแปรที่ต้อง Optimize คือ วันที่และ ราคา เราจึงสร้างสูตรการคำนวณขึ้นมา\n",
    "# โดยสูตรคือ ราคา/วัน ซึ่งจะได้ค่าที่เราต้องการหา และเราจะเลือกตัวแปรที่มีค่าน้อยที่สุดก่อน\n",
    "\n",
    "class GreedyAlgorithms:\n",
    "    def __init__(self, cities, cost, days, max_days):\n",
    "        self.cities = cities\n",
    "        self.cost = cost\n",
    "        self.days = days\n",
    "        self.max_days = max_days\n",
    "\n",
    "    # ในกรณีที่เราพิจารณาทั้งสองค่าพร้อมกัน จะเข้าสูตร\n",
    "    def value_sort_matrix(self):\n",
    "        value_matrix = []\n",
    "        for i in range(len(self.cities)):\n",
    "            # เนื่องจากเราพิจารณา 2 ตัวพร้อมกัน ก็ต้องใช้สูตรเพื่อพิจารณา\n",
    "            value = self.cost[i] / self.days[i]\n",
    "            value_matrix.append((self.cities[i], value))\n",
    "        value_matrix = sorted(value_matrix, key=lambda x: x[1])\n",
    "        return value_matrix\n",
    "    \n",
    "    def cost_sort_matrix(self):\n",
    "        value_matrix = []\n",
    "        for i in range(len(self.cities)):\n",
    "            value_matrix.append((self.cities[i], self.cost[i]))\n",
    "        \n",
    "        value_matrix = sorted(value_matrix, key=lambda x: x[1])\n",
    "        return value_matrix\n",
    "\n",
    "    def greedy(self, approach='value'):\n",
    "        if approach == 'value':\n",
    "            value_matrix = self.value_sort_matrix()\n",
    "        elif approach == 'cost':\n",
    "            value_matrix = self.cost_sort_matrix()\n",
    "\n",
    "        total_days = 0\n",
    "        total_cost = 0\n",
    "        selected_cities = []\n",
    "\n",
    "        for city, value in value_matrix:\n",
    "            city_index = self.cities.index(city)\n",
    "            city_day = self.days[city_index]\n",
    "            city_cost = self.cost[city_index]\n",
    "\n",
    "            if total_days + city_day <= self.max_days:\n",
    "                selected_cities.append(city)\n",
    "                total_days += city_day\n",
    "                total_cost += city_cost\n",
    "\n",
    "        self.visualize(selected_cities, total_days, total_cost)\n",
    "    \n",
    "    def visualize(self, selected_cities, total_days, total_cost):\n",
    "        for city in selected_cities:\n",
    "            city_index = self.cities.index(city)\n",
    "            curr_day = self.days[city_index]\n",
    "            curr_cost = self.cost[city_index]\n",
    "            print(f\"City: {city} | Days: {curr_day} | Cost: {curr_cost}\")\n",
    "\n",
    "        print(f\"Total Days: {total_days}\")\n",
    "        print(f\"Total Cost: {total_cost}\")\n",
    "        print(\"Total cities: \", len(selected_cities), \"cities\")"
   ]
  },
  {
   "cell_type": "code",
   "execution_count": 34,
   "metadata": {},
   "outputs": [],
   "source": [
    "cities = [\"A\", \"B\", \"C\", \"D\", \"E\",\"F\", \"G\", \"H\", \"I\", \"J\"]\n",
    "cost = [80, 85, 100, 45, 75, 25, 148, 205, 24, 200]\n",
    "days = [3, 4, 5, 2, 3, 1, 6, 8, 1, 7]\n",
    "day_limit = 14"
   ]
  },
  {
   "cell_type": "code",
   "execution_count": 35,
   "metadata": {},
   "outputs": [
    {
     "name": "stdout",
     "output_type": "stream",
     "text": [
      "City: C | Days: 5 | Cost: 100\n",
      "City: B | Days: 4 | Cost: 85\n",
      "City: D | Days: 2 | Cost: 45\n",
      "City: I | Days: 1 | Cost: 24\n",
      "City: F | Days: 1 | Cost: 25\n",
      "Total Days: 13\n",
      "Total Cost: 279\n",
      "Total cities:  5 cities\n",
      "Time :  0.0\n"
     ]
    }
   ],
   "source": [
    "import time\n",
    "\n",
    "gd = GreedyAlgorithms(cities, cost, days, day_limit)\n",
    "\n",
    "# Approach 1 - ใช้สูตรในการคำนวณเพื่อพิจารณา 2 ตัวแปรพร้อมกัน cost / days\n",
    "start = time.time()\n",
    "gd.greedy('value')\n",
    "end = time.time()\n",
    "\n",
    "print(\"Time : \", end - start)"
   ]
  },
  {
   "cell_type": "code",
   "execution_count": 36,
   "metadata": {},
   "outputs": [
    {
     "name": "stdout",
     "output_type": "stream",
     "text": [
      "City: I | Days: 1 | Cost: 24\n",
      "City: F | Days: 1 | Cost: 25\n",
      "City: D | Days: 2 | Cost: 45\n",
      "City: E | Days: 3 | Cost: 75\n",
      "City: A | Days: 3 | Cost: 80\n",
      "City: B | Days: 4 | Cost: 85\n",
      "Total Days: 14\n",
      "Total Cost: 334\n",
      "Total cities:  6 cities\n",
      "Time :  0.0\n"
     ]
    }
   ],
   "source": [
    "# Approach 2 - ใช้ Cost เพื่อเลือกเมืองที่มีราคาน้อยที่สุดก่อนในการพิจารณา\n",
    "\n",
    "start = time.time()\n",
    "gd.greedy('cost')\n",
    "end = time.time()\n",
    "\n",
    "print(\"Time : \", end - start)"
   ]
  }
 ],
 "metadata": {
  "kernelspec": {
   "display_name": "Python 3",
   "language": "python",
   "name": "python3"
  },
  "language_info": {
   "codemirror_mode": {
    "name": "ipython",
    "version": 3
   },
   "file_extension": ".py",
   "mimetype": "text/x-python",
   "name": "python",
   "nbconvert_exporter": "python",
   "pygments_lexer": "ipython3",
   "version": "3.11.4"
  }
 },
 "nbformat": 4,
 "nbformat_minor": 2
}
