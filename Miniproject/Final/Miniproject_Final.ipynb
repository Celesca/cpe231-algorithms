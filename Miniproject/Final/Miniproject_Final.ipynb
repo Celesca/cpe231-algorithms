{
 "cells": [
  {
   "cell_type": "markdown",
   "metadata": {},
   "source": [
    "# Miniproject Problem : Travel Planning Report"
   ]
  },
  {
   "cell_type": "markdown",
   "metadata": {},
   "source": [
    "<img src=\"problem.PNG\" width=\"600px\">"
   ]
  },
  {
   "cell_type": "markdown",
   "metadata": {},
   "source": [
    "หมายเหตุ : ในการตรวจสอบเวลาของแต่ละอัลกอริทึม ขออนุญาตใช้ฟังก์ชัน `time.sleep(1)` เพื่อวัดเวลาที่แม่นยำขึ้น \\\n",
    "โดยหลังจากวัดแล้วค่อยลบค่าออก จะทำให้ค่าแม่นยำขึ้น"
   ]
  },
  {
   "cell_type": "markdown",
   "metadata": {},
   "source": [
    "# Algorithm 1 : Brute Force Algorithm"
   ]
  },
  {
   "cell_type": "markdown",
   "metadata": {},
   "source": [
    "---"
   ]
  },
  {
   "cell_type": "markdown",
   "metadata": {},
   "source": [
    "### แนวคิดในการทำ Brute-force algorithm ในการแก้ปัญหา\n",
    "\n",
    "Brute-force Algorithm คืออัลกอริทึมที่ทำงานแบบทื่อๆและตรงๆ หาทุกความเป็นไปได้แล้วคำนวณว่าขั้นตอนไหนดีที่สุด <br> \n",
    "โดยที่หลักการในการแก้ปัญหา Travel Planning นี้เนื่องจากว่าเรามีทั้งหมด 10 เมืองที่ให้เลือก ดังนั้นเราจะทำการ Generate ความเป็นไปได้ในการเลือกเมืองทั้งหมดก่อน\n",
    "\n",
    "<p style=\"color: aqua;\">ขั้นตอนในการแก้ไขปัญหามีดังนี้</p>\n",
    "\n",
    "1. Generate Permutations หรือความเป็นไปได้ทั้งหมดที่เราจะสามารถเลือกได้ ตั้งแต่เลือกเพียงเมืองเดียวถึงเลือกทั้งหมด\n",
    "\n",
    "2. เราจะคำนวณโดยใช้เกณฑ์ในการตัดสินว่ารอบนั้นที่เลือกเมืองมาทั้งหมด มีวันที่เกิน 14 วันหรือไม่\n",
    "\n",
    "3. ถ้าหากไม่เกิน จะพิจารณาเกณฑ์ของจำนวนเมืองที่มากที่สุดก่อน จากนั้นจึงค่อยพิจารณาค่า Cost รวมทีหลัง\n",
    "\n",
    "เพียงเท่านี้ เราก็จะสามารถหารอบที่เลือกแล้วได้ไปเที่ยวจำนวนเมืองเยอะสุดและค่าใช้จ่ายต่ำสุด"
   ]
  },
  {
   "cell_type": "code",
   "execution_count": 2,
   "metadata": {},
   "outputs": [
    {
     "name": "stdout",
     "output_type": "stream",
     "text": [
      "Selected Cities: ['A', 'B', 'D', 'E', 'F', 'I']\n",
      "Total cities: 6\n",
      "Total Days: 14\n",
      "Total Cost: 334\n",
      "--------------------------------------------------\n",
      "Brute Force Time: 1740900 ns\n"
     ]
    }
   ],
   "source": [
    "import time\n",
    "from itertools import combinations\n",
    "\n",
    "def brute_force(cities, cost, days, day_limit):\n",
    "    max_cities = []\n",
    "    max_num_cities = 0\n",
    "    min_cost = float('inf')\n",
    "    \n",
    "    # Generate all possible combinations of cities\n",
    "    for r in range(1, len(cities) + 1):\n",
    "        for subset in combinations(range(len(cities)), r):\n",
    "            total_days = sum(days[i] for i in subset)\n",
    "            if total_days <= day_limit:\n",
    "                if len(subset) > max_num_cities:\n",
    "                    max_num_cities = len(subset)\n",
    "                    max_cities = list(subset)\n",
    "                    min_cost = sum(cost[i] for i in subset)\n",
    "                elif len(subset) == max_num_cities and sum(cost[i] for i in subset) < min_cost:\n",
    "                    max_cities = list(subset)\n",
    "                    min_cost = sum(cost[i] for i in subset)\n",
    "\n",
    "    return max_cities, min_cost\n",
    "\n",
    "cities = [\"A\", \"B\", \"C\", \"D\", \"E\",\"F\", \"G\", \"H\", \"I\", \"J\"]\n",
    "cost = [80, 85, 100, 45, 75, 25, 148, 205, 24, 200]\n",
    "days = [3, 4, 5, 2, 3, 1, 6, 8, 1, 7]\n",
    "day_limit = 14\n",
    "\n",
    "start = time.time_ns()\n",
    "selected_cities, selected_cost = brute_force(cities, cost, days, day_limit)\n",
    "time.sleep(1)\n",
    "end = time.time_ns()\n",
    "\n",
    "print(\"Selected Cities:\", [cities[i] for i in selected_cities])\n",
    "print(\"Total cities:\", len(selected_cities))\n",
    "print(\"Total Days:\", sum(days[i] for i in selected_cities))\n",
    "print(\"Total Cost:\", selected_cost)\n",
    "\n",
    "brute_force_time = end - start - 1000000000\n",
    "print('-' * 50)\n",
    "print(\"Brute Force Time:\", brute_force_time , \"ns\")"
   ]
  },
  {
   "cell_type": "markdown",
   "metadata": {},
   "source": [
    "### <p style=\"text-decoration: underline;\">สรุปผล Brute-force algorithm</p>\n",
    "\n",
    "### <p style=\"color: yellow;\">คำตอบที่ได้คือ 6 เมือง 334 บาท คำตอบเดียว</p>\n",
    "\n",
    "### <p style=\"color: yellow;\">เวลาในการประมวลผล : O(n * 2^n)</p>\n",
    "\n",
    "เนื่องจาก มี for loop 1 ชั้น และด้านในเป็น permutations ทำให้ผลลัพธ์ที่ได้ระยะเวลาประมาณ 500000 ns \n",
    "\n",
    "หมายเหตุ : เนื่องจาก ปริมาณข้อมูล Input มีจำนวนน้อยทำให้ไม่ค่อยเห็นระยะเวลาที่นานมาก"
   ]
  },
  {
   "cell_type": "markdown",
   "metadata": {},
   "source": [
    "---"
   ]
  },
  {
   "cell_type": "markdown",
   "metadata": {},
   "source": [
    "# Algorithm 2 : Greedy Algorithm"
   ]
  },
  {
   "cell_type": "markdown",
   "metadata": {},
   "source": [
    "---"
   ]
  },
  {
   "cell_type": "markdown",
   "metadata": {},
   "source": [
    "### แนวคิดในการทำ Greedy algorithm ในการแก้ปัญหา\n",
    "\n",
    "Greedy algorithm คืออัลกอริทึมละโมภ โดยมีจุดเด่นคือ การเลือกสิ่งที่ดีที่สุดในแต่ละรอบ <br> \n",
    "โดยที่ไม่พิจารณาอนาคตหรือก็คือ ไม่ดูภาพรวมในอนาคตแล้วค่อยตัดสินใจ แต่เลือกสิ่งที่ดีที่สุดในรอบๆนั้น \n",
    "\n",
    "หลักการในแก้ปัญหา Travel Planning นี้เนื่องจากว่าเราต้องเลือกก่อนว่า อะไรจะเป็นปัจจัยในการพิจารณา \\\n",
    "เนื่องจากผมมองว่าถ้าหากเราใช้เกณฑ์เพียง Cost ที่น้อยที่สุดก่อนในการเลือก อาจจะไม่ได้ Optimal ที่สุดสำหรับ Greedy \\\n",
    "ผมจึงมองเป็น 2 Approach ในการพิจารณาคือ \n",
    "\n",
    "1. ใช้สูตรเพื่อพิจารณาทั้งสองตัวแปรพร้อมกัน เขียนเป็นสูตร cost / days <br> จากนั้นเรียงลำดับน้อยที่สุดแล้วค่อยเลือก (ในกรณีนี้ผมขอเรียกว่าเป็น value sort matrix)\n",
    "\n",
    "2. ใช้ Cost ค่าใช้จ่ายที่น้อยที่สุดเรียงลำดับแล้วเลือก (ขอเรียกว่าเป็น cost sort matrix)\n",
    "\n",
    "<p style=\"color: aqua;\">ขั้นตอนในการแก้ไขปัญหามีดังนี้</p>\n",
    "\n",
    "1. เลือก Approach ในการพิจารณาปัจจัย (value sort matrix / cost sort matrix)\n",
    "\n",
    "2. สร้าง Matrix ที่คอยเรียงลำดับน้อยไปมาก แล้วจึงค่อยๆเลือกจากค่าที่น้อยที่สุดก่อน\n",
    "\n",
    "3. ทำการเลือกแล้วรวมค่าใช้จ่ายและวันไปเรื่อยๆ ถ้าหากเลือกแล้วจะเกิน 14 วัน ก็จะทำการเลือกวันต่อไปแทน\n",
    "\n",
    "4. เมื่อวนลูปจนหมด Matrix แล้ว เราก็จะได้เมืองที่เราเลือกและค่าใช้จ่าย โดยเลือกจากค่าที่ต่ำสุดก่อน\n",
    "\n",
    "เพียงเท่านี้ เราก็จะสามารถหารอบที่เลือกแล้วได้ไปเที่ยวจำนวนเมืองเยอะสุดและค่าใช้จ่ายต่ำสุดใน Greedy เรียบร้อย"
   ]
  },
  {
   "cell_type": "code",
   "execution_count": 3,
   "metadata": {},
   "outputs": [],
   "source": [
    "# Greedy-approach\n",
    "# เนื่องจากเราต้องพิจารณา 2 ตัวแปรที่ต้อง Optimize คือ วันที่และ ราคา เราจึงสร้างสูตรการคำนวณขึ้นมา\n",
    "# โดยสูตรคือ ราคา/วัน ซึ่งจะได้ค่าที่เราต้องการหา และเราจะเลือกตัวแปรที่มีค่าน้อยที่สุดก่อน\n",
    "\n",
    "class GreedyAlgorithms:\n",
    "    def __init__(self, cities, cost, days, max_days):\n",
    "        self.cities = cities\n",
    "        self.cost = cost\n",
    "        self.days = days\n",
    "        self.max_days = max_days\n",
    "\n",
    "    # ในกรณีที่เราพิจารณาทั้งสองค่าพร้อมกัน จะเข้าสูตร\n",
    "    def value_sort_matrix(self):\n",
    "        value_matrix = []\n",
    "        for i in range(len(self.cities)):\n",
    "            # เนื่องจากเราพิจารณา 2 ตัวพร้อมกัน ก็ต้องใช้สูตรเพื่อพิจารณา\n",
    "            value = self.cost[i] / self.days[i]\n",
    "            value_matrix.append((self.cities[i], value))\n",
    "        value_matrix = sorted(value_matrix, key=lambda x: x[1])\n",
    "        return value_matrix\n",
    "    \n",
    "    # กรณีที่เราพิจารณาเฉพาะค่าราคาเป็นหลัก\n",
    "    def cost_sort_matrix(self):\n",
    "        value_matrix = []\n",
    "        for i in range(len(self.cities)):\n",
    "            value_matrix.append((self.cities[i], self.cost[i]))\n",
    "        \n",
    "        value_matrix = sorted(value_matrix, key=lambda x: x[1])\n",
    "        return value_matrix\n",
    "\n",
    "    def greedy(self, approach='value'):\n",
    "        if approach == 'value':\n",
    "            value_matrix = self.value_sort_matrix()\n",
    "        elif approach == 'cost':\n",
    "            value_matrix = self.cost_sort_matrix()\n",
    "\n",
    "        total_days = 0\n",
    "        total_cost = 0\n",
    "        selected_cities = []\n",
    "\n",
    "        for city, value in value_matrix:\n",
    "            city_index = self.cities.index(city)\n",
    "            city_day = self.days[city_index]\n",
    "            city_cost = self.cost[city_index]\n",
    "\n",
    "            if total_days + city_day <= self.max_days:\n",
    "                selected_cities.append(city)\n",
    "                total_days += city_day\n",
    "                total_cost += city_cost\n",
    "\n",
    "        self.visualize(selected_cities, total_days, total_cost)\n",
    "    \n",
    "    def visualize(self, selected_cities, total_days, total_cost):\n",
    "        for city in selected_cities:\n",
    "            city_index = self.cities.index(city)\n",
    "            curr_day = self.days[city_index]\n",
    "            curr_cost = self.cost[city_index]\n",
    "            print(f\"City: {city} | Days: {curr_day} | Cost: {curr_cost}\")\n",
    "\n",
    "        print(f\"Total Days: {total_days}\")\n",
    "        print(f\"Total Cost: {total_cost}\")\n",
    "        print(\"Total cities: \", len(selected_cities), \"cities\")"
   ]
  },
  {
   "cell_type": "code",
   "execution_count": 4,
   "metadata": {},
   "outputs": [],
   "source": [
    "cities = [\"A\", \"B\", \"C\", \"D\", \"E\",\"F\", \"G\", \"H\", \"I\", \"J\"]\n",
    "cost = [80, 85, 100, 45, 75, 25, 148, 205, 24, 200]\n",
    "days = [3, 4, 5, 2, 3, 1, 6, 8, 1, 7]\n",
    "day_limit = 14"
   ]
  },
  {
   "cell_type": "markdown",
   "metadata": {},
   "source": [
    "###  Approach 1 : ใช้สูตรในการคำนวณเพื่อพิจารณา 2 ตัวแปรพร้อมกัน ( cost / days )"
   ]
  },
  {
   "cell_type": "code",
   "execution_count": 5,
   "metadata": {},
   "outputs": [
    {
     "name": "stdout",
     "output_type": "stream",
     "text": [
      "City: C | Days: 5 | Cost: 100\n",
      "City: B | Days: 4 | Cost: 85\n",
      "City: D | Days: 2 | Cost: 45\n",
      "City: I | Days: 1 | Cost: 24\n",
      "City: F | Days: 1 | Cost: 25\n",
      "Total Days: 13\n",
      "Total Cost: 279\n",
      "Total cities:  5 cities\n",
      "Time :  1016900 ns\n"
     ]
    }
   ],
   "source": [
    "import time\n",
    "\n",
    "gd = GreedyAlgorithms(cities, cost, days, day_limit)\n",
    "\n",
    "\n",
    "start = time.time_ns()\n",
    "gd.greedy('value')\n",
    "time.sleep(1)\n",
    "end = time.time_ns()\n",
    "\n",
    "greedy_value_time = end - start - 1000000000\n",
    "\n",
    "print(\"Time : \", greedy_value_time , \"ns\")"
   ]
  },
  {
   "cell_type": "markdown",
   "metadata": {},
   "source": [
    "### Approach 2 : ใช้ค่าใช้จ่ายของเมืองที่น้อยกว่าเป็นตัวพิจารณา"
   ]
  },
  {
   "cell_type": "code",
   "execution_count": 6,
   "metadata": {},
   "outputs": [
    {
     "name": "stdout",
     "output_type": "stream",
     "text": [
      "City: I | Days: 1 | Cost: 24\n",
      "City: F | Days: 1 | Cost: 25\n",
      "City: D | Days: 2 | Cost: 45\n",
      "City: E | Days: 3 | Cost: 75\n",
      "City: A | Days: 3 | Cost: 80\n",
      "City: B | Days: 4 | Cost: 85\n",
      "Total Days: 14\n",
      "Total Cost: 334\n",
      "Total cities:  6 cities\n",
      "Time :  882900 ns\n"
     ]
    }
   ],
   "source": [
    "start = time.time_ns()\n",
    "gd.greedy('cost')\n",
    "time.sleep(1)\n",
    "end = time.time_ns()\n",
    "\n",
    "greedy_cost_time = end - start - 1000000000\n",
    "\n",
    "print(\"Time : \", greedy_cost_time , \"ns\")"
   ]
  },
  {
   "cell_type": "markdown",
   "metadata": {},
   "source": [
    "### <p style=\"text-decoration: underline;\">สรุปผล Greedy algorithm</p>\n",
    "\n",
    "ในที่นี้จากการทดลอง เราจะเห็นว่าการใช้ Cost หรือค่าใช้จ่ายเป็นตัวพิจารณาและวัด จะได้ผลลัพธ์ที่ดีและเร็วกว่า\n",
    "\n",
    "### <p style=\"color: yellow;\">คำตอบที่ได้ (พิจารณา value) : 5 เมือง 279 บาท คำตอบเดียว</p>\n",
    "\n",
    "### <p style=\"color: yellow;\">คำตอบที่ได้ (พิจารณา cost) : 6 เมือง 334 บาท คำตอบเดียว</p>\n",
    "\n",
    "### <p style=\"color: yellow;\">เวลาในการประมวลผล : O(n log n)</p>\n",
    "\n",
    "เนื่องจากเราจะต้อง Sorting matrix ในการพิจารณาก่อน ซึ่งโดยปกติ Python sorting built-in functions จะใช้ `Timsort algorithm` ซึ่งเป็น sorting algorithm ที่มาจาก merge sort และ insertion sort ทำให้มี Time Complexity มากสุดเป็น O(nlogn)"
   ]
  },
  {
   "cell_type": "markdown",
   "metadata": {},
   "source": [
    "---"
   ]
  },
  {
   "cell_type": "markdown",
   "metadata": {},
   "source": [
    "# Algorithm 3 : Dynamic Programming Algorithm"
   ]
  },
  {
   "cell_type": "markdown",
   "metadata": {},
   "source": [
    "---"
   ]
  },
  {
   "cell_type": "markdown",
   "metadata": {},
   "source": [
    "Dynamic Programming คือ เทคนิคอัลกอริทึมในการแก้ปัญหาที่มีความ Overlapping (ทับซ้อน) กันอยู่ ยกตัวอย่างเช่น การที่เราคำนวณค่านึงไปเรียบร้อยแล้ว<br> แต่มีการเรียกคำนวณซ้ำอีกรอบนึง ซึ่งถ้าหากเราใช้วิธีแบบธรรมดาอาจทำให้โปรแกรมเราทำงานช้าได้ เราจึงใช้เทคนิค <br> Dynamic Programming เพื่อวางแผนที่ทำให้ปัญหานั้นเป็นสูตรและไม่ทำให้การคำนวณมันซ้ำซ้อนกัน\n",
    "\n",
    "จากปัญหานี้เราจะเห็นได้ว่าคล้ายกับ Knapsack problem\n",
    "\n",
    "แต่เนื่องจากโดยปกติ Dynamic programming แบบ Knapsack คือการเอาค่าที่คุ้มที่สุดจากการใช้สมการ \\\n",
    "แล้วดูผลลัพธ์จากเมทริกซ์ด้านขวาล่าง แต่ในปัญหานี้ เราไม่สามารถเอาค่า cost มาพิจารณาได้ เพราะเราต้องการ \\\n",
    "ค่าใช้จ่ายน้อยที่สุดและคุ้มสุด ดังนั้นเราจึงต้องสร้างสมการสัดส่วนที่ทำให้มันคุ้มค่าก่อน โดยใช้สูตร `cost / day`\n",
    "\n",
    "<p style=\"color: aqua;\">ขั้นตอนในการแก้ไขปัญหา Dynamic Programming มีดังนี้</p>\n",
    "\n",
    "1. เราจะสร้างเมทริกซ์ dp เพื่อพิจารณาค่าใช้จ่ายที่น้อยสุดและไปแวะเมืองได้มากสุด โดยที่ \\\n",
    "i (แถว) แทนด้วยจำนวนเมืองที่เลือกไปได้ และ j (หลัก) คือจำนวนวันที่สามารถค้างได้\n",
    "\n",
    "2. ถ้าหากวันที่ต้องไปค้าง น้อยกว่าหรือเท่ากับ 14 (day limit) เราสามารถให้เมืองนั้นมาพิจารณาต่อได้\n",
    "\n",
    "3. ใจความสำคัญอยู่ตรงเงื่อนไขสมการตรงนี้คือ `dp[i][j] = max(dp[i - 1][j], dp[i - 1][j - days[i - 1]] + worthiness[i - 1])`\n",
    "ก็คือเราจะคำนวณค่าระหว่างค่าปัจจุบันที่พิจารณา กับ ค่าหลักของเมืองก่อนหน้าเป็น days[i - 1] วัน บวกค่า worthiness ใหม่เข้าไป \\ แล้วเทียบดูว่าอะไรคุ้มค่ากว่ากัน\n",
    "\n",
    "4. ในกรณีที่เมืองนั้นต้องการวันมากกว่า day limit เราจะแทนค่า dp[i - 1][j] ไปเลยเพราะแสดงว่าไม่เอาเมืองนั้นมาคิดค่าความคุ้มค่า\n",
    "\n",
    "5. หลังจากคำนวณวนลูปทุกอย่างเสร็จก็จะได้เมทริกซ์ความคุ้มค่ามา โดยเลือกตามการกำหนดค่า i, j และลดวันที่เอาตามด้านล่าง\n"
   ]
  },
  {
   "cell_type": "code",
   "execution_count": 7,
   "metadata": {},
   "outputs": [
    {
     "name": "stdout",
     "output_type": "stream",
     "text": [
      "[[  0.           0.           0.           0.           0.\n",
      "    0.           0.           0.           0.           0.\n",
      "    0.           0.           0.           0.           0.        ]\n",
      " [  0.           0.           0.          26.66666667  26.66666667\n",
      "   26.66666667  26.66666667  26.66666667  26.66666667  26.66666667\n",
      "   26.66666667  26.66666667  26.66666667  26.66666667  26.66666667]\n",
      " [  0.           0.           0.          26.66666667  26.66666667\n",
      "   26.66666667  26.66666667  47.91666667  47.91666667  47.91666667\n",
      "   47.91666667  47.91666667  47.91666667  47.91666667  47.91666667]\n",
      " [  0.           0.           0.          26.66666667  26.66666667\n",
      "   26.66666667  26.66666667  47.91666667  47.91666667  47.91666667\n",
      "   47.91666667  47.91666667  67.91666667  67.91666667  67.91666667]\n",
      " [  0.           0.          22.5         26.66666667  26.66666667\n",
      "   49.16666667  49.16666667  49.16666667  49.16666667  70.41666667\n",
      "   70.41666667  70.41666667  70.41666667  70.41666667  90.41666667]\n",
      " [  0.           0.          22.5         26.66666667  26.66666667\n",
      "   49.16666667  51.66666667  51.66666667  74.16666667  74.16666667\n",
      "   74.16666667  74.16666667  95.41666667  95.41666667  95.41666667]\n",
      " [  0.          25.          25.          47.5         51.66666667\n",
      "   51.66666667  74.16666667  76.66666667  76.66666667  99.16666667\n",
      "   99.16666667  99.16666667  99.16666667 120.41666667 120.41666667]\n",
      " [  0.          25.          25.          47.5         51.66666667\n",
      "   51.66666667  74.16666667  76.66666667  76.66666667  99.16666667\n",
      "   99.16666667  99.16666667  99.16666667 120.41666667 120.41666667]\n",
      " [  0.          25.          25.          47.5         51.66666667\n",
      "   51.66666667  74.16666667  76.66666667  76.66666667  99.16666667\n",
      "   99.16666667  99.16666667  99.16666667 120.41666667 120.41666667]\n",
      " [  0.          25.          49.          49.          71.5\n",
      "   75.66666667  75.66666667  98.16666667 100.66666667 100.66666667\n",
      "  123.16666667 123.16666667 123.16666667 123.16666667 144.41666667]\n",
      " [  0.          25.          49.          49.          71.5\n",
      "   75.66666667  75.66666667  98.16666667 100.66666667 100.66666667\n",
      "  123.16666667 123.16666667 123.16666667 123.16666667 144.41666667]]\n",
      "Minimum cost: 334\n",
      "Selected cities: ['I', 'F', 'E', 'D', 'B', 'A']\n",
      "--------------------------------------------------\n",
      "Time :  1483000 ns\n"
     ]
    }
   ],
   "source": [
    "import numpy as np\n",
    "import time\n",
    "\n",
    "def knapsack(cities, days, costs, max_days):\n",
    "    n = len(cities)\n",
    "    worthiness = [cost / day for cost, day in zip(costs, days)]  # หาสัดส่วนความคุ้มค่า\n",
    "    # สร้างเมทริกซ์สำหรับเก็บค่าที่ได้จากการคำนวณ โดยแถวเป็นจำนวนเมืองที่เลือกและหลักเป็นจำนวนวันที่ใช้ได้\n",
    "    dp = [[0] * (max_days + 1) for _ in range(n + 1)]\n",
    "\n",
    "    for i in range(1, n + 1):\n",
    "        for j in range(1, max_days + 1):\n",
    "            if days[i - 1] <= j:\n",
    "                dp[i][j] = max(dp[i - 1][j], dp[i - 1][j - days[i - 1]] + worthiness[i - 1])  # ใช้ worthiness ในการพิจารณา\n",
    "            else:\n",
    "                dp[i][j] = dp[i - 1][j]\n",
    "\n",
    "    selected_cities = []\n",
    "    i, j = n, max_days # (10, 14)\n",
    "    while i > 0 and j > 0:\n",
    "        if dp[i][j] != dp[i - 1][j]:\n",
    "            selected_cities.append(cities[i - 1])\n",
    "            j -= days[i - 1]\n",
    "        i -= 1\n",
    "\n",
    "    # Calculate total cost of selected cities\n",
    "    total_cost = sum(costs[cities.index(city)] for city in selected_cities)\n",
    "\n",
    "    print(np.array(dp))\n",
    "\n",
    "    return total_cost, selected_cities\n",
    "\n",
    "cities = ['A', 'B', 'C', 'D', 'E', 'F', 'G', 'H', 'I', 'J']\n",
    "days = [3, 4, 5, 2, 3, 1, 6, 8, 1, 7]\n",
    "costs = [80, 85, 100, 45, 75, 25, 148, 205, 24, 200]\n",
    "max_days = 14\n",
    "\n",
    "start = time.time_ns()\n",
    "min_cost, selected_cities = knapsack(cities, days, costs, max_days)\n",
    "time.sleep(1)\n",
    "end = time.time_ns()\n",
    "\n",
    "dynamic_time = end - start - 1000000000\n",
    "print(\"Minimum cost:\", min_cost)\n",
    "print(\"Selected cities:\", selected_cities)\n",
    "\n",
    "print('-' * 50)\n",
    "print(\"Time : \", dynamic_time , \"ns\")"
   ]
  },
  {
   "cell_type": "markdown",
   "metadata": {},
   "source": [
    "### <p style=\"text-decoration: underline;\">สรุปผล Dynamic Programming algorithm</p>\n",
    "\n",
    "ในที่นี้จากการทดลอง เราจะเห็นได้ว่าการโค้ดใน Dynamic programming นั้นเป็นบรรทัดที่สั้น แต่ในเชิงการออกแบบ \\\n",
    "หรือการคิดวิเคราะห์สูตรนั้นค่อนข้างยากและใช้เวลานาน แต่ได้ผลลัพธ์ที่ออกมาดี\n",
    "\n",
    "### <p style=\"color: yellow;\">คำตอบที่ได้ : 6 เมือง 334 บาท คำตอบเดียว</p>\n",
    "\n",
    "### <p style=\"color: yellow;\">เวลาในการประมวลผล : O(n^2)</p>\n",
    "\n",
    "เนื่องจากต้องสร้าง Matrix DP ขึ้นมาใช้ for loop 2 อันซ้อนกัน"
   ]
  },
  {
   "cell_type": "markdown",
   "metadata": {},
   "source": [
    "---"
   ]
  },
  {
   "cell_type": "markdown",
   "metadata": {},
   "source": [
    "# Algorithm 4 : Genetic algorithm"
   ]
  },
  {
   "cell_type": "markdown",
   "metadata": {},
   "source": [
    "---"
   ]
  },
  {
   "cell_type": "markdown",
   "metadata": {},
   "source": [
    "### แนวคิดในการทำ Genetic algorithm ในการแก้ปัญหา\n",
    "\n",
    "Genetic algorithm คืออัลกอริทึมที่จำลองหลักการพันธุกรรมมาใช้ในการแก้ปัญหา Optimization <br>\n",
    "โดยภาพรวมจะมีทั้งหมด 3 Phase สำหรับ Genetic Algorithm"
   ]
  },
  {
   "cell_type": "markdown",
   "metadata": {},
   "source": [
    "<img src=\"GA.PNG\" width=\"700px\">"
   ]
  },
  {
   "cell_type": "markdown",
   "metadata": {},
   "source": [
    "<p style=\"color: aqua;\">ขั้นตอนในการแก้ไขปัญหามีดังนี้</p>"
   ]
  },
  {
   "cell_type": "markdown",
   "metadata": {},
   "source": [
    "* Phase 1 : Initial Population\n",
    "ทำการ Generate ประชากรตั้งต้นในตอนแรกโดยเงื่อนไขที่กำหนดใน Algorithm ของผมคือ<br>\n",
    "ทำการสุ่มประชากรจำนวน 10 กลุ่มทางเลือก โดยที่แต่ละทางเลือก จะสุ่มจำนวนเมืองที่ไปซึ่ง <br>\n",
    "สุ่มตั้งแต่ 2 - 6 เพื่อความคุ้มและเร็ว\n",
    "\n",
    "* Phase 2 : Selection for breeding offsprings (ทำการสุ่มและให้กำเนิดรุ่นถัดไปให้ดีขึ้น)\n",
    "\n",
    "  - 2.1 ทำการทดสอบ Fitness และเลือกสองคนที่มีค่าดีที่สุดมาเป็นพ่อแม่\n",
    "  - 2.2 เราจะทำการเลือกพ่อแม่โดยการสุ่มด้วยวิธี Roulette Wheel selection ซึ่งหมายถึงทุกค่ามีโอกาสถูกสุ่มได้ เพียงแต่มีโอกาสที่ต่างกัน\n",
    "  - 2.3 ทำการ Crossover ตัวพ่อแม่ที่ได้มา โดยในปัญหานี้ผมใช้วิธีการสุ่มจุดที่จะทำการ Crossover แล้วสลับส่วนนั้น\n",
    "  - 2.4 ทำการ Mutation ตัวลูกตัวใดตัวหนึ่งโดยการสุ่ม\n",
    "  - 2.5 เพิ่มตัวลูกเข้าไปในประชากร\n",
    "\n",
    "* Phase 3 : Evaluation of a population (ทำการเช็คว่าดีหรือยัง)\n",
    "ทำการเช็คค่า Fitness Function ในตัวลูกที่เกิดขึ้นมาใหม่ แล้ววนกลับไป Phase 2 ใหม่ จนกว่าที่เราจะได้ Optimal solution\n",
    "โดยในปัญหานี้ ผมใช้วิธีการวัดว่าค่า Max fitness ที่เราได้ซ้ำกันเกิน 10 ก็จะถือว่า Optimal"
   ]
  },
  {
   "cell_type": "markdown",
   "metadata": {},
   "source": [
    "สำหรับ Fitness Function ที่ทำในปัญหานี้ ผมคิดเป็น\n",
    "\n"
   ]
  },
  {
   "cell_type": "markdown",
   "metadata": {},
   "source": [
    "$$\n",
    "\\text{days\\_diff} = |\\text{max\\_days} - \\text{total\\_days}|\n",
    "$$\n",
    "\n",
    "$$\n",
    "\\text{days\\_fitness} = \\frac{1}{1 + \\text{days\\_diff}}\n",
    "$$\n",
    "\n",
    "$$\n",
    "\\text{cost\\_fitness} = \\frac{1}{\\text{total\\_cost}}\n",
    "$$\n",
    "\n",
    "$$\n",
    "\\text{city\\_fitness} = \\text{len(visited\\_cities)}\n",
    "$$\n",
    "\n",
    "$$\n",
    "\\text{fitness} = \\text{days\\_fitness} \\times \\text{cost\\_fitness} \\times \\text{city\\_fitness}\n",
    "$$"
   ]
  },
  {
   "cell_type": "markdown",
   "metadata": {},
   "source": [
    "เพราะผมมองว่าในการที่เราจะคำนวณว่าปัจจัยไหนที่มีแล้วดีบ้าง เกิดจาก \n",
    "* cost fitness ที่น้อยจึงทำเป็นเศษส่วน\n",
    "* days fitness ที่พยายามทำให้สิ่งที่เลือกเข้าใกล้กับ 14 วันมากที่สุด จึงใช้เป็น abs แล้วลบออก\n",
    "* city fitness พยายามจะทำให้ทุก ๆ รอบมีจำนวนเมืองที่ไปมากที่สุด จึงคูณปกติ"
   ]
  },
  {
   "cell_type": "code",
   "execution_count": 8,
   "metadata": {},
   "outputs": [],
   "source": [
    "import random\n",
    "\n",
    "cities = {\n",
    "    'A': {'days': 3, 'cost': 80},\n",
    "    'B': {'days': 4, 'cost': 85},\n",
    "    'C': {'days': 5, 'cost': 100},\n",
    "    'D': {'days': 2, 'cost': 45},\n",
    "    'E': {'days': 3, 'cost': 75},\n",
    "    'F': {'days': 1, 'cost': 25},\n",
    "    'G': {'days': 6, 'cost': 148},\n",
    "    'H': {'days': 8, 'cost': 205},\n",
    "    'I': {'days': 1, 'cost': 24},\n",
    "    'J': {'days': 7, 'cost': 200},\n",
    "}\n",
    "\n",
    "def generate_population(population_size, max_cities, max_days):\n",
    "    population = []\n",
    "    # ทำการสุ่ม population เริ่มต้น\n",
    "    for _ in range(population_size):\n",
    "        # จำนวนเมืองที่จะสุ่ม ณ ตอนนั้น ซึ่งคิดว่าสุ่มตั้งแต่ 2 - max_cities จะคุ้มและเร็วที่สุด\n",
    "        num_cities = random.randint(2, max_cities)\n",
    "        curr_cities = []\n",
    "        total_days = 0 \n",
    "        count = 0 # Prevent the infinite loop\n",
    "        while total_days < max_days and len(curr_cities) < num_cities:\n",
    "            if count > 10:\n",
    "                break\n",
    "            # สุ่มเมืองที่จะไป\n",
    "            city = random.choice(list(cities.keys()))\n",
    "            if city in [c for c, _ in curr_cities]:\n",
    "                count += 1\n",
    "                continue\n",
    "            days_to_stay = cities[city]['days']\n",
    "            if total_days + days_to_stay > max_days:\n",
    "                count += 1\n",
    "                continue\n",
    "            curr_cities.append((city, days_to_stay))\n",
    "            total_days += days_to_stay\n",
    "        population.append(curr_cities)\n",
    "    return population\n",
    "\n",
    "def fitness_function(select_cities):\n",
    "    # คำนวณค่า fitness โดยคำนวณจาก จำนวนวันที่เข้าเมือง / ราคาทั้งหมด เพราะคิดว่าน่าจะคิดได้ง่าย\n",
    "    total_days = 0\n",
    "    total_cost = 0\n",
    "    max_days = 14\n",
    "    visited_cities = set()\n",
    "    \n",
    "    for city, days_to_stay in select_cities:\n",
    "        total_days += days_to_stay\n",
    "        total_cost += cities[city]['cost']\n",
    "        visited_cities.add(city)\n",
    "    \n",
    "    days_diff = abs(max_days - total_days)\n",
    "    days_fitness = 1 / (1 + days_diff)\n",
    "    cost_fitness = 1 / total_cost\n",
    "    city_fitness = len(visited_cities)\n",
    "    \n",
    "    return days_fitness * cost_fitness * city_fitness\n",
    "\n",
    "def fitness_calculate(population):\n",
    "    fitness_values = []\n",
    "    for select_cities in population:\n",
    "        fitness_values.append(fitness_function(select_cities))\n",
    "    return fitness_values\n",
    "\n",
    "# สำหรับเลือก Parent ในแต่ละรอบ\n",
    "def roulette_wheel_selection(population, fitness_values, num_parents):\n",
    "    parents = []\n",
    "    total_fitness = sum(fitness_values)\n",
    "    \n",
    "    # Normalize ให้ค่า fitness อยู่ในช่วง 0-1 สำหรับค่าความน่าจะเป็น\n",
    "    probs = []\n",
    "    for value in fitness_values:\n",
    "        probs.append(value / total_fitness)\n",
    "\n",
    "    for _ in range(num_parents):\n",
    "        index = random.choices(range(len(population)), weights=probs)[0]\n",
    "        parents.append(population[index])\n",
    "\n",
    "    return parents\n",
    "\n",
    "# Crossover\n",
    "def crossover(parent1, parent2):\n",
    "    # สุ่มจุดที่จะทำการ crossover\n",
    "    crossover_point = random.randint(1, min(len(parent1), len(parent2)) - 1)\n",
    "    child1 = parent1[:crossover_point] + parent2[crossover_point:]\n",
    "    child2 = parent2[:crossover_point] + parent1[crossover_point:]\n",
    "    return child1, child2\n",
    "\n",
    "# Mutation\n",
    "def mutation(child, max_days):\n",
    "    # สุ่มเมืองที่จะเข้าไปแทนที่เมืองเดิม\n",
    "    index = random.randint(0, len(child) - 1)\n",
    "    count = 0 # Prevent the infinite loop\n",
    "    while True:\n",
    "        if count > 10:\n",
    "            break\n",
    "        new_city = random.choice(list(cities.keys()))\n",
    "        if new_city in [c for c, _ in child]:\n",
    "            count += 1\n",
    "            continue\n",
    "        days_to_stay = cities[new_city]['days']\n",
    "        # ถ้าเมืองที่สุ่มมา สามารถเข้าไปได้โดยไม่เกินจำนวนวันที่กำหนด\n",
    "        total_days = sum([day for _, day in child])\n",
    "        if total_days - child[index][1] + days_to_stay <= max_days:\n",
    "            child[index] = (new_city, days_to_stay)\n",
    "        else:\n",
    "            break\n",
    "        \n",
    "    return child"
   ]
  },
  {
   "cell_type": "code",
   "execution_count": 9,
   "metadata": {},
   "outputs": [
    {
     "name": "stdout",
     "output_type": "stream",
     "text": [
      "[[('G', 6), ('D', 2), ('B', 4)], [('B', 4), ('E', 3)], [('C', 5), ('H', 8), ('I', 1)], [('G', 6), ('H', 8)], [('E', 3), ('A', 3)], [('F', 1), ('E', 3), ('J', 7), ('I', 1), ('D', 2)], [('G', 6), ('E', 3), ('C', 5)], [('I', 1), ('H', 8)], [('A', 3), ('D', 2)], [('B', 4), ('A', 3), ('J', 7)]]\n",
      "Selected Parents:\n",
      "[('C', 5), ('H', 8), ('I', 1)]\n",
      "[('A', 3), ('D', 2)]\n",
      "Selected Parents:\n",
      "[('C', 5), ('H', 8), ('I', 1)]\n",
      "[('G', 6), ('E', 3), ('C', 5)]\n",
      "Selected Parents:\n",
      "[('G', 6), ('H', 8)]\n",
      "[('G', 6), ('J', 7), ('I', 1)]\n",
      "Selected Parents:\n",
      "[('G', 6), ('J', 7), ('I', 1)]\n",
      "[('F', 1), ('E', 3), ('J', 7), ('I', 1), ('D', 2)]\n",
      "Selected Parents:\n",
      "[('C', 5), ('J', 7), ('I', 1)]\n",
      "[('G', 6), ('E', 3), ('C', 5)]\n",
      "Selected Parents:\n",
      "[('G', 6), ('D', 2), ('B', 4)]\n",
      "[('G', 6), ('J', 7), ('I', 1)]\n",
      "Selected Parents:\n",
      "[('I', 1), ('D', 2), ('B', 4)]\n",
      "[('C', 5), ('H', 8), ('I', 1)]\n",
      "Selected Parents:\n",
      "[('G', 6), ('E', 3), ('C', 5)]\n",
      "[('G', 6), ('J', 7), ('I', 1)]\n",
      "Selected Parents:\n",
      "[('G', 6), ('J', 7), ('I', 1)]\n",
      "[('G', 6), ('E', 3), ('C', 5)]\n",
      "Selected Parents:\n",
      "[('B', 4), ('A', 3), ('J', 7)]\n",
      "[('C', 5), ('D', 2), ('B', 4)]\n",
      "Selected Parents:\n",
      "[('B', 4), ('E', 3)]\n",
      "[('G', 6), ('J', 7), ('I', 1)]\n",
      "Selected Parents:\n",
      "[('I', 1), ('A', 3), ('J', 7)]\n",
      "[('I', 1), ('D', 2), ('B', 4)]\n",
      "Selected Parents:\n",
      "[('C', 5), ('H', 8), ('I', 1)]\n",
      "[('G', 6), ('E', 3), ('C', 5)]\n",
      "Selected Parents:\n",
      "[('G', 6), ('J', 7), ('I', 1)]\n",
      "[('I', 1), ('G', 6), ('J', 7)]\n",
      "Selected Parents:\n",
      "[('F', 1), ('D', 2)]\n",
      "[('I', 1), ('D', 2), ('B', 4)]\n",
      "Selected Parents:\n",
      "[('B', 4), ('J', 7), ('E', 3)]\n",
      "[('C', 5), ('H', 8), ('I', 1)]\n",
      "[0.0028708133971291866, 0.0024999999999999996, 0.004761904761904762, 0.0016, 0.0005213764337851928, 0.0024291497975708503, 0.0009876543209876543, 0.0029182879377431907, 0.002329192546583851, 0.008064516129032258, 0.008333333333333333, 0.0017857142857142857, 0.0020408163265306124, 0.0024671052631578946, 0.003663003663003663, 0.008064516129032258, 0.0024193548387096775, 0.004615384615384615, 0.002362204724409449, 0.0032608695652173916, 0.008064516129032258, 0.002435064935064935, 0.00125, 0.002512562814070352, 0.0006482982171799028, 0.002008032128514056, 0.004629629629629629, 0.0056657223796034, 0.0038461538461538464, 0.008064516129032258, 0.0023809523809523807, 0.0032362459546925564, 0.003597122302158273, 0.0015625, 0.00911854103343465, 0.0056657223796034, 0.0014336917562724014, 0.013550135501355014, 0.009287925696594427, 0.0014556040756914118, 0.0016, 0.008219178082191782]\n"
     ]
    }
   ],
   "source": [
    "import time\n",
    "\n",
    "population_size = 10\n",
    "max_cities = 5\n",
    "max_days = 14\n",
    "\n",
    "start = time.time_ns()\n",
    "\n",
    "# Phase 1: Generate the initial population\n",
    "init_population = generate_population(population_size, max_cities, max_days)\n",
    "print(init_population)\n",
    "\n",
    "iteration_population = init_population\n",
    "\n",
    "# Phase 2: Selection for breeding offsprings (We will loop here until optimal solution)\n",
    "curr_max_count = 0\n",
    "curr_max_fitness = 0\n",
    "\n",
    "while True:\n",
    "    # Individuals test for fitness\n",
    "    fitness_values = fitness_calculate(iteration_population)\n",
    "\n",
    "\n",
    "    if curr_max_count == 15:\n",
    "        break\n",
    "\n",
    "    # Check whether the optimal solution is found\n",
    "    if max(fitness_values) > curr_max_fitness:\n",
    "        curr_max_fitness = max(fitness_values)\n",
    "        curr_max_count = 0\n",
    "    else:\n",
    "        curr_max_count += 1\n",
    "\n",
    "    # Selection for reproduction\n",
    "\n",
    "    num_parents = 2  # Number of parents to select for crossover\n",
    "    selected_parents = roulette_wheel_selection(iteration_population, fitness_values, num_parents)\n",
    "    print(\"Selected Parents:\")\n",
    "    for parent in selected_parents:\n",
    "        print(parent)\n",
    "\n",
    "    # Reproduction (Crossover & Mutation)\n",
    "    offspring = []\n",
    "    parent1 = selected_parents[0]\n",
    "    parent2 = selected_parents[1]\n",
    "    child1, child2 = crossover(parent1, parent2)\n",
    "    n = random.randint(0, 1)\n",
    "    offspring.append(mutation(child1, max_days))\n",
    "    offspring.append(mutation(child2, max_days))\n",
    "    \n",
    "    iteration_population = offspring + iteration_population\n",
    "\n",
    "# Phase 3 : Evaluation of a population\n",
    "final_fitness_values = fitness_calculate(iteration_population)\n",
    "print(final_fitness_values)\n",
    "\n",
    "max_value = 0\n",
    "final_index = 0\n",
    "for index, value in enumerate(final_fitness_values):\n",
    "    if value > max_value:\n",
    "        max_value = value\n",
    "        final_index = index\n",
    "\n",
    "final_selected = iteration_population[final_index]\n",
    "\n",
    "time.sleep(1)\n",
    "end = time.time_ns()"
   ]
  },
  {
   "cell_type": "code",
   "execution_count": 10,
   "metadata": {},
   "outputs": [
    {
     "name": "stdout",
     "output_type": "stream",
     "text": [
      "--------------------------------------------------\n",
      "Final Selected:\n",
      "City: F - Days: 1\n",
      "City: E - Days: 3\n",
      "City: J - Days: 7\n",
      "City: I - Days: 1\n",
      "City: D - Days: 2\n",
      "Total Cost:  369\n",
      "Total Days:  14\n",
      "Time :  1824900 ns\n"
     ]
    }
   ],
   "source": [
    "total_cost = 0\n",
    "total_days = 0\n",
    "\n",
    "print('-' * 50)\n",
    "print(\"Final Selected:\")\n",
    "\n",
    "for city, day in final_selected:\n",
    "    total_cost += cities[city]['cost']\n",
    "    total_days += day\n",
    "    print(f\"City: {city} - Days: {day}\")\n",
    "\n",
    "print(\"Total Cost: \", total_cost)\n",
    "print(\"Total Days: \", total_days)\n",
    "\n",
    "GA_time = end - start - 1000000000\n",
    "\n",
    "print(\"Time : \", GA_time , \"ns\")"
   ]
  },
  {
   "cell_type": "markdown",
   "metadata": {},
   "source": [
    "### <p style=\"text-decoration: underline;\">สรุปผล Genetic algorithm</p>\n",
    "\n",
    "ในที่นี้จากการทดลอง เราจะเห็นว่าการใช้ Cost หรือค่าใช้จ่ายเป็นตัวพิจารณาและวัด จะได้ผลลัพธ์ที่ดีและเร็วกว่า\n",
    "\n",
    "### <p style=\"color: yellow;\">คำตอบที่ได้ : อยู่ระหว่าง 4-5 เมือง ค่าใช้จ่าย 200-380 บาท</p>\n",
    "\n",
    "### <p style=\"color: yellow;\">เวลาในการประมวลผลประมาณ : 2682100 ns</p>\n",
    "\n",
    "ส่วนเวลาที่ประมวลผลไม่ชัดเจนเนื่องจากใช้ While True เพื่อหา Optimal Solution ทำให้เวลาที่ได้ไม่คงที่"
   ]
  },
  {
   "cell_type": "markdown",
   "metadata": {},
   "source": [
    "---"
   ]
  },
  {
   "cell_type": "markdown",
   "metadata": {},
   "source": [
    "## สรุปผลการทดลองจากทั้ง 4 อัลกอริทึม"
   ]
  },
  {
   "cell_type": "code",
   "execution_count": 13,
   "metadata": {},
   "outputs": [
    {
     "name": "stdout",
     "output_type": "stream",
     "text": [
      "Brute force :  1740900\n",
      "Greedy :  882900\n",
      "Dynamic :  1483000\n",
      "Genetic Algorithm :  1824900\n"
     ]
    },
    {
     "data": {
      "image/png": "[encoded data removed]",
      "text/plain": [
       "<Figure size 640x480 with 1 Axes>"
      ]
     },
     "metadata": {},
     "output_type": "display_data"
    }
   ],
   "source": [
    "print('Brute force : ', brute_force_time)\n",
    "print('Greedy : ', greedy_cost_time)\n",
    "print('Dynamic : ', dynamic_time)\n",
    "print('Genetic Algorithm : ', GA_time)\n",
    "\n",
    "# Data visualization\n",
    "import matplotlib.pyplot as plt\n",
    "\n",
    "x = ['Brute Force', 'Greedy Cost', 'Dynamic', 'Genetic Algorithm']\n",
    "y = [brute_force_time, greedy_cost_time, dynamic_time, GA_time]\n",
    "\n",
    "plt.bar(x, y)\n",
    "plt.xlabel('Algorithm')\n",
    "plt.ylabel('Time (ns)')\n",
    "plt.title('Comparison of Time Complexity')\n",
    "plt.show()"
   ]
  },
  {
   "cell_type": "markdown",
   "metadata": {},
   "source": [
    "จากการทดลองทั้งหมด เราจะสามารถเห็นเวลาที่ใช้จากทั้ง 4 อัลกอริทึมได้ แต่มีข้อสรุปที่เห็นได้ดังนี้\n",
    "\n",
    "* Brute Force Algorithm\n",
    "  - เนื่องจาก Input ของเราไม่ได้มากเกินไป ทำให้เวลาของ Brute Force <br> ไม่ได้เยอะจนเกินไปเมื่อเทียบกับอัลกอริทึมอื่นในปัญหานี้ อีกทั้งยังได้คำตอบที่ Optimal ที่สุด <br>\n",
    "  - การเขียนโปรแกรมถือว่าใช้เวลาไม่นาน เนื่องจากเป็นอัลกอริทึมที่มีวิธีการที่ง่าย\n",
    "\n",
    "* Greedy Algorithm\n",
    "  - ใช้เวลาในการรันเร็วที่สุด แต่มีข้อสังเกตคือ Greedy <br> เราสามารถเลือกตัวที่เราพิจารณาได้\n",
    "ทั้งค่าใช้จ่ายที่น้อยที่สุดก่อน หรือ ค่าความคุ้มค่าที่ได้จากการคำนวณ (cost / days) <br>\n",
    "  - ทำให้ Greedy อาจจะเป็นอัลกอริทึมที่เหมาะสมที่สุดสำหรับปัญหานี้ เนื่องจากได้ Optimal Solution \n",
    "  - แต่ในปัญหาอื่นอาจจะทำให้ผลลัพธ์ไม่การันตีว่าจะดีที่สุด ฉะนั้นต้องพิจารณาในส่วนนี้\n",
    "  - การเขียนโปรแกรมใช้เวลาสั้นที่สุด เนื่องจากเป็นแค่การเรียงลำดับน้อยไปมาก แล้วเลือกทันที\n",
    "\n",
    "* Dynamic Programming Algorithm\n",
    "  - ใช้เวลาในการรันเร็วรองลงมาจาก Greedy\n",
    "  - การเขียนโปรแกรมใช้เวลานาน ถึงแม้จะดูเขียนง่าย แต่การคิดสมการให้เหมาะสมกับปัญหาใช้เวลาออกแบบที่ค่อนข้างนาน\n",
    "  - ใช้การประยุกต์จาก Knapsack problem โดยคิดเป็นสัดส่วนความคุ้มค่าแทน\n",
    "\n",
    "* Genetic Algorithm (GA)\n",
    "  - ใช้เวลารันไม่แน่นอนอาจจะนานกว่า\n",
    "  - การเขียนโปรแกรมใช้เวลานานที่สุด เนื่องจากมีจำนวนบรรทัดที่เยอะและออกแบบยาก\n",
    "  - กระบวนการออกแบบ GA ในแต่ละขั้นตอน ตั้งแต่กำหนดประชากร, Fitness Function, Crossover, Mutation ใช้เวลาออกแบบนาน\n",
    "  - การรันในแต่ละรอบไม่การันตี Optimal Solution\n",
    "  - คล้ายกับการปรับค่า Hyperparameter ในการเทรน AI"
   ]
  },
  {
   "cell_type": "markdown",
   "metadata": {},
   "source": [
    "<hr><br>\n",
    "<div style=\"text-align:center;\">\n",
    "    <b>เป็นคนไม่เอาถ่านบ้านมีเตาแก๊ส</b>\n",
    "    <p style=\"color: greenyellow;\">ศวิษฐ์ โกสียอัมพร 65070506026</p>\n",
    "    <p style=\"color: orange\">ธวัลรัตน์ โรจน์อมรรัตน์ 65070506037</p>\n",
    "    <p style=\"color: hotpink;\">ปุญชญา จันทร์เจริญ 65070506039</p>\n",
    "</div>"
   ]
  }
 ],
 "metadata": {
  "kernelspec": {
   "display_name": "Python 3",
   "language": "python",
   "name": "python3"
  },
  "language_info": {
   "codemirror_mode": {
    "name": "ipython",
    "version": 3
   },
   "file_extension": ".py",
   "mimetype": "text/x-python",
   "name": "python",
   "nbconvert_exporter": "python",
   "pygments_lexer": "ipython3",
   "version": "3.11.4"
  }
 },
 "nbformat": 4,
 "nbformat_minor": 2
}
