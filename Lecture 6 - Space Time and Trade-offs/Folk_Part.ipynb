{
 "cells": [
  {
   "cell_type": "markdown",
   "metadata": {},
   "source": [
    "### Horspool's Algorithms for String Matching"
   ]
  },
  {
   "cell_type": "code",
   "execution_count": 9,
   "metadata": {},
   "outputs": [],
   "source": [
    "# Horspool's Algorithms for String Matching\n",
    "def ShiftTable(P):\n",
    "    m = len(P)\n",
    "    table = {}\n",
    "    alphabet = set(P)\n",
    "    for char in alphabet:\n",
    "        table[char] = m\n",
    "    for j in range(m-1):\n",
    "        table[P[j]] = m - 1 - j\n",
    "    return table\n",
    "\n",
    "def HorspoolMatching(P, T):\n",
    "    shift_table = ShiftTable(P)\n",
    "    m = len(P)\n",
    "    n = len(T)\n",
    "    i = m - 1 # i is the index of the last character of the pattern\n",
    "    while i < n:\n",
    "        k = 0\n",
    "        while k < m and P[m-1-k] == T[i-k]:\n",
    "            k += 1\n",
    "        if k == m:\n",
    "            return i - m + 1\n",
    "        else:\n",
    "            i += shift_table.get(T[i], m)\n",
    "            \n",
    "    return -1"
   ]
  },
  {
   "cell_type": "code",
   "execution_count": 11,
   "metadata": {},
   "outputs": [
    {
     "name": "stdout",
     "output_type": "stream",
     "text": [
      "16\n"
     ]
    }
   ],
   "source": [
    "### Test Case 1 - Horspool's Algorithm ###\n",
    "Pattern = \"BAOBAB\"\n",
    "Text = \"BESS_KNEW_ABOUT_BAOBABS\"\n",
    "\n",
    "print(HorspoolMatching(Pattern, Text))"
   ]
  },
  {
   "cell_type": "code",
   "execution_count": 12,
   "metadata": {},
   "outputs": [
    {
     "name": "stdout",
     "output_type": "stream",
     "text": [
      "10\n"
     ]
    }
   ],
   "source": [
    "### Test Case 2 - Horspool's Algorithm ###\n",
    "Pattern = \"ABABCABAB\"\n",
    "Text = \"ABABDABACDABABCABAB\"\n",
    "\n",
    "print(HorspoolMatching(Pattern, Text))"
   ]
  },
  {
   "cell_type": "markdown",
   "metadata": {},
   "source": [
    "---"
   ]
  },
  {
   "cell_type": "markdown",
   "metadata": {},
   "source": [
    "### Boyer-Moore's Algorithm"
   ]
  },
  {
   "cell_type": "markdown",
   "metadata": {},
   "source": [
    "ข้อสังเกตคือ Boyer-Moore มี Algorithm ที่เหมือนกับ Horspool's เพียงแค่เปลี่ยนค่าในการ Shift หนึ่งรอบให้เป็นไปตาม Bad-symbol shift กับ The good-suffix shift\n",
    "\n",
    "Reference : https://www.geeksforgeeks.org/boyer-moore-algorithm-for-pattern-searching/"
   ]
  },
  {
   "cell_type": "code",
   "execution_count": 4,
   "metadata": {},
   "outputs": [],
   "source": [
    "# Boyer-Moore's Algorithm for String Matching\n",
    "\n",
    "def HorspoolTable(P):\n",
    "    m = len(P)\n",
    "    table = {}\n",
    "    alphabet = set(P)\n",
    "    for char in alphabet:\n",
    "        table[char] = m\n",
    "    for j in range(m - 1):\n",
    "        table[P[j]] = m - 1 - j\n",
    "    return table\n",
    "\n",
    "def BadCharacterTable(P):\n",
    "    m = len(P)\n",
    "    table = {}\n",
    "    alphabet = set(P)\n",
    "    for char in alphabet:\n",
    "        table[char] = -1\n",
    "    for j in range(m):\n",
    "        table[P[j]] = j\n",
    "    return table\n",
    "\n",
    "def GoodSuffixTable(P):\n",
    "    m = len(P)\n",
    "    table = [0] * (m + 1)\n",
    "    i = m\n",
    "    j = m + 1\n",
    "    table[i] = j\n",
    "    while i > 0:\n",
    "        while j <= m and P[i - 1] != P[j - 1]:\n",
    "            if table[j] == 0:\n",
    "                table[j] = j - i\n",
    "            j = table[j]\n",
    "        i -= 1\n",
    "        j -= 1\n",
    "        table[i] = j\n",
    "    return table\n",
    "\n",
    "def BoyerMooreMatching(P, T):\n",
    "    m = len(P)\n",
    "    n = len(T)\n",
    "    bad_character = BadCharacterTable(P)\n",
    "    good_suffix = GoodSuffixTable(P)\n",
    "    i = m - 1\n",
    "    while i < n:\n",
    "        k = 0\n",
    "        while k < m and P[m - 1 - k] == T[i - k]:\n",
    "            k += 1\n",
    "        if k == m:\n",
    "            return i - m + 1\n",
    "        else:\n",
    "            bad_char_skip = k - bad_character.get(T[i], 0)\n",
    "            good_suffix_skip = good_suffix[k]\n",
    "\n",
    "            i += max(bad_char_skip, good_suffix_skip)\n",
    "\n",
    "    return -1"
   ]
  },
  {
   "cell_type": "code",
   "execution_count": 7,
   "metadata": {},
   "outputs": [
    {
     "name": "stdout",
     "output_type": "stream",
     "text": [
      "10\n"
     ]
    }
   ],
   "source": [
    "### Test Case 1 -  ###\n",
    "Pattern = \"ABOUT\"\n",
    "Text = \"BESS_KNEW_ABOUT_BAOBABS\"\n",
    "\n",
    "print(BoyerMooreMatching(Pattern, Text))"
   ]
  },
  {
   "cell_type": "code",
   "execution_count": null,
   "metadata": {},
   "outputs": [],
   "source": [
    "### Test Case 2 - "
   ]
  }
 ],
 "metadata": {
  "kernelspec": {
   "display_name": "Python 3",
   "language": "python",
   "name": "python3"
  },
  "language_info": {
   "codemirror_mode": {
    "name": "ipython",
    "version": 3
   },
   "file_extension": ".py",
   "mimetype": "text/x-python",
   "name": "python",
   "nbconvert_exporter": "python",
   "pygments_lexer": "ipython3",
   "version": "3.11.4"
  }
 },
 "nbformat": 4,
 "nbformat_minor": 2
}
