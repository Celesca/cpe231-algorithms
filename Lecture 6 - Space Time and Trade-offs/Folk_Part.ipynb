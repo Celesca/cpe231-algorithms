{
 "cells": [
  {
   "cell_type": "code",
   "execution_count": 9,
   "metadata": {},
   "outputs": [],
   "source": [
    "# Horspool's Algorithms for String Matching\n",
    "\n",
    "def ShiftTable(P):\n",
    "\n",
    "    m = len(P)\n",
    "    table = {}\n",
    "    alphabet = set(P)\n",
    "\n",
    "    for char in alphabet:\n",
    "        table[char] = m\n",
    "\n",
    "    for j in range(m-1):\n",
    "        table[P[j]] = m - 1 - j\n",
    "\n",
    "    return table\n",
    "\n",
    "def HorspoolMatching(P, T):\n",
    "\n",
    "    shift_table = ShiftTable(P)\n",
    "    m = len(P)\n",
    "    n = len(T)\n",
    "    i = m - 1 \n",
    "\n",
    "    while i < n:\n",
    "        k = 0\n",
    "        while k < m and P[m-1-k] == T[i-k]:\n",
    "            k += 1\n",
    "        if k == m:\n",
    "            return i - m + 1\n",
    "        else:\n",
    "            i += shift_table.get(T[i], m)\n",
    "\n",
    "    return -1"
   ]
  },
  {
   "cell_type": "code",
   "execution_count": 11,
   "metadata": {},
   "outputs": [
    {
     "name": "stdout",
     "output_type": "stream",
     "text": [
      "16\n"
     ]
    }
   ],
   "source": [
    "### Test Case 1 ###\n",
    "Pattern = \"BAOBAB\"\n",
    "Text = \"BESS_KNEW_ABOUT_BAOBABS\"\n",
    "\n",
    "print(HorspoolMatching(Pattern, Text))"
   ]
  },
  {
   "cell_type": "code",
   "execution_count": null,
   "metadata": {},
   "outputs": [],
   "source": []
  }
 ],
 "metadata": {
  "kernelspec": {
   "display_name": "Python 3",
   "language": "python",
   "name": "python3"
  },
  "language_info": {
   "codemirror_mode": {
    "name": "ipython",
    "version": 3
   },
   "file_extension": ".py",
   "mimetype": "text/x-python",
   "name": "python",
   "nbconvert_exporter": "python",
   "pygments_lexer": "ipython3",
   "version": "3.11.4"
  }
 },
 "nbformat": 4,
 "nbformat_minor": 2
}
