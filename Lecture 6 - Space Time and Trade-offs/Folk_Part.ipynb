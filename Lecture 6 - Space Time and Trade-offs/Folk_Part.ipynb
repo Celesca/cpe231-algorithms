{
 "cells": [
  {
   "cell_type": "code",
   "execution_count": 2,
   "metadata": {},
   "outputs": [],
   "source": [
    "# Horspool's Algorithms\n",
    "\n",
    "def ShiftTable(P):\n",
    "    m = len(P)\n",
    "    table = []\n",
    "    alphabet = 256\n",
    "\n",
    "    for i in range(alphabet):\n",
    "        table.append(m)\n",
    "\n",
    "    for j in range(m-1):\n",
    "        table[P[j]] = m - 1 - j\n",
    "\n",
    "    return table\n",
    "\n",
    "def HorspoolMatching(P, T):\n",
    "    shift_table = ShiftTable(P)\n",
    "\n",
    "    m = len(P)\n",
    "    n = len(T)\n",
    "\n",
    "    i = m-1\n",
    "\n",
    "    while i <= n:\n",
    "        k = 0\n",
    "        while k <= m-1 and P[m-1-k] == T[i-k]:\n",
    "            k += 1\n",
    "        if k == m:\n",
    "            return i - m + 1\n",
    "        else:\n",
    "            i += shift_table[T[i]]\n",
    "    \n",
    "    return -1"
   ]
  },
  {
   "cell_type": "code",
   "execution_count": 3,
   "metadata": {},
   "outputs": [
    {
     "ename": "TypeError",
     "evalue": "list indices must be integers or slices, not str",
     "output_type": "error",
     "traceback": [
      "\u001b[1;31m---------------------------------------------------------------------------\u001b[0m",
      "\u001b[1;31mTypeError\u001b[0m                                 Traceback (most recent call last)",
      "Cell \u001b[1;32mIn[3], line 5\u001b[0m\n\u001b[0;32m      2\u001b[0m Pattern \u001b[38;5;241m=\u001b[39m \u001b[38;5;124m\"\u001b[39m\u001b[38;5;124mBAOBAB\u001b[39m\u001b[38;5;124m\"\u001b[39m\n\u001b[0;32m      3\u001b[0m Text \u001b[38;5;241m=\u001b[39m \u001b[38;5;124m\"\u001b[39m\u001b[38;5;124mBESS_KNEW_ABOUT_BAOBABS\u001b[39m\u001b[38;5;124m\"\u001b[39m\n\u001b[1;32m----> 5\u001b[0m \u001b[38;5;28mprint\u001b[39m(\u001b[43mHorspoolMatching\u001b[49m\u001b[43m(\u001b[49m\u001b[43mPattern\u001b[49m\u001b[43m,\u001b[49m\u001b[43m \u001b[49m\u001b[43mText\u001b[49m\u001b[43m)\u001b[49m) \u001b[38;5;66;03m# 15\u001b[39;00m\n",
      "Cell \u001b[1;32mIn[2], line 18\u001b[0m, in \u001b[0;36mHorspoolMatching\u001b[1;34m(P, T)\u001b[0m\n\u001b[0;32m     17\u001b[0m \u001b[38;5;28;01mdef\u001b[39;00m \u001b[38;5;21mHorspoolMatching\u001b[39m(P, T):\n\u001b[1;32m---> 18\u001b[0m     shift_table \u001b[38;5;241m=\u001b[39m \u001b[43mShiftTable\u001b[49m\u001b[43m(\u001b[49m\u001b[43mP\u001b[49m\u001b[43m)\u001b[49m\n\u001b[0;32m     20\u001b[0m     m \u001b[38;5;241m=\u001b[39m \u001b[38;5;28mlen\u001b[39m(P)\n\u001b[0;32m     21\u001b[0m     n \u001b[38;5;241m=\u001b[39m \u001b[38;5;28mlen\u001b[39m(T)\n",
      "Cell \u001b[1;32mIn[2], line 12\u001b[0m, in \u001b[0;36mShiftTable\u001b[1;34m(P)\u001b[0m\n\u001b[0;32m      9\u001b[0m     table\u001b[38;5;241m.\u001b[39mappend(m)\n\u001b[0;32m     11\u001b[0m \u001b[38;5;28;01mfor\u001b[39;00m j \u001b[38;5;129;01min\u001b[39;00m \u001b[38;5;28mrange\u001b[39m(m\u001b[38;5;241m-\u001b[39m\u001b[38;5;241m1\u001b[39m):\n\u001b[1;32m---> 12\u001b[0m     \u001b[43mtable\u001b[49m\u001b[43m[\u001b[49m\u001b[43mP\u001b[49m\u001b[43m[\u001b[49m\u001b[43mj\u001b[49m\u001b[43m]\u001b[49m\u001b[43m]\u001b[49m \u001b[38;5;241m=\u001b[39m m \u001b[38;5;241m-\u001b[39m \u001b[38;5;241m1\u001b[39m \u001b[38;5;241m-\u001b[39m j\n\u001b[0;32m     14\u001b[0m \u001b[38;5;28;01mreturn\u001b[39;00m table\n",
      "\u001b[1;31mTypeError\u001b[0m: list indices must be integers or slices, not str"
     ]
    }
   ],
   "source": [
    "# Test Case 1\n",
    "Pattern = \"BAOBAB\"\n",
    "Text = \"BESS_KNEW_ABOUT_BAOBABS\"\n",
    "\n",
    "print(HorspoolMatching(Pattern, Text)) # 15"
   ]
  },
  {
   "cell_type": "code",
   "execution_count": null,
   "metadata": {},
   "outputs": [],
   "source": [
    "class BoyerMoore:\n",
    "\tdef __init__(self, text, pattern):\n",
    "\t\tself.text = text\n",
    "\t\tself.pattern = pattern\n",
    "\t\tself.m = len(pattern)\n",
    "\t\tself.n = len(text)\n",
    "\t\tself.skip = []\n",
    "\t\tfor i in range(256): self.skip.append(-1)\n",
    "\t\tfor i in range(self.m): self.skip[ord(pattern[i])] = self.m\n",
    "\n",
    "\tdef search(self):\n",
    "\t\tfor i in range(self.n + self.m + 1):\n",
    "\t\t\tskip = 0\n",
    "\t\t\tfor j in range(self.m-1, -1, -1):\n",
    "\t\t\t\tif self.text[i+j] != self.pattern[j]:\n",
    "\t\t\t\t\tskip = j - self.skip[ord(self.text[i+j])]\n",
    "\t\t\t\t\tif skip < 1: skip = 1\n",
    "\t\t\t\t\tbreak\n",
    "\n",
    "\t\t\tif skip == 0:\n",
    "\t\t\t\tprint \"Found at {0}\".format(i)\n",
    "\t\t\t\treturn\n",
    "\n",
    "\t\t\ti += skip\n",
    "\n",
    "\t\tprint \"Not Found\"\n",
    "\t\treturn"
   ]
  }
 ],
 "metadata": {
  "kernelspec": {
   "display_name": "Python 3",
   "language": "python",
   "name": "python3"
  },
  "language_info": {
   "codemirror_mode": {
    "name": "ipython",
    "version": 3
   },
   "file_extension": ".py",
   "mimetype": "text/x-python",
   "name": "python",
   "nbconvert_exporter": "python",
   "pygments_lexer": "ipython3",
   "version": "3.11.4"
  }
 },
 "nbformat": 4,
 "nbformat_minor": 2
}
