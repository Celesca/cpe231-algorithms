{
 "cells": [
  {
   "cell_type": "markdown",
   "metadata": {},
   "source": [
    "# สรุปสิ่งที่ได้เรียนภายใน Lecture 6\n",
    "การพิจารณา Space and Time Trade-offs ในการพัฒนาซอฟต์แวร์มีความสำคัญเนื่องจากต้องให้ความสมดุลระหว่างการใช้พื้นที่หน่วยความจำ (Space) และเวลาในการประมวลผล (Time) เพื่อให้ได้ผลลัพธ์ที่มีประสิทธิภาพที่สูงสุด ดังนี้\n",
    "\n",
    "Input Enhancement Approach : การปรับปรุงข้อมูลเข้าเพื่อลดความซับซ้อนและเพิ่มประสิทธิภาพในการประมวลผล\n",
    "\n",
    "- 1.1 Counting Method for Sorting (วิธีการนับสำหรับการเรียงลำดับ):\n",
    "    - 1.1.1 Comparison-counting sort: ใช้การนับจำนวนครั้งที่ทำการเปรียบเทียบข้อมูลเพื่อเรียงลำดับ โดยมีหลักการก็คือให้ตั้ง For Loop 2 รอบแล้วจึงเลือกเลขในรอบนั้น จากนั้นไล่เลขที่ถัดจากตัวมันเอง ถ้าหากเลขไหนน้อยกว่าให้ +1 ที่เลขตั้งต้น ถ้าหากเลขไหนมากกว่าให้ +1 เลขนั้นๆ\n",
    "    จากนั้นจึงเอาลำดับที่ได้มาเรียงเป็นเลขที่เรียง\n",
    "    - 1.1.2 Distribution-counting sort: ใช้การนับจำนวนครั้งที่ข้อมูลปรากฏในช่วงค่าที่กำหนดเพื่อเรียงลำดับ เหมาะสำหรับชุดตัวเลขที่มีความถี่ตัวเลขเยอะ\n",
    "\n",
    "- 1.2 Input Enhancement in String Matching (การปรับปรุงข้อมูลนำเข้าในการตรวจสอบตัวอักษร):\n",
    "    - 1.2.1 Horspool's algorithm: ใช้อัลกอริทึมที่มีการเคลื่อนที่ของชุดตำแหน่งสำหรับการค้นหาตัวอักษรในข้อความ โดยมีหลักการสร้าง Shift Table ขึ้นมาเพื่อดูกรณีที่จะเลื่อนไปกี่ช่อง โดยสามารถแบ่งเป็นกรณีเวลาเปรียบเทียบได้ดังนี้\n",
    "      - Case 1 : ช่องท้ายไม่ตรงและไม่มีตัวอักษรที่อยู่ใน Pattern แล้ว ให้เลื่อนไปด้วยขนาด Pattern (m) ได้เลย\n",
    "      - Case 2 : ไม่ตรงตัวท้ายแต่มีตัวอักษรใน Pattern ตัวอื่นอยู่ ให้เลื่อนไปหาตัวอักษรนั้นที่ใกล้สุด\n",
    "      - Case 3 : ตรงบางตัวแต่ไม่ครบ แล้วไม่ได้อยู่ใน Pattern แล้ว ให้เลื่อนไปด้วยขนาด Pattern\n",
    "      - Case 4 : ทำนองเดียวกันกับ Case 2 ถ้าหากไม่ครบแต่ยังมีใน Pattern ให้เลื่อนไปตัวใกล้สุด\n",
    "    \n",
    "    - 1.2.2 Boyer-Moore algorithm: ใช้อัลกอริทึมที่มีการใช้ข้อมูลจากการพบการไม่ตรงกันในข้อความเพื่อลดจำนวนขั้นตอนในการค้นหา คล้ายกับ Horspool's algorithm แต่เปลี่ยนจากการเคลื่อนที่ชุดตำแหน่งด้วย Bad Symbol Shift และ Good Suffix Shift\n",
    "\n",
    "    - ปัจจุบันยังไม่มีทฤษฏีหรืองานวิจัยที่รองรับว่า Algorithm สองตัวนี้อันไหนเร็วหรือดีกว่ากัน\n",
    "\n",
    "Prestructuring Approach : การเตรียมโครงสร้างล่วงหน้าเพื่อลดความซับซ้อนและเพิ่มประสิทธิภาพในการทำงาน\n",
    "\n",
    "- 2.1 Hashing: ใช้เทคนิคการแฮชเพื่อระบุตำแหน่งที่จัดเก็บข้อมูลในพื้นที่หน่วยความจำ\n",
    "\n",
    "- 2.2 B-tree: ใช้โครงสร้างข้อมูลที่มีการแบ่งส่วนโครงสร้างแบบลำดับตามชั้นเพื่อเพิ่มประสิทธิภาพในการค้นหา เป็นภาพใหญ่ของ 2-3 Tree\n",
    "\n",
    "\n",
    "การเลือกใช้แนวทางการพัฒนาใดๆ จะต้องพิจารณา Space and Time Trade-offs อย่างรอบคอบเพื่อให้ได้ผลลัพธ์ที่มีประสิทธิภาพและเหมาะสมสำหรับความต้องการและโครงสร้างของโปรแกรมที่กำลังพัฒนา"
   ]
  },
  {
   "cell_type": "markdown",
   "metadata": {},
   "source": [
    "## Sorting by Counting"
   ]
  },
  {
   "cell_type": "markdown",
   "metadata": {},
   "source": [
    "#### Comparison Counting Sort"
   ]
  },
  {
   "cell_type": "code",
   "execution_count": 20,
   "metadata": {},
   "outputs": [],
   "source": [
    "def ComparisonCountingSort(A):\n",
    "    n = len(A)\n",
    "    Count = [0] * n\n",
    "    S = [0] * n\n",
    "    for i in range(n):\n",
    "        Count[i] = 0\n",
    "    for i in range(n-1):\n",
    "        for j in range(i+1,n):\n",
    "            if A[i] < A[j]:\n",
    "                Count[j] += 1\n",
    "            else:\n",
    "                Count[i] += 1\n",
    "    for i in range(n):\n",
    "        S[Count[i]] = A[i]\n",
    "    return S"
   ]
  },
  {
   "cell_type": "code",
   "execution_count": 21,
   "metadata": {},
   "outputs": [
    {
     "name": "stdout",
     "output_type": "stream",
     "text": [
      "Before :  [64, 25, 12, 22, 11]\n",
      "After :  [11, 12, 22, 25, 64]\n"
     ]
    }
   ],
   "source": [
    "### Test Case 1 - Comparison Counting Sort ###\n",
    "\n",
    "A = [64, 25, 12, 22, 11]\n",
    "sorted_array = ComparisonCountingSort(A)\n",
    "print(\"Before : \", A)\n",
    "print(\"After : \", sorted_array)"
   ]
  },
  {
   "cell_type": "code",
   "execution_count": 22,
   "metadata": {},
   "outputs": [
    {
     "name": "stdout",
     "output_type": "stream",
     "text": [
      "Before :  [38, 27, 43, 3, 9, 82, 10]\n",
      "After :  [3, 9, 10, 27, 38, 43, 82]\n"
     ]
    }
   ],
   "source": [
    "### Test Case 2 - Comparison Counting Sort ###\n",
    "\n",
    "A = [38, 27, 43, 3, 9, 82, 10]\n",
    "sorted_array = ComparisonCountingSort(A)\n",
    "print(\"Before : \", A)\n",
    "print(\"After : \", sorted_array)"
   ]
  },
  {
   "cell_type": "markdown",
   "metadata": {},
   "source": [
    "---"
   ]
  },
  {
   "cell_type": "markdown",
   "metadata": {},
   "source": [
    "#### Distribution Counting Sort"
   ]
  },
  {
   "cell_type": "code",
   "execution_count": 23,
   "metadata": {},
   "outputs": [],
   "source": [
    "def DistributionCountingSort(A, l, u):\n",
    "    n = len(A)\n",
    "    D = [0] * (u-l+1)\n",
    "    S = [0] * n\n",
    "    for j in range(u-l+1):\n",
    "        D[j] = 0\n",
    "    for i in range(n):\n",
    "        D[A[i]-l] += 1\n",
    "    for j in range(1,u-l+1):\n",
    "        D[j] += D[j-1]\n",
    "    for i in range(n-1,-1,-1):\n",
    "        j = A[i] - l\n",
    "        S[D[j]-1] = A[i]\n",
    "        D[j] -= 1\n",
    "    return S"
   ]
  },
  {
   "cell_type": "code",
   "execution_count": 24,
   "metadata": {},
   "outputs": [
    {
     "name": "stdout",
     "output_type": "stream",
     "text": [
      "Before :  [64, 25, 12, 22, 11, 11, 12, 25, 22, 64]\n",
      "After :  [11, 11, 12, 12, 22, 22, 25, 25, 64, 64]\n"
     ]
    }
   ],
   "source": [
    "### Test Case 1 - Distribution Counting Sort ###\n",
    "\n",
    "A = [64, 25, 12, 22, 11, 11, 12, 25, 22, 64]\n",
    "l = min(A)\n",
    "u = max(A)\n",
    "result = DistributionCountingSort(A, l, u)\n",
    "print(\"Before : \", A)\n",
    "print(\"After : \", result)"
   ]
  },
  {
   "cell_type": "code",
   "execution_count": 25,
   "metadata": {},
   "outputs": [
    {
     "name": "stdout",
     "output_type": "stream",
     "text": [
      "Before :  [38, 27, 43, 3, 3, 8, 8, 27, 43, 38, 82]\n",
      "After :  [3, 3, 8, 8, 27, 27, 38, 38, 43, 43, 82]\n"
     ]
    }
   ],
   "source": [
    "### Test Case 2 - Distribution Counting Sort ###\n",
    "\n",
    "A = [38, 27, 43, 3, 3, 8, 8, 27, 43, 38, 82]\n",
    "l = min(A)\n",
    "u = max(A)\n",
    "result = DistributionCountingSort(A, l, u)\n",
    "print(\"Before : \", A)\n",
    "print(\"After : \", result)"
   ]
  },
  {
   "cell_type": "markdown",
   "metadata": {},
   "source": [
    "---"
   ]
  },
  {
   "cell_type": "markdown",
   "metadata": {},
   "source": [
    "### Horspool's Algorithms for String Matching"
   ]
  },
  {
   "cell_type": "code",
   "execution_count": 26,
   "metadata": {},
   "outputs": [],
   "source": [
    "# Horspool's Algorithms for String Matching\n",
    "def ShiftTable(P):\n",
    "    m = len(P)\n",
    "    table = {}\n",
    "    alphabet = set(P)\n",
    "    for char in alphabet:\n",
    "        table[char] = m\n",
    "    for j in range(m-1):\n",
    "        table[P[j]] = m - 1 - j\n",
    "    return table\n",
    "\n",
    "def HorspoolMatching(P, T):\n",
    "    shift_table = ShiftTable(P)\n",
    "    m = len(P)\n",
    "    n = len(T)\n",
    "    i = m - 1 # i is the index of the last character of the pattern\n",
    "    while i < n:\n",
    "        k = 0\n",
    "        while k < m and P[m-1-k] == T[i-k]:\n",
    "            k += 1\n",
    "        if k == m:\n",
    "            return i - m + 1\n",
    "        else:\n",
    "            i += shift_table.get(T[i], m)\n",
    "            \n",
    "    return -1"
   ]
  },
  {
   "cell_type": "code",
   "execution_count": 27,
   "metadata": {},
   "outputs": [
    {
     "name": "stdout",
     "output_type": "stream",
     "text": [
      "16\n"
     ]
    }
   ],
   "source": [
    "### Test Case 1 - Horspool's Algorithm ###\n",
    "Pattern = \"BAOBAB\"\n",
    "Text = \"BESS_KNEW_ABOUT_BAOBABS\"\n",
    "\n",
    "print(HorspoolMatching(Pattern, Text))"
   ]
  },
  {
   "cell_type": "code",
   "execution_count": 28,
   "metadata": {},
   "outputs": [
    {
     "name": "stdout",
     "output_type": "stream",
     "text": [
      "10\n"
     ]
    }
   ],
   "source": [
    "### Test Case 2 - Horspool's Algorithm ###\n",
    "Pattern = \"ABABCABAB\"\n",
    "Text = \"ABABDABACDABABCABAB\"\n",
    "\n",
    "print(HorspoolMatching(Pattern, Text))"
   ]
  },
  {
   "cell_type": "code",
   "execution_count": 29,
   "metadata": {},
   "outputs": [
    {
     "name": "stdout",
     "output_type": "stream",
     "text": [
      "0\n"
     ]
    }
   ],
   "source": [
    "### Test Case 3 - Horspool's Algorithm ###\n",
    "Pattern = \"ABAB\"\n",
    "Text = \"ABABDABACDABABCABAB\"\n",
    "\n",
    "print(HorspoolMatching(Pattern, Text))"
   ]
  },
  {
   "cell_type": "markdown",
   "metadata": {},
   "source": [
    "---"
   ]
  },
  {
   "cell_type": "markdown",
   "metadata": {},
   "source": [
    "### Boyer-Moore's Algorithm"
   ]
  },
  {
   "cell_type": "markdown",
   "metadata": {},
   "source": [
    "ข้อสังเกตคือ Boyer-Moore มี Algorithm ที่เหมือนกับ Horspool's เพียงแค่เปลี่ยนค่าในการ Shift หนึ่งรอบให้เป็นไปตาม Bad-symbol shift กับ The good-suffix shift\n",
    "\n",
    "Reference : https://www.geeksforgeeks.org/boyer-moore-algorithm-for-pattern-searching/"
   ]
  },
  {
   "cell_type": "code",
   "execution_count": 30,
   "metadata": {},
   "outputs": [],
   "source": [
    "def BoyerMooreMatching(P, T):\n",
    "    m = len(P)\n",
    "    n = len(T)\n",
    "\n",
    "    # สร้าง shift table สำหรับ bad symbol shift\n",
    "    last_occurrence = {}\n",
    "    for i in range(m):\n",
    "        last_occurrence[P[i]] = i\n",
    "\n",
    "    def BadSymbolShift(char):\n",
    "        if char in last_occurrence:\n",
    "            return max(m - last_occurrence[char] - 1 , 1)\n",
    "        else:\n",
    "            return max(m, 1) # ถ้าไม่เจอให้กระโดดทั้ง pattern\n",
    "\n",
    "    def GoodSuffixShift(j):\n",
    "        k = m - 1 - j\n",
    "        if k == 0:\n",
    "            return 1\n",
    "        for r in range(j+1, m):\n",
    "            if P[k-1] == P[r]:\n",
    "                return m - r\n",
    "        return m\n",
    "\n",
    "    i = m - 1\n",
    "    while i < n:\n",
    "        j = m - 1\n",
    "        while j >= 0 and T[i] == P[j]:\n",
    "            i -= 1\n",
    "            j -= 1\n",
    "        if j == -1:\n",
    "            return i + 1\n",
    "        else:\n",
    "            bad_shift = BadSymbolShift(T[i])\n",
    "            good_shift = GoodSuffixShift(j)\n",
    "            i += max(bad_shift, good_shift) # ค่ากระโดดไหนมากกว่าให้เลือกตัวนั้น\n",
    "\n",
    "    return -1 # ถ้าไม่เจอ"
   ]
  },
  {
   "cell_type": "code",
   "execution_count": 31,
   "metadata": {},
   "outputs": [
    {
     "name": "stdout",
     "output_type": "stream",
     "text": [
      "16\n"
     ]
    }
   ],
   "source": [
    "### Test Case 1 - Boyer-Moore's Algorithm ###\n",
    "Pattern = \"BAOBAB\"\n",
    "Text = \"BESS_KNEW_ABOUT_BAOBABS\"\n",
    "\n",
    "print(BoyerMooreMatching(Pattern, Text))"
   ]
  },
  {
   "cell_type": "code",
   "execution_count": 32,
   "metadata": {},
   "outputs": [
    {
     "name": "stdout",
     "output_type": "stream",
     "text": [
      "10\n"
     ]
    }
   ],
   "source": [
    "### Test Case 2 - Boyer-Moore's Algorithm ###\n",
    "Pattern = \"ABABCABAB\"\n",
    "Text = \"ABABDABACDABABCABAB\"\n",
    "\n",
    "print(BoyerMooreMatching(Pattern, Text))"
   ]
  },
  {
   "cell_type": "code",
   "execution_count": 33,
   "metadata": {},
   "outputs": [
    {
     "name": "stdout",
     "output_type": "stream",
     "text": [
      "0\n"
     ]
    }
   ],
   "source": [
    "### Test Case 3 - Boyer-Moore's Algorithm ###\n",
    "Pattern = \"ABAB\"\n",
    "Text = \"ABABDABACDABABCABAB\"\n",
    "\n",
    "print(BoyerMooreMatching(Pattern, Text))"
   ]
  },
  {
   "cell_type": "markdown",
   "metadata": {},
   "source": [
    "---"
   ]
  },
  {
   "cell_type": "markdown",
   "metadata": {},
   "source": [
    "# B-Trees\n",
    "\n",
    "Ref 1 : https://www.youtube.com/watch?v=fAfuZiFDpRo (B-trees Series from Michael Sambol) <br>\n",
    "Ref 2 : https://www.geeksforgeeks.org/introduction-of-b-tree-2/"
   ]
  },
  {
   "cell_type": "markdown",
   "metadata": {},
   "source": [
    "### B-Tree Characteristics :\n",
    "* Leaves จะอยู่ในชั้นเดียวกันทั้งหมด\n",
    "* Tree Nodes จะมีโหนดลูกได้หลายตัว ไม่ได้มีแค่สองตัวเหมือนกับ Binary Tree\n",
    "* ทุกโหนดมี n keys แบบเรียงลำดับน้อยไปมาก\n",
    "* Internal nodes ใดๆก็ตามจะมี n+1 childrens\n",
    "* key ใน subtree ที่ต่อจากโหนดแม่ จะต้องมีค่ามากกว่า/น้อยกว่า หรืออยู่ระหว่างค่าของ Parent Nodes\n",
    "* all leaves have the same depth = height of the tree\n",
    "\n",
    "#### Concept of lower and upper bound of number of keys (t)\n",
    "- คอนเซปของความสูงต้นไม้ Btree คือ Minimum degree of the tree (t) โดยที่ t >=2 \n",
    "- Lower bound (ค่าต่ำสุด ยกเว้นตัว root) - จะมีอย่างน้อย t-1 keys และสำหรับ internal nodes มีโหนดลูกอย่างน้อย t\n",
    "- Upper bound (ค่าสูงสุด) - ได้มากสุด 2t - 1 keys ในขณะที่ internal nodes มีมากสุด 2t \n",
    "\n",
    "#### ความสูงของต้นไม้ B-tree จะมีประมาณ log ฐาน t (n+1)/2 และมี Time Complexity เป็น O(log n)"
   ]
  },
  {
   "cell_type": "markdown",
   "metadata": {},
   "source": [
    "<img src=\"https://media.geeksforgeeks.org/wp-content/uploads/20200506235136/output253.png\">"
   ]
  },
  {
   "cell_type": "markdown",
   "metadata": {},
   "source": [
    "### Insertion Concept of B-Tree\n",
    "\n",
    "จากคุณสมบัติของ B-tree ที่บอกว่า โหนดใบจะอยู่ในความสูงเดียวกันเสมอ และ สามารถมีได้มากสุด 2t - 1 keys ในโหนดนึุง <br>\n",
    "ยกตัวอย่างเช่น ถ้า t = 3 หมายความว่า ในโหนดนึงจะมีได้มากสุด 2t-1 หรือ 5 keys|\n",
    "\n",
    "* กรณีที่เราจะแทรก Keys ใหม่ลงใน โหนดที่เต็มแล้ว เราจะเอา Key ที่เป็น Median เพิ่มไปบน Parent Node และสร้างเป็น subtree ใหม่\n",
    "\n",
    "<img src=\"insertion.PNG\" style=\"width:1000px;\">"
   ]
  },
  {
   "cell_type": "code",
   "execution_count": 34,
   "metadata": {},
   "outputs": [],
   "source": [
    "class Node:\n",
    "    def __init__(self, leaf=False):\n",
    "        self.keys = []\n",
    "        self.children = []\n",
    "        self.leaf = leaf\n",
    "\n",
    "class BTree():\n",
    "    def __init__(self, t):\n",
    "        self.root = Node(leaf=True)\n",
    "        self.t = t\n",
    "\n",
    "    # Recursive Searching - เรียกวนซ้ำเพื่อหา\n",
    "    def search(self, key, node=None):\n",
    "        # Default is root node to start search\n",
    "        if node == None:\n",
    "            node = self.root\n",
    "\n",
    "        i = 0\n",
    "        while i < len(node.keys) and key > node.keys[i]:\n",
    "            i += 1\n",
    "        if i < len(node.keys) and key == node.keys[i]:\n",
    "            return (node, i)\n",
    "        elif node.leaf: # ไม่เจอ\n",
    "            return None\n",
    "        else:\n",
    "            return self.search(key, node.children[i])\n",
    "        \n",
    "    # Splitting a child\n",
    "    def split_child(self, x, i):\n",
    "        t = self.t\n",
    "\n",
    "        # ในกรณีที่ y เต็มไปด้วย x\n",
    "        y = x.children[i]\n",
    "\n",
    "        # สรา้งโหนดใหม่ขึ้นเป็น Children Node และให้ x ชี้ไปที่ z\n",
    "        z = Node(leaf=y.leaf)\n",
    "        x.children.insert(i + 1, z)\n",
    "\n",
    "        # เอา Median ของ y มาใส่ใน x และเอาค่าที่มากกว่า Median ใน y ไปใส่ใน z\n",
    "        x.keys.insert(i, y.keys[t - 1])\n",
    "\n",
    "        z.keys = y.keys[t:(2 * t - 1)]\n",
    "        y.keys = y.keys[0:(t - 1)]\n",
    "\n",
    "        # if y is not a leaf, assign y's children to y & z\n",
    "        if not y.leaf:\n",
    "            z.children = y.children[t:(2 * t)]\n",
    "            y.children = y.children[0:(t - 1)]\n",
    "\n",
    "    # Insertion\n",
    "    def insert(self, k):\n",
    "        t = self.t\n",
    "        root = self.root\n",
    "\n",
    "        # ในกรณีที่ root เต็มไปด้วย key ขนาด 2t-1 แล้ว\n",
    "        # ก็คือเราจะเรียกใช้ split child เพื่อแบ่งออกก่อน จึงจะค่อย insert_non_full เหมือนเดิม\n",
    "        if len(root.keys) == (2 * t) - 1:\n",
    "            new_root = Node() # สร้างโหนดรากใหม่\n",
    "            self.root = new_root\n",
    "            # เรียกใช้ split child เพื่อแบ่ง root เดิมเป็น 2 ส่วน \n",
    "            # เอา root เดิมมาเป็น children ของ new_root\n",
    "            new_root.children.insert(0, root)\n",
    "            self.split_child(new_root, 0)\n",
    "            self.insert_non_full(new_root, k)\n",
    "        else:\n",
    "            self.insert_non_full(root, k)\n",
    "\n",
    "    def insert_non_full(self, x, k):\n",
    "        t = self.t\n",
    "        i = len(x.keys) - 1\n",
    "\n",
    "        # ถ้า x เป็นโหนดใบ ก็ให้เพิ่ม key ลงไปใน x โดยไม่ต้องทำอะไรเพิ่ม\n",
    "        # โดยที่จะต้องเรียงใน Increasing order ด้วย\n",
    "        if x.leaf:\n",
    "            x.keys.append(None)\n",
    "            while i >= 0 and k < x.keys[i]:\n",
    "                x.keys[i + 1] = x.keys[i]\n",
    "                i -= 1\n",
    "            x.keys[i + 1] = k\n",
    "        # ถ้าไม่ใช่โหนดราก ก็ให้หาจุดที่เหมาะสมใน children ของ x แล้วเรียกใช้ insert_non_full ให้กับ children นั้น\n",
    "        else:\n",
    "            while i >= 0 and k < x.keys[i]:\n",
    "                i -= 1\n",
    "            i += 1\n",
    "            # if child node is full, split it\n",
    "            if len(x.children[i].keys) == (2 * t) - 1:\n",
    "                self.split_child(x, i)\n",
    "                if k > x.keys[i]:\n",
    "                    i += 1\n",
    "            self.insert_non_full(x.children[i], k)\n",
    "\n",
    "    # Print the tree\n",
    "    def print_tree(self, x, l=0):\n",
    "        print(\"Level \", l, \" \", len(x.keys), end=\":\")\n",
    "        for i in x.keys:\n",
    "            print(i, end=\" \")\n",
    "        print()\n",
    "        l += 1\n",
    "        if not x.leaf:\n",
    "            for i in x.children:\n",
    "                self.print_tree(i, l)\n"
   ]
  },
  {
   "cell_type": "code",
   "execution_count": 35,
   "metadata": {},
   "outputs": [
    {
     "name": "stdout",
     "output_type": "stream",
     "text": [
      "Level  0   1:10 \n",
      "Level  1   3:5 6 7 \n",
      "Level  1   5:12 15 17 20 30 \n"
     ]
    }
   ],
   "source": [
    "## Test Case 1 - B-Tree ##\n",
    "B = BTree(3)\n",
    "B.insert(10)\n",
    "B.insert(20)\n",
    "B.insert(5)\n",
    "B.insert(6)\n",
    "B.insert(12)\n",
    "B.insert(30)\n",
    "B.insert(7)\n",
    "B.insert(17)\n",
    "B.insert(15)\n",
    "\n",
    "B.print_tree(B.root)"
   ]
  },
  {
   "cell_type": "code",
   "execution_count": 36,
   "metadata": {},
   "outputs": [
    {
     "name": "stdout",
     "output_type": "stream",
     "text": [
      "Level  0   1:16 \n",
      "Level  1   3:3 7 13 \n",
      "Level  2   2:1 2 \n",
      "Level  2   3:4 5 6 \n",
      "Level  2   3:10 11 12 \n",
      "Level  1   2:20 24 \n",
      "Level  2   3:17 18 19 \n",
      "Level  2   2:21 22 \n",
      "Level  2   2:25 26 \n"
     ]
    }
   ],
   "source": [
    "## Test Case 2 - B-Tree ##\n",
    "B = BTree(3)\n",
    "number_list = [1, 3, 7, 10, 11, 13, 14, 15, 18, 16, 19, 24, 25, 26, 21, 4, 5, 20, 22, 2, 17, 12, 6]\n",
    "for number in number_list:\n",
    "    B.insert(number)\n",
    "\n",
    "B.print_tree(B.root)"
   ]
  },
  {
   "cell_type": "markdown",
   "metadata": {},
   "source": [
    "---"
   ]
  },
  {
   "cell_type": "markdown",
   "metadata": {},
   "source": []
  }
 ],
 "metadata": {
  "kernelspec": {
   "display_name": "Python 3",
   "language": "python",
   "name": "python3"
  },
  "language_info": {
   "codemirror_mode": {
    "name": "ipython",
    "version": 3
   },
   "file_extension": ".py",
   "mimetype": "text/x-python",
   "name": "python",
   "nbconvert_exporter": "python",
   "pygments_lexer": "ipython3",
   "version": "3.11.4"
  }
 },
 "nbformat": 4,
 "nbformat_minor": 2
}
