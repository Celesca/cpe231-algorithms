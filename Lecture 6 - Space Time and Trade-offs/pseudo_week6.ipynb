{
 "cells": [
  {
   "cell_type": "markdown",
   "metadata": {},
   "source": [
    "### สรุปสิ่งที่ได้เรียนภายใน Lecture 6\n",
    "การพิจารณา Space and Time Trade-offs ในการพัฒนาซอฟต์แวร์มีความสำคัญเนื่องจากต้องให้ความสมดุลระหว่างการใช้พื้นที่หน่วยความจำ (Space) และเวลาในการประมวลผล (Time) เพื่อให้ได้ผลลัพธ์ที่มีประสิทธิภาพที่สูงสุด ดังนี้\n",
    "\n",
    "Input Enhancement Approach : การปรับปรุงข้อมูลเข้าเพื่อลดความซับซ้อนและเพิ่มประสิทธิภาพในการประมวลผล\n",
    "\n",
    "1.1 Counting Method for Sorting (วิธีการนับสำหรับการเรียงลำดับ):\n",
    "    1.1.1 Comparison-counting sort: ใช้การนับจำนวนครั้งที่ทำการเปรียบเทียบข้อมูลเพื่อเรียงลำดับ\n",
    "    1.1.2 Distribution-counting sort: ใช้การนับจำนวนครั้งที่ข้อมูลปรากฏในช่วงค่าที่กำหนดเพื่อเรียงลำดับ\n",
    "\n",
    "1.2 Input Enhancement in String Matching (การปรับปรุงข้อมูลนำเข้าในการตรวจสอบตัวอักษร):\n",
    "    1.2.1 Horspool's algorithm: ใช้อัลกอริทึมที่มีการเคลื่อนที่ของชุดตำแหน่งสำหรับการค้นหาตัวอักษรในข้อความ\n",
    "    1.2.2 Boyer-Moore algorithm: ใช้อัลกอริทึมที่มีการใช้ข้อมูลจากการพบการไม่ตรงกันในข้อความเพื่อลดจำนวนขั้นตอนในการค้นหา\n",
    "\n",
    "Prestructuring Approach : การเตรียมโครงสร้างล่วงหน้าเพื่อลดความซับซ้อนและเพิ่มประสิทธิภาพในการทำงาน\n",
    "\n",
    "2.1 Hashing: ใช้เทคนิคการแฮชเพื่อระบุตำแหน่งที่จัดเก็บข้อมูลในพื้นที่หน่วยความจำ\n",
    "\n",
    "2.2 B-tree: ใช้โครงสร้างข้อมูลที่มีการแบ่งส่วนโครงสร้างแบบลำดับตามชั้นเพื่อเพิ่มประสิทธิภาพในการค้นหา\n",
    "\n",
    "\n",
    "การเลือกใช้แนวทางการพัฒนาใดๆ จะต้องพิจารณา Space and Time Trade-offs อย่างรอบคอบเพื่อให้ได้ผลลัพธ์ที่มีประสิทธิภาพและเหมาะสมสำหรับความต้องการและโครงสร้างของโปรแกรมที่กำลังพัฒนา"
   ]
  },
  {
   "cell_type": "markdown",
   "metadata": {},
   "source": [
    "## Sorting by Counting"
   ]
  },
  {
   "cell_type": "markdown",
   "metadata": {},
   "source": [
    "#### Comparison Counting Sort"
   ]
  },
  {
   "cell_type": "code",
   "execution_count": 2,
   "metadata": {},
   "outputs": [],
   "source": [
    "def ComparisonCountingSort(A):\n",
    "    n = len(A)\n",
    "    Count = [0] * n\n",
    "    S = [0] * n\n",
    "    for i in range(n):\n",
    "        Count[i] = 0\n",
    "    for i in range(n-1):\n",
    "        for j in range(i+1,n):\n",
    "            if A[i] < A[j]:\n",
    "                Count[j] += 1\n",
    "            else:\n",
    "                Count[i] += 1\n",
    "    for i in range(n):\n",
    "        S[Count[i]] = A[i]\n",
    "    return S"
   ]
  },
  {
   "cell_type": "code",
   "execution_count": 3,
   "metadata": {},
   "outputs": [
    {
     "name": "stdout",
     "output_type": "stream",
     "text": [
      "Before :  [64, 25, 12, 22, 11]\n",
      "After :  [11, 12, 22, 25, 64]\n"
     ]
    }
   ],
   "source": [
    "### Test Case 1 - Comparison Counting Sort ###\n",
    "\n",
    "A = [64, 25, 12, 22, 11]\n",
    "sorted_array = ComparisonCountingSort(A)\n",
    "print(\"Before : \", A)\n",
    "print(\"After : \", sorted_array)"
   ]
  },
  {
   "cell_type": "code",
   "execution_count": 4,
   "metadata": {},
   "outputs": [
    {
     "name": "stdout",
     "output_type": "stream",
     "text": [
      "Before :  [38, 27, 43, 3, 9, 82, 10]\n",
      "After :  [3, 9, 10, 27, 38, 43, 82]\n"
     ]
    }
   ],
   "source": [
    "### Test Case 2 - Comparison Counting Sort ###\n",
    "\n",
    "A = [38, 27, 43, 3, 9, 82, 10]\n",
    "sorted_array = ComparisonCountingSort(A)\n",
    "print(\"Before : \", A)\n",
    "print(\"After : \", sorted_array)"
   ]
  },
  {
   "cell_type": "markdown",
   "metadata": {},
   "source": [
    "---"
   ]
  },
  {
   "cell_type": "markdown",
   "metadata": {},
   "source": [
    "#### Distribution Counting Sort"
   ]
  },
  {
   "cell_type": "code",
   "execution_count": 5,
   "metadata": {},
   "outputs": [],
   "source": [
    "def DistributionCountingSort(A, l, u):\n",
    "    n = len(A)\n",
    "    D = [0] * (u-l+1)\n",
    "    S = [0] * n\n",
    "    for j in range(u-l+1):\n",
    "        D[j] = 0\n",
    "    for i in range(n):\n",
    "        D[A[i]-l] += 1\n",
    "    for j in range(1,u-l+1):\n",
    "        D[j] += D[j-1]\n",
    "    for i in range(n-1,-1,-1):\n",
    "        j = A[i] - l\n",
    "        S[D[j]-1] = A[i]\n",
    "        D[j] -= 1\n",
    "    return S"
   ]
  },
  {
   "cell_type": "code",
   "execution_count": 6,
   "metadata": {},
   "outputs": [
    {
     "name": "stdout",
     "output_type": "stream",
     "text": [
      "Before :  [64, 25, 12, 22, 11, 11, 12, 25, 22, 64]\n",
      "After :  [11, 11, 12, 12, 22, 22, 25, 25, 64, 64]\n"
     ]
    }
   ],
   "source": [
    "### Test Case 1 - Distribution Counting Sort ###\n",
    "\n",
    "A = [64, 25, 12, 22, 11, 11, 12, 25, 22, 64]\n",
    "l = min(A)\n",
    "u = max(A)\n",
    "result = DistributionCountingSort(A, l, u)\n",
    "print(\"Before : \", A)\n",
    "print(\"After : \", result)"
   ]
  },
  {
   "cell_type": "code",
   "execution_count": 7,
   "metadata": {},
   "outputs": [
    {
     "name": "stdout",
     "output_type": "stream",
     "text": [
      "Before :  [38, 27, 43, 3, 3, 8, 8, 27, 43, 38, 82]\n",
      "After :  [3, 3, 8, 8, 27, 27, 38, 38, 43, 43, 82]\n"
     ]
    }
   ],
   "source": [
    "### Test Case 2 - Distribution Counting Sort ###\n",
    "\n",
    "A = [38, 27, 43, 3, 3, 8, 8, 27, 43, 38, 82]\n",
    "l = min(A)\n",
    "u = max(A)\n",
    "result = DistributionCountingSort(A, l, u)\n",
    "print(\"Before : \", A)\n",
    "print(\"After : \", result)"
   ]
  },
  {
   "cell_type": "markdown",
   "metadata": {},
   "source": [
    "### Horspool's Algorithms for String Matching"
   ]
  },
  {
   "cell_type": "code",
   "execution_count": 8,
   "metadata": {},
   "outputs": [],
   "source": [
    "# Horspool's Algorithms for String Matching\n",
    "def ShiftTable(P):\n",
    "    m = len(P)\n",
    "    table = {}\n",
    "    alphabet = set(P)\n",
    "    for char in alphabet:\n",
    "        table[char] = m\n",
    "    for j in range(m-1):\n",
    "        table[P[j]] = m - 1 - j\n",
    "    return table\n",
    "\n",
    "def HorspoolMatching(P, T):\n",
    "    shift_table = ShiftTable(P)\n",
    "    m = len(P)\n",
    "    n = len(T)\n",
    "    i = m - 1 # i is the index of the last character of the pattern\n",
    "    while i < n:\n",
    "        k = 0\n",
    "        while k < m and P[m-1-k] == T[i-k]:\n",
    "            k += 1\n",
    "        if k == m:\n",
    "            return i - m + 1\n",
    "        else:\n",
    "            i += shift_table.get(T[i], m)\n",
    "            \n",
    "    return -1"
   ]
  },
  {
   "cell_type": "code",
   "execution_count": 9,
   "metadata": {},
   "outputs": [
    {
     "name": "stdout",
     "output_type": "stream",
     "text": [
      "16\n"
     ]
    }
   ],
   "source": [
    "### Test Case 1 - Horspool's Algorithm ###\n",
    "Pattern = \"BAOBAB\"\n",
    "Text = \"BESS_KNEW_ABOUT_BAOBABS\"\n",
    "\n",
    "print(HorspoolMatching(Pattern, Text))"
   ]
  },
  {
   "cell_type": "code",
   "execution_count": 10,
   "metadata": {},
   "outputs": [
    {
     "name": "stdout",
     "output_type": "stream",
     "text": [
      "10\n"
     ]
    }
   ],
   "source": [
    "### Test Case 2 - Horspool's Algorithm ###\n",
    "Pattern = \"ABABCABAB\"\n",
    "Text = \"ABABDABACDABABCABAB\"\n",
    "\n",
    "print(HorspoolMatching(Pattern, Text))"
   ]
  },
  {
   "cell_type": "markdown",
   "metadata": {},
   "source": [
    "### Boyer-Moore's Algorithm"
   ]
  },
  {
   "cell_type": "markdown",
   "metadata": {},
   "source": [
    "ข้อสังเกตคือ Boyer-Moore มี Algorithm ที่เหมือนกับ Horspool's เพียงแค่เปลี่ยนค่าในการ Shift หนึ่งรอบให้เป็นไปตาม Bad-symbol shift กับ The good-suffix shift\n",
    "\n",
    "Reference : https://www.geeksforgeeks.org/boyer-moore-algorithm-for-pattern-searching/"
   ]
  },
  {
   "cell_type": "code",
   "execution_count": 1,
   "metadata": {},
   "outputs": [
    {
     "ename": "IndentationError",
     "evalue": "expected an indented block after 'if' statement on line 54 (2004732105.py, line 56)",
     "output_type": "error",
     "traceback": [
      "\u001b[1;36m  Cell \u001b[1;32mIn[1], line 56\u001b[1;36m\u001b[0m\n\u001b[1;33m    bad_char_skip = k - bad_character.get(T[i], 0)\u001b[0m\n\u001b[1;37m    ^\u001b[0m\n\u001b[1;31mIndentationError\u001b[0m\u001b[1;31m:\u001b[0m expected an indented block after 'if' statement on line 54\n"
     ]
    }
   ],
   "source": [
    "# Boyer-Moore's Algorithm for String Matching\n",
    "\n",
    "def HorspoolTable(P):\n",
    "    m = len(P)\n",
    "    table = {}\n",
    "    alphabet = set(P)\n",
    "    for char in alphabet:\n",
    "        table[char] = m\n",
    "    for j in range(m - 1):\n",
    "        table[P[j]] = m - 1 - j\n",
    "    return table\n",
    "\n",
    "\n",
    "\n",
    "def BadSymbolShift(P):\n",
    "    m = len(P)\n",
    "    table = {}\n",
    "    alphabet = set(P)\n",
    "    for char in alphabet:\n",
    "        table[char] = -1\n",
    "    for j in range(m):\n",
    "        table[P[j]] = j\n",
    "    return table\n",
    "\n",
    "def GoodSuffixShift(P):\n",
    "    m = len(P)\n",
    "    table = [0] * (m + 1)\n",
    "    i = m\n",
    "    j = m + 1\n",
    "    table[i] = j\n",
    "    while i > 0:\n",
    "        while j <= m and P[i - 1] != P[j - 1]:\n",
    "            if table[j] == 0:\n",
    "                table[j] = j - i\n",
    "            j = table[j]\n",
    "        i -= 1\n",
    "        j -= 1\n",
    "        table[i] = j\n",
    "    return table\n",
    "\n",
    "def BoyerMooreMatching(P, T):\n",
    "    m = len(P)\n",
    "    n = len(T)\n",
    "    bad_character = BadSymbolShift(P)\n",
    "    good_suffix = GoodSuffixShift(P)\n",
    "    i = m - 1\n",
    "    while i < n:\n",
    "        k = 0\n",
    "        while k < m and P[m - 1 - k] == T[i - k]:\n",
    "            k += 1\n",
    "        if k == m:\n",
    "            return i - m + 1\n",
    "        else:\n",
    "            if k == 0:\n",
    "                \n",
    "            bad_char_skip = k - bad_character.get(T[i], 0)\n",
    "            good_suffix_skip = good_suffix[k]\n",
    "\n",
    "            i += max(bad_char_skip, good_suffix_skip)\n",
    "\n",
    "    return -1"
   ]
  },
  {
   "cell_type": "markdown",
   "metadata": {},
   "source": [
    "---"
   ]
  },
  {
   "cell_type": "markdown",
   "metadata": {},
   "source": [
    "# B-Trees\n",
    "\n",
    "Ref 1 : https://www.youtube.com/watch?v=fAfuZiFDpRo (B-trees Series from Michael Sambol) <br>\n",
    "Ref 2 : https://www.geeksforgeeks.org/introduction-of-b-tree-2/"
   ]
  },
  {
   "cell_type": "markdown",
   "metadata": {},
   "source": [
    "### B-Tree Characteristics :\n",
    "* Leaves จะอยู่ในชั้นเดียวกันทั้งหมด\n",
    "* Tree Nodes จะมีโหนดลูกได้หลายตัว ไม่ได้มีแค่สองตัวเหมือนกับ Binary Tree\n",
    "* ทุกโหนดมี n keys แบบเรียงลำดับน้อยไปมาก\n",
    "* Internal nodes ใดๆก็ตามจะมี n+1 childrens\n",
    "* key ใน subtree ที่ต่อจากโหนดแม่ จะต้องมีค่ามากกว่า/น้อยกว่า หรืออยู่ระหว่างค่าของ Parent Nodes\n",
    "* all leaves have the same depth = height of the tree\n",
    "\n",
    "#### Concept of lower and upper bound of number of keys (t)\n",
    "- คอนเซปของความสูงต้นไม้ Btree คือ Minimum degree of the tree (t) โดยที่ t >=2 \n",
    "- Lower bound (ค่าต่ำสุด ยกเว้นตัว root) - จะมีอย่างน้อย t-1 keys และสำหรับ internal nodes มีโหนดลูกอย่างน้อย t\n",
    "- Upper bound (ค่าสูงสุด) - ได้มากสุด 2t - 1 keys ในขณะที่ internal nodes มีมากสุด 2t \n",
    "\n",
    "#### ความสูงของต้นไม้ B-tree จะมีประมาณ log ฐาน t (n+1)/2 และมี Time Complexity เป็น O(log n)"
   ]
  },
  {
   "cell_type": "markdown",
   "metadata": {},
   "source": [
    "<img src=\"https://media.geeksforgeeks.org/wp-content/uploads/20200506235136/output253.png\">"
   ]
  },
  {
   "cell_type": "code",
   "execution_count": null,
   "metadata": {},
   "outputs": [],
   "source": [
    "class Node:\n",
    "    def __init__(self, leaf=False):\n",
    "        self.keys = []\n",
    "        self.children = []\n",
    "        self.leaf = leaf\n",
    "\n",
    "class BTree():\n",
    "    def __init__(self, t):\n",
    "        self.root = Node(leaf=True)\n",
    "        self.t = t"
   ]
  }
 ],
 "metadata": {
  "kernelspec": {
   "display_name": "Python 3",
   "language": "python",
   "name": "python3"
  },
  "language_info": {
   "codemirror_mode": {
    "name": "ipython",
    "version": 3
   },
   "file_extension": ".py",
   "mimetype": "text/x-python",
   "name": "python",
   "nbconvert_exporter": "python",
   "pygments_lexer": "ipython3",
   "version": "3.11.4"
  }
 },
 "nbformat": 4,
 "nbformat_minor": 2
}
