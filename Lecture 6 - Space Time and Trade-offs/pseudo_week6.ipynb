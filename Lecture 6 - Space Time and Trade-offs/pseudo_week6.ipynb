{
 "cells": [
  {
   "cell_type": "markdown",
   "metadata": {},
   "source": [
    "## Sorting by Counting"
   ]
  },
  {
   "cell_type": "markdown",
   "metadata": {},
   "source": [
    "#### Comparison Counting Sort"
   ]
  },
  {
   "cell_type": "code",
   "execution_count": 21,
   "metadata": {},
   "outputs": [],
   "source": [
    "def ComparisonCountingSort(A):\n",
    "    n = len(A)\n",
    "    Count = [0] * n\n",
    "    S = [0] * n\n",
    "    for i in range(n):\n",
    "        Count[i] = 0\n",
    "    for i in range(n-1):\n",
    "        for j in range(i+1,n):\n",
    "            if A[i] < A[j]:\n",
    "                Count[j] += 1\n",
    "            else:\n",
    "                Count[i] += 1\n",
    "    for i in range(n):\n",
    "        S[Count[i]] = A[i]\n",
    "    return S"
   ]
  },
  {
   "cell_type": "code",
   "execution_count": 22,
   "metadata": {},
   "outputs": [
    {
     "name": "stderr",
     "output_type": "stream",
     "text": [
      "...\n",
      "----------------------------------------------------------------------\n",
      "Ran 3 tests in 0.002s\n",
      "\n",
      "OK\n"
     ]
    },
    {
     "data": {
      "text/plain": [
       "<unittest.runner.TextTestResult run=3 errors=0 failures=0>"
      ]
     },
     "execution_count": 22,
     "metadata": {},
     "output_type": "execute_result"
    }
   ],
   "source": [
    "### Unit Testing fr Comparison Counting Sort ###\n",
    "\n",
    "import unittest\n",
    "\n",
    "class TestComparisonCountingSort(unittest.TestCase):\n",
    "    def test_ComparisonCountingSort(self):\n",
    "        A = [64, 25, 12, 22, 11]\n",
    "        result = ComparisonCountingSort(A)\n",
    "        expected = [11, 12, 22, 25, 64]\n",
    "        self.assertEqual(result, expected)\n",
    "\n",
    "    def test_ComparisonCountingSort2(self):\n",
    "        A = [38, 27, 43, 3, 9, 82, 10]\n",
    "        result = ComparisonCountingSort(A)\n",
    "        expected = [3, 9, 10, 27, 38, 43, 82]\n",
    "        self.assertEqual(result, expected)\n",
    "\n",
    "    def test_ComparisonCountingSort3(self):\n",
    "        A = [33, 45, 29, 19, 7, 17, 51]\n",
    "        result = ComparisonCountingSort(A)\n",
    "        expected = [7, 17, 19, 29, 33, 45, 51]\n",
    "        self.assertEqual(result, expected)\n",
    "\n",
    "suite = unittest.TestLoader().loadTestsFromTestCase(TestComparisonCountingSort)\n",
    "unittest.TextTestRunner().run(suite)"
   ]
  },
  {
   "cell_type": "markdown",
   "metadata": {},
   "source": [
    "#### Distribution Counting Sort"
   ]
  },
  {
   "cell_type": "code",
   "execution_count": 23,
   "metadata": {},
   "outputs": [],
   "source": [
    "def DistributionCountingSort(A, l, u):\n",
    "    n = len(A)\n",
    "    D = [0] * (u-l+1)\n",
    "    S = [0] * n\n",
    "    for j in range(u-l+1):\n",
    "        D[j] = 0\n",
    "    for i in range(n):\n",
    "        D[A[i]-l] += 1\n",
    "    for j in range(1,u-l+1):\n",
    "        D[j] += D[j-1]\n",
    "    for i in range(n-1,-1,-1):\n",
    "        j = A[i] - l\n",
    "        S[D[j]-1] = A[i]\n",
    "        D[j] -= 1\n",
    "    return S"
   ]
  },
  {
   "cell_type": "code",
   "execution_count": 30,
   "metadata": {},
   "outputs": [
    {
     "name": "stderr",
     "output_type": "stream",
     "text": [
      "...\n",
      "----------------------------------------------------------------------\n",
      "Ran 3 tests in 0.001s\n",
      "\n",
      "OK\n"
     ]
    },
    {
     "data": {
      "text/plain": [
       "<unittest.runner.TextTestResult run=3 errors=0 failures=0>"
      ]
     },
     "execution_count": 30,
     "metadata": {},
     "output_type": "execute_result"
    }
   ],
   "source": [
    "### Unit Testing for Distribution Counting Sort ###\n",
    "\n",
    "import unittest\n",
    "\n",
    "class TestDistributionCountingSort(unittest.TestCase):\n",
    "\n",
    "    def test_DistributionCountingSort(self):\n",
    "        A = [64, 25, 12, 22, 11, 11, 12, 25, 22, 64]\n",
    "        result = DistributionCountingSort(A, min(A), max(A))\n",
    "        expected = [11, 11, 12, 12, 22, 22, 25, 25, 64, 64]\n",
    "\n",
    "        self.assertEqual(result, expected)\n",
    "\n",
    "    def test_DistributionCountingSort2(self):\n",
    "        A = [38, 27, 43, 3, 3, 8, 8, 27, 43, 38, 82]\n",
    "        result = DistributionCountingSort(A, min(A), max(A))\n",
    "        expected = [3, 3, 8, 8, 27, 27, 38, 38, 43, 43, 82]\n",
    "        \n",
    "        self.assertEqual(result, expected)\n",
    "\n",
    "    def test_DistributionCountingSort3(self):\n",
    "        A = [33, 45, 29, 19, 7, 17, 51, 51, 17, 7, 19, 29, 45, 33]\n",
    "        result = DistributionCountingSort(A, min(A), max(A))\n",
    "        expected = [7, 7, 17, 17, 19, 19, 29, 29, 33, 33, 45, 45, 51, 51]\n",
    "\n",
    "        self.assertEqual(result, expected)\n",
    "\n",
    "suite = unittest.TestLoader().loadTestsFromTestCase(TestDistributionCountingSort)\n",
    "unittest.TextTestRunner().run(suite)"
   ]
  },
  {
   "cell_type": "code",
   "execution_count": 19,
   "metadata": {},
   "outputs": [
    {
     "name": "stdout",
     "output_type": "stream",
     "text": [
      "Array A: [4, 2, 7, 1, 5, 3]\n",
      "Array S: [1, 2, 3, 4, 5, 7]\n"
     ]
    }
   ],
   "source": [
    "# Test case\n",
    "A = [4, 2, 7, 1, 5, 3]\n",
    "l = min(A)\n",
    "u = max(A)\n",
    "sorted_array = DistributionCountingSort(A, l, u)\n",
    "print(\"Array A:\", A)\n",
    "print(\"Array S:\", sorted_array)"
   ]
  },
  {
   "cell_type": "code",
   "execution_count": 7,
   "metadata": {},
   "outputs": [
    {
     "name": "stdout",
     "output_type": "stream",
     "text": [
      "Array A: [10, 5, 8, 12, 3, 7, 6]\n",
      "Array S: [3, 5, 6, 7, 8, 10, 12]\n"
     ]
    }
   ],
   "source": [
    "# Test case\n",
    "A = [10, 5, 8, 12, 3, 7, 6]\n",
    "l = 3\n",
    "u = 12\n",
    "sorted_array = DistributionCountingSort(A, l, u)\n",
    "print(\"Array A:\", A)\n",
    "print(\"Array S:\", sorted_array)"
   ]
  }
 ],
 "metadata": {
  "kernelspec": {
   "display_name": "Python 3",
   "language": "python",
   "name": "python3"
  },
  "language_info": {
   "codemirror_mode": {
    "name": "ipython",
    "version": 3
   },
   "file_extension": ".py",
   "mimetype": "text/x-python",
   "name": "python",
   "nbconvert_exporter": "python",
   "pygments_lexer": "ipython3",
   "version": "3.11.4"
  }
 },
 "nbformat": 4,
 "nbformat_minor": 2
}
