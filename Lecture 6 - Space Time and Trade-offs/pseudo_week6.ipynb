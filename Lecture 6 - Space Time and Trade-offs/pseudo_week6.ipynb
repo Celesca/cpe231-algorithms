{
 "cells": [
  {
   "cell_type": "markdown",
   "metadata": {},
   "source": [
    "## Sorting by Counting"
   ]
  },
  {
   "cell_type": "markdown",
   "metadata": {},
   "source": [
    "#### Comparison Counting Sort"
   ]
  },
  {
   "cell_type": "code",
   "execution_count": 21,
   "metadata": {},
   "outputs": [],
   "source": [
    "def ComparisonCountingSort(A):\n",
    "    n = len(A)\n",
    "    Count = [0] * n\n",
    "    S = [0] * n\n",
    "    for i in range(n):\n",
    "        Count[i] = 0\n",
    "    for i in range(n-1):\n",
    "        for j in range(i+1,n):\n",
    "            if A[i] < A[j]:\n",
    "                Count[j] += 1\n",
    "            else:\n",
    "                Count[i] += 1\n",
    "    for i in range(n):\n",
    "        S[Count[i]] = A[i]\n",
    "    return S"
   ]
  },
  {
   "cell_type": "code",
   "execution_count": 33,
   "metadata": {},
   "outputs": [
    {
     "name": "stdout",
     "output_type": "stream",
     "text": [
      "Before :  [64, 25, 12, 22, 11]\n",
      "After :  [11, 12, 22, 25, 64]\n"
     ]
    }
   ],
   "source": [
    "### Test Case 1 - Comparison Counting Sort ###\n",
    "\n",
    "A = [64, 25, 12, 22, 11]\n",
    "sorted_array = ComparisonCountingSort(A)\n",
    "print(\"Before : \", A)\n",
    "print(\"After : \", sorted_array)"
   ]
  },
  {
   "cell_type": "code",
   "execution_count": 34,
   "metadata": {},
   "outputs": [
    {
     "name": "stdout",
     "output_type": "stream",
     "text": [
      "Before :  [38, 27, 43, 3, 9, 82, 10]\n",
      "After :  [3, 9, 10, 27, 38, 43, 82]\n"
     ]
    }
   ],
   "source": [
    "### Test Case 2 - Comparison Counting Sort ###\n",
    "\n",
    "A = [38, 27, 43, 3, 9, 82, 10]\n",
    "sorted_array = ComparisonCountingSort(A)\n",
    "print(\"Before : \", A)\n",
    "print(\"After : \", sorted_array)"
   ]
  },
  {
   "cell_type": "markdown",
   "metadata": {},
   "source": [
    "---"
   ]
  },
  {
   "cell_type": "markdown",
   "metadata": {},
   "source": [
    "#### Distribution Counting Sort"
   ]
  },
  {
   "cell_type": "code",
   "execution_count": 23,
   "metadata": {},
   "outputs": [],
   "source": [
    "def DistributionCountingSort(A, l, u):\n",
    "    n = len(A)\n",
    "    D = [0] * (u-l+1)\n",
    "    S = [0] * n\n",
    "    for j in range(u-l+1):\n",
    "        D[j] = 0\n",
    "    for i in range(n):\n",
    "        D[A[i]-l] += 1\n",
    "    for j in range(1,u-l+1):\n",
    "        D[j] += D[j-1]\n",
    "    for i in range(n-1,-1,-1):\n",
    "        j = A[i] - l\n",
    "        S[D[j]-1] = A[i]\n",
    "        D[j] -= 1\n",
    "    return S"
   ]
  },
  {
   "cell_type": "code",
   "execution_count": 37,
   "metadata": {},
   "outputs": [
    {
     "name": "stdout",
     "output_type": "stream",
     "text": [
      "Before :  [64, 25, 12, 22, 11, 11, 12, 25, 22, 64]\n",
      "After :  [11, 11, 12, 12, 22, 22, 25, 25, 64, 64]\n"
     ]
    }
   ],
   "source": [
    "### Test Case 1 - Distribution Counting Sort ###\n",
    "\n",
    "A = [64, 25, 12, 22, 11, 11, 12, 25, 22, 64]\n",
    "l = min(A)\n",
    "u = max(A)\n",
    "result = DistributionCountingSort(A, l, u)\n",
    "print(\"Before : \", A)\n",
    "print(\"After : \", result)"
   ]
  },
  {
   "cell_type": "code",
   "execution_count": 38,
   "metadata": {},
   "outputs": [
    {
     "name": "stdout",
     "output_type": "stream",
     "text": [
      "Before :  [38, 27, 43, 3, 3, 8, 8, 27, 43, 38, 82]\n",
      "After :  [3, 3, 8, 8, 27, 27, 38, 38, 43, 43, 82]\n"
     ]
    }
   ],
   "source": [
    "### Test Case 2 - Distribution Counting Sort ###\n",
    "\n",
    "A = [38, 27, 43, 3, 3, 8, 8, 27, 43, 38, 82]\n",
    "l = min(A)\n",
    "u = max(A)\n",
    "result = DistributionCountingSort(A, l, u)\n",
    "print(\"Before : \", A)\n",
    "print(\"After : \", result)"
   ]
  }
 ],
 "metadata": {
  "kernelspec": {
   "display_name": "Python 3",
   "language": "python",
   "name": "python3"
  },
  "language_info": {
   "codemirror_mode": {
    "name": "ipython",
    "version": 3
   },
   "file_extension": ".py",
   "mimetype": "text/x-python",
   "name": "python",
   "nbconvert_exporter": "python",
   "pygments_lexer": "ipython3",
   "version": "3.11.4"
  }
 },
 "nbformat": 4,
 "nbformat_minor": 2
}
