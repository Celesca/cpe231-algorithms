{
 "cells": [
  {
   "cell_type": "code",
   "execution_count": 17,
   "metadata": {},
   "outputs": [
    {
     "name": "stdout",
     "output_type": "stream",
     "text": [
      "{'R': 0, 'U': 1, 'L': 2, 'E': 3, 'T': 4, 'O': 5, 'P': 6, 'N': 7}\n"
     ]
    },
    {
     "ename": "TypeError",
     "evalue": "'int' object is not iterable",
     "output_type": "error",
     "traceback": [
      "\u001b[1;31m---------------------------------------------------------------------------\u001b[0m",
      "\u001b[1;31mTypeError\u001b[0m                                 Traceback (most recent call last)",
      "Cell \u001b[1;32mIn[17], line 15\u001b[0m\n\u001b[0;32m     12\u001b[0m \u001b[38;5;28mprint\u001b[39m(dicts)\n\u001b[0;32m     14\u001b[0m \u001b[38;5;28;01mfrom\u001b[39;00m \u001b[38;5;21;01mitertools\u001b[39;00m \u001b[38;5;28;01mimport\u001b[39;00m permutations\n\u001b[1;32m---> 15\u001b[0m possible \u001b[38;5;241m=\u001b[39m \u001b[43mpermutations\u001b[49m\u001b[43m(\u001b[49m\u001b[38;5;241;43m10\u001b[39;49m\u001b[43m,\u001b[49m\u001b[38;5;28;43mrange\u001b[39;49m\u001b[43m(\u001b[49m\u001b[38;5;28;43mlen\u001b[39;49m\u001b[43m(\u001b[49m\u001b[43mdicts\u001b[49m\u001b[43m)\u001b[49m\u001b[43m)\u001b[49m\u001b[43m)\u001b[49m\n\u001b[0;32m     17\u001b[0m \u001b[38;5;66;03m# Calculate the permutations\u001b[39;00m\n\u001b[0;32m     19\u001b[0m count \u001b[38;5;241m=\u001b[39m \u001b[38;5;241m0\u001b[39m\n",
      "\u001b[1;31mTypeError\u001b[0m: 'int' object is not iterable"
     ]
    }
   ],
   "source": [
    "# Test Case 1 - Non-duplicate numbers \n",
    "\n",
    "letters = [\"RULE\" , \"TREO\", \"UPON\"]\n",
    "\n",
    "dicts = {}\n",
    "i = 0\n",
    "for current_word in letters:\n",
    "    for alphabet in current_word:\n",
    "        if alphabet not in dicts:\n",
    "            dicts[alphabet] = i\n",
    "            i += 1\n",
    "print(dicts)\n",
    "\n",
    "from itertools import permutations\n",
    "possible = permutations(range(len(dicts)))\n",
    "\n",
    "# Calculate the permutations\n",
    "\n",
    "count = 0\n",
    "for i in possible:\n",
    "    count += 1\n",
    "\n",
    "print(count)"
   ]
  },
  {
   "cell_type": "code",
   "execution_count": 16,
   "metadata": {},
   "outputs": [
    {
     "name": "stdout",
     "output_type": "stream",
     "text": [
      "400\n"
     ]
    }
   ],
   "source": [
    "# Test Case 2 - Duplicate Numbers (Alternative)\n",
    "\n",
    "first_letter = \"RULE\"\n",
    "second_letter = \"TREO\"\n",
    "answer = \"UPON\"\n",
    "\n",
    "count = 0\n",
    "\n",
    "dicts = {}\n",
    "\n",
    "for epoch in range(len(first_letter)):\n",
    "\n",
    "\n",
    "    for i in range(10):\n",
    "        for j in range(10):\n",
    "            count += 1\n",
    "\n",
    "print(count)"
   ]
  }
 ],
 "metadata": {
  "kernelspec": {
   "display_name": "Python 3",
   "language": "python",
   "name": "python3"
  },
  "language_info": {
   "codemirror_mode": {
    "name": "ipython",
    "version": 3
   },
   "file_extension": ".py",
   "mimetype": "text/x-python",
   "name": "python",
   "nbconvert_exporter": "python",
   "pygments_lexer": "ipython3",
   "version": "3.11.4"
  }
 },
 "nbformat": 4,
 "nbformat_minor": 2
}
