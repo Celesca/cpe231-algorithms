{
 "cells": [
  {
   "cell_type": "markdown",
   "id": "546750de",
   "metadata": {},
   "source": [
    "## <p style=\"color: pink;\">สรุปสิ่งที่ได้เรียนใน Lecture 7 - Dynamic Programming</p>\n",
    "\n",
    "* Dynamic Programming คือ เทคนิคในการแก้ปัญหาที่มีความ Overlapping (ทับซ้อน) กันอยู่ ยกตัวอย่างเช่น การที่เราคำนวณค่านึงไปเรียบร้อยแล้ว<br> แต่มีการเรียกคำนวณซ้ำอีกรอบนึง ซึ่งถ้าหากเราใช้วิธีแบบธรรมดาอาจทำให้โปรแกรมเราทำงานช้าได้ เราจึงใช้เทคนิค <br> Dynamic Programming เพื่อวางแผนที่ทำให้ปัญหานั้นเป็นสูตรและไม่ทำให้การคำนวณมันซ้ำซ้อนกัน\n",
    "\n",
    "* โดยส่วนมากการประยุกต์ใช้ Dynamic Programming จะเป็นปัญหา Optimization เช่น\n",
    "  - Knapsack Problem\n",
    "  - Warshall's and Floyd's algorithms\n",
    "\n",
    "<p style=\"color: gold;\">ตัวอย่างโจทย์ Dynamic Programming</p>\n",
    "\n",
    "* Coin-Row problem - ปัญหาการเก็บเหรียญที่เรียงแนวนอนให้มีค่ามากสุด โดยห้ามหยิบเหรียญที่ใกล้กัน\n",
    "  - Time complexity O(n) , Space complexity O(n)\n",
    "* Coin Collecting problem - ปัญหากระดานที่มีเหรียญอยู่ แล้วต้องเก็บเหรียญให้ได้เยอะสุด โดยเงื่อนไขคือเดินได้แค่ขวาหรือลงล่าง\n",
    "  - Time complexity O(nm) , Space complexity O(nm)\n",
    "* Knapsack problem - ปัญหาการเก็บของในเนื้อที่กระเป๋าจำกัด แต่ต้องเก็บให้คุ้มที่สุด\n",
    "* Warshall's Algorithms - ปัญหากราฟที่หาว่าสามารถเดินไปถึงได้หรือไม่\n",
    "* Floyd's Algorithms - All-pair shortest path ระยะทางที่สั้นที่สุด\n",
    "\n",
    "<p style=\"color: lightgreen;\">สรุป</p>\n",
    "\n",
    "* Dynamic Programming คือ Strategy ในการแก้ปัญหาที่มีการตัดสินใจหลายรอบและเกิดการซ้ำซ้อนในการคำนวณ ดังนั้นเราจึงแก้ปัญหานั้นด้วยสูตร <br> และเก็บค่าที่เราคำนวณไปแล้วที่หนึ่ง เมื่อคำนวณแล้วก็จะเรียกใช้แทนการคำนวณใหม่ ซึ่งเรียกการเก็บสิ่งที่คำนวณซ้ำลงในที่หนึ่งว่า <br> Memoization และ Tabulation โดยใน Python จะมีสิ่งที่เรียกว่า Decoration\n"
   ]
  },
  {
   "cell_type": "markdown",
   "id": "e677167d",
   "metadata": {},
   "source": [
    "---"
   ]
  },
  {
   "cell_type": "markdown",
   "id": "608ca8b7e74125ee",
   "metadata": {
    "collapsed": false
   },
   "source": [
    "## Coin Row Problem"
   ]
  },
  {
   "cell_type": "code",
   "execution_count": 2,
   "id": "a915b9a1b892340d",
   "metadata": {
    "collapsed": false
   },
   "outputs": [],
   "source": [
    "def CoinRow(coins):\n",
    "    n = len(coins)\n",
    "    F = [0] * (n + 1)\n",
    "    F[0] , F[1] = 0, coins[0]\n",
    "    for i in range(2,n+1):\n",
    "        F[i] = max((coins[i-1] + F[i-2]) , F[i-1])\n",
    "    return F[n]"
   ]
  },
  {
   "cell_type": "code",
   "execution_count": 3,
   "id": "c67cda3e5cb570c7",
   "metadata": {
    "ExecuteTime": {
     "end_time": "2024-03-09T04:08:41.907009600Z",
     "start_time": "2024-03-09T04:08:41.900011700Z"
    },
    "collapsed": false
   },
   "outputs": [
    {
     "name": "stdout",
     "output_type": "stream",
     "text": [
      "17\n"
     ]
    }
   ],
   "source": [
    "## Test Case 1 - CoinRow ###\n",
    "coins = [5, 1, 2, 10, 6, 2]\n",
    "print(CoinRow(coins)) # 17"
   ]
  },
  {
   "cell_type": "code",
   "execution_count": 4,
   "id": "80808887a8c1e209",
   "metadata": {
    "collapsed": false
   },
   "outputs": [
    {
     "name": "stdout",
     "output_type": "stream",
     "text": [
      "9\n"
     ]
    }
   ],
   "source": [
    "## Test Case 2 - CoinRow ###\n",
    "coins = [1, 2, 3, 4, 5]\n",
    "print(CoinRow(coins)) # 9"
   ]
  },
  {
   "cell_type": "code",
   "execution_count": 6,
   "id": "e475ad75a1e99024",
   "metadata": {
    "collapsed": false
   },
   "outputs": [],
   "source": [
    "def RobotCoinCollection(C):\n",
    "    n = len(C)\n",
    "    m = len(C[0])\n",
    "    F = [[0] * m for _ in range(n)]\n",
    "    F[0][0] = C[0][0]\n",
    "    for j in range(1,m):\n",
    "        F[0][j] = F[0][j-1] + C[0][j]\n",
    "\n",
    "    for i in range(1,n):\n",
    "        F[i][0] = F[i-1][0] + C[i][0]\n",
    "        for j in range(1,m):\n",
    "            F[i][j] = max(F[i-1][j], F[i][j-1]) + C[i][j]\n",
    "    return F[n-1][m-1]"
   ]
  },
  {
   "cell_type": "code",
   "execution_count": 11,
   "id": "60f372b5",
   "metadata": {},
   "outputs": [
    {
     "name": "stdout",
     "output_type": "stream",
     "text": [
      "Max Coins = 5\n"
     ]
    }
   ],
   "source": [
    "# Test Case 1 - Robot Coin Collection\n",
    "C = [[0, 0, 0, 0, 1, 0],\n",
    "     [0, 1, 0, 1, 0, 0],\n",
    "     [0, 0, 0, 1, 0, 1],\n",
    "     [0, 0, 1, 0, 0, 1],\n",
    "     [1, 0, 0, 0, 1, 0]\n",
    "]\n",
    "result = RobotCoinCollection(C)\n",
    "print(\"Max Coins =\" , result)"
   ]
  },
  {
   "cell_type": "code",
   "execution_count": 14,
   "id": "e914a45f",
   "metadata": {},
   "outputs": [
    {
     "name": "stdout",
     "output_type": "stream",
     "text": [
      "Max Coins = 8\n"
     ]
    }
   ],
   "source": [
    "# Test Case 2 - Robot Coin Collection\n",
    "C = [[1, 0, 0, 0, 1, 0],\n",
    "     [1, 1, 0, 1, 0, 0],\n",
    "     [0, 0, 1, 0, 0, 1],\n",
    "     [0, 1, 1, 1, 0, 0],\n",
    "     [1, 0, 0, 1, 1, 0] \n",
    "    ]\n",
    "\n",
    "result = RobotCoinCollection(C)\n",
    "print(\"Max Coins =\" , result)"
   ]
  },
  {
   "cell_type": "code",
   "execution_count": 8,
   "id": "8b31b6c1573046fc",
   "metadata": {
    "ExecuteTime": {
     "end_time": "2024-03-09T17:17:21.357710700Z",
     "start_time": "2024-03-09T17:17:21.347800800Z"
    },
    "collapsed": false
   },
   "outputs": [],
   "source": [
    "def Warshall(A):\n",
    "    n = len(A)\n",
    "    R = A.copy()\n",
    "    for k in range(n):\n",
    "        for i in range(n):\n",
    "            for j in range(n):\n",
    "                R[i][j] = R[i][j] or (R[i][k] and R[k][j])\n",
    "    return R"
   ]
  },
  {
   "cell_type": "code",
   "execution_count": 2,
   "id": "9ef6c6d218d6b01a",
   "metadata": {
    "ExecuteTime": {
     "end_time": "2024-03-09T17:17:26.862311100Z",
     "start_time": "2024-03-09T17:17:26.850796800Z"
    },
    "collapsed": false
   },
   "outputs": [
    {
     "name": "stdout",
     "output_type": "stream",
     "text": [
      "[[0, 1, 1, 1], [0, 0, 1, 1], [0, 0, 0, 0], [0, 0, 1, 0]]\n"
     ]
    }
   ],
   "source": [
    "# Test Case 1 - Warshall\n",
    "A = [[0, 1, 0, 0],\n",
    "     [0, 0, 0, 1],\n",
    "     [0, 0, 0, 0],\n",
    "     [0, 0, 1, 0]]\n",
    "\n",
    "print(Warshall(A))"
   ]
  },
  {
   "cell_type": "code",
   "execution_count": 3,
   "id": "c01723382516f45",
   "metadata": {
    "ExecuteTime": {
     "end_time": "2024-03-09T17:17:36.052253100Z",
     "start_time": "2024-03-09T17:17:36.044736600Z"
    },
    "collapsed": false
   },
   "outputs": [
    {
     "name": "stdout",
     "output_type": "stream",
     "text": [
      "[[1, 1, 1, 1], [1, 1, 1, 1], [1, 1, 1, 1], [1, 1, 1, 1]]\n"
     ]
    }
   ],
   "source": [
    "# Test Case 2 - Warshall\n",
    "A = [[0, 1, 0, 0],\n",
    "     [0, 0, 1, 0],\n",
    "     [0, 0, 0, 1],\n",
    "     [1, 0, 0, 0]]\n",
    "\n",
    "print(Warshall(A))"
   ]
  },
  {
   "cell_type": "code",
   "execution_count": 13,
   "id": "4ce8f38ce9da4c1c",
   "metadata": {
    "ExecuteTime": {
     "end_time": "2024-03-09T17:20:41.601301600Z",
     "start_time": "2024-03-09T17:20:41.596304100Z"
    },
    "collapsed": false
   },
   "outputs": [],
   "source": [
    "def Floyd(W):\n",
    "    D = W.copy()\n",
    "    n = len(W)\n",
    "    for k in range(n):\n",
    "        for i in range(n):\n",
    "            for j in range(n):\n",
    "                D[i][j] = min(D[i][j], D[i][k] + D[k][j])\n",
    "    return D"
   ]
  },
  {
   "cell_type": "code",
   "execution_count": 14,
   "id": "5a08534a3d5541a3",
   "metadata": {
    "ExecuteTime": {
     "end_time": "2024-03-09T17:20:42.837097Z",
     "start_time": "2024-03-09T17:20:42.830623Z"
    },
    "collapsed": false
   },
   "outputs": [
    {
     "name": "stdout",
     "output_type": "stream",
     "text": [
      "[[0, 10, 3, 4], [2, 0, 5, 6], [7, 7, 0, 1], [6, 16, 9, 0]]\n"
     ]
    }
   ],
   "source": [
    "# Test Case 1 - Floyd\n",
    "inf = float('inf')\n",
    "W = [[0, inf, 3, inf],\n",
    "     [2, 0, inf, inf],\n",
    "     [inf, 7, 0, 1],\n",
    "     [6, inf, inf, 0]]\n",
    "\n",
    "print(Floyd(W))"
   ]
  },
  {
   "cell_type": "code",
   "execution_count": 18,
   "id": "da05a46ea656d078",
   "metadata": {
    "ExecuteTime": {
     "end_time": "2024-03-09T17:20:51.516743400Z",
     "start_time": "2024-03-09T17:20:51.495735100Z"
    },
    "collapsed": false
   },
   "outputs": [
    {
     "name": "stdout",
     "output_type": "stream",
     "text": [
      "[[0, 3, 8, 4, 4], [1, 0, 6, 1, 7], [4, 4, 0, 2, 3], [2, 5, 5, 0, 4]]\n"
     ]
    }
   ],
   "source": [
    "# Test Case 2 - Floyd\n",
    "inf = float('inf')\n",
    "W = [ [0, 3, 8, inf, 4],\n",
    "      [1, 0, inf, 1, 7],\n",
    "      [inf, 4, 0, 2, 3],\n",
    "      [2, inf, 5, 0, 4] ]\n",
    "\n",
    "print(Floyd(W))"
   ]
  },
  {
   "cell_type": "markdown",
   "id": "51784704",
   "metadata": {},
   "source": [
    "<hr><br>\n",
    "<div style=\"text-align:center;\">\n",
    "    <b>เป็นคนไม่เอาถ่านบ้านมีเตาแก๊ส</b>\n",
    "    <p style=\"color: greenyellow;\">ศวิษฐ์ โกสียอัมพร 65070506026</p>\n",
    "    <p style=\"color: orange\">ธวัลรัตน์ โรจน์อมรรัตน์ 65070506037</p>\n",
    "    <p style=\"color: hotpink;\">ปุญชญา จันทร์เจริญ 65070506039</p>\n",
    "</div>"
   ]
  }
 ],
 "metadata": {
  "kernelspec": {
   "display_name": "Python 3",
   "language": "python",
   "name": "python3"
  },
  "language_info": {
   "codemirror_mode": {
    "name": "ipython",
    "version": 3
   },
   "file_extension": ".py",
   "mimetype": "text/x-python",
   "name": "python",
   "nbconvert_exporter": "python",
   "pygments_lexer": "ipython3",
   "version": "3.11.4"
  }
 },
 "nbformat": 4,
 "nbformat_minor": 5
}
