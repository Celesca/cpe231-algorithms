{
 "cells": [
  {
   "cell_type": "markdown",
   "source": [
    "## Coin Row Problem"
   ],
   "metadata": {
    "collapsed": false
   },
   "id": "608ca8b7e74125ee"
  },
  {
   "cell_type": "code",
   "outputs": [],
   "source": [
    "def CoinRow(coins):\n",
    "    n = len(coins)\n",
    "    F = [0] * (n + 1)\n",
    "    F[0] , F[1] = 0, coins[0]\n",
    "    for i in range(2,n+1):\n",
    "        F[i] = max((coins[i-1] + F[i-2]) , F[i-1])\n",
    "    return F[n]"
   ],
   "metadata": {
    "collapsed": false
   },
   "id": "a915b9a1b892340d"
  },
  {
   "cell_type": "code",
   "outputs": [
    {
     "name": "stdout",
     "output_type": "stream",
     "text": [
      "17\n"
     ]
    }
   ],
   "source": [
    "## Test Case 1 - CoinRow ###\n",
    "coins = [5, 1, 2, 10, 6, 2]\n",
    "print(CoinRow(coins)) # 17"
   ],
   "metadata": {
    "collapsed": false,
    "ExecuteTime": {
     "end_time": "2024-03-09T04:08:41.907009600Z",
     "start_time": "2024-03-09T04:08:41.900011700Z"
    }
   },
   "id": "c67cda3e5cb570c7",
   "execution_count": 12
  },
  {
   "cell_type": "code",
   "outputs": [],
   "source": [],
   "metadata": {
    "collapsed": false
   },
   "id": "80808887a8c1e209"
  },
  {
   "cell_type": "code",
   "outputs": [],
   "source": [
    "def RobotCoinCollection(C):\n",
    "    "
   ],
   "metadata": {
    "collapsed": false
   },
   "id": "e475ad75a1e99024"
  },
  {
   "cell_type": "code",
   "outputs": [],
   "source": [
    "def Warshall(A):\n",
    "    n = len(A)\n",
    "    R = A.copy()\n",
    "    for k in range(n):\n",
    "        for i in range(n):\n",
    "            for j in range(n):\n",
    "                R[i][j] = R[i][j] or (R[i][k] and R[k][j])\n",
    "    return R"
   ],
   "metadata": {
    "collapsed": false,
    "ExecuteTime": {
     "end_time": "2024-03-09T17:17:21.357710700Z",
     "start_time": "2024-03-09T17:17:21.347800800Z"
    }
   },
   "id": "8b31b6c1573046fc",
   "execution_count": 1
  },
  {
   "cell_type": "code",
   "outputs": [
    {
     "name": "stdout",
     "output_type": "stream",
     "text": [
      "[[0, 1, 1, 1], [0, 0, 1, 1], [0, 0, 0, 0], [0, 0, 1, 0]]\n"
     ]
    }
   ],
   "source": [
    "## Test Case 1 - Warshall ###\n",
    "A = [[0, 1, 0, 0],\n",
    "     [0, 0, 0, 1],\n",
    "     [0, 0, 0, 0],\n",
    "     [0, 0, 1, 0]]\n",
    "\n",
    "print(Warshall(A))"
   ],
   "metadata": {
    "collapsed": false,
    "ExecuteTime": {
     "end_time": "2024-03-09T17:17:26.862311100Z",
     "start_time": "2024-03-09T17:17:26.850796800Z"
    }
   },
   "id": "9ef6c6d218d6b01a",
   "execution_count": 2
  },
  {
   "cell_type": "code",
   "outputs": [
    {
     "name": "stdout",
     "output_type": "stream",
     "text": [
      "[[1, 1, 1, 1], [1, 1, 1, 1], [1, 1, 1, 1], [1, 1, 1, 1]]\n"
     ]
    }
   ],
   "source": [
    "## Test Case 2 - Warshall ###\n",
    "A = [[0, 1, 0, 0],\n",
    "     [0, 0, 1, 0],\n",
    "     [0, 0, 0, 1],\n",
    "     [1, 0, 0, 0]]\n",
    "\n",
    "print(Warshall(A))"
   ],
   "metadata": {
    "collapsed": false,
    "ExecuteTime": {
     "end_time": "2024-03-09T17:17:36.052253100Z",
     "start_time": "2024-03-09T17:17:36.044736600Z"
    }
   },
   "id": "c01723382516f45",
   "execution_count": 3
  },
  {
   "cell_type": "code",
   "outputs": [],
   "source": [
    "def Floyd(W):\n",
    "    D = W.copy()\n",
    "    n = len(W)\n",
    "    for k in range(n):\n",
    "        for i in range(n):\n",
    "            for j in range(n):\n",
    "                D[i][j] = min(D[i][j], D[i][k] + D[k][j])\n",
    "    return D"
   ],
   "metadata": {
    "collapsed": false,
    "ExecuteTime": {
     "end_time": "2024-03-09T17:20:41.601301600Z",
     "start_time": "2024-03-09T17:20:41.596304100Z"
    }
   },
   "id": "4ce8f38ce9da4c1c",
   "execution_count": 13
  },
  {
   "cell_type": "code",
   "outputs": [
    {
     "name": "stdout",
     "output_type": "stream",
     "text": [
      "[[0, 10, 3, 4], [2, 0, 5, 6], [7, 7, 0, 1], [6, 16, 9, 0]]\n"
     ]
    }
   ],
   "source": [
    "## Test Case 1 - Floyd ###\n",
    "inf = float('inf')\n",
    "W = [[0, inf, 3, inf],\n",
    "     [2, 0, inf, inf],\n",
    "     [inf, 7, 0, 1],\n",
    "     [6, inf, inf, 0]]\n",
    "\n",
    "print(Floyd(W))"
   ],
   "metadata": {
    "collapsed": false,
    "ExecuteTime": {
     "end_time": "2024-03-09T17:20:42.837097Z",
     "start_time": "2024-03-09T17:20:42.830623Z"
    }
   },
   "id": "5a08534a3d5541a3",
   "execution_count": 14
  },
  {
   "cell_type": "code",
   "outputs": [
    {
     "name": "stdout",
     "output_type": "stream",
     "text": [
      "[[0, 3, 8, 4, 4], [1, 0, 6, 1, 7], [4, 4, 0, 2, 3], [2, 5, 5, 0, 4]]\n"
     ]
    }
   ],
   "source": [
    "## Test Case 2 - Floyd ##\n",
    "inf = float('inf')\n",
    "W = [ [0, 3, 8, inf, 4],\n",
    "      [1, 0, inf, 1, 7],\n",
    "      [inf, 4, 0, 2, 3],\n",
    "      [2, inf, 5, 0, 4] ]\n",
    "\n",
    "print(Floyd(W))"
   ],
   "metadata": {
    "collapsed": false,
    "ExecuteTime": {
     "end_time": "2024-03-09T17:20:51.516743400Z",
     "start_time": "2024-03-09T17:20:51.495735100Z"
    }
   },
   "id": "da05a46ea656d078",
   "execution_count": 18
  },
  {
   "cell_type": "code",
   "outputs": [],
   "source": [],
   "metadata": {
    "collapsed": false
   },
   "id": "591bd5f6a4991036"
  }
 ],
 "metadata": {
  "kernelspec": {
   "display_name": "Python 3",
   "language": "python",
   "name": "python3"
  },
  "language_info": {
   "codemirror_mode": {
    "name": "ipython",
    "version": 2
   },
   "file_extension": ".py",
   "mimetype": "text/x-python",
   "name": "python",
   "nbconvert_exporter": "python",
   "pygments_lexer": "ipython2",
   "version": "2.7.6"
  }
 },
 "nbformat": 4,
 "nbformat_minor": 5
}
