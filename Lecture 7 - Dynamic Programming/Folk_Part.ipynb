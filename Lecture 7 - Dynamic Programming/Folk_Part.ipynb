{
 "cells": [
  {
   "cell_type": "code",
   "execution_count": 11,
   "id": "initial_id",
   "metadata": {
    "collapsed": true,
    "ExecuteTime": {
     "end_time": "2024-03-09T04:08:41.446320400Z",
     "start_time": "2024-03-09T04:08:41.442313400Z"
    }
   },
   "outputs": [],
   "source": [
    "def CoinRow(coins):\n",
    "    n = len(coins)\n",
    "    F = [0] * (n + 1)\n",
    "    F[0] , F[1] = 0, coins[0]\n",
    "    for i in range(2,n+1):\n",
    "        F[i] = max((coins[i-1] + F[i-2]) , F[i-1])\n",
    "    return F[n]"
   ]
  },
  {
   "cell_type": "code",
   "outputs": [
    {
     "name": "stdout",
     "output_type": "stream",
     "text": [
      "17\n"
     ]
    }
   ],
   "source": [
    "## Test Case 1 - CoinRow ###\n",
    "coins = [5, 1, 2, 10, 6, 2]\n",
    "print(CoinRow(coins)) # 17"
   ],
   "metadata": {
    "collapsed": false,
    "ExecuteTime": {
     "end_time": "2024-03-09T04:08:41.907009600Z",
     "start_time": "2024-03-09T04:08:41.900011700Z"
    }
   },
   "id": "c67cda3e5cb570c7",
   "execution_count": 12
  },
  {
   "cell_type": "code",
   "outputs": [],
   "source": [
    "def RobotCoinCollection(C):\n",
    "    "
   ],
   "metadata": {
    "collapsed": false
   },
   "id": "e475ad75a1e99024"
  }
 ],
 "metadata": {
  "kernelspec": {
   "display_name": "Python 3",
   "language": "python",
   "name": "python3"
  },
  "language_info": {
   "codemirror_mode": {
    "name": "ipython",
    "version": 2
   },
   "file_extension": ".py",
   "mimetype": "text/x-python",
   "name": "python",
   "nbconvert_exporter": "python",
   "pygments_lexer": "ipython2",
   "version": "2.7.6"
  }
 },
 "nbformat": 4,
 "nbformat_minor": 5
}
