{
 "cells": [
  {
   "cell_type": "markdown",
   "metadata": {},
   "source": [
    "## Memoization"
   ]
  },
  {
   "cell_type": "markdown",
   "metadata": {},
   "source": [
    "แหล่งที่มา \\\n",
    "แหล่งที่ มา 1 : https://wiingy.com/learn/python/memoization-using-decorators-in-python/ \\\n",
    "แหล่งที่ มา 2 : https://www.geeksforgeeks.org/memoization-using-decorators-in-python/"
   ]
  },
  {
   "cell_type": "markdown",
   "metadata": {},
   "source": [
    "Memoization เป็นพื้นที่ใช้จัดเก็บหน่วนความจำ ซึ่งจะช่วยให้โปรแกรมเข้าถึง caches result ที่เก็บค่าไว้แทนการที่จะต้องคำนวณใหม่ทุกครั้งโดยโปรแกรมจะทำการเช็คว่า input ที่รับมามีผลลัพธ์ที่ถูกคำนวณและจัดเก็บไว้แล้วหรือไม่ถ้ามีก็จะทำการดึงผลลัพธ์และส่งกลับเป็น output และถ้าหาไม่พบก็จะทำการคำนวณและเก็บผลลัพธ์์ไว้ใช้ในภายหลัง ซึ่งการทำเช่นนี้จะช่วยลดระยะเวลาและทรัพยากรในการคำนวณ output ได้ เนื่องจากเป็นการหลีกเลี่ยงการคำนวณซ้ำ ของ input ที่เคยรับค่ามาแล้ว กล่าวคือเมื่อมีการรับ input ที่มีค่าที่เยอะมาก ๆ ก็จะสามารถลดเวลาในการประมวลผลได้\n"
   ]
  },
  {
   "cell_type": "markdown",
   "metadata": {},
   "source": [
    "### How to implement Memoization using decorators in Python"
   ]
  },
  {
   "cell_type": "markdown",
   "metadata": {},
   "source": [
    "จะมี function ที่รูกจักกันว่า Decorator ที่จะช่วยปรับ function อิ่นโดยไม่ต้องเปลี่ยนแปลง source code ของ function ที่เราต้องการจะ implement memoization โดยสามารถทำได้ตามขั้นตอน ดังนี้\n",
    "1. กำหนด decorator function เป็น argument\n",
    "2. สร้าง dictionary เพื่อเก็บ cached result\n",
    "3. ข้างในของ decorator function ให้กำหนด function ที่จะมารับค่า argument ของ function ที่ได้รับการปรับเปลี่ยนแล้ว \n",
    "4. ทำการตรวจสอบว่ามี result ของ argument อยู่ใน result dictionary ที่ cache แล้วหรือไม่ ถ้ามีแล้วให้ส่งคืนค่าผลลัพธ์ แต่ถ้าเกิดยังไม่มีให้ทำการบันทึกผลลัพธ์ลงใน dictionary\n",
    "5. ให้ส่งผลลัพธ์จาก inner function"
   ]
  },
  {
   "cell_type": "markdown",
   "metadata": {},
   "source": [
    "### Example :"
   ]
  },
  {
   "cell_type": "markdown",
   "metadata": {},
   "source": [
    "#### Simple memoization decorator for functions without arguments:"
   ]
  },
  {
   "cell_type": "code",
   "execution_count": 3,
   "metadata": {},
   "outputs": [],
   "source": [
    "def memoize(func):\n",
    "    cache = {}                              # สร้าง dictionary ว่างๆ เพื่อให้เก็บ cached result \n",
    "    def inner():                            # กำหนด inner function เพื่อใช้ในการที่จะ decorator\n",
    "        if func.__name__ not in cache:      # เช็คว่า result ขอว function ถูก cached แล้วหรือยัง\n",
    "            cache[func.__name__] = func()   # ถ้ายังจะเรียก original function มา run แล้วเก็บ result ไว้ใน cache\n",
    "        return cache[func.__name__]         # คืนค่า cached ออกมา\n",
    "    return inner                            # คืนค่า inner function ซึ่งตอนนี้ได้เป็น decorator แล้ว"
   ]
  },
  {
   "cell_type": "code",
   "execution_count": 4,
   "metadata": {},
   "outputs": [
    {
     "name": "stdout",
     "output_type": "stream",
     "text": [
      "Executing some_function\n",
      "Executing some_function\n",
      "42\n",
      "42\n"
     ]
    }
   ],
   "source": [
    "# Example\n",
    "def define_function():\n",
    "    print(\"Executing define_function\")\n",
    "    return 42\n",
    "\n",
    "result1 = define_function()             # print \"Executing some_function\" และเก็บค่า result ไว้ใน cache\n",
    "result2 = define_function()             # return cached result โดยไม่ execute function อีก\n",
    "\n",
    "print(result1)\n",
    "print(result2)"
   ]
  },
  {
   "cell_type": "markdown",
   "metadata": {},
   "source": [
    "#### Simple memoization decorator for functions with arguments:"
   ]
  },
  {
   "cell_type": "code",
   "execution_count": 2,
   "metadata": {},
   "outputs": [],
   "source": [
    " \n",
    "def memoize(func):                          \n",
    "    cache = {}                              # สร้าง dictionary ว่างๆ เพื่อให้เก็บ cached result\n",
    "    def inner(*args):                       # กำหนด inner function เพื่อใช้ในการที่จะ decorator\n",
    "        if args not in cache:               # เช็คว่า result ขอว function ถูก cached แล้วหรือยัง\n",
    "            cache[args] = func(*args)       # ถ้ายังจะเรียก original function ที่มี arguments แล้วทำการประมวลผลแล้วเก็บ result ไว่ใน cache\n",
    "        return cache[args]                  # คืนค่า cached ออกมา\n",
    "    return inner                            # คืนค่า inner function ซึ่งตอนนี้ได้เป็น decorator แล้ว"
   ]
  },
  {
   "cell_type": "code",
   "execution_count": 6,
   "metadata": {},
   "outputs": [
    {
     "name": "stdout",
     "output_type": "stream",
     "text": [
      "Adding 3 and 5\n",
      "Adding 3 and 5\n",
      "8\n",
      "8\n"
     ]
    }
   ],
   "source": [
    "# Example\n",
    "def add(x, y):\n",
    "    print(f\"Adding {x} and {y}\")\n",
    "    return x + y\n",
    "\n",
    "result1 = add(3, 5)                     # print \"Adding 3 and 5\" และเก็บค่า result ไว้ใน cache\n",
    "result2 = add(3, 5)                     # return cached result โดยไม่ execute function อีก\n",
    "\n",
    "print(result1)\n",
    "print(result2)"
   ]
  }
 ],
 "metadata": {
  "kernelspec": {
   "display_name": "Python 3",
   "language": "python",
   "name": "python3"
  },
  "language_info": {
   "codemirror_mode": {
    "name": "ipython",
    "version": 3
   },
   "file_extension": ".py",
   "mimetype": "text/x-python",
   "name": "python",
   "nbconvert_exporter": "python",
   "pygments_lexer": "ipython3",
   "version": "3.11.8"
  }
 },
 "nbformat": 4,
 "nbformat_minor": 2
}
