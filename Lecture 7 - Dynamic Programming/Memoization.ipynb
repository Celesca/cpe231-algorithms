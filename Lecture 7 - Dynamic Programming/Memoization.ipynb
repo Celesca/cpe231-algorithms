{
 "cells": [
  {
   "cell_type": "markdown",
   "metadata": {},
   "source": [
    "## Memoization"
   ]
  },
  {
   "cell_type": "markdown",
   "metadata": {},
   "source": [
    "#### แหล่งที่มา \n",
    "แหล่งที่มา 1 : https://wiingy.com/learn/python/memoization-using-decorators-in-python/ \\\n",
    "แหล่งที่มา 2 : https://www.geeksforgeeks.org/memoization-using-decorators-in-python/ \\\n",
    "แหล้งที่มา 3 : https://grassrootengineer.medium.com/python-decorator-%E0%B8%84%E0%B8%B7%E0%B8%AD%E0%B8%AD%E0%B8%B0%E0%B9%84%E0%B8%A3-2425c8b31bea \\\n",
    "แหล่งที่มา 4 : https://stackoverflow.com/questions/77242583/tabulation-dynamic-programming-using-decorator"
   ]
  },
  {
   "cell_type": "markdown",
   "metadata": {},
   "source": [
    "Memoization เป็นเทคนิคในการใช้พื้นที่หน่วยความจำในการเก็บข้อมูลการเก็บข้อมูลที่ซ้ำซ้อนไว้ ซึ่ง memoization จะช่วยให้โปรแกรมเข้าถึง caches result หรือข้อมูลที่เคยคำนวณไว้แล้ว และได้เก็บค่าไว้เพื่อหยิบขึ้นมาใช้ แทนการที่จะต้องคำนวณใหม่อีกครั้ง อีกทั้งโปรแกรมจะทำการเช็คว่า input ที่รับมามีผลลัพธ์ที่ถูกคำนวณและจัดเก็บไว้แล้วหรือไม่ ถ้าหาไม่พบก็จะทำการคำนวณและเก็บผลลัพธ์์ไว้ใช้ในภายหลัง ซึ่งจะช่วยลดระยะเวลาในการประมวลผลได้ โดยเฉพาะเมื่อมีการรับ input ที่มีค่าที่เยอะมาก ๆ ก็จะสามารถลดเวลาในการประมวลผลได้\n"
   ]
  },
  {
   "cell_type": "markdown",
   "metadata": {},
   "source": [
    "### How to implement Memoization using decorators in Python"
   ]
  },
  {
   "cell_type": "markdown",
   "metadata": {},
   "source": [
    "จะมี function ที่เรียกว่า Decorator ทำหน้าที่ช่วยเก็บข้อมูลให้ในการเรียกใช้ฟังก์ชันใดฟังก์ชันหนึ่ง โดยไม่เปลี่ยนแปลง Observable Behaviour ของฟังก์ชันนั้น ๆ โดยหลักการในการ Implement memoization คือ\n",
    "1. สร้างฟังก์ชัน decorator function ป็นฟังก์ชันที่ต้องการจะ Pass เข้ามา (เรียกว่า Decorator function)\n",
    "2. สร้าง dictionary เพื่อเก็บ cached result ผลลัพธ์จากการคำนวณรอบต่าง ๆ\n",
    "3. สร้างฟังก์ชันภายใน Decorator เพื่อที่จะเรียกใช้ฟังก์ชัน\n",
    "4. ทำการตรวจสอบว่ามี result ของ argument อยู่ใน result dictionary ที่ cache แล้วหรือไม่ ถ้ามีแล้วให้ส่งคืนค่าผลลัพธ์ แต่ถ้าเกิดยังไม่มีให้ทำการบันทึกผลลัพธ์ลงใน dictionary\n",
    "5. ให้ส่งผลลัพธ์ในการคำนวณกลับ\n",
    "\n",
    "เพิ่มเติม :\n",
    "decorator ก็คือตัวที่เอาไว้ตกแต่ง function หรือ class ฉะนั้นในการใช้จึงต้องวางไว้ด้านบนของ function หรือ class นั่นเอง (เพราะมันคือ function ที่ครอบ function อีกที)"
   ]
  },
  {
   "cell_type": "markdown",
   "metadata": {},
   "source": [
    "### Example :"
   ]
  },
  {
   "cell_type": "markdown",
   "metadata": {},
   "source": [
    "#### Simple memoization decorator for functions with arguments:"
   ]
  },
  {
   "cell_type": "code",
   "execution_count": 2,
   "metadata": {},
   "outputs": [],
   "source": [
    "def memoize(func):                          \n",
    "    cache = {}                              # สร้าง dictionary ว่างๆ เพื่อให้เก็บ cached result\n",
    "    def inner(*args):                       # กำหนด inner function เพื่อใช้ในการที่จะ decorator\n",
    "        if args not in cache:               # เช็คว่า result ขอว function ถูก cached แล้วหรือยัง\n",
    "            cache[args] = func(*args)       # ถ้ายังจะเรียก original function ที่มี arguments แล้วทำการประมวลผลแล้วเก็บ result ไว่ใน cache\n",
    "        return cache[args]                  # คืนค่า cached ออกมา\n",
    "    return inner                            # คืนค่า inner function ซึ่งตอนนี้ได้เป็น decorator แล้ว"
   ]
  },
  {
   "cell_type": "code",
   "execution_count": 17,
   "metadata": {},
   "outputs": [],
   "source": [
    "# Example 1 \n",
    "@memoize\n",
    "def fibonacci(n):\n",
    "    if n < 2:\n",
    "        return n\n",
    "    return fibonacci(n - 1) + fibonacci(n - 2)"
   ]
  },
  {
   "cell_type": "code",
   "execution_count": 10,
   "metadata": {},
   "outputs": [
    {
     "name": "stdout",
     "output_type": "stream",
     "text": [
      "354224848179261915075\n"
     ]
    }
   ],
   "source": [
    "print(fibonacci(100))"
   ]
  },
  {
   "cell_type": "code",
   "execution_count": 11,
   "metadata": {},
   "outputs": [
    {
     "name": "stdout",
     "output_type": "stream",
     "text": [
      "280571172992510140037611932413038677189525\n"
     ]
    }
   ],
   "source": [
    "print(fibonacci(200))"
   ]
  },
  {
   "cell_type": "code",
   "execution_count": 12,
   "metadata": {},
   "outputs": [],
   "source": [
    "# Example 2\n",
    "@memoize\n",
    "def factorial(n):\n",
    "    if n < 2:\n",
    "        return 1\n",
    "    return n * factorial(n - 1)"
   ]
  },
  {
   "cell_type": "code",
   "execution_count": 13,
   "metadata": {},
   "outputs": [
    {
     "name": "stdout",
     "output_type": "stream",
     "text": [
      "93326215443944152681699238856266700490715968264381621468592963895217599993229915608941463976156518286253697920827223758251185210916864000000000000000000000000\n"
     ]
    }
   ],
   "source": [
    "print(factorial(100))"
   ]
  },
  {
   "cell_type": "code",
   "execution_count": 14,
   "metadata": {},
   "outputs": [
    {
     "name": "stdout",
     "output_type": "stream",
     "text": [
      "788657867364790503552363213932185062295135977687173263294742533244359449963403342920304284011984623904177212138919638830257642790242637105061926624952829931113462857270763317237396988943922445621451664240254033291864131227428294853277524242407573903240321257405579568660226031904170324062351700858796178922222789623703897374720000000000000000000000000000000000000000000000000\n"
     ]
    }
   ],
   "source": [
    "print(factorial(200))"
   ]
  },
  {
   "cell_type": "markdown",
   "metadata": {},
   "source": [
    "## Tabulation\n"
   ]
  },
  {
   "cell_type": "markdown",
   "metadata": {},
   "source": [
    "Tabulation เป็นเทคนิคที่คล้ายกับ Memoization แต่ต่างกันเพียงที่เก็บข้อมูลในรูปแบบของ List แทน Dictionary"
   ]
  },
  {
   "cell_type": "markdown",
   "metadata": {},
   "source": [
    "โดยควรกำหนด Table ไว้ข้างนอก inner function เพื่อให้สามารถแช์ across call ได้ และเนื่องจาก Table ถูกวางไว้ข้างนอก inner function จึงทำให้ไม่สามารถทราบค่า n จนกว่าจะมีการเรียกใช้ inner function ให้ขยาย Table โดยใช้วิธี list.extend"
   ]
  },
  {
   "cell_type": "markdown",
   "metadata": {},
   "source": [
    "### Example"
   ]
  },
  {
   "cell_type": "code",
   "execution_count": 5,
   "metadata": {},
   "outputs": [],
   "source": [
    "def tabulation(func):       \n",
    "    def inner(n):                                           # กำหนด inner function เพื่อใช้ในการที่จะ decorator\n",
    "        table.extend(map(func, range(len(table), n + 1)))   # ขยาย Table\n",
    "        return table[n]                                     # คืนค่า cached ออกมา\n",
    "\n",
    "    table = []                                              # สร้าง list ไว้เก็บ cached result\n",
    "    return inner                                            # คืนค่า inner function ซึ่งตอนนี้ได้เป็น decorator แล้ว"
   ]
  },
  {
   "cell_type": "code",
   "execution_count": 6,
   "metadata": {},
   "outputs": [],
   "source": [
    "# Example\n",
    "@tabulation\n",
    "def fact(n):\n",
    "    if n < 1:\n",
    "        return 1\n",
    "    return n * fact(n - 1)"
   ]
  },
  {
   "cell_type": "code",
   "execution_count": 7,
   "metadata": {},
   "outputs": [
    {
     "data": {
      "text/plain": [
       "2432902008176640000"
      ]
     },
     "execution_count": 7,
     "metadata": {},
     "output_type": "execute_result"
    }
   ],
   "source": [
    "fact(20)"
   ]
  },
  {
   "cell_type": "code",
   "execution_count": 15,
   "metadata": {},
   "outputs": [
    {
     "data": {
      "text/plain": [
       "93326215443944152681699238856266700490715968264381621468592963895217599993229915608941463976156518286253697920827223758251185210916864000000000000000000000000"
      ]
     },
     "execution_count": 15,
     "metadata": {},
     "output_type": "execute_result"
    }
   ],
   "source": [
    "fact(100)"
   ]
  },
  {
   "cell_type": "markdown",
   "metadata": {},
   "source": [
    "จะสังเกตได้ว่า เมื่อนำ Decorator มาใช้ในการหาอัลกอริทึมที่เป็นแบบ Recursive จะสามารถทำได้ภายในเวลาอันสั้น ต่างจากตอนที่ไม่ได้ใช้เทคนิค Memoization หรือ Tabulation"
   ]
  }
 ],
 "metadata": {
  "kernelspec": {
   "display_name": "Python 3",
   "language": "python",
   "name": "python3"
  },
  "language_info": {
   "codemirror_mode": {
    "name": "ipython",
    "version": 3
   },
   "file_extension": ".py",
   "mimetype": "text/x-python",
   "name": "python",
   "nbconvert_exporter": "python",
   "pygments_lexer": "ipython3",
   "version": "3.11.4"
  }
 },
 "nbformat": 4,
 "nbformat_minor": 2
}
