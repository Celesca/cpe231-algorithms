{
 "cells": [
  {
   "cell_type": "markdown",
   "id": "546750de",
   "metadata": {},
   "source": [
    "## <p style=\"color: pink;\">สรุปสิ่งที่ได้เรียนใน Lecture 7 - Dynamic Programming</p>\n",
    "\n",
    "* Dynamic Programming คือ เทคนิคในการแก้ปัญหาที่มีความ Overlapping (ทับซ้อน) กันอยู่ ยกตัวอย่างเช่น การที่เราคำนวณค่านึงไปเรียบร้อยแล้ว<br> แต่มีการเรียกคำนวณซ้ำอีกรอบนึง ซึ่งถ้าหากเราใช้วิธีแบบธรรมดาอาจทำให้โปรแกรมเราทำงานช้าได้ เราจึงใช้เทคนิค <br> Dynamic Programming เพื่อวางแผนที่ทำให้ปัญหานั้นเป็นสูตรและไม่ทำให้การคำนวณมันซ้ำซ้อนกัน\n",
    "\n",
    "* โดยส่วนมากการประยุกต์ใช้ Dynamic Programming จะเป็นปัญหา Optimization เช่น\n",
    "  - Knapsack Problem\n",
    "  - Warshall's and Floyd's algorithms\n",
    "\n",
    "<p style=\"color: gold;\">ตัวอย่างโจทย์ Dynamic Programming</p>\n",
    "\n",
    "* Coin-Row problem - ปัญหาการเก็บเหรียญที่เรียงแนวนอนให้มีค่ามากสุด โดยห้ามหยิบเหรียญที่ใกล้กัน\n",
    "  - Time complexity O(n) , Space complexity O(n)\n",
    "* Coin Collecting problem - ปัญหากระดานที่มีเหรียญอยู่ แล้วต้องเก็บเหรียญให้ได้เยอะสุด โดยเงื่อนไขคือเดินได้แค่ขวาหรือลงล่าง\n",
    "  - Time complexity O(nm) , Space complexity O(nm)\n",
    "* Knapsack problem - ปัญหาการเก็บของในเนื้อที่กระเป๋าจำกัด แต่ต้องเก็บให้คุ้มที่สุด\n",
    "* Warshall's Algorithms - ปัญหากราฟที่หาว่าสามารถเดินไปถึงได้หรือไม่\n",
    "* Floyd's Algorithms - All-pair shortest path ระยะทางที่สั้นที่สุด\n",
    "\n",
    "<p style=\"color: lightgreen;\">สรุป</p>\n",
    "\n",
    "* Dynamic Programming คือ Strategy ในการแก้ปัญหาที่มีการตัดสินใจหลายรอบและเกิดการซ้ำซ้อนในการคำนวณ ดังนั้นเราจึงแก้ปัญหานั้นด้วยสูตร <br> และเก็บค่าที่เราคำนวณไปแล้วที่หนึ่ง เมื่อคำนวณแล้วก็จะเรียกใช้แทนการคำนวณใหม่ ซึ่งเรียกการเก็บสิ่งที่คำนวณซ้ำลงในที่หนึ่งว่า <br> Memoization และ Tabulation โดยใน Python จะมีสิ่งที่เรียกว่า Decorator\n"
   ]
  },
  {
   "cell_type": "markdown",
   "id": "e677167d",
   "metadata": {},
   "source": [
    "---"
   ]
  },
  {
   "cell_type": "markdown",
   "id": "608ca8b7e74125ee",
   "metadata": {
    "collapsed": false
   },
   "source": [
    "## Coin Row Problem"
   ]
  },
  {
   "cell_type": "code",
   "execution_count": 2,
   "id": "a915b9a1b892340d",
   "metadata": {
    "collapsed": false
   },
   "outputs": [],
   "source": [
    "def CoinRow(coins):\n",
    "    n = len(coins)\n",
    "    F = [0] * (n + 1)\n",
    "    F[0] , F[1] = 0, coins[0]\n",
    "    for i in range(2,n+1):\n",
    "        F[i] = max((coins[i-1] + F[i-2]) , F[i-1])\n",
    "    return F[n]"
   ]
  },
  {
   "cell_type": "code",
   "execution_count": 3,
   "id": "c67cda3e5cb570c7",
   "metadata": {
    "ExecuteTime": {
     "end_time": "2024-03-09T04:08:41.907009600Z",
     "start_time": "2024-03-09T04:08:41.900011700Z"
    },
    "collapsed": false
   },
   "outputs": [
    {
     "name": "stdout",
     "output_type": "stream",
     "text": [
      "17\n"
     ]
    }
   ],
   "source": [
    "## Test Case 1 - CoinRow ###\n",
    "coins = [5, 1, 2, 10, 6, 2]\n",
    "print(CoinRow(coins)) # 17"
   ]
  },
  {
   "cell_type": "code",
   "execution_count": 4,
   "id": "80808887a8c1e209",
   "metadata": {
    "collapsed": false
   },
   "outputs": [
    {
     "name": "stdout",
     "output_type": "stream",
     "text": [
      "9\n"
     ]
    }
   ],
   "source": [
    "## Test Case 2 - CoinRow ###\n",
    "coins = [1, 2, 3, 4, 5]\n",
    "print(CoinRow(coins)) # 9"
   ]
  },
  {
   "cell_type": "markdown",
   "id": "d9e3c8e6",
   "metadata": {},
   "source": [
    "---"
   ]
  },
  {
   "cell_type": "markdown",
   "id": "8ec72371",
   "metadata": {},
   "source": [
    "## Robot Coin Collection Algorithms"
   ]
  },
  {
   "cell_type": "code",
   "execution_count": 6,
   "id": "e475ad75a1e99024",
   "metadata": {
    "collapsed": false
   },
   "outputs": [],
   "source": [
    "def RobotCoinCollection(C):\n",
    "    n = len(C)\n",
    "    m = len(C[0])\n",
    "    F = [[0] * m for _ in range(n)]\n",
    "    F[0][0] = C[0][0]\n",
    "    for j in range(1,m):\n",
    "        F[0][j] = F[0][j-1] + C[0][j]\n",
    "\n",
    "    for i in range(1,n):\n",
    "        F[i][0] = F[i-1][0] + C[i][0]\n",
    "        for j in range(1,m):\n",
    "            F[i][j] = max(F[i-1][j], F[i][j-1]) + C[i][j]\n",
    "    return F[n-1][m-1]"
   ]
  },
  {
   "cell_type": "code",
   "execution_count": 11,
   "id": "60f372b5",
   "metadata": {},
   "outputs": [
    {
     "name": "stdout",
     "output_type": "stream",
     "text": [
      "Max Coins = 5\n"
     ]
    }
   ],
   "source": [
    "# Test Case 1 - Robot Coin Collection\n",
    "C = [[0, 0, 0, 0, 1, 0],\n",
    "     [0, 1, 0, 1, 0, 0],\n",
    "     [0, 0, 0, 1, 0, 1],\n",
    "     [0, 0, 1, 0, 0, 1],\n",
    "     [1, 0, 0, 0, 1, 0]\n",
    "]\n",
    "result = RobotCoinCollection(C)\n",
    "print(\"Max Coins =\" , result)"
   ]
  },
  {
   "cell_type": "code",
   "execution_count": 14,
   "id": "e914a45f",
   "metadata": {},
   "outputs": [
    {
     "name": "stdout",
     "output_type": "stream",
     "text": [
      "Max Coins = 8\n"
     ]
    }
   ],
   "source": [
    "# Test Case 2 - Robot Coin Collection\n",
    "C = [[1, 0, 0, 0, 1, 0],\n",
    "     [1, 1, 0, 1, 0, 0],\n",
    "     [0, 0, 1, 0, 0, 1],\n",
    "     [0, 1, 1, 1, 0, 0],\n",
    "     [1, 0, 0, 1, 1, 0] \n",
    "    ]\n",
    "\n",
    "result = RobotCoinCollection(C)\n",
    "print(\"Max Coins =\" , result)"
   ]
  },
  {
   "cell_type": "markdown",
   "id": "97801ff7",
   "metadata": {},
   "source": [
    "---"
   ]
  },
  {
   "cell_type": "markdown",
   "id": "f480b8f4",
   "metadata": {},
   "source": [
    "## Warshall's Algorithm"
   ]
  },
  {
   "cell_type": "code",
   "execution_count": 8,
   "id": "8b31b6c1573046fc",
   "metadata": {
    "ExecuteTime": {
     "end_time": "2024-03-09T17:17:21.357710700Z",
     "start_time": "2024-03-09T17:17:21.347800800Z"
    },
    "collapsed": false
   },
   "outputs": [],
   "source": [
    "def Warshall(A):\n",
    "    n = len(A)\n",
    "    R = A.copy()\n",
    "    for k in range(n):\n",
    "        for i in range(n):\n",
    "            for j in range(n):\n",
    "                R[i][j] = R[i][j] or (R[i][k] and R[k][j])\n",
    "    return R"
   ]
  },
  {
   "cell_type": "code",
   "execution_count": 2,
   "id": "9ef6c6d218d6b01a",
   "metadata": {
    "ExecuteTime": {
     "end_time": "2024-03-09T17:17:26.862311100Z",
     "start_time": "2024-03-09T17:17:26.850796800Z"
    },
    "collapsed": false
   },
   "outputs": [
    {
     "name": "stdout",
     "output_type": "stream",
     "text": [
      "[[0, 1, 1, 1], [0, 0, 1, 1], [0, 0, 0, 0], [0, 0, 1, 0]]\n"
     ]
    }
   ],
   "source": [
    "# Test Case 1 - Warshall\n",
    "A = [[0, 1, 0, 0],\n",
    "     [0, 0, 0, 1],\n",
    "     [0, 0, 0, 0],\n",
    "     [0, 0, 1, 0]]\n",
    "\n",
    "print(Warshall(A))"
   ]
  },
  {
   "cell_type": "code",
   "execution_count": 3,
   "id": "c01723382516f45",
   "metadata": {
    "ExecuteTime": {
     "end_time": "2024-03-09T17:17:36.052253100Z",
     "start_time": "2024-03-09T17:17:36.044736600Z"
    },
    "collapsed": false
   },
   "outputs": [
    {
     "name": "stdout",
     "output_type": "stream",
     "text": [
      "[[1, 1, 1, 1], [1, 1, 1, 1], [1, 1, 1, 1], [1, 1, 1, 1]]\n"
     ]
    }
   ],
   "source": [
    "# Test Case 2 - Warshall\n",
    "A = [[0, 1, 0, 0],\n",
    "     [0, 0, 1, 0],\n",
    "     [0, 0, 0, 1],\n",
    "     [1, 0, 0, 0]]\n",
    "\n",
    "print(Warshall(A))"
   ]
  },
  {
   "cell_type": "markdown",
   "id": "9ce549bc",
   "metadata": {},
   "source": [
    "---"
   ]
  },
  {
   "cell_type": "markdown",
   "id": "4cbc1cb9",
   "metadata": {},
   "source": [
    "## Floyd's Algorithm"
   ]
  },
  {
   "cell_type": "code",
   "execution_count": 13,
   "id": "4ce8f38ce9da4c1c",
   "metadata": {
    "ExecuteTime": {
     "end_time": "2024-03-09T17:20:41.601301600Z",
     "start_time": "2024-03-09T17:20:41.596304100Z"
    },
    "collapsed": false
   },
   "outputs": [],
   "source": [
    "def Floyd(W):\n",
    "    D = W.copy()\n",
    "    n = len(W)\n",
    "    for k in range(n):\n",
    "        for i in range(n):\n",
    "            for j in range(n):\n",
    "                D[i][j] = min(D[i][j], D[i][k] + D[k][j])\n",
    "    return D"
   ]
  },
  {
   "cell_type": "code",
   "execution_count": 14,
   "id": "5a08534a3d5541a3",
   "metadata": {
    "ExecuteTime": {
     "end_time": "2024-03-09T17:20:42.837097Z",
     "start_time": "2024-03-09T17:20:42.830623Z"
    },
    "collapsed": false
   },
   "outputs": [
    {
     "name": "stdout",
     "output_type": "stream",
     "text": [
      "[[0, 10, 3, 4], [2, 0, 5, 6], [7, 7, 0, 1], [6, 16, 9, 0]]\n"
     ]
    }
   ],
   "source": [
    "# Test Case 1 - Floyd\n",
    "inf = float('inf')\n",
    "W = [[0, inf, 3, inf],\n",
    "     [2, 0, inf, inf],\n",
    "     [inf, 7, 0, 1],\n",
    "     [6, inf, inf, 0]]\n",
    "\n",
    "print(Floyd(W))"
   ]
  },
  {
   "cell_type": "code",
   "execution_count": 18,
   "id": "da05a46ea656d078",
   "metadata": {
    "ExecuteTime": {
     "end_time": "2024-03-09T17:20:51.516743400Z",
     "start_time": "2024-03-09T17:20:51.495735100Z"
    },
    "collapsed": false
   },
   "outputs": [
    {
     "name": "stdout",
     "output_type": "stream",
     "text": [
      "[[0, 3, 8, 4, 4], [1, 0, 6, 1, 7], [4, 4, 0, 2, 3], [2, 5, 5, 0, 4]]\n"
     ]
    }
   ],
   "source": [
    "# Test Case 2 - Floyd\n",
    "inf = float('inf')\n",
    "W = [ [0, 3, 8, inf, 4],\n",
    "      [1, 0, inf, 1, 7],\n",
    "      [inf, 4, 0, 2, 3],\n",
    "      [2, inf, 5, 0, 4] ]\n",
    "\n",
    "print(Floyd(W))"
   ]
  },
  {
   "cell_type": "markdown",
   "id": "500bdc43",
   "metadata": {},
   "source": [
    "---"
   ]
  },
  {
   "cell_type": "markdown",
   "id": "259dded9",
   "metadata": {},
   "source": [
    "## Memoization & Tabulation (Python's decorator)"
   ]
  },
  {
   "cell_type": "markdown",
   "id": "990d7676",
   "metadata": {},
   "source": [
    "#### แหล่งที่มา \n",
    "แหล่งที่มา 1 : https://wiingy.com/learn/python/memoization-using-decorators-in-python/ \\\n",
    "แหล่งที่มา 2 : https://www.geeksforgeeks.org/memoization-using-decorators-in-python/ \\\n",
    "แหล้งที่มา 3 : https://grassrootengineer.medium.com/python-decorator-%E0%B8%84%E0%B8%B7%E0%B8%AD%E0%B8%AD%E0%B8%B0%E0%B9%84%E0%B8%A3-2425c8b31bea \\\n",
    "แหล่งที่มา 4 : https://stackoverflow.com/questions/77242583/tabulation-dynamic-programming-using-decorator"
   ]
  },
  {
   "cell_type": "markdown",
   "id": "bca3d64e",
   "metadata": {},
   "source": [
    "Memoization เป็นเทคนิคในการใช้พื้นที่หน่วยความจำในการเก็บข้อมูลการเก็บข้อมูลที่ซ้ำซ้อนไว้ ซึ่ง memoization จะช่วยให้โปรแกรมเข้าถึง caches result หรือข้อมูลที่เคยคำนวณไว้แล้ว และได้เก็บค่าไว้เพื่อหยิบขึ้นมาใช้ แทนการที่จะต้องคำนวณใหม่อีกครั้ง อีกทั้งโปรแกรมจะทำการเช็คว่า input ที่รับมามีผลลัพธ์ที่ถูกคำนวณและจัดเก็บไว้แล้วหรือไม่ ถ้าหาไม่พบก็จะทำการคำนวณและเก็บผลลัพธ์์ไว้ใช้ในภายหลัง ซึ่งจะช่วยลดระยะเวลาในการประมวลผลได้ โดยเฉพาะเมื่อมีการรับ input ที่มีค่าที่เยอะมาก ๆ ก็จะสามารถลดเวลาในการประมวลผลได้\n"
   ]
  },
  {
   "cell_type": "markdown",
   "id": "1230fc70",
   "metadata": {},
   "source": [
    "### How to implement Memoization using decorators in Python"
   ]
  },
  {
   "cell_type": "markdown",
   "id": "7b229210",
   "metadata": {},
   "source": [
    "จะมี function ที่เรียกว่า Decorator ทำหน้าที่ช่วยเก็บข้อมูลให้ในการเรียกใช้ฟังก์ชันใดฟังก์ชันหนึ่ง โดยไม่เปลี่ยนแปลง Observable Behaviour ของฟังก์ชันนั้น ๆ โดยหลักการในการ Implement memoization คือ\n",
    "1. สร้างฟังก์ชัน decorator function ป็นฟังก์ชันที่ต้องการจะ Pass เข้ามา (เรียกว่า Decorator function)\n",
    "2. สร้าง dictionary เพื่อเก็บ cached result ผลลัพธ์จากการคำนวณรอบต่าง ๆ\n",
    "3. สร้างฟังก์ชันภายใน Decorator เพื่อที่จะเรียกใช้ฟังก์ชัน\n",
    "4. ทำการตรวจสอบว่ามี result ของ argument อยู่ใน result dictionary ที่ cache แล้วหรือไม่ ถ้ามีแล้วให้ส่งคืนค่าผลลัพธ์ แต่ถ้าเกิดยังไม่มีให้ทำการบันทึกผลลัพธ์ลงใน dictionary\n",
    "5. ให้ส่งผลลัพธ์ในการคำนวณกลับ\n",
    "\n",
    "เพิ่มเติม :\n",
    "decorator ก็คือตัวที่เอาไว้ตกแต่ง function หรือ class ฉะนั้นในการใช้จึงต้องวางไว้ด้านบนของ function หรือ class นั่นเอง (เพราะมันคือ function ที่ครอบ function อีกที)"
   ]
  },
  {
   "cell_type": "markdown",
   "id": "4b1d0b83",
   "metadata": {},
   "source": [
    "### Example :"
   ]
  },
  {
   "cell_type": "markdown",
   "id": "fe0d7dd1",
   "metadata": {},
   "source": [
    "#### Simple memoization decorator for functions with arguments:"
   ]
  },
  {
   "cell_type": "code",
   "execution_count": null,
   "id": "dcdc3108",
   "metadata": {},
   "outputs": [],
   "source": [
    "def memoize(func):                          \n",
    "    cache = {}                              # สร้าง dictionary ว่างๆ เพื่อให้เก็บ cached result\n",
    "    def inner(*args):                       # กำหนด inner function เพื่อใช้ในการที่จะ decorator\n",
    "        if args not in cache:               # เช็คว่า result ขอว function ถูก cached แล้วหรือยัง\n",
    "            cache[args] = func(*args)       # ถ้ายังจะเรียก original function ที่มี arguments แล้วทำการประมวลผลแล้วเก็บ result ไว่ใน cache\n",
    "        return cache[args]                  # คืนค่า cached ออกมา\n",
    "    return inner                            # คืนค่า inner function ซึ่งตอนนี้ได้เป็น decorator แล้ว"
   ]
  },
  {
   "cell_type": "code",
   "execution_count": null,
   "id": "7cd9e01c",
   "metadata": {},
   "outputs": [],
   "source": [
    "# Example 1 \n",
    "@memoize\n",
    "def fibonacci(n):\n",
    "    if n < 2:\n",
    "        return n\n",
    "    return fibonacci(n - 1) + fibonacci(n - 2)"
   ]
  },
  {
   "cell_type": "code",
   "execution_count": null,
   "id": "0ed15cce",
   "metadata": {},
   "outputs": [
    {
     "name": "stdout",
     "output_type": "stream",
     "text": [
      "354224848179261915075\n"
     ]
    }
   ],
   "source": [
    "print(fibonacci(100))"
   ]
  },
  {
   "cell_type": "code",
   "execution_count": null,
   "id": "e38f9f1f",
   "metadata": {},
   "outputs": [
    {
     "name": "stdout",
     "output_type": "stream",
     "text": [
      "280571172992510140037611932413038677189525\n"
     ]
    }
   ],
   "source": [
    "print(fibonacci(200))"
   ]
  },
  {
   "cell_type": "code",
   "execution_count": null,
   "id": "7726753f",
   "metadata": {},
   "outputs": [],
   "source": [
    "# Example 2\n",
    "@memoize\n",
    "def factorial(n):\n",
    "    if n < 2:\n",
    "        return 1\n",
    "    return n * factorial(n - 1)"
   ]
  },
  {
   "cell_type": "code",
   "execution_count": null,
   "id": "ad800bab",
   "metadata": {},
   "outputs": [
    {
     "name": "stdout",
     "output_type": "stream",
     "text": [
      "93326215443944152681699238856266700490715968264381621468592963895217599993229915608941463976156518286253697920827223758251185210916864000000000000000000000000\n"
     ]
    }
   ],
   "source": [
    "print(factorial(100))"
   ]
  },
  {
   "cell_type": "code",
   "execution_count": null,
   "id": "968496c5",
   "metadata": {},
   "outputs": [
    {
     "name": "stdout",
     "output_type": "stream",
     "text": [
      "788657867364790503552363213932185062295135977687173263294742533244359449963403342920304284011984623904177212138919638830257642790242637105061926624952829931113462857270763317237396988943922445621451664240254033291864131227428294853277524242407573903240321257405579568660226031904170324062351700858796178922222789623703897374720000000000000000000000000000000000000000000000000\n"
     ]
    }
   ],
   "source": [
    "print(factorial(200))"
   ]
  },
  {
   "cell_type": "markdown",
   "id": "78ae5549",
   "metadata": {},
   "source": [
    "## Tabulation\n"
   ]
  },
  {
   "cell_type": "markdown",
   "id": "9656f99c",
   "metadata": {},
   "source": [
    "Tabulation เป็นเทคนิคที่คล้ายกับ Memoization แต่ต่างกันเพียงที่เก็บข้อมูลในรูปแบบของ List แทน Dictionary"
   ]
  },
  {
   "cell_type": "markdown",
   "id": "2032b289",
   "metadata": {},
   "source": [
    "โดยควรกำหนด Table ไว้ข้างนอก inner function เพื่อให้สามารถแช์ across call ได้ และเนื่องจาก Table ถูกวางไว้ข้างนอก inner function จึงทำให้ไม่สามารถทราบค่า n จนกว่าจะมีการเรียกใช้ inner function ให้ขยาย Table โดยใช้วิธี list.extend"
   ]
  },
  {
   "cell_type": "markdown",
   "id": "ae81d65d",
   "metadata": {},
   "source": [
    "### Example"
   ]
  },
  {
   "cell_type": "code",
   "execution_count": null,
   "id": "49cf2c6b",
   "metadata": {},
   "outputs": [],
   "source": [
    "def tabulation(func):       \n",
    "    def inner(n):                                           # กำหนด inner function เพื่อใช้ในการที่จะ decorator\n",
    "        table.extend(map(func, range(len(table), n + 1)))   # ขยาย Table\n",
    "        return table[n]                                     # คืนค่า cached ออกมา\n",
    "\n",
    "    table = []                                              # สร้าง list ไว้เก็บ cached result\n",
    "    return inner                                            # คืนค่า inner function ซึ่งตอนนี้ได้เป็น decorator แล้ว"
   ]
  },
  {
   "cell_type": "code",
   "execution_count": null,
   "id": "35c59eb4",
   "metadata": {},
   "outputs": [],
   "source": [
    "# Example\n",
    "@tabulation\n",
    "def fact(n):\n",
    "    if n < 1:\n",
    "        return 1\n",
    "    return n * fact(n - 1)"
   ]
  },
  {
   "cell_type": "code",
   "execution_count": null,
   "id": "86c1722b",
   "metadata": {},
   "outputs": [
    {
     "data": {
      "text/plain": [
       "2432902008176640000"
      ]
     },
     "metadata": {},
     "output_type": "display_data"
    }
   ],
   "source": [
    "fact(20)"
   ]
  },
  {
   "cell_type": "code",
   "execution_count": null,
   "id": "12023857",
   "metadata": {},
   "outputs": [
    {
     "data": {
      "text/plain": [
       "93326215443944152681699238856266700490715968264381621468592963895217599993229915608941463976156518286253697920827223758251185210916864000000000000000000000000"
      ]
     },
     "metadata": {},
     "output_type": "display_data"
    }
   ],
   "source": [
    "fact(100)"
   ]
  },
  {
   "cell_type": "markdown",
   "id": "fde0a27f",
   "metadata": {},
   "source": [
    "จะสังเกตได้ว่า เมื่อนำ Decorator มาใช้ในการหาอัลกอริทึมที่เป็นแบบ Recursive จะสามารถทำได้ภายในเวลาอันสั้น ต่างจากตอนที่ไม่ได้ใช้เทคนิค Memoization หรือ Tabulation"
   ]
  },
  {
   "cell_type": "markdown",
   "id": "51784704",
   "metadata": {},
   "source": [
    "<hr><br>\n",
    "<div style=\"text-align:center;\">\n",
    "    <b>เป็นคนไม่เอาถ่านบ้านมีเตาแก๊ส</b>\n",
    "    <p style=\"color: greenyellow;\">ศวิษฐ์ โกสียอัมพร 65070506026</p>\n",
    "    <p style=\"color: orange\">ธวัลรัตน์ โรจน์อมรรัตน์ 65070506037</p>\n",
    "    <p style=\"color: hotpink;\">ปุญชญา จันทร์เจริญ 65070506039</p>\n",
    "</div>"
   ]
  }
 ],
 "metadata": {
  "kernelspec": {
   "display_name": "Python 3",
   "language": "python",
   "name": "python3"
  },
  "language_info": {
   "codemirror_mode": {
    "name": "ipython",
    "version": 3
   },
   "file_extension": ".py",
   "mimetype": "text/x-python",
   "name": "python",
   "nbconvert_exporter": "python",
   "pygments_lexer": "ipython3",
   "version": "3.11.4"
  }
 },
 "nbformat": 4,
 "nbformat_minor": 5
}
